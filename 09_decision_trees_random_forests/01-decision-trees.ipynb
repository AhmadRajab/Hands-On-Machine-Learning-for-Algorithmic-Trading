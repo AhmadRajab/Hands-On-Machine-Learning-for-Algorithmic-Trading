{
 "cells": [
  {
   "cell_type": "code",
   "execution_count": 299,
   "metadata": {
    "ExecuteTime": {
     "end_time": "2018-09-26T00:19:47.753094Z",
     "start_time": "2018-09-26T00:19:47.745312Z"
    }
   },
   "outputs": [],
   "source": [
    "%matplotlib inline\n",
    "\n",
    "import warnings\n",
    "import os\n",
    "from pathlib import Path\n",
    "import quandl\n",
    "import numpy as np\n",
    "import pandas as pd\n",
    "\n",
    "import matplotlib.pyplot as plt\n",
    "from matplotlib.ticker import FuncFormatter\n",
    "from matplotlib import cm\n",
    "import seaborn as sns\n",
    "import graphviz\n",
    "from sklearn.tree import DecisionTreeClassifier, DecisionTreeRegressor, export_graphviz, _tree\n",
    "from sklearn.linear_model import LinearRegression, Ridge, LogisticRegression\n",
    "from sklearn.model_selection import train_test_split, cross_val_score, GridSearchCV, learning_curve, KFold\n",
    "from sklearn.metrics import roc_auc_score, roc_curve, mean_squared_error, precision_recall_curve\n",
    "from sklearn.preprocessing import Imputer\n",
    "import statsmodels.api as sm\n",
    "from scipy.interpolate import interp1d, interp2d"
   ]
  },
  {
   "cell_type": "code",
   "execution_count": 2,
   "metadata": {
    "ExecuteTime": {
     "end_time": "2018-09-25T13:47:53.586160Z",
     "start_time": "2018-09-25T13:47:53.583868Z"
    }
   },
   "outputs": [],
   "source": [
    "warnings.filterwarnings('ignore')\n",
    "plt.style.use('ggplot')"
   ]
  },
  {
   "cell_type": "markdown",
   "metadata": {},
   "source": [
    "## Get Data"
   ]
  },
  {
   "cell_type": "code",
   "execution_count": 3,
   "metadata": {
    "ExecuteTime": {
     "end_time": "2018-09-25T13:33:51.934703Z",
     "start_time": "2018-09-25T13:33:46.109822Z"
    }
   },
   "outputs": [
    {
     "name": "stdout",
     "output_type": "stream",
     "text": [
      "<class 'pandas.io.pytables.HDFStore'>\n",
      "File path: ../data/assets.h5\n",
      "/fred/assets                   frame        (shape->[4826,5])     \n",
      "/quandl/wiki/prices            frame        (shape->[15389314,12])\n",
      "/quandl/wiki/stocks            frame        (shape->[1,2])        \n",
      "/sp500/prices                  frame        (shape->[37721,5])    \n",
      "/sp500/stocks                  frame        (shape->[1,7])        \n",
      "/us_equities/stocks            frame        (shape->[1,6])        \n"
     ]
    }
   ],
   "source": [
    "with pd.HDFStore('../data/assets.h5') as store:\n",
    "    print(store.info())\n",
    "    prices = store['quandl/wiki/prices'].adj_close.unstack('ticker')\n",
    "    stocks = store['us_equities/stocks']"
   ]
  },
  {
   "cell_type": "code",
   "execution_count": 4,
   "metadata": {
    "ExecuteTime": {
     "end_time": "2018-09-25T13:33:51.959646Z",
     "start_time": "2018-09-25T13:33:51.936448Z"
    }
   },
   "outputs": [],
   "source": [
    "shared = prices.columns.intersection(stocks.index)\n",
    "prices = prices.loc['2010': '2018', shared]\n",
    "stocks = stocks.loc[shared, ['marketcap', 'ipoyear', 'sector']]"
   ]
  },
  {
   "cell_type": "code",
   "execution_count": null,
   "metadata": {
    "ExecuteTime": {
     "end_time": "2018-09-24T22:42:23.577399Z",
     "start_time": "2018-09-24T22:42:23.529692Z"
    }
   },
   "outputs": [],
   "source": [
    "prices.info()"
   ]
  },
  {
   "cell_type": "markdown",
   "metadata": {},
   "source": [
    "### Create monthly returns"
   ]
  },
  {
   "cell_type": "markdown",
   "metadata": {},
   "source": [
    "Remove outliers"
   ]
  },
  {
   "cell_type": "code",
   "execution_count": null,
   "metadata": {
    "ExecuteTime": {
     "end_time": "2018-09-24T22:42:53.002988Z",
     "start_time": "2018-09-24T22:42:52.975975Z"
    }
   },
   "outputs": [],
   "source": [
    "returns = prices.resample('M').pct_change().stack().swaplevel()\n",
    "returns = returns[returns.between(left=returns.quantile(.05), right=returns.quantile(.95))].to_frame('returns')"
   ]
  },
  {
   "cell_type": "code",
   "execution_count": null,
   "metadata": {
    "ExecuteTime": {
     "end_time": "2018-09-24T22:42:54.319627Z",
     "start_time": "2018-09-24T22:42:54.151364Z"
    }
   },
   "outputs": [],
   "source": [
    "for t in range(1, 13):\n",
    "    returns[f't-{t}'] = returns.groupby(level='ticker').returns.shift(t)\n",
    "returns = returns.dropna()"
   ]
  },
  {
   "cell_type": "code",
   "execution_count": null,
   "metadata": {
    "ExecuteTime": {
     "end_time": "2018-09-24T22:42:55.855234Z",
     "start_time": "2018-09-24T22:42:55.777727Z"
    }
   },
   "outputs": [],
   "source": [
    "dates = returns.index.get_level_values('date')\n",
    "returns['year'] = dates.year\n",
    "returns['month'] = dates.month\n",
    "returns = pd.get_dummies(returns, columns=['year', 'month'])\n",
    "returns = returns.reset_index('date', drop=True)"
   ]
  },
  {
   "cell_type": "code",
   "execution_count": null,
   "metadata": {
    "ExecuteTime": {
     "end_time": "2018-09-24T22:42:57.764421Z",
     "start_time": "2018-09-24T22:42:57.694262Z"
    }
   },
   "outputs": [],
   "source": [
    "returns.info()"
   ]
  },
  {
   "cell_type": "code",
   "execution_count": null,
   "metadata": {
    "ExecuteTime": {
     "end_time": "2018-09-24T22:43:10.234797Z",
     "start_time": "2018-09-24T22:43:10.229051Z"
    }
   },
   "outputs": [],
   "source": [
    "stocks.info()\n",
    "stocks.ipoyear = pd.qcut(stocks.ipoyear, q=5, labels=list(range(1, 6)))"
   ]
  },
  {
   "cell_type": "code",
   "execution_count": null,
   "metadata": {
    "ExecuteTime": {
     "end_time": "2018-09-24T22:43:11.470556Z",
     "start_time": "2018-09-24T22:43:11.461269Z"
    }
   },
   "outputs": [],
   "source": [
    "stocks.marketcap = stocks.marketcap.str.replace('$', '')\n",
    "stocks['mcap'] = stocks.marketcap.str[-1]\n",
    "stocks.marketcap =  pd.to_numeric(stocks.marketcap.str[:-1])\n",
    "stocks = stocks[stocks.mcap.isin(['B', 'M'])]\n",
    "stocks.info()"
   ]
  },
  {
   "cell_type": "code",
   "execution_count": null,
   "metadata": {
    "ExecuteTime": {
     "end_time": "2018-09-24T22:43:16.345299Z",
     "start_time": "2018-09-24T22:43:16.260035Z"
    }
   },
   "outputs": [],
   "source": [
    "stocks.marketcap = stocks.apply(lambda x: x.marketcap * 1000 if x.mcap == 'B' else x.marketcap, axis=1)\n",
    "stocks.marketcap = pd.qcut(stocks.marketcap, q=10, labels=list(range(1, 11)))\n",
    "stocks = stocks.drop('mcap', axis=1)"
   ]
  },
  {
   "cell_type": "code",
   "execution_count": null,
   "metadata": {
    "ExecuteTime": {
     "end_time": "2018-09-24T22:43:17.209475Z",
     "start_time": "2018-09-24T22:43:17.201160Z"
    }
   },
   "outputs": [],
   "source": [
    "stocks = pd.get_dummies(stocks, prefix=['size', 'age', ''], prefix_sep=['_', '_', ''])\n",
    "stocks.info()"
   ]
  },
  {
   "cell_type": "code",
   "execution_count": null,
   "metadata": {
    "ExecuteTime": {
     "end_time": "2018-09-24T22:44:02.006559Z",
     "start_time": "2018-09-24T22:44:01.225302Z"
    },
    "scrolled": true
   },
   "outputs": [],
   "source": [
    "data = returns.join(stocks).dropna()\n",
    "s = len(returns.columns)\n",
    "data.iloc[:, s:] = data.iloc[:, s:].astype(int).apply(pd.to_numeric, downcast='integer')\n",
    "data.info()"
   ]
  },
  {
   "cell_type": "code",
   "execution_count": null,
   "metadata": {
    "ExecuteTime": {
     "end_time": "2018-09-24T22:44:14.030765Z",
     "start_time": "2018-09-24T22:44:13.957272Z"
    }
   },
   "outputs": [],
   "source": [
    "with pd.HDFStore('data.h5') as store:\n",
    "    store.put('data', data)"
   ]
  },
  {
   "cell_type": "code",
   "execution_count": 3,
   "metadata": {
    "ExecuteTime": {
     "end_time": "2018-09-25T13:47:58.595156Z",
     "start_time": "2018-09-25T13:47:58.256622Z"
    }
   },
   "outputs": [
    {
     "name": "stdout",
     "output_type": "stream",
     "text": [
      "<class 'pandas.core.frame.DataFrame'>\n",
      "Index: 174551 entries, A to ZUMZ\n",
      "Data columns (total 43 columns):\n",
      "returns                  174551 non-null float64\n",
      "t-1                      174551 non-null float64\n",
      "t-2                      174551 non-null float64\n",
      "t-3                      174551 non-null float64\n",
      "t-4                      174551 non-null float64\n",
      "t-5                      174551 non-null float64\n",
      "t-6                      174551 non-null float64\n",
      "year_2010                174551 non-null uint8\n",
      "year_2011                174551 non-null uint8\n",
      "year_2012                174551 non-null uint8\n",
      "year_2013                174551 non-null uint8\n",
      "year_2014                174551 non-null uint8\n",
      "year_2015                174551 non-null uint8\n",
      "year_2016                174551 non-null uint8\n",
      "year_2017                174551 non-null uint8\n",
      "year_2018                174551 non-null uint8\n",
      "size_1                   174551 non-null int8\n",
      "size_2                   174551 non-null int8\n",
      "size_3                   174551 non-null int8\n",
      "size_4                   174551 non-null int8\n",
      "size_5                   174551 non-null int8\n",
      "size_6                   174551 non-null int8\n",
      "size_7                   174551 non-null int8\n",
      "size_8                   174551 non-null int8\n",
      "size_9                   174551 non-null int8\n",
      "size_10                  174551 non-null int8\n",
      "age_1                    174551 non-null int8\n",
      "age_2                    174551 non-null int8\n",
      "age_3                    174551 non-null int8\n",
      "age_4                    174551 non-null int8\n",
      "age_5                    174551 non-null int8\n",
      "Basic Industries         174551 non-null int8\n",
      "Capital Goods            174551 non-null int8\n",
      "Consumer Durables        174551 non-null int8\n",
      "Consumer Non-Durables    174551 non-null int8\n",
      "Consumer Services        174551 non-null int8\n",
      "Energy                   174551 non-null int8\n",
      "Finance                  174551 non-null int8\n",
      "Health Care              174551 non-null int8\n",
      "Miscellaneous            174551 non-null int8\n",
      "Public Utilities         174551 non-null int8\n",
      "Technology               174551 non-null int8\n",
      "Transportation           174551 non-null int8\n",
      "dtypes: float64(7), int8(27), uint8(9)\n",
      "memory usage: 16.6+ MB\n"
     ]
    }
   ],
   "source": [
    "with pd.HDFStore('data.h5') as store:\n",
    "    data = store['data']\n",
    "    data = data.drop([f't-{t}' for t in range(7, 13)] + [c for c in data.columns if c.startswith('month')], axis=1)\n",
    "data.info()"
   ]
  },
  {
   "cell_type": "markdown",
   "metadata": {},
   "source": [
    "### Stock Prices"
   ]
  },
  {
   "cell_type": "code",
   "execution_count": 4,
   "metadata": {
    "ExecuteTime": {
     "end_time": "2018-09-25T13:48:00.858400Z",
     "start_time": "2018-09-25T13:48:00.839022Z"
    }
   },
   "outputs": [],
   "source": [
    "y = data.returns\n",
    "X = data.drop('returns', axis=1)"
   ]
  },
  {
   "cell_type": "markdown",
   "metadata": {},
   "source": [
    "## Explore Data"
   ]
  },
  {
   "cell_type": "code",
   "execution_count": 5,
   "metadata": {
    "ExecuteTime": {
     "end_time": "2018-09-25T13:48:01.861016Z",
     "start_time": "2018-09-25T13:48:01.823176Z"
    }
   },
   "outputs": [
    {
     "data": {
      "text/plain": [
       "count    174551.000000\n",
       "mean          0.009913\n",
       "std           0.055606\n",
       "min          -0.128560\n",
       "10%          -0.064080\n",
       "20%          -0.036451\n",
       "30.0%        -0.017798\n",
       "40%          -0.002855\n",
       "50%           0.010522\n",
       "60%           0.023904\n",
       "70%           0.038457\n",
       "80%           0.056050\n",
       "90%           0.082772\n",
       "max           0.146335\n",
       "Name: returns, dtype: float64"
      ]
     },
     "execution_count": 5,
     "metadata": {},
     "output_type": "execute_result"
    }
   ],
   "source": [
    "y.describe(percentiles=np.arange(.1, .91, .1))"
   ]
  },
  {
   "cell_type": "code",
   "execution_count": 6,
   "metadata": {
    "ExecuteTime": {
     "end_time": "2018-09-25T13:48:02.067046Z",
     "start_time": "2018-09-25T13:48:02.061158Z"
    }
   },
   "outputs": [],
   "source": [
    "y_binary = (y>0).astype(int)"
   ]
  },
  {
   "cell_type": "markdown",
   "metadata": {},
   "source": [
    "## 2-Feature Decision Tree"
   ]
  },
  {
   "cell_type": "code",
   "execution_count": 7,
   "metadata": {
    "ExecuteTime": {
     "end_time": "2018-09-25T13:48:03.784899Z",
     "start_time": "2018-09-25T13:48:03.775293Z"
    }
   },
   "outputs": [
    {
     "name": "stdout",
     "output_type": "stream",
     "text": [
      "<class 'pandas.core.frame.DataFrame'>\n",
      "Index: 174551 entries, A to ZUMZ\n",
      "Data columns (total 2 columns):\n",
      "t-1    174551 non-null float64\n",
      "t-2    174551 non-null float64\n",
      "dtypes: float64(2)\n",
      "memory usage: 4.0+ MB\n"
     ]
    }
   ],
   "source": [
    "X2 = X.loc[:, ['t-1', 't-2']]\n",
    "X2.info()"
   ]
  },
  {
   "cell_type": "markdown",
   "metadata": {},
   "source": [
    "### Regression Tree"
   ]
  },
  {
   "cell_type": "markdown",
   "metadata": {},
   "source": [
    "#### Configure Tree"
   ]
  },
  {
   "cell_type": "code",
   "execution_count": 8,
   "metadata": {
    "ExecuteTime": {
     "end_time": "2018-09-25T13:48:17.443117Z",
     "start_time": "2018-09-25T13:48:17.437178Z"
    }
   },
   "outputs": [],
   "source": [
    "regression_tree = DecisionTreeRegressor(criterion='mse', \n",
    "                                        splitter='best', \n",
    "                                        max_depth=4,\n",
    "                                        min_samples_split=2, \n",
    "                                        min_samples_leaf=1, \n",
    "                                        min_weight_fraction_leaf=0.0,\n",
    "                                        max_features=None, \n",
    "                                        random_state=42, \n",
    "                                        max_leaf_nodes=None, \n",
    "                                        min_impurity_decrease=0.0, \n",
    "                                        min_impurity_split=None, \n",
    "                                        presort=False)"
   ]
  },
  {
   "cell_type": "markdown",
   "metadata": {},
   "source": [
    "#### Train Decision Tree"
   ]
  },
  {
   "cell_type": "code",
   "execution_count": 9,
   "metadata": {
    "ExecuteTime": {
     "end_time": "2018-09-25T13:48:28.334130Z",
     "start_time": "2018-09-25T13:48:17.955650Z"
    }
   },
   "outputs": [
    {
     "name": "stdout",
     "output_type": "stream",
     "text": [
      "128 ms ± 2.61 ms per loop (mean ± std. dev. of 7 runs, 10 loops each)\n"
     ]
    }
   ],
   "source": [
    "%%timeit\n",
    "regression_tree.fit(X=X2, y=y)"
   ]
  },
  {
   "cell_type": "markdown",
   "metadata": {},
   "source": [
    "#### Visualize Tree"
   ]
  },
  {
   "cell_type": "code",
   "execution_count": 10,
   "metadata": {
    "ExecuteTime": {
     "end_time": "2018-09-25T13:48:28.365292Z",
     "start_time": "2018-09-25T13:48:28.335745Z"
    }
   },
   "outputs": [
    {
     "data": {
      "image/svg+xml": [
       "<?xml version=\"1.0\" encoding=\"UTF-8\" standalone=\"no\"?>\n",
       "<!DOCTYPE svg PUBLIC \"-//W3C//DTD SVG 1.1//EN\"\n",
       " \"http://www.w3.org/Graphics/SVG/1.1/DTD/svg11.dtd\">\n",
       "<!-- Generated by graphviz version 2.40.1 (20161225.0304)\n",
       " -->\n",
       "<!-- Title: Tree Pages: 1 -->\n",
       "<svg width=\"1174pt\" height=\"460pt\"\n",
       " viewBox=\"0.00 0.00 1174.00 460.00\" xmlns=\"http://www.w3.org/2000/svg\" xmlns:xlink=\"http://www.w3.org/1999/xlink\">\n",
       "<g id=\"graph0\" class=\"graph\" transform=\"scale(1 1) rotate(0) translate(4 456)\">\n",
       "<title>Tree</title>\n",
       "<polygon fill=\"#ffffff\" stroke=\"transparent\" points=\"-4,4 -4,-456 1170,-456 1170,4 -4,4\"/>\n",
       "<!-- 0 -->\n",
       "<g id=\"node1\" class=\"node\">\n",
       "<title>0</title>\n",
       "<path fill=\"#e58139\" fill-opacity=\"0.537255\" stroke=\"#000000\" d=\"M701,-452C701,-452 597,-452 597,-452 591,-452 585,-446 585,-440 585,-440 585,-396 585,-396 585,-390 591,-384 597,-384 597,-384 701,-384 701,-384 707,-384 713,-390 713,-396 713,-396 713,-440 713,-440 713,-446 707,-452 701,-452\"/>\n",
       "<text text-anchor=\"start\" x=\"616\" y=\"-436.8\" font-family=\"Helvetica,sans-Serif\" font-size=\"14.00\" fill=\"#000000\">t&#45;1 ≤ 0.004</text>\n",
       "<text text-anchor=\"start\" x=\"611\" y=\"-421.8\" font-family=\"Helvetica,sans-Serif\" font-size=\"14.00\" fill=\"#000000\">mse = 0.003</text>\n",
       "<text text-anchor=\"start\" x=\"593\" y=\"-406.8\" font-family=\"Helvetica,sans-Serif\" font-size=\"14.00\" fill=\"#000000\">samples = 174551</text>\n",
       "<text text-anchor=\"start\" x=\"611.5\" y=\"-391.8\" font-family=\"Helvetica,sans-Serif\" font-size=\"14.00\" fill=\"#000000\">value = 0.01</text>\n",
       "</g>\n",
       "<!-- 1 -->\n",
       "<g id=\"node2\" class=\"node\">\n",
       "<title>1</title>\n",
       "<path fill=\"#e58139\" fill-opacity=\"0.286275\" stroke=\"#000000\" d=\"M489.5,-348C489.5,-348 392.5,-348 392.5,-348 386.5,-348 380.5,-342 380.5,-336 380.5,-336 380.5,-292 380.5,-292 380.5,-286 386.5,-280 392.5,-280 392.5,-280 489.5,-280 489.5,-280 495.5,-280 501.5,-286 501.5,-292 501.5,-292 501.5,-336 501.5,-336 501.5,-342 495.5,-348 489.5,-348\"/>\n",
       "<text text-anchor=\"start\" x=\"406\" y=\"-332.8\" font-family=\"Helvetica,sans-Serif\" font-size=\"14.00\" fill=\"#000000\">t&#45;1 ≤ &#45;0.045</text>\n",
       "<text text-anchor=\"start\" x=\"403\" y=\"-317.8\" font-family=\"Helvetica,sans-Serif\" font-size=\"14.00\" fill=\"#000000\">mse = 0.003</text>\n",
       "<text text-anchor=\"start\" x=\"388.5\" y=\"-302.8\" font-family=\"Helvetica,sans-Serif\" font-size=\"14.00\" fill=\"#000000\">samples = 78570</text>\n",
       "<text text-anchor=\"start\" x=\"400\" y=\"-287.8\" font-family=\"Helvetica,sans-Serif\" font-size=\"14.00\" fill=\"#000000\">value = 0.002</text>\n",
       "</g>\n",
       "<!-- 0&#45;&gt;1 -->\n",
       "<g id=\"edge1\" class=\"edge\">\n",
       "<title>0&#45;&gt;1</title>\n",
       "<path fill=\"none\" stroke=\"#000000\" d=\"M584.8959,-385.948C561.3986,-374.1993 534.6986,-360.8493 510.7321,-348.8661\"/>\n",
       "<polygon fill=\"#000000\" stroke=\"#000000\" points=\"512.2025,-345.6882 501.6929,-344.3465 509.0719,-351.9492 512.2025,-345.6882\"/>\n",
       "<text text-anchor=\"middle\" x=\"509.5986\" y=\"-364.3635\" font-family=\"Helvetica,sans-Serif\" font-size=\"14.00\" fill=\"#000000\">True</text>\n",
       "</g>\n",
       "<!-- 16 -->\n",
       "<g id=\"node17\" class=\"node\">\n",
       "<title>16</title>\n",
       "<path fill=\"#e58139\" fill-opacity=\"0.745098\" stroke=\"#000000\" d=\"M768.5,-348C768.5,-348 671.5,-348 671.5,-348 665.5,-348 659.5,-342 659.5,-336 659.5,-336 659.5,-292 659.5,-292 659.5,-286 665.5,-280 671.5,-280 671.5,-280 768.5,-280 768.5,-280 774.5,-280 780.5,-286 780.5,-292 780.5,-292 780.5,-336 780.5,-336 780.5,-342 774.5,-348 768.5,-348\"/>\n",
       "<text text-anchor=\"start\" x=\"687\" y=\"-332.8\" font-family=\"Helvetica,sans-Serif\" font-size=\"14.00\" fill=\"#000000\">t&#45;1 ≤ 0.042</text>\n",
       "<text text-anchor=\"start\" x=\"682\" y=\"-317.8\" font-family=\"Helvetica,sans-Serif\" font-size=\"14.00\" fill=\"#000000\">mse = 0.003</text>\n",
       "<text text-anchor=\"start\" x=\"667.5\" y=\"-302.8\" font-family=\"Helvetica,sans-Serif\" font-size=\"14.00\" fill=\"#000000\">samples = 95981</text>\n",
       "<text text-anchor=\"start\" x=\"679\" y=\"-287.8\" font-family=\"Helvetica,sans-Serif\" font-size=\"14.00\" fill=\"#000000\">value = 0.016</text>\n",
       "</g>\n",
       "<!-- 0&#45;&gt;16 -->\n",
       "<g id=\"edge16\" class=\"edge\">\n",
       "<title>0&#45;&gt;16</title>\n",
       "<path fill=\"none\" stroke=\"#000000\" d=\"M672.2481,-383.9465C678.255,-375.1475 684.7955,-365.5672 691.0543,-356.3993\"/>\n",
       "<polygon fill=\"#000000\" stroke=\"#000000\" points=\"693.952,-358.3623 696.6997,-348.13 688.1707,-354.4155 693.952,-358.3623\"/>\n",
       "<text text-anchor=\"middle\" x=\"701.3324\" y=\"-368.997\" font-family=\"Helvetica,sans-Serif\" font-size=\"14.00\" fill=\"#000000\">False</text>\n",
       "</g>\n",
       "<!-- 2 -->\n",
       "<g id=\"node3\" class=\"node\">\n",
       "<title>2</title>\n",
       "<path fill=\"#e58139\" fill-opacity=\"0.137255\" stroke=\"#000000\" d=\"M281.5,-244C281.5,-244 184.5,-244 184.5,-244 178.5,-244 172.5,-238 172.5,-232 172.5,-232 172.5,-188 172.5,-188 172.5,-182 178.5,-176 184.5,-176 184.5,-176 281.5,-176 281.5,-176 287.5,-176 293.5,-182 293.5,-188 293.5,-188 293.5,-232 293.5,-232 293.5,-238 287.5,-244 281.5,-244\"/>\n",
       "<text text-anchor=\"start\" x=\"198\" y=\"-228.8\" font-family=\"Helvetica,sans-Serif\" font-size=\"14.00\" fill=\"#000000\">t&#45;2 ≤ &#45;0.079</text>\n",
       "<text text-anchor=\"start\" x=\"195\" y=\"-213.8\" font-family=\"Helvetica,sans-Serif\" font-size=\"14.00\" fill=\"#000000\">mse = 0.004</text>\n",
       "<text text-anchor=\"start\" x=\"180.5\" y=\"-198.8\" font-family=\"Helvetica,sans-Serif\" font-size=\"14.00\" fill=\"#000000\">samples = 28735</text>\n",
       "<text text-anchor=\"start\" x=\"189.5\" y=\"-183.8\" font-family=\"Helvetica,sans-Serif\" font-size=\"14.00\" fill=\"#000000\">value = &#45;0.002</text>\n",
       "</g>\n",
       "<!-- 1&#45;&gt;2 -->\n",
       "<g id=\"edge2\" class=\"edge\">\n",
       "<title>1&#45;&gt;2</title>\n",
       "<path fill=\"none\" stroke=\"#000000\" d=\"M380.2786,-283.6393C356.0362,-271.5181 327.9751,-257.4876 302.891,-244.9455\"/>\n",
       "<polygon fill=\"#000000\" stroke=\"#000000\" points=\"304.3064,-241.7401 293.7968,-240.3984 301.1758,-248.0011 304.3064,-241.7401\"/>\n",
       "</g>\n",
       "<!-- 9 -->\n",
       "<g id=\"node10\" class=\"node\">\n",
       "<title>9</title>\n",
       "<path fill=\"#e58139\" fill-opacity=\"0.368627\" stroke=\"#000000\" d=\"M489.5,-244C489.5,-244 392.5,-244 392.5,-244 386.5,-244 380.5,-238 380.5,-232 380.5,-232 380.5,-188 380.5,-188 380.5,-182 386.5,-176 392.5,-176 392.5,-176 489.5,-176 489.5,-176 495.5,-176 501.5,-182 501.5,-188 501.5,-188 501.5,-232 501.5,-232 501.5,-238 495.5,-244 489.5,-244\"/>\n",
       "<text text-anchor=\"start\" x=\"408\" y=\"-228.8\" font-family=\"Helvetica,sans-Serif\" font-size=\"14.00\" fill=\"#000000\">t&#45;2 ≤ 0.021</text>\n",
       "<text text-anchor=\"start\" x=\"403\" y=\"-213.8\" font-family=\"Helvetica,sans-Serif\" font-size=\"14.00\" fill=\"#000000\">mse = 0.003</text>\n",
       "<text text-anchor=\"start\" x=\"388.5\" y=\"-198.8\" font-family=\"Helvetica,sans-Serif\" font-size=\"14.00\" fill=\"#000000\">samples = 49835</text>\n",
       "<text text-anchor=\"start\" x=\"400\" y=\"-183.8\" font-family=\"Helvetica,sans-Serif\" font-size=\"14.00\" fill=\"#000000\">value = 0.005</text>\n",
       "</g>\n",
       "<!-- 1&#45;&gt;9 -->\n",
       "<g id=\"edge9\" class=\"edge\">\n",
       "<title>1&#45;&gt;9</title>\n",
       "<path fill=\"none\" stroke=\"#000000\" d=\"M441,-279.9465C441,-271.776 441,-262.9318 441,-254.3697\"/>\n",
       "<polygon fill=\"#000000\" stroke=\"#000000\" points=\"444.5001,-254.13 441,-244.13 437.5001,-254.13 444.5001,-254.13\"/>\n",
       "</g>\n",
       "<!-- 3 -->\n",
       "<g id=\"node4\" class=\"node\">\n",
       "<title>3</title>\n",
       "<path fill=\"#e58139\" fill-opacity=\"0.419608\" stroke=\"#000000\" d=\"M142.5,-140C142.5,-140 53.5,-140 53.5,-140 47.5,-140 41.5,-134 41.5,-128 41.5,-128 41.5,-84 41.5,-84 41.5,-78 47.5,-72 53.5,-72 53.5,-72 142.5,-72 142.5,-72 148.5,-72 154.5,-78 154.5,-84 154.5,-84 154.5,-128 154.5,-128 154.5,-134 148.5,-140 142.5,-140\"/>\n",
       "<text text-anchor=\"start\" x=\"63\" y=\"-124.8\" font-family=\"Helvetica,sans-Serif\" font-size=\"14.00\" fill=\"#000000\">t&#45;2 ≤ &#45;0.121</text>\n",
       "<text text-anchor=\"start\" x=\"60\" y=\"-109.8\" font-family=\"Helvetica,sans-Serif\" font-size=\"14.00\" fill=\"#000000\">mse = 0.004</text>\n",
       "<text text-anchor=\"start\" x=\"49.5\" y=\"-94.8\" font-family=\"Helvetica,sans-Serif\" font-size=\"14.00\" fill=\"#000000\">samples = 3184</text>\n",
       "<text text-anchor=\"start\" x=\"57\" y=\"-79.8\" font-family=\"Helvetica,sans-Serif\" font-size=\"14.00\" fill=\"#000000\">value = 0.006</text>\n",
       "</g>\n",
       "<!-- 2&#45;&gt;3 -->\n",
       "<g id=\"edge3\" class=\"edge\">\n",
       "<title>2&#45;&gt;3</title>\n",
       "<path fill=\"none\" stroke=\"#000000\" d=\"M188.796,-175.9465C176.5584,-166.519 163.1564,-156.1946 150.4962,-146.4415\"/>\n",
       "<polygon fill=\"#000000\" stroke=\"#000000\" points=\"152.3612,-143.4601 142.3034,-140.13 148.0893,-149.0055 152.3612,-143.4601\"/>\n",
       "</g>\n",
       "<!-- 6 -->\n",
       "<g id=\"node7\" class=\"node\">\n",
       "<title>6</title>\n",
       "<path fill=\"#e58139\" fill-opacity=\"0.101961\" stroke=\"#000000\" d=\"M281.5,-140C281.5,-140 184.5,-140 184.5,-140 178.5,-140 172.5,-134 172.5,-128 172.5,-128 172.5,-84 172.5,-84 172.5,-78 178.5,-72 184.5,-72 184.5,-72 281.5,-72 281.5,-72 287.5,-72 293.5,-78 293.5,-84 293.5,-84 293.5,-128 293.5,-128 293.5,-134 287.5,-140 281.5,-140\"/>\n",
       "<text text-anchor=\"start\" x=\"198\" y=\"-124.8\" font-family=\"Helvetica,sans-Serif\" font-size=\"14.00\" fill=\"#000000\">t&#45;1 ≤ &#45;0.088</text>\n",
       "<text text-anchor=\"start\" x=\"195\" y=\"-109.8\" font-family=\"Helvetica,sans-Serif\" font-size=\"14.00\" fill=\"#000000\">mse = 0.004</text>\n",
       "<text text-anchor=\"start\" x=\"180.5\" y=\"-94.8\" font-family=\"Helvetica,sans-Serif\" font-size=\"14.00\" fill=\"#000000\">samples = 25551</text>\n",
       "<text text-anchor=\"start\" x=\"189.5\" y=\"-79.8\" font-family=\"Helvetica,sans-Serif\" font-size=\"14.00\" fill=\"#000000\">value = &#45;0.003</text>\n",
       "</g>\n",
       "<!-- 2&#45;&gt;6 -->\n",
       "<g id=\"edge6\" class=\"edge\">\n",
       "<title>2&#45;&gt;6</title>\n",
       "<path fill=\"none\" stroke=\"#000000\" d=\"M233,-175.9465C233,-167.776 233,-158.9318 233,-150.3697\"/>\n",
       "<polygon fill=\"#000000\" stroke=\"#000000\" points=\"236.5001,-150.13 233,-140.13 229.5001,-150.13 236.5001,-150.13\"/>\n",
       "</g>\n",
       "<!-- 4 -->\n",
       "<g id=\"node5\" class=\"node\">\n",
       "<title>4</title>\n",
       "<path fill=\"#c0c0c0\" stroke=\"#000000\" d=\"M42,-36C42,-36 12,-36 12,-36 6,-36 0,-30 0,-24 0,-24 0,-12 0,-12 0,-6 6,0 12,0 12,0 42,0 42,0 48,0 54,-6 54,-12 54,-12 54,-24 54,-24 54,-30 48,-36 42,-36\"/>\n",
       "<text text-anchor=\"middle\" x=\"27\" y=\"-14.3\" font-family=\"Helvetica,sans-Serif\" font-size=\"14.00\" fill=\"#000000\">(...)</text>\n",
       "</g>\n",
       "<!-- 3&#45;&gt;4 -->\n",
       "<g id=\"edge4\" class=\"edge\">\n",
       "<title>3&#45;&gt;4</title>\n",
       "<path fill=\"none\" stroke=\"#000000\" d=\"M70.5495,-71.9769C63.0975,-62.7406 55.1459,-52.8851 48.1042,-44.1573\"/>\n",
       "<polygon fill=\"#000000\" stroke=\"#000000\" points=\"50.6809,-41.777 41.6776,-36.192 45.2329,-46.1725 50.6809,-41.777\"/>\n",
       "</g>\n",
       "<!-- 5 -->\n",
       "<g id=\"node6\" class=\"node\">\n",
       "<title>5</title>\n",
       "<path fill=\"#c0c0c0\" stroke=\"#000000\" d=\"M114,-36C114,-36 84,-36 84,-36 78,-36 72,-30 72,-24 72,-24 72,-12 72,-12 72,-6 78,0 84,0 84,0 114,0 114,0 120,0 126,-6 126,-12 126,-12 126,-24 126,-24 126,-30 120,-36 114,-36\"/>\n",
       "<text text-anchor=\"middle\" x=\"99\" y=\"-14.3\" font-family=\"Helvetica,sans-Serif\" font-size=\"14.00\" fill=\"#000000\">(...)</text>\n",
       "</g>\n",
       "<!-- 3&#45;&gt;5 -->\n",
       "<g id=\"edge5\" class=\"edge\">\n",
       "<title>3&#45;&gt;5</title>\n",
       "<path fill=\"none\" stroke=\"#000000\" d=\"M98.3866,-71.9769C98.4829,-63.5023 98.5852,-54.5065 98.678,-46.3388\"/>\n",
       "<polygon fill=\"#000000\" stroke=\"#000000\" points=\"102.1793,-46.2311 98.7933,-36.192 95.1798,-46.1515 102.1793,-46.2311\"/>\n",
       "</g>\n",
       "<!-- 7 -->\n",
       "<g id=\"node8\" class=\"node\">\n",
       "<title>7</title>\n",
       "<path fill=\"#c0c0c0\" stroke=\"#000000\" d=\"M202,-36C202,-36 172,-36 172,-36 166,-36 160,-30 160,-24 160,-24 160,-12 160,-12 160,-6 166,0 172,0 172,0 202,0 202,0 208,0 214,-6 214,-12 214,-12 214,-24 214,-24 214,-30 208,-36 202,-36\"/>\n",
       "<text text-anchor=\"middle\" x=\"187\" y=\"-14.3\" font-family=\"Helvetica,sans-Serif\" font-size=\"14.00\" fill=\"#000000\">(...)</text>\n",
       "</g>\n",
       "<!-- 6&#45;&gt;7 -->\n",
       "<g id=\"edge7\" class=\"edge\">\n",
       "<title>6&#45;&gt;7</title>\n",
       "<path fill=\"none\" stroke=\"#000000\" d=\"M215.2152,-71.9769C210.5862,-63.1215 205.6597,-53.6969 201.2405,-45.2427\"/>\n",
       "<polygon fill=\"#000000\" stroke=\"#000000\" points=\"204.2438,-43.4328 196.5094,-36.192 198.0402,-46.6756 204.2438,-43.4328\"/>\n",
       "</g>\n",
       "<!-- 8 -->\n",
       "<g id=\"node9\" class=\"node\">\n",
       "<title>8</title>\n",
       "<path fill=\"#c0c0c0\" stroke=\"#000000\" d=\"M274,-36C274,-36 244,-36 244,-36 238,-36 232,-30 232,-24 232,-24 232,-12 232,-12 232,-6 238,0 244,0 244,0 274,0 274,0 280,0 286,-6 286,-12 286,-12 286,-24 286,-24 286,-30 280,-36 274,-36\"/>\n",
       "<text text-anchor=\"middle\" x=\"259\" y=\"-14.3\" font-family=\"Helvetica,sans-Serif\" font-size=\"14.00\" fill=\"#000000\">(...)</text>\n",
       "</g>\n",
       "<!-- 6&#45;&gt;8 -->\n",
       "<g id=\"edge8\" class=\"edge\">\n",
       "<title>6&#45;&gt;8</title>\n",
       "<path fill=\"none\" stroke=\"#000000\" d=\"M243.0523,-71.9769C245.6124,-63.3119 248.3335,-54.102 250.7895,-45.7894\"/>\n",
       "<polygon fill=\"#000000\" stroke=\"#000000\" points=\"254.1481,-46.7739 253.6251,-36.192 247.435,-44.7904 254.1481,-46.7739\"/>\n",
       "</g>\n",
       "<!-- 10 -->\n",
       "<g id=\"node11\" class=\"node\">\n",
       "<title>10</title>\n",
       "<path fill=\"#e58139\" fill-opacity=\"0.443137\" stroke=\"#000000\" d=\"M420.5,-140C420.5,-140 323.5,-140 323.5,-140 317.5,-140 311.5,-134 311.5,-128 311.5,-128 311.5,-84 311.5,-84 311.5,-78 317.5,-72 323.5,-72 323.5,-72 420.5,-72 420.5,-72 426.5,-72 432.5,-78 432.5,-84 432.5,-84 432.5,-128 432.5,-128 432.5,-134 426.5,-140 420.5,-140\"/>\n",
       "<text text-anchor=\"start\" x=\"337\" y=\"-124.8\" font-family=\"Helvetica,sans-Serif\" font-size=\"14.00\" fill=\"#000000\">t&#45;2 ≤ &#45;0.044</text>\n",
       "<text text-anchor=\"start\" x=\"334\" y=\"-109.8\" font-family=\"Helvetica,sans-Serif\" font-size=\"14.00\" fill=\"#000000\">mse = 0.003</text>\n",
       "<text text-anchor=\"start\" x=\"319.5\" y=\"-94.8\" font-family=\"Helvetica,sans-Serif\" font-size=\"14.00\" fill=\"#000000\">samples = 30693</text>\n",
       "<text text-anchor=\"start\" x=\"331\" y=\"-79.8\" font-family=\"Helvetica,sans-Serif\" font-size=\"14.00\" fill=\"#000000\">value = 0.007</text>\n",
       "</g>\n",
       "<!-- 9&#45;&gt;10 -->\n",
       "<g id=\"edge10\" class=\"edge\">\n",
       "<title>9&#45;&gt;10</title>\n",
       "<path fill=\"none\" stroke=\"#000000\" d=\"M418.4068,-175.9465C412.6286,-167.2373 406.3425,-157.7626 400.3166,-148.6801\"/>\n",
       "<polygon fill=\"#000000\" stroke=\"#000000\" points=\"403.089,-146.5278 394.6439,-140.13 397.256,-150.3978 403.089,-146.5278\"/>\n",
       "</g>\n",
       "<!-- 13 -->\n",
       "<g id=\"node14\" class=\"node\">\n",
       "<title>13</title>\n",
       "<path fill=\"#e58139\" fill-opacity=\"0.250980\" stroke=\"#000000\" d=\"M559.5,-140C559.5,-140 462.5,-140 462.5,-140 456.5,-140 450.5,-134 450.5,-128 450.5,-128 450.5,-84 450.5,-84 450.5,-78 456.5,-72 462.5,-72 462.5,-72 559.5,-72 559.5,-72 565.5,-72 571.5,-78 571.5,-84 571.5,-84 571.5,-128 571.5,-128 571.5,-134 565.5,-140 559.5,-140\"/>\n",
       "<text text-anchor=\"start\" x=\"476\" y=\"-124.8\" font-family=\"Helvetica,sans-Serif\" font-size=\"14.00\" fill=\"#000000\">t&#45;1 ≤ &#45;0.009</text>\n",
       "<text text-anchor=\"start\" x=\"473\" y=\"-109.8\" font-family=\"Helvetica,sans-Serif\" font-size=\"14.00\" fill=\"#000000\">mse = 0.003</text>\n",
       "<text text-anchor=\"start\" x=\"458.5\" y=\"-94.8\" font-family=\"Helvetica,sans-Serif\" font-size=\"14.00\" fill=\"#000000\">samples = 19142</text>\n",
       "<text text-anchor=\"start\" x=\"470\" y=\"-79.8\" font-family=\"Helvetica,sans-Serif\" font-size=\"14.00\" fill=\"#000000\">value = 0.001</text>\n",
       "</g>\n",
       "<!-- 9&#45;&gt;13 -->\n",
       "<g id=\"edge13\" class=\"edge\">\n",
       "<title>9&#45;&gt;13</title>\n",
       "<path fill=\"none\" stroke=\"#000000\" d=\"M463.9206,-175.9465C469.7826,-167.2373 476.1598,-157.7626 482.273,-148.6801\"/>\n",
       "<polygon fill=\"#000000\" stroke=\"#000000\" points=\"485.3476,-150.3802 488.0279,-140.13 479.5405,-146.4716 485.3476,-150.3802\"/>\n",
       "</g>\n",
       "<!-- 11 -->\n",
       "<g id=\"node12\" class=\"node\">\n",
       "<title>11</title>\n",
       "<path fill=\"#c0c0c0\" stroke=\"#000000\" d=\"M354,-36C354,-36 324,-36 324,-36 318,-36 312,-30 312,-24 312,-24 312,-12 312,-12 312,-6 318,0 324,0 324,0 354,0 354,0 360,0 366,-6 366,-12 366,-12 366,-24 366,-24 366,-30 360,-36 354,-36\"/>\n",
       "<text text-anchor=\"middle\" x=\"339\" y=\"-14.3\" font-family=\"Helvetica,sans-Serif\" font-size=\"14.00\" fill=\"#000000\">(...)</text>\n",
       "</g>\n",
       "<!-- 10&#45;&gt;11 -->\n",
       "<g id=\"edge11\" class=\"edge\">\n",
       "<title>10&#45;&gt;11</title>\n",
       "<path fill=\"none\" stroke=\"#000000\" d=\"M359.2413,-71.9769C355.992,-63.3119 352.5382,-54.102 349.421,-45.7894\"/>\n",
       "<polygon fill=\"#000000\" stroke=\"#000000\" points=\"352.6104,-44.3263 345.822,-36.192 346.0561,-46.7842 352.6104,-44.3263\"/>\n",
       "</g>\n",
       "<!-- 12 -->\n",
       "<g id=\"node13\" class=\"node\">\n",
       "<title>12</title>\n",
       "<path fill=\"#c0c0c0\" stroke=\"#000000\" d=\"M426,-36C426,-36 396,-36 396,-36 390,-36 384,-30 384,-24 384,-24 384,-12 384,-12 384,-6 390,0 396,0 396,0 426,0 426,0 432,0 438,-6 438,-12 438,-12 438,-24 438,-24 438,-30 432,-36 426,-36\"/>\n",
       "<text text-anchor=\"middle\" x=\"411\" y=\"-14.3\" font-family=\"Helvetica,sans-Serif\" font-size=\"14.00\" fill=\"#000000\">(...)</text>\n",
       "</g>\n",
       "<!-- 10&#45;&gt;12 -->\n",
       "<g id=\"edge12\" class=\"edge\">\n",
       "<title>10&#45;&gt;12</title>\n",
       "<path fill=\"none\" stroke=\"#000000\" d=\"M387.0784,-71.9769C390.9608,-63.2167 395.09,-53.8995 398.8055,-45.5157\"/>\n",
       "<polygon fill=\"#000000\" stroke=\"#000000\" points=\"402.0857,-46.7525 402.9377,-36.192 395.686,-43.9162 402.0857,-46.7525\"/>\n",
       "</g>\n",
       "<!-- 14 -->\n",
       "<g id=\"node15\" class=\"node\">\n",
       "<title>14</title>\n",
       "<path fill=\"#c0c0c0\" stroke=\"#000000\" d=\"M502,-36C502,-36 472,-36 472,-36 466,-36 460,-30 460,-24 460,-24 460,-12 460,-12 460,-6 466,0 472,0 472,0 502,0 502,0 508,0 514,-6 514,-12 514,-12 514,-24 514,-24 514,-30 508,-36 502,-36\"/>\n",
       "<text text-anchor=\"middle\" x=\"487\" y=\"-14.3\" font-family=\"Helvetica,sans-Serif\" font-size=\"14.00\" fill=\"#000000\">(...)</text>\n",
       "</g>\n",
       "<!-- 13&#45;&gt;14 -->\n",
       "<g id=\"edge14\" class=\"edge\">\n",
       "<title>13&#45;&gt;14</title>\n",
       "<path fill=\"none\" stroke=\"#000000\" d=\"M501.721,-71.9769C499.3838,-63.4071 496.9012,-54.3043 494.6538,-46.0638\"/>\n",
       "<polygon fill=\"#000000\" stroke=\"#000000\" points=\"497.9694,-44.9187 491.9614,-36.192 491.216,-46.7605 497.9694,-44.9187\"/>\n",
       "</g>\n",
       "<!-- 15 -->\n",
       "<g id=\"node16\" class=\"node\">\n",
       "<title>15</title>\n",
       "<path fill=\"#c0c0c0\" stroke=\"#000000\" d=\"M574,-36C574,-36 544,-36 544,-36 538,-36 532,-30 532,-24 532,-24 532,-12 532,-12 532,-6 538,0 544,0 544,0 574,0 574,0 580,0 586,-6 586,-12 586,-12 586,-24 586,-24 586,-30 580,-36 574,-36\"/>\n",
       "<text text-anchor=\"middle\" x=\"559\" y=\"-14.3\" font-family=\"Helvetica,sans-Serif\" font-size=\"14.00\" fill=\"#000000\">(...)</text>\n",
       "</g>\n",
       "<!-- 13&#45;&gt;15 -->\n",
       "<g id=\"edge15\" class=\"edge\">\n",
       "<title>13&#45;&gt;15</title>\n",
       "<path fill=\"none\" stroke=\"#000000\" d=\"M529.5581,-71.9769C534.3883,-63.1215 539.529,-53.6969 544.1404,-45.2427\"/>\n",
       "<polygon fill=\"#000000\" stroke=\"#000000\" points=\"547.3612,-46.6469 549.0771,-36.192 541.2159,-43.2949 547.3612,-46.6469\"/>\n",
       "</g>\n",
       "<!-- 17 -->\n",
       "<g id=\"node18\" class=\"node\">\n",
       "<title>17</title>\n",
       "<path fill=\"#e58139\" fill-opacity=\"0.611765\" stroke=\"#000000\" d=\"M768.5,-244C768.5,-244 671.5,-244 671.5,-244 665.5,-244 659.5,-238 659.5,-232 659.5,-232 659.5,-188 659.5,-188 659.5,-182 665.5,-176 671.5,-176 671.5,-176 768.5,-176 768.5,-176 774.5,-176 780.5,-182 780.5,-188 780.5,-188 780.5,-232 780.5,-232 780.5,-238 774.5,-244 768.5,-244\"/>\n",
       "<text text-anchor=\"start\" x=\"687\" y=\"-228.8\" font-family=\"Helvetica,sans-Serif\" font-size=\"14.00\" fill=\"#000000\">t&#45;2 ≤ 0.037</text>\n",
       "<text text-anchor=\"start\" x=\"682\" y=\"-213.8\" font-family=\"Helvetica,sans-Serif\" font-size=\"14.00\" fill=\"#000000\">mse = 0.003</text>\n",
       "<text text-anchor=\"start\" x=\"667.5\" y=\"-198.8\" font-family=\"Helvetica,sans-Serif\" font-size=\"14.00\" fill=\"#000000\">samples = 47895</text>\n",
       "<text text-anchor=\"start\" x=\"679\" y=\"-183.8\" font-family=\"Helvetica,sans-Serif\" font-size=\"14.00\" fill=\"#000000\">value = 0.012</text>\n",
       "</g>\n",
       "<!-- 16&#45;&gt;17 -->\n",
       "<g id=\"edge17\" class=\"edge\">\n",
       "<title>16&#45;&gt;17</title>\n",
       "<path fill=\"none\" stroke=\"#000000\" d=\"M720,-279.9465C720,-271.776 720,-262.9318 720,-254.3697\"/>\n",
       "<polygon fill=\"#000000\" stroke=\"#000000\" points=\"723.5001,-254.13 720,-244.13 716.5001,-254.13 723.5001,-254.13\"/>\n",
       "</g>\n",
       "<!-- 24 -->\n",
       "<g id=\"node25\" class=\"node\">\n",
       "<title>24</title>\n",
       "<path fill=\"#e58139\" fill-opacity=\"0.878431\" stroke=\"#000000\" d=\"M976.5,-244C976.5,-244 879.5,-244 879.5,-244 873.5,-244 867.5,-238 867.5,-232 867.5,-232 867.5,-188 867.5,-188 867.5,-182 873.5,-176 879.5,-176 879.5,-176 976.5,-176 976.5,-176 982.5,-176 988.5,-182 988.5,-188 988.5,-188 988.5,-232 988.5,-232 988.5,-238 982.5,-244 976.5,-244\"/>\n",
       "<text text-anchor=\"start\" x=\"895\" y=\"-228.8\" font-family=\"Helvetica,sans-Serif\" font-size=\"14.00\" fill=\"#000000\">t&#45;1 ≤ 0.076</text>\n",
       "<text text-anchor=\"start\" x=\"890\" y=\"-213.8\" font-family=\"Helvetica,sans-Serif\" font-size=\"14.00\" fill=\"#000000\">mse = 0.003</text>\n",
       "<text text-anchor=\"start\" x=\"875.5\" y=\"-198.8\" font-family=\"Helvetica,sans-Serif\" font-size=\"14.00\" fill=\"#000000\">samples = 48086</text>\n",
       "<text text-anchor=\"start\" x=\"890.5\" y=\"-183.8\" font-family=\"Helvetica,sans-Serif\" font-size=\"14.00\" fill=\"#000000\">value = 0.02</text>\n",
       "</g>\n",
       "<!-- 16&#45;&gt;24 -->\n",
       "<g id=\"edge24\" class=\"edge\">\n",
       "<title>16&#45;&gt;24</title>\n",
       "<path fill=\"none\" stroke=\"#000000\" d=\"M780.7214,-283.6393C804.9638,-271.5181 833.0249,-257.4876 858.109,-244.9455\"/>\n",
       "<polygon fill=\"#000000\" stroke=\"#000000\" points=\"859.8242,-248.0011 867.2032,-240.3984 856.6936,-241.7401 859.8242,-248.0011\"/>\n",
       "</g>\n",
       "<!-- 18 -->\n",
       "<g id=\"node19\" class=\"node\">\n",
       "<title>18</title>\n",
       "<path fill=\"#e58139\" fill-opacity=\"0.650980\" stroke=\"#000000\" d=\"M698.5,-140C698.5,-140 601.5,-140 601.5,-140 595.5,-140 589.5,-134 589.5,-128 589.5,-128 589.5,-84 589.5,-84 589.5,-78 595.5,-72 601.5,-72 601.5,-72 698.5,-72 698.5,-72 704.5,-72 710.5,-78 710.5,-84 710.5,-84 710.5,-128 710.5,-128 710.5,-134 704.5,-140 698.5,-140\"/>\n",
       "<text text-anchor=\"start\" x=\"617\" y=\"-124.8\" font-family=\"Helvetica,sans-Serif\" font-size=\"14.00\" fill=\"#000000\">t&#45;1 ≤ 0.024</text>\n",
       "<text text-anchor=\"start\" x=\"612\" y=\"-109.8\" font-family=\"Helvetica,sans-Serif\" font-size=\"14.00\" fill=\"#000000\">mse = 0.003</text>\n",
       "<text text-anchor=\"start\" x=\"597.5\" y=\"-94.8\" font-family=\"Helvetica,sans-Serif\" font-size=\"14.00\" fill=\"#000000\">samples = 32115</text>\n",
       "<text text-anchor=\"start\" x=\"609\" y=\"-79.8\" font-family=\"Helvetica,sans-Serif\" font-size=\"14.00\" fill=\"#000000\">value = 0.013</text>\n",
       "</g>\n",
       "<!-- 17&#45;&gt;18 -->\n",
       "<g id=\"edge18\" class=\"edge\">\n",
       "<title>17&#45;&gt;18</title>\n",
       "<path fill=\"none\" stroke=\"#000000\" d=\"M697.0794,-175.9465C691.2174,-167.2373 684.8402,-157.7626 678.727,-148.6801\"/>\n",
       "<polygon fill=\"#000000\" stroke=\"#000000\" points=\"681.4595,-146.4716 672.9721,-140.13 675.6524,-150.3802 681.4595,-146.4716\"/>\n",
       "</g>\n",
       "<!-- 21 -->\n",
       "<g id=\"node22\" class=\"node\">\n",
       "<title>21</title>\n",
       "<path fill=\"#e58139\" fill-opacity=\"0.537255\" stroke=\"#000000\" d=\"M837.5,-140C837.5,-140 740.5,-140 740.5,-140 734.5,-140 728.5,-134 728.5,-128 728.5,-128 728.5,-84 728.5,-84 728.5,-78 734.5,-72 740.5,-72 740.5,-72 837.5,-72 837.5,-72 843.5,-72 849.5,-78 849.5,-84 849.5,-84 849.5,-128 849.5,-128 849.5,-134 843.5,-140 837.5,-140\"/>\n",
       "<text text-anchor=\"start\" x=\"756\" y=\"-124.8\" font-family=\"Helvetica,sans-Serif\" font-size=\"14.00\" fill=\"#000000\">t&#45;1 ≤ 0.015</text>\n",
       "<text text-anchor=\"start\" x=\"751\" y=\"-109.8\" font-family=\"Helvetica,sans-Serif\" font-size=\"14.00\" fill=\"#000000\">mse = 0.003</text>\n",
       "<text text-anchor=\"start\" x=\"736.5\" y=\"-94.8\" font-family=\"Helvetica,sans-Serif\" font-size=\"14.00\" fill=\"#000000\">samples = 15780</text>\n",
       "<text text-anchor=\"start\" x=\"751.5\" y=\"-79.8\" font-family=\"Helvetica,sans-Serif\" font-size=\"14.00\" fill=\"#000000\">value = 0.01</text>\n",
       "</g>\n",
       "<!-- 17&#45;&gt;21 -->\n",
       "<g id=\"edge21\" class=\"edge\">\n",
       "<title>17&#45;&gt;21</title>\n",
       "<path fill=\"none\" stroke=\"#000000\" d=\"M742.5932,-175.9465C748.3714,-167.2373 754.6575,-157.7626 760.6834,-148.6801\"/>\n",
       "<polygon fill=\"#000000\" stroke=\"#000000\" points=\"763.744,-150.3978 766.3561,-140.13 757.911,-146.5278 763.744,-150.3978\"/>\n",
       "</g>\n",
       "<!-- 19 -->\n",
       "<g id=\"node20\" class=\"node\">\n",
       "<title>19</title>\n",
       "<path fill=\"#c0c0c0\" stroke=\"#000000\" d=\"M648,-36C648,-36 618,-36 618,-36 612,-36 606,-30 606,-24 606,-24 606,-12 606,-12 606,-6 612,0 618,0 618,0 648,0 648,0 654,0 660,-6 660,-12 660,-12 660,-24 660,-24 660,-30 654,-36 648,-36\"/>\n",
       "<text text-anchor=\"middle\" x=\"633\" y=\"-14.3\" font-family=\"Helvetica,sans-Serif\" font-size=\"14.00\" fill=\"#000000\">(...)</text>\n",
       "</g>\n",
       "<!-- 18&#45;&gt;19 -->\n",
       "<g id=\"edge19\" class=\"edge\">\n",
       "<title>18&#45;&gt;19</title>\n",
       "<path fill=\"none\" stroke=\"#000000\" d=\"M643.4274,-71.9769C641.7718,-63.4071 640.0133,-54.3043 638.4214,-46.0638\"/>\n",
       "<polygon fill=\"#000000\" stroke=\"#000000\" points=\"641.8476,-45.3465 636.5144,-36.192 634.9747,-46.6743 641.8476,-45.3465\"/>\n",
       "</g>\n",
       "<!-- 20 -->\n",
       "<g id=\"node21\" class=\"node\">\n",
       "<title>20</title>\n",
       "<path fill=\"#c0c0c0\" stroke=\"#000000\" d=\"M720,-36C720,-36 690,-36 690,-36 684,-36 678,-30 678,-24 678,-24 678,-12 678,-12 678,-6 684,0 690,0 690,0 720,0 720,0 726,0 732,-6 732,-12 732,-12 732,-24 732,-24 732,-30 726,-36 720,-36\"/>\n",
       "<text text-anchor=\"middle\" x=\"705\" y=\"-14.3\" font-family=\"Helvetica,sans-Serif\" font-size=\"14.00\" fill=\"#000000\">(...)</text>\n",
       "</g>\n",
       "<!-- 18&#45;&gt;20 -->\n",
       "<g id=\"edge20\" class=\"edge\">\n",
       "<title>18&#45;&gt;20</title>\n",
       "<path fill=\"none\" stroke=\"#000000\" d=\"M671.2644,-71.9769C676.9181,-62.931 682.943,-53.2913 688.3134,-44.6986\"/>\n",
       "<polygon fill=\"#000000\" stroke=\"#000000\" points=\"691.298,-46.527 693.63,-36.192 685.362,-42.8169 691.298,-46.527\"/>\n",
       "</g>\n",
       "<!-- 22 -->\n",
       "<g id=\"node23\" class=\"node\">\n",
       "<title>22</title>\n",
       "<path fill=\"#c0c0c0\" stroke=\"#000000\" d=\"M793,-36C793,-36 763,-36 763,-36 757,-36 751,-30 751,-24 751,-24 751,-12 751,-12 751,-6 757,0 763,0 763,0 793,0 793,0 799,0 805,-6 805,-12 805,-12 805,-24 805,-24 805,-30 799,-36 793,-36\"/>\n",
       "<text text-anchor=\"middle\" x=\"778\" y=\"-14.3\" font-family=\"Helvetica,sans-Serif\" font-size=\"14.00\" fill=\"#000000\">(...)</text>\n",
       "</g>\n",
       "<!-- 21&#45;&gt;22 -->\n",
       "<g id=\"edge22\" class=\"edge\">\n",
       "<title>21&#45;&gt;22</title>\n",
       "<path fill=\"none\" stroke=\"#000000\" d=\"M784.7471,-71.9769C783.6878,-63.5023 782.5633,-54.5065 781.5423,-46.3388\"/>\n",
       "<polygon fill=\"#000000\" stroke=\"#000000\" points=\"784.9874,-45.6806 780.274,-36.192 778.0415,-46.5489 784.9874,-45.6806\"/>\n",
       "</g>\n",
       "<!-- 23 -->\n",
       "<g id=\"node24\" class=\"node\">\n",
       "<title>23</title>\n",
       "<path fill=\"#c0c0c0\" stroke=\"#000000\" d=\"M865,-36C865,-36 835,-36 835,-36 829,-36 823,-30 823,-24 823,-24 823,-12 823,-12 823,-6 829,0 835,0 835,0 865,0 865,0 871,0 877,-6 877,-12 877,-12 877,-24 877,-24 877,-30 871,-36 865,-36\"/>\n",
       "<text text-anchor=\"middle\" x=\"850\" y=\"-14.3\" font-family=\"Helvetica,sans-Serif\" font-size=\"14.00\" fill=\"#000000\">(...)</text>\n",
       "</g>\n",
       "<!-- 21&#45;&gt;23 -->\n",
       "<g id=\"edge23\" class=\"edge\">\n",
       "<title>21&#45;&gt;23</title>\n",
       "<path fill=\"none\" stroke=\"#000000\" d=\"M812.5842,-71.9769C818.9206,-62.8358 825.6775,-53.0883 831.6809,-44.4276\"/>\n",
       "<polygon fill=\"#000000\" stroke=\"#000000\" points=\"834.5692,-46.4045 837.3897,-36.192 828.8162,-42.4166 834.5692,-46.4045\"/>\n",
       "</g>\n",
       "<!-- 25 -->\n",
       "<g id=\"node26\" class=\"node\">\n",
       "<title>25</title>\n",
       "<path fill=\"#e58139\" fill-opacity=\"0.803922\" stroke=\"#000000\" d=\"M976.5,-140C976.5,-140 879.5,-140 879.5,-140 873.5,-140 867.5,-134 867.5,-128 867.5,-128 867.5,-84 867.5,-84 867.5,-78 873.5,-72 879.5,-72 879.5,-72 976.5,-72 976.5,-72 982.5,-72 988.5,-78 988.5,-84 988.5,-84 988.5,-128 988.5,-128 988.5,-134 982.5,-140 976.5,-140\"/>\n",
       "<text text-anchor=\"start\" x=\"895\" y=\"-124.8\" font-family=\"Helvetica,sans-Serif\" font-size=\"14.00\" fill=\"#000000\">t&#45;2 ≤ 0.084</text>\n",
       "<text text-anchor=\"start\" x=\"890\" y=\"-109.8\" font-family=\"Helvetica,sans-Serif\" font-size=\"14.00\" fill=\"#000000\">mse = 0.003</text>\n",
       "<text text-anchor=\"start\" x=\"875.5\" y=\"-94.8\" font-family=\"Helvetica,sans-Serif\" font-size=\"14.00\" fill=\"#000000\">samples = 26954</text>\n",
       "<text text-anchor=\"start\" x=\"887\" y=\"-79.8\" font-family=\"Helvetica,sans-Serif\" font-size=\"14.00\" fill=\"#000000\">value = 0.018</text>\n",
       "</g>\n",
       "<!-- 24&#45;&gt;25 -->\n",
       "<g id=\"edge25\" class=\"edge\">\n",
       "<title>24&#45;&gt;25</title>\n",
       "<path fill=\"none\" stroke=\"#000000\" d=\"M928,-175.9465C928,-167.776 928,-158.9318 928,-150.3697\"/>\n",
       "<polygon fill=\"#000000\" stroke=\"#000000\" points=\"931.5001,-150.13 928,-140.13 924.5001,-150.13 931.5001,-150.13\"/>\n",
       "</g>\n",
       "<!-- 28 -->\n",
       "<g id=\"node29\" class=\"node\">\n",
       "<title>28</title>\n",
       "<path fill=\"#e58139\" fill-opacity=\"0.968627\" stroke=\"#000000\" d=\"M1115.5,-140C1115.5,-140 1018.5,-140 1018.5,-140 1012.5,-140 1006.5,-134 1006.5,-128 1006.5,-128 1006.5,-84 1006.5,-84 1006.5,-78 1012.5,-72 1018.5,-72 1018.5,-72 1115.5,-72 1115.5,-72 1121.5,-72 1127.5,-78 1127.5,-84 1127.5,-84 1127.5,-128 1127.5,-128 1127.5,-134 1121.5,-140 1115.5,-140\"/>\n",
       "<text text-anchor=\"start\" x=\"1034\" y=\"-124.8\" font-family=\"Helvetica,sans-Serif\" font-size=\"14.00\" fill=\"#000000\">t&#45;2 ≤ 0.061</text>\n",
       "<text text-anchor=\"start\" x=\"1029\" y=\"-109.8\" font-family=\"Helvetica,sans-Serif\" font-size=\"14.00\" fill=\"#000000\">mse = 0.003</text>\n",
       "<text text-anchor=\"start\" x=\"1014.5\" y=\"-94.8\" font-family=\"Helvetica,sans-Serif\" font-size=\"14.00\" fill=\"#000000\">samples = 21132</text>\n",
       "<text text-anchor=\"start\" x=\"1026\" y=\"-79.8\" font-family=\"Helvetica,sans-Serif\" font-size=\"14.00\" fill=\"#000000\">value = 0.023</text>\n",
       "</g>\n",
       "<!-- 24&#45;&gt;28 -->\n",
       "<g id=\"edge28\" class=\"edge\">\n",
       "<title>24&#45;&gt;28</title>\n",
       "<path fill=\"none\" stroke=\"#000000\" d=\"M973.5138,-175.9465C986.234,-166.4293 1000.176,-155.9978 1013.3206,-146.163\"/>\n",
       "<polygon fill=\"#000000\" stroke=\"#000000\" points=\"1015.4738,-148.9232 1021.3839,-140.13 1011.2802,-143.3184 1015.4738,-148.9232\"/>\n",
       "</g>\n",
       "<!-- 26 -->\n",
       "<g id=\"node27\" class=\"node\">\n",
       "<title>26</title>\n",
       "<path fill=\"#c0c0c0\" stroke=\"#000000\" d=\"M938,-36C938,-36 908,-36 908,-36 902,-36 896,-30 896,-24 896,-24 896,-12 896,-12 896,-6 902,0 908,0 908,0 938,0 938,0 944,0 950,-6 950,-12 950,-12 950,-24 950,-24 950,-30 944,-36 938,-36\"/>\n",
       "<text text-anchor=\"middle\" x=\"923\" y=\"-14.3\" font-family=\"Helvetica,sans-Serif\" font-size=\"14.00\" fill=\"#000000\">(...)</text>\n",
       "</g>\n",
       "<!-- 25&#45;&gt;26 -->\n",
       "<g id=\"edge26\" class=\"edge\">\n",
       "<title>25&#45;&gt;26</title>\n",
       "<path fill=\"none\" stroke=\"#000000\" d=\"M926.0669,-71.9769C925.5854,-63.5023 925.0742,-54.5065 924.6102,-46.3388\"/>\n",
       "<polygon fill=\"#000000\" stroke=\"#000000\" points=\"928.0954,-45.9773 924.0336,-36.192 921.1066,-46.3744 928.0954,-45.9773\"/>\n",
       "</g>\n",
       "<!-- 27 -->\n",
       "<g id=\"node28\" class=\"node\">\n",
       "<title>27</title>\n",
       "<path fill=\"#c0c0c0\" stroke=\"#000000\" d=\"M1010,-36C1010,-36 980,-36 980,-36 974,-36 968,-30 968,-24 968,-24 968,-12 968,-12 968,-6 974,0 980,0 980,0 1010,0 1010,0 1016,0 1022,-6 1022,-12 1022,-12 1022,-24 1022,-24 1022,-30 1016,-36 1010,-36\"/>\n",
       "<text text-anchor=\"middle\" x=\"995\" y=\"-14.3\" font-family=\"Helvetica,sans-Serif\" font-size=\"14.00\" fill=\"#000000\">(...)</text>\n",
       "</g>\n",
       "<!-- 25&#45;&gt;27 -->\n",
       "<g id=\"edge27\" class=\"edge\">\n",
       "<title>25&#45;&gt;27</title>\n",
       "<path fill=\"none\" stroke=\"#000000\" d=\"M953.9039,-71.9769C960.9361,-62.7406 968.4397,-52.8851 975.0848,-44.1573\"/>\n",
       "<polygon fill=\"#000000\" stroke=\"#000000\" points=\"977.8763,-46.2686 981.1493,-36.192 972.3068,-42.0282 977.8763,-46.2686\"/>\n",
       "</g>\n",
       "<!-- 29 -->\n",
       "<g id=\"node30\" class=\"node\">\n",
       "<title>29</title>\n",
       "<path fill=\"#c0c0c0\" stroke=\"#000000\" d=\"M1082,-36C1082,-36 1052,-36 1052,-36 1046,-36 1040,-30 1040,-24 1040,-24 1040,-12 1040,-12 1040,-6 1046,0 1052,0 1052,0 1082,0 1082,0 1088,0 1094,-6 1094,-12 1094,-12 1094,-24 1094,-24 1094,-30 1088,-36 1082,-36\"/>\n",
       "<text text-anchor=\"middle\" x=\"1067\" y=\"-14.3\" font-family=\"Helvetica,sans-Serif\" font-size=\"14.00\" fill=\"#000000\">(...)</text>\n",
       "</g>\n",
       "<!-- 28&#45;&gt;29 -->\n",
       "<g id=\"edge29\" class=\"edge\">\n",
       "<title>28&#45;&gt;29</title>\n",
       "<path fill=\"none\" stroke=\"#000000\" d=\"M1067,-71.9769C1067,-63.5023 1067,-54.5065 1067,-46.3388\"/>\n",
       "<polygon fill=\"#000000\" stroke=\"#000000\" points=\"1070.5001,-46.1919 1067,-36.192 1063.5001,-46.192 1070.5001,-46.1919\"/>\n",
       "</g>\n",
       "<!-- 30 -->\n",
       "<g id=\"node31\" class=\"node\">\n",
       "<title>30</title>\n",
       "<path fill=\"#c0c0c0\" stroke=\"#000000\" d=\"M1154,-36C1154,-36 1124,-36 1124,-36 1118,-36 1112,-30 1112,-24 1112,-24 1112,-12 1112,-12 1112,-6 1118,0 1124,0 1124,0 1154,0 1154,0 1160,0 1166,-6 1166,-12 1166,-12 1166,-24 1166,-24 1166,-30 1160,-36 1154,-36\"/>\n",
       "<text text-anchor=\"middle\" x=\"1139\" y=\"-14.3\" font-family=\"Helvetica,sans-Serif\" font-size=\"14.00\" fill=\"#000000\">(...)</text>\n",
       "</g>\n",
       "<!-- 28&#45;&gt;30 -->\n",
       "<g id=\"edge30\" class=\"edge\">\n",
       "<title>28&#45;&gt;30</title>\n",
       "<path fill=\"none\" stroke=\"#000000\" d=\"M1094.8371,-71.9769C1102.3941,-62.7406 1110.4576,-52.8851 1117.5986,-44.1573\"/>\n",
       "<polygon fill=\"#000000\" stroke=\"#000000\" points=\"1120.4921,-46.1479 1124.1157,-36.192 1115.0744,-41.7152 1120.4921,-46.1479\"/>\n",
       "</g>\n",
       "</g>\n",
       "</svg>\n"
      ],
      "text/plain": [
       "<graphviz.files.Source at 0x7f700f35cb00>"
      ]
     },
     "execution_count": 10,
     "metadata": {},
     "output_type": "execute_result"
    }
   ],
   "source": [
    "dot_data = export_graphviz(regression_tree,\n",
    "                           out_file=None,\n",
    "                           feature_names=X2.columns,\n",
    "                           max_depth=3,\n",
    "                           filled=True, \n",
    "                           rounded=True,\n",
    "                           special_characters=True)\n",
    "graph = graphviz.Source(dot_data)\n",
    "graph"
   ]
  },
  {
   "cell_type": "markdown",
   "metadata": {},
   "source": [
    "#### Compare with Linear Regression"
   ]
  },
  {
   "cell_type": "markdown",
   "metadata": {},
   "source": [
    "##### statsmodels"
   ]
  },
  {
   "cell_type": "code",
   "execution_count": 35,
   "metadata": {
    "ExecuteTime": {
     "end_time": "2018-09-25T14:03:23.026278Z",
     "start_time": "2018-09-25T14:03:10.733355Z"
    }
   },
   "outputs": [
    {
     "name": "stdout",
     "output_type": "stream",
     "text": [
      "15.1 ms ± 176 µs per loop (mean ± std. dev. of 7 runs, 100 loops each)\n"
     ]
    }
   ],
   "source": [
    "%%timeit\n",
    "ols_model = sm.OLS(endog=y_binary, exog=sm.add_constant(X2)).fit()"
   ]
  },
  {
   "cell_type": "code",
   "execution_count": 40,
   "metadata": {
    "ExecuteTime": {
     "end_time": "2018-09-25T14:04:31.486374Z",
     "start_time": "2018-09-25T14:04:31.427692Z"
    }
   },
   "outputs": [
    {
     "name": "stdout",
     "output_type": "stream",
     "text": [
      "                            OLS Regression Results                            \n",
      "==============================================================================\n",
      "Dep. Variable:                returns   R-squared:                       0.021\n",
      "Model:                            OLS   Adj. R-squared:                  0.021\n",
      "Method:                 Least Squares   F-statistic:                     1904.\n",
      "Date:                Tue, 25 Sep 2018   Prob (F-statistic):               0.00\n",
      "Time:                        10:04:31   Log-Likelihood:             2.5857e+05\n",
      "No. Observations:              174551   AIC:                        -5.171e+05\n",
      "Df Residuals:                  174548   BIC:                        -5.171e+05\n",
      "Df Model:                           2                                         \n",
      "Covariance Type:            nonrobust                                         \n",
      "==============================================================================\n",
      "                 coef    std err          t      P>|t|      [0.025      0.975]\n",
      "------------------------------------------------------------------------------\n",
      "const          0.0088      0.000     65.281      0.000       0.009       0.009\n",
      "t-1            0.1466      0.002     61.319      0.000       0.142       0.151\n",
      "t-2           -0.0373      0.002    -15.555      0.000      -0.042      -0.033\n",
      "==============================================================================\n",
      "Omnibus:                      427.073   Durbin-Watson:                   1.982\n",
      "Prob(Omnibus):                  0.000   Jarque-Bera (JB):              343.500\n",
      "Skew:                          -0.024   Prob(JB):                     2.57e-75\n",
      "Kurtosis:                       2.788   Cond. No.                         19.4\n",
      "==============================================================================\n",
      "\n",
      "Warnings:\n",
      "[1] Standard Errors assume that the covariance matrix of the errors is correctly specified.\n"
     ]
    }
   ],
   "source": [
    "ols_model = sm.OLS(endog=y, exog=sm.add_constant(X2)).fit()\n",
    "print(ols_model.summary())"
   ]
  },
  {
   "cell_type": "markdown",
   "metadata": {},
   "source": [
    "##### Time Series Model"
   ]
  },
  {
   "cell_type": "markdown",
   "metadata": {},
   "source": [
    "Coefficients slighty different because AR model treats returns as a single time series instead of one for each stock."
   ]
  },
  {
   "cell_type": "code",
   "execution_count": 21,
   "metadata": {
    "ExecuteTime": {
     "end_time": "2018-09-25T13:35:50.812526Z",
     "start_time": "2018-09-25T13:35:44.528392Z"
    }
   },
   "outputs": [
    {
     "name": "stdout",
     "output_type": "stream",
     "text": [
      "785 ms ± 10.2 ms per loop (mean ± std. dev. of 7 runs, 1 loop each)\n"
     ]
    }
   ],
   "source": [
    "%%timeit\n",
    "sm.tsa.ARMA(endog=, order=(2,0)).fit()"
   ]
  },
  {
   "cell_type": "code",
   "execution_count": 46,
   "metadata": {
    "ExecuteTime": {
     "end_time": "2018-09-25T14:09:44.215616Z",
     "start_time": "2018-09-25T14:09:42.782988Z"
    }
   },
   "outputs": [
    {
     "data": {
      "text/plain": [
       "array([ 0.01001865,  0.15194538, -0.02480083])"
      ]
     },
     "execution_count": 46,
     "metadata": {},
     "output_type": "execute_result"
    }
   ],
   "source": [
    "ar_model = sm.tsa.ARMA(endog=endog, order=(2,0)).fit()\n",
    "ar_model.params"
   ]
  },
  {
   "cell_type": "code",
   "execution_count": null,
   "metadata": {},
   "outputs": [],
   "source": [
    "ar_preds = ar_model.predict()"
   ]
  },
  {
   "cell_type": "code",
   "execution_count": 50,
   "metadata": {
    "ExecuteTime": {
     "end_time": "2018-09-25T14:35:20.432327Z",
     "start_time": "2018-09-25T14:16:49.330589Z"
    }
   },
   "outputs": [
    {
     "name": "stdout",
     "output_type": "stream",
     "text": [
      "2min 18s ± 244 ms per loop (mean ± std. dev. of 7 runs, 1 loop each)\n"
     ]
    }
   ],
   "source": [
    "%%timeit\n",
    "sm.tsa.ARMA(endog=y, order=(2, 2)).fit()"
   ]
  },
  {
   "cell_type": "code",
   "execution_count": 13,
   "metadata": {
    "ExecuteTime": {
     "end_time": "2018-09-25T13:50:58.548556Z",
     "start_time": "2018-09-25T13:48:29.236577Z"
    }
   },
   "outputs": [
    {
     "name": "stdout",
     "output_type": "stream",
     "text": [
      "                              ARMA Model Results                              \n",
      "==============================================================================\n",
      "Dep. Variable:                returns   No. Observations:               174551\n",
      "Model:                     ARMA(2, 2)   Log Likelihood              258796.209\n",
      "Method:                       css-mle   S.D. of innovations              0.055\n",
      "Date:                Tue, 25 Sep 2018   AIC                        -517580.417\n",
      "Time:                        09:50:52   BIC                        -517519.997\n",
      "Sample:                             0   HQIC                       -517562.529\n",
      "                                                                              \n",
      "=================================================================================\n",
      "                    coef    std err          z      P>|z|      [0.025      0.975]\n",
      "---------------------------------------------------------------------------------\n",
      "const             0.0099      0.000     58.085      0.000       0.010       0.010\n",
      "ar.L1.returns     0.6295      0.030     21.000      0.000       0.571       0.688\n",
      "ar.L2.returns     0.2045      0.017     12.158      0.000       0.172       0.238\n",
      "ma.L1.returns    -0.4792      0.030    -16.148      0.000      -0.537      -0.421\n",
      "ma.L2.returns    -0.3054      0.015    -20.653      0.000      -0.334      -0.276\n",
      "                                    Roots                                    \n",
      "=============================================================================\n",
      "                  Real          Imaginary           Modulus         Frequency\n",
      "-----------------------------------------------------------------------------\n",
      "AR.1            1.1550           +0.0000j            1.1550            0.0000\n",
      "AR.2           -4.2330           +0.0000j            4.2330            0.5000\n",
      "MA.1            1.1877           +0.0000j            1.1877            0.0000\n",
      "MA.2           -2.7566           +0.0000j            2.7566            0.5000\n",
      "-----------------------------------------------------------------------------\n"
     ]
    }
   ],
   "source": [
    "arma_model = sm.tsa.ARMA(endog=y, order=(2, 2)).fit()\n",
    "print(arma_model.summary())"
   ]
  },
  {
   "cell_type": "code",
   "execution_count": 14,
   "metadata": {
    "ExecuteTime": {
     "end_time": "2018-09-25T13:50:58.654917Z",
     "start_time": "2018-09-25T13:50:58.549927Z"
    }
   },
   "outputs": [],
   "source": [
    "arma_preds = arma_model.predict()"
   ]
  },
  {
   "cell_type": "code",
   "execution_count": 18,
   "metadata": {
    "ExecuteTime": {
     "end_time": "2018-09-25T13:51:59.667378Z",
     "start_time": "2018-09-25T13:51:59.646566Z"
    }
   },
   "outputs": [
    {
     "name": "stdout",
     "output_type": "stream",
     "text": [
      "<class 'pandas.core.frame.DataFrame'>\n",
      "Index: 17455 entries, BPOP to NVDA\n",
      "Data columns (total 4 columns):\n",
      "t-1     17455 non-null float64\n",
      "t-2     17455 non-null float64\n",
      "arma    17455 non-null float64\n",
      "ar      17455 non-null float64\n",
      "dtypes: float64(4)\n",
      "memory usage: 681.8+ KB\n"
     ]
    }
   ],
   "source": [
    "preds = X2.assign(arma=arma_preds, ar=ar_preds).sample(frac=.1).sort_values(['t-1', 't-2'])\n",
    "preds.info()"
   ]
  },
  {
   "cell_type": "code",
   "execution_count": 24,
   "metadata": {
    "ExecuteTime": {
     "end_time": "2018-09-25T13:57:52.781886Z",
     "start_time": "2018-09-25T13:57:52.780161Z"
    }
   },
   "outputs": [],
   "source": [
    "t1, t2, arma, ar = preds.values.T"
   ]
  },
  {
   "cell_type": "code",
   "execution_count": 26,
   "metadata": {
    "ExecuteTime": {
     "end_time": "2018-09-25T14:00:55.794544Z",
     "start_time": "2018-09-25T14:00:55.479419Z"
    }
   },
   "outputs": [
    {
     "data": {
      "image/png": "[encoded data removed]",
      "text/plain": [
       "<Figure size 864x360 with 4 Axes>"
      ]
     },
     "metadata": {},
     "output_type": "display_data"
    }
   ],
   "source": [
    "fig, axes = plt.subplots(ncols=2, figsize=(12,5))\n",
    "\n",
    "t1, t2 = X2.values.T\n",
    "t1_sim = np.linspace(t1.min(), t1.max(), 100)\n",
    "t2_sim = np.linspace(t2.min(), t2.max(), 100)\n",
    "t1_grid, t2_grid = np.meshgrid(t1_sim, t2_sim)\n",
    "\n",
    "# AR Model\n",
    "ar_f = interp2d(x=t1, y=t2, z=ar, kind='cubic')\n",
    "ret1 = ar_f(x=t1_sim, y=t2_sim)\n",
    "surface1 = axes[0].contourf(t1_grid, t2_grid, ret1, cmap='Blues')\n",
    "plt.colorbar(mappable=surface1, ax=axes[0])\n",
    "\n",
    "# ARMA Model\n",
    "arma_f = interp2d(x=t1, y=t2, z=arma)\n",
    "ret2= arma_f(x=t1_sim, y=t2_sim)\n",
    "surface2 = axes[1].contourf(t1_grid, t2_grid, ret2, cmap='Blues')\n",
    "plt.colorbar(mappable=surface2, ax=axes[1])\n",
    "\n",
    "# Format plots\n",
    "titles = ['Linear Regression', 'Regression Tree']\n",
    "for i, ax in enumerate(axes):\n",
    "    ax.set_xlabel('t-1')\n",
    "    ax.set_ylabel('t-2')\n",
    "    ax.set_title(titles[i])\n",
    "\n",
    "fig.suptitle('Decision Surfaces', fontsize=20)\n",
    "fig.tight_layout()\n",
    "fig.subplots_adjust(top=.9);"
   ]
  },
  {
   "cell_type": "markdown",
   "metadata": {},
   "source": [
    "##### sklearn"
   ]
  },
  {
   "cell_type": "code",
   "execution_count": 29,
   "metadata": {
    "ExecuteTime": {
     "end_time": "2018-09-25T14:01:48.798146Z",
     "start_time": "2018-09-25T14:01:48.796210Z"
    }
   },
   "outputs": [],
   "source": [
    "lin_reg = LinearRegression()"
   ]
  },
  {
   "cell_type": "code",
   "execution_count": 37,
   "metadata": {
    "ExecuteTime": {
     "end_time": "2018-09-25T14:03:46.494626Z",
     "start_time": "2018-09-25T14:03:39.522739Z"
    }
   },
   "outputs": [
    {
     "name": "stdout",
     "output_type": "stream",
     "text": [
      "8.56 ms ± 80.1 µs per loop (mean ± std. dev. of 7 runs, 100 loops each)\n"
     ]
    }
   ],
   "source": [
    "%%timeit\n",
    "lin_reg.fit(X=X2,y=y)"
   ]
  },
  {
   "cell_type": "code",
   "execution_count": 39,
   "metadata": {
    "ExecuteTime": {
     "end_time": "2018-09-25T14:04:06.282037Z",
     "start_time": "2018-09-25T14:04:06.278846Z"
    }
   },
   "outputs": [
    {
     "data": {
      "text/plain": [
       "0.008849391302235901"
      ]
     },
     "execution_count": 39,
     "metadata": {},
     "output_type": "execute_result"
    }
   ],
   "source": [
    "lin_reg.intercept_"
   ]
  },
  {
   "cell_type": "code",
   "execution_count": 38,
   "metadata": {
    "ExecuteTime": {
     "end_time": "2018-09-25T14:03:46.498410Z",
     "start_time": "2018-09-25T14:03:46.495795Z"
    }
   },
   "outputs": [
    {
     "data": {
      "text/plain": [
       "array([ 0.14664542, -0.03727445])"
      ]
     },
     "execution_count": 38,
     "metadata": {},
     "output_type": "execute_result"
    }
   ],
   "source": [
    "lin_reg.coef_"
   ]
  },
  {
   "cell_type": "markdown",
   "metadata": {},
   "source": [
    "#### Plot Decision Surfaces"
   ]
  },
  {
   "cell_type": "code",
   "execution_count": null,
   "metadata": {},
   "outputs": [],
   "source": [
    "t1, t2 = np.meshgrid(np.linspace(X2['t-1'].min(), X2['t-1'].max(), 1000),\n",
    "                     np.linspace(X2['t-2'].min(), X2['t-2'].max(), 1000))\n",
    "X_data = np.c_[t1.ravel(), t2.ravel()]"
   ]
  },
  {
   "cell_type": "code",
   "execution_count": 52,
   "metadata": {
    "ExecuteTime": {
     "end_time": "2018-09-25T18:49:31.149490Z",
     "start_time": "2018-09-25T18:49:29.768923Z"
    }
   },
   "outputs": [
    {
     "data": {
      "image/png": "[encoded data removed]",
      "text/plain": [
       "<Figure size 864x360 with 4 Axes>"
      ]
     },
     "metadata": {},
     "output_type": "display_data"
    }
   ],
   "source": [
    "fig, axes = plt.subplots(ncols=2, figsize=(12,5))\n",
    "\n",
    "# Linear Regression\n",
    "ret1 = lin_reg.predict(X_data).reshape(t1.shape)\n",
    "surface1 = axes[0].contourf(t1, t2, ret1, cmap='Blues')\n",
    "plt.colorbar(mappable=surface1, ax=axes[0])\n",
    "\n",
    "# Regression Tree\n",
    "ret2 = regression_tree.predict(X_data).reshape(t1.shape)\n",
    "surface2 = axes[1].contourf(t1, t2, ret2, cmap='Blues')\n",
    "plt.colorbar(mappable=surface2, ax=axes[1])\n",
    "\n",
    "# Format plots\n",
    "titles = ['Linear Regression', 'Regression Tree']\n",
    "for i, ax in enumerate(axes):\n",
    "    ax.set_xlabel('t-1')\n",
    "    ax.set_ylabel('t-2')\n",
    "    ax.set_title(titles[i])\n",
    "\n",
    "fig.suptitle('Decision Surfaces', fontsize=20)\n",
    "fig.tight_layout()\n",
    "fig.subplots_adjust(top=.9);"
   ]
  },
  {
   "cell_type": "markdown",
   "metadata": {},
   "source": [
    "### Classifier"
   ]
  },
  {
   "cell_type": "markdown",
   "metadata": {},
   "source": [
    "#### Configure Tree"
   ]
  },
  {
   "cell_type": "code",
   "execution_count": 53,
   "metadata": {
    "ExecuteTime": {
     "end_time": "2018-09-25T18:49:36.818751Z",
     "start_time": "2018-09-25T18:49:36.810238Z"
    }
   },
   "outputs": [],
   "source": [
    "classifier = DecisionTreeClassifier(criterion='gini', \n",
    "                                    splitter='best', \n",
    "                                    max_depth=4, \n",
    "                                    min_samples_split=2, \n",
    "                                    min_samples_leaf=1, \n",
    "                                    min_weight_fraction_leaf=0.0,\n",
    "                                    max_features=None, \n",
    "                                    random_state=42,\n",
    "                                    max_leaf_nodes=None, \n",
    "                                    min_impurity_decrease=0.0, \n",
    "                                    min_impurity_split=None, \n",
    "                                    class_weight=None, \n",
    "                                    presort=False)"
   ]
  },
  {
   "cell_type": "markdown",
   "metadata": {},
   "source": [
    "#### Train Tree"
   ]
  },
  {
   "cell_type": "code",
   "execution_count": 55,
   "metadata": {
    "ExecuteTime": {
     "end_time": "2018-09-25T18:49:52.614137Z",
     "start_time": "2018-09-25T18:49:41.354196Z"
    },
    "scrolled": true
   },
   "outputs": [
    {
     "name": "stdout",
     "output_type": "stream",
     "text": [
      "138 ms ± 3.24 ms per loop (mean ± std. dev. of 7 runs, 10 loops each)\n"
     ]
    }
   ],
   "source": [
    "%%timeit\n",
    "classifier.fit(X=X2, y=y_binary)"
   ]
  },
  {
   "cell_type": "markdown",
   "metadata": {},
   "source": [
    "#### Visualize Tree"
   ]
  },
  {
   "cell_type": "code",
   "execution_count": 57,
   "metadata": {
    "ExecuteTime": {
     "end_time": "2018-09-25T18:49:57.289476Z",
     "start_time": "2018-09-25T18:49:57.245987Z"
    }
   },
   "outputs": [
    {
     "data": {
      "image/svg+xml": [
       "<?xml version=\"1.0\" encoding=\"UTF-8\" standalone=\"no\"?>\n",
       "<!DOCTYPE svg PUBLIC \"-//W3C//DTD SVG 1.1//EN\"\n",
       " \"http://www.w3.org/Graphics/SVG/1.1/DTD/svg11.dtd\">\n",
       "<!-- Generated by graphviz version 2.40.1 (20161225.0304)\n",
       " -->\n",
       "<!-- Title: Tree Pages: 1 -->\n",
       "<svg width=\"1317pt\" height=\"520pt\"\n",
       " viewBox=\"0.00 0.00 1317.00 520.00\" xmlns=\"http://www.w3.org/2000/svg\" xmlns:xlink=\"http://www.w3.org/1999/xlink\">\n",
       "<g id=\"graph0\" class=\"graph\" transform=\"scale(1 1) rotate(0) translate(4 516)\">\n",
       "<title>Tree</title>\n",
       "<polygon fill=\"#ffffff\" stroke=\"transparent\" points=\"-4,4 -4,-516 1313,-516 1313,4 -4,4\"/>\n",
       "<!-- 0 -->\n",
       "<g id=\"node1\" class=\"node\">\n",
       "<title>0</title>\n",
       "<path fill=\"#399de5\" fill-opacity=\"0.274510\" stroke=\"#000000\" d=\"M723,-512C723,-512 585,-512 585,-512 579,-512 573,-506 573,-500 573,-500 573,-441 573,-441 573,-435 579,-429 585,-429 585,-429 723,-429 723,-429 729,-429 735,-435 735,-441 735,-441 735,-500 735,-500 735,-506 729,-512 723,-512\"/>\n",
       "<text text-anchor=\"start\" x=\"621\" y=\"-496.8\" font-family=\"Helvetica,sans-Serif\" font-size=\"14.00\" fill=\"#000000\">t&#45;1 ≤ 0.003</text>\n",
       "<text text-anchor=\"start\" x=\"618.5\" y=\"-481.8\" font-family=\"Helvetica,sans-Serif\" font-size=\"14.00\" fill=\"#000000\">gini = 0.487</text>\n",
       "<text text-anchor=\"start\" x=\"598\" y=\"-466.8\" font-family=\"Helvetica,sans-Serif\" font-size=\"14.00\" fill=\"#000000\">samples = 174551</text>\n",
       "<text text-anchor=\"start\" x=\"581\" y=\"-451.8\" font-family=\"Helvetica,sans-Serif\" font-size=\"14.00\" fill=\"#000000\">value = [73369, 101182]</text>\n",
       "<text text-anchor=\"start\" x=\"622\" y=\"-436.8\" font-family=\"Helvetica,sans-Serif\" font-size=\"14.00\" fill=\"#000000\">class = Up</text>\n",
       "</g>\n",
       "<!-- 1 -->\n",
       "<g id=\"node2\" class=\"node\">\n",
       "<title>1</title>\n",
       "<path fill=\"#399de5\" fill-opacity=\"0.047059\" stroke=\"#000000\" d=\"M553.5,-393C553.5,-393 422.5,-393 422.5,-393 416.5,-393 410.5,-387 410.5,-381 410.5,-381 410.5,-322 410.5,-322 410.5,-316 416.5,-310 422.5,-310 422.5,-310 553.5,-310 553.5,-310 559.5,-310 565.5,-316 565.5,-322 565.5,-322 565.5,-381 565.5,-381 565.5,-387 559.5,-393 553.5,-393\"/>\n",
       "<text text-anchor=\"start\" x=\"453\" y=\"-377.8\" font-family=\"Helvetica,sans-Serif\" font-size=\"14.00\" fill=\"#000000\">t&#45;1 ≤ &#45;0.045</text>\n",
       "<text text-anchor=\"start\" x=\"460\" y=\"-362.8\" font-family=\"Helvetica,sans-Serif\" font-size=\"14.00\" fill=\"#000000\">gini = 0.5</text>\n",
       "<text text-anchor=\"start\" x=\"435.5\" y=\"-347.8\" font-family=\"Helvetica,sans-Serif\" font-size=\"14.00\" fill=\"#000000\">samples = 76868</text>\n",
       "<text text-anchor=\"start\" x=\"418.5\" y=\"-332.8\" font-family=\"Helvetica,sans-Serif\" font-size=\"14.00\" fill=\"#000000\">value = [37493, 39375]</text>\n",
       "<text text-anchor=\"start\" x=\"456\" y=\"-317.8\" font-family=\"Helvetica,sans-Serif\" font-size=\"14.00\" fill=\"#000000\">class = Up</text>\n",
       "</g>\n",
       "<!-- 0&#45;&gt;1 -->\n",
       "<g id=\"edge1\" class=\"edge\">\n",
       "<title>0&#45;&gt;1</title>\n",
       "<path fill=\"none\" stroke=\"#000000\" d=\"M595.9413,-428.8796C582.5466,-419.2774 568.1965,-408.9903 554.4745,-399.1534\"/>\n",
       "<polygon fill=\"#000000\" stroke=\"#000000\" points=\"556.1926,-396.0786 546.026,-393.0969 552.1142,-401.7678 556.1926,-396.0786\"/>\n",
       "<text text-anchor=\"middle\" x=\"550.0938\" y=\"-414.0638\" font-family=\"Helvetica,sans-Serif\" font-size=\"14.00\" fill=\"#000000\">True</text>\n",
       "</g>\n",
       "<!-- 16 -->\n",
       "<g id=\"node17\" class=\"node\">\n",
       "<title>16</title>\n",
       "<path fill=\"#399de5\" fill-opacity=\"0.419608\" stroke=\"#000000\" d=\"M885.5,-393C885.5,-393 754.5,-393 754.5,-393 748.5,-393 742.5,-387 742.5,-381 742.5,-381 742.5,-322 742.5,-322 742.5,-316 748.5,-310 754.5,-310 754.5,-310 885.5,-310 885.5,-310 891.5,-310 897.5,-316 897.5,-322 897.5,-322 897.5,-381 897.5,-381 897.5,-387 891.5,-393 885.5,-393\"/>\n",
       "<text text-anchor=\"start\" x=\"787\" y=\"-377.8\" font-family=\"Helvetica,sans-Serif\" font-size=\"14.00\" fill=\"#000000\">t&#45;1 ≤ 0.037</text>\n",
       "<text text-anchor=\"start\" x=\"784.5\" y=\"-362.8\" font-family=\"Helvetica,sans-Serif\" font-size=\"14.00\" fill=\"#000000\">gini = 0.465</text>\n",
       "<text text-anchor=\"start\" x=\"767.5\" y=\"-347.8\" font-family=\"Helvetica,sans-Serif\" font-size=\"14.00\" fill=\"#000000\">samples = 97683</text>\n",
       "<text text-anchor=\"start\" x=\"750.5\" y=\"-332.8\" font-family=\"Helvetica,sans-Serif\" font-size=\"14.00\" fill=\"#000000\">value = [35876, 61807]</text>\n",
       "<text text-anchor=\"start\" x=\"788\" y=\"-317.8\" font-family=\"Helvetica,sans-Serif\" font-size=\"14.00\" fill=\"#000000\">class = Up</text>\n",
       "</g>\n",
       "<!-- 0&#45;&gt;16 -->\n",
       "<g id=\"edge16\" class=\"edge\">\n",
       "<title>0&#45;&gt;16</title>\n",
       "<path fill=\"none\" stroke=\"#000000\" d=\"M712.0587,-428.8796C725.4534,-419.2774 739.8035,-408.9903 753.5255,-399.1534\"/>\n",
       "<polygon fill=\"#000000\" stroke=\"#000000\" points=\"755.8858,-401.7678 761.974,-393.0969 751.8074,-396.0786 755.8858,-401.7678\"/>\n",
       "<text text-anchor=\"middle\" x=\"757.9062\" y=\"-414.0638\" font-family=\"Helvetica,sans-Serif\" font-size=\"14.00\" fill=\"#000000\">False</text>\n",
       "</g>\n",
       "<!-- 2 -->\n",
       "<g id=\"node3\" class=\"node\">\n",
       "<title>2</title>\n",
       "<path fill=\"#e58139\" fill-opacity=\"0.066667\" stroke=\"#000000\" d=\"M301.5,-274C301.5,-274 170.5,-274 170.5,-274 164.5,-274 158.5,-268 158.5,-262 158.5,-262 158.5,-203 158.5,-203 158.5,-197 164.5,-191 170.5,-191 170.5,-191 301.5,-191 301.5,-191 307.5,-191 313.5,-197 313.5,-203 313.5,-203 313.5,-262 313.5,-262 313.5,-268 307.5,-274 301.5,-274\"/>\n",
       "<text text-anchor=\"start\" x=\"201\" y=\"-258.8\" font-family=\"Helvetica,sans-Serif\" font-size=\"14.00\" fill=\"#000000\">t&#45;2 ≤ &#45;0.087</text>\n",
       "<text text-anchor=\"start\" x=\"200.5\" y=\"-243.8\" font-family=\"Helvetica,sans-Serif\" font-size=\"14.00\" fill=\"#000000\">gini = 0.499</text>\n",
       "<text text-anchor=\"start\" x=\"183.5\" y=\"-228.8\" font-family=\"Helvetica,sans-Serif\" font-size=\"14.00\" fill=\"#000000\">samples = 28735</text>\n",
       "<text text-anchor=\"start\" x=\"166.5\" y=\"-213.8\" font-family=\"Helvetica,sans-Serif\" font-size=\"14.00\" fill=\"#000000\">value = [14861, 13874]</text>\n",
       "<text text-anchor=\"start\" x=\"195\" y=\"-198.8\" font-family=\"Helvetica,sans-Serif\" font-size=\"14.00\" fill=\"#000000\">class = Down</text>\n",
       "</g>\n",
       "<!-- 1&#45;&gt;2 -->\n",
       "<g id=\"edge2\" class=\"edge\">\n",
       "<title>1&#45;&gt;2</title>\n",
       "<path fill=\"none\" stroke=\"#000000\" d=\"M410.3355,-314.8251C382.6708,-301.7612 351.3419,-286.967 322.9489,-273.5592\"/>\n",
       "<polygon fill=\"#000000\" stroke=\"#000000\" points=\"324.3789,-270.3639 313.8419,-269.2587 321.3899,-276.6937 324.3789,-270.3639\"/>\n",
       "</g>\n",
       "<!-- 9 -->\n",
       "<g id=\"node10\" class=\"node\">\n",
       "<title>9</title>\n",
       "<path fill=\"#399de5\" fill-opacity=\"0.113725\" stroke=\"#000000\" d=\"M553.5,-274C553.5,-274 422.5,-274 422.5,-274 416.5,-274 410.5,-268 410.5,-262 410.5,-262 410.5,-203 410.5,-203 410.5,-197 416.5,-191 422.5,-191 422.5,-191 553.5,-191 553.5,-191 559.5,-191 565.5,-197 565.5,-203 565.5,-203 565.5,-262 565.5,-262 565.5,-268 559.5,-274 553.5,-274\"/>\n",
       "<text text-anchor=\"start\" x=\"455\" y=\"-258.8\" font-family=\"Helvetica,sans-Serif\" font-size=\"14.00\" fill=\"#000000\">t&#45;2 ≤ 0.042</text>\n",
       "<text text-anchor=\"start\" x=\"452.5\" y=\"-243.8\" font-family=\"Helvetica,sans-Serif\" font-size=\"14.00\" fill=\"#000000\">gini = 0.498</text>\n",
       "<text text-anchor=\"start\" x=\"435.5\" y=\"-228.8\" font-family=\"Helvetica,sans-Serif\" font-size=\"14.00\" fill=\"#000000\">samples = 48133</text>\n",
       "<text text-anchor=\"start\" x=\"418.5\" y=\"-213.8\" font-family=\"Helvetica,sans-Serif\" font-size=\"14.00\" fill=\"#000000\">value = [22632, 25501]</text>\n",
       "<text text-anchor=\"start\" x=\"456\" y=\"-198.8\" font-family=\"Helvetica,sans-Serif\" font-size=\"14.00\" fill=\"#000000\">class = Up</text>\n",
       "</g>\n",
       "<!-- 1&#45;&gt;9 -->\n",
       "<g id=\"edge9\" class=\"edge\">\n",
       "<title>1&#45;&gt;9</title>\n",
       "<path fill=\"none\" stroke=\"#000000\" d=\"M488,-309.8796C488,-301.6838 488,-292.9891 488,-284.5013\"/>\n",
       "<polygon fill=\"#000000\" stroke=\"#000000\" points=\"491.5001,-284.298 488,-274.2981 484.5001,-284.2981 491.5001,-284.298\"/>\n",
       "</g>\n",
       "<!-- 3 -->\n",
       "<g id=\"node4\" class=\"node\">\n",
       "<title>3</title>\n",
       "<path fill=\"#399de5\" fill-opacity=\"0.180392\" stroke=\"#000000\" d=\"M128,-155C128,-155 12,-155 12,-155 6,-155 0,-149 0,-143 0,-143 0,-84 0,-84 0,-78 6,-72 12,-72 12,-72 128,-72 128,-72 134,-72 140,-78 140,-84 140,-84 140,-143 140,-143 140,-149 134,-155 128,-155\"/>\n",
       "<text text-anchor=\"start\" x=\"35\" y=\"-139.8\" font-family=\"Helvetica,sans-Serif\" font-size=\"14.00\" fill=\"#000000\">t&#45;1 ≤ &#45;0.113</text>\n",
       "<text text-anchor=\"start\" x=\"34.5\" y=\"-124.8\" font-family=\"Helvetica,sans-Serif\" font-size=\"14.00\" fill=\"#000000\">gini = 0.495</text>\n",
       "<text text-anchor=\"start\" x=\"21.5\" y=\"-109.8\" font-family=\"Helvetica,sans-Serif\" font-size=\"14.00\" fill=\"#000000\">samples = 2475</text>\n",
       "<text text-anchor=\"start\" x=\"8\" y=\"-94.8\" font-family=\"Helvetica,sans-Serif\" font-size=\"14.00\" fill=\"#000000\">value = [1114, 1361]</text>\n",
       "<text text-anchor=\"start\" x=\"38\" y=\"-79.8\" font-family=\"Helvetica,sans-Serif\" font-size=\"14.00\" fill=\"#000000\">class = Up</text>\n",
       "</g>\n",
       "<!-- 2&#45;&gt;3 -->\n",
       "<g id=\"edge3\" class=\"edge\">\n",
       "<title>2&#45;&gt;3</title>\n",
       "<path fill=\"none\" stroke=\"#000000\" d=\"M177.9413,-190.8796C164.5466,-181.2774 150.1965,-170.9903 136.4745,-161.1534\"/>\n",
       "<polygon fill=\"#000000\" stroke=\"#000000\" points=\"138.1926,-158.0786 128.026,-155.0969 134.1142,-163.7678 138.1926,-158.0786\"/>\n",
       "</g>\n",
       "<!-- 6 -->\n",
       "<g id=\"node7\" class=\"node\">\n",
       "<title>6</title>\n",
       "<path fill=\"#e58139\" fill-opacity=\"0.090196\" stroke=\"#000000\" d=\"M301.5,-155C301.5,-155 170.5,-155 170.5,-155 164.5,-155 158.5,-149 158.5,-143 158.5,-143 158.5,-84 158.5,-84 158.5,-78 164.5,-72 170.5,-72 170.5,-72 301.5,-72 301.5,-72 307.5,-72 313.5,-78 313.5,-84 313.5,-84 313.5,-143 313.5,-143 313.5,-149 307.5,-155 301.5,-155\"/>\n",
       "<text text-anchor=\"start\" x=\"207\" y=\"-139.8\" font-family=\"Helvetica,sans-Serif\" font-size=\"14.00\" fill=\"#000000\">t&#45;2 ≤ 0.04</text>\n",
       "<text text-anchor=\"start\" x=\"200.5\" y=\"-124.8\" font-family=\"Helvetica,sans-Serif\" font-size=\"14.00\" fill=\"#000000\">gini = 0.499</text>\n",
       "<text text-anchor=\"start\" x=\"183.5\" y=\"-109.8\" font-family=\"Helvetica,sans-Serif\" font-size=\"14.00\" fill=\"#000000\">samples = 26260</text>\n",
       "<text text-anchor=\"start\" x=\"166.5\" y=\"-94.8\" font-family=\"Helvetica,sans-Serif\" font-size=\"14.00\" fill=\"#000000\">value = [13747, 12513]</text>\n",
       "<text text-anchor=\"start\" x=\"195\" y=\"-79.8\" font-family=\"Helvetica,sans-Serif\" font-size=\"14.00\" fill=\"#000000\">class = Down</text>\n",
       "</g>\n",
       "<!-- 2&#45;&gt;6 -->\n",
       "<g id=\"edge6\" class=\"edge\">\n",
       "<title>2&#45;&gt;6</title>\n",
       "<path fill=\"none\" stroke=\"#000000\" d=\"M236,-190.8796C236,-182.6838 236,-173.9891 236,-165.5013\"/>\n",
       "<polygon fill=\"#000000\" stroke=\"#000000\" points=\"239.5001,-165.298 236,-155.2981 232.5001,-165.2981 239.5001,-165.298\"/>\n",
       "</g>\n",
       "<!-- 4 -->\n",
       "<g id=\"node5\" class=\"node\">\n",
       "<title>4</title>\n",
       "<path fill=\"#c0c0c0\" stroke=\"#000000\" d=\"M49,-36C49,-36 19,-36 19,-36 13,-36 7,-30 7,-24 7,-24 7,-12 7,-12 7,-6 13,0 19,0 19,0 49,0 49,0 55,0 61,-6 61,-12 61,-12 61,-24 61,-24 61,-30 55,-36 49,-36\"/>\n",
       "<text text-anchor=\"middle\" x=\"34\" y=\"-14.3\" font-family=\"Helvetica,sans-Serif\" font-size=\"14.00\" fill=\"#000000\">(...)</text>\n",
       "</g>\n",
       "<!-- 3&#45;&gt;4 -->\n",
       "<g id=\"edge4\" class=\"edge\">\n",
       "<title>3&#45;&gt;4</title>\n",
       "<path fill=\"none\" stroke=\"#000000\" d=\"M54.3146,-71.8901C50.9739,-63.0279 47.525,-53.8788 44.4386,-45.6913\"/>\n",
       "<polygon fill=\"#000000\" stroke=\"#000000\" points=\"47.6877,-44.3878 40.8853,-36.2651 41.1376,-46.8569 47.6877,-44.3878\"/>\n",
       "</g>\n",
       "<!-- 5 -->\n",
       "<g id=\"node6\" class=\"node\">\n",
       "<title>5</title>\n",
       "<path fill=\"#c0c0c0\" stroke=\"#000000\" d=\"M121,-36C121,-36 91,-36 91,-36 85,-36 79,-30 79,-24 79,-24 79,-12 79,-12 79,-6 85,0 91,0 91,0 121,0 121,0 127,0 133,-6 133,-12 133,-12 133,-24 133,-24 133,-30 127,-36 121,-36\"/>\n",
       "<text text-anchor=\"middle\" x=\"106\" y=\"-14.3\" font-family=\"Helvetica,sans-Serif\" font-size=\"14.00\" fill=\"#000000\">(...)</text>\n",
       "</g>\n",
       "<!-- 3&#45;&gt;5 -->\n",
       "<g id=\"edge5\" class=\"edge\">\n",
       "<title>3&#45;&gt;5</title>\n",
       "<path fill=\"none\" stroke=\"#000000\" d=\"M85.6854,-71.8901C89.0261,-63.0279 92.475,-53.8788 95.5614,-45.6913\"/>\n",
       "<polygon fill=\"#000000\" stroke=\"#000000\" points=\"98.8624,-46.8569 99.1147,-36.2651 92.3123,-44.3878 98.8624,-46.8569\"/>\n",
       "</g>\n",
       "<!-- 7 -->\n",
       "<g id=\"node8\" class=\"node\">\n",
       "<title>7</title>\n",
       "<path fill=\"#c0c0c0\" stroke=\"#000000\" d=\"M214,-36C214,-36 184,-36 184,-36 178,-36 172,-30 172,-24 172,-24 172,-12 172,-12 172,-6 178,0 184,0 184,0 214,0 214,0 220,0 226,-6 226,-12 226,-12 226,-24 226,-24 226,-30 220,-36 214,-36\"/>\n",
       "<text text-anchor=\"middle\" x=\"199\" y=\"-14.3\" font-family=\"Helvetica,sans-Serif\" font-size=\"14.00\" fill=\"#000000\">(...)</text>\n",
       "</g>\n",
       "<!-- 6&#45;&gt;7 -->\n",
       "<g id=\"edge7\" class=\"edge\">\n",
       "<title>6&#45;&gt;7</title>\n",
       "<path fill=\"none\" stroke=\"#000000\" d=\"M219.8789,-71.8901C216.4454,-63.0279 212.9007,-53.8788 209.7285,-45.6913\"/>\n",
       "<polygon fill=\"#000000\" stroke=\"#000000\" points=\"212.9529,-44.3253 206.0765,-36.2651 206.4257,-46.8542 212.9529,-44.3253\"/>\n",
       "</g>\n",
       "<!-- 8 -->\n",
       "<g id=\"node9\" class=\"node\">\n",
       "<title>8</title>\n",
       "<path fill=\"#c0c0c0\" stroke=\"#000000\" d=\"M286,-36C286,-36 256,-36 256,-36 250,-36 244,-30 244,-24 244,-24 244,-12 244,-12 244,-6 250,0 256,0 256,0 286,0 286,0 292,0 298,-6 298,-12 298,-12 298,-24 298,-24 298,-30 292,-36 286,-36\"/>\n",
       "<text text-anchor=\"middle\" x=\"271\" y=\"-14.3\" font-family=\"Helvetica,sans-Serif\" font-size=\"14.00\" fill=\"#000000\">(...)</text>\n",
       "</g>\n",
       "<!-- 6&#45;&gt;8 -->\n",
       "<g id=\"edge8\" class=\"edge\">\n",
       "<title>6&#45;&gt;8</title>\n",
       "<path fill=\"none\" stroke=\"#000000\" d=\"M251.2497,-71.8901C254.4976,-63.0279 257.8507,-53.8788 260.8514,-45.6913\"/>\n",
       "<polygon fill=\"#000000\" stroke=\"#000000\" points=\"264.1511,-46.8588 264.306,-36.2651 257.5786,-44.45 264.1511,-46.8588\"/>\n",
       "</g>\n",
       "<!-- 10 -->\n",
       "<g id=\"node11\" class=\"node\">\n",
       "<title>10</title>\n",
       "<path fill=\"#399de5\" fill-opacity=\"0.160784\" stroke=\"#000000\" d=\"M474.5,-155C474.5,-155 343.5,-155 343.5,-155 337.5,-155 331.5,-149 331.5,-143 331.5,-143 331.5,-84 331.5,-84 331.5,-78 337.5,-72 343.5,-72 343.5,-72 474.5,-72 474.5,-72 480.5,-72 486.5,-78 486.5,-84 486.5,-84 486.5,-143 486.5,-143 486.5,-149 480.5,-155 474.5,-155\"/>\n",
       "<text text-anchor=\"start\" x=\"377.5\" y=\"-139.8\" font-family=\"Helvetica,sans-Serif\" font-size=\"14.00\" fill=\"#000000\">t&#45;1 ≤ &#45;0.02</text>\n",
       "<text text-anchor=\"start\" x=\"373.5\" y=\"-124.8\" font-family=\"Helvetica,sans-Serif\" font-size=\"14.00\" fill=\"#000000\">gini = 0.496</text>\n",
       "<text text-anchor=\"start\" x=\"356.5\" y=\"-109.8\" font-family=\"Helvetica,sans-Serif\" font-size=\"14.00\" fill=\"#000000\">samples = 36530</text>\n",
       "<text text-anchor=\"start\" x=\"339.5\" y=\"-94.8\" font-family=\"Helvetica,sans-Serif\" font-size=\"14.00\" fill=\"#000000\">value = [16651, 19879]</text>\n",
       "<text text-anchor=\"start\" x=\"377\" y=\"-79.8\" font-family=\"Helvetica,sans-Serif\" font-size=\"14.00\" fill=\"#000000\">class = Up</text>\n",
       "</g>\n",
       "<!-- 9&#45;&gt;10 -->\n",
       "<g id=\"edge10\" class=\"edge\">\n",
       "<title>9&#45;&gt;10</title>\n",
       "<path fill=\"none\" stroke=\"#000000\" d=\"M460.3696,-190.8796C454.57,-182.1434 448.3941,-172.8404 442.4092,-163.8253\"/>\n",
       "<polygon fill=\"#000000\" stroke=\"#000000\" points=\"445.1951,-161.6935 436.7483,-155.2981 439.3632,-165.5652 445.1951,-161.6935\"/>\n",
       "</g>\n",
       "<!-- 13 -->\n",
       "<g id=\"node14\" class=\"node\">\n",
       "<title>13</title>\n",
       "<path fill=\"#e58139\" fill-opacity=\"0.058824\" stroke=\"#000000\" d=\"M633,-155C633,-155 517,-155 517,-155 511,-155 505,-149 505,-143 505,-143 505,-84 505,-84 505,-78 511,-72 517,-72 517,-72 633,-72 633,-72 639,-72 645,-78 645,-84 645,-84 645,-143 645,-143 645,-149 639,-155 633,-155\"/>\n",
       "<text text-anchor=\"start\" x=\"540\" y=\"-139.8\" font-family=\"Helvetica,sans-Serif\" font-size=\"14.00\" fill=\"#000000\">t&#45;1 ≤ &#45;0.012</text>\n",
       "<text text-anchor=\"start\" x=\"547\" y=\"-124.8\" font-family=\"Helvetica,sans-Serif\" font-size=\"14.00\" fill=\"#000000\">gini = 0.5</text>\n",
       "<text text-anchor=\"start\" x=\"522.5\" y=\"-109.8\" font-family=\"Helvetica,sans-Serif\" font-size=\"14.00\" fill=\"#000000\">samples = 11603</text>\n",
       "<text text-anchor=\"start\" x=\"513\" y=\"-94.8\" font-family=\"Helvetica,sans-Serif\" font-size=\"14.00\" fill=\"#000000\">value = [5981, 5622]</text>\n",
       "<text text-anchor=\"start\" x=\"534\" y=\"-79.8\" font-family=\"Helvetica,sans-Serif\" font-size=\"14.00\" fill=\"#000000\">class = Down</text>\n",
       "</g>\n",
       "<!-- 9&#45;&gt;13 -->\n",
       "<g id=\"edge13\" class=\"edge\">\n",
       "<title>9&#45;&gt;13</title>\n",
       "<path fill=\"none\" stroke=\"#000000\" d=\"M518.4284,-190.8796C524.8811,-182.0534 531.757,-172.6485 538.4113,-163.5466\"/>\n",
       "<polygon fill=\"#000000\" stroke=\"#000000\" points=\"541.3653,-165.4364 544.4417,-155.2981 535.7144,-161.3051 541.3653,-165.4364\"/>\n",
       "</g>\n",
       "<!-- 11 -->\n",
       "<g id=\"node12\" class=\"node\">\n",
       "<title>11</title>\n",
       "<path fill=\"#c0c0c0\" stroke=\"#000000\" d=\"M376,-36C376,-36 346,-36 346,-36 340,-36 334,-30 334,-24 334,-24 334,-12 334,-12 334,-6 340,0 346,0 346,0 376,0 376,0 382,0 388,-6 388,-12 388,-12 388,-24 388,-24 388,-30 382,-36 376,-36\"/>\n",
       "<text text-anchor=\"middle\" x=\"361\" y=\"-14.3\" font-family=\"Helvetica,sans-Serif\" font-size=\"14.00\" fill=\"#000000\">(...)</text>\n",
       "</g>\n",
       "<!-- 10&#45;&gt;11 -->\n",
       "<g id=\"edge11\" class=\"edge\">\n",
       "<title>10&#45;&gt;11</title>\n",
       "<path fill=\"none\" stroke=\"#000000\" d=\"M388.0861,-71.8901C383.5829,-62.9305 378.9322,-53.6777 374.7826,-45.4217\"/>\n",
       "<polygon fill=\"#000000\" stroke=\"#000000\" points=\"377.7985,-43.6282 370.1804,-36.2651 371.544,-46.7718 377.7985,-43.6282\"/>\n",
       "</g>\n",
       "<!-- 12 -->\n",
       "<g id=\"node13\" class=\"node\">\n",
       "<title>12</title>\n",
       "<path fill=\"#c0c0c0\" stroke=\"#000000\" d=\"M448,-36C448,-36 418,-36 418,-36 412,-36 406,-30 406,-24 406,-24 406,-12 406,-12 406,-6 412,0 418,0 418,0 448,0 448,0 454,0 460,-6 460,-12 460,-12 460,-24 460,-24 460,-30 454,-36 448,-36\"/>\n",
       "<text text-anchor=\"middle\" x=\"433\" y=\"-14.3\" font-family=\"Helvetica,sans-Serif\" font-size=\"14.00\" fill=\"#000000\">(...)</text>\n",
       "</g>\n",
       "<!-- 10&#45;&gt;12 -->\n",
       "<g id=\"edge12\" class=\"edge\">\n",
       "<title>10&#45;&gt;12</title>\n",
       "<path fill=\"none\" stroke=\"#000000\" d=\"M419.4569,-71.8901C421.6351,-63.2227 423.8823,-54.2808 425.9049,-46.2325\"/>\n",
       "<polygon fill=\"#000000\" stroke=\"#000000\" points=\"429.3669,-46.8166 428.4098,-36.2651 422.578,-45.1105 429.3669,-46.8166\"/>\n",
       "</g>\n",
       "<!-- 14 -->\n",
       "<g id=\"node15\" class=\"node\">\n",
       "<title>14</title>\n",
       "<path fill=\"#c0c0c0\" stroke=\"#000000\" d=\"M529,-36C529,-36 499,-36 499,-36 493,-36 487,-30 487,-24 487,-24 487,-12 487,-12 487,-6 493,0 499,0 499,0 529,0 529,0 535,0 541,-6 541,-12 541,-12 541,-24 541,-24 541,-30 535,-36 529,-36\"/>\n",
       "<text text-anchor=\"middle\" x=\"514\" y=\"-14.3\" font-family=\"Helvetica,sans-Serif\" font-size=\"14.00\" fill=\"#000000\">(...)</text>\n",
       "</g>\n",
       "<!-- 13&#45;&gt;14 -->\n",
       "<g id=\"edge14\" class=\"edge\">\n",
       "<title>13&#45;&gt;14</title>\n",
       "<path fill=\"none\" stroke=\"#000000\" d=\"M548.422,-71.8901C542.5747,-62.7357 536.5318,-53.2752 531.1724,-44.8847\"/>\n",
       "<polygon fill=\"#000000\" stroke=\"#000000\" points=\"533.9994,-42.8086 525.6667,-36.2651 528.1001,-46.5767 533.9994,-42.8086\"/>\n",
       "</g>\n",
       "<!-- 15 -->\n",
       "<g id=\"node16\" class=\"node\">\n",
       "<title>15</title>\n",
       "<path fill=\"#c0c0c0\" stroke=\"#000000\" d=\"M601,-36C601,-36 571,-36 571,-36 565,-36 559,-30 559,-24 559,-24 559,-12 559,-12 559,-6 565,0 571,0 571,0 601,0 601,0 607,0 613,-6 613,-12 613,-12 613,-24 613,-24 613,-30 607,-36 601,-36\"/>\n",
       "<text text-anchor=\"middle\" x=\"586\" y=\"-14.3\" font-family=\"Helvetica,sans-Serif\" font-size=\"14.00\" fill=\"#000000\">(...)</text>\n",
       "</g>\n",
       "<!-- 13&#45;&gt;15 -->\n",
       "<g id=\"edge15\" class=\"edge\">\n",
       "<title>13&#45;&gt;15</title>\n",
       "<path fill=\"none\" stroke=\"#000000\" d=\"M579.7928,-71.8901C580.7911,-63.2227 581.8211,-54.2808 582.7481,-46.2325\"/>\n",
       "<polygon fill=\"#000000\" stroke=\"#000000\" points=\"586.2288,-46.5999 583.8962,-36.2651 579.2748,-45.7989 586.2288,-46.5999\"/>\n",
       "</g>\n",
       "<!-- 17 -->\n",
       "<g id=\"node18\" class=\"node\">\n",
       "<title>17</title>\n",
       "<path fill=\"#399de5\" fill-opacity=\"0.349020\" stroke=\"#000000\" d=\"M885.5,-274C885.5,-274 754.5,-274 754.5,-274 748.5,-274 742.5,-268 742.5,-262 742.5,-262 742.5,-203 742.5,-203 742.5,-197 748.5,-191 754.5,-191 754.5,-191 885.5,-191 885.5,-191 891.5,-191 897.5,-197 897.5,-203 897.5,-203 897.5,-262 897.5,-262 897.5,-268 891.5,-274 885.5,-274\"/>\n",
       "<text text-anchor=\"start\" x=\"787\" y=\"-258.8\" font-family=\"Helvetica,sans-Serif\" font-size=\"14.00\" fill=\"#000000\">t&#45;2 ≤ 0.044</text>\n",
       "<text text-anchor=\"start\" x=\"784.5\" y=\"-243.8\" font-family=\"Helvetica,sans-Serif\" font-size=\"14.00\" fill=\"#000000\">gini = 0.478</text>\n",
       "<text text-anchor=\"start\" x=\"767.5\" y=\"-228.8\" font-family=\"Helvetica,sans-Serif\" font-size=\"14.00\" fill=\"#000000\">samples = 43555</text>\n",
       "<text text-anchor=\"start\" x=\"750.5\" y=\"-213.8\" font-family=\"Helvetica,sans-Serif\" font-size=\"14.00\" fill=\"#000000\">value = [17193, 26362]</text>\n",
       "<text text-anchor=\"start\" x=\"788\" y=\"-198.8\" font-family=\"Helvetica,sans-Serif\" font-size=\"14.00\" fill=\"#000000\">class = Up</text>\n",
       "</g>\n",
       "<!-- 16&#45;&gt;17 -->\n",
       "<g id=\"edge17\" class=\"edge\">\n",
       "<title>16&#45;&gt;17</title>\n",
       "<path fill=\"none\" stroke=\"#000000\" d=\"M820,-309.8796C820,-301.6838 820,-292.9891 820,-284.5013\"/>\n",
       "<polygon fill=\"#000000\" stroke=\"#000000\" points=\"823.5001,-284.298 820,-274.2981 816.5001,-284.2981 823.5001,-284.298\"/>\n",
       "</g>\n",
       "<!-- 24 -->\n",
       "<g id=\"node25\" class=\"node\">\n",
       "<title>24</title>\n",
       "<path fill=\"#399de5\" fill-opacity=\"0.474510\" stroke=\"#000000\" d=\"M1138.5,-274C1138.5,-274 1007.5,-274 1007.5,-274 1001.5,-274 995.5,-268 995.5,-262 995.5,-262 995.5,-203 995.5,-203 995.5,-197 1001.5,-191 1007.5,-191 1007.5,-191 1138.5,-191 1138.5,-191 1144.5,-191 1150.5,-197 1150.5,-203 1150.5,-203 1150.5,-262 1150.5,-262 1150.5,-268 1144.5,-274 1138.5,-274\"/>\n",
       "<text text-anchor=\"start\" x=\"1040\" y=\"-258.8\" font-family=\"Helvetica,sans-Serif\" font-size=\"14.00\" fill=\"#000000\">t&#45;2 ≤ 0.102</text>\n",
       "<text text-anchor=\"start\" x=\"1037.5\" y=\"-243.8\" font-family=\"Helvetica,sans-Serif\" font-size=\"14.00\" fill=\"#000000\">gini = 0.452</text>\n",
       "<text text-anchor=\"start\" x=\"1020.5\" y=\"-228.8\" font-family=\"Helvetica,sans-Serif\" font-size=\"14.00\" fill=\"#000000\">samples = 54128</text>\n",
       "<text text-anchor=\"start\" x=\"1003.5\" y=\"-213.8\" font-family=\"Helvetica,sans-Serif\" font-size=\"14.00\" fill=\"#000000\">value = [18683, 35445]</text>\n",
       "<text text-anchor=\"start\" x=\"1041\" y=\"-198.8\" font-family=\"Helvetica,sans-Serif\" font-size=\"14.00\" fill=\"#000000\">class = Up</text>\n",
       "</g>\n",
       "<!-- 16&#45;&gt;24 -->\n",
       "<g id=\"edge24\" class=\"edge\">\n",
       "<title>16&#45;&gt;24</title>\n",
       "<path fill=\"none\" stroke=\"#000000\" d=\"M897.6277,-314.9874C925.5456,-301.856 957.2163,-286.9596 985.8881,-273.4736\"/>\n",
       "<polygon fill=\"#000000\" stroke=\"#000000\" points=\"987.5239,-276.5721 995.0832,-269.1486 984.5445,-270.2378 987.5239,-276.5721\"/>\n",
       "</g>\n",
       "<!-- 18 -->\n",
       "<g id=\"node19\" class=\"node\">\n",
       "<title>18</title>\n",
       "<path fill=\"#399de5\" fill-opacity=\"0.376471\" stroke=\"#000000\" d=\"M806.5,-155C806.5,-155 675.5,-155 675.5,-155 669.5,-155 663.5,-149 663.5,-143 663.5,-143 663.5,-84 663.5,-84 663.5,-78 669.5,-72 675.5,-72 675.5,-72 806.5,-72 806.5,-72 812.5,-72 818.5,-78 818.5,-84 818.5,-84 818.5,-143 818.5,-143 818.5,-149 812.5,-155 806.5,-155\"/>\n",
       "<text text-anchor=\"start\" x=\"708\" y=\"-139.8\" font-family=\"Helvetica,sans-Serif\" font-size=\"14.00\" fill=\"#000000\">t&#45;1 ≤ 0.014</text>\n",
       "<text text-anchor=\"start\" x=\"705.5\" y=\"-124.8\" font-family=\"Helvetica,sans-Serif\" font-size=\"14.00\" fill=\"#000000\">gini = 0.473</text>\n",
       "<text text-anchor=\"start\" x=\"688.5\" y=\"-109.8\" font-family=\"Helvetica,sans-Serif\" font-size=\"14.00\" fill=\"#000000\">samples = 31688</text>\n",
       "<text text-anchor=\"start\" x=\"671.5\" y=\"-94.8\" font-family=\"Helvetica,sans-Serif\" font-size=\"14.00\" fill=\"#000000\">value = [12176, 19512]</text>\n",
       "<text text-anchor=\"start\" x=\"709\" y=\"-79.8\" font-family=\"Helvetica,sans-Serif\" font-size=\"14.00\" fill=\"#000000\">class = Up</text>\n",
       "</g>\n",
       "<!-- 17&#45;&gt;18 -->\n",
       "<g id=\"edge18\" class=\"edge\">\n",
       "<title>17&#45;&gt;18</title>\n",
       "<path fill=\"none\" stroke=\"#000000\" d=\"M792.3696,-190.8796C786.57,-182.1434 780.3941,-172.8404 774.4092,-163.8253\"/>\n",
       "<polygon fill=\"#000000\" stroke=\"#000000\" points=\"777.1951,-161.6935 768.7483,-155.2981 771.3632,-165.5652 777.1951,-161.6935\"/>\n",
       "</g>\n",
       "<!-- 21 -->\n",
       "<g id=\"node22\" class=\"node\">\n",
       "<title>21</title>\n",
       "<path fill=\"#399de5\" fill-opacity=\"0.266667\" stroke=\"#000000\" d=\"M965,-155C965,-155 849,-155 849,-155 843,-155 837,-149 837,-143 837,-143 837,-84 837,-84 837,-78 843,-72 849,-72 849,-72 965,-72 965,-72 971,-72 977,-78 977,-84 977,-84 977,-143 977,-143 977,-149 971,-155 965,-155\"/>\n",
       "<text text-anchor=\"start\" x=\"874\" y=\"-139.8\" font-family=\"Helvetica,sans-Serif\" font-size=\"14.00\" fill=\"#000000\">t&#45;1 ≤ 0.029</text>\n",
       "<text text-anchor=\"start\" x=\"871.5\" y=\"-124.8\" font-family=\"Helvetica,sans-Serif\" font-size=\"14.00\" fill=\"#000000\">gini = 0.488</text>\n",
       "<text text-anchor=\"start\" x=\"854.5\" y=\"-109.8\" font-family=\"Helvetica,sans-Serif\" font-size=\"14.00\" fill=\"#000000\">samples = 11867</text>\n",
       "<text text-anchor=\"start\" x=\"845\" y=\"-94.8\" font-family=\"Helvetica,sans-Serif\" font-size=\"14.00\" fill=\"#000000\">value = [5017, 6850]</text>\n",
       "<text text-anchor=\"start\" x=\"875\" y=\"-79.8\" font-family=\"Helvetica,sans-Serif\" font-size=\"14.00\" fill=\"#000000\">class = Up</text>\n",
       "</g>\n",
       "<!-- 17&#45;&gt;21 -->\n",
       "<g id=\"edge21\" class=\"edge\">\n",
       "<title>17&#45;&gt;21</title>\n",
       "<path fill=\"none\" stroke=\"#000000\" d=\"M850.4284,-190.8796C856.8811,-182.0534 863.757,-172.6485 870.4113,-163.5466\"/>\n",
       "<polygon fill=\"#000000\" stroke=\"#000000\" points=\"873.3653,-165.4364 876.4417,-155.2981 867.7144,-161.3051 873.3653,-165.4364\"/>\n",
       "</g>\n",
       "<!-- 19 -->\n",
       "<g id=\"node20\" class=\"node\">\n",
       "<title>19</title>\n",
       "<path fill=\"#c0c0c0\" stroke=\"#000000\" d=\"M695,-36C695,-36 665,-36 665,-36 659,-36 653,-30 653,-24 653,-24 653,-12 653,-12 653,-6 659,0 665,0 665,0 695,0 695,0 701,0 707,-6 707,-12 707,-12 707,-24 707,-24 707,-30 701,-36 695,-36\"/>\n",
       "<text text-anchor=\"middle\" x=\"680\" y=\"-14.3\" font-family=\"Helvetica,sans-Serif\" font-size=\"14.00\" fill=\"#000000\">(...)</text>\n",
       "</g>\n",
       "<!-- 18&#45;&gt;19 -->\n",
       "<g id=\"edge19\" class=\"edge\">\n",
       "<title>18&#45;&gt;19</title>\n",
       "<path fill=\"none\" stroke=\"#000000\" d=\"M714.422,-71.8901C708.5747,-62.7357 702.5318,-53.2752 697.1724,-44.8847\"/>\n",
       "<polygon fill=\"#000000\" stroke=\"#000000\" points=\"699.9994,-42.8086 691.6667,-36.2651 694.1001,-46.5767 699.9994,-42.8086\"/>\n",
       "</g>\n",
       "<!-- 20 -->\n",
       "<g id=\"node21\" class=\"node\">\n",
       "<title>20</title>\n",
       "<path fill=\"#c0c0c0\" stroke=\"#000000\" d=\"M767,-36C767,-36 737,-36 737,-36 731,-36 725,-30 725,-24 725,-24 725,-12 725,-12 725,-6 731,0 737,0 737,0 767,0 767,0 773,0 779,-6 779,-12 779,-12 779,-24 779,-24 779,-30 773,-36 767,-36\"/>\n",
       "<text text-anchor=\"middle\" x=\"752\" y=\"-14.3\" font-family=\"Helvetica,sans-Serif\" font-size=\"14.00\" fill=\"#000000\">(...)</text>\n",
       "</g>\n",
       "<!-- 18&#45;&gt;20 -->\n",
       "<g id=\"edge20\" class=\"edge\">\n",
       "<title>18&#45;&gt;20</title>\n",
       "<path fill=\"none\" stroke=\"#000000\" d=\"M745.7928,-71.8901C746.7911,-63.2227 747.8211,-54.2808 748.7481,-46.2325\"/>\n",
       "<polygon fill=\"#000000\" stroke=\"#000000\" points=\"752.2288,-46.5999 749.8962,-36.2651 745.2748,-45.7989 752.2288,-46.5999\"/>\n",
       "</g>\n",
       "<!-- 22 -->\n",
       "<g id=\"node23\" class=\"node\">\n",
       "<title>22</title>\n",
       "<path fill=\"#c0c0c0\" stroke=\"#000000\" d=\"M861,-36C861,-36 831,-36 831,-36 825,-36 819,-30 819,-24 819,-24 819,-12 819,-12 819,-6 825,0 831,0 831,0 861,0 861,0 867,0 873,-6 873,-12 873,-12 873,-24 873,-24 873,-30 867,-36 861,-36\"/>\n",
       "<text text-anchor=\"middle\" x=\"846\" y=\"-14.3\" font-family=\"Helvetica,sans-Serif\" font-size=\"14.00\" fill=\"#000000\">(...)</text>\n",
       "</g>\n",
       "<!-- 21&#45;&gt;22 -->\n",
       "<g id=\"edge22\" class=\"edge\">\n",
       "<title>21&#45;&gt;22</title>\n",
       "<path fill=\"none\" stroke=\"#000000\" d=\"M880.422,-71.8901C874.5747,-62.7357 868.5318,-53.2752 863.1724,-44.8847\"/>\n",
       "<polygon fill=\"#000000\" stroke=\"#000000\" points=\"865.9994,-42.8086 857.6667,-36.2651 860.1001,-46.5767 865.9994,-42.8086\"/>\n",
       "</g>\n",
       "<!-- 23 -->\n",
       "<g id=\"node24\" class=\"node\">\n",
       "<title>23</title>\n",
       "<path fill=\"#c0c0c0\" stroke=\"#000000\" d=\"M933,-36C933,-36 903,-36 903,-36 897,-36 891,-30 891,-24 891,-24 891,-12 891,-12 891,-6 897,0 903,0 903,0 933,0 933,0 939,0 945,-6 945,-12 945,-12 945,-24 945,-24 945,-30 939,-36 933,-36\"/>\n",
       "<text text-anchor=\"middle\" x=\"918\" y=\"-14.3\" font-family=\"Helvetica,sans-Serif\" font-size=\"14.00\" fill=\"#000000\">(...)</text>\n",
       "</g>\n",
       "<!-- 21&#45;&gt;23 -->\n",
       "<g id=\"edge23\" class=\"edge\">\n",
       "<title>21&#45;&gt;23</title>\n",
       "<path fill=\"none\" stroke=\"#000000\" d=\"M911.7928,-71.8901C912.7911,-63.2227 913.8211,-54.2808 914.7481,-46.2325\"/>\n",
       "<polygon fill=\"#000000\" stroke=\"#000000\" points=\"918.2288,-46.5999 915.8962,-36.2651 911.2748,-45.7989 918.2288,-46.5999\"/>\n",
       "</g>\n",
       "<!-- 25 -->\n",
       "<g id=\"node26\" class=\"node\">\n",
       "<title>25</title>\n",
       "<path fill=\"#399de5\" fill-opacity=\"0.482353\" stroke=\"#000000\" d=\"M1138.5,-155C1138.5,-155 1007.5,-155 1007.5,-155 1001.5,-155 995.5,-149 995.5,-143 995.5,-143 995.5,-84 995.5,-84 995.5,-78 1001.5,-72 1007.5,-72 1007.5,-72 1138.5,-72 1138.5,-72 1144.5,-72 1150.5,-78 1150.5,-84 1150.5,-84 1150.5,-143 1150.5,-143 1150.5,-149 1144.5,-155 1138.5,-155\"/>\n",
       "<text text-anchor=\"start\" x=\"1038\" y=\"-139.8\" font-family=\"Helvetica,sans-Serif\" font-size=\"14.00\" fill=\"#000000\">t&#45;2 ≤ &#45;0.033</text>\n",
       "<text text-anchor=\"start\" x=\"1037.5\" y=\"-124.8\" font-family=\"Helvetica,sans-Serif\" font-size=\"14.00\" fill=\"#000000\">gini = 0.449</text>\n",
       "<text text-anchor=\"start\" x=\"1020.5\" y=\"-109.8\" font-family=\"Helvetica,sans-Serif\" font-size=\"14.00\" fill=\"#000000\">samples = 49981</text>\n",
       "<text text-anchor=\"start\" x=\"1003.5\" y=\"-94.8\" font-family=\"Helvetica,sans-Serif\" font-size=\"14.00\" fill=\"#000000\">value = [17030, 32951]</text>\n",
       "<text text-anchor=\"start\" x=\"1041\" y=\"-79.8\" font-family=\"Helvetica,sans-Serif\" font-size=\"14.00\" fill=\"#000000\">class = Up</text>\n",
       "</g>\n",
       "<!-- 24&#45;&gt;25 -->\n",
       "<g id=\"edge25\" class=\"edge\">\n",
       "<title>24&#45;&gt;25</title>\n",
       "<path fill=\"none\" stroke=\"#000000\" d=\"M1073,-190.8796C1073,-182.6838 1073,-173.9891 1073,-165.5013\"/>\n",
       "<polygon fill=\"#000000\" stroke=\"#000000\" points=\"1076.5001,-165.298 1073,-155.2981 1069.5001,-165.2981 1076.5001,-165.298\"/>\n",
       "</g>\n",
       "<!-- 28 -->\n",
       "<g id=\"node29\" class=\"node\">\n",
       "<title>28</title>\n",
       "<path fill=\"#399de5\" fill-opacity=\"0.337255\" stroke=\"#000000\" d=\"M1297,-155C1297,-155 1181,-155 1181,-155 1175,-155 1169,-149 1169,-143 1169,-143 1169,-84 1169,-84 1169,-78 1175,-72 1181,-72 1181,-72 1297,-72 1297,-72 1303,-72 1309,-78 1309,-84 1309,-84 1309,-143 1309,-143 1309,-149 1303,-155 1297,-155\"/>\n",
       "<text text-anchor=\"start\" x=\"1206\" y=\"-139.8\" font-family=\"Helvetica,sans-Serif\" font-size=\"14.00\" fill=\"#000000\">t&#45;1 ≤ 0.064</text>\n",
       "<text text-anchor=\"start\" x=\"1203.5\" y=\"-124.8\" font-family=\"Helvetica,sans-Serif\" font-size=\"14.00\" fill=\"#000000\">gini = 0.479</text>\n",
       "<text text-anchor=\"start\" x=\"1190.5\" y=\"-109.8\" font-family=\"Helvetica,sans-Serif\" font-size=\"14.00\" fill=\"#000000\">samples = 4147</text>\n",
       "<text text-anchor=\"start\" x=\"1177\" y=\"-94.8\" font-family=\"Helvetica,sans-Serif\" font-size=\"14.00\" fill=\"#000000\">value = [1653, 2494]</text>\n",
       "<text text-anchor=\"start\" x=\"1207\" y=\"-79.8\" font-family=\"Helvetica,sans-Serif\" font-size=\"14.00\" fill=\"#000000\">class = Up</text>\n",
       "</g>\n",
       "<!-- 24&#45;&gt;28 -->\n",
       "<g id=\"edge28\" class=\"edge\">\n",
       "<title>24&#45;&gt;28</title>\n",
       "<path fill=\"none\" stroke=\"#000000\" d=\"M1131.0587,-190.8796C1144.4534,-181.2774 1158.8035,-170.9903 1172.5255,-161.1534\"/>\n",
       "<polygon fill=\"#000000\" stroke=\"#000000\" points=\"1174.8858,-163.7678 1180.974,-155.0969 1170.8074,-158.0786 1174.8858,-163.7678\"/>\n",
       "</g>\n",
       "<!-- 26 -->\n",
       "<g id=\"node27\" class=\"node\">\n",
       "<title>26</title>\n",
       "<path fill=\"#c0c0c0\" stroke=\"#000000\" d=\"M1045,-36C1045,-36 1015,-36 1015,-36 1009,-36 1003,-30 1003,-24 1003,-24 1003,-12 1003,-12 1003,-6 1009,0 1015,0 1015,0 1045,0 1045,0 1051,0 1057,-6 1057,-12 1057,-12 1057,-24 1057,-24 1057,-30 1051,-36 1045,-36\"/>\n",
       "<text text-anchor=\"middle\" x=\"1030\" y=\"-14.3\" font-family=\"Helvetica,sans-Serif\" font-size=\"14.00\" fill=\"#000000\">(...)</text>\n",
       "</g>\n",
       "<!-- 25&#45;&gt;26 -->\n",
       "<g id=\"edge26\" class=\"edge\">\n",
       "<title>25&#45;&gt;26</title>\n",
       "<path fill=\"none\" stroke=\"#000000\" d=\"M1054.2647,-71.8901C1050.2305,-62.9305 1046.0643,-53.6777 1042.3469,-45.4217\"/>\n",
       "<polygon fill=\"#000000\" stroke=\"#000000\" points=\"1045.5212,-43.9464 1038.2241,-36.2651 1039.1384,-46.8204 1045.5212,-43.9464\"/>\n",
       "</g>\n",
       "<!-- 27 -->\n",
       "<g id=\"node28\" class=\"node\">\n",
       "<title>27</title>\n",
       "<path fill=\"#c0c0c0\" stroke=\"#000000\" d=\"M1117,-36C1117,-36 1087,-36 1087,-36 1081,-36 1075,-30 1075,-24 1075,-24 1075,-12 1075,-12 1075,-6 1081,0 1087,0 1087,0 1117,0 1117,0 1123,0 1129,-6 1129,-12 1129,-12 1129,-24 1129,-24 1129,-30 1123,-36 1117,-36\"/>\n",
       "<text text-anchor=\"middle\" x=\"1102\" y=\"-14.3\" font-family=\"Helvetica,sans-Serif\" font-size=\"14.00\" fill=\"#000000\">(...)</text>\n",
       "</g>\n",
       "<!-- 25&#45;&gt;27 -->\n",
       "<g id=\"edge27\" class=\"edge\">\n",
       "<title>25&#45;&gt;27</title>\n",
       "<path fill=\"none\" stroke=\"#000000\" d=\"M1085.6355,-71.8901C1088.297,-63.1253 1091.0438,-54.0798 1093.5091,-45.9615\"/>\n",
       "<polygon fill=\"#000000\" stroke=\"#000000\" points=\"1096.8968,-46.8507 1096.4535,-36.2651 1090.1988,-44.8167 1096.8968,-46.8507\"/>\n",
       "</g>\n",
       "<!-- 29 -->\n",
       "<g id=\"node30\" class=\"node\">\n",
       "<title>29</title>\n",
       "<path fill=\"#c0c0c0\" stroke=\"#000000\" d=\"M1218,-36C1218,-36 1188,-36 1188,-36 1182,-36 1176,-30 1176,-24 1176,-24 1176,-12 1176,-12 1176,-6 1182,0 1188,0 1188,0 1218,0 1218,0 1224,0 1230,-6 1230,-12 1230,-12 1230,-24 1230,-24 1230,-30 1224,-36 1218,-36\"/>\n",
       "<text text-anchor=\"middle\" x=\"1203\" y=\"-14.3\" font-family=\"Helvetica,sans-Serif\" font-size=\"14.00\" fill=\"#000000\">(...)</text>\n",
       "</g>\n",
       "<!-- 28&#45;&gt;29 -->\n",
       "<g id=\"edge29\" class=\"edge\">\n",
       "<title>28&#45;&gt;29</title>\n",
       "<path fill=\"none\" stroke=\"#000000\" d=\"M1223.3146,-71.8901C1219.9739,-63.0279 1216.525,-53.8788 1213.4386,-45.6913\"/>\n",
       "<polygon fill=\"#000000\" stroke=\"#000000\" points=\"1216.6877,-44.3878 1209.8853,-36.2651 1210.1376,-46.8569 1216.6877,-44.3878\"/>\n",
       "</g>\n",
       "<!-- 30 -->\n",
       "<g id=\"node31\" class=\"node\">\n",
       "<title>30</title>\n",
       "<path fill=\"#c0c0c0\" stroke=\"#000000\" d=\"M1290,-36C1290,-36 1260,-36 1260,-36 1254,-36 1248,-30 1248,-24 1248,-24 1248,-12 1248,-12 1248,-6 1254,0 1260,0 1260,0 1290,0 1290,0 1296,0 1302,-6 1302,-12 1302,-12 1302,-24 1302,-24 1302,-30 1296,-36 1290,-36\"/>\n",
       "<text text-anchor=\"middle\" x=\"1275\" y=\"-14.3\" font-family=\"Helvetica,sans-Serif\" font-size=\"14.00\" fill=\"#000000\">(...)</text>\n",
       "</g>\n",
       "<!-- 28&#45;&gt;30 -->\n",
       "<g id=\"edge30\" class=\"edge\">\n",
       "<title>28&#45;&gt;30</title>\n",
       "<path fill=\"none\" stroke=\"#000000\" d=\"M1254.6854,-71.8901C1258.0261,-63.0279 1261.475,-53.8788 1264.5614,-45.6913\"/>\n",
       "<polygon fill=\"#000000\" stroke=\"#000000\" points=\"1267.8624,-46.8569 1268.1147,-36.2651 1261.3123,-44.3878 1267.8624,-46.8569\"/>\n",
       "</g>\n",
       "</g>\n",
       "</svg>\n"
      ],
      "text/plain": [
       "<graphviz.files.Source at 0x7f700eec3080>"
      ]
     },
     "execution_count": 57,
     "metadata": {},
     "output_type": "execute_result"
    }
   ],
   "source": [
    "dot_data = export_graphviz(classifier,\n",
    "                           out_file=None,\n",
    "                           feature_names=X2.columns,\n",
    "                           class_names=['Down', 'Up'],\n",
    "                           max_depth=3,\n",
    "                           filled=True, \n",
    "                           rounded=True,\n",
    "                           special_characters=True)\n",
    "graph = graphviz.Source(dot_data)\n",
    "graph"
   ]
  },
  {
   "cell_type": "markdown",
   "metadata": {},
   "source": [
    "#### Compare with Logistic Regression"
   ]
  },
  {
   "cell_type": "markdown",
   "metadata": {},
   "source": [
    "##### Statsmodels"
   ]
  },
  {
   "cell_type": "code",
   "execution_count": 63,
   "metadata": {
    "ExecuteTime": {
     "end_time": "2018-09-25T18:50:41.690585Z",
     "start_time": "2018-09-25T18:50:41.041198Z"
    }
   },
   "outputs": [
    {
     "name": "stdout",
     "output_type": "stream",
     "text": [
      "Optimization terminated successfully.\n",
      "         Current function value: 0.671948\n",
      "         Iterations 4\n",
      "                           Logit Regression Results                           \n",
      "==============================================================================\n",
      "Dep. Variable:                returns   No. Observations:               174551\n",
      "Model:                          Logit   Df Residuals:                   174548\n",
      "Method:                           MLE   Df Model:                            2\n",
      "Date:                Tue, 25 Sep 2018   Pseudo R-squ.:                 0.01242\n",
      "Time:                        14:50:41   Log-Likelihood:            -1.1729e+05\n",
      "converged:                       True   LL-Null:                   -1.1876e+05\n",
      "                                        LLR p-value:                     0.000\n",
      "==============================================================================\n",
      "                 coef    std err          z      P>|z|      [0.025      0.975]\n",
      "------------------------------------------------------------------------------\n",
      "const          0.2905      0.005     57.954      0.000       0.281       0.300\n",
      "t-1            4.8250      0.090     53.508      0.000       4.648       5.002\n",
      "t-2           -1.0865      0.089    -12.171      0.000      -1.262      -0.912\n",
      "==============================================================================\n"
     ]
    }
   ],
   "source": [
    "model = sm.Logit(endog=y_binary, exog=sm.add_constant(X2)).fit()\n",
    "print(model.summary())"
   ]
  },
  {
   "cell_type": "markdown",
   "metadata": {},
   "source": [
    "##### sklearn"
   ]
  },
  {
   "cell_type": "code",
   "execution_count": 59,
   "metadata": {
    "ExecuteTime": {
     "end_time": "2018-09-25T18:50:11.027525Z",
     "start_time": "2018-09-25T18:50:11.025716Z"
    }
   },
   "outputs": [],
   "source": [
    "logistic_reg = LogisticRegression()"
   ]
  },
  {
   "cell_type": "code",
   "execution_count": 60,
   "metadata": {
    "ExecuteTime": {
     "end_time": "2018-09-25T18:50:24.851653Z",
     "start_time": "2018-09-25T18:50:13.477698Z"
    }
   },
   "outputs": [
    {
     "name": "stdout",
     "output_type": "stream",
     "text": [
      "140 ms ± 1.04 ms per loop (mean ± std. dev. of 7 runs, 10 loops each)\n"
     ]
    }
   ],
   "source": [
    "%%timeit\n",
    "logistic_reg.fit(X=X2, y=y_binary)"
   ]
  },
  {
   "cell_type": "code",
   "execution_count": 64,
   "metadata": {
    "ExecuteTime": {
     "end_time": "2018-09-25T18:50:48.194387Z",
     "start_time": "2018-09-25T18:50:48.191688Z"
    }
   },
   "outputs": [
    {
     "data": {
      "text/plain": [
       "array([[ 4.78476114, -1.07214076]])"
      ]
     },
     "execution_count": 64,
     "metadata": {},
     "output_type": "execute_result"
    }
   ],
   "source": [
    "logistic_reg.coef_"
   ]
  },
  {
   "cell_type": "markdown",
   "metadata": {},
   "source": [
    "#### Plot Decision Surfaces"
   ]
  },
  {
   "cell_type": "code",
   "execution_count": 65,
   "metadata": {
    "ExecuteTime": {
     "end_time": "2018-09-25T18:51:21.583957Z",
     "start_time": "2018-09-25T18:51:21.095630Z"
    }
   },
   "outputs": [
    {
     "data": {
      "image/png": "[encoded data removed]",
      "text/plain": [
       "<Figure size 864x360 with 4 Axes>"
      ]
     },
     "metadata": {},
     "output_type": "display_data"
    }
   ],
   "source": [
    "fig, axes = plt.subplots(ncols=2, figsize=(12,5))\n",
    "\n",
    "# Linear Regression\n",
    "ret1 = logistic_reg.predict_proba(X_data)[:, 1].reshape(t1.shape)\n",
    "surface1 = axes[0].contourf(t1, t2, ret1, cmap='Blues')\n",
    "plt.colorbar(mappable=surface1, ax=axes[0])\n",
    "\n",
    "# Regression Tree\n",
    "ret2 = classifier.predict_proba(X_data)[:, 1].reshape(t1.shape)\n",
    "surface2 = axes[1].contourf(t1, t2, ret2, cmap='Blues')\n",
    "plt.colorbar(mappable=surface2, ax=axes[1])\n",
    "\n",
    "# Format plots\n",
    "titles = ['Logistic Regression', 'Classification Tree']\n",
    "for i, ax in enumerate(axes):\n",
    "    ax.set_xlabel('t-1')\n",
    "    ax.set_ylabel('t-2')\n",
    "    ax.set_title(titles[i])\n",
    "\n",
    "fig.suptitle('Decision Surfaces', fontsize=20)\n",
    "fig.tight_layout()\n",
    "fig.subplots_adjust(top=.9);"
   ]
  },
  {
   "cell_type": "markdown",
   "metadata": {},
   "source": [
    "### Print Decision Path"
   ]
  },
  {
   "cell_type": "markdown",
   "metadata": {},
   "source": [
    "Inspired by https://stackoverflow.com/questions/20224526/how-to-extract-the-decision-rules-from-scikit-learn-decision-tree"
   ]
  },
  {
   "cell_type": "code",
   "execution_count": null,
   "metadata": {
    "ExecuteTime": {
     "end_time": "2018-09-25T11:25:49.042199Z",
     "start_time": "2018-09-25T11:25:49.038091Z"
    }
   },
   "outputs": [],
   "source": [
    "def tree_to_code(tree, feature_names):\n",
    "    if isinstance(tree, DecisionTreeClassifier):\n",
    "        model = 'clf'\n",
    "    elif isinstance(tree, DecisionTreeRegressor):\n",
    "        model = 'reg'\n",
    "    else:\n",
    "        raise ValueError('Need Regression or Classification Tree')\n",
    "        \n",
    "    tree_ = tree.tree_\n",
    "    feature_name = [\n",
    "        feature_names[i] if i != _tree.TREE_UNDEFINED else \"undefined!\"\n",
    "        for i in tree_.feature\n",
    "    ]\n",
    "    print(\"def tree({}):\".format(\", \".join(feature_names)))\n",
    "\n",
    "    def recurse(node, depth):\n",
    "        indent = \"  \" * depth\n",
    "        if tree_.feature[node] != _tree.TREE_UNDEFINED:\n",
    "            name = feature_name[node]\n",
    "            threshold = tree_.threshold[node]\n",
    "            print(indent, f'if {name} <= {threshold:.2%}')\n",
    "            recurse(tree_.children_left[node], depth + 1)\n",
    "            print(indent, f'else:  # if {name} > {threshold:.2%}')\n",
    "            recurse(tree_.children_right[node], depth + 1)\n",
    "        else:\n",
    "            pred = tree_.value[node][0]\n",
    "            val = pred[1]/sum(pred) if model == 'clf' else pred[0]\n",
    "            print(indent, f'return {val:.2%}')\n",
    "    recurse(0, 1)"
   ]
  },
  {
   "cell_type": "code",
   "execution_count": null,
   "metadata": {
    "ExecuteTime": {
     "end_time": "2018-09-25T11:25:52.842635Z",
     "start_time": "2018-09-25T11:25:52.834085Z"
    }
   },
   "outputs": [],
   "source": [
    "tree_to_code(classifier, X_simple.columns)"
   ]
  },
  {
   "cell_type": "markdown",
   "metadata": {},
   "source": [
    "## More Complex Decision Trees with more Features"
   ]
  },
  {
   "cell_type": "markdown",
   "metadata": {},
   "source": [
    "### Classification Tree"
   ]
  },
  {
   "cell_type": "markdown",
   "metadata": {},
   "source": [
    "#### Train-Test Split"
   ]
  },
  {
   "cell_type": "code",
   "execution_count": 67,
   "metadata": {
    "ExecuteTime": {
     "end_time": "2018-09-25T20:56:41.247300Z",
     "start_time": "2018-09-25T20:56:41.204715Z"
    }
   },
   "outputs": [],
   "source": [
    "X_train, X_test, y_train, y_test = train_test_split(X, y_binary, test_size=0.2, random_state=42)"
   ]
  },
  {
   "cell_type": "code",
   "execution_count": 68,
   "metadata": {
    "ExecuteTime": {
     "end_time": "2018-09-25T20:56:41.607201Z",
     "start_time": "2018-09-25T20:56:41.600048Z"
    }
   },
   "outputs": [],
   "source": [
    "classifier = DecisionTreeClassifier(criterion='gini', \n",
    "                                    splitter='best', \n",
    "                                    max_depth=3, \n",
    "                                    min_samples_split=2, \n",
    "                                    min_samples_leaf=1, \n",
    "                                    min_weight_fraction_leaf=0.0,\n",
    "                                    max_features=None, \n",
    "                                    random_state=42,\n",
    "                                    max_leaf_nodes=None, \n",
    "                                    min_impurity_decrease=0.0, \n",
    "                                    min_impurity_split=None, \n",
    "                                    class_weight=None, \n",
    "                                    presort=False)"
   ]
  },
  {
   "cell_type": "code",
   "execution_count": 69,
   "metadata": {
    "ExecuteTime": {
     "end_time": "2018-09-25T20:56:43.390047Z",
     "start_time": "2018-09-25T20:56:43.065622Z"
    }
   },
   "outputs": [
    {
     "data": {
      "text/plain": [
       "DecisionTreeClassifier(class_weight=None, criterion='gini', max_depth=3,\n",
       "            max_features=None, max_leaf_nodes=None,\n",
       "            min_impurity_decrease=0.0, min_impurity_split=None,\n",
       "            min_samples_leaf=1, min_samples_split=2,\n",
       "            min_weight_fraction_leaf=0.0, presort=False, random_state=42,\n",
       "            splitter='best')"
      ]
     },
     "execution_count": 69,
     "metadata": {},
     "output_type": "execute_result"
    }
   ],
   "source": [
    "classifier.fit(X=X_train, y=y_train)"
   ]
  },
  {
   "cell_type": "markdown",
   "metadata": {},
   "source": [
    "#### Plot Tree"
   ]
  },
  {
   "cell_type": "code",
   "execution_count": 70,
   "metadata": {
    "ExecuteTime": {
     "end_time": "2018-09-25T20:56:45.104451Z",
     "start_time": "2018-09-25T20:56:45.099951Z"
    }
   },
   "outputs": [],
   "source": [
    "dot_data = export_graphviz(classifier,\n",
    "                           out_file='classifier.dot',\n",
    "                           feature_names=X.columns,\n",
    "                           class_names=['Down', 'Up'],\n",
    "                           max_depth=4,\n",
    "                           filled=True, \n",
    "                           rounded=True,\n",
    "                           special_characters=True)\n"
   ]
  },
  {
   "cell_type": "code",
   "execution_count": 71,
   "metadata": {
    "ExecuteTime": {
     "end_time": "2018-09-25T20:56:47.906805Z",
     "start_time": "2018-09-25T20:56:47.869863Z"
    }
   },
   "outputs": [
    {
     "data": {
      "image/svg+xml": [
       "<?xml version=\"1.0\" encoding=\"UTF-8\" standalone=\"no\"?>\n",
       "<!DOCTYPE svg PUBLIC \"-//W3C//DTD SVG 1.1//EN\"\n",
       " \"http://www.w3.org/Graphics/SVG/1.1/DTD/svg11.dtd\">\n",
       "<!-- Generated by graphviz version 2.40.1 (20161225.0304)\n",
       " -->\n",
       "<!-- Title: Tree Pages: 1 -->\n",
       "<svg width=\"1263pt\" height=\"433pt\"\n",
       " viewBox=\"0.00 0.00 1262.50 433.00\" xmlns=\"http://www.w3.org/2000/svg\" xmlns:xlink=\"http://www.w3.org/1999/xlink\">\n",
       "<g id=\"graph0\" class=\"graph\" transform=\"scale(1 1) rotate(0) translate(4 429)\">\n",
       "<title>Tree</title>\n",
       "<polygon fill=\"#ffffff\" stroke=\"transparent\" points=\"-4,4 -4,-429 1258.5,-429 1258.5,4 -4,4\"/>\n",
       "<!-- 0 -->\n",
       "<g id=\"node1\" class=\"node\">\n",
       "<title>0</title>\n",
       "<path fill=\"#399de5\" fill-opacity=\"0.278431\" stroke=\"#000000\" d=\"M689,-425C689,-425 558,-425 558,-425 552,-425 546,-419 546,-413 546,-413 546,-354 546,-354 546,-348 552,-342 558,-342 558,-342 689,-342 689,-342 695,-342 701,-348 701,-354 701,-354 701,-413 701,-413 701,-419 695,-425 689,-425\"/>\n",
       "<text text-anchor=\"start\" x=\"590.5\" y=\"-409.8\" font-family=\"Helvetica,sans-Serif\" font-size=\"14.00\" fill=\"#000000\">t&#45;1 ≤ 0.003</text>\n",
       "<text text-anchor=\"start\" x=\"588\" y=\"-394.8\" font-family=\"Helvetica,sans-Serif\" font-size=\"14.00\" fill=\"#000000\">gini = 0.487</text>\n",
       "<text text-anchor=\"start\" x=\"567.5\" y=\"-379.8\" font-family=\"Helvetica,sans-Serif\" font-size=\"14.00\" fill=\"#000000\">samples = 139640</text>\n",
       "<text text-anchor=\"start\" x=\"554\" y=\"-364.8\" font-family=\"Helvetica,sans-Serif\" font-size=\"14.00\" fill=\"#000000\">value = [58537, 81103]</text>\n",
       "<text text-anchor=\"start\" x=\"591.5\" y=\"-349.8\" font-family=\"Helvetica,sans-Serif\" font-size=\"14.00\" fill=\"#000000\">class = Up</text>\n",
       "</g>\n",
       "<!-- 1 -->\n",
       "<g id=\"node2\" class=\"node\">\n",
       "<title>1</title>\n",
       "<path fill=\"#399de5\" fill-opacity=\"0.050980\" stroke=\"#000000\" d=\"M539,-306C539,-306 408,-306 408,-306 402,-306 396,-300 396,-294 396,-294 396,-235 396,-235 396,-229 402,-223 408,-223 408,-223 539,-223 539,-223 545,-223 551,-229 551,-235 551,-235 551,-294 551,-294 551,-300 545,-306 539,-306\"/>\n",
       "<text text-anchor=\"start\" x=\"424\" y=\"-290.8\" font-family=\"Helvetica,sans-Serif\" font-size=\"14.00\" fill=\"#000000\">year_2013 ≤ 0.5</text>\n",
       "<text text-anchor=\"start\" x=\"445.5\" y=\"-275.8\" font-family=\"Helvetica,sans-Serif\" font-size=\"14.00\" fill=\"#000000\">gini = 0.5</text>\n",
       "<text text-anchor=\"start\" x=\"421\" y=\"-260.8\" font-family=\"Helvetica,sans-Serif\" font-size=\"14.00\" fill=\"#000000\">samples = 61675</text>\n",
       "<text text-anchor=\"start\" x=\"404\" y=\"-245.8\" font-family=\"Helvetica,sans-Serif\" font-size=\"14.00\" fill=\"#000000\">value = [30023, 31652]</text>\n",
       "<text text-anchor=\"start\" x=\"441.5\" y=\"-230.8\" font-family=\"Helvetica,sans-Serif\" font-size=\"14.00\" fill=\"#000000\">class = Up</text>\n",
       "</g>\n",
       "<!-- 0&#45;&gt;1 -->\n",
       "<g id=\"edge1\" class=\"edge\">\n",
       "<title>0&#45;&gt;1</title>\n",
       "<path fill=\"none\" stroke=\"#000000\" d=\"M571.0373,-341.8796C559.0479,-332.368 546.2113,-322.1843 533.9184,-312.432\"/>\n",
       "<polygon fill=\"#000000\" stroke=\"#000000\" points=\"535.9425,-309.5701 525.9331,-306.0969 531.5919,-315.054 535.9425,-309.5701\"/>\n",
       "<text text-anchor=\"middle\" x=\"528.7952\" y=\"-327.2326\" font-family=\"Helvetica,sans-Serif\" font-size=\"14.00\" fill=\"#000000\">True</text>\n",
       "</g>\n",
       "<!-- 8 -->\n",
       "<g id=\"node9\" class=\"node\">\n",
       "<title>8</title>\n",
       "<path fill=\"#399de5\" fill-opacity=\"0.423529\" stroke=\"#000000\" d=\"M855,-306C855,-306 724,-306 724,-306 718,-306 712,-300 712,-294 712,-294 712,-235 712,-235 712,-229 718,-223 724,-223 724,-223 855,-223 855,-223 861,-223 867,-229 867,-235 867,-235 867,-294 867,-294 867,-300 861,-306 855,-306\"/>\n",
       "<text text-anchor=\"start\" x=\"740\" y=\"-290.8\" font-family=\"Helvetica,sans-Serif\" font-size=\"14.00\" fill=\"#000000\">year_2013 ≤ 0.5</text>\n",
       "<text text-anchor=\"start\" x=\"754\" y=\"-275.8\" font-family=\"Helvetica,sans-Serif\" font-size=\"14.00\" fill=\"#000000\">gini = 0.464</text>\n",
       "<text text-anchor=\"start\" x=\"737\" y=\"-260.8\" font-family=\"Helvetica,sans-Serif\" font-size=\"14.00\" fill=\"#000000\">samples = 77965</text>\n",
       "<text text-anchor=\"start\" x=\"720\" y=\"-245.8\" font-family=\"Helvetica,sans-Serif\" font-size=\"14.00\" fill=\"#000000\">value = [28514, 49451]</text>\n",
       "<text text-anchor=\"start\" x=\"757.5\" y=\"-230.8\" font-family=\"Helvetica,sans-Serif\" font-size=\"14.00\" fill=\"#000000\">class = Up</text>\n",
       "</g>\n",
       "<!-- 0&#45;&gt;8 -->\n",
       "<g id=\"edge8\" class=\"edge\">\n",
       "<title>0&#45;&gt;8</title>\n",
       "<path fill=\"none\" stroke=\"#000000\" d=\"M681.5587,-341.8796C694.9534,-332.2774 709.3035,-321.9903 723.0255,-312.1534\"/>\n",
       "<polygon fill=\"#000000\" stroke=\"#000000\" points=\"725.3858,-314.7678 731.474,-306.0969 721.3074,-309.0786 725.3858,-314.7678\"/>\n",
       "<text text-anchor=\"middle\" x=\"727.4062\" y=\"-327.0638\" font-family=\"Helvetica,sans-Serif\" font-size=\"14.00\" fill=\"#000000\">False</text>\n",
       "</g>\n",
       "<!-- 2 -->\n",
       "<g id=\"node3\" class=\"node\">\n",
       "<title>2</title>\n",
       "<path fill=\"transparent\" stroke=\"#000000\" d=\"M309,-187C309,-187 178,-187 178,-187 172,-187 166,-181 166,-175 166,-175 166,-116 166,-116 166,-110 172,-104 178,-104 178,-104 309,-104 309,-104 315,-104 321,-110 321,-116 321,-116 321,-175 321,-175 321,-181 315,-187 309,-187\"/>\n",
       "<text text-anchor=\"start\" x=\"194\" y=\"-171.8\" font-family=\"Helvetica,sans-Serif\" font-size=\"14.00\" fill=\"#000000\">year_2015 ≤ 0.5</text>\n",
       "<text text-anchor=\"start\" x=\"215.5\" y=\"-156.8\" font-family=\"Helvetica,sans-Serif\" font-size=\"14.00\" fill=\"#000000\">gini = 0.5</text>\n",
       "<text text-anchor=\"start\" x=\"191\" y=\"-141.8\" font-family=\"Helvetica,sans-Serif\" font-size=\"14.00\" fill=\"#000000\">samples = 55248</text>\n",
       "<text text-anchor=\"start\" x=\"174\" y=\"-126.8\" font-family=\"Helvetica,sans-Serif\" font-size=\"14.00\" fill=\"#000000\">value = [27615, 27633]</text>\n",
       "<text text-anchor=\"start\" x=\"211.5\" y=\"-111.8\" font-family=\"Helvetica,sans-Serif\" font-size=\"14.00\" fill=\"#000000\">class = Up</text>\n",
       "</g>\n",
       "<!-- 1&#45;&gt;2 -->\n",
       "<g id=\"edge2\" class=\"edge\">\n",
       "<title>1&#45;&gt;2</title>\n",
       "<path fill=\"none\" stroke=\"#000000\" d=\"M395.9531,-224.3779C374.8425,-213.4555 351.8417,-201.555 330.256,-190.3868\"/>\n",
       "<polygon fill=\"#000000\" stroke=\"#000000\" points=\"331.5913,-187.137 321.1013,-185.6503 328.3746,-193.3542 331.5913,-187.137\"/>\n",
       "</g>\n",
       "<!-- 5 -->\n",
       "<g id=\"node6\" class=\"node\">\n",
       "<title>5</title>\n",
       "<path fill=\"#399de5\" fill-opacity=\"0.400000\" stroke=\"#000000\" d=\"M531.5,-187C531.5,-187 415.5,-187 415.5,-187 409.5,-187 403.5,-181 403.5,-175 403.5,-175 403.5,-116 403.5,-116 403.5,-110 409.5,-104 415.5,-104 415.5,-104 531.5,-104 531.5,-104 537.5,-104 543.5,-110 543.5,-116 543.5,-116 543.5,-175 543.5,-175 543.5,-181 537.5,-187 531.5,-187\"/>\n",
       "<text text-anchor=\"start\" x=\"432\" y=\"-171.8\" font-family=\"Helvetica,sans-Serif\" font-size=\"14.00\" fill=\"#000000\">Finance ≤ 0.5</text>\n",
       "<text text-anchor=\"start\" x=\"438\" y=\"-156.8\" font-family=\"Helvetica,sans-Serif\" font-size=\"14.00\" fill=\"#000000\">gini = 0.469</text>\n",
       "<text text-anchor=\"start\" x=\"425\" y=\"-141.8\" font-family=\"Helvetica,sans-Serif\" font-size=\"14.00\" fill=\"#000000\">samples = 6427</text>\n",
       "<text text-anchor=\"start\" x=\"411.5\" y=\"-126.8\" font-family=\"Helvetica,sans-Serif\" font-size=\"14.00\" fill=\"#000000\">value = [2408, 4019]</text>\n",
       "<text text-anchor=\"start\" x=\"441.5\" y=\"-111.8\" font-family=\"Helvetica,sans-Serif\" font-size=\"14.00\" fill=\"#000000\">class = Up</text>\n",
       "</g>\n",
       "<!-- 1&#45;&gt;5 -->\n",
       "<g id=\"edge5\" class=\"edge\">\n",
       "<title>1&#45;&gt;5</title>\n",
       "<path fill=\"none\" stroke=\"#000000\" d=\"M473.5,-222.8796C473.5,-214.6838 473.5,-205.9891 473.5,-197.5013\"/>\n",
       "<polygon fill=\"#000000\" stroke=\"#000000\" points=\"477.0001,-197.298 473.5,-187.2981 470.0001,-197.2981 477.0001,-197.298\"/>\n",
       "</g>\n",
       "<!-- 3 -->\n",
       "<g id=\"node4\" class=\"node\">\n",
       "<title>3</title>\n",
       "<path fill=\"#399de5\" fill-opacity=\"0.054902\" stroke=\"#000000\" d=\"M143,-68C143,-68 12,-68 12,-68 6,-68 0,-62 0,-56 0,-56 0,-12 0,-12 0,-6 6,0 12,0 12,0 143,0 143,0 149,0 155,-6 155,-12 155,-12 155,-56 155,-56 155,-62 149,-68 143,-68\"/>\n",
       "<text text-anchor=\"start\" x=\"49.5\" y=\"-52.8\" font-family=\"Helvetica,sans-Serif\" font-size=\"14.00\" fill=\"#000000\">gini = 0.5</text>\n",
       "<text text-anchor=\"start\" x=\"25\" y=\"-37.8\" font-family=\"Helvetica,sans-Serif\" font-size=\"14.00\" fill=\"#000000\">samples = 44923</text>\n",
       "<text text-anchor=\"start\" x=\"8\" y=\"-22.8\" font-family=\"Helvetica,sans-Serif\" font-size=\"14.00\" fill=\"#000000\">value = [21833, 23090]</text>\n",
       "<text text-anchor=\"start\" x=\"45.5\" y=\"-7.8\" font-family=\"Helvetica,sans-Serif\" font-size=\"14.00\" fill=\"#000000\">class = Up</text>\n",
       "</g>\n",
       "<!-- 2&#45;&gt;3 -->\n",
       "<g id=\"edge3\" class=\"edge\">\n",
       "<title>2&#45;&gt;3</title>\n",
       "<path fill=\"none\" stroke=\"#000000\" d=\"M181.6877,-103.9815C166.9699,-94.0957 151.2995,-83.5701 136.7019,-73.7651\"/>\n",
       "<polygon fill=\"#000000\" stroke=\"#000000\" points=\"138.4991,-70.7561 128.2463,-68.0856 134.596,-76.5669 138.4991,-70.7561\"/>\n",
       "</g>\n",
       "<!-- 4 -->\n",
       "<g id=\"node5\" class=\"node\">\n",
       "<title>4</title>\n",
       "<path fill=\"#e58139\" fill-opacity=\"0.215686\" stroke=\"#000000\" d=\"M301.5,-68C301.5,-68 185.5,-68 185.5,-68 179.5,-68 173.5,-62 173.5,-56 173.5,-56 173.5,-12 173.5,-12 173.5,-6 179.5,0 185.5,0 185.5,0 301.5,0 301.5,0 307.5,0 313.5,-6 313.5,-12 313.5,-12 313.5,-56 313.5,-56 313.5,-62 307.5,-68 301.5,-68\"/>\n",
       "<text text-anchor=\"start\" x=\"208\" y=\"-52.8\" font-family=\"Helvetica,sans-Serif\" font-size=\"14.00\" fill=\"#000000\">gini = 0.493</text>\n",
       "<text text-anchor=\"start\" x=\"191\" y=\"-37.8\" font-family=\"Helvetica,sans-Serif\" font-size=\"14.00\" fill=\"#000000\">samples = 10325</text>\n",
       "<text text-anchor=\"start\" x=\"181.5\" y=\"-22.8\" font-family=\"Helvetica,sans-Serif\" font-size=\"14.00\" fill=\"#000000\">value = [5782, 4543]</text>\n",
       "<text text-anchor=\"start\" x=\"202.5\" y=\"-7.8\" font-family=\"Helvetica,sans-Serif\" font-size=\"14.00\" fill=\"#000000\">class = Down</text>\n",
       "</g>\n",
       "<!-- 2&#45;&gt;4 -->\n",
       "<g id=\"edge4\" class=\"edge\">\n",
       "<title>2&#45;&gt;4</title>\n",
       "<path fill=\"none\" stroke=\"#000000\" d=\"M243.5,-103.9815C243.5,-95.618 243.5,-86.7965 243.5,-78.3409\"/>\n",
       "<polygon fill=\"#000000\" stroke=\"#000000\" points=\"247.0001,-78.2636 243.5,-68.2637 240.0001,-78.2637 247.0001,-78.2636\"/>\n",
       "</g>\n",
       "<!-- 6 -->\n",
       "<g id=\"node7\" class=\"node\">\n",
       "<title>6</title>\n",
       "<path fill=\"#399de5\" fill-opacity=\"0.352941\" stroke=\"#000000\" d=\"M459.5,-68C459.5,-68 343.5,-68 343.5,-68 337.5,-68 331.5,-62 331.5,-56 331.5,-56 331.5,-12 331.5,-12 331.5,-6 337.5,0 343.5,0 343.5,0 459.5,0 459.5,0 465.5,0 471.5,-6 471.5,-12 471.5,-12 471.5,-56 471.5,-56 471.5,-62 465.5,-68 459.5,-68\"/>\n",
       "<text text-anchor=\"start\" x=\"366\" y=\"-52.8\" font-family=\"Helvetica,sans-Serif\" font-size=\"14.00\" fill=\"#000000\">gini = 0.477</text>\n",
       "<text text-anchor=\"start\" x=\"353\" y=\"-37.8\" font-family=\"Helvetica,sans-Serif\" font-size=\"14.00\" fill=\"#000000\">samples = 5465</text>\n",
       "<text text-anchor=\"start\" x=\"339.5\" y=\"-22.8\" font-family=\"Helvetica,sans-Serif\" font-size=\"14.00\" fill=\"#000000\">value = [2147, 3318]</text>\n",
       "<text text-anchor=\"start\" x=\"369.5\" y=\"-7.8\" font-family=\"Helvetica,sans-Serif\" font-size=\"14.00\" fill=\"#000000\">class = Up</text>\n",
       "</g>\n",
       "<!-- 5&#45;&gt;6 -->\n",
       "<g id=\"edge6\" class=\"edge\">\n",
       "<title>5&#45;&gt;6</title>\n",
       "<path fill=\"none\" stroke=\"#000000\" d=\"M446.6899,-103.9815C440.9331,-95.0666 434.8404,-85.6313 429.0559,-76.6734\"/>\n",
       "<polygon fill=\"#000000\" stroke=\"#000000\" points=\"431.9904,-74.7658 423.6254,-68.2637 426.1099,-78.5631 431.9904,-74.7658\"/>\n",
       "</g>\n",
       "<!-- 7 -->\n",
       "<g id=\"node8\" class=\"node\">\n",
       "<title>7</title>\n",
       "<path fill=\"#399de5\" fill-opacity=\"0.627451\" stroke=\"#000000\" d=\"M603,-68C603,-68 502,-68 502,-68 496,-68 490,-62 490,-56 490,-56 490,-12 490,-12 490,-6 496,0 502,0 502,0 603,0 603,0 609,0 615,-6 615,-12 615,-12 615,-56 615,-56 615,-62 609,-68 603,-68\"/>\n",
       "<text text-anchor=\"start\" x=\"517\" y=\"-52.8\" font-family=\"Helvetica,sans-Serif\" font-size=\"14.00\" fill=\"#000000\">gini = 0.395</text>\n",
       "<text text-anchor=\"start\" x=\"507.5\" y=\"-37.8\" font-family=\"Helvetica,sans-Serif\" font-size=\"14.00\" fill=\"#000000\">samples = 962</text>\n",
       "<text text-anchor=\"start\" x=\"498\" y=\"-22.8\" font-family=\"Helvetica,sans-Serif\" font-size=\"14.00\" fill=\"#000000\">value = [261, 701]</text>\n",
       "<text text-anchor=\"start\" x=\"520.5\" y=\"-7.8\" font-family=\"Helvetica,sans-Serif\" font-size=\"14.00\" fill=\"#000000\">class = Up</text>\n",
       "</g>\n",
       "<!-- 5&#45;&gt;7 -->\n",
       "<g id=\"edge7\" class=\"edge\">\n",
       "<title>5&#45;&gt;7</title>\n",
       "<path fill=\"none\" stroke=\"#000000\" d=\"M502.9167,-103.9815C509.2331,-95.0666 515.9182,-85.6313 522.2651,-76.6734\"/>\n",
       "<polygon fill=\"#000000\" stroke=\"#000000\" points=\"525.2981,-78.4466 528.2235,-68.2637 519.5864,-74.3998 525.2981,-78.4466\"/>\n",
       "</g>\n",
       "<!-- 9 -->\n",
       "<g id=\"node10\" class=\"node\">\n",
       "<title>9</title>\n",
       "<path fill=\"#399de5\" fill-opacity=\"0.384314\" stroke=\"#000000\" d=\"M855,-187C855,-187 724,-187 724,-187 718,-187 712,-181 712,-175 712,-175 712,-116 712,-116 712,-110 718,-104 724,-104 724,-104 855,-104 855,-104 861,-104 867,-110 867,-116 867,-116 867,-175 867,-175 867,-181 861,-187 855,-187\"/>\n",
       "<text text-anchor=\"start\" x=\"752.5\" y=\"-171.8\" font-family=\"Helvetica,sans-Serif\" font-size=\"14.00\" fill=\"#000000\">size_1 ≤ 0.5</text>\n",
       "<text text-anchor=\"start\" x=\"754\" y=\"-156.8\" font-family=\"Helvetica,sans-Serif\" font-size=\"14.00\" fill=\"#000000\">gini = 0.472</text>\n",
       "<text text-anchor=\"start\" x=\"737\" y=\"-141.8\" font-family=\"Helvetica,sans-Serif\" font-size=\"14.00\" fill=\"#000000\">samples = 64707</text>\n",
       "<text text-anchor=\"start\" x=\"720\" y=\"-126.8\" font-family=\"Helvetica,sans-Serif\" font-size=\"14.00\" fill=\"#000000\">value = [24654, 40053]</text>\n",
       "<text text-anchor=\"start\" x=\"757.5\" y=\"-111.8\" font-family=\"Helvetica,sans-Serif\" font-size=\"14.00\" fill=\"#000000\">class = Up</text>\n",
       "</g>\n",
       "<!-- 8&#45;&gt;9 -->\n",
       "<g id=\"edge9\" class=\"edge\">\n",
       "<title>8&#45;&gt;9</title>\n",
       "<path fill=\"none\" stroke=\"#000000\" d=\"M789.5,-222.8796C789.5,-214.6838 789.5,-205.9891 789.5,-197.5013\"/>\n",
       "<polygon fill=\"#000000\" stroke=\"#000000\" points=\"793.0001,-197.298 789.5,-187.2981 786.0001,-197.2981 793.0001,-197.298\"/>\n",
       "</g>\n",
       "<!-- 12 -->\n",
       "<g id=\"node13\" class=\"node\">\n",
       "<title>12</title>\n",
       "<path fill=\"#399de5\" fill-opacity=\"0.588235\" stroke=\"#000000\" d=\"M1092.5,-187C1092.5,-187 976.5,-187 976.5,-187 970.5,-187 964.5,-181 964.5,-175 964.5,-175 964.5,-116 964.5,-116 964.5,-110 970.5,-104 976.5,-104 976.5,-104 1092.5,-104 1092.5,-104 1098.5,-104 1104.5,-110 1104.5,-116 1104.5,-116 1104.5,-175 1104.5,-175 1104.5,-181 1098.5,-187 1092.5,-187\"/>\n",
       "<text text-anchor=\"start\" x=\"1001.5\" y=\"-171.8\" font-family=\"Helvetica,sans-Serif\" font-size=\"14.00\" fill=\"#000000\">t&#45;3 ≤ 0.076</text>\n",
       "<text text-anchor=\"start\" x=\"999\" y=\"-156.8\" font-family=\"Helvetica,sans-Serif\" font-size=\"14.00\" fill=\"#000000\">gini = 0.413</text>\n",
       "<text text-anchor=\"start\" x=\"982\" y=\"-141.8\" font-family=\"Helvetica,sans-Serif\" font-size=\"14.00\" fill=\"#000000\">samples = 13258</text>\n",
       "<text text-anchor=\"start\" x=\"972.5\" y=\"-126.8\" font-family=\"Helvetica,sans-Serif\" font-size=\"14.00\" fill=\"#000000\">value = [3860, 9398]</text>\n",
       "<text text-anchor=\"start\" x=\"1002.5\" y=\"-111.8\" font-family=\"Helvetica,sans-Serif\" font-size=\"14.00\" fill=\"#000000\">class = Up</text>\n",
       "</g>\n",
       "<!-- 8&#45;&gt;12 -->\n",
       "<g id=\"edge12\" class=\"edge\">\n",
       "<title>8&#45;&gt;12</title>\n",
       "<path fill=\"none\" stroke=\"#000000\" d=\"M867.0195,-226.8477C895.1025,-213.2074 926.8479,-197.7882 955.091,-184.0701\"/>\n",
       "<polygon fill=\"#000000\" stroke=\"#000000\" points=\"956.6628,-187.1977 964.1287,-179.6803 953.6045,-180.9011 956.6628,-187.1977\"/>\n",
       "</g>\n",
       "<!-- 10 -->\n",
       "<g id=\"node11\" class=\"node\">\n",
       "<title>10</title>\n",
       "<path fill=\"#399de5\" fill-opacity=\"0.403922\" stroke=\"#000000\" d=\"M776,-68C776,-68 645,-68 645,-68 639,-68 633,-62 633,-56 633,-56 633,-12 633,-12 633,-6 639,0 645,0 645,0 776,0 776,0 782,0 788,-6 788,-12 788,-12 788,-56 788,-56 788,-62 782,-68 776,-68\"/>\n",
       "<text text-anchor=\"start\" x=\"675\" y=\"-52.8\" font-family=\"Helvetica,sans-Serif\" font-size=\"14.00\" fill=\"#000000\">gini = 0.468</text>\n",
       "<text text-anchor=\"start\" x=\"658\" y=\"-37.8\" font-family=\"Helvetica,sans-Serif\" font-size=\"14.00\" fill=\"#000000\">samples = 60355</text>\n",
       "<text text-anchor=\"start\" x=\"641\" y=\"-22.8\" font-family=\"Helvetica,sans-Serif\" font-size=\"14.00\" fill=\"#000000\">value = [22501, 37854]</text>\n",
       "<text text-anchor=\"start\" x=\"678.5\" y=\"-7.8\" font-family=\"Helvetica,sans-Serif\" font-size=\"14.00\" fill=\"#000000\">class = Up</text>\n",
       "</g>\n",
       "<!-- 9&#45;&gt;10 -->\n",
       "<g id=\"edge10\" class=\"edge\">\n",
       "<title>9&#45;&gt;10</title>\n",
       "<path fill=\"none\" stroke=\"#000000\" d=\"M760.0833,-103.9815C753.7669,-95.0666 747.0818,-85.6313 740.7349,-76.6734\"/>\n",
       "<polygon fill=\"#000000\" stroke=\"#000000\" points=\"743.4136,-74.3998 734.7765,-68.2637 737.7019,-78.4466 743.4136,-74.3998\"/>\n",
       "</g>\n",
       "<!-- 11 -->\n",
       "<g id=\"node12\" class=\"node\">\n",
       "<title>11</title>\n",
       "<path fill=\"#399de5\" fill-opacity=\"0.019608\" stroke=\"#000000\" d=\"M934.5,-68C934.5,-68 818.5,-68 818.5,-68 812.5,-68 806.5,-62 806.5,-56 806.5,-56 806.5,-12 806.5,-12 806.5,-6 812.5,0 818.5,0 818.5,0 934.5,0 934.5,0 940.5,0 946.5,-6 946.5,-12 946.5,-12 946.5,-56 946.5,-56 946.5,-62 940.5,-68 934.5,-68\"/>\n",
       "<text text-anchor=\"start\" x=\"848.5\" y=\"-52.8\" font-family=\"Helvetica,sans-Serif\" font-size=\"14.00\" fill=\"#000000\">gini = 0.5</text>\n",
       "<text text-anchor=\"start\" x=\"828\" y=\"-37.8\" font-family=\"Helvetica,sans-Serif\" font-size=\"14.00\" fill=\"#000000\">samples = 4352</text>\n",
       "<text text-anchor=\"start\" x=\"814.5\" y=\"-22.8\" font-family=\"Helvetica,sans-Serif\" font-size=\"14.00\" fill=\"#000000\">value = [2153, 2199]</text>\n",
       "<text text-anchor=\"start\" x=\"844.5\" y=\"-7.8\" font-family=\"Helvetica,sans-Serif\" font-size=\"14.00\" fill=\"#000000\">class = Up</text>\n",
       "</g>\n",
       "<!-- 9&#45;&gt;11 -->\n",
       "<g id=\"edge11\" class=\"edge\">\n",
       "<title>9&#45;&gt;11</title>\n",
       "<path fill=\"none\" stroke=\"#000000\" d=\"M821.8956,-103.9815C828.9234,-94.9747 836.3655,-85.4367 843.4193,-76.3965\"/>\n",
       "<polygon fill=\"#000000\" stroke=\"#000000\" points=\"846.3728,-78.3008 849.7651,-68.2637 840.854,-73.9946 846.3728,-78.3008\"/>\n",
       "</g>\n",
       "<!-- 13 -->\n",
       "<g id=\"node14\" class=\"node\">\n",
       "<title>13</title>\n",
       "<path fill=\"#399de5\" fill-opacity=\"0.611765\" stroke=\"#000000\" d=\"M1092.5,-68C1092.5,-68 976.5,-68 976.5,-68 970.5,-68 964.5,-62 964.5,-56 964.5,-56 964.5,-12 964.5,-12 964.5,-6 970.5,0 976.5,0 976.5,0 1092.5,0 1092.5,0 1098.5,0 1104.5,-6 1104.5,-12 1104.5,-12 1104.5,-56 1104.5,-56 1104.5,-62 1098.5,-68 1092.5,-68\"/>\n",
       "<text text-anchor=\"start\" x=\"999\" y=\"-52.8\" font-family=\"Helvetica,sans-Serif\" font-size=\"14.00\" fill=\"#000000\">gini = 0.402</text>\n",
       "<text text-anchor=\"start\" x=\"982\" y=\"-37.8\" font-family=\"Helvetica,sans-Serif\" font-size=\"14.00\" fill=\"#000000\">samples = 11386</text>\n",
       "<text text-anchor=\"start\" x=\"972.5\" y=\"-22.8\" font-family=\"Helvetica,sans-Serif\" font-size=\"14.00\" fill=\"#000000\">value = [3175, 8211]</text>\n",
       "<text text-anchor=\"start\" x=\"1002.5\" y=\"-7.8\" font-family=\"Helvetica,sans-Serif\" font-size=\"14.00\" fill=\"#000000\">class = Up</text>\n",
       "</g>\n",
       "<!-- 12&#45;&gt;13 -->\n",
       "<g id=\"edge13\" class=\"edge\">\n",
       "<title>12&#45;&gt;13</title>\n",
       "<path fill=\"none\" stroke=\"#000000\" d=\"M1034.5,-103.9815C1034.5,-95.618 1034.5,-86.7965 1034.5,-78.3409\"/>\n",
       "<polygon fill=\"#000000\" stroke=\"#000000\" points=\"1038.0001,-78.2636 1034.5,-68.2637 1031.0001,-78.2637 1038.0001,-78.2636\"/>\n",
       "</g>\n",
       "<!-- 14 -->\n",
       "<g id=\"node15\" class=\"node\">\n",
       "<title>14</title>\n",
       "<path fill=\"#399de5\" fill-opacity=\"0.423529\" stroke=\"#000000\" d=\"M1242.5,-68C1242.5,-68 1134.5,-68 1134.5,-68 1128.5,-68 1122.5,-62 1122.5,-56 1122.5,-56 1122.5,-12 1122.5,-12 1122.5,-6 1128.5,0 1134.5,0 1134.5,0 1242.5,0 1242.5,0 1248.5,0 1254.5,-6 1254.5,-12 1254.5,-12 1254.5,-56 1254.5,-56 1254.5,-62 1248.5,-68 1242.5,-68\"/>\n",
       "<text text-anchor=\"start\" x=\"1153\" y=\"-52.8\" font-family=\"Helvetica,sans-Serif\" font-size=\"14.00\" fill=\"#000000\">gini = 0.464</text>\n",
       "<text text-anchor=\"start\" x=\"1140\" y=\"-37.8\" font-family=\"Helvetica,sans-Serif\" font-size=\"14.00\" fill=\"#000000\">samples = 1872</text>\n",
       "<text text-anchor=\"start\" x=\"1130.5\" y=\"-22.8\" font-family=\"Helvetica,sans-Serif\" font-size=\"14.00\" fill=\"#000000\">value = [685, 1187]</text>\n",
       "<text text-anchor=\"start\" x=\"1156.5\" y=\"-7.8\" font-family=\"Helvetica,sans-Serif\" font-size=\"14.00\" fill=\"#000000\">class = Up</text>\n",
       "</g>\n",
       "<!-- 12&#45;&gt;14 -->\n",
       "<g id=\"edge14\" class=\"edge\">\n",
       "<title>12&#45;&gt;14</title>\n",
       "<path fill=\"none\" stroke=\"#000000\" d=\"M1091.8439,-103.9815C1105.2994,-94.2394 1119.6131,-83.8759 1132.9867,-74.193\"/>\n",
       "<polygon fill=\"#000000\" stroke=\"#000000\" points=\"1135.1289,-76.9632 1141.1762,-68.2637 1131.0237,-71.2933 1135.1289,-76.9632\"/>\n",
       "</g>\n",
       "</g>\n",
       "</svg>\n"
      ],
      "text/plain": [
       "<graphviz.files.Source at 0x7f700eec3d30>"
      ]
     },
     "execution_count": 71,
     "metadata": {},
     "output_type": "execute_result"
    }
   ],
   "source": [
    "graph = graphviz.Source(Path('classifier.dot').read_text())\n",
    "graph"
   ]
  },
  {
   "cell_type": "markdown",
   "metadata": {},
   "source": [
    "#### Evaluate Test Set"
   ]
  },
  {
   "cell_type": "code",
   "execution_count": 75,
   "metadata": {
    "ExecuteTime": {
     "end_time": "2018-09-25T21:02:08.982809Z",
     "start_time": "2018-09-25T21:02:08.976250Z"
    }
   },
   "outputs": [],
   "source": [
    "y_pred = classifier.predict_proba(X_test)[:, 1]"
   ]
  },
  {
   "cell_type": "code",
   "execution_count": 76,
   "metadata": {
    "ExecuteTime": {
     "end_time": "2018-09-25T21:02:09.441143Z",
     "start_time": "2018-09-25T21:02:09.422200Z"
    }
   },
   "outputs": [
    {
     "data": {
      "text/plain": [
       "0.5813572459443236"
      ]
     },
     "execution_count": 76,
     "metadata": {},
     "output_type": "execute_result"
    }
   ],
   "source": [
    "roc_auc_score(y_true=y_test, y_score=y_pred)"
   ]
  },
  {
   "cell_type": "code",
   "execution_count": null,
   "metadata": {},
   "outputs": [],
   "source": []
  },
  {
   "cell_type": "markdown",
   "metadata": {},
   "source": [
    "### Regression Tree"
   ]
  },
  {
   "cell_type": "markdown",
   "metadata": {},
   "source": [
    "#### Train-Test Split"
   ]
  },
  {
   "cell_type": "code",
   "execution_count": 79,
   "metadata": {
    "ExecuteTime": {
     "end_time": "2018-09-25T21:04:31.603034Z",
     "start_time": "2018-09-25T21:04:31.550404Z"
    }
   },
   "outputs": [],
   "source": [
    "X_train, X_test, y_train, y_test = train_test_split(X, y, test_size=0.2, random_state=42)"
   ]
  },
  {
   "cell_type": "markdown",
   "metadata": {},
   "source": [
    "#### Configure Tree"
   ]
  },
  {
   "cell_type": "code",
   "execution_count": 80,
   "metadata": {
    "ExecuteTime": {
     "end_time": "2018-09-25T21:04:32.676567Z",
     "start_time": "2018-09-25T21:04:32.670858Z"
    }
   },
   "outputs": [],
   "source": [
    "regression_tree = DecisionTreeRegressor(criterion='mse',\n",
    "                                        splitter='best',\n",
    "                                        max_depth=5,\n",
    "                                        min_samples_split=2,\n",
    "                                        min_samples_leaf=1,\n",
    "                                        min_weight_fraction_leaf=0.0,\n",
    "                                        max_features=None,\n",
    "                                        random_state=42,\n",
    "                                        max_leaf_nodes=None,\n",
    "                                        min_impurity_decrease=0.0,\n",
    "                                        min_impurity_split=None,\n",
    "                                        presort=False)"
   ]
  },
  {
   "cell_type": "markdown",
   "metadata": {},
   "source": [
    "#### Train Model"
   ]
  },
  {
   "cell_type": "code",
   "execution_count": 81,
   "metadata": {
    "ExecuteTime": {
     "end_time": "2018-09-25T21:04:37.366488Z",
     "start_time": "2018-09-25T21:04:36.879781Z"
    },
    "scrolled": true
   },
   "outputs": [
    {
     "data": {
      "text/plain": [
       "DecisionTreeRegressor(criterion='mse', max_depth=5, max_features=None,\n",
       "           max_leaf_nodes=None, min_impurity_decrease=0.0,\n",
       "           min_impurity_split=None, min_samples_leaf=1,\n",
       "           min_samples_split=2, min_weight_fraction_leaf=0.0,\n",
       "           presort=False, random_state=42, splitter='best')"
      ]
     },
     "execution_count": 81,
     "metadata": {},
     "output_type": "execute_result"
    }
   ],
   "source": [
    "regression_tree.fit(X=X_train, y=y_train)"
   ]
  },
  {
   "cell_type": "markdown",
   "metadata": {},
   "source": [
    "#### Visualize Tree"
   ]
  },
  {
   "cell_type": "code",
   "execution_count": 83,
   "metadata": {
    "ExecuteTime": {
     "end_time": "2018-09-25T21:04:58.596379Z",
     "start_time": "2018-09-25T21:04:58.544726Z"
    }
   },
   "outputs": [
    {
     "data": {
      "image/svg+xml": [
       "<?xml version=\"1.0\" encoding=\"UTF-8\" standalone=\"no\"?>\n",
       "<!DOCTYPE svg PUBLIC \"-//W3C//DTD SVG 1.1//EN\"\n",
       " \"http://www.w3.org/Graphics/SVG/1.1/DTD/svg11.dtd\">\n",
       "<!-- Generated by graphviz version 2.40.1 (20161225.0304)\n",
       " -->\n",
       "<!-- Title: Tree Pages: 1 -->\n",
       "<svg width=\"4136pt\" height=\"581pt\"\n",
       " viewBox=\"0.00 0.00 4135.50 581.00\" xmlns=\"http://www.w3.org/2000/svg\" xmlns:xlink=\"http://www.w3.org/1999/xlink\">\n",
       "<g id=\"graph0\" class=\"graph\" transform=\"scale(1 1) rotate(0) translate(4 577)\">\n",
       "<title>Tree</title>\n",
       "<polygon fill=\"#ffffff\" stroke=\"transparent\" points=\"-4,4 -4,-577 4131.5,-577 4131.5,4 -4,4\"/>\n",
       "<!-- 0 -->\n",
       "<g id=\"node1\" class=\"node\">\n",
       "<title>0</title>\n",
       "<path fill=\"#e58139\" fill-opacity=\"0.466667\" stroke=\"#000000\" d=\"M2397.5,-573C2397.5,-573 2293.5,-573 2293.5,-573 2287.5,-573 2281.5,-567 2281.5,-561 2281.5,-561 2281.5,-517 2281.5,-517 2281.5,-511 2287.5,-505 2293.5,-505 2293.5,-505 2397.5,-505 2397.5,-505 2403.5,-505 2409.5,-511 2409.5,-517 2409.5,-517 2409.5,-561 2409.5,-561 2409.5,-567 2403.5,-573 2397.5,-573\"/>\n",
       "<text text-anchor=\"start\" x=\"2312.5\" y=\"-557.8\" font-family=\"Helvetica,sans-Serif\" font-size=\"14.00\" fill=\"#000000\">t&#45;1 ≤ 0.013</text>\n",
       "<text text-anchor=\"start\" x=\"2307.5\" y=\"-542.8\" font-family=\"Helvetica,sans-Serif\" font-size=\"14.00\" fill=\"#000000\">mse = 0.003</text>\n",
       "<text text-anchor=\"start\" x=\"2289.5\" y=\"-527.8\" font-family=\"Helvetica,sans-Serif\" font-size=\"14.00\" fill=\"#000000\">samples = 139640</text>\n",
       "<text text-anchor=\"start\" x=\"2308\" y=\"-512.8\" font-family=\"Helvetica,sans-Serif\" font-size=\"14.00\" fill=\"#000000\">value = 0.01</text>\n",
       "</g>\n",
       "<!-- 1 -->\n",
       "<g id=\"node2\" class=\"node\">\n",
       "<title>1</title>\n",
       "<path fill=\"#e58139\" fill-opacity=\"0.345098\" stroke=\"#000000\" d=\"M1691,-469C1691,-469 1594,-469 1594,-469 1588,-469 1582,-463 1582,-457 1582,-457 1582,-413 1582,-413 1582,-407 1588,-401 1594,-401 1594,-401 1691,-401 1691,-401 1697,-401 1703,-407 1703,-413 1703,-413 1703,-457 1703,-457 1703,-463 1697,-469 1691,-469\"/>\n",
       "<text text-anchor=\"start\" x=\"1593\" y=\"-453.8\" font-family=\"Helvetica,sans-Serif\" font-size=\"14.00\" fill=\"#000000\">year_2013 ≤ 0.5</text>\n",
       "<text text-anchor=\"start\" x=\"1604.5\" y=\"-438.8\" font-family=\"Helvetica,sans-Serif\" font-size=\"14.00\" fill=\"#000000\">mse = 0.003</text>\n",
       "<text text-anchor=\"start\" x=\"1590\" y=\"-423.8\" font-family=\"Helvetica,sans-Serif\" font-size=\"14.00\" fill=\"#000000\">samples = 72619</text>\n",
       "<text text-anchor=\"start\" x=\"1601.5\" y=\"-408.8\" font-family=\"Helvetica,sans-Serif\" font-size=\"14.00\" fill=\"#000000\">value = 0.003</text>\n",
       "</g>\n",
       "<!-- 0&#45;&gt;1 -->\n",
       "<g id=\"edge1\" class=\"edge\">\n",
       "<title>0&#45;&gt;1</title>\n",
       "<path fill=\"none\" stroke=\"#000000\" d=\"M2281.2498,-529.495C2149.6402,-510.025 1850.2902,-465.7399 1713.308,-445.4752\"/>\n",
       "<polygon fill=\"#000000\" stroke=\"#000000\" points=\"1713.7389,-442.0009 1703.3343,-443.9997 1712.7144,-448.9255 1713.7389,-442.0009\"/>\n",
       "<text text-anchor=\"middle\" x=\"1718.2346\" y=\"-460.374\" font-family=\"Helvetica,sans-Serif\" font-size=\"14.00\" fill=\"#000000\">True</text>\n",
       "</g>\n",
       "<!-- 32 -->\n",
       "<g id=\"node33\" class=\"node\">\n",
       "<title>32</title>\n",
       "<path fill=\"#e58139\" fill-opacity=\"0.596078\" stroke=\"#000000\" d=\"M2586,-469C2586,-469 2489,-469 2489,-469 2483,-469 2477,-463 2477,-457 2477,-457 2477,-413 2477,-413 2477,-407 2483,-401 2489,-401 2489,-401 2586,-401 2586,-401 2592,-401 2598,-407 2598,-413 2598,-413 2598,-457 2598,-457 2598,-463 2592,-469 2586,-469\"/>\n",
       "<text text-anchor=\"start\" x=\"2488\" y=\"-453.8\" font-family=\"Helvetica,sans-Serif\" font-size=\"14.00\" fill=\"#000000\">year_2013 ≤ 0.5</text>\n",
       "<text text-anchor=\"start\" x=\"2499.5\" y=\"-438.8\" font-family=\"Helvetica,sans-Serif\" font-size=\"14.00\" fill=\"#000000\">mse = 0.003</text>\n",
       "<text text-anchor=\"start\" x=\"2485\" y=\"-423.8\" font-family=\"Helvetica,sans-Serif\" font-size=\"14.00\" fill=\"#000000\">samples = 67021</text>\n",
       "<text text-anchor=\"start\" x=\"2496.5\" y=\"-408.8\" font-family=\"Helvetica,sans-Serif\" font-size=\"14.00\" fill=\"#000000\">value = 0.017</text>\n",
       "</g>\n",
       "<!-- 0&#45;&gt;32 -->\n",
       "<g id=\"edge32\" class=\"edge\">\n",
       "<title>0&#45;&gt;32</title>\n",
       "<path fill=\"none\" stroke=\"#000000\" d=\"M2408.368,-504.9465C2427.431,-494.6207 2448.4806,-483.2188 2467.9549,-472.6703\"/>\n",
       "<polygon fill=\"#000000\" stroke=\"#000000\" points=\"2469.6529,-475.731 2476.7788,-467.8906 2466.3189,-469.576 2469.6529,-475.731\"/>\n",
       "<text text-anchor=\"middle\" x=\"2469.6546\" y=\"-488.154\" font-family=\"Helvetica,sans-Serif\" font-size=\"14.00\" fill=\"#000000\">False</text>\n",
       "</g>\n",
       "<!-- 2 -->\n",
       "<g id=\"node3\" class=\"node\">\n",
       "<title>2</title>\n",
       "<path fill=\"#e58139\" fill-opacity=\"0.317647\" stroke=\"#000000\" d=\"M849,-365C849,-365 752,-365 752,-365 746,-365 740,-359 740,-353 740,-353 740,-309 740,-309 740,-303 746,-297 752,-297 752,-297 849,-297 849,-297 855,-297 861,-303 861,-309 861,-309 861,-353 861,-353 861,-359 855,-365 849,-365\"/>\n",
       "<text text-anchor=\"start\" x=\"765.5\" y=\"-349.8\" font-family=\"Helvetica,sans-Serif\" font-size=\"14.00\" fill=\"#000000\">t&#45;1 ≤ &#45;0.028</text>\n",
       "<text text-anchor=\"start\" x=\"762.5\" y=\"-334.8\" font-family=\"Helvetica,sans-Serif\" font-size=\"14.00\" fill=\"#000000\">mse = 0.003</text>\n",
       "<text text-anchor=\"start\" x=\"748\" y=\"-319.8\" font-family=\"Helvetica,sans-Serif\" font-size=\"14.00\" fill=\"#000000\">samples = 64718</text>\n",
       "<text text-anchor=\"start\" x=\"759.5\" y=\"-304.8\" font-family=\"Helvetica,sans-Serif\" font-size=\"14.00\" fill=\"#000000\">value = 0.002</text>\n",
       "</g>\n",
       "<!-- 1&#45;&gt;2 -->\n",
       "<g id=\"edge2\" class=\"edge\">\n",
       "<title>1&#45;&gt;2</title>\n",
       "<path fill=\"none\" stroke=\"#000000\" d=\"M1581.9454,-427.5206C1430.1123,-408.7668 1033.7765,-359.8132 871.421,-339.7598\"/>\n",
       "<polygon fill=\"#000000\" stroke=\"#000000\" points=\"871.4241,-336.2337 861.0704,-338.4814 870.5659,-343.1809 871.4241,-336.2337\"/>\n",
       "</g>\n",
       "<!-- 17 -->\n",
       "<g id=\"node18\" class=\"node\">\n",
       "<title>17</title>\n",
       "<path fill=\"#e58139\" fill-opacity=\"0.588235\" stroke=\"#000000\" d=\"M1687,-365C1687,-365 1598,-365 1598,-365 1592,-365 1586,-359 1586,-353 1586,-353 1586,-309 1586,-309 1586,-303 1592,-297 1598,-297 1598,-297 1687,-297 1687,-297 1693,-297 1699,-303 1699,-309 1699,-309 1699,-353 1699,-353 1699,-359 1693,-365 1687,-365\"/>\n",
       "<text text-anchor=\"start\" x=\"1601\" y=\"-349.8\" font-family=\"Helvetica,sans-Serif\" font-size=\"14.00\" fill=\"#000000\">Finance ≤ 0.5</text>\n",
       "<text text-anchor=\"start\" x=\"1604.5\" y=\"-334.8\" font-family=\"Helvetica,sans-Serif\" font-size=\"14.00\" fill=\"#000000\">mse = 0.003</text>\n",
       "<text text-anchor=\"start\" x=\"1594\" y=\"-319.8\" font-family=\"Helvetica,sans-Serif\" font-size=\"14.00\" fill=\"#000000\">samples = 7901</text>\n",
       "<text text-anchor=\"start\" x=\"1601.5\" y=\"-304.8\" font-family=\"Helvetica,sans-Serif\" font-size=\"14.00\" fill=\"#000000\">value = 0.017</text>\n",
       "</g>\n",
       "<!-- 1&#45;&gt;17 -->\n",
       "<g id=\"edge17\" class=\"edge\">\n",
       "<title>1&#45;&gt;17</title>\n",
       "<path fill=\"none\" stroke=\"#000000\" d=\"M1642.5,-400.9465C1642.5,-392.776 1642.5,-383.9318 1642.5,-375.3697\"/>\n",
       "<polygon fill=\"#000000\" stroke=\"#000000\" points=\"1646.0001,-375.13 1642.5,-365.13 1639.0001,-375.13 1646.0001,-375.13\"/>\n",
       "</g>\n",
       "<!-- 3 -->\n",
       "<g id=\"node4\" class=\"node\">\n",
       "<title>3</title>\n",
       "<path fill=\"#e58139\" fill-opacity=\"0.247059\" stroke=\"#000000\" d=\"M448,-261C448,-261 351,-261 351,-261 345,-261 339,-255 339,-249 339,-249 339,-205 339,-205 339,-199 345,-193 351,-193 351,-193 448,-193 448,-193 454,-193 460,-199 460,-205 460,-205 460,-249 460,-249 460,-255 454,-261 448,-261\"/>\n",
       "<text text-anchor=\"start\" x=\"350\" y=\"-245.8\" font-family=\"Helvetica,sans-Serif\" font-size=\"14.00\" fill=\"#000000\">year_2015 ≤ 0.5</text>\n",
       "<text text-anchor=\"start\" x=\"361.5\" y=\"-230.8\" font-family=\"Helvetica,sans-Serif\" font-size=\"14.00\" fill=\"#000000\">mse = 0.004</text>\n",
       "<text text-anchor=\"start\" x=\"347\" y=\"-215.8\" font-family=\"Helvetica,sans-Serif\" font-size=\"14.00\" fill=\"#000000\">samples = 30363</text>\n",
       "<text text-anchor=\"start\" x=\"356\" y=\"-200.8\" font-family=\"Helvetica,sans-Serif\" font-size=\"14.00\" fill=\"#000000\">value = &#45;0.002</text>\n",
       "</g>\n",
       "<!-- 2&#45;&gt;3 -->\n",
       "<g id=\"edge3\" class=\"edge\">\n",
       "<title>2&#45;&gt;3</title>\n",
       "<path fill=\"none\" stroke=\"#000000\" d=\"M739.5967,-315.2046C667.2557,-296.4429 546.7827,-265.198 470.3399,-245.3724\"/>\n",
       "<polygon fill=\"#000000\" stroke=\"#000000\" points=\"470.8766,-241.8959 460.3181,-242.7733 469.1192,-248.6717 470.8766,-241.8959\"/>\n",
       "</g>\n",
       "<!-- 10 -->\n",
       "<g id=\"node11\" class=\"node\">\n",
       "<title>10</title>\n",
       "<path fill=\"#e58139\" fill-opacity=\"0.376471\" stroke=\"#000000\" d=\"M849,-261C849,-261 752,-261 752,-261 746,-261 740,-255 740,-249 740,-249 740,-205 740,-205 740,-199 746,-193 752,-193 752,-193 849,-193 849,-193 855,-193 861,-199 861,-205 861,-205 861,-249 861,-249 861,-255 855,-261 849,-261\"/>\n",
       "<text text-anchor=\"start\" x=\"767.5\" y=\"-245.8\" font-family=\"Helvetica,sans-Serif\" font-size=\"14.00\" fill=\"#000000\">t&#45;2 ≤ 0.037</text>\n",
       "<text text-anchor=\"start\" x=\"762.5\" y=\"-230.8\" font-family=\"Helvetica,sans-Serif\" font-size=\"14.00\" fill=\"#000000\">mse = 0.003</text>\n",
       "<text text-anchor=\"start\" x=\"748\" y=\"-215.8\" font-family=\"Helvetica,sans-Serif\" font-size=\"14.00\" fill=\"#000000\">samples = 34355</text>\n",
       "<text text-anchor=\"start\" x=\"759.5\" y=\"-200.8\" font-family=\"Helvetica,sans-Serif\" font-size=\"14.00\" fill=\"#000000\">value = 0.005</text>\n",
       "</g>\n",
       "<!-- 2&#45;&gt;10 -->\n",
       "<g id=\"edge10\" class=\"edge\">\n",
       "<title>2&#45;&gt;10</title>\n",
       "<path fill=\"none\" stroke=\"#000000\" d=\"M800.5,-296.9465C800.5,-288.776 800.5,-279.9318 800.5,-271.3697\"/>\n",
       "<polygon fill=\"#000000\" stroke=\"#000000\" points=\"804.0001,-271.13 800.5,-261.13 797.0001,-271.13 804.0001,-271.13\"/>\n",
       "</g>\n",
       "<!-- 4 -->\n",
       "<g id=\"node5\" class=\"node\">\n",
       "<title>4</title>\n",
       "<path fill=\"#e58139\" fill-opacity=\"0.282353\" stroke=\"#000000\" d=\"M248,-157C248,-157 151,-157 151,-157 145,-157 139,-151 139,-145 139,-145 139,-101 139,-101 139,-95 145,-89 151,-89 151,-89 248,-89 248,-89 254,-89 260,-95 260,-101 260,-101 260,-145 260,-145 260,-151 254,-157 248,-157\"/>\n",
       "<text text-anchor=\"start\" x=\"164.5\" y=\"-141.8\" font-family=\"Helvetica,sans-Serif\" font-size=\"14.00\" fill=\"#000000\">t&#45;2 ≤ &#45;0.006</text>\n",
       "<text text-anchor=\"start\" x=\"161.5\" y=\"-126.8\" font-family=\"Helvetica,sans-Serif\" font-size=\"14.00\" fill=\"#000000\">mse = 0.004</text>\n",
       "<text text-anchor=\"start\" x=\"147\" y=\"-111.8\" font-family=\"Helvetica,sans-Serif\" font-size=\"14.00\" fill=\"#000000\">samples = 24527</text>\n",
       "<text text-anchor=\"start\" x=\"163.5\" y=\"-96.8\" font-family=\"Helvetica,sans-Serif\" font-size=\"14.00\" fill=\"#000000\">value = &#45;0.0</text>\n",
       "</g>\n",
       "<!-- 3&#45;&gt;4 -->\n",
       "<g id=\"edge4\" class=\"edge\">\n",
       "<title>3&#45;&gt;4</title>\n",
       "<path fill=\"none\" stroke=\"#000000\" d=\"M338.9507,-195.5143C316.9256,-184.0613 291.8598,-171.0271 269.1121,-159.1983\"/>\n",
       "<polygon fill=\"#000000\" stroke=\"#000000\" points=\"270.6753,-156.0663 260.1884,-154.558 267.4458,-162.2768 270.6753,-156.0663\"/>\n",
       "</g>\n",
       "<!-- 7 -->\n",
       "<g id=\"node8\" class=\"node\">\n",
       "<title>7</title>\n",
       "<path fill=\"#e58139\" fill-opacity=\"0.094118\" stroke=\"#000000\" d=\"M444,-157C444,-157 355,-157 355,-157 349,-157 343,-151 343,-145 343,-145 343,-101 343,-101 343,-95 349,-89 355,-89 355,-89 444,-89 444,-89 450,-89 456,-95 456,-101 456,-101 456,-145 456,-145 456,-151 450,-157 444,-157\"/>\n",
       "<text text-anchor=\"start\" x=\"364.5\" y=\"-141.8\" font-family=\"Helvetica,sans-Serif\" font-size=\"14.00\" fill=\"#000000\">t&#45;1 ≤ &#45;0.063</text>\n",
       "<text text-anchor=\"start\" x=\"361.5\" y=\"-126.8\" font-family=\"Helvetica,sans-Serif\" font-size=\"14.00\" fill=\"#000000\">mse = 0.003</text>\n",
       "<text text-anchor=\"start\" x=\"351\" y=\"-111.8\" font-family=\"Helvetica,sans-Serif\" font-size=\"14.00\" fill=\"#000000\">samples = 5836</text>\n",
       "<text text-anchor=\"start\" x=\"360\" y=\"-96.8\" font-family=\"Helvetica,sans-Serif\" font-size=\"14.00\" fill=\"#000000\">value = &#45;0.01</text>\n",
       "</g>\n",
       "<!-- 3&#45;&gt;7 -->\n",
       "<g id=\"edge7\" class=\"edge\">\n",
       "<title>3&#45;&gt;7</title>\n",
       "<path fill=\"none\" stroke=\"#000000\" d=\"M399.5,-192.9465C399.5,-184.776 399.5,-175.9318 399.5,-167.3697\"/>\n",
       "<polygon fill=\"#000000\" stroke=\"#000000\" points=\"403.0001,-167.13 399.5,-157.13 396.0001,-167.13 403.0001,-167.13\"/>\n",
       "</g>\n",
       "<!-- 5 -->\n",
       "<g id=\"node6\" class=\"node\">\n",
       "<title>5</title>\n",
       "<path fill=\"#e58139\" fill-opacity=\"0.352941\" stroke=\"#000000\" d=\"M109,-53C109,-53 12,-53 12,-53 6,-53 0,-47 0,-41 0,-41 0,-12 0,-12 0,-6 6,0 12,0 12,0 109,0 109,0 115,0 121,-6 121,-12 121,-12 121,-41 121,-41 121,-47 115,-53 109,-53\"/>\n",
       "<text text-anchor=\"start\" x=\"22.5\" y=\"-37.8\" font-family=\"Helvetica,sans-Serif\" font-size=\"14.00\" fill=\"#000000\">mse = 0.004</text>\n",
       "<text text-anchor=\"start\" x=\"8\" y=\"-22.8\" font-family=\"Helvetica,sans-Serif\" font-size=\"14.00\" fill=\"#000000\">samples = 11880</text>\n",
       "<text text-anchor=\"start\" x=\"19.5\" y=\"-7.8\" font-family=\"Helvetica,sans-Serif\" font-size=\"14.00\" fill=\"#000000\">value = 0.004</text>\n",
       "</g>\n",
       "<!-- 4&#45;&gt;5 -->\n",
       "<g id=\"edge5\" class=\"edge\">\n",
       "<title>4&#45;&gt;5</title>\n",
       "<path fill=\"none\" stroke=\"#000000\" d=\"M150.4938,-88.9777C136.5126,-79.2713 121.3162,-68.7213 107.4602,-59.1018\"/>\n",
       "<polygon fill=\"#000000\" stroke=\"#000000\" points=\"109.2394,-56.0763 99.0289,-53.2485 105.2474,-61.8264 109.2394,-56.0763\"/>\n",
       "</g>\n",
       "<!-- 6 -->\n",
       "<g id=\"node7\" class=\"node\">\n",
       "<title>6</title>\n",
       "<path fill=\"#e58139\" fill-opacity=\"0.219608\" stroke=\"#000000\" d=\"M248,-53C248,-53 151,-53 151,-53 145,-53 139,-47 139,-41 139,-41 139,-12 139,-12 139,-6 145,0 151,0 151,0 248,0 248,0 254,0 260,-6 260,-12 260,-12 260,-41 260,-41 260,-47 254,-53 248,-53\"/>\n",
       "<text text-anchor=\"start\" x=\"161.5\" y=\"-37.8\" font-family=\"Helvetica,sans-Serif\" font-size=\"14.00\" fill=\"#000000\">mse = 0.003</text>\n",
       "<text text-anchor=\"start\" x=\"147\" y=\"-22.8\" font-family=\"Helvetica,sans-Serif\" font-size=\"14.00\" fill=\"#000000\">samples = 12647</text>\n",
       "<text text-anchor=\"start\" x=\"156\" y=\"-7.8\" font-family=\"Helvetica,sans-Serif\" font-size=\"14.00\" fill=\"#000000\">value = &#45;0.004</text>\n",
       "</g>\n",
       "<!-- 4&#45;&gt;6 -->\n",
       "<g id=\"edge6\" class=\"edge\">\n",
       "<title>4&#45;&gt;6</title>\n",
       "<path fill=\"none\" stroke=\"#000000\" d=\"M199.5,-88.9777C199.5,-80.7364 199.5,-71.887 199.5,-63.5153\"/>\n",
       "<polygon fill=\"#000000\" stroke=\"#000000\" points=\"203.0001,-63.2484 199.5,-53.2485 196.0001,-63.2485 203.0001,-63.2484\"/>\n",
       "</g>\n",
       "<!-- 8 -->\n",
       "<g id=\"node9\" class=\"node\">\n",
       "<title>8</title>\n",
       "<path fill=\"transparent\" stroke=\"#000000\" d=\"M379,-53C379,-53 290,-53 290,-53 284,-53 278,-47 278,-41 278,-41 278,-12 278,-12 278,-6 284,0 290,0 290,0 379,0 379,0 385,0 391,-6 391,-12 391,-12 391,-41 391,-41 391,-47 385,-53 379,-53\"/>\n",
       "<text text-anchor=\"start\" x=\"296.5\" y=\"-37.8\" font-family=\"Helvetica,sans-Serif\" font-size=\"14.00\" fill=\"#000000\">mse = 0.004</text>\n",
       "<text text-anchor=\"start\" x=\"286\" y=\"-22.8\" font-family=\"Helvetica,sans-Serif\" font-size=\"14.00\" fill=\"#000000\">samples = 2435</text>\n",
       "<text text-anchor=\"start\" x=\"291\" y=\"-7.8\" font-family=\"Helvetica,sans-Serif\" font-size=\"14.00\" fill=\"#000000\">value = &#45;0.015</text>\n",
       "</g>\n",
       "<!-- 7&#45;&gt;8 -->\n",
       "<g id=\"edge8\" class=\"edge\">\n",
       "<title>7&#45;&gt;8</title>\n",
       "<path fill=\"none\" stroke=\"#000000\" d=\"M376.5834,-88.9777C370.6006,-80.0954 364.1418,-70.5067 358.123,-61.5711\"/>\n",
       "<polygon fill=\"#000000\" stroke=\"#000000\" points=\"361.0067,-59.5871 352.5171,-53.2485 355.2009,-63.4978 361.0067,-59.5871\"/>\n",
       "</g>\n",
       "<!-- 9 -->\n",
       "<g id=\"node10\" class=\"node\">\n",
       "<title>9</title>\n",
       "<path fill=\"#e58139\" fill-opacity=\"0.164706\" stroke=\"#000000\" d=\"M510,-53C510,-53 421,-53 421,-53 415,-53 409,-47 409,-41 409,-41 409,-12 409,-12 409,-6 415,0 421,0 421,0 510,0 510,0 516,0 522,-6 522,-12 522,-12 522,-41 522,-41 522,-47 516,-53 510,-53\"/>\n",
       "<text text-anchor=\"start\" x=\"427.5\" y=\"-37.8\" font-family=\"Helvetica,sans-Serif\" font-size=\"14.00\" fill=\"#000000\">mse = 0.003</text>\n",
       "<text text-anchor=\"start\" x=\"417\" y=\"-22.8\" font-family=\"Helvetica,sans-Serif\" font-size=\"14.00\" fill=\"#000000\">samples = 3401</text>\n",
       "<text text-anchor=\"start\" x=\"422\" y=\"-7.8\" font-family=\"Helvetica,sans-Serif\" font-size=\"14.00\" fill=\"#000000\">value = &#45;0.007</text>\n",
       "</g>\n",
       "<!-- 7&#45;&gt;9 -->\n",
       "<g id=\"edge9\" class=\"edge\">\n",
       "<title>7&#45;&gt;9</title>\n",
       "<path fill=\"none\" stroke=\"#000000\" d=\"M422.7691,-88.9777C428.844,-80.0954 435.4021,-70.5067 441.5135,-61.5711\"/>\n",
       "<polygon fill=\"#000000\" stroke=\"#000000\" points=\"444.4493,-63.4785 447.2057,-53.2485 438.6714,-59.5267 444.4493,-63.4785\"/>\n",
       "</g>\n",
       "<!-- 11 -->\n",
       "<g id=\"node12\" class=\"node\">\n",
       "<title>11</title>\n",
       "<path fill=\"#e58139\" fill-opacity=\"0.415686\" stroke=\"#000000\" d=\"M781,-157C781,-157 684,-157 684,-157 678,-157 672,-151 672,-145 672,-145 672,-101 672,-101 672,-95 678,-89 684,-89 684,-89 781,-89 781,-89 787,-89 793,-95 793,-101 793,-101 793,-145 793,-145 793,-151 787,-157 781,-157\"/>\n",
       "<text text-anchor=\"start\" x=\"683\" y=\"-141.8\" font-family=\"Helvetica,sans-Serif\" font-size=\"14.00\" fill=\"#000000\">year_2015 ≤ 0.5</text>\n",
       "<text text-anchor=\"start\" x=\"694.5\" y=\"-126.8\" font-family=\"Helvetica,sans-Serif\" font-size=\"14.00\" fill=\"#000000\">mse = 0.003</text>\n",
       "<text text-anchor=\"start\" x=\"680\" y=\"-111.8\" font-family=\"Helvetica,sans-Serif\" font-size=\"14.00\" fill=\"#000000\">samples = 24838</text>\n",
       "<text text-anchor=\"start\" x=\"691.5\" y=\"-96.8\" font-family=\"Helvetica,sans-Serif\" font-size=\"14.00\" fill=\"#000000\">value = 0.007</text>\n",
       "</g>\n",
       "<!-- 10&#45;&gt;11 -->\n",
       "<g id=\"edge11\" class=\"edge\">\n",
       "<title>10&#45;&gt;11</title>\n",
       "<path fill=\"none\" stroke=\"#000000\" d=\"M778.2343,-192.9465C772.5398,-184.2373 766.3448,-174.7626 760.4062,-165.6801\"/>\n",
       "<polygon fill=\"#000000\" stroke=\"#000000\" points=\"763.2177,-163.5843 754.8158,-157.13 757.3589,-167.4151 763.2177,-163.5843\"/>\n",
       "</g>\n",
       "<!-- 14 -->\n",
       "<g id=\"node15\" class=\"node\">\n",
       "<title>14</title>\n",
       "<path fill=\"#e58139\" fill-opacity=\"0.282353\" stroke=\"#000000\" d=\"M914,-157C914,-157 823,-157 823,-157 817,-157 811,-151 811,-145 811,-145 811,-101 811,-101 811,-95 817,-89 823,-89 823,-89 914,-89 914,-89 920,-89 926,-95 926,-101 926,-101 926,-145 926,-145 926,-151 920,-157 914,-157\"/>\n",
       "<text text-anchor=\"start\" x=\"819\" y=\"-141.8\" font-family=\"Helvetica,sans-Serif\" font-size=\"14.00\" fill=\"#000000\">year_2016 ≤ 0.5</text>\n",
       "<text text-anchor=\"start\" x=\"830.5\" y=\"-126.8\" font-family=\"Helvetica,sans-Serif\" font-size=\"14.00\" fill=\"#000000\">mse = 0.003</text>\n",
       "<text text-anchor=\"start\" x=\"820\" y=\"-111.8\" font-family=\"Helvetica,sans-Serif\" font-size=\"14.00\" fill=\"#000000\">samples = 9517</text>\n",
       "<text text-anchor=\"start\" x=\"835\" y=\"-96.8\" font-family=\"Helvetica,sans-Serif\" font-size=\"14.00\" fill=\"#000000\">value = 0.0</text>\n",
       "</g>\n",
       "<!-- 10&#45;&gt;14 -->\n",
       "<g id=\"edge14\" class=\"edge\">\n",
       "<title>10&#45;&gt;14</title>\n",
       "<path fill=\"none\" stroke=\"#000000\" d=\"M822.7657,-192.9465C828.4602,-184.2373 834.6552,-174.7626 840.5938,-165.6801\"/>\n",
       "<polygon fill=\"#000000\" stroke=\"#000000\" points=\"843.6411,-167.4151 846.1842,-157.13 837.7823,-163.5843 843.6411,-167.4151\"/>\n",
       "</g>\n",
       "<!-- 12 -->\n",
       "<g id=\"node13\" class=\"node\">\n",
       "<title>12</title>\n",
       "<path fill=\"#e58139\" fill-opacity=\"0.447059\" stroke=\"#000000\" d=\"M649,-53C649,-53 552,-53 552,-53 546,-53 540,-47 540,-41 540,-41 540,-12 540,-12 540,-6 546,0 552,0 552,0 649,0 649,0 655,0 661,-6 661,-12 661,-12 661,-41 661,-41 661,-47 655,-53 649,-53\"/>\n",
       "<text text-anchor=\"start\" x=\"562.5\" y=\"-37.8\" font-family=\"Helvetica,sans-Serif\" font-size=\"14.00\" fill=\"#000000\">mse = 0.003</text>\n",
       "<text text-anchor=\"start\" x=\"548\" y=\"-22.8\" font-family=\"Helvetica,sans-Serif\" font-size=\"14.00\" fill=\"#000000\">samples = 20257</text>\n",
       "<text text-anchor=\"start\" x=\"559.5\" y=\"-7.8\" font-family=\"Helvetica,sans-Serif\" font-size=\"14.00\" fill=\"#000000\">value = 0.009</text>\n",
       "</g>\n",
       "<!-- 11&#45;&gt;12 -->\n",
       "<g id=\"edge12\" class=\"edge\">\n",
       "<title>11&#45;&gt;12</title>\n",
       "<path fill=\"none\" stroke=\"#000000\" d=\"M685.9617,-88.9777C672.8099,-79.3629 658.5257,-68.9203 645.468,-59.3743\"/>\n",
       "<polygon fill=\"#000000\" stroke=\"#000000\" points=\"647.227,-56.3247 637.0886,-53.2485 643.0958,-61.9757 647.227,-56.3247\"/>\n",
       "</g>\n",
       "<!-- 13 -->\n",
       "<g id=\"node14\" class=\"node\">\n",
       "<title>13</title>\n",
       "<path fill=\"#e58139\" fill-opacity=\"0.274510\" stroke=\"#000000\" d=\"M780,-53C780,-53 691,-53 691,-53 685,-53 679,-47 679,-41 679,-41 679,-12 679,-12 679,-6 685,0 691,0 691,0 780,0 780,0 786,0 792,-6 792,-12 792,-12 792,-41 792,-41 792,-47 786,-53 780,-53\"/>\n",
       "<text text-anchor=\"start\" x=\"697.5\" y=\"-37.8\" font-family=\"Helvetica,sans-Serif\" font-size=\"14.00\" fill=\"#000000\">mse = 0.003</text>\n",
       "<text text-anchor=\"start\" x=\"687\" y=\"-22.8\" font-family=\"Helvetica,sans-Serif\" font-size=\"14.00\" fill=\"#000000\">samples = 4581</text>\n",
       "<text text-anchor=\"start\" x=\"699.5\" y=\"-7.8\" font-family=\"Helvetica,sans-Serif\" font-size=\"14.00\" fill=\"#000000\">value = &#45;0.0</text>\n",
       "</g>\n",
       "<!-- 11&#45;&gt;13 -->\n",
       "<g id=\"edge13\" class=\"edge\">\n",
       "<title>11&#45;&gt;13</title>\n",
       "<path fill=\"none\" stroke=\"#000000\" d=\"M733.5577,-88.9777C733.8139,-80.7364 734.089,-71.887 734.3493,-63.5153\"/>\n",
       "<polygon fill=\"#000000\" stroke=\"#000000\" points=\"737.8559,-63.3524 734.6684,-53.2485 730.8593,-63.1349 737.8559,-63.3524\"/>\n",
       "</g>\n",
       "<!-- 15 -->\n",
       "<g id=\"node16\" class=\"node\">\n",
       "<title>15</title>\n",
       "<path fill=\"#e58139\" fill-opacity=\"0.305882\" stroke=\"#000000\" d=\"M911,-53C911,-53 822,-53 822,-53 816,-53 810,-47 810,-41 810,-41 810,-12 810,-12 810,-6 816,0 822,0 822,0 911,0 911,0 917,0 923,-6 923,-12 923,-12 923,-41 923,-41 923,-47 917,-53 911,-53\"/>\n",
       "<text text-anchor=\"start\" x=\"828.5\" y=\"-37.8\" font-family=\"Helvetica,sans-Serif\" font-size=\"14.00\" fill=\"#000000\">mse = 0.003</text>\n",
       "<text text-anchor=\"start\" x=\"818\" y=\"-22.8\" font-family=\"Helvetica,sans-Serif\" font-size=\"14.00\" fill=\"#000000\">samples = 7949</text>\n",
       "<text text-anchor=\"start\" x=\"825.5\" y=\"-7.8\" font-family=\"Helvetica,sans-Serif\" font-size=\"14.00\" fill=\"#000000\">value = 0.001</text>\n",
       "</g>\n",
       "<!-- 14&#45;&gt;15 -->\n",
       "<g id=\"edge15\" class=\"edge\">\n",
       "<title>14&#45;&gt;15</title>\n",
       "<path fill=\"none\" stroke=\"#000000\" d=\"M867.7949,-88.9777C867.6241,-80.7364 867.4407,-71.887 867.2672,-63.5153\"/>\n",
       "<polygon fill=\"#000000\" stroke=\"#000000\" points=\"870.7609,-63.1738 867.0544,-53.2485 863.7624,-63.3189 870.7609,-63.1738\"/>\n",
       "</g>\n",
       "<!-- 16 -->\n",
       "<g id=\"node17\" class=\"node\">\n",
       "<title>16</title>\n",
       "<path fill=\"#e58139\" fill-opacity=\"0.164706\" stroke=\"#000000\" d=\"M1042,-53C1042,-53 953,-53 953,-53 947,-53 941,-47 941,-41 941,-41 941,-12 941,-12 941,-6 947,0 953,0 953,0 1042,0 1042,0 1048,0 1054,-6 1054,-12 1054,-12 1054,-41 1054,-41 1054,-47 1048,-53 1042,-53\"/>\n",
       "<text text-anchor=\"start\" x=\"959.5\" y=\"-37.8\" font-family=\"Helvetica,sans-Serif\" font-size=\"14.00\" fill=\"#000000\">mse = 0.003</text>\n",
       "<text text-anchor=\"start\" x=\"949\" y=\"-22.8\" font-family=\"Helvetica,sans-Serif\" font-size=\"14.00\" fill=\"#000000\">samples = 1568</text>\n",
       "<text text-anchor=\"start\" x=\"954\" y=\"-7.8\" font-family=\"Helvetica,sans-Serif\" font-size=\"14.00\" fill=\"#000000\">value = &#45;0.007</text>\n",
       "</g>\n",
       "<!-- 14&#45;&gt;16 -->\n",
       "<g id=\"edge16\" class=\"edge\">\n",
       "<title>14&#45;&gt;16</title>\n",
       "<path fill=\"none\" stroke=\"#000000\" d=\"M913.9806,-88.9777C926.8335,-79.3629 940.7931,-68.9203 953.554,-59.3743\"/>\n",
       "<polygon fill=\"#000000\" stroke=\"#000000\" points=\"955.832,-62.0412 961.743,-53.2485 951.639,-56.436 955.832,-62.0412\"/>\n",
       "</g>\n",
       "<!-- 18 -->\n",
       "<g id=\"node19\" class=\"node\">\n",
       "<title>18</title>\n",
       "<path fill=\"#e58139\" fill-opacity=\"0.556863\" stroke=\"#000000\" d=\"M1500,-261C1500,-261 1411,-261 1411,-261 1405,-261 1399,-255 1399,-249 1399,-249 1399,-205 1399,-205 1399,-199 1405,-193 1411,-193 1411,-193 1500,-193 1500,-193 1506,-193 1512,-199 1512,-205 1512,-205 1512,-249 1512,-249 1512,-255 1506,-261 1500,-261\"/>\n",
       "<text text-anchor=\"start\" x=\"1426.5\" y=\"-245.8\" font-family=\"Helvetica,sans-Serif\" font-size=\"14.00\" fill=\"#000000\">t&#45;4 ≤ 0.04</text>\n",
       "<text text-anchor=\"start\" x=\"1417.5\" y=\"-230.8\" font-family=\"Helvetica,sans-Serif\" font-size=\"14.00\" fill=\"#000000\">mse = 0.003</text>\n",
       "<text text-anchor=\"start\" x=\"1407\" y=\"-215.8\" font-family=\"Helvetica,sans-Serif\" font-size=\"14.00\" fill=\"#000000\">samples = 6633</text>\n",
       "<text text-anchor=\"start\" x=\"1414.5\" y=\"-200.8\" font-family=\"Helvetica,sans-Serif\" font-size=\"14.00\" fill=\"#000000\">value = 0.015</text>\n",
       "</g>\n",
       "<!-- 17&#45;&gt;18 -->\n",
       "<g id=\"edge18\" class=\"edge\">\n",
       "<title>17&#45;&gt;18</title>\n",
       "<path fill=\"none\" stroke=\"#000000\" d=\"M1585.8864,-299.5143C1565.4752,-288.1627 1542.271,-275.2577 1521.1525,-263.5126\"/>\n",
       "<polygon fill=\"#000000\" stroke=\"#000000\" points=\"1522.6842,-260.3596 1512.2437,-258.558 1519.2819,-266.4772 1522.6842,-260.3596\"/>\n",
       "</g>\n",
       "<!-- 25 -->\n",
       "<g id=\"node26\" class=\"node\">\n",
       "<title>25</title>\n",
       "<path fill=\"#e58139\" fill-opacity=\"0.764706\" stroke=\"#000000\" d=\"M1752,-261C1752,-261 1663,-261 1663,-261 1657,-261 1651,-255 1651,-249 1651,-249 1651,-205 1651,-205 1651,-199 1657,-193 1663,-193 1663,-193 1752,-193 1752,-193 1758,-193 1764,-199 1764,-205 1764,-205 1764,-249 1764,-249 1764,-255 1758,-261 1752,-261\"/>\n",
       "<text text-anchor=\"start\" x=\"1674.5\" y=\"-245.8\" font-family=\"Helvetica,sans-Serif\" font-size=\"14.00\" fill=\"#000000\">t&#45;2 ≤ 0.086</text>\n",
       "<text text-anchor=\"start\" x=\"1669.5\" y=\"-230.8\" font-family=\"Helvetica,sans-Serif\" font-size=\"14.00\" fill=\"#000000\">mse = 0.002</text>\n",
       "<text text-anchor=\"start\" x=\"1659\" y=\"-215.8\" font-family=\"Helvetica,sans-Serif\" font-size=\"14.00\" fill=\"#000000\">samples = 1268</text>\n",
       "<text text-anchor=\"start\" x=\"1666.5\" y=\"-200.8\" font-family=\"Helvetica,sans-Serif\" font-size=\"14.00\" fill=\"#000000\">value = 0.026</text>\n",
       "</g>\n",
       "<!-- 17&#45;&gt;25 -->\n",
       "<g id=\"edge25\" class=\"edge\">\n",
       "<title>17&#45;&gt;25</title>\n",
       "<path fill=\"none\" stroke=\"#000000\" d=\"M1663.7834,-296.9465C1669.2267,-288.2373 1675.1484,-278.7626 1680.825,-269.6801\"/>\n",
       "<polygon fill=\"#000000\" stroke=\"#000000\" points=\"1683.8367,-271.465 1686.1688,-261.13 1677.9007,-267.755 1683.8367,-271.465\"/>\n",
       "</g>\n",
       "<!-- 19 -->\n",
       "<g id=\"node20\" class=\"node\">\n",
       "<title>19</title>\n",
       "<path fill=\"#e58139\" fill-opacity=\"0.498039\" stroke=\"#000000\" d=\"M1304,-157C1304,-157 1215,-157 1215,-157 1209,-157 1203,-151 1203,-145 1203,-145 1203,-101 1203,-101 1203,-95 1209,-89 1215,-89 1215,-89 1304,-89 1304,-89 1310,-89 1316,-95 1316,-101 1316,-101 1316,-145 1316,-145 1316,-151 1310,-157 1304,-157\"/>\n",
       "<text text-anchor=\"start\" x=\"1224.5\" y=\"-141.8\" font-family=\"Helvetica,sans-Serif\" font-size=\"14.00\" fill=\"#000000\">t&#45;1 ≤ &#45;0.027</text>\n",
       "<text text-anchor=\"start\" x=\"1221.5\" y=\"-126.8\" font-family=\"Helvetica,sans-Serif\" font-size=\"14.00\" fill=\"#000000\">mse = 0.003</text>\n",
       "<text text-anchor=\"start\" x=\"1211\" y=\"-111.8\" font-family=\"Helvetica,sans-Serif\" font-size=\"14.00\" fill=\"#000000\">samples = 4110</text>\n",
       "<text text-anchor=\"start\" x=\"1218.5\" y=\"-96.8\" font-family=\"Helvetica,sans-Serif\" font-size=\"14.00\" fill=\"#000000\">value = 0.012</text>\n",
       "</g>\n",
       "<!-- 18&#45;&gt;19 -->\n",
       "<g id=\"edge19\" class=\"edge\">\n",
       "<title>18&#45;&gt;19</title>\n",
       "<path fill=\"none\" stroke=\"#000000\" d=\"M1398.8087,-196.9189C1375.7508,-184.6841 1348.9585,-170.4678 1325.0654,-157.7898\"/>\n",
       "<polygon fill=\"#000000\" stroke=\"#000000\" points=\"1326.5379,-154.609 1316.0639,-153.0135 1323.2569,-160.7924 1326.5379,-154.609\"/>\n",
       "</g>\n",
       "<!-- 22 -->\n",
       "<g id=\"node23\" class=\"node\">\n",
       "<title>22</title>\n",
       "<path fill=\"#e58139\" fill-opacity=\"0.650980\" stroke=\"#000000\" d=\"M1500,-157C1500,-157 1411,-157 1411,-157 1405,-157 1399,-151 1399,-145 1399,-145 1399,-101 1399,-101 1399,-95 1405,-89 1411,-89 1411,-89 1500,-89 1500,-89 1506,-89 1512,-95 1512,-101 1512,-101 1512,-145 1512,-145 1512,-151 1506,-157 1500,-157\"/>\n",
       "<text text-anchor=\"start\" x=\"1422.5\" y=\"-141.8\" font-family=\"Helvetica,sans-Serif\" font-size=\"14.00\" fill=\"#000000\">t&#45;3 ≤ 0.034</text>\n",
       "<text text-anchor=\"start\" x=\"1417.5\" y=\"-126.8\" font-family=\"Helvetica,sans-Serif\" font-size=\"14.00\" fill=\"#000000\">mse = 0.003</text>\n",
       "<text text-anchor=\"start\" x=\"1407\" y=\"-111.8\" font-family=\"Helvetica,sans-Serif\" font-size=\"14.00\" fill=\"#000000\">samples = 2523</text>\n",
       "<text text-anchor=\"start\" x=\"1418\" y=\"-96.8\" font-family=\"Helvetica,sans-Serif\" font-size=\"14.00\" fill=\"#000000\">value = 0.02</text>\n",
       "</g>\n",
       "<!-- 18&#45;&gt;22 -->\n",
       "<g id=\"edge22\" class=\"edge\">\n",
       "<title>18&#45;&gt;22</title>\n",
       "<path fill=\"none\" stroke=\"#000000\" d=\"M1455.5,-192.9465C1455.5,-184.776 1455.5,-175.9318 1455.5,-167.3697\"/>\n",
       "<polygon fill=\"#000000\" stroke=\"#000000\" points=\"1459.0001,-167.13 1455.5,-157.13 1452.0001,-167.13 1459.0001,-167.13\"/>\n",
       "</g>\n",
       "<!-- 20 -->\n",
       "<g id=\"node21\" class=\"node\">\n",
       "<title>20</title>\n",
       "<path fill=\"#e58139\" fill-opacity=\"0.411765\" stroke=\"#000000\" d=\"M1173,-53C1173,-53 1084,-53 1084,-53 1078,-53 1072,-47 1072,-41 1072,-41 1072,-12 1072,-12 1072,-6 1078,0 1084,0 1084,0 1173,0 1173,0 1179,0 1185,-6 1185,-12 1185,-12 1185,-41 1185,-41 1185,-47 1179,-53 1173,-53\"/>\n",
       "<text text-anchor=\"start\" x=\"1090.5\" y=\"-37.8\" font-family=\"Helvetica,sans-Serif\" font-size=\"14.00\" fill=\"#000000\">mse = 0.003</text>\n",
       "<text text-anchor=\"start\" x=\"1080\" y=\"-22.8\" font-family=\"Helvetica,sans-Serif\" font-size=\"14.00\" fill=\"#000000\">samples = 1699</text>\n",
       "<text text-anchor=\"start\" x=\"1087.5\" y=\"-7.8\" font-family=\"Helvetica,sans-Serif\" font-size=\"14.00\" fill=\"#000000\">value = 0.007</text>\n",
       "</g>\n",
       "<!-- 19&#45;&gt;20 -->\n",
       "<g id=\"edge20\" class=\"edge\">\n",
       "<title>19&#45;&gt;20</title>\n",
       "<path fill=\"none\" stroke=\"#000000\" d=\"M1213.3143,-88.9777C1200.2621,-79.3629 1186.0861,-68.9203 1173.1273,-59.3743\"/>\n",
       "<polygon fill=\"#000000\" stroke=\"#000000\" points=\"1174.9386,-56.3615 1164.8114,-53.2485 1170.7869,-61.9974 1174.9386,-56.3615\"/>\n",
       "</g>\n",
       "<!-- 21 -->\n",
       "<g id=\"node22\" class=\"node\">\n",
       "<title>21</title>\n",
       "<path fill=\"#e58139\" fill-opacity=\"0.560784\" stroke=\"#000000\" d=\"M1304,-53C1304,-53 1215,-53 1215,-53 1209,-53 1203,-47 1203,-41 1203,-41 1203,-12 1203,-12 1203,-6 1209,0 1215,0 1215,0 1304,0 1304,0 1310,0 1316,-6 1316,-12 1316,-12 1316,-41 1316,-41 1316,-47 1310,-53 1304,-53\"/>\n",
       "<text text-anchor=\"start\" x=\"1221.5\" y=\"-37.8\" font-family=\"Helvetica,sans-Serif\" font-size=\"14.00\" fill=\"#000000\">mse = 0.003</text>\n",
       "<text text-anchor=\"start\" x=\"1211\" y=\"-22.8\" font-family=\"Helvetica,sans-Serif\" font-size=\"14.00\" fill=\"#000000\">samples = 2411</text>\n",
       "<text text-anchor=\"start\" x=\"1218.5\" y=\"-7.8\" font-family=\"Helvetica,sans-Serif\" font-size=\"14.00\" fill=\"#000000\">value = 0.015</text>\n",
       "</g>\n",
       "<!-- 19&#45;&gt;21 -->\n",
       "<g id=\"edge21\" class=\"edge\">\n",
       "<title>19&#45;&gt;21</title>\n",
       "<path fill=\"none\" stroke=\"#000000\" d=\"M1259.5,-88.9777C1259.5,-80.7364 1259.5,-71.887 1259.5,-63.5153\"/>\n",
       "<polygon fill=\"#000000\" stroke=\"#000000\" points=\"1263.0001,-63.2484 1259.5,-53.2485 1256.0001,-63.2485 1263.0001,-63.2484\"/>\n",
       "</g>\n",
       "<!-- 23 -->\n",
       "<g id=\"node24\" class=\"node\">\n",
       "<title>23</title>\n",
       "<path fill=\"#e58139\" fill-opacity=\"0.729412\" stroke=\"#000000\" d=\"M1435,-53C1435,-53 1346,-53 1346,-53 1340,-53 1334,-47 1334,-41 1334,-41 1334,-12 1334,-12 1334,-6 1340,0 1346,0 1346,0 1435,0 1435,0 1441,0 1447,-6 1447,-12 1447,-12 1447,-41 1447,-41 1447,-47 1441,-53 1435,-53\"/>\n",
       "<text text-anchor=\"start\" x=\"1352.5\" y=\"-37.8\" font-family=\"Helvetica,sans-Serif\" font-size=\"14.00\" fill=\"#000000\">mse = 0.003</text>\n",
       "<text text-anchor=\"start\" x=\"1342\" y=\"-22.8\" font-family=\"Helvetica,sans-Serif\" font-size=\"14.00\" fill=\"#000000\">samples = 1385</text>\n",
       "<text text-anchor=\"start\" x=\"1349.5\" y=\"-7.8\" font-family=\"Helvetica,sans-Serif\" font-size=\"14.00\" fill=\"#000000\">value = 0.024</text>\n",
       "</g>\n",
       "<!-- 22&#45;&gt;23 -->\n",
       "<g id=\"edge23\" class=\"edge\">\n",
       "<title>22&#45;&gt;23</title>\n",
       "<path fill=\"none\" stroke=\"#000000\" d=\"M1432.5834,-88.9777C1426.6006,-80.0954 1420.1418,-70.5067 1414.123,-61.5711\"/>\n",
       "<polygon fill=\"#000000\" stroke=\"#000000\" points=\"1417.0067,-59.5871 1408.5171,-53.2485 1411.2009,-63.4978 1417.0067,-59.5871\"/>\n",
       "</g>\n",
       "<!-- 24 -->\n",
       "<g id=\"node25\" class=\"node\">\n",
       "<title>24</title>\n",
       "<path fill=\"#e58139\" fill-opacity=\"0.552941\" stroke=\"#000000\" d=\"M1566,-53C1566,-53 1477,-53 1477,-53 1471,-53 1465,-47 1465,-41 1465,-41 1465,-12 1465,-12 1465,-6 1471,0 1477,0 1477,0 1566,0 1566,0 1572,0 1578,-6 1578,-12 1578,-12 1578,-41 1578,-41 1578,-47 1572,-53 1566,-53\"/>\n",
       "<text text-anchor=\"start\" x=\"1483.5\" y=\"-37.8\" font-family=\"Helvetica,sans-Serif\" font-size=\"14.00\" fill=\"#000000\">mse = 0.003</text>\n",
       "<text text-anchor=\"start\" x=\"1473\" y=\"-22.8\" font-family=\"Helvetica,sans-Serif\" font-size=\"14.00\" fill=\"#000000\">samples = 1138</text>\n",
       "<text text-anchor=\"start\" x=\"1480.5\" y=\"-7.8\" font-family=\"Helvetica,sans-Serif\" font-size=\"14.00\" fill=\"#000000\">value = 0.015</text>\n",
       "</g>\n",
       "<!-- 22&#45;&gt;24 -->\n",
       "<g id=\"edge24\" class=\"edge\">\n",
       "<title>22&#45;&gt;24</title>\n",
       "<path fill=\"none\" stroke=\"#000000\" d=\"M1478.7691,-88.9777C1484.844,-80.0954 1491.4021,-70.5067 1497.5135,-61.5711\"/>\n",
       "<polygon fill=\"#000000\" stroke=\"#000000\" points=\"1500.4493,-63.4785 1503.2057,-53.2485 1494.6714,-59.5267 1500.4493,-63.4785\"/>\n",
       "</g>\n",
       "<!-- 26 -->\n",
       "<g id=\"node27\" class=\"node\">\n",
       "<title>26</title>\n",
       "<path fill=\"#e58139\" fill-opacity=\"0.807843\" stroke=\"#000000\" d=\"M1752,-157C1752,-157 1663,-157 1663,-157 1657,-157 1651,-151 1651,-145 1651,-145 1651,-101 1651,-101 1651,-95 1657,-89 1663,-89 1663,-89 1752,-89 1752,-89 1758,-89 1764,-95 1764,-101 1764,-101 1764,-145 1764,-145 1764,-151 1758,-157 1752,-157\"/>\n",
       "<text text-anchor=\"start\" x=\"1672.5\" y=\"-141.8\" font-family=\"Helvetica,sans-Serif\" font-size=\"14.00\" fill=\"#000000\">t&#45;3 ≤ &#45;0.006</text>\n",
       "<text text-anchor=\"start\" x=\"1669.5\" y=\"-126.8\" font-family=\"Helvetica,sans-Serif\" font-size=\"14.00\" fill=\"#000000\">mse = 0.002</text>\n",
       "<text text-anchor=\"start\" x=\"1659\" y=\"-111.8\" font-family=\"Helvetica,sans-Serif\" font-size=\"14.00\" fill=\"#000000\">samples = 1144</text>\n",
       "<text text-anchor=\"start\" x=\"1666.5\" y=\"-96.8\" font-family=\"Helvetica,sans-Serif\" font-size=\"14.00\" fill=\"#000000\">value = 0.029</text>\n",
       "</g>\n",
       "<!-- 25&#45;&gt;26 -->\n",
       "<g id=\"edge26\" class=\"edge\">\n",
       "<title>25&#45;&gt;26</title>\n",
       "<path fill=\"none\" stroke=\"#000000\" d=\"M1707.5,-192.9465C1707.5,-184.776 1707.5,-175.9318 1707.5,-167.3697\"/>\n",
       "<polygon fill=\"#000000\" stroke=\"#000000\" points=\"1711.0001,-167.13 1707.5,-157.13 1704.0001,-167.13 1711.0001,-167.13\"/>\n",
       "</g>\n",
       "<!-- 29 -->\n",
       "<g id=\"node30\" class=\"node\">\n",
       "<title>29</title>\n",
       "<path fill=\"#e58139\" fill-opacity=\"0.360784\" stroke=\"#000000\" d=\"M1934.5,-157C1934.5,-157 1852.5,-157 1852.5,-157 1846.5,-157 1840.5,-151 1840.5,-145 1840.5,-145 1840.5,-101 1840.5,-101 1840.5,-95 1846.5,-89 1852.5,-89 1852.5,-89 1934.5,-89 1934.5,-89 1940.5,-89 1946.5,-95 1946.5,-101 1946.5,-101 1946.5,-145 1946.5,-145 1946.5,-151 1940.5,-157 1934.5,-157\"/>\n",
       "<text text-anchor=\"start\" x=\"1860.5\" y=\"-141.8\" font-family=\"Helvetica,sans-Serif\" font-size=\"14.00\" fill=\"#000000\">t&#45;5 ≤ 0.016</text>\n",
       "<text text-anchor=\"start\" x=\"1855.5\" y=\"-126.8\" font-family=\"Helvetica,sans-Serif\" font-size=\"14.00\" fill=\"#000000\">mse = 0.003</text>\n",
       "<text text-anchor=\"start\" x=\"1848.5\" y=\"-111.8\" font-family=\"Helvetica,sans-Serif\" font-size=\"14.00\" fill=\"#000000\">samples = 124</text>\n",
       "<text text-anchor=\"start\" x=\"1852.5\" y=\"-96.8\" font-family=\"Helvetica,sans-Serif\" font-size=\"14.00\" fill=\"#000000\">value = 0.004</text>\n",
       "</g>\n",
       "<!-- 25&#45;&gt;29 -->\n",
       "<g id=\"edge29\" class=\"edge\">\n",
       "<title>25&#45;&gt;29</title>\n",
       "<path fill=\"none\" stroke=\"#000000\" d=\"M1764.0637,-195.373C1785.3874,-183.4501 1809.7467,-169.8298 1831.538,-157.6454\"/>\n",
       "<polygon fill=\"#000000\" stroke=\"#000000\" points=\"1833.364,-160.6344 1840.3842,-152.6992 1829.9478,-154.5247 1833.364,-160.6344\"/>\n",
       "</g>\n",
       "<!-- 27 -->\n",
       "<g id=\"node28\" class=\"node\">\n",
       "<title>27</title>\n",
       "<path fill=\"#e58139\" fill-opacity=\"0.960784\" stroke=\"#000000\" d=\"M1690.5,-53C1690.5,-53 1608.5,-53 1608.5,-53 1602.5,-53 1596.5,-47 1596.5,-41 1596.5,-41 1596.5,-12 1596.5,-12 1596.5,-6 1602.5,0 1608.5,0 1608.5,0 1690.5,0 1690.5,0 1696.5,0 1702.5,-6 1702.5,-12 1702.5,-12 1702.5,-41 1702.5,-41 1702.5,-47 1696.5,-53 1690.5,-53\"/>\n",
       "<text text-anchor=\"start\" x=\"1611.5\" y=\"-37.8\" font-family=\"Helvetica,sans-Serif\" font-size=\"14.00\" fill=\"#000000\">mse = 0.002</text>\n",
       "<text text-anchor=\"start\" x=\"1604.5\" y=\"-22.8\" font-family=\"Helvetica,sans-Serif\" font-size=\"14.00\" fill=\"#000000\">samples = 305</text>\n",
       "<text text-anchor=\"start\" x=\"1608.5\" y=\"-7.8\" font-family=\"Helvetica,sans-Serif\" font-size=\"14.00\" fill=\"#000000\">value = 0.037</text>\n",
       "</g>\n",
       "<!-- 26&#45;&gt;27 -->\n",
       "<g id=\"edge27\" class=\"edge\">\n",
       "<title>26&#45;&gt;27</title>\n",
       "<path fill=\"none\" stroke=\"#000000\" d=\"M1687.0514,-88.9777C1681.7678,-80.187 1676.0684,-70.7044 1670.7452,-61.8477\"/>\n",
       "<polygon fill=\"#000000\" stroke=\"#000000\" points=\"1673.7282,-60.0165 1665.5768,-53.2485 1667.7285,-63.6225 1673.7282,-60.0165\"/>\n",
       "</g>\n",
       "<!-- 28 -->\n",
       "<g id=\"node29\" class=\"node\">\n",
       "<title>28</title>\n",
       "<path fill=\"#e58139\" fill-opacity=\"0.749020\" stroke=\"#000000\" d=\"M1814.5,-53C1814.5,-53 1732.5,-53 1732.5,-53 1726.5,-53 1720.5,-47 1720.5,-41 1720.5,-41 1720.5,-12 1720.5,-12 1720.5,-6 1726.5,0 1732.5,0 1732.5,0 1814.5,0 1814.5,0 1820.5,0 1826.5,-6 1826.5,-12 1826.5,-12 1826.5,-41 1826.5,-41 1826.5,-47 1820.5,-53 1814.5,-53\"/>\n",
       "<text text-anchor=\"start\" x=\"1735.5\" y=\"-37.8\" font-family=\"Helvetica,sans-Serif\" font-size=\"14.00\" fill=\"#000000\">mse = 0.002</text>\n",
       "<text text-anchor=\"start\" x=\"1728.5\" y=\"-22.8\" font-family=\"Helvetica,sans-Serif\" font-size=\"14.00\" fill=\"#000000\">samples = 839</text>\n",
       "<text text-anchor=\"start\" x=\"1732.5\" y=\"-7.8\" font-family=\"Helvetica,sans-Serif\" font-size=\"14.00\" fill=\"#000000\">value = 0.026</text>\n",
       "</g>\n",
       "<!-- 26&#45;&gt;28 -->\n",
       "<g id=\"edge28\" class=\"edge\">\n",
       "<title>26&#45;&gt;28</title>\n",
       "<path fill=\"none\" stroke=\"#000000\" d=\"M1730.7691,-88.9777C1736.844,-80.0954 1743.4021,-70.5067 1749.5135,-61.5711\"/>\n",
       "<polygon fill=\"#000000\" stroke=\"#000000\" points=\"1752.4493,-63.4785 1755.2057,-53.2485 1746.6714,-59.5267 1752.4493,-63.4785\"/>\n",
       "</g>\n",
       "<!-- 30 -->\n",
       "<g id=\"node31\" class=\"node\">\n",
       "<title>30</title>\n",
       "<path fill=\"#e58139\" fill-opacity=\"0.101961\" stroke=\"#000000\" d=\"M1930.5,-53C1930.5,-53 1856.5,-53 1856.5,-53 1850.5,-53 1844.5,-47 1844.5,-41 1844.5,-41 1844.5,-12 1844.5,-12 1844.5,-6 1850.5,0 1856.5,0 1856.5,0 1930.5,0 1930.5,0 1936.5,0 1942.5,-6 1942.5,-12 1942.5,-12 1942.5,-41 1942.5,-41 1942.5,-47 1936.5,-53 1930.5,-53\"/>\n",
       "<text text-anchor=\"start\" x=\"1855.5\" y=\"-37.8\" font-family=\"Helvetica,sans-Serif\" font-size=\"14.00\" fill=\"#000000\">mse = 0.002</text>\n",
       "<text text-anchor=\"start\" x=\"1852.5\" y=\"-22.8\" font-family=\"Helvetica,sans-Serif\" font-size=\"14.00\" fill=\"#000000\">samples = 70</text>\n",
       "<text text-anchor=\"start\" x=\"1854\" y=\"-7.8\" font-family=\"Helvetica,sans-Serif\" font-size=\"14.00\" fill=\"#000000\">value = &#45;0.01</text>\n",
       "</g>\n",
       "<!-- 29&#45;&gt;30 -->\n",
       "<g id=\"edge30\" class=\"edge\">\n",
       "<title>29&#45;&gt;30</title>\n",
       "<path fill=\"none\" stroke=\"#000000\" d=\"M1893.5,-88.9777C1893.5,-80.7364 1893.5,-71.887 1893.5,-63.5153\"/>\n",
       "<polygon fill=\"#000000\" stroke=\"#000000\" points=\"1897.0001,-63.2484 1893.5,-53.2485 1890.0001,-63.2485 1897.0001,-63.2484\"/>\n",
       "</g>\n",
       "<!-- 31 -->\n",
       "<g id=\"node32\" class=\"node\">\n",
       "<title>31</title>\n",
       "<path fill=\"#e58139\" fill-opacity=\"0.698039\" stroke=\"#000000\" d=\"M2046.5,-53C2046.5,-53 1972.5,-53 1972.5,-53 1966.5,-53 1960.5,-47 1960.5,-41 1960.5,-41 1960.5,-12 1960.5,-12 1960.5,-6 1966.5,0 1972.5,0 1972.5,0 2046.5,0 2046.5,0 2052.5,0 2058.5,-6 2058.5,-12 2058.5,-12 2058.5,-41 2058.5,-41 2058.5,-47 2052.5,-53 2046.5,-53\"/>\n",
       "<text text-anchor=\"start\" x=\"1971.5\" y=\"-37.8\" font-family=\"Helvetica,sans-Serif\" font-size=\"14.00\" fill=\"#000000\">mse = 0.003</text>\n",
       "<text text-anchor=\"start\" x=\"1968.5\" y=\"-22.8\" font-family=\"Helvetica,sans-Serif\" font-size=\"14.00\" fill=\"#000000\">samples = 54</text>\n",
       "<text text-anchor=\"start\" x=\"1968.5\" y=\"-7.8\" font-family=\"Helvetica,sans-Serif\" font-size=\"14.00\" fill=\"#000000\">value = 0.023</text>\n",
       "</g>\n",
       "<!-- 29&#45;&gt;31 -->\n",
       "<g id=\"edge31\" class=\"edge\">\n",
       "<title>29&#45;&gt;31</title>\n",
       "<path fill=\"none\" stroke=\"#000000\" d=\"M1934.3973,-88.9777C1945.8449,-79.4545 1958.2687,-69.1191 1969.6545,-59.6473\"/>\n",
       "<polygon fill=\"#000000\" stroke=\"#000000\" points=\"1971.8971,-62.3345 1977.3464,-53.2485 1967.4203,-56.9532 1971.8971,-62.3345\"/>\n",
       "</g>\n",
       "<!-- 33 -->\n",
       "<g id=\"node34\" class=\"node\">\n",
       "<title>33</title>\n",
       "<path fill=\"#e58139\" fill-opacity=\"0.560784\" stroke=\"#000000\" d=\"M2586,-365C2586,-365 2489,-365 2489,-365 2483,-365 2477,-359 2477,-353 2477,-353 2477,-309 2477,-309 2477,-303 2483,-297 2489,-297 2489,-297 2586,-297 2586,-297 2592,-297 2598,-303 2598,-309 2598,-309 2598,-353 2598,-353 2598,-359 2592,-365 2586,-365\"/>\n",
       "<text text-anchor=\"start\" x=\"2488\" y=\"-349.8\" font-family=\"Helvetica,sans-Serif\" font-size=\"14.00\" fill=\"#000000\">year_2016 ≤ 0.5</text>\n",
       "<text text-anchor=\"start\" x=\"2499.5\" y=\"-334.8\" font-family=\"Helvetica,sans-Serif\" font-size=\"14.00\" fill=\"#000000\">mse = 0.003</text>\n",
       "<text text-anchor=\"start\" x=\"2485\" y=\"-319.8\" font-family=\"Helvetica,sans-Serif\" font-size=\"14.00\" fill=\"#000000\">samples = 55237</text>\n",
       "<text text-anchor=\"start\" x=\"2496.5\" y=\"-304.8\" font-family=\"Helvetica,sans-Serif\" font-size=\"14.00\" fill=\"#000000\">value = 0.015</text>\n",
       "</g>\n",
       "<!-- 32&#45;&gt;33 -->\n",
       "<g id=\"edge33\" class=\"edge\">\n",
       "<title>32&#45;&gt;33</title>\n",
       "<path fill=\"none\" stroke=\"#000000\" d=\"M2537.5,-400.9465C2537.5,-392.776 2537.5,-383.9318 2537.5,-375.3697\"/>\n",
       "<polygon fill=\"#000000\" stroke=\"#000000\" points=\"2541.0001,-375.13 2537.5,-365.13 2534.0001,-375.13 2541.0001,-375.13\"/>\n",
       "</g>\n",
       "<!-- 48 -->\n",
       "<g id=\"node49\" class=\"node\">\n",
       "<title>48</title>\n",
       "<path fill=\"#e58139\" fill-opacity=\"0.764706\" stroke=\"#000000\" d=\"M3427,-365C3427,-365 3330,-365 3330,-365 3324,-365 3318,-359 3318,-353 3318,-353 3318,-309 3318,-309 3318,-303 3324,-297 3330,-297 3330,-297 3427,-297 3427,-297 3433,-297 3439,-303 3439,-309 3439,-309 3439,-353 3439,-353 3439,-359 3433,-365 3427,-365\"/>\n",
       "<text text-anchor=\"start\" x=\"3345.5\" y=\"-349.8\" font-family=\"Helvetica,sans-Serif\" font-size=\"14.00\" fill=\"#000000\">t&#45;1 ≤ 0.052</text>\n",
       "<text text-anchor=\"start\" x=\"3340.5\" y=\"-334.8\" font-family=\"Helvetica,sans-Serif\" font-size=\"14.00\" fill=\"#000000\">mse = 0.003</text>\n",
       "<text text-anchor=\"start\" x=\"3326\" y=\"-319.8\" font-family=\"Helvetica,sans-Serif\" font-size=\"14.00\" fill=\"#000000\">samples = 11784</text>\n",
       "<text text-anchor=\"start\" x=\"3337.5\" y=\"-304.8\" font-family=\"Helvetica,sans-Serif\" font-size=\"14.00\" fill=\"#000000\">value = 0.026</text>\n",
       "</g>\n",
       "<!-- 32&#45;&gt;48 -->\n",
       "<g id=\"edge48\" class=\"edge\">\n",
       "<title>32&#45;&gt;48</title>\n",
       "<path fill=\"none\" stroke=\"#000000\" d=\"M2598.321,-427.4787C2750.1552,-408.7026 3145.2661,-359.8422 3307.4448,-339.7868\"/>\n",
       "<polygon fill=\"#000000\" stroke=\"#000000\" points=\"3308.2905,-343.209 3317.7853,-338.5081 3307.4314,-336.2619 3308.2905,-343.209\"/>\n",
       "</g>\n",
       "<!-- 34 -->\n",
       "<g id=\"node35\" class=\"node\">\n",
       "<title>34</title>\n",
       "<path fill=\"#e58139\" fill-opacity=\"0.525490\" stroke=\"#000000\" d=\"M2519,-261C2519,-261 2422,-261 2422,-261 2416,-261 2410,-255 2410,-249 2410,-249 2410,-205 2410,-205 2410,-199 2416,-193 2422,-193 2422,-193 2519,-193 2519,-193 2525,-193 2531,-199 2531,-205 2531,-205 2531,-249 2531,-249 2531,-255 2525,-261 2519,-261\"/>\n",
       "<text text-anchor=\"start\" x=\"2421\" y=\"-245.8\" font-family=\"Helvetica,sans-Serif\" font-size=\"14.00\" fill=\"#000000\">year_2012 ≤ 0.5</text>\n",
       "<text text-anchor=\"start\" x=\"2432.5\" y=\"-230.8\" font-family=\"Helvetica,sans-Serif\" font-size=\"14.00\" fill=\"#000000\">mse = 0.003</text>\n",
       "<text text-anchor=\"start\" x=\"2418\" y=\"-215.8\" font-family=\"Helvetica,sans-Serif\" font-size=\"14.00\" fill=\"#000000\">samples = 45997</text>\n",
       "<text text-anchor=\"start\" x=\"2429.5\" y=\"-200.8\" font-family=\"Helvetica,sans-Serif\" font-size=\"14.00\" fill=\"#000000\">value = 0.013</text>\n",
       "</g>\n",
       "<!-- 33&#45;&gt;34 -->\n",
       "<g id=\"edge34\" class=\"edge\">\n",
       "<title>33&#45;&gt;34</title>\n",
       "<path fill=\"none\" stroke=\"#000000\" d=\"M2515.5617,-296.9465C2509.951,-288.2373 2503.8471,-278.7626 2497.9958,-269.6801\"/>\n",
       "<polygon fill=\"#000000\" stroke=\"#000000\" points=\"2500.8457,-267.641 2492.4876,-261.13 2494.9611,-271.4321 2500.8457,-267.641\"/>\n",
       "</g>\n",
       "<!-- 41 -->\n",
       "<g id=\"node42\" class=\"node\">\n",
       "<title>41</title>\n",
       "<path fill=\"#e58139\" fill-opacity=\"0.725490\" stroke=\"#000000\" d=\"M2776,-261C2776,-261 2687,-261 2687,-261 2681,-261 2675,-255 2675,-249 2675,-249 2675,-205 2675,-205 2675,-199 2681,-193 2687,-193 2687,-193 2776,-193 2776,-193 2782,-193 2788,-199 2788,-205 2788,-205 2788,-249 2788,-249 2788,-255 2782,-261 2776,-261\"/>\n",
       "<text text-anchor=\"start\" x=\"2702.5\" y=\"-245.8\" font-family=\"Helvetica,sans-Serif\" font-size=\"14.00\" fill=\"#000000\">t&#45;2 ≤ 0.03</text>\n",
       "<text text-anchor=\"start\" x=\"2693.5\" y=\"-230.8\" font-family=\"Helvetica,sans-Serif\" font-size=\"14.00\" fill=\"#000000\">mse = 0.003</text>\n",
       "<text text-anchor=\"start\" x=\"2683\" y=\"-215.8\" font-family=\"Helvetica,sans-Serif\" font-size=\"14.00\" fill=\"#000000\">samples = 9240</text>\n",
       "<text text-anchor=\"start\" x=\"2690.5\" y=\"-200.8\" font-family=\"Helvetica,sans-Serif\" font-size=\"14.00\" fill=\"#000000\">value = 0.024</text>\n",
       "</g>\n",
       "<!-- 33&#45;&gt;41 -->\n",
       "<g id=\"edge41\" class=\"edge\">\n",
       "<title>33&#45;&gt;41</title>\n",
       "<path fill=\"none\" stroke=\"#000000\" d=\"M2598.0848,-298.5215C2619.5816,-286.9975 2643.8698,-273.977 2665.775,-262.234\"/>\n",
       "<polygon fill=\"#000000\" stroke=\"#000000\" points=\"2667.5202,-265.2697 2674.68,-257.4602 2664.2128,-259.1003 2667.5202,-265.2697\"/>\n",
       "</g>\n",
       "<!-- 35 -->\n",
       "<g id=\"node36\" class=\"node\">\n",
       "<title>35</title>\n",
       "<path fill=\"#e58139\" fill-opacity=\"0.490196\" stroke=\"#000000\" d=\"M2321,-157C2321,-157 2224,-157 2224,-157 2218,-157 2212,-151 2212,-145 2212,-145 2212,-101 2212,-101 2212,-95 2218,-89 2224,-89 2224,-89 2321,-89 2321,-89 2327,-89 2333,-95 2333,-101 2333,-101 2333,-145 2333,-145 2333,-151 2327,-157 2321,-157\"/>\n",
       "<text text-anchor=\"start\" x=\"2235.5\" y=\"-141.8\" font-family=\"Helvetica,sans-Serif\" font-size=\"14.00\" fill=\"#000000\">size_1 ≤ 0.5</text>\n",
       "<text text-anchor=\"start\" x=\"2234.5\" y=\"-126.8\" font-family=\"Helvetica,sans-Serif\" font-size=\"14.00\" fill=\"#000000\">mse = 0.003</text>\n",
       "<text text-anchor=\"start\" x=\"2220\" y=\"-111.8\" font-family=\"Helvetica,sans-Serif\" font-size=\"14.00\" fill=\"#000000\">samples = 36918</text>\n",
       "<text text-anchor=\"start\" x=\"2231.5\" y=\"-96.8\" font-family=\"Helvetica,sans-Serif\" font-size=\"14.00\" fill=\"#000000\">value = 0.011</text>\n",
       "</g>\n",
       "<!-- 34&#45;&gt;35 -->\n",
       "<g id=\"edge35\" class=\"edge\">\n",
       "<title>34&#45;&gt;35</title>\n",
       "<path fill=\"none\" stroke=\"#000000\" d=\"M2409.7479,-195.0898C2388.3667,-183.8593 2364.1729,-171.1514 2342.1184,-159.5672\"/>\n",
       "<polygon fill=\"#000000\" stroke=\"#000000\" points=\"2343.6179,-156.4014 2333.1372,-154.8499 2340.3628,-162.5986 2343.6179,-156.4014\"/>\n",
       "</g>\n",
       "<!-- 38 -->\n",
       "<g id=\"node39\" class=\"node\">\n",
       "<title>38</title>\n",
       "<path fill=\"#e58139\" fill-opacity=\"0.670588\" stroke=\"#000000\" d=\"M2515,-157C2515,-157 2426,-157 2426,-157 2420,-157 2414,-151 2414,-145 2414,-145 2414,-101 2414,-101 2414,-95 2420,-89 2426,-89 2426,-89 2515,-89 2515,-89 2521,-89 2527,-95 2527,-101 2527,-101 2527,-145 2527,-145 2527,-151 2521,-157 2515,-157\"/>\n",
       "<text text-anchor=\"start\" x=\"2437.5\" y=\"-141.8\" font-family=\"Helvetica,sans-Serif\" font-size=\"14.00\" fill=\"#000000\">t&#45;1 ≤ 0.069</text>\n",
       "<text text-anchor=\"start\" x=\"2432.5\" y=\"-126.8\" font-family=\"Helvetica,sans-Serif\" font-size=\"14.00\" fill=\"#000000\">mse = 0.003</text>\n",
       "<text text-anchor=\"start\" x=\"2422\" y=\"-111.8\" font-family=\"Helvetica,sans-Serif\" font-size=\"14.00\" fill=\"#000000\">samples = 9079</text>\n",
       "<text text-anchor=\"start\" x=\"2429.5\" y=\"-96.8\" font-family=\"Helvetica,sans-Serif\" font-size=\"14.00\" fill=\"#000000\">value = 0.021</text>\n",
       "</g>\n",
       "<!-- 34&#45;&gt;38 -->\n",
       "<g id=\"edge38\" class=\"edge\">\n",
       "<title>34&#45;&gt;38</title>\n",
       "<path fill=\"none\" stroke=\"#000000\" d=\"M2470.5,-192.9465C2470.5,-184.776 2470.5,-175.9318 2470.5,-167.3697\"/>\n",
       "<polygon fill=\"#000000\" stroke=\"#000000\" points=\"2474.0001,-167.13 2470.5,-157.13 2467.0001,-167.13 2474.0001,-167.13\"/>\n",
       "</g>\n",
       "<!-- 36 -->\n",
       "<g id=\"node37\" class=\"node\">\n",
       "<title>36</title>\n",
       "<path fill=\"#e58139\" fill-opacity=\"0.509804\" stroke=\"#000000\" d=\"M2186,-53C2186,-53 2089,-53 2089,-53 2083,-53 2077,-47 2077,-41 2077,-41 2077,-12 2077,-12 2077,-6 2083,0 2089,0 2089,0 2186,0 2186,0 2192,0 2198,-6 2198,-12 2198,-12 2198,-41 2198,-41 2198,-47 2192,-53 2186,-53\"/>\n",
       "<text text-anchor=\"start\" x=\"2099.5\" y=\"-37.8\" font-family=\"Helvetica,sans-Serif\" font-size=\"14.00\" fill=\"#000000\">mse = 0.003</text>\n",
       "<text text-anchor=\"start\" x=\"2085\" y=\"-22.8\" font-family=\"Helvetica,sans-Serif\" font-size=\"14.00\" fill=\"#000000\">samples = 34441</text>\n",
       "<text text-anchor=\"start\" x=\"2096.5\" y=\"-7.8\" font-family=\"Helvetica,sans-Serif\" font-size=\"14.00\" fill=\"#000000\">value = 0.012</text>\n",
       "</g>\n",
       "<!-- 35&#45;&gt;36 -->\n",
       "<g id=\"edge36\" class=\"edge\">\n",
       "<title>35&#45;&gt;36</title>\n",
       "<path fill=\"none\" stroke=\"#000000\" d=\"M2224.9041,-88.9777C2211.3252,-79.2713 2196.5661,-68.7213 2183.1088,-59.1018\"/>\n",
       "<polygon fill=\"#000000\" stroke=\"#000000\" points=\"2185.0908,-56.2164 2174.9202,-53.2485 2181.0201,-61.9111 2185.0908,-56.2164\"/>\n",
       "</g>\n",
       "<!-- 37 -->\n",
       "<g id=\"node38\" class=\"node\">\n",
       "<title>37</title>\n",
       "<path fill=\"#e58139\" fill-opacity=\"0.262745\" stroke=\"#000000\" d=\"M2317,-53C2317,-53 2228,-53 2228,-53 2222,-53 2216,-47 2216,-41 2216,-41 2216,-12 2216,-12 2216,-6 2222,0 2228,0 2228,0 2317,0 2317,0 2323,0 2329,-6 2329,-12 2329,-12 2329,-41 2329,-41 2329,-47 2323,-53 2317,-53\"/>\n",
       "<text text-anchor=\"start\" x=\"2234.5\" y=\"-37.8\" font-family=\"Helvetica,sans-Serif\" font-size=\"14.00\" fill=\"#000000\">mse = 0.004</text>\n",
       "<text text-anchor=\"start\" x=\"2224\" y=\"-22.8\" font-family=\"Helvetica,sans-Serif\" font-size=\"14.00\" fill=\"#000000\">samples = 2477</text>\n",
       "<text text-anchor=\"start\" x=\"2229\" y=\"-7.8\" font-family=\"Helvetica,sans-Serif\" font-size=\"14.00\" fill=\"#000000\">value = &#45;0.001</text>\n",
       "</g>\n",
       "<!-- 35&#45;&gt;37 -->\n",
       "<g id=\"edge37\" class=\"edge\">\n",
       "<title>35&#45;&gt;37</title>\n",
       "<path fill=\"none\" stroke=\"#000000\" d=\"M2272.5,-88.9777C2272.5,-80.7364 2272.5,-71.887 2272.5,-63.5153\"/>\n",
       "<polygon fill=\"#000000\" stroke=\"#000000\" points=\"2276.0001,-63.2484 2272.5,-53.2485 2269.0001,-63.2485 2276.0001,-63.2484\"/>\n",
       "</g>\n",
       "<!-- 39 -->\n",
       "<g id=\"node40\" class=\"node\">\n",
       "<title>39</title>\n",
       "<path fill=\"#e58139\" fill-opacity=\"0.615686\" stroke=\"#000000\" d=\"M2448,-53C2448,-53 2359,-53 2359,-53 2353,-53 2347,-47 2347,-41 2347,-41 2347,-12 2347,-12 2347,-6 2353,0 2359,0 2359,0 2448,0 2448,0 2454,0 2460,-6 2460,-12 2460,-12 2460,-41 2460,-41 2460,-47 2454,-53 2448,-53\"/>\n",
       "<text text-anchor=\"start\" x=\"2365.5\" y=\"-37.8\" font-family=\"Helvetica,sans-Serif\" font-size=\"14.00\" fill=\"#000000\">mse = 0.003</text>\n",
       "<text text-anchor=\"start\" x=\"2355\" y=\"-22.8\" font-family=\"Helvetica,sans-Serif\" font-size=\"14.00\" fill=\"#000000\">samples = 6185</text>\n",
       "<text text-anchor=\"start\" x=\"2362.5\" y=\"-7.8\" font-family=\"Helvetica,sans-Serif\" font-size=\"14.00\" fill=\"#000000\">value = 0.018</text>\n",
       "</g>\n",
       "<!-- 38&#45;&gt;39 -->\n",
       "<g id=\"edge39\" class=\"edge\">\n",
       "<title>38&#45;&gt;39</title>\n",
       "<path fill=\"none\" stroke=\"#000000\" d=\"M2446.8783,-88.9777C2440.7113,-80.0954 2434.0539,-70.5067 2427.8499,-61.5711\"/>\n",
       "<polygon fill=\"#000000\" stroke=\"#000000\" points=\"2430.6497,-59.4666 2422.0715,-53.2485 2424.8997,-63.4589 2430.6497,-59.4666\"/>\n",
       "</g>\n",
       "<!-- 40 -->\n",
       "<g id=\"node41\" class=\"node\">\n",
       "<title>40</title>\n",
       "<path fill=\"#e58139\" fill-opacity=\"0.784314\" stroke=\"#000000\" d=\"M2579,-53C2579,-53 2490,-53 2490,-53 2484,-53 2478,-47 2478,-41 2478,-41 2478,-12 2478,-12 2478,-6 2484,0 2490,0 2490,0 2579,0 2579,0 2585,0 2591,-6 2591,-12 2591,-12 2591,-41 2591,-41 2591,-47 2585,-53 2579,-53\"/>\n",
       "<text text-anchor=\"start\" x=\"2496.5\" y=\"-37.8\" font-family=\"Helvetica,sans-Serif\" font-size=\"14.00\" fill=\"#000000\">mse = 0.003</text>\n",
       "<text text-anchor=\"start\" x=\"2486\" y=\"-22.8\" font-family=\"Helvetica,sans-Serif\" font-size=\"14.00\" fill=\"#000000\">samples = 2894</text>\n",
       "<text text-anchor=\"start\" x=\"2493.5\" y=\"-7.8\" font-family=\"Helvetica,sans-Serif\" font-size=\"14.00\" fill=\"#000000\">value = 0.027</text>\n",
       "</g>\n",
       "<!-- 38&#45;&gt;40 -->\n",
       "<g id=\"edge40\" class=\"edge\">\n",
       "<title>38&#45;&gt;40</title>\n",
       "<path fill=\"none\" stroke=\"#000000\" d=\"M2493.064,-88.9777C2498.8941,-80.187 2505.1831,-70.7044 2511.057,-61.8477\"/>\n",
       "<polygon fill=\"#000000\" stroke=\"#000000\" points=\"2514.1498,-63.5167 2516.7601,-53.2485 2508.3162,-59.6478 2514.1498,-63.5167\"/>\n",
       "</g>\n",
       "<!-- 42 -->\n",
       "<g id=\"node43\" class=\"node\">\n",
       "<title>42</title>\n",
       "<path fill=\"#e58139\" fill-opacity=\"0.839216\" stroke=\"#000000\" d=\"M2776,-157C2776,-157 2687,-157 2687,-157 2681,-157 2675,-151 2675,-145 2675,-145 2675,-101 2675,-101 2675,-95 2681,-89 2687,-89 2687,-89 2776,-89 2776,-89 2782,-89 2788,-95 2788,-101 2788,-101 2788,-145 2788,-145 2788,-151 2782,-157 2776,-157\"/>\n",
       "<text text-anchor=\"start\" x=\"2702.5\" y=\"-141.8\" font-family=\"Helvetica,sans-Serif\" font-size=\"14.00\" fill=\"#000000\">t&#45;1 ≤ 0.07</text>\n",
       "<text text-anchor=\"start\" x=\"2693.5\" y=\"-126.8\" font-family=\"Helvetica,sans-Serif\" font-size=\"14.00\" fill=\"#000000\">mse = 0.003</text>\n",
       "<text text-anchor=\"start\" x=\"2683\" y=\"-111.8\" font-family=\"Helvetica,sans-Serif\" font-size=\"14.00\" fill=\"#000000\">samples = 5338</text>\n",
       "<text text-anchor=\"start\" x=\"2694\" y=\"-96.8\" font-family=\"Helvetica,sans-Serif\" font-size=\"14.00\" fill=\"#000000\">value = 0.03</text>\n",
       "</g>\n",
       "<!-- 41&#45;&gt;42 -->\n",
       "<g id=\"edge42\" class=\"edge\">\n",
       "<title>41&#45;&gt;42</title>\n",
       "<path fill=\"none\" stroke=\"#000000\" d=\"M2731.5,-192.9465C2731.5,-184.776 2731.5,-175.9318 2731.5,-167.3697\"/>\n",
       "<polygon fill=\"#000000\" stroke=\"#000000\" points=\"2735.0001,-167.13 2731.5,-157.13 2728.0001,-167.13 2735.0001,-167.13\"/>\n",
       "</g>\n",
       "<!-- 45 -->\n",
       "<g id=\"node46\" class=\"node\">\n",
       "<title>45</title>\n",
       "<path fill=\"#e58139\" fill-opacity=\"0.572549\" stroke=\"#000000\" d=\"M2972,-157C2972,-157 2883,-157 2883,-157 2877,-157 2871,-151 2871,-145 2871,-145 2871,-101 2871,-101 2871,-95 2877,-89 2883,-89 2883,-89 2972,-89 2972,-89 2978,-89 2984,-95 2984,-101 2984,-101 2984,-145 2984,-145 2984,-151 2978,-157 2972,-157\"/>\n",
       "<text text-anchor=\"start\" x=\"2898.5\" y=\"-141.8\" font-family=\"Helvetica,sans-Serif\" font-size=\"14.00\" fill=\"#000000\">t&#45;1 ≤ 0.06</text>\n",
       "<text text-anchor=\"start\" x=\"2889.5\" y=\"-126.8\" font-family=\"Helvetica,sans-Serif\" font-size=\"14.00\" fill=\"#000000\">mse = 0.003</text>\n",
       "<text text-anchor=\"start\" x=\"2879\" y=\"-111.8\" font-family=\"Helvetica,sans-Serif\" font-size=\"14.00\" fill=\"#000000\">samples = 3902</text>\n",
       "<text text-anchor=\"start\" x=\"2886.5\" y=\"-96.8\" font-family=\"Helvetica,sans-Serif\" font-size=\"14.00\" fill=\"#000000\">value = 0.016</text>\n",
       "</g>\n",
       "<!-- 41&#45;&gt;45 -->\n",
       "<g id=\"edge45\" class=\"edge\">\n",
       "<title>41&#45;&gt;45</title>\n",
       "<path fill=\"none\" stroke=\"#000000\" d=\"M2788.1913,-196.9189C2811.2492,-184.6841 2838.0415,-170.4678 2861.9346,-157.7898\"/>\n",
       "<polygon fill=\"#000000\" stroke=\"#000000\" points=\"2863.7431,-160.7924 2870.9361,-153.0135 2860.4621,-154.609 2863.7431,-160.7924\"/>\n",
       "</g>\n",
       "<!-- 43 -->\n",
       "<g id=\"node44\" class=\"node\">\n",
       "<title>43</title>\n",
       "<path fill=\"#e58139\" fill-opacity=\"0.760784\" stroke=\"#000000\" d=\"M2710,-53C2710,-53 2621,-53 2621,-53 2615,-53 2609,-47 2609,-41 2609,-41 2609,-12 2609,-12 2609,-6 2615,0 2621,0 2621,0 2710,0 2710,0 2716,0 2722,-6 2722,-12 2722,-12 2722,-41 2722,-41 2722,-47 2716,-53 2710,-53\"/>\n",
       "<text text-anchor=\"start\" x=\"2627.5\" y=\"-37.8\" font-family=\"Helvetica,sans-Serif\" font-size=\"14.00\" fill=\"#000000\">mse = 0.003</text>\n",
       "<text text-anchor=\"start\" x=\"2617\" y=\"-22.8\" font-family=\"Helvetica,sans-Serif\" font-size=\"14.00\" fill=\"#000000\">samples = 3551</text>\n",
       "<text text-anchor=\"start\" x=\"2624.5\" y=\"-7.8\" font-family=\"Helvetica,sans-Serif\" font-size=\"14.00\" fill=\"#000000\">value = 0.026</text>\n",
       "</g>\n",
       "<!-- 42&#45;&gt;43 -->\n",
       "<g id=\"edge43\" class=\"edge\">\n",
       "<title>42&#45;&gt;43</title>\n",
       "<path fill=\"none\" stroke=\"#000000\" d=\"M2708.2309,-88.9777C2702.156,-80.0954 2695.5979,-70.5067 2689.4865,-61.5711\"/>\n",
       "<polygon fill=\"#000000\" stroke=\"#000000\" points=\"2692.3286,-59.5267 2683.7943,-53.2485 2686.5507,-63.4785 2692.3286,-59.5267\"/>\n",
       "</g>\n",
       "<!-- 44 -->\n",
       "<g id=\"node45\" class=\"node\">\n",
       "<title>44</title>\n",
       "<path fill=\"#e58139\" stroke=\"#000000\" d=\"M2841,-53C2841,-53 2752,-53 2752,-53 2746,-53 2740,-47 2740,-41 2740,-41 2740,-12 2740,-12 2740,-6 2746,0 2752,0 2752,0 2841,0 2841,0 2847,0 2853,-6 2853,-12 2853,-12 2853,-41 2853,-41 2853,-47 2847,-53 2841,-53\"/>\n",
       "<text text-anchor=\"start\" x=\"2758.5\" y=\"-37.8\" font-family=\"Helvetica,sans-Serif\" font-size=\"14.00\" fill=\"#000000\">mse = 0.003</text>\n",
       "<text text-anchor=\"start\" x=\"2748\" y=\"-22.8\" font-family=\"Helvetica,sans-Serif\" font-size=\"14.00\" fill=\"#000000\">samples = 1787</text>\n",
       "<text text-anchor=\"start\" x=\"2755.5\" y=\"-7.8\" font-family=\"Helvetica,sans-Serif\" font-size=\"14.00\" fill=\"#000000\">value = 0.039</text>\n",
       "</g>\n",
       "<!-- 42&#45;&gt;44 -->\n",
       "<g id=\"edge44\" class=\"edge\">\n",
       "<title>42&#45;&gt;44</title>\n",
       "<path fill=\"none\" stroke=\"#000000\" d=\"M2754.4166,-88.9777C2760.3994,-80.0954 2766.8582,-70.5067 2772.877,-61.5711\"/>\n",
       "<polygon fill=\"#000000\" stroke=\"#000000\" points=\"2775.7991,-63.4978 2778.4829,-53.2485 2769.9933,-59.5871 2775.7991,-63.4978\"/>\n",
       "</g>\n",
       "<!-- 46 -->\n",
       "<g id=\"node47\" class=\"node\">\n",
       "<title>46</title>\n",
       "<path fill=\"#e58139\" fill-opacity=\"0.494118\" stroke=\"#000000\" d=\"M2972,-53C2972,-53 2883,-53 2883,-53 2877,-53 2871,-47 2871,-41 2871,-41 2871,-12 2871,-12 2871,-6 2877,0 2883,0 2883,0 2972,0 2972,0 2978,0 2984,-6 2984,-12 2984,-12 2984,-41 2984,-41 2984,-47 2978,-53 2972,-53\"/>\n",
       "<text text-anchor=\"start\" x=\"2889.5\" y=\"-37.8\" font-family=\"Helvetica,sans-Serif\" font-size=\"14.00\" fill=\"#000000\">mse = 0.003</text>\n",
       "<text text-anchor=\"start\" x=\"2879\" y=\"-22.8\" font-family=\"Helvetica,sans-Serif\" font-size=\"14.00\" fill=\"#000000\">samples = 2367</text>\n",
       "<text text-anchor=\"start\" x=\"2886.5\" y=\"-7.8\" font-family=\"Helvetica,sans-Serif\" font-size=\"14.00\" fill=\"#000000\">value = 0.011</text>\n",
       "</g>\n",
       "<!-- 45&#45;&gt;46 -->\n",
       "<g id=\"edge46\" class=\"edge\">\n",
       "<title>45&#45;&gt;46</title>\n",
       "<path fill=\"none\" stroke=\"#000000\" d=\"M2927.5,-88.9777C2927.5,-80.7364 2927.5,-71.887 2927.5,-63.5153\"/>\n",
       "<polygon fill=\"#000000\" stroke=\"#000000\" points=\"2931.0001,-63.2484 2927.5,-53.2485 2924.0001,-63.2485 2931.0001,-63.2484\"/>\n",
       "</g>\n",
       "<!-- 47 -->\n",
       "<g id=\"node48\" class=\"node\">\n",
       "<title>47</title>\n",
       "<path fill=\"#e58139\" fill-opacity=\"0.690196\" stroke=\"#000000\" d=\"M3103,-53C3103,-53 3014,-53 3014,-53 3008,-53 3002,-47 3002,-41 3002,-41 3002,-12 3002,-12 3002,-6 3008,0 3014,0 3014,0 3103,0 3103,0 3109,0 3115,-6 3115,-12 3115,-12 3115,-41 3115,-41 3115,-47 3109,-53 3103,-53\"/>\n",
       "<text text-anchor=\"start\" x=\"3020.5\" y=\"-37.8\" font-family=\"Helvetica,sans-Serif\" font-size=\"14.00\" fill=\"#000000\">mse = 0.003</text>\n",
       "<text text-anchor=\"start\" x=\"3010\" y=\"-22.8\" font-family=\"Helvetica,sans-Serif\" font-size=\"14.00\" fill=\"#000000\">samples = 1535</text>\n",
       "<text text-anchor=\"start\" x=\"3017.5\" y=\"-7.8\" font-family=\"Helvetica,sans-Serif\" font-size=\"14.00\" fill=\"#000000\">value = 0.022</text>\n",
       "</g>\n",
       "<!-- 45&#45;&gt;47 -->\n",
       "<g id=\"edge47\" class=\"edge\">\n",
       "<title>45&#45;&gt;47</title>\n",
       "<path fill=\"none\" stroke=\"#000000\" d=\"M2973.6857,-88.9777C2986.7379,-79.3629 3000.9139,-68.9203 3013.8727,-59.3743\"/>\n",
       "<polygon fill=\"#000000\" stroke=\"#000000\" points=\"3016.2131,-61.9974 3022.1886,-53.2485 3012.0614,-56.3615 3016.2131,-61.9974\"/>\n",
       "</g>\n",
       "<!-- 49 -->\n",
       "<g id=\"node50\" class=\"node\">\n",
       "<title>49</title>\n",
       "<path fill=\"#e58139\" fill-opacity=\"0.698039\" stroke=\"#000000\" d=\"M3423,-261C3423,-261 3334,-261 3334,-261 3328,-261 3322,-255 3322,-249 3322,-249 3322,-205 3322,-205 3322,-199 3328,-193 3334,-193 3334,-193 3423,-193 3423,-193 3429,-193 3435,-199 3435,-205 3435,-205 3435,-249 3435,-249 3435,-255 3429,-261 3423,-261\"/>\n",
       "<text text-anchor=\"start\" x=\"3345.5\" y=\"-245.8\" font-family=\"Helvetica,sans-Serif\" font-size=\"14.00\" fill=\"#000000\">t&#45;3 ≤ 0.021</text>\n",
       "<text text-anchor=\"start\" x=\"3340.5\" y=\"-230.8\" font-family=\"Helvetica,sans-Serif\" font-size=\"14.00\" fill=\"#000000\">mse = 0.003</text>\n",
       "<text text-anchor=\"start\" x=\"3330\" y=\"-215.8\" font-family=\"Helvetica,sans-Serif\" font-size=\"14.00\" fill=\"#000000\">samples = 6009</text>\n",
       "<text text-anchor=\"start\" x=\"3337.5\" y=\"-200.8\" font-family=\"Helvetica,sans-Serif\" font-size=\"14.00\" fill=\"#000000\">value = 0.023</text>\n",
       "</g>\n",
       "<!-- 48&#45;&gt;49 -->\n",
       "<g id=\"edge49\" class=\"edge\">\n",
       "<title>48&#45;&gt;49</title>\n",
       "<path fill=\"none\" stroke=\"#000000\" d=\"M3378.5,-296.9465C3378.5,-288.776 3378.5,-279.9318 3378.5,-271.3697\"/>\n",
       "<polygon fill=\"#000000\" stroke=\"#000000\" points=\"3382.0001,-271.13 3378.5,-261.13 3375.0001,-271.13 3382.0001,-271.13\"/>\n",
       "</g>\n",
       "<!-- 56 -->\n",
       "<g id=\"node57\" class=\"node\">\n",
       "<title>56</title>\n",
       "<path fill=\"#e58139\" fill-opacity=\"0.835294\" stroke=\"#000000\" d=\"M3803,-261C3803,-261 3714,-261 3714,-261 3708,-261 3702,-255 3702,-249 3702,-249 3702,-205 3702,-205 3702,-199 3708,-193 3714,-193 3714,-193 3803,-193 3803,-193 3809,-193 3815,-199 3815,-205 3815,-205 3815,-249 3815,-249 3815,-255 3809,-261 3803,-261\"/>\n",
       "<text text-anchor=\"start\" x=\"3725.5\" y=\"-245.8\" font-family=\"Helvetica,sans-Serif\" font-size=\"14.00\" fill=\"#000000\">t&#45;3 ≤ 0.084</text>\n",
       "<text text-anchor=\"start\" x=\"3720.5\" y=\"-230.8\" font-family=\"Helvetica,sans-Serif\" font-size=\"14.00\" fill=\"#000000\">mse = 0.003</text>\n",
       "<text text-anchor=\"start\" x=\"3710\" y=\"-215.8\" font-family=\"Helvetica,sans-Serif\" font-size=\"14.00\" fill=\"#000000\">samples = 5775</text>\n",
       "<text text-anchor=\"start\" x=\"3721\" y=\"-200.8\" font-family=\"Helvetica,sans-Serif\" font-size=\"14.00\" fill=\"#000000\">value = 0.03</text>\n",
       "</g>\n",
       "<!-- 48&#45;&gt;56 -->\n",
       "<g id=\"edge56\" class=\"edge\">\n",
       "<title>48&#45;&gt;56</title>\n",
       "<path fill=\"none\" stroke=\"#000000\" d=\"M3439.1323,-314.4059C3508.1761,-295.5097 3620.6242,-264.7344 3692.0145,-245.196\"/>\n",
       "<polygon fill=\"#000000\" stroke=\"#000000\" points=\"3693.0853,-248.5318 3701.8066,-242.5161 3691.2374,-241.7801 3693.0853,-248.5318\"/>\n",
       "</g>\n",
       "<!-- 50 -->\n",
       "<g id=\"node51\" class=\"node\">\n",
       "<title>50</title>\n",
       "<path fill=\"#e58139\" fill-opacity=\"0.776471\" stroke=\"#000000\" d=\"M3357,-157C3357,-157 3268,-157 3268,-157 3262,-157 3256,-151 3256,-145 3256,-145 3256,-101 3256,-101 3256,-95 3262,-89 3268,-89 3268,-89 3357,-89 3357,-89 3363,-89 3369,-95 3369,-101 3369,-101 3369,-145 3369,-145 3369,-151 3363,-157 3357,-157\"/>\n",
       "<text text-anchor=\"start\" x=\"3277.5\" y=\"-141.8\" font-family=\"Helvetica,sans-Serif\" font-size=\"14.00\" fill=\"#000000\">t&#45;4 ≤ &#45;0.004</text>\n",
       "<text text-anchor=\"start\" x=\"3274.5\" y=\"-126.8\" font-family=\"Helvetica,sans-Serif\" font-size=\"14.00\" fill=\"#000000\">mse = 0.002</text>\n",
       "<text text-anchor=\"start\" x=\"3264\" y=\"-111.8\" font-family=\"Helvetica,sans-Serif\" font-size=\"14.00\" fill=\"#000000\">samples = 3040</text>\n",
       "<text text-anchor=\"start\" x=\"3271.5\" y=\"-96.8\" font-family=\"Helvetica,sans-Serif\" font-size=\"14.00\" fill=\"#000000\">value = 0.027</text>\n",
       "</g>\n",
       "<!-- 49&#45;&gt;50 -->\n",
       "<g id=\"edge50\" class=\"edge\">\n",
       "<title>49&#45;&gt;50</title>\n",
       "<path fill=\"none\" stroke=\"#000000\" d=\"M3356.8891,-192.9465C3351.3622,-184.2373 3345.3494,-174.7626 3339.5854,-165.6801\"/>\n",
       "<polygon fill=\"#000000\" stroke=\"#000000\" points=\"3342.4729,-163.6979 3334.1594,-157.13 3336.5626,-167.4487 3342.4729,-163.6979\"/>\n",
       "</g>\n",
       "<!-- 53 -->\n",
       "<g id=\"node54\" class=\"node\">\n",
       "<title>53</title>\n",
       "<path fill=\"#e58139\" fill-opacity=\"0.615686\" stroke=\"#000000\" d=\"M3488,-157C3488,-157 3399,-157 3399,-157 3393,-157 3387,-151 3387,-145 3387,-145 3387,-101 3387,-101 3387,-95 3393,-89 3399,-89 3399,-89 3488,-89 3488,-89 3494,-89 3500,-95 3500,-101 3500,-101 3500,-145 3500,-145 3500,-151 3494,-157 3488,-157\"/>\n",
       "<text text-anchor=\"start\" x=\"3408.5\" y=\"-141.8\" font-family=\"Helvetica,sans-Serif\" font-size=\"14.00\" fill=\"#000000\">t&#45;2 ≤ &#45;0.093</text>\n",
       "<text text-anchor=\"start\" x=\"3405.5\" y=\"-126.8\" font-family=\"Helvetica,sans-Serif\" font-size=\"14.00\" fill=\"#000000\">mse = 0.003</text>\n",
       "<text text-anchor=\"start\" x=\"3395\" y=\"-111.8\" font-family=\"Helvetica,sans-Serif\" font-size=\"14.00\" fill=\"#000000\">samples = 2969</text>\n",
       "<text text-anchor=\"start\" x=\"3402.5\" y=\"-96.8\" font-family=\"Helvetica,sans-Serif\" font-size=\"14.00\" fill=\"#000000\">value = 0.018</text>\n",
       "</g>\n",
       "<!-- 49&#45;&gt;53 -->\n",
       "<g id=\"edge53\" class=\"edge\">\n",
       "<title>49&#45;&gt;53</title>\n",
       "<path fill=\"none\" stroke=\"#000000\" d=\"M3399.7834,-192.9465C3405.2267,-184.2373 3411.1484,-174.7626 3416.825,-165.6801\"/>\n",
       "<polygon fill=\"#000000\" stroke=\"#000000\" points=\"3419.8367,-167.465 3422.1688,-157.13 3413.9007,-163.755 3419.8367,-167.465\"/>\n",
       "</g>\n",
       "<!-- 51 -->\n",
       "<g id=\"node52\" class=\"node\">\n",
       "<title>51</title>\n",
       "<path fill=\"#e58139\" fill-opacity=\"0.666667\" stroke=\"#000000\" d=\"M3227.5,-53C3227.5,-53 3145.5,-53 3145.5,-53 3139.5,-53 3133.5,-47 3133.5,-41 3133.5,-41 3133.5,-12 3133.5,-12 3133.5,-6 3139.5,0 3145.5,0 3145.5,0 3227.5,0 3227.5,0 3233.5,0 3239.5,-6 3239.5,-12 3239.5,-12 3239.5,-41 3239.5,-41 3239.5,-47 3233.5,-53 3227.5,-53\"/>\n",
       "<text text-anchor=\"start\" x=\"3148.5\" y=\"-37.8\" font-family=\"Helvetica,sans-Serif\" font-size=\"14.00\" fill=\"#000000\">mse = 0.002</text>\n",
       "<text text-anchor=\"start\" x=\"3141.5\" y=\"-22.8\" font-family=\"Helvetica,sans-Serif\" font-size=\"14.00\" fill=\"#000000\">samples = 979</text>\n",
       "<text text-anchor=\"start\" x=\"3145.5\" y=\"-7.8\" font-family=\"Helvetica,sans-Serif\" font-size=\"14.00\" fill=\"#000000\">value = 0.021</text>\n",
       "</g>\n",
       "<!-- 50&#45;&gt;51 -->\n",
       "<g id=\"edge51\" class=\"edge\">\n",
       "<title>50&#45;&gt;51</title>\n",
       "<path fill=\"none\" stroke=\"#000000\" d=\"M3268.0771,-88.9777C3255.523,-79.3629 3241.8881,-68.9203 3229.424,-59.3743\"/>\n",
       "<polygon fill=\"#000000\" stroke=\"#000000\" points=\"3231.4927,-56.5502 3221.4255,-53.2485 3227.2365,-62.1076 3231.4927,-56.5502\"/>\n",
       "</g>\n",
       "<!-- 52 -->\n",
       "<g id=\"node53\" class=\"node\">\n",
       "<title>52</title>\n",
       "<path fill=\"#e58139\" fill-opacity=\"0.831373\" stroke=\"#000000\" d=\"M3359,-53C3359,-53 3270,-53 3270,-53 3264,-53 3258,-47 3258,-41 3258,-41 3258,-12 3258,-12 3258,-6 3264,0 3270,0 3270,0 3359,0 3359,0 3365,0 3371,-6 3371,-12 3371,-12 3371,-41 3371,-41 3371,-47 3365,-53 3359,-53\"/>\n",
       "<text text-anchor=\"start\" x=\"3276.5\" y=\"-37.8\" font-family=\"Helvetica,sans-Serif\" font-size=\"14.00\" fill=\"#000000\">mse = 0.002</text>\n",
       "<text text-anchor=\"start\" x=\"3266\" y=\"-22.8\" font-family=\"Helvetica,sans-Serif\" font-size=\"14.00\" fill=\"#000000\">samples = 2061</text>\n",
       "<text text-anchor=\"start\" x=\"3277\" y=\"-7.8\" font-family=\"Helvetica,sans-Serif\" font-size=\"14.00\" fill=\"#000000\">value = 0.03</text>\n",
       "</g>\n",
       "<!-- 50&#45;&gt;52 -->\n",
       "<g id=\"edge52\" class=\"edge\">\n",
       "<title>50&#45;&gt;52</title>\n",
       "<path fill=\"none\" stroke=\"#000000\" d=\"M3313.2051,-88.9777C3313.3759,-80.7364 3313.5593,-71.887 3313.7328,-63.5153\"/>\n",
       "<polygon fill=\"#000000\" stroke=\"#000000\" points=\"3317.2376,-63.3189 3313.9456,-53.2485 3310.2391,-63.1738 3317.2376,-63.3189\"/>\n",
       "</g>\n",
       "<!-- 54 -->\n",
       "<g id=\"node55\" class=\"node\">\n",
       "<title>54</title>\n",
       "<path fill=\"#e58139\" fill-opacity=\"0.090196\" stroke=\"#000000\" d=\"M3480,-53C3480,-53 3401,-53 3401,-53 3395,-53 3389,-47 3389,-41 3389,-41 3389,-12 3389,-12 3389,-6 3395,0 3401,0 3401,0 3480,0 3480,0 3486,0 3492,-6 3492,-12 3492,-12 3492,-41 3492,-41 3492,-47 3486,-53 3480,-53\"/>\n",
       "<text text-anchor=\"start\" x=\"3402.5\" y=\"-37.8\" font-family=\"Helvetica,sans-Serif\" font-size=\"14.00\" fill=\"#000000\">mse = 0.004</text>\n",
       "<text text-anchor=\"start\" x=\"3399.5\" y=\"-22.8\" font-family=\"Helvetica,sans-Serif\" font-size=\"14.00\" fill=\"#000000\">samples = 51</text>\n",
       "<text text-anchor=\"start\" x=\"3397\" y=\"-7.8\" font-family=\"Helvetica,sans-Serif\" font-size=\"14.00\" fill=\"#000000\">value = &#45;0.011</text>\n",
       "</g>\n",
       "<!-- 53&#45;&gt;54 -->\n",
       "<g id=\"edge54\" class=\"edge\">\n",
       "<title>53&#45;&gt;54</title>\n",
       "<path fill=\"none\" stroke=\"#000000\" d=\"M3442.4423,-88.9777C3442.1861,-80.7364 3441.911,-71.887 3441.6507,-63.5153\"/>\n",
       "<polygon fill=\"#000000\" stroke=\"#000000\" points=\"3445.1407,-63.1349 3441.3316,-53.2485 3438.1441,-63.3524 3445.1407,-63.1349\"/>\n",
       "</g>\n",
       "<!-- 55 -->\n",
       "<g id=\"node56\" class=\"node\">\n",
       "<title>55</title>\n",
       "<path fill=\"#e58139\" fill-opacity=\"0.627451\" stroke=\"#000000\" d=\"M3611,-53C3611,-53 3522,-53 3522,-53 3516,-53 3510,-47 3510,-41 3510,-41 3510,-12 3510,-12 3510,-6 3516,0 3522,0 3522,0 3611,0 3611,0 3617,0 3623,-6 3623,-12 3623,-12 3623,-41 3623,-41 3623,-47 3617,-53 3611,-53\"/>\n",
       "<text text-anchor=\"start\" x=\"3528.5\" y=\"-37.8\" font-family=\"Helvetica,sans-Serif\" font-size=\"14.00\" fill=\"#000000\">mse = 0.003</text>\n",
       "<text text-anchor=\"start\" x=\"3518\" y=\"-22.8\" font-family=\"Helvetica,sans-Serif\" font-size=\"14.00\" fill=\"#000000\">samples = 2918</text>\n",
       "<text text-anchor=\"start\" x=\"3525.5\" y=\"-7.8\" font-family=\"Helvetica,sans-Serif\" font-size=\"14.00\" fill=\"#000000\">value = 0.019</text>\n",
       "</g>\n",
       "<!-- 53&#45;&gt;55 -->\n",
       "<g id=\"edge55\" class=\"edge\">\n",
       "<title>53&#45;&gt;55</title>\n",
       "<path fill=\"none\" stroke=\"#000000\" d=\"M3486.8652,-88.9777C3499.0036,-79.4545 3512.1772,-69.1191 3524.2501,-59.6473\"/>\n",
       "<polygon fill=\"#000000\" stroke=\"#000000\" points=\"3526.6989,-62.1748 3532.4061,-53.2485 3522.378,-56.6674 3526.6989,-62.1748\"/>\n",
       "</g>\n",
       "<!-- 57 -->\n",
       "<g id=\"node58\" class=\"node\">\n",
       "<title>57</title>\n",
       "<path fill=\"#e58139\" fill-opacity=\"0.858824\" stroke=\"#000000\" d=\"M3803,-157C3803,-157 3714,-157 3714,-157 3708,-157 3702,-151 3702,-145 3702,-145 3702,-101 3702,-101 3702,-95 3708,-89 3714,-89 3714,-89 3803,-89 3803,-89 3809,-89 3815,-95 3815,-101 3815,-101 3815,-145 3815,-145 3815,-151 3809,-157 3803,-157\"/>\n",
       "<text text-anchor=\"start\" x=\"3727\" y=\"-141.8\" font-family=\"Helvetica,sans-Serif\" font-size=\"14.00\" fill=\"#000000\">t&#45;2 ≤ &#45;0.06</text>\n",
       "<text text-anchor=\"start\" x=\"3720.5\" y=\"-126.8\" font-family=\"Helvetica,sans-Serif\" font-size=\"14.00\" fill=\"#000000\">mse = 0.003</text>\n",
       "<text text-anchor=\"start\" x=\"3710\" y=\"-111.8\" font-family=\"Helvetica,sans-Serif\" font-size=\"14.00\" fill=\"#000000\">samples = 5087</text>\n",
       "<text text-anchor=\"start\" x=\"3717.5\" y=\"-96.8\" font-family=\"Helvetica,sans-Serif\" font-size=\"14.00\" fill=\"#000000\">value = 0.031</text>\n",
       "</g>\n",
       "<!-- 56&#45;&gt;57 -->\n",
       "<g id=\"edge57\" class=\"edge\">\n",
       "<title>56&#45;&gt;57</title>\n",
       "<path fill=\"none\" stroke=\"#000000\" d=\"M3758.5,-192.9465C3758.5,-184.776 3758.5,-175.9318 3758.5,-167.3697\"/>\n",
       "<polygon fill=\"#000000\" stroke=\"#000000\" points=\"3762.0001,-167.13 3758.5,-157.13 3755.0001,-167.13 3762.0001,-167.13\"/>\n",
       "</g>\n",
       "<!-- 60 -->\n",
       "<g id=\"node61\" class=\"node\">\n",
       "<title>60</title>\n",
       "<path fill=\"#e58139\" fill-opacity=\"0.650980\" stroke=\"#000000\" d=\"M3991.5,-157C3991.5,-157 3909.5,-157 3909.5,-157 3903.5,-157 3897.5,-151 3897.5,-145 3897.5,-145 3897.5,-101 3897.5,-101 3897.5,-95 3903.5,-89 3909.5,-89 3909.5,-89 3991.5,-89 3991.5,-89 3997.5,-89 4003.5,-95 4003.5,-101 4003.5,-101 4003.5,-145 4003.5,-145 4003.5,-151 3997.5,-157 3991.5,-157\"/>\n",
       "<text text-anchor=\"start\" x=\"3921.5\" y=\"-141.8\" font-family=\"Helvetica,sans-Serif\" font-size=\"14.00\" fill=\"#000000\">t&#45;1 ≤ 0.09</text>\n",
       "<text text-anchor=\"start\" x=\"3912.5\" y=\"-126.8\" font-family=\"Helvetica,sans-Serif\" font-size=\"14.00\" fill=\"#000000\">mse = 0.003</text>\n",
       "<text text-anchor=\"start\" x=\"3905.5\" y=\"-111.8\" font-family=\"Helvetica,sans-Serif\" font-size=\"14.00\" fill=\"#000000\">samples = 688</text>\n",
       "<text text-anchor=\"start\" x=\"3913\" y=\"-96.8\" font-family=\"Helvetica,sans-Serif\" font-size=\"14.00\" fill=\"#000000\">value = 0.02</text>\n",
       "</g>\n",
       "<!-- 56&#45;&gt;60 -->\n",
       "<g id=\"edge60\" class=\"edge\">\n",
       "<title>56&#45;&gt;60</title>\n",
       "<path fill=\"none\" stroke=\"#000000\" d=\"M3815.0679,-196.3591C3838.1179,-183.8737 3864.8387,-169.3999 3888.4244,-156.6243\"/>\n",
       "<polygon fill=\"#000000\" stroke=\"#000000\" points=\"3890.1702,-159.6592 3897.2962,-151.8187 3886.8362,-153.5041 3890.1702,-159.6592\"/>\n",
       "</g>\n",
       "<!-- 58 -->\n",
       "<g id=\"node59\" class=\"node\">\n",
       "<title>58</title>\n",
       "<path fill=\"#e58139\" fill-opacity=\"0.674510\" stroke=\"#000000\" d=\"M3735.5,-53C3735.5,-53 3653.5,-53 3653.5,-53 3647.5,-53 3641.5,-47 3641.5,-41 3641.5,-41 3641.5,-12 3641.5,-12 3641.5,-6 3647.5,0 3653.5,0 3653.5,0 3735.5,0 3735.5,0 3741.5,0 3747.5,-6 3747.5,-12 3747.5,-12 3747.5,-41 3747.5,-41 3747.5,-47 3741.5,-53 3735.5,-53\"/>\n",
       "<text text-anchor=\"start\" x=\"3656.5\" y=\"-37.8\" font-family=\"Helvetica,sans-Serif\" font-size=\"14.00\" fill=\"#000000\">mse = 0.004</text>\n",
       "<text text-anchor=\"start\" x=\"3649.5\" y=\"-22.8\" font-family=\"Helvetica,sans-Serif\" font-size=\"14.00\" fill=\"#000000\">samples = 370</text>\n",
       "<text text-anchor=\"start\" x=\"3653.5\" y=\"-7.8\" font-family=\"Helvetica,sans-Serif\" font-size=\"14.00\" fill=\"#000000\">value = 0.021</text>\n",
       "</g>\n",
       "<!-- 57&#45;&gt;58 -->\n",
       "<g id=\"edge58\" class=\"edge\">\n",
       "<title>57&#45;&gt;58</title>\n",
       "<path fill=\"none\" stroke=\"#000000\" d=\"M3735.936,-88.9777C3730.1059,-80.187 3723.8169,-70.7044 3717.943,-61.8477\"/>\n",
       "<polygon fill=\"#000000\" stroke=\"#000000\" points=\"3720.6838,-59.6478 3712.2399,-53.2485 3714.8502,-63.5167 3720.6838,-59.6478\"/>\n",
       "</g>\n",
       "<!-- 59 -->\n",
       "<g id=\"node60\" class=\"node\">\n",
       "<title>59</title>\n",
       "<path fill=\"#e58139\" fill-opacity=\"0.874510\" stroke=\"#000000\" d=\"M3867,-53C3867,-53 3778,-53 3778,-53 3772,-53 3766,-47 3766,-41 3766,-41 3766,-12 3766,-12 3766,-6 3772,0 3778,0 3778,0 3867,0 3867,0 3873,0 3879,-6 3879,-12 3879,-12 3879,-41 3879,-41 3879,-47 3873,-53 3867,-53\"/>\n",
       "<text text-anchor=\"start\" x=\"3784.5\" y=\"-37.8\" font-family=\"Helvetica,sans-Serif\" font-size=\"14.00\" fill=\"#000000\">mse = 0.003</text>\n",
       "<text text-anchor=\"start\" x=\"3774\" y=\"-22.8\" font-family=\"Helvetica,sans-Serif\" font-size=\"14.00\" fill=\"#000000\">samples = 4717</text>\n",
       "<text text-anchor=\"start\" x=\"3781.5\" y=\"-7.8\" font-family=\"Helvetica,sans-Serif\" font-size=\"14.00\" fill=\"#000000\">value = 0.032</text>\n",
       "</g>\n",
       "<!-- 57&#45;&gt;59 -->\n",
       "<g id=\"edge59\" class=\"edge\">\n",
       "<title>57&#45;&gt;59</title>\n",
       "<path fill=\"none\" stroke=\"#000000\" d=\"M3781.064,-88.9777C3786.8941,-80.187 3793.1831,-70.7044 3799.057,-61.8477\"/>\n",
       "<polygon fill=\"#000000\" stroke=\"#000000\" points=\"3802.1498,-63.5167 3804.7601,-53.2485 3796.3162,-59.6478 3802.1498,-63.5167\"/>\n",
       "</g>\n",
       "<!-- 61 -->\n",
       "<g id=\"node62\" class=\"node\">\n",
       "<title>61</title>\n",
       "<path fill=\"#e58139\" fill-opacity=\"0.549020\" stroke=\"#000000\" d=\"M3991.5,-53C3991.5,-53 3909.5,-53 3909.5,-53 3903.5,-53 3897.5,-47 3897.5,-41 3897.5,-41 3897.5,-12 3897.5,-12 3897.5,-6 3903.5,0 3909.5,0 3909.5,0 3991.5,0 3991.5,0 3997.5,0 4003.5,-6 4003.5,-12 4003.5,-12 4003.5,-41 4003.5,-41 4003.5,-47 3997.5,-53 3991.5,-53\"/>\n",
       "<text text-anchor=\"start\" x=\"3912.5\" y=\"-37.8\" font-family=\"Helvetica,sans-Serif\" font-size=\"14.00\" fill=\"#000000\">mse = 0.003</text>\n",
       "<text text-anchor=\"start\" x=\"3905.5\" y=\"-22.8\" font-family=\"Helvetica,sans-Serif\" font-size=\"14.00\" fill=\"#000000\">samples = 403</text>\n",
       "<text text-anchor=\"start\" x=\"3909.5\" y=\"-7.8\" font-family=\"Helvetica,sans-Serif\" font-size=\"14.00\" fill=\"#000000\">value = 0.015</text>\n",
       "</g>\n",
       "<!-- 60&#45;&gt;61 -->\n",
       "<g id=\"edge61\" class=\"edge\">\n",
       "<title>60&#45;&gt;61</title>\n",
       "<path fill=\"none\" stroke=\"#000000\" d=\"M3950.5,-88.9777C3950.5,-80.7364 3950.5,-71.887 3950.5,-63.5153\"/>\n",
       "<polygon fill=\"#000000\" stroke=\"#000000\" points=\"3954.0001,-63.2484 3950.5,-53.2485 3947.0001,-63.2485 3954.0001,-63.2484\"/>\n",
       "</g>\n",
       "<!-- 62 -->\n",
       "<g id=\"node63\" class=\"node\">\n",
       "<title>62</title>\n",
       "<path fill=\"#e58139\" fill-opacity=\"0.796078\" stroke=\"#000000\" d=\"M4115.5,-53C4115.5,-53 4033.5,-53 4033.5,-53 4027.5,-53 4021.5,-47 4021.5,-41 4021.5,-41 4021.5,-12 4021.5,-12 4021.5,-6 4027.5,0 4033.5,0 4033.5,0 4115.5,0 4115.5,0 4121.5,0 4127.5,-6 4127.5,-12 4127.5,-12 4127.5,-41 4127.5,-41 4127.5,-47 4121.5,-53 4115.5,-53\"/>\n",
       "<text text-anchor=\"start\" x=\"4036.5\" y=\"-37.8\" font-family=\"Helvetica,sans-Serif\" font-size=\"14.00\" fill=\"#000000\">mse = 0.003</text>\n",
       "<text text-anchor=\"start\" x=\"4029.5\" y=\"-22.8\" font-family=\"Helvetica,sans-Serif\" font-size=\"14.00\" fill=\"#000000\">samples = 285</text>\n",
       "<text text-anchor=\"start\" x=\"4033.5\" y=\"-7.8\" font-family=\"Helvetica,sans-Serif\" font-size=\"14.00\" fill=\"#000000\">value = 0.028</text>\n",
       "</g>\n",
       "<!-- 60&#45;&gt;62 -->\n",
       "<g id=\"edge62\" class=\"edge\">\n",
       "<title>60&#45;&gt;62</title>\n",
       "<path fill=\"none\" stroke=\"#000000\" d=\"M3994.2178,-88.9777C4006.4549,-79.4545 4019.7355,-69.1191 4031.9066,-59.6473\"/>\n",
       "<polygon fill=\"#000000\" stroke=\"#000000\" points=\"4034.3866,-62.1523 4040.1289,-53.2485 4030.0875,-56.628 4034.3866,-62.1523\"/>\n",
       "</g>\n",
       "</g>\n",
       "</svg>\n"
      ],
      "text/plain": [
       "<graphviz.files.Source at 0x7f700f0636d8>"
      ]
     },
     "execution_count": 83,
     "metadata": {},
     "output_type": "execute_result"
    }
   ],
   "source": [
    "dot_data = export_graphviz(regression_tree,\n",
    "                           out_file=None,\n",
    "                           feature_names=X.columns,\n",
    "                           filled=True, rounded=True,\n",
    "                           special_characters=True)\n",
    "graph = graphviz.Source(dot_data)\n",
    "graph"
   ]
  },
  {
   "cell_type": "markdown",
   "metadata": {},
   "source": [
    "#### Evaluate Test Set"
   ]
  },
  {
   "cell_type": "code",
   "execution_count": 84,
   "metadata": {
    "ExecuteTime": {
     "end_time": "2018-09-25T21:05:45.407053Z",
     "start_time": "2018-09-25T21:05:45.396260Z"
    }
   },
   "outputs": [],
   "source": [
    "y_pred = regression_tree.predict(X_test)"
   ]
  },
  {
   "cell_type": "code",
   "execution_count": 85,
   "metadata": {
    "ExecuteTime": {
     "end_time": "2018-09-25T21:06:02.938330Z",
     "start_time": "2018-09-25T21:06:02.929715Z"
    }
   },
   "outputs": [
    {
     "data": {
      "text/plain": [
       "0.05466243298021144"
      ]
     },
     "execution_count": 85,
     "metadata": {},
     "output_type": "execute_result"
    }
   ],
   "source": [
    "np.sqrt(mean_squared_error(y_pred=y_pred, y_true=y_test))"
   ]
  },
  {
   "cell_type": "markdown",
   "metadata": {},
   "source": [
    "### Parameter Tuning"
   ]
  },
  {
   "cell_type": "markdown",
   "metadata": {},
   "source": [
    "Cross-validate key parameters"
   ]
  },
  {
   "cell_type": "code",
   "execution_count": 125,
   "metadata": {
    "ExecuteTime": {
     "end_time": "2018-09-25T22:00:14.526477Z",
     "start_time": "2018-09-25T22:00:14.520962Z"
    }
   },
   "outputs": [],
   "source": [
    "def plot_cv_results(cv_scores, metric='AUC', parameter='Max. Depth'):\n",
    "    fig, ax = plt.subplots(figsize=(12,6))\n",
    "    df = pd.DataFrame(cv_scores)\n",
    "    sns.tsplot(df.values, time=df.columns, ax=ax)\n",
    "    ax.set_title(f'{len(df)}-Fold Cross-Validation Result')\n",
    "    ax.set_xlabel(parameter)\n",
    "    ax.set_ylabel(metric)\n",
    "    ax.axvline(df.mean().idxmin(), ls='--', c='k', lw=1);"
   ]
  },
  {
   "cell_type": "markdown",
   "metadata": {},
   "source": [
    "#### Classifier"
   ]
  },
  {
   "cell_type": "markdown",
   "metadata": {},
   "source": [
    "##### Cross-Validation Score"
   ]
  },
  {
   "cell_type": "code",
   "execution_count": 128,
   "metadata": {
    "ExecuteTime": {
     "end_time": "2018-09-25T22:06:44.765630Z",
     "start_time": "2018-09-25T22:05:04.969354Z"
    }
   },
   "outputs": [],
   "source": [
    "clf_results = {}\n",
    "for max_depth in range(1, 26):\n",
    "    clf_tree = DecisionTreeClassifier(criterion='gini',\n",
    "                                      max_depth=max_depth,\n",
    "                                      min_samples_leaf=5,\n",
    "                                      random_state=42)\n",
    "    clf_results[max_depth] = cross_val_score(clf_tree,\n",
    "                                             X=X,\n",
    "                                             y=y_binary,\n",
    "                                             scoring='roc_auc',\n",
    "                                             n_jobs=-1,\n",
    "                                             cv=10)"
   ]
  },
  {
   "cell_type": "code",
   "execution_count": 129,
   "metadata": {
    "ExecuteTime": {
     "end_time": "2018-09-25T22:06:44.996266Z",
     "start_time": "2018-09-25T22:06:44.767001Z"
    }
   },
   "outputs": [
    {
     "data": {
      "image/png": "[encoded data removed]",
      "text/plain": [
       "<Figure size 864x432 with 1 Axes>"
      ]
     },
     "metadata": {},
     "output_type": "display_data"
    }
   ],
   "source": [
    "plot_cv_results(clf_results)"
   ]
  },
  {
   "cell_type": "markdown",
   "metadata": {},
   "source": [
    "##### Train-Test Result"
   ]
  },
  {
   "cell_type": "code",
   "execution_count": 214,
   "metadata": {
    "ExecuteTime": {
     "end_time": "2018-09-25T23:39:48.855929Z",
     "start_time": "2018-09-25T23:39:48.853704Z"
    }
   },
   "outputs": [],
   "source": [
    "kfold = KFold(n_splits=10, shuffle=True, random_state=42)\n",
    "max_depths = range(1, 26)"
   ]
  },
  {
   "cell_type": "code",
   "execution_count": 306,
   "metadata": {
    "ExecuteTime": {
     "end_time": "2018-09-26T00:26:10.800557Z",
     "start_time": "2018-09-26T00:22:19.124057Z"
    }
   },
   "outputs": [
    {
     "name": "stdout",
     "output_type": "stream",
     "text": [
      "1 2 3 4 5 6 7 8 9 10 11 12 13 14 15 16 17 18 19 20 21 22 23 24 25 "
     ]
    }
   ],
   "source": [
    "train_scores, val_scores = {}, {}\n",
    "for max_depth in max_depths:\n",
    "    print(max_depth, end=' ', flush=True)\n",
    "    clf = DecisionTreeClassifier(criterion='gini', \n",
    "                                 max_depth=max_depth,\n",
    "                                 min_samples_leaf=500,\n",
    "                                 random_state=42)\n",
    "    train_scores[max_depth], val_scores[max_depth] = [], []\n",
    "    for train_idx, test_idx in kfold.split(X):\n",
    "        X_train, y_train,  = X.iloc[train_idx], y_binary.iloc[train_idx]\n",
    "        X_test, y_test = X.iloc[test_idx], y_binary.iloc[test_idx]\n",
    "        clf.fit(X=X_train, y=y_train)\n",
    "\n",
    "        train_pred = clf.predict_proba(X=X_train)[:, 1]\n",
    "        train_score = roc_auc_score(y_score=train_pred, y_true=y_train)\n",
    "        train_scores[max_depth].append(train_score)\n",
    "\n",
    "        test_pred = clf.predict_proba(X=X_test)[:, 1]\n",
    "        val_score = roc_auc_score(y_score=test_pred, y_true=y_test)\n",
    "        val_scores[max_depth].append(val_score)\n",
    "        \n",
    "clf_train_scores = pd.DataFrame(train_scores)\n",
    "clf_valid_scores = pd.DataFrame(val_scores)"
   ]
  },
  {
   "cell_type": "markdown",
   "metadata": {},
   "source": [
    "#### Regression Tree"
   ]
  },
  {
   "cell_type": "markdown",
   "metadata": {},
   "source": [
    "##### Cross-Validation Scores"
   ]
  },
  {
   "cell_type": "code",
   "execution_count": 311,
   "metadata": {
    "ExecuteTime": {
     "end_time": "2018-09-26T00:35:31.032101Z",
     "start_time": "2018-09-26T00:34:16.940156Z"
    }
   },
   "outputs": [
    {
     "data": {
      "image/png": "[encoded data removed]",
      "text/plain": [
       "<Figure size 864x432 with 1 Axes>"
      ]
     },
     "metadata": {},
     "output_type": "display_data"
    }
   ],
   "source": [
    "reg_results = {}\n",
    "for max_depth in range(1, 26):\n",
    "    reg_tree = DecisionTreeRegressor(criterion='mse',\n",
    "                                     max_depth=max_depth,\n",
    "                                     min_samples_leaf=500,\n",
    "                                     random_state=42)\n",
    "    reg_results[max_depth] = np.sqrt(-cross_val_score(reg_tree,\n",
    "                                             X=X,\n",
    "                                             y=y,\n",
    "                                             scoring='neg_mean_squared_error',\n",
    "                                             n_jobs=-1,\n",
    "                                             cv=10))\n",
    "    \n",
    "plot_cv_results(reg_results, metric='RMSE')    "
   ]
  },
  {
   "cell_type": "code",
   "execution_count": 312,
   "metadata": {
    "ExecuteTime": {
     "end_time": "2018-09-26T00:39:16.885873Z",
     "start_time": "2018-09-26T00:35:43.156024Z"
    }
   },
   "outputs": [
    {
     "name": "stdout",
     "output_type": "stream",
     "text": [
      "1 2 3 4 5 6 7 8 9 10 11 12 13 14 15 16 17 18 19 20 21 22 23 24 25 "
     ]
    }
   ],
   "source": [
    "train_scores, val_scores = {}, {}\n",
    "for max_depth in max_depths:\n",
    "    print(max_depth, end=' ', flush=True)\n",
    "    reg_tree = DecisionTreeRegressor(max_depth=max_depth,\n",
    "                                     min_samples_leaf=500,\n",
    "                                     random_state=42)\n",
    "    train_scores[max_depth], val_scores[max_depth] = [], []\n",
    "    for train_idx, test_idx in kfold.split(X):\n",
    "        X_train, y_train,  = X.iloc[train_idx], y.iloc[train_idx]\n",
    "        X_test, y_test = X.iloc[test_idx], y.iloc[test_idx]\n",
    "        reg_tree.fit(X=X_train, y=y_train)\n",
    "\n",
    "        train_pred = reg_tree.predict(X=X_train)\n",
    "        train_score = np.sqrt(mean_squared_error(\n",
    "            y_pred=train_pred, y_true=y_train))\n",
    "        train_scores[max_depth].append(train_score)\n",
    "\n",
    "        test_pred = reg_tree.predict(X=X_test)\n",
    "        val_score = np.sqrt(mean_squared_error(\n",
    "            y_pred=test_pred, y_true=y_test))\n",
    "        val_scores[max_depth].append(val_score)\n",
    "\n",
    "reg_train_scores = pd.DataFrame(train_scores)\n",
    "reg_valid_scores = pd.DataFrame(val_scores)"
   ]
  },
  {
   "cell_type": "markdown",
   "metadata": {},
   "source": [
    "#### Plot Results"
   ]
  },
  {
   "cell_type": "code",
   "execution_count": 314,
   "metadata": {
    "ExecuteTime": {
     "end_time": "2018-09-26T00:40:37.826941Z",
     "start_time": "2018-09-26T00:40:37.249766Z"
    }
   },
   "outputs": [
    {
     "data": {
      "image/png": "[encoded data removed]",
      "text/plain": [
       "<Figure size 864x432 with 2 Axes>"
      ]
     },
     "metadata": {},
     "output_type": "display_data"
    }
   ],
   "source": [
    "fig, axes = plt.subplots(ncols=2, figsize=(12,6))\n",
    "\n",
    "sns.tsplot(data=np.dstack((reg_train_scores, reg_valid_scores)), \n",
    "           time=pd.Series(max_depths, name='Max. Depth'), \n",
    "           condition=['Train', 'Valid'], \n",
    "           ci=95, \n",
    "           ax=axes[0])\n",
    "axes[0].set_title('Regression Tree')\n",
    "axes[0].set_ylabel('RMSE')\n",
    "axes[0].yaxis.set_major_formatter(FuncFormatter(lambda y, _: '{:.2%}'.format(y)))\n",
    "axes[0].axvline(x=clf_valid_scores.mean().idxmax(), ls='--', c='k', lw=1);\n",
    "\n",
    "sns.tsplot(data=np.dstack((clf_train_scores, clf_valid_scores)), \n",
    "           time=pd.Series(max_depths, name='Max. Depth'), \n",
    "           condition=['Train', 'Valid'], \n",
    "           ci=95, \n",
    "           ax=axes[1])\n",
    "axes[1].set_title('Classification Tree')\n",
    "axes[1].set_ylabel('ROC AUC')\n",
    "axes[1].axvline(x=clf_valid_scores.mean().idxmax(), ls='--', c='k', lw=1)\n",
    "\n",
    "fig.suptitle(f'Train-Validation Scores', fontsize=18)\n",
    "fig.tight_layout()\n",
    "fig.subplots_adjust(top=.9);"
   ]
  },
  {
   "cell_type": "markdown",
   "metadata": {},
   "source": [
    "### GridSearch"
   ]
  },
  {
   "cell_type": "markdown",
   "metadata": {},
   "source": [
    "#### Classification Tree"
   ]
  },
  {
   "cell_type": "code",
   "execution_count": 226,
   "metadata": {
    "ExecuteTime": {
     "end_time": "2018-09-25T23:52:39.711949Z",
     "start_time": "2018-09-25T23:52:39.701828Z"
    }
   },
   "outputs": [],
   "source": [
    "clf = DecisionTreeClassifier(random_state=42)\n",
    "param_grid = {'max_depth': range(10, 20),\n",
    "              'min_samples_leaf': [250, 500, 750],\n",
    "              'max_features': [None, .8, 'auto']\n",
    "              }"
   ]
  },
  {
   "cell_type": "code",
   "execution_count": 227,
   "metadata": {
    "ExecuteTime": {
     "end_time": "2018-09-25T23:52:42.575119Z",
     "start_time": "2018-09-25T23:52:42.572649Z"
    }
   },
   "outputs": [],
   "source": [
    "gridsearch_clf = GridSearchCV(estimator=clf,\n",
    "                          param_grid=param_grid,\n",
    "                          scoring='roc_auc',\n",
    "                          n_jobs=-1,\n",
    "                          cv=5,\n",
    "                          refit=True,\n",
    "                          return_train_score=True)"
   ]
  },
  {
   "cell_type": "code",
   "execution_count": 228,
   "metadata": {
    "ExecuteTime": {
     "end_time": "2018-09-25T23:53:26.141629Z",
     "start_time": "2018-09-25T23:52:42.751128Z"
    }
   },
   "outputs": [
    {
     "data": {
      "text/plain": [
       "GridSearchCV(cv=5, error_score='raise',\n",
       "       estimator=DecisionTreeClassifier(class_weight=None, criterion='gini', max_depth=None,\n",
       "            max_features=None, max_leaf_nodes=None,\n",
       "            min_impurity_decrease=0.0, min_impurity_split=None,\n",
       "            min_samples_leaf=1, min_samples_split=2,\n",
       "            min_weight_fraction_leaf=0.0, presort=False, random_state=42,\n",
       "            splitter='best'),\n",
       "       fit_params=None, iid=True, n_jobs=-1,\n",
       "       param_grid={'max_depth': range(15, 20), 'min_samples_leaf': [250, 500, 1000], 'max_features': [None, 0.8, 'auto']},\n",
       "       pre_dispatch='2*n_jobs', refit=True, return_train_score=True,\n",
       "       scoring='roc_auc', verbose=0)"
      ]
     },
     "execution_count": 228,
     "metadata": {},
     "output_type": "execute_result"
    }
   ],
   "source": [
    "gridsearch_clf.fit(X=X, y=y_binary)"
   ]
  },
  {
   "cell_type": "code",
   "execution_count": 229,
   "metadata": {
    "ExecuteTime": {
     "end_time": "2018-09-25T23:53:26.146903Z",
     "start_time": "2018-09-25T23:53:26.143496Z"
    }
   },
   "outputs": [
    {
     "data": {
      "text/plain": [
       "{'max_depth': 16, 'max_features': None, 'min_samples_leaf': 500}"
      ]
     },
     "execution_count": 229,
     "metadata": {},
     "output_type": "execute_result"
    }
   ],
   "source": [
    "gridsearch_clf.best_params_"
   ]
  },
  {
   "cell_type": "code",
   "execution_count": 230,
   "metadata": {
    "ExecuteTime": {
     "end_time": "2018-09-25T23:53:26.159717Z",
     "start_time": "2018-09-25T23:53:26.148192Z"
    }
   },
   "outputs": [
    {
     "data": {
      "text/plain": [
       "0.6114461863571352"
      ]
     },
     "execution_count": 230,
     "metadata": {},
     "output_type": "execute_result"
    }
   ],
   "source": [
    "gridsearch_clf.best_score_"
   ]
  },
  {
   "cell_type": "markdown",
   "metadata": {},
   "source": [
    "#### Regression Tree"
   ]
  },
  {
   "cell_type": "code",
   "execution_count": 232,
   "metadata": {
    "ExecuteTime": {
     "end_time": "2018-09-25T23:56:40.873422Z",
     "start_time": "2018-09-25T23:56:40.868474Z"
    }
   },
   "outputs": [],
   "source": [
    "reg_tree = DecisionTreeRegressor(random_state=42)\n",
    "\n",
    "param_grid = {'max_depth': range(5, 20),\n",
    "              'min_samples_leaf': [250, 500, 750],\n",
    "              'max_features': [None, .8, 'auto', 'sqrt']\n",
    "              }"
   ]
  },
  {
   "cell_type": "code",
   "execution_count": 233,
   "metadata": {
    "ExecuteTime": {
     "end_time": "2018-09-25T23:56:41.199114Z",
     "start_time": "2018-09-25T23:56:41.194116Z"
    }
   },
   "outputs": [],
   "source": [
    "gridsearch_reg = GridSearchCV(estimator=reg_tree,\n",
    "                              param_grid=param_grid,\n",
    "                              scoring='neg_mean_squared_error',\n",
    "                              n_jobs=-1,\n",
    "                              cv=5,\n",
    "                              refit=True,\n",
    "                              return_train_score=True)"
   ]
  },
  {
   "cell_type": "code",
   "execution_count": 234,
   "metadata": {
    "ExecuteTime": {
     "end_time": "2018-09-25T23:59:21.578118Z",
     "start_time": "2018-09-25T23:56:42.208208Z"
    }
   },
   "outputs": [
    {
     "data": {
      "text/plain": [
       "GridSearchCV(cv=5, error_score='raise',\n",
       "       estimator=DecisionTreeRegressor(criterion='mse', max_depth=None, max_features=None,\n",
       "           max_leaf_nodes=None, min_impurity_decrease=0.0,\n",
       "           min_impurity_split=None, min_samples_leaf=1,\n",
       "           min_samples_split=2, min_weight_fraction_leaf=0.0,\n",
       "           presort=False, random_state=42, splitter='best'),\n",
       "       fit_params=None, iid=True, n_jobs=-1,\n",
       "       param_grid={'max_depth': range(5, 20), 'min_samples_leaf': [250, 500, 750], 'max_features': [None, 0.8, 'auto', 'sqrt']},\n",
       "       pre_dispatch='2*n_jobs', refit=True, return_train_score=True,\n",
       "       scoring='neg_mean_squared_error', verbose=0)"
      ]
     },
     "execution_count": 234,
     "metadata": {},
     "output_type": "execute_result"
    }
   ],
   "source": [
    "gridsearch_reg.fit(X=X, y=y)"
   ]
  },
  {
   "cell_type": "code",
   "execution_count": 235,
   "metadata": {
    "ExecuteTime": {
     "end_time": "2018-09-25T23:59:21.582187Z",
     "start_time": "2018-09-25T23:59:21.579466Z"
    }
   },
   "outputs": [
    {
     "data": {
      "text/plain": [
       "{'max_depth': 10, 'max_features': None, 'min_samples_leaf': 500}"
      ]
     },
     "execution_count": 235,
     "metadata": {},
     "output_type": "execute_result"
    }
   ],
   "source": [
    "gridsearch_reg.best_params_"
   ]
  },
  {
   "cell_type": "code",
   "execution_count": 236,
   "metadata": {
    "ExecuteTime": {
     "end_time": "2018-09-25T23:59:57.220415Z",
     "start_time": "2018-09-25T23:59:57.217554Z"
    }
   },
   "outputs": [
    {
     "data": {
      "text/plain": [
       "-0.002968526952511161"
      ]
     },
     "execution_count": 236,
     "metadata": {},
     "output_type": "execute_result"
    }
   ],
   "source": [
    "gridsearch_reg.best_score_"
   ]
  },
  {
   "cell_type": "markdown",
   "metadata": {},
   "source": [
    "### Learning Curves"
   ]
  },
  {
   "cell_type": "markdown",
   "metadata": {},
   "source": [
    "#### Classifier"
   ]
  },
  {
   "cell_type": "code",
   "execution_count": null,
   "metadata": {},
   "outputs": [],
   "source": [
    "sizes = np.arange(.1, 1.01, .1)"
   ]
  },
  {
   "cell_type": "code",
   "execution_count": 238,
   "metadata": {
    "ExecuteTime": {
     "end_time": "2018-09-26T00:00:19.514583Z",
     "start_time": "2018-09-26T00:00:11.026974Z"
    }
   },
   "outputs": [],
   "source": [
    "train_sizes, train_scores, valid_scores = learning_curve(gridsearch_clf.best_estimator_,\n",
    "                                                          X,\n",
    "                                                          y_binary,\n",
    "                                                          train_sizes=sizes,\n",
    "                                                          cv=5,\n",
    "                                                          scoring='roc_auc',\n",
    "                                                          n_jobs=-1,\n",
    "                                                          shuffle=True,\n",
    "                                                          random_state=42)\n",
    "clf_data = np.dstack((train_scores.T, valid_scores.T))"
   ]
  },
  {
   "cell_type": "markdown",
   "metadata": {},
   "source": [
    "#### Regression Tree"
   ]
  },
  {
   "cell_type": "code",
   "execution_count": 239,
   "metadata": {
    "ExecuteTime": {
     "end_time": "2018-09-26T00:00:27.059062Z",
     "start_time": "2018-09-26T00:00:19.515856Z"
    }
   },
   "outputs": [],
   "source": [
    "train_sizes, train_scores, valid_scores = learning_curve(gridsearch_reg.best_estimator_,\n",
    "                                                          X, y,\n",
    "                                                          train_sizes=sizes,\n",
    "                                                          cv=5,\n",
    "                                                          scoring='neg_mean_squared_error',\n",
    "                                                          n_jobs=-1,\n",
    "                                                          shuffle=True,\n",
    "                                                          random_state=42)\n",
    "reg_data = np.dstack((train_scores.T, valid_scores.T))"
   ]
  },
  {
   "cell_type": "markdown",
   "metadata": {},
   "source": [
    "#### Plot Result"
   ]
  },
  {
   "cell_type": "code",
   "execution_count": 240,
   "metadata": {
    "ExecuteTime": {
     "end_time": "2018-09-26T00:01:55.139073Z",
     "start_time": "2018-09-26T00:01:55.136998Z"
    }
   },
   "outputs": [],
   "source": [
    "time = pd.Series(train_sizes, name='Train Size')"
   ]
  },
  {
   "cell_type": "code",
   "execution_count": 260,
   "metadata": {
    "ExecuteTime": {
     "end_time": "2018-09-26T00:08:14.706057Z",
     "start_time": "2018-09-26T00:08:14.199323Z"
    }
   },
   "outputs": [
    {
     "data": {
      "image/png": "[encoded data removed]",
      "text/plain": [
       "<Figure size 1008x360 with 2 Axes>"
      ]
     },
     "metadata": {},
     "output_type": "display_data"
    }
   ],
   "source": [
    "fig, axes = plt.subplots(ncols=2, figsize=(14,5))\n",
    "sns.tsplot(data=clf_data, \n",
    "           time=time, \n",
    "           condition=['Train', 'Valid'], \n",
    "           ci=95, \n",
    "           ax=axes[0])\n",
    "axes[0].set_title('Best Classification Tree')\n",
    "axes[0].set_ylabel('ROC AUC')\n",
    "axes[0].xaxis.set_major_formatter(FuncFormatter(lambda x, _: '{:,.0f}'.format(x)))\n",
    "\n",
    "sns.tsplot(data=np.sqrt(-reg_data), \n",
    "           time=time, \n",
    "           condition=['Train', 'Valid'], \n",
    "           ci=95, \n",
    "           ax=axes[1])\n",
    "axes[1].set_title('Best Regression Tree')\n",
    "axes[1].set_ylabel('RMSE')\n",
    "axes[1].yaxis.set_major_formatter(FuncFormatter(lambda y, _: '{:.2%}'.format(y)))\n",
    "axes[1].xaxis.set_major_formatter(FuncFormatter(lambda x, _: '{:,.0f}'.format(x)))\n",
    "fig.suptitle('Learning Curves', fontsize=20)\n",
    "fig.tight_layout()\n",
    "fig.subplots_adjust(top=.9);"
   ]
  },
  {
   "cell_type": "markdown",
   "metadata": {},
   "source": [
    "### Feature Importance"
   ]
  },
  {
   "cell_type": "code",
   "execution_count": 304,
   "metadata": {
    "ExecuteTime": {
     "end_time": "2018-09-26T00:20:56.385635Z",
     "start_time": "2018-09-26T00:20:56.375854Z"
    }
   },
   "outputs": [],
   "source": [
    "top_n = 15\n",
    "labels = X.columns.str.replace('_', ' ').str.capitalize()\n",
    "fi_clf = (pd.Series(gridsearch_clf.best_estimator_.feature_importances_, \n",
    "                    index=labels).sort_values(ascending=False).iloc[:top_n])\n",
    "fi_reg = (pd.Series(gridsearch_reg.best_estimator_.feature_importances_, \n",
    "                    index=labels).sort_values(ascending=False).iloc[:top_n])"
   ]
  },
  {
   "cell_type": "code",
   "execution_count": 305,
   "metadata": {
    "ExecuteTime": {
     "end_time": "2018-09-26T00:20:56.820268Z",
     "start_time": "2018-09-26T00:20:56.527339Z"
    }
   },
   "outputs": [
    {
     "data": {
      "image/png": "[encoded data removed]",
      "text/plain": [
       "<Figure size 864x432 with 2 Axes>"
      ]
     },
     "metadata": {},
     "output_type": "display_data"
    }
   ],
   "source": [
    "fig, axes= plt.subplots(ncols=2, figsize=(12,6))\n",
    "color = cm.Blues(np.linspace(.4,.9, top_n))\n",
    "fi_clf.sort_values().plot.barh(ax=axes[0], title='Classification Tree', color=color)\n",
    "fi_reg.sort_values().plot.barh(ax=axes[1], title='Regression Tree', color=color)\n",
    "fig.suptitle(f'Top {top_n} Feature Importances', fontsize=18)\n",
    "fig.tight_layout()\n",
    "fig.subplots_adjust(top=.9);"
   ]
  }
 ],
 "metadata": {
  "kernelspec": {
   "display_name": "Python 3",
   "language": "python",
   "name": "python3"
  },
  "language_info": {
   "codemirror_mode": {
    "name": "ipython",
    "version": 3
   },
   "file_extension": ".py",
   "mimetype": "text/x-python",
   "name": "python",
   "nbconvert_exporter": "python",
   "pygments_lexer": "ipython3",
   "version": "3.6.4"
  },
  "toc": {
   "base_numbering": 1,
   "nav_menu": {},
   "number_sections": true,
   "sideBar": true,
   "skip_h1_title": false,
   "title_cell": "Table of Contents",
   "title_sidebar": "Contents",
   "toc_cell": false,
   "toc_position": {},
   "toc_section_display": true,
   "toc_window_display": true
  }
 },
 "nbformat": 4,
 "nbformat_minor": 2
}
