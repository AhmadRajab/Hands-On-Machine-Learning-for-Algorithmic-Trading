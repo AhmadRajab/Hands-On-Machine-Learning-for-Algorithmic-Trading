{
 "cells": [
  {
   "cell_type": "code",
   "execution_count": 1,
   "metadata": {
    "ExecuteTime": {
     "end_time": "2018-06-14T18:58:32.064209Z",
     "start_time": "2018-06-14T18:58:31.580531Z"
    }
   },
   "outputs": [],
   "source": [
    "%load_ext zipline"
   ]
  },
  {
   "cell_type": "code",
   "execution_count": 2,
   "metadata": {
    "ExecuteTime": {
     "end_time": "2018-06-14T18:58:32.508385Z",
     "start_time": "2018-06-14T18:58:32.504029Z"
    }
   },
   "outputs": [],
   "source": [
    "import zipline\n",
    "from zipline.data import data_portal\n",
    "from pprint import pprint\n",
    "import sqlite3"
   ]
  },
  {
   "cell_type": "code",
   "execution_count": 3,
   "metadata": {
    "ExecuteTime": {
     "end_time": "2018-06-14T18:58:33.360387Z",
     "start_time": "2018-06-14T18:58:33.107015Z"
    }
   },
   "outputs": [],
   "source": [
    "data = zipline.data.bundles.load('quantopian-quandl')"
   ]
  },
  {
   "cell_type": "code",
   "execution_count": 4,
   "metadata": {
    "ExecuteTime": {
     "end_time": "2018-06-14T18:58:34.251436Z",
     "start_time": "2018-06-14T18:58:34.210513Z"
    }
   },
   "outputs": [
    {
     "data": {
      "text/plain": [
       "DatetimeIndex(['1990-01-02', '1990-01-03', '1990-01-04', '1990-01-05',\n",
       "               '1990-01-08', '1990-01-09', '1990-01-10', '1990-01-11',\n",
       "               '1990-01-12', '1990-01-15',\n",
       "               ...\n",
       "               '2019-04-29', '2019-04-30', '2019-05-01', '2019-05-02',\n",
       "               '2019-05-03', '2019-05-06', '2019-05-07', '2019-05-08',\n",
       "               '2019-05-09', '2019-05-10'],\n",
       "              dtype='datetime64[ns, UTC]', length=7398, freq='C')"
      ]
     },
     "execution_count": 4,
     "metadata": {},
     "output_type": "execute_result"
    }
   ],
   "source": [
    "data.equity_daily_bar_reader.sessions"
   ]
  },
  {
   "cell_type": "code",
   "execution_count": 5,
   "metadata": {
    "ExecuteTime": {
     "end_time": "2018-06-14T18:58:35.999135Z",
     "start_time": "2018-06-14T18:58:35.997500Z"
    }
   },
   "outputs": [],
   "source": [
    "table = data.asset_finder.equities"
   ]
  },
  {
   "cell_type": "code",
   "execution_count": 6,
   "metadata": {
    "ExecuteTime": {
     "end_time": "2018-06-14T18:58:36.389212Z",
     "start_time": "2018-06-14T18:58:36.382248Z"
    }
   },
   "outputs": [
    {
     "data": {
      "text/plain": [
       "Engine(sqlite:////home/stefan/.zipline/data/quantopian-quandl/2018-05-10T14;43;26.303687/assets-6.sqlite)"
      ]
     },
     "execution_count": 6,
     "metadata": {},
     "output_type": "execute_result"
    }
   ],
   "source": [
    "table.metadata.bind\n",
    "# assets = table.metadata.tables['asset_router']\n",
    "# assets.metadata.bind"
   ]
  },
  {
   "cell_type": "code",
   "execution_count": 7,
   "metadata": {
    "ExecuteTime": {
     "end_time": "2018-06-14T18:58:38.151732Z",
     "start_time": "2018-06-14T18:58:38.148392Z"
    },
    "scrolled": true
   },
   "outputs": [
    {
     "data": {
      "text/plain": [
       "Engine(sqlite:////home/stefan/.zipline/data/quantopian-quandl/2018-05-10T14;43;26.303687/assets-6.sqlite)"
      ]
     },
     "execution_count": 7,
     "metadata": {},
     "output_type": "execute_result"
    }
   ],
   "source": [
    "assets = table.metadata.tables['asset_router']\n",
    "assets.metadata.bind"
   ]
  },
  {
   "cell_type": "code",
   "execution_count": 9,
   "metadata": {
    "ExecuteTime": {
     "end_time": "2018-06-14T18:58:46.823064Z",
     "start_time": "2018-06-14T18:58:46.772560Z"
    }
   },
   "outputs": [
    {
     "data": {
      "text/html": [
       "<div>\n",
       "<table border=\"1\" class=\"dataframe\">\n",
       "  <thead>\n",
       "    <tr style=\"text-align: right;\">\n",
       "      <th></th>\n",
       "      <th>sid</th>\n",
       "      <th>asset_name</th>\n",
       "      <th>start_date</th>\n",
       "      <th>end_date</th>\n",
       "      <th>first_traded</th>\n",
       "      <th>auto_close_date</th>\n",
       "      <th>exchange</th>\n",
       "      <th>exchange_full</th>\n",
       "    </tr>\n",
       "  </thead>\n",
       "  <tbody>\n",
       "    <tr>\n",
       "      <th>0</th>\n",
       "      <td>0</td>\n",
       "      <td>None</td>\n",
       "      <td>942883200000000000</td>\n",
       "      <td>1522108800000000000</td>\n",
       "      <td>-9223372036854775808</td>\n",
       "      <td>1522195200000000000</td>\n",
       "      <td>QUANDL</td>\n",
       "      <td>None</td>\n",
       "    </tr>\n",
       "    <tr>\n",
       "      <th>1</th>\n",
       "      <td>1</td>\n",
       "      <td>None</td>\n",
       "      <td>1477958400000000000</td>\n",
       "      <td>1522108800000000000</td>\n",
       "      <td>-9223372036854775808</td>\n",
       "      <td>1522195200000000000</td>\n",
       "      <td>QUANDL</td>\n",
       "      <td>None</td>\n",
       "    </tr>\n",
       "    <tr>\n",
       "      <th>2</th>\n",
       "      <td>2</td>\n",
       "      <td>None</td>\n",
       "      <td>1127779200000000000</td>\n",
       "      <td>1522108800000000000</td>\n",
       "      <td>-9223372036854775808</td>\n",
       "      <td>1522195200000000000</td>\n",
       "      <td>QUANDL</td>\n",
       "      <td>None</td>\n",
       "    </tr>\n",
       "    <tr>\n",
       "      <th>3</th>\n",
       "      <td>3</td>\n",
       "      <td>None</td>\n",
       "      <td>1355356800000000000</td>\n",
       "      <td>1522108800000000000</td>\n",
       "      <td>-9223372036854775808</td>\n",
       "      <td>1522195200000000000</td>\n",
       "      <td>QUANDL</td>\n",
       "      <td>None</td>\n",
       "    </tr>\n",
       "    <tr>\n",
       "      <th>4</th>\n",
       "      <td>4</td>\n",
       "      <td>None</td>\n",
       "      <td>463363200000000000</td>\n",
       "      <td>1522108800000000000</td>\n",
       "      <td>-9223372036854775808</td>\n",
       "      <td>1522195200000000000</td>\n",
       "      <td>QUANDL</td>\n",
       "      <td>None</td>\n",
       "    </tr>\n",
       "  </tbody>\n",
       "</table>\n",
       "</div>"
      ],
      "text/plain": [
       "   sid asset_name           start_date             end_date  \\\n",
       "0    0       None   942883200000000000  1522108800000000000   \n",
       "1    1       None  1477958400000000000  1522108800000000000   \n",
       "2    2       None  1127779200000000000  1522108800000000000   \n",
       "3    3       None  1355356800000000000  1522108800000000000   \n",
       "4    4       None   463363200000000000  1522108800000000000   \n",
       "\n",
       "          first_traded      auto_close_date exchange exchange_full  \n",
       "0 -9223372036854775808  1522195200000000000   QUANDL          None  \n",
       "1 -9223372036854775808  1522195200000000000   QUANDL          None  \n",
       "2 -9223372036854775808  1522195200000000000   QUANDL          None  \n",
       "3 -9223372036854775808  1522195200000000000   QUANDL          None  \n",
       "4 -9223372036854775808  1522195200000000000   QUANDL          None  "
      ]
     },
     "execution_count": 9,
     "metadata": {},
     "output_type": "execute_result"
    }
   ],
   "source": [
    "pd.read_sql('equities', con=assets.metadata.bind).head()"
   ]
  },
  {
   "cell_type": "code",
   "execution_count": 10,
   "metadata": {
    "ExecuteTime": {
     "end_time": "2018-06-14T18:58:48.140322Z",
     "start_time": "2018-06-14T18:58:48.103155Z"
    }
   },
   "outputs": [],
   "source": [
    "con = sqlite3.connect(\"/home/stefan/.zipline/data/quandl/2018-05-10T14;38;20.063950/assets-6.sqlite\")\n",
    "df = pd.read_sql(\"SELECT * from equities\", con)"
   ]
  },
  {
   "cell_type": "code",
   "execution_count": 11,
   "metadata": {
    "ExecuteTime": {
     "end_time": "2018-06-14T18:58:48.555706Z",
     "start_time": "2018-06-14T18:58:48.540177Z"
    }
   },
   "outputs": [
    {
     "name": "stdout",
     "output_type": "stream",
     "text": [
      "<class 'pandas.core.frame.DataFrame'>\n",
      "RangeIndex: 3199 entries, 0 to 3198\n",
      "Data columns (total 8 columns):\n",
      "sid                3199 non-null int64\n",
      "asset_name         0 non-null object\n",
      "start_date         3199 non-null int64\n",
      "end_date           3199 non-null int64\n",
      "first_traded       3199 non-null int64\n",
      "auto_close_date    3199 non-null int64\n",
      "exchange           3199 non-null object\n",
      "exchange_full      0 non-null object\n",
      "dtypes: int64(5), object(3)\n",
      "memory usage: 200.0+ KB\n"
     ]
    }
   ],
   "source": [
    "df.info()"
   ]
  },
  {
   "cell_type": "code",
   "execution_count": 12,
   "metadata": {
    "ExecuteTime": {
     "end_time": "2018-06-14T18:58:51.701545Z",
     "start_time": "2018-06-14T18:58:51.674533Z"
    }
   },
   "outputs": [
    {
     "data": {
      "text/html": [
       "<div>\n",
       "<table border=\"1\" class=\"dataframe\">\n",
       "  <thead>\n",
       "    <tr style=\"text-align: right;\">\n",
       "      <th></th>\n",
       "      <th>sid</th>\n",
       "      <th>asset_name</th>\n",
       "      <th>start_date</th>\n",
       "      <th>end_date</th>\n",
       "      <th>first_traded</th>\n",
       "      <th>auto_close_date</th>\n",
       "      <th>exchange</th>\n",
       "      <th>exchange_full</th>\n",
       "    </tr>\n",
       "  </thead>\n",
       "  <tbody>\n",
       "    <tr>\n",
       "      <th>0</th>\n",
       "      <td>0</td>\n",
       "      <td>None</td>\n",
       "      <td>942883200000000000</td>\n",
       "      <td>1522108800000000000</td>\n",
       "      <td>-9223372036854775808</td>\n",
       "      <td>1522195200000000000</td>\n",
       "      <td>QUANDL</td>\n",
       "      <td>None</td>\n",
       "    </tr>\n",
       "    <tr>\n",
       "      <th>1</th>\n",
       "      <td>1</td>\n",
       "      <td>None</td>\n",
       "      <td>1477958400000000000</td>\n",
       "      <td>1522108800000000000</td>\n",
       "      <td>-9223372036854775808</td>\n",
       "      <td>1522195200000000000</td>\n",
       "      <td>QUANDL</td>\n",
       "      <td>None</td>\n",
       "    </tr>\n",
       "    <tr>\n",
       "      <th>2</th>\n",
       "      <td>2</td>\n",
       "      <td>None</td>\n",
       "      <td>1127779200000000000</td>\n",
       "      <td>1522108800000000000</td>\n",
       "      <td>-9223372036854775808</td>\n",
       "      <td>1522195200000000000</td>\n",
       "      <td>QUANDL</td>\n",
       "      <td>None</td>\n",
       "    </tr>\n",
       "    <tr>\n",
       "      <th>3</th>\n",
       "      <td>3</td>\n",
       "      <td>None</td>\n",
       "      <td>1355356800000000000</td>\n",
       "      <td>1522108800000000000</td>\n",
       "      <td>-9223372036854775808</td>\n",
       "      <td>1522195200000000000</td>\n",
       "      <td>QUANDL</td>\n",
       "      <td>None</td>\n",
       "    </tr>\n",
       "    <tr>\n",
       "      <th>4</th>\n",
       "      <td>4</td>\n",
       "      <td>None</td>\n",
       "      <td>463363200000000000</td>\n",
       "      <td>1522108800000000000</td>\n",
       "      <td>-9223372036854775808</td>\n",
       "      <td>1522195200000000000</td>\n",
       "      <td>QUANDL</td>\n",
       "      <td>None</td>\n",
       "    </tr>\n",
       "  </tbody>\n",
       "</table>\n",
       "</div>"
      ],
      "text/plain": [
       "   sid asset_name           start_date             end_date  \\\n",
       "0    0       None   942883200000000000  1522108800000000000   \n",
       "1    1       None  1477958400000000000  1522108800000000000   \n",
       "2    2       None  1127779200000000000  1522108800000000000   \n",
       "3    3       None  1355356800000000000  1522108800000000000   \n",
       "4    4       None   463363200000000000  1522108800000000000   \n",
       "\n",
       "          first_traded      auto_close_date exchange exchange_full  \n",
       "0 -9223372036854775808  1522195200000000000   QUANDL          None  \n",
       "1 -9223372036854775808  1522195200000000000   QUANDL          None  \n",
       "2 -9223372036854775808  1522195200000000000   QUANDL          None  \n",
       "3 -9223372036854775808  1522195200000000000   QUANDL          None  \n",
       "4 -9223372036854775808  1522195200000000000   QUANDL          None  "
      ]
     },
     "execution_count": 12,
     "metadata": {},
     "output_type": "execute_result"
    }
   ],
   "source": [
    "df.head()"
   ]
  },
  {
   "cell_type": "code",
   "execution_count": 13,
   "metadata": {
    "ExecuteTime": {
     "end_time": "2018-06-14T18:58:53.728039Z",
     "start_time": "2018-06-14T18:58:53.713422Z"
    }
   },
   "outputs": [
    {
     "name": "stdout",
     "output_type": "stream",
     "text": [
      "['add_is_dependent_on',\n",
      " 'alias',\n",
      " 'append_column',\n",
      " 'append_constraint',\n",
      " 'append_ddl_listener',\n",
      " 'argument_for',\n",
      " 'bind',\n",
      " 'c',\n",
      " 'columns',\n",
      " 'comment',\n",
      " 'compare',\n",
      " 'compile',\n",
      " 'constraints',\n",
      " 'correspond_on_equivalents',\n",
      " 'corresponding_column',\n",
      " 'count',\n",
      " 'create',\n",
      " 'delete',\n",
      " 'description',\n",
      " 'dialect_kwargs',\n",
      " 'dialect_options',\n",
      " 'dispatch',\n",
      " 'drop',\n",
      " 'exists',\n",
      " 'foreign_key_constraints',\n",
      " 'foreign_keys',\n",
      " 'fullname',\n",
      " 'get_children',\n",
      " 'implicit_returning',\n",
      " 'indexes',\n",
      " 'info',\n",
      " 'insert',\n",
      " 'is_clause_element',\n",
      " 'is_derived_from',\n",
      " 'is_selectable',\n",
      " 'join',\n",
      " 'key',\n",
      " 'kwargs',\n",
      " 'lateral',\n",
      " 'metadata',\n",
      " 'name',\n",
      " 'named_with_column',\n",
      " 'outerjoin',\n",
      " 'params',\n",
      " 'primary_key',\n",
      " 'quote',\n",
      " 'quote_schema',\n",
      " 'replace_selectable',\n",
      " 'schema',\n",
      " 'select',\n",
      " 'selectable',\n",
      " 'self_group',\n",
      " 'supports_execution',\n",
      " 'tablesample',\n",
      " 'tometadata',\n",
      " 'unique_params',\n",
      " 'update']\n"
     ]
    }
   ],
   "source": [
    "pprint([t for t in dir(table) if not t.startswith('_')])"
   ]
  },
  {
   "cell_type": "code",
   "execution_count": 14,
   "metadata": {
    "ExecuteTime": {
     "end_time": "2018-06-14T18:58:57.166799Z",
     "start_time": "2018-06-14T18:58:57.152622Z"
    }
   },
   "outputs": [
    {
     "data": {
      "text/plain": [
       "<sqlalchemy.sql.base.ImmutableColumnCollection at 0x7fd4ee4fd990>"
      ]
     },
     "execution_count": 14,
     "metadata": {},
     "output_type": "execute_result"
    }
   ],
   "source": [
    "table.columns"
   ]
  },
  {
   "cell_type": "code",
   "execution_count": 15,
   "metadata": {
    "ExecuteTime": {
     "end_time": "2018-06-14T18:58:57.888312Z",
     "start_time": "2018-06-14T18:58:57.744772Z"
    }
   },
   "outputs": [
    {
     "ename": "TypeError",
     "evalue": "__init__() missing 3 required positional arguments: 'asset_finder', 'trading_calendar', and 'first_trading_day'",
     "output_type": "error",
     "traceback": [
      "\u001b[0;31m---------------------------------------------------------------------------\u001b[0m",
      "\u001b[0;31mTypeError\u001b[0m                                 Traceback (most recent call last)",
      "\u001b[0;32m<ipython-input-15-6cb171e10a1b>\u001b[0m in \u001b[0;36m<module>\u001b[0;34m()\u001b[0m\n\u001b[0;32m----> 1\u001b[0;31m \u001b[0mdata_portal\u001b[0m\u001b[0;34m.\u001b[0m\u001b[0mDataPortal\u001b[0m\u001b[0;34m(\u001b[0m\u001b[0;34m)\u001b[0m\u001b[0;34m\u001b[0m\u001b[0m\n\u001b[0m",
      "\u001b[0;31mTypeError\u001b[0m: __init__() missing 3 required positional arguments: 'asset_finder', 'trading_calendar', and 'first_trading_day'"
     ]
    }
   ],
   "source": [
    "data_portal.DataPortal()"
   ]
  },
  {
   "cell_type": "code",
   "execution_count": 16,
   "metadata": {
    "ExecuteTime": {
     "end_time": "2018-06-14T18:59:04.254331Z",
     "start_time": "2018-06-14T18:59:03.013850Z"
    }
   },
   "outputs": [
    {
     "name": "stdout",
     "output_type": "stream",
     "text": [
      "csvdir <no ingestions>\r\n",
      "quandl 2018-05-10 14:38:20.063950\r\n",
      "quantopian-quandl 2018-05-10 14:43:26.303687\r\n"
     ]
    }
   ],
   "source": [
    "!zipline bundles"
   ]
  },
  {
   "cell_type": "code",
   "execution_count": null,
   "metadata": {},
   "outputs": [],
   "source": []
  }
 ],
 "metadata": {
  "kernelspec": {
   "display_name": "Python 3",
   "language": "python",
   "name": "python3"
  },
  "language_info": {
   "codemirror_mode": {
    "name": "ipython",
    "version": 3
   },
   "file_extension": ".py",
   "mimetype": "text/x-python",
   "name": "python",
   "nbconvert_exporter": "python",
   "pygments_lexer": "ipython3",
   "version": "3.5.5"
  },
  "toc": {
   "base_numbering": 1,
   "nav_menu": {},
   "number_sections": true,
   "sideBar": true,
   "skip_h1_title": false,
   "title_cell": "Table of Contents",
   "title_sidebar": "Contents",
   "toc_cell": false,
   "toc_position": {},
   "toc_section_display": true,
   "toc_window_display": false
  }
 },
 "nbformat": 4,
 "nbformat_minor": 2
}
