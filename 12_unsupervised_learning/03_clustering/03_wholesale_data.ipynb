{
 "cells": [
  {
   "cell_type": "code",
   "execution_count": null,
   "metadata": {
    "ExecuteTime": {
     "end_time": "2018-04-04T05:35:05.764974Z",
     "start_time": "2018-04-04T05:35:04.135867Z"
    },
    "slideshow": {
     "slide_type": "skip"
    }
   },
   "outputs": [],
   "source": [
    "from os.path import join\n",
    "from datetime import datetime\n",
    "import pandas as pd\n",
    "import numpy as np\n",
    "from numpy.random import seed\n",
    "import matplotlib.pyplot as plt\n",
    "from mpl_toolkits.mplot3d import Axes3D\n",
    "import seaborn as sns\n",
    "from sklearn.decomposition import PCA\n",
    "from sklearn.neighbors import LocalOutlierFactor\n",
    "from sklearn.preprocessing import StandardScaler\n",
    "from sklearn.cluster import KMeans\n",
    "from sklearn.metrics import silhouette_samples, silhouette_score\n",
    "from silhouette_plot import plot_silhouette, plot2d_cluster_assignments, plot3d_cluster_assignments, format_silhouette_plot, metric_plot_update, format3D\n",
    "\n",
    "%matplotlib notebook\n",
    "pd.options.display.float_format = '{:,.2f}'.format\n",
    "seed(42)"
   ]
  },
  {
   "cell_type": "code",
   "execution_count": null,
   "metadata": {
    "ExecuteTime": {
     "end_time": "2018-04-04T05:35:06.580994Z",
     "start_time": "2018-04-04T05:35:06.565962Z"
    },
    "slideshow": {
     "slide_type": "skip"
    }
   },
   "outputs": [],
   "source": [
    "from jupyterthemes import jtplot\n",
    "jtplot.style(theme='onedork', context='talk', fscale=1.4, spines=False, \n",
    "             gridlines='--', ticks=True, grid=False, figsize=(7, 5))"
   ]
  },
  {
   "cell_type": "markdown",
   "metadata": {
    "slideshow": {
     "slide_type": "slide"
    }
   },
   "source": [
    "### Load the transaction data"
   ]
  },
  {
   "cell_type": "code",
   "execution_count": null,
   "metadata": {
    "ExecuteTime": {
     "end_time": "2018-04-04T05:35:08.778788Z",
     "start_time": "2018-04-04T05:35:08.755132Z"
    },
    "slideshow": {
     "slide_type": "fragment"
    }
   },
   "outputs": [],
   "source": [
    "data = pd.read_csv('wholesale_customers_data.csv')\n",
    "data.info()"
   ]
  },
  {
   "cell_type": "markdown",
   "metadata": {
    "slideshow": {
     "slide_type": "slide"
    }
   },
   "source": [
    "### And review the first few rows"
   ]
  },
  {
   "cell_type": "code",
   "execution_count": null,
   "metadata": {
    "ExecuteTime": {
     "end_time": "2018-04-04T05:35:21.675958Z",
     "start_time": "2018-04-04T05:35:21.649638Z"
    },
    "slideshow": {
     "slide_type": "fragment"
    }
   },
   "outputs": [],
   "source": [
    "data.head()"
   ]
  },
  {
   "cell_type": "code",
   "execution_count": null,
   "metadata": {
    "ExecuteTime": {
     "end_time": "2018-04-04T05:35:21.809630Z",
     "start_time": "2018-04-04T05:35:21.804830Z"
    },
    "slideshow": {
     "slide_type": "fragment"
    }
   },
   "outputs": [],
   "source": [
    "products = ['Fresh', 'Milk', 'Grocery', 'Frozen', 'Detergents_Paper', 'Delicatessen']"
   ]
  },
  {
   "cell_type": "markdown",
   "metadata": {
    "slideshow": {
     "slide_type": "slide"
    }
   },
   "source": [
    "#### There's a wide range of transaction values"
   ]
  },
  {
   "cell_type": "code",
   "execution_count": null,
   "metadata": {
    "ExecuteTime": {
     "end_time": "2018-04-04T05:35:22.937616Z",
     "start_time": "2018-04-04T05:35:22.241190Z"
    },
    "slideshow": {
     "slide_type": "fragment"
    }
   },
   "outputs": [],
   "source": [
    "fig, axes = plt.subplots(nrows=2, sharex=True)\n",
    "transaction_value = data.loc[:, products].sum(axis=1)\n",
    "sns.distplot(transaction_value, ax=axes[0])\n",
    "flierprops = dict(markerfacecolor='0.75', markersize=5, linestyle='none')\n",
    "whiskerprops = capprops = dict(c='white')\n",
    "sns.boxplot(transaction_value, ax=axes[1], flierprops=flierprops, whiskerprops=whiskerprops, capprops=capprops)\n",
    "axes[0].set_title('Transaction Value Distribution')"
   ]
  },
  {
   "cell_type": "markdown",
   "metadata": {
    "slideshow": {
     "slide_type": "slide"
    }
   },
   "source": [
    "### And plenty of outliers for each product"
   ]
  },
  {
   "cell_type": "code",
   "execution_count": null,
   "metadata": {
    "ExecuteTime": {
     "end_time": "2018-04-04T05:35:23.479092Z",
     "start_time": "2018-04-04T05:35:22.943793Z"
    },
    "slideshow": {
     "slide_type": "fragment"
    }
   },
   "outputs": [],
   "source": [
    "plt.figure()\n",
    "sns.boxplot(data=data[products], flierprops=flierprops, whiskerprops=whiskerprops, capprops=capprops)\n",
    "plt.title('Transaction Value Distributions by Product')"
   ]
  },
  {
   "cell_type": "markdown",
   "metadata": {
    "slideshow": {
     "slide_type": "slide"
    }
   },
   "source": [
    "### Sampling Customer Profiles"
   ]
  },
  {
   "cell_type": "markdown",
   "metadata": {
    "slideshow": {
     "slide_type": "fragment"
    }
   },
   "source": [
    "#### Let's sample 5 customers"
   ]
  },
  {
   "cell_type": "code",
   "execution_count": null,
   "metadata": {
    "ExecuteTime": {
     "end_time": "2018-04-04T05:35:23.517542Z",
     "start_time": "2018-04-04T05:35:23.481701Z"
    },
    "slideshow": {
     "slide_type": "fragment"
    }
   },
   "outputs": [],
   "source": [
    "sample = data.sample(5).reset_index(drop=True)\n",
    "sample_with_stats = sample.append(data.agg(['median', 'mean']))\n",
    "sample_with_stats"
   ]
  },
  {
   "cell_type": "markdown",
   "metadata": {
    "slideshow": {
     "slide_type": "slide"
    }
   },
   "source": [
    "#### And plot the transaction profiles"
   ]
  },
  {
   "cell_type": "code",
   "execution_count": null,
   "metadata": {
    "ExecuteTime": {
     "end_time": "2018-04-04T05:35:24.246257Z",
     "start_time": "2018-04-04T05:35:23.522282Z"
    },
    "slideshow": {
     "slide_type": "fragment"
    }
   },
   "outputs": [],
   "source": [
    "sample_with_stats[products].T.plot.bar()\n",
    "plt.tight_layout()"
   ]
  },
  {
   "cell_type": "markdown",
   "metadata": {
    "slideshow": {
     "slide_type": "slide"
    }
   },
   "source": [
    "### Basket Shares"
   ]
  },
  {
   "cell_type": "code",
   "execution_count": null,
   "metadata": {
    "ExecuteTime": {
     "end_time": "2018-04-04T05:35:24.952606Z",
     "start_time": "2018-04-04T05:35:24.251202Z"
    },
    "slideshow": {
     "slide_type": "fragment"
    }
   },
   "outputs": [],
   "source": [
    "product_sales = data[products]\n",
    "basket_shares = product_sales.div(product_sales.sum(axis=1), axis=0)\n",
    "sns.boxplot(data=basket_shares, flierprops=flierprops, whiskerprops=whiskerprops, capprops=capprops)\n",
    "plt.title('Basket Share Distributions')"
   ]
  },
  {
   "cell_type": "code",
   "execution_count": null,
   "metadata": {
    "ExecuteTime": {
     "end_time": "2018-04-04T05:35:24.965419Z",
     "start_time": "2018-04-04T05:35:24.957407Z"
    },
    "slideshow": {
     "slide_type": "slide"
    }
   },
   "outputs": [],
   "source": [
    "corr_matrix = basket_shares.corr()\n",
    "mask = np.zeros_like(corr_matrix)\n",
    "np.fill_diagonal(mask, 1)\n"
   ]
  },
  {
   "cell_type": "markdown",
   "metadata": {
    "slideshow": {
     "slide_type": "slide"
    }
   },
   "source": [
    "#### and compare the share of each product in their purchase"
   ]
  },
  {
   "cell_type": "code",
   "execution_count": null,
   "metadata": {
    "ExecuteTime": {
     "end_time": "2018-04-04T05:35:25.012277Z",
     "start_time": "2018-04-04T05:35:24.969743Z"
    },
    "slideshow": {
     "slide_type": "fragment"
    }
   },
   "outputs": [],
   "source": [
    "sample_profile = basket_shares.loc[sample.index]\n",
    "sample_profile_with_stats = sample_profile.append(basket_shares.agg(['median', 'mean']))\n",
    "sample_profile_with_stats"
   ]
  },
  {
   "cell_type": "markdown",
   "metadata": {
    "slideshow": {
     "slide_type": "slide"
    }
   },
   "source": [
    "#### visualize as horizontal bar chart and heatmap"
   ]
  },
  {
   "cell_type": "code",
   "execution_count": null,
   "metadata": {
    "ExecuteTime": {
     "end_time": "2018-04-04T05:35:26.524975Z",
     "start_time": "2018-04-04T05:35:25.022015Z"
    },
    "slideshow": {
     "slide_type": "fragment"
    }
   },
   "outputs": [],
   "source": [
    "fig, axes = plt.subplots(nrows=2)\n",
    "sample_profile_with_stats.drop('median').plot.barh(stacked=True, ax=axes[0])\n",
    "sns.heatmap(sample_profile_with_stats, ax=axes[1], annot=True, fmt='.1%')\n",
    "plt.tight_layout()"
   ]
  },
  {
   "cell_type": "markdown",
   "metadata": {
    "slideshow": {
     "slide_type": "slide"
    }
   },
   "source": [
    "### Sales by Region"
   ]
  },
  {
   "cell_type": "code",
   "execution_count": null,
   "metadata": {
    "ExecuteTime": {
     "end_time": "2018-04-04T05:35:27.348091Z",
     "start_time": "2018-04-04T05:35:26.529890Z"
    },
    "slideshow": {
     "slide_type": "fragment"
    }
   },
   "outputs": [],
   "source": [
    "data.groupby('Region')[products].mean().plot.bar(title='Sales by Region')"
   ]
  },
  {
   "cell_type": "markdown",
   "metadata": {
    "slideshow": {
     "slide_type": "slide"
    }
   },
   "source": [
    "### Sales by Channel"
   ]
  },
  {
   "cell_type": "code",
   "execution_count": null,
   "metadata": {
    "ExecuteTime": {
     "end_time": "2018-04-04T05:35:28.197906Z",
     "start_time": "2018-04-04T05:35:27.357058Z"
    },
    "slideshow": {
     "slide_type": "fragment"
    }
   },
   "outputs": [],
   "source": [
    "data.groupby('Channel')[products].mean().plot.bar(title='Sales by Channel')"
   ]
  },
  {
   "cell_type": "markdown",
   "metadata": {
    "slideshow": {
     "slide_type": "slide"
    }
   },
   "source": [
    "### Using categorical variables"
   ]
  },
  {
   "cell_type": "code",
   "execution_count": null,
   "metadata": {
    "ExecuteTime": {
     "end_time": "2018-04-04T05:35:28.249491Z",
     "start_time": "2018-04-04T05:35:28.202638Z"
    },
    "slideshow": {
     "slide_type": "fragment"
    }
   },
   "outputs": [],
   "source": [
    "pd.get_dummies(data, columns=['Channel', 'Region']).head()"
   ]
  },
  {
   "cell_type": "code",
   "execution_count": null,
   "metadata": {
    "ExecuteTime": {
     "end_time": "2018-04-04T05:35:28.265001Z",
     "start_time": "2018-04-04T05:35:28.253855Z"
    },
    "slideshow": {
     "slide_type": "fragment"
    }
   },
   "outputs": [],
   "source": [
    "data.Channel = data.Channel.sub(1)"
   ]
  },
  {
   "cell_type": "code",
   "execution_count": null,
   "metadata": {
    "ExecuteTime": {
     "end_time": "2018-04-04T05:35:28.279804Z",
     "start_time": "2018-04-04T05:35:28.270691Z"
    },
    "slideshow": {
     "slide_type": "fragment"
    }
   },
   "outputs": [],
   "source": [
    "data = data.drop('Region', axis=1)"
   ]
  },
  {
   "cell_type": "markdown",
   "metadata": {
    "slideshow": {
     "slide_type": "slide"
    }
   },
   "source": [
    "### KMeans with raw data"
   ]
  },
  {
   "cell_type": "markdown",
   "metadata": {
    "slideshow": {
     "slide_type": "fragment"
    }
   },
   "source": [
    "#### Compute Principal Components to facilitate 2D visualization"
   ]
  },
  {
   "cell_type": "code",
   "execution_count": null,
   "metadata": {
    "ExecuteTime": {
     "end_time": "2018-04-04T05:35:28.300369Z",
     "start_time": "2018-04-04T05:35:28.284168Z"
    },
    "slideshow": {
     "slide_type": "fragment"
    }
   },
   "outputs": [],
   "source": [
    "def get_components(data):\n",
    "    pca = PCA().fit(data)\n",
    "    C2 = pca.components_[:2].T # for 2D projection\n",
    "    C3 = pca.components_[:3].T # for 3D projection\n",
    "    data2d, data3d = data.dot(C2), data.dot(C3)\n",
    "    return C2, C3, data2d, data3d, pca.explained_variance_ratio_"
   ]
  },
  {
   "cell_type": "markdown",
   "metadata": {
    "slideshow": {
     "slide_type": "slide"
    }
   },
   "source": [
    "#### Evaluate 1-10 Clusters"
   ]
  },
  {
   "cell_type": "code",
   "execution_count": null,
   "metadata": {
    "ExecuteTime": {
     "end_time": "2018-04-04T05:35:28.330856Z",
     "start_time": "2018-04-04T05:35:28.305553Z"
    },
    "slideshow": {
     "slide_type": "fragment"
    }
   },
   "outputs": [],
   "source": [
    "def create_figure(max_clusters):\n",
    "    ncols, nrows = 3, max_clusters\n",
    "    fig, axes = plt.subplots(ncols=ncols, nrows=nrows,\n",
    "                             figsize=(12, nrows * 3))\n",
    "    for row in range(1, max_clusters):\n",
    "        axes[row, 2].remove()\n",
    "        axes[row, 2] = format3D(fig.add_subplot(nrows, ncols, 3 + row * 3, projection='3d'))\n",
    "    return fig, axes"
   ]
  },
  {
   "cell_type": "code",
   "execution_count": null,
   "metadata": {
    "ExecuteTime": {
     "end_time": "2018-04-04T05:35:28.671816Z",
     "start_time": "2018-04-04T05:35:28.334793Z"
    },
    "slideshow": {
     "slide_type": "slide"
    }
   },
   "outputs": [],
   "source": [
    "def evaluate_clusters(data, max_clusters=6, fig_n=10):\n",
    "    cluster_list = list(range(2, max_clusters + 1))\n",
    "    inertias = pd.Series(index=cluster_list)\n",
    "    silhouette_scores = inertias.copy()\n",
    "    C2, C3, data2d, data3d, ev = get_components(data)\n",
    "    fig, axes = create_figure(max_clusters)\n",
    "    pd.Series(ev, index=list(range(1, data.shape[1] + 1))).plot.bar(title='PCA Explained Variance', ax= axes[0][2]);\n",
    "    for n_cluster in cluster_list:\n",
    "        kmeans = KMeans(n_clusters=n_cluster, random_state=42).fit(data)\n",
    "        centroids, assignments, inertia = kmeans.cluster_centers_, kmeans.labels_, kmeans.inertia_\n",
    "        inertias[n_cluster] = inertia\n",
    "        metric_plot_update(inertias, fig, axes[0][0])\n",
    "        silhouette_avg = silhouette_score(data, assignments)\n",
    "        silhouette_scores[n_cluster] = silhouette_avg\n",
    "        metric_plot_update(silhouette_scores, fig, axes[0][1], kind='bar', title='Silhouette Scores')\n",
    "        silhouette_values = silhouette_samples(data, assignments)\n",
    "        silhouette_plot, cluster_plot2d, clusterplot3d = axes[n_cluster - 1]\n",
    "        y_lower = 10\n",
    "        for i in range(n_cluster):\n",
    "            y_lower = plot_silhouette(np.sort(silhouette_values[assignments == i]), y_lower, i, n_cluster, silhouette_plot)\n",
    "        format_silhouette_plot(silhouette_plot, silhouette_avg)\n",
    "        plot2d_cluster_assignments(*data2d.T, centroids.dot(C2), assignments, n_cluster, cluster_plot2d)\n",
    "        plot3d_cluster_assignments(*data3d.T, centroids.dot(C3), assignments, n_cluster, clusterplot3d)\n",
    "        fig.tight_layout()\n",
    "\n",
    "    fig.suptitle('KMeans Silhouette Plot with Wholesale Data', fontsize=14)\n",
    "    fig.tight_layout()\n"
   ]
  },
  {
   "cell_type": "code",
   "execution_count": null,
   "metadata": {
    "ExecuteTime": {
     "end_time": "2018-04-04T05:35:46.931192Z",
     "start_time": "2018-04-04T05:35:28.676055Z"
    },
    "slideshow": {
     "slide_type": "slide"
    }
   },
   "outputs": [],
   "source": [
    "evaluate_clusters(product_sales.values)"
   ]
  },
  {
   "cell_type": "markdown",
   "metadata": {
    "slideshow": {
     "slide_type": "slide"
    }
   },
   "source": [
    "### Evaluate standardized raw data"
   ]
  },
  {
   "cell_type": "code",
   "execution_count": null,
   "metadata": {
    "ExecuteTime": {
     "end_time": "2018-04-04T05:36:02.193465Z",
     "start_time": "2018-04-04T05:35:46.935455Z"
    },
    "slideshow": {
     "slide_type": "fragment"
    }
   },
   "outputs": [],
   "source": [
    "scaler = StandardScaler()\n",
    "standardized_data = scaler.fit_transform(product_sales)\n",
    "evaluate_clusters(standardized_data)"
   ]
  },
  {
   "cell_type": "markdown",
   "metadata": {
    "slideshow": {
     "slide_type": "slide"
    }
   },
   "source": [
    "### Evaluate log-transformed Data"
   ]
  },
  {
   "cell_type": "code",
   "execution_count": null,
   "metadata": {
    "ExecuteTime": {
     "end_time": "2018-04-04T05:36:18.645373Z",
     "start_time": "2018-04-04T05:36:02.197701Z"
    },
    "slideshow": {
     "slide_type": "fragment"
    }
   },
   "outputs": [],
   "source": [
    "log_sales = product_sales.apply(np.log)\n",
    "evaluate_clusters(product_sales.values)"
   ]
  },
  {
   "cell_type": "markdown",
   "metadata": {
    "slideshow": {
     "slide_type": "slide"
    }
   },
   "source": [
    "### Evaluate standardized log-transformed Data"
   ]
  },
  {
   "cell_type": "code",
   "execution_count": null,
   "metadata": {
    "ExecuteTime": {
     "end_time": "2018-04-04T05:36:40.425290Z",
     "start_time": "2018-04-04T05:36:18.649539Z"
    },
    "slideshow": {
     "slide_type": "fragment"
    }
   },
   "outputs": [],
   "source": [
    "log_sales_standardized = scaler.fit_transform(log_sales)\n",
    "evaluate_clusters(log_sales_standardized)"
   ]
  },
  {
   "cell_type": "markdown",
   "metadata": {
    "slideshow": {
     "slide_type": "slide"
    }
   },
   "source": [
    "### Add Channel Information"
   ]
  },
  {
   "cell_type": "code",
   "execution_count": null,
   "metadata": {
    "ExecuteTime": {
     "end_time": "2018-04-04T05:36:59.570029Z",
     "start_time": "2018-04-04T05:36:40.434124Z"
    },
    "slideshow": {
     "slide_type": "fragment"
    }
   },
   "outputs": [],
   "source": [
    "log_sales_channel = log_sales.join(data.Channel)\n",
    "log_sales_channel_standardized = scaler.fit_transform(log_sales_channel)\n",
    "evaluate_clusters(log_sales_channel_standardized)"
   ]
  },
  {
   "cell_type": "markdown",
   "metadata": {
    "slideshow": {
     "slide_type": "slide"
    }
   },
   "source": [
    "### Remove Outliers"
   ]
  },
  {
   "cell_type": "code",
   "execution_count": null,
   "metadata": {
    "ExecuteTime": {
     "end_time": "2018-04-04T05:37:09.212444Z",
     "start_time": "2018-04-04T05:36:59.576662Z"
    },
    "slideshow": {
     "slide_type": "fragment"
    }
   },
   "outputs": [],
   "source": [
    "outliers = LocalOutlierFactor(n_neighbors=20, contamination=.1)\n",
    "log_sales_channel['inlier'] = outliers.fit_predict(log_sales_channel)\n",
    "log_sales_channel_clean = log_sales_channel.loc[log_sales_channel.inlier==1].drop('inlier', axis=1)\n",
    "\n",
    "log_sales_channel_clean_standardized = scaler.fit_transform(log_sales_channel_clean)\n",
    "evaluate_clusters(log_sales_channel_clean_standardized)"
   ]
  },
  {
   "cell_type": "markdown",
   "metadata": {
    "slideshow": {
     "slide_type": "slide"
    }
   },
   "source": [
    "### Evaluate basket share data"
   ]
  },
  {
   "cell_type": "code",
   "execution_count": null,
   "metadata": {
    "ExecuteTime": {
     "end_time": "2018-04-04T05:37:19.305233Z",
     "start_time": "2018-04-04T05:37:09.214997Z"
    },
    "slideshow": {
     "slide_type": "fragment"
    }
   },
   "outputs": [],
   "source": [
    "evaluate_clusters(basket_shares.values)"
   ]
  },
  {
   "cell_type": "markdown",
   "metadata": {
    "slideshow": {
     "slide_type": "slide"
    }
   },
   "source": [
    "### Evaluate Standardized Basket Shares"
   ]
  },
  {
   "cell_type": "code",
   "execution_count": null,
   "metadata": {
    "ExecuteTime": {
     "end_time": "2018-04-04T05:37:31.590485Z",
     "start_time": "2018-04-04T05:37:19.309884Z"
    },
    "slideshow": {
     "slide_type": "fragment"
    }
   },
   "outputs": [],
   "source": [
    "basket_shares_standardized = scaler.fit_transform(basket_shares)\n",
    "evaluate_clusters(basket_shares_standardized)"
   ]
  },
  {
   "cell_type": "markdown",
   "metadata": {
    "slideshow": {
     "slide_type": "slide"
    }
   },
   "source": [
    "### Include Channel Information"
   ]
  },
  {
   "cell_type": "code",
   "execution_count": null,
   "metadata": {
    "ExecuteTime": {
     "end_time": "2018-04-04T05:37:36.566947Z",
     "start_time": "2018-04-04T05:37:31.593176Z"
    },
    "slideshow": {
     "slide_type": "fragment"
    }
   },
   "outputs": [],
   "source": [
    "basket_shares_channel = data[['Channel']].sub(1).join(basket_shares)\n",
    "\n",
    "basket_shares_channel_standardized = scaler.fit_transform(basket_shares_channel)\n",
    "\n",
    "evaluate_clusters(basket_shares_channel_standardized)"
   ]
  },
  {
   "cell_type": "markdown",
   "metadata": {
    "slideshow": {
     "slide_type": "slide"
    }
   },
   "source": [
    "### Also add total transaction value"
   ]
  },
  {
   "cell_type": "code",
   "execution_count": null,
   "metadata": {
    "ExecuteTime": {
     "end_time": "2018-04-04T05:37:36.568285Z",
     "start_time": "2018-04-04T05:35:32.549Z"
    },
    "slideshow": {
     "slide_type": "fragment"
    }
   },
   "outputs": [],
   "source": [
    "basket_shares_total = basket_shares_channel.join(transaction_value.to_frame('total'))\n",
    "\n",
    "basket_shares_total_standardized = scaler.fit_transform(basket_shares_total)\n",
    "\n",
    "evaluate_clusters(basket_shares_total_standardized)"
   ]
  },
  {
   "cell_type": "markdown",
   "metadata": {
    "slideshow": {
     "slide_type": "slide"
    }
   },
   "source": [
    "### All data"
   ]
  },
  {
   "cell_type": "code",
   "execution_count": null,
   "metadata": {
    "ExecuteTime": {
     "end_time": "2018-04-04T05:37:36.569737Z",
     "start_time": "2018-04-04T05:35:32.917Z"
    },
    "slideshow": {
     "slide_type": "fragment"
    }
   },
   "outputs": [],
   "source": [
    "all_data = basket_shares_total.join(log_sales, rsuffix='_log')\n",
    "all_data_standardized = scaler.fit_transform(all_data)\n",
    "evaluate_clusters(all_data_standardized)"
   ]
  },
  {
   "cell_type": "markdown",
   "metadata": {
    "slideshow": {
     "slide_type": "slide"
    }
   },
   "source": [
    "### Display centroids for log-transformed data"
   ]
  },
  {
   "cell_type": "code",
   "execution_count": null,
   "metadata": {
    "ExecuteTime": {
     "end_time": "2018-04-04T05:37:36.571287Z",
     "start_time": "2018-04-04T05:35:34.218Z"
    },
    "slideshow": {
     "slide_type": "fragment"
    }
   },
   "outputs": [],
   "source": [
    "log_sales_channel_clean.head()"
   ]
  },
  {
   "cell_type": "markdown",
   "metadata": {
    "slideshow": {
     "slide_type": "slide"
    }
   },
   "source": [
    "#### Recompute Clusters"
   ]
  },
  {
   "cell_type": "code",
   "execution_count": null,
   "metadata": {
    "ExecuteTime": {
     "end_time": "2018-04-04T05:37:36.573640Z",
     "start_time": "2018-04-04T05:35:35.031Z"
    },
    "slideshow": {
     "slide_type": "fragment"
    }
   },
   "outputs": [],
   "source": [
    "log_sales_channel_clean_standardized = scaler.fit_transform(\n",
    "                    log_sales_channel_clean)\n",
    "\n",
    "kmeans = KMeans(n_clusters=2).fit(log_sales_channel_clean_standardized)\n",
    "centroids = kmeans.cluster_centers_\n",
    "centroids"
   ]
  },
  {
   "cell_type": "markdown",
   "metadata": {
    "slideshow": {
     "slide_type": "slide"
    }
   },
   "source": [
    "### Transform back to feature space"
   ]
  },
  {
   "cell_type": "code",
   "execution_count": null,
   "metadata": {
    "ExecuteTime": {
     "end_time": "2018-04-04T05:37:36.576057Z",
     "start_time": "2018-04-04T05:35:35.350Z"
    },
    "slideshow": {
     "slide_type": "fragment"
    }
   },
   "outputs": [],
   "source": [
    "centroids_rescaled = pd.DataFrame(scaler.inverse_transform(centroids), \n",
    "                                  columns=log_sales_channel_clean.columns)\n",
    "centroids_rescaled"
   ]
  },
  {
   "cell_type": "markdown",
   "metadata": {
    "slideshow": {
     "slide_type": "slide"
    }
   },
   "source": [
    "### Apply exponential function"
   ]
  },
  {
   "cell_type": "code",
   "execution_count": null,
   "metadata": {
    "ExecuteTime": {
     "end_time": "2018-04-04T05:37:36.577886Z",
     "start_time": "2018-04-04T05:35:36.099Z"
    },
    "slideshow": {
     "slide_type": "fragment"
    }
   },
   "outputs": [],
   "source": [
    "centroids_rescaled.loc[:, products] = np.exp(\n",
    "    centroids_rescaled.loc[:, products])\n",
    "centroids_rescaled"
   ]
  },
  {
   "cell_type": "markdown",
   "metadata": {
    "slideshow": {
     "slide_type": "slide"
    }
   },
   "source": [
    "### Centroid Profiles "
   ]
  },
  {
   "cell_type": "code",
   "execution_count": null,
   "metadata": {
    "ExecuteTime": {
     "end_time": "2018-04-04T05:37:36.579729Z",
     "start_time": "2018-04-04T05:35:36.422Z"
    },
    "slideshow": {
     "slide_type": "fragment"
    }
   },
   "outputs": [],
   "source": [
    "centroids_rescaled.append(data.agg(['mean', 'median']))"
   ]
  },
  {
   "cell_type": "code",
   "execution_count": null,
   "metadata": {
    "ExecuteTime": {
     "end_time": "2018-04-04T05:37:36.582051Z",
     "start_time": "2018-04-04T05:35:36.625Z"
    },
    "slideshow": {
     "slide_type": "fragment"
    }
   },
   "outputs": [],
   "source": [
    "pd.Series(kmeans.labels_).value_counts()"
   ]
  },
  {
   "cell_type": "code",
   "execution_count": null,
   "metadata": {
    "ExecuteTime": {
     "end_time": "2018-04-04T05:37:36.583988Z",
     "start_time": "2018-04-04T05:35:37.063Z"
    },
    "slideshow": {
     "slide_type": "fragment"
    }
   },
   "outputs": [],
   "source": [
    "kmeans.inertia_"
   ]
  },
  {
   "cell_type": "markdown",
   "metadata": {
    "slideshow": {
     "slide_type": "slide"
    }
   },
   "source": [
    "### Repeat for 3 Clusters"
   ]
  },
  {
   "cell_type": "code",
   "execution_count": null,
   "metadata": {
    "ExecuteTime": {
     "end_time": "2018-04-04T05:37:36.585914Z",
     "start_time": "2018-04-04T05:35:37.414Z"
    },
    "slideshow": {
     "slide_type": "fragment"
    }
   },
   "outputs": [],
   "source": [
    "kmeans = KMeans(n_clusters=3).fit(log_sales_channel_clean_standardized)\n",
    "centroids = kmeans.cluster_centers_\n",
    "centroids"
   ]
  },
  {
   "cell_type": "markdown",
   "metadata": {
    "slideshow": {
     "slide_type": "slide"
    }
   },
   "source": [
    "### Profiles for 3 Centroids"
   ]
  },
  {
   "cell_type": "code",
   "execution_count": null,
   "metadata": {
    "ExecuteTime": {
     "end_time": "2018-04-04T05:37:36.587328Z",
     "start_time": "2018-04-04T05:35:37.907Z"
    },
    "slideshow": {
     "slide_type": "fragment"
    }
   },
   "outputs": [],
   "source": [
    "centroids_rescaled = pd.DataFrame(scaler.inverse_transform(centroids), columns=log_sales_channel_clean.columns)\n",
    "centroids_rescaled.loc[:, products] = np.exp(centroids_rescaled.loc[:, products])\n",
    "centroids_rescaled.append(data.agg(['mean', 'median']))"
   ]
  },
  {
   "cell_type": "code",
   "execution_count": null,
   "metadata": {
    "ExecuteTime": {
     "end_time": "2018-04-04T05:37:36.589186Z",
     "start_time": "2018-04-04T05:35:38.071Z"
    },
    "slideshow": {
     "slide_type": "slide"
    }
   },
   "outputs": [],
   "source": [
    "centroids_rescaled[products].plot.bar();"
   ]
  },
  {
   "cell_type": "code",
   "execution_count": null,
   "metadata": {
    "ExecuteTime": {
     "end_time": "2018-04-04T05:37:36.591035Z",
     "start_time": "2018-04-04T05:35:38.726Z"
    },
    "slideshow": {
     "slide_type": "slide"
    }
   },
   "outputs": [],
   "source": [
    "pd.Series(kmeans.labels_).value_counts()"
   ]
  },
  {
   "cell_type": "code",
   "execution_count": null,
   "metadata": {
    "ExecuteTime": {
     "end_time": "2018-04-04T05:37:36.592859Z",
     "start_time": "2018-04-04T05:35:38.937Z"
    },
    "slideshow": {
     "slide_type": "fragment"
    }
   },
   "outputs": [],
   "source": [
    "kmeans.inertia_"
   ]
  }
 ],
 "metadata": {
  "celltoolbar": "Slideshow",
  "hide_input": false,
  "kernelspec": {
   "display_name": "Python 3",
   "language": "python",
   "name": "python3"
  },
  "language_info": {
   "codemirror_mode": {
    "name": "ipython",
    "version": 3
   },
   "file_extension": ".py",
   "mimetype": "text/x-python",
   "name": "python",
   "nbconvert_exporter": "python",
   "pygments_lexer": "ipython3",
   "version": "3.6.4"
  },
  "latex_envs": {
   "bibliofile": "biblio.bib",
   "cite_by": "apalike",
   "current_citInitial": 1,
   "eqLabelWithNumbers": true,
   "eqNumInitial": 0
  },
  "toc": {
   "base_numbering": 1,
   "nav_menu": {},
   "number_sections": true,
   "sideBar": true,
   "skip_h1_title": false,
   "title_cell": "Table of Contents",
   "title_sidebar": "Contents",
   "toc_cell": false,
   "toc_position": {},
   "toc_section_display": true,
   "toc_window_display": false
  }
 },
 "nbformat": 4,
 "nbformat_minor": 1
}
