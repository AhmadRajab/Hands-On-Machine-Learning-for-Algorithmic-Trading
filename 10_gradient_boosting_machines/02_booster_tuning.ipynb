{
 "cells": [
  {
   "cell_type": "code",
   "execution_count": 37,
   "metadata": {
    "ExecuteTime": {
     "end_time": "2018-10-04T21:33:20.940155Z",
     "start_time": "2018-10-04T21:33:20.936010Z"
    }
   },
   "outputs": [],
   "source": [
    "%matplotlib inline\n",
    "\n",
    "import warnings\n",
    "import os\n",
    "from datetime import datetime\n",
    "from pathlib import Path\n",
    "import quandl\n",
    "import numpy as np\n",
    "import pandas as pd\n",
    "\n",
    "import matplotlib.pyplot as plt\n",
    "import seaborn as sns\n",
    "import graphviz\n",
    "\n",
    "import xgboost as xgb\n",
    "import lightgbm as lgb\n",
    "from catboost import Pool, CatBoostClassifier\n",
    "from sklearn.ensemble import RandomForestClassifier, AdaBoostClassifier, GradientBoostingClassifier\n",
    "from sklearn.metrics import roc_auc_score, roc_curve, mean_squared_error, precision_recall_curve"
   ]
  },
  {
   "cell_type": "code",
   "execution_count": 2,
   "metadata": {
    "ExecuteTime": {
     "end_time": "2018-10-04T20:29:15.825233Z",
     "start_time": "2018-10-04T20:29:15.821742Z"
    }
   },
   "outputs": [],
   "source": [
    "warnings.filterwarnings('ignore')\n",
    "plt.style.use('fivethirtyeight')\n",
    "idx = pd.IndexSlice\n",
    "np.random.seed(42)"
   ]
  },
  {
   "cell_type": "code",
   "execution_count": 3,
   "metadata": {
    "ExecuteTime": {
     "end_time": "2018-10-04T20:29:16.482985Z",
     "start_time": "2018-10-04T20:29:16.480690Z"
    }
   },
   "outputs": [],
   "source": [
    "def format_time(t):\n",
    "    m, s = divmod(t, 60)\n",
    "    h, m = divmod(m, 60)\n",
    "    return f'{h:0>2.0f}:{m:0>2.0f}:{s:0>2.1f}'"
   ]
  },
  {
   "cell_type": "markdown",
   "metadata": {},
   "source": [
    "## Prepare Data"
   ]
  },
  {
   "cell_type": "markdown",
   "metadata": {},
   "source": [
    "### Get source"
   ]
  },
  {
   "cell_type": "code",
   "execution_count": 4,
   "metadata": {
    "ExecuteTime": {
     "end_time": "2018-10-04T20:29:17.459081Z",
     "start_time": "2018-10-04T20:29:17.455790Z"
    }
   },
   "outputs": [],
   "source": [
    "def get_data(start='2000', end='2018', holding_period=1, dropna=True):\n",
    "    idx = pd.IndexSlice\n",
    "    target = f'target_{holding_period}m'\n",
    "    with pd.HDFStore('data.h5') as store:\n",
    "        df = store['data']\n",
    "\n",
    "    if start is not None and end is not None:\n",
    "        df = df.loc[idx[:, start: end], :]\n",
    "    if dropna:\n",
    "        df = df.dropna()\n",
    "\n",
    "    y = (df[target] > 0).astype(int)\n",
    "    X = df.drop([c for c in df.columns if c.startswith('target')], axis=1)\n",
    "    return y, X"
   ]
  },
  {
   "cell_type": "markdown",
   "metadata": {},
   "source": [
    "### Factorize Categories"
   ]
  },
  {
   "cell_type": "code",
   "execution_count": 5,
   "metadata": {
    "ExecuteTime": {
     "end_time": "2018-10-04T20:29:17.967907Z",
     "start_time": "2018-10-04T20:29:17.965804Z"
    }
   },
   "outputs": [],
   "source": [
    "cat_cols = ['year', 'month', 'age', 'msize', 'sector']"
   ]
  },
  {
   "cell_type": "code",
   "execution_count": 6,
   "metadata": {
    "ExecuteTime": {
     "end_time": "2018-10-04T20:29:20.557742Z",
     "start_time": "2018-10-04T20:29:20.555462Z"
    }
   },
   "outputs": [],
   "source": [
    "def factorize_cats(df, cats=['sector']):\n",
    "    cat_cols = ['year', 'month', 'age', 'msize'] + cats\n",
    "    for cat in cats:\n",
    "        df[cat] = pd.factorize(df[cat])[0]\n",
    "    df.loc[:, cat_cols] = df.loc[:, cat_cols].fillna(-1)\n",
    "    return df"
   ]
  },
  {
   "cell_type": "markdown",
   "metadata": {},
   "source": [
    "### One-Hot Encoding"
   ]
  },
  {
   "cell_type": "code",
   "execution_count": 7,
   "metadata": {
    "ExecuteTime": {
     "end_time": "2018-10-04T20:29:20.842906Z",
     "start_time": "2018-10-04T20:29:20.840526Z"
    }
   },
   "outputs": [],
   "source": [
    "def get_one_hot_data(df, cols=cat_cols[:-1]):\n",
    "    df = pd.get_dummies(df,\n",
    "                        columns=cols + ['sector'],\n",
    "                        prefix=cols + [''],\n",
    "                        prefix_sep=['_'] * len(cols) + [''])\n",
    "    return df.rename(columns={c: c.replace('.0', '') for c in df.columns})"
   ]
  },
  {
   "cell_type": "markdown",
   "metadata": {},
   "source": [
    "### Get Holdout Set"
   ]
  },
  {
   "cell_type": "code",
   "execution_count": 8,
   "metadata": {
    "ExecuteTime": {
     "end_time": "2018-10-04T20:29:21.446465Z",
     "start_time": "2018-10-04T20:29:21.443243Z"
    }
   },
   "outputs": [],
   "source": [
    "def get_holdout_set(target, features, period=6):\n",
    "    idx = pd.IndexSlice\n",
    "    label = target.name\n",
    "    dates = np.sort(y.index.get_level_values('date').unique())\n",
    "    cv_start, cv_end = dates[0], dates[-period - 2]\n",
    "    holdout_start, holdout_end = dates[-period - 1], dates[-1]\n",
    "\n",
    "    df = features.join(target.to_frame())\n",
    "    train = df.loc[idx[:, cv_start: cv_end], :]\n",
    "    y_train, X_train = train[label], train.drop(label, axis=1)\n",
    "\n",
    "    test = df.loc[idx[:, holdout_start: holdout_end], :]\n",
    "    y_test, X_test = test[label], test.drop(label, axis=1)\n",
    "    return y_train, X_train, y_test, X_test"
   ]
  },
  {
   "cell_type": "markdown",
   "metadata": {},
   "source": [
    "## Load Data"
   ]
  },
  {
   "cell_type": "code",
   "execution_count": 9,
   "metadata": {
    "ExecuteTime": {
     "end_time": "2018-10-04T20:29:30.143807Z",
     "start_time": "2018-10-04T20:29:22.877861Z"
    }
   },
   "outputs": [],
   "source": [
    "y, features = get_data()\n",
    "X_dummies = get_one_hot_data(features)\n",
    "X_factors = factorize_cats(features)"
   ]
  },
  {
   "cell_type": "markdown",
   "metadata": {},
   "source": [
    "## Cross-Validation Setup"
   ]
  },
  {
   "cell_type": "markdown",
   "metadata": {},
   "source": [
    "### Custom Time Series KFold Generator"
   ]
  },
  {
   "cell_type": "code",
   "execution_count": 14,
   "metadata": {
    "ExecuteTime": {
     "end_time": "2018-10-04T20:32:35.335738Z",
     "start_time": "2018-10-04T20:32:35.330867Z"
    }
   },
   "outputs": [],
   "source": [
    "class OneStepTimeSeriesSplit:\n",
    "    \"\"\"Generates tuples of train_idx, test_idx pairs\n",
    "    Assumes the index contains a level labeled 'date'\"\"\"\n",
    "\n",
    "    def __init__(self, n_splits=3, test_period_length=1, shuffle=False):\n",
    "        self.n_splits = n_splits\n",
    "        self.test_period_length = test_period_length\n",
    "        self.shuffle = shuffle\n",
    "        self.test_end = n_splits * test_period_length\n",
    "\n",
    "    @staticmethod\n",
    "    def chunks(l, n):\n",
    "        for i in range(0, len(l), n):\n",
    "            yield l[i:i + n]\n",
    "\n",
    "    def split(self, X, y=None, groups=None):\n",
    "        unique_dates = (X\n",
    "                        .index\n",
    "                        .get_level_values('date')\n",
    "                        .unique()\n",
    "                        .sort_values(ascending=False)\n",
    "                        [:self.test_end])\n",
    "\n",
    "        dates = X.reset_index()[['date']]\n",
    "        for test_date in self.chunks(unique_dates, self.test_period_length):\n",
    "            train_idx = dates[dates.date < min(test_date)].index\n",
    "            test_idx = dates[dates.date.isin(test_date)].index\n",
    "            if self.shuffle:\n",
    "                np.random.shuffle(list(train_idx))\n",
    "            yield train_idx, test_idx\n",
    "\n",
    "    def get_n_splits(self, X, y, groups=None):\n",
    "        return self.n_splits"
   ]
  },
  {
   "cell_type": "code",
   "execution_count": 15,
   "metadata": {
    "ExecuteTime": {
     "end_time": "2018-10-04T20:32:36.466717Z",
     "start_time": "2018-10-04T20:32:36.464605Z"
    }
   },
   "outputs": [],
   "source": [
    "n_splits = 10\n",
    "cv = OneStepTimeSeriesSplit(n_splits=n_splits)"
   ]
  },
  {
   "cell_type": "markdown",
   "metadata": {},
   "source": [
    "### CV Metrics"
   ]
  },
  {
   "cell_type": "code",
   "execution_count": 16,
   "metadata": {
    "ExecuteTime": {
     "end_time": "2018-10-04T20:32:37.359989Z",
     "start_time": "2018-10-04T20:32:37.357919Z"
    }
   },
   "outputs": [],
   "source": [
    "metrics = {'accuracy': 'balanced_accuracy',\n",
    "           'precision': 'precision_weighted',\n",
    "           'recall': 'recall_weighted',\n",
    "           'f1': 'f1_weighted',\n",
    "           'neg_log_loss': 'neg_log_loss',\n",
    "           'auc': 'roc_auc'\n",
    "}"
   ]
  },
  {
   "cell_type": "code",
   "execution_count": 17,
   "metadata": {
    "ExecuteTime": {
     "end_time": "2018-10-04T20:32:37.834228Z",
     "start_time": "2018-10-04T20:32:37.831531Z"
    }
   },
   "outputs": [],
   "source": [
    "def run_cv(clf, X=X_dummies, y=y, metrics=metrics, cv=cv, fit_params=None):\n",
    "    return cross_validate(estimator=clf,\n",
    "                          X=X,\n",
    "                          y=y,\n",
    "                          scoring=metrics,\n",
    "                          cv=cv,\n",
    "                          return_train_score=True,\n",
    "                          n_jobs=-1,\n",
    "                          verbose=1,\n",
    "                          fit_params=fit_params)"
   ]
  },
  {
   "cell_type": "markdown",
   "metadata": {},
   "source": [
    "### CV Result Handler Functions"
   ]
  },
  {
   "cell_type": "code",
   "execution_count": 18,
   "metadata": {
    "ExecuteTime": {
     "end_time": "2018-10-04T20:32:39.886034Z",
     "start_time": "2018-10-04T20:32:39.881786Z"
    }
   },
   "outputs": [],
   "source": [
    "def stack_results(scores):\n",
    "    columns = pd.MultiIndex.from_tuples(\n",
    "        [tuple(m.split('_', 1)) for m in scores.keys()],\n",
    "        names=['Dataset', 'Metric'])\n",
    "    data = np.array(list(scores.values())).T\n",
    "    df = (pd.DataFrame(data=data,\n",
    "                       columns=columns)\n",
    "          .iloc[:, 2:])\n",
    "    results = pd.melt(df, value_name='Value')\n",
    "    results.Metric = results.Metric.apply(lambda x: ' '.join([m.capitalize() for m in x.split('_')]))\n",
    "    results.Dataset = results.Dataset.str.capitalize()\n",
    "    return results"
   ]
  },
  {
   "cell_type": "code",
   "execution_count": 19,
   "metadata": {
    "ExecuteTime": {
     "end_time": "2018-10-04T20:32:40.006573Z",
     "start_time": "2018-10-04T20:32:40.002660Z"
    }
   },
   "outputs": [],
   "source": [
    "def plot_result(df, model=None):\n",
    "    g = sns.catplot(x='Dataset', \n",
    "                    y='Value', \n",
    "                    hue='Dataset', \n",
    "                    col='Metric',\n",
    "                    data=df, \n",
    "                    order=['Train', 'Test'],\n",
    "                    kind=\"box\", \n",
    "                    col_wrap=3,\n",
    "                    sharey=False,\n",
    "                    height=4, aspect=1.2)\n",
    "    fig = g.fig\n",
    "    fig.suptitle(model, fontsize=18)\n",
    "    fig.subplots_adjust(top=.9);"
   ]
  },
  {
   "cell_type": "markdown",
   "metadata": {},
   "source": [
    "## RandomForest"
   ]
  },
  {
   "cell_type": "markdown",
   "metadata": {},
   "source": [
    "### Configure"
   ]
  },
  {
   "cell_type": "code",
   "execution_count": null,
   "metadata": {
    "ExecuteTime": {
     "end_time": "2018-10-04T05:59:17.168272Z",
     "start_time": "2018-10-04T05:59:17.164539Z"
    }
   },
   "outputs": [],
   "source": [
    "rf_clf = RandomForestClassifier(n_estimators=100,             # will change from 10 to 100 in version 0.22 \n",
    "                                criterion='gini', \n",
    "                                max_depth=None, \n",
    "                                min_samples_split=2, \n",
    "                                min_samples_leaf=1, \n",
    "                                min_weight_fraction_leaf=0.0, \n",
    "                                max_features='auto',\n",
    "                                max_leaf_nodes=None, \n",
    "                                min_impurity_decrease=0.0, \n",
    "                                min_impurity_split=None, \n",
    "                                bootstrap=True, \n",
    "                                oob_score=True, \n",
    "                                n_jobs=-1,\n",
    "                                random_state=42, \n",
    "                                verbose=1)"
   ]
  },
  {
   "cell_type": "markdown",
   "metadata": {},
   "source": [
    "### Cross-validate"
   ]
  },
  {
   "cell_type": "code",
   "execution_count": null,
   "metadata": {
    "ExecuteTime": {
     "end_time": "2018-10-04T06:11:39.618339Z",
     "start_time": "2018-10-04T05:59:36.166519Z"
    }
   },
   "outputs": [],
   "source": [
    "rf_cv_result = run_cv(rf_clf, y=y_clean, X=X_dummies_clean)"
   ]
  },
  {
   "cell_type": "markdown",
   "metadata": {},
   "source": [
    "### Plot Results"
   ]
  },
  {
   "cell_type": "code",
   "execution_count": null,
   "metadata": {
    "ExecuteTime": {
     "end_time": "2018-10-04T06:11:39.630937Z",
     "start_time": "2018-10-04T06:11:39.619914Z"
    }
   },
   "outputs": [],
   "source": [
    "rf_result = stack_results(rf_cv_result)\n",
    "rf_result.groupby(['Metric', 'Dataset']).Value.mean().unstack()"
   ]
  },
  {
   "cell_type": "code",
   "execution_count": null,
   "metadata": {
    "ExecuteTime": {
     "end_time": "2018-10-04T06:11:40.307294Z",
     "start_time": "2018-10-04T06:11:39.631955Z"
    }
   },
   "outputs": [],
   "source": [
    "plot_result(rf_result, model='Random Forest')"
   ]
  },
  {
   "cell_type": "markdown",
   "metadata": {},
   "source": [
    "## sklearn: GradientBoostingClassifier"
   ]
  },
  {
   "cell_type": "markdown",
   "metadata": {},
   "source": [
    "### Configure"
   ]
  },
  {
   "cell_type": "code",
   "execution_count": null,
   "metadata": {
    "ExecuteTime": {
     "end_time": "2018-10-04T06:38:45.947801Z",
     "start_time": "2018-10-04T06:38:45.940953Z"
    }
   },
   "outputs": [],
   "source": [
    "gb_clf = GradientBoostingClassifier(loss='deviance',                # deviance = logistic reg; exponential: AdaBoost\n",
    "                                    learning_rate=0.1,              # shrinks the contribution of each tree\n",
    "                                    n_estimators=100,               # number of boosting stages\n",
    "                                    subsample=1.0,                  # fraction of samples used t fit base learners\n",
    "                                    criterion='friedman_mse',       # measures the quality of a split\n",
    "                                    min_samples_split=2,            \n",
    "                                    min_samples_leaf=1, \n",
    "                                    min_weight_fraction_leaf=0.0,   # min. fraction of sum of weights\n",
    "                                    max_depth=3,                    # opt value depends on interaction\n",
    "                                    min_impurity_decrease=0.0, \n",
    "                                    min_impurity_split=None, \n",
    "                                    init=None, \n",
    "                                    random_state=None, \n",
    "                                    max_features=None, \n",
    "                                    verbose=0, \n",
    "                                    max_leaf_nodes=None, \n",
    "                                    warm_start=False, \n",
    "                                    presort='auto', \n",
    "                                    validation_fraction=0.1, \n",
    "                                    n_iter_no_change=None, \n",
    "                                    tol=0.0001)"
   ]
  },
  {
   "cell_type": "markdown",
   "metadata": {},
   "source": [
    "### Cross-validate"
   ]
  },
  {
   "cell_type": "code",
   "execution_count": null,
   "metadata": {
    "ExecuteTime": {
     "end_time": "2018-10-04T06:50:39.182029Z",
     "start_time": "2018-10-04T06:38:45.949055Z"
    }
   },
   "outputs": [],
   "source": [
    "gb_cv_result = run_cv(gb_clf, y=y_clean, X=X_dummies_clean)"
   ]
  },
  {
   "cell_type": "markdown",
   "metadata": {},
   "source": [
    "### Plot Results"
   ]
  },
  {
   "cell_type": "code",
   "execution_count": null,
   "metadata": {
    "ExecuteTime": {
     "end_time": "2018-10-04T06:50:39.194825Z",
     "start_time": "2018-10-04T06:50:39.183527Z"
    }
   },
   "outputs": [],
   "source": [
    "gb_result = stack_results(gb_cv_result)\n",
    "gb_result.groupby(['Metric', 'Dataset']).Value.mean().unstack()"
   ]
  },
  {
   "cell_type": "code",
   "execution_count": null,
   "metadata": {
    "ExecuteTime": {
     "end_time": "2018-10-04T06:50:39.887369Z",
     "start_time": "2018-10-04T06:50:39.196338Z"
    }
   },
   "outputs": [],
   "source": [
    "plot_result(gb_result, model='Gradient Boosting Classifier')"
   ]
  },
  {
   "cell_type": "markdown",
   "metadata": {},
   "source": [
    "## XGBoost"
   ]
  },
  {
   "cell_type": "markdown",
   "metadata": {},
   "source": [
    "### Configure Baseline Parameters"
   ]
  },
  {
   "cell_type": "code",
   "execution_count": 29,
   "metadata": {
    "ExecuteTime": {
     "end_time": "2018-10-04T20:53:46.899991Z",
     "start_time": "2018-10-04T20:53:46.894172Z"
    }
   },
   "outputs": [],
   "source": [
    "xgb_params = dict(\n",
    "    objective='binary:logistic',\n",
    "    eval_metric=['logloss', 'auc'],\n",
    "    tree_method='gpu_hist',\n",
    "    eta=0.3,\n",
    "    gamma=0,\n",
    "    max_depth=6,\n",
    "    min_child_weight=1,\n",
    "    max_delta_step=0,\n",
    "    subsample=1,\n",
    "    colsample_bytree=1,\n",
    "    colsample_bylevel=1,\n",
    "    alpha=0,\n",
    "    n_jobs=-1,\n",
    "    silent=1,\n",
    "    seed=42)\n",
    "xgb_params['lambda'] = 1  # reserved keyword\n",
    "\n",
    "cv_sets = ['train', 'eval']\n",
    "num_boost_rounds = 250\n",
    "early_stopping = 25"
   ]
  },
  {
   "cell_type": "markdown",
   "metadata": {},
   "source": [
    "### Adaptive Learning Rate Callback"
   ]
  },
  {
   "cell_type": "code",
   "execution_count": 31,
   "metadata": {
    "ExecuteTime": {
     "end_time": "2018-10-04T20:56:29.582623Z",
     "start_time": "2018-10-04T20:56:29.580642Z"
    }
   },
   "outputs": [],
   "source": [
    "def adaptive_learning_rate(n, ntot=num_boost_rounds):\n",
    "    start_eta = 0.1\n",
    "    k = 8 / ntot\n",
    "    x0 = ntot / 1.8\n",
    "    return start_eta * (1 - 1 / (1 + np.exp(-k * (n - x0))))"
   ]
  },
  {
   "cell_type": "code",
   "execution_count": 35,
   "metadata": {
    "ExecuteTime": {
     "end_time": "2018-10-04T21:09:50.429074Z",
     "start_time": "2018-10-04T21:09:50.260904Z"
    }
   },
   "outputs": [
    {
     "data": {
      "image/png": "[encoded data removed]",
      "text/plain": [
       "<Figure size 432x288 with 1 Axes>"
      ]
     },
     "metadata": {},
     "output_type": "display_data"
    }
   ],
   "source": [
    "ntot = num_boost_rounds\n",
    "n = np.arange(num_boost_rounds)\n",
    "pd.Series(adaptive_learning_rate(n=n, ntot=ntot)).plot(title='Adaptive Learning Rate', lw=2)\n",
    "plt.xlabel('Boost Rounds')\n",
    "plt.ylabel('Eta');"
   ]
  },
  {
   "cell_type": "markdown",
   "metadata": {},
   "source": [
    "### Create custom data format"
   ]
  },
  {
   "cell_type": "code",
   "execution_count": null,
   "metadata": {},
   "outputs": [],
   "source": [
    "xgb_datasets = {}\n",
    "for fold, (train_idx, test_idx) in enumerate(cv.split(X)):\n",
    "    xgb_datasets[fold] = {'train': xgb.DMatrix(label=y.iloc[train_idx], data=X.iloc[train_idx], nthread=-1),\n",
    "                      'eval' : xgb.DMatrix(label=y.iloc[test_idx], data=X.iloc[test_idx], nthread=-1)}"
   ]
  },
  {
   "cell_type": "code",
   "execution_count": null,
   "metadata": {},
   "outputs": [],
   "source": [
    "xgb_results = ['learning_curve', 'feature_importance', 'cv_result']\n",
    "xgb_cv_results = {result: pd.DataFrame() for result in xgb_results}\n",
    "xgb_models = pd.DataFrame()"
   ]
  },
  {
   "cell_type": "markdown",
   "metadata": {},
   "source": [
    "### Cross-Validation"
   ]
  },
  {
   "cell_type": "code",
   "execution_count": null,
   "metadata": {
    "ExecuteTime": {
     "end_time": "2018-10-04T19:47:02.239656Z",
     "start_time": "2018-10-04T19:47:02.234149Z"
    }
   },
   "outputs": [],
   "source": [
    "def run_cv(test_params, data, n_splits=10):\n",
    "    \"\"\"Train-Validate with early stopping\"\"\"\n",
    "    df = {r: pd.DataFrame() for r in xgb_results}\n",
    "\n",
    "    for fold in range(n_splits):\n",
    "        dtrain = data[fold]['train']\n",
    "        dtest = data[fold]['eval']\n",
    "\n",
    "        watchlist = list(zip([dtrain, dtest], cv_sets))\n",
    "        scores = {}\n",
    "\n",
    "        model = xgb.train(params=test_params,\n",
    "                          dtrain=dtrain,\n",
    "                          num_boost_round=num_boost_rounds,\n",
    "                          verbose_eval=50,\n",
    "                          evals=watchlist,\n",
    "                          early_stopping_rounds=early_stopping,\n",
    "                          evals_result=scores,\n",
    "                          callbacks=[reset_learning_rate(learning_rate)])\n",
    "\n",
    "        df['cv_result'] = pd.concat([df['cv_result'],\n",
    "                                     pd.DataFrame({\n",
    "                                         'predictions': model.predict(dtest),\n",
    "                                         'actuals'    : dtest.get_label(),\n",
    "                                     }).assign(fold=fold)])\n",
    "\n",
    "        df['learning_curve'] = pd.concat([df['learning_curve'],\n",
    "                                          (pd.concat([pd.DataFrame(scores[s]) for s in cv_sets],\n",
    "                                                     axis=1,\n",
    "                                                     keys=cv_sets)\n",
    "                                           .assign(fold=fold))])\n",
    "\n",
    "        df['feature_importance'] = (pd.concat([df['feature_importance'],\n",
    "                                               pd.Series(model.get_score(importance_type='gain'))\n",
    "                                              .to_frame('fi')\n",
    "                                              .assign(fold=fold)]))\n",
    "    return df\n"
   ]
  },
  {
   "cell_type": "markdown",
   "metadata": {},
   "source": [
    "### Parameter Grid"
   ]
  },
  {
   "cell_type": "code",
   "execution_count": null,
   "metadata": {},
   "outputs": [],
   "source": [
    "boosters = ['gbtree', 'dart']\n",
    "tree_methods = ['gpu_exact', 'gpu_hist']\n",
    "max_depths = [3, 5, 7, 9, 11, 13, 15]\n",
    "etas = [.01, .1]\n",
    "gammas = [0, 1, 5]\n",
    "colsample_bytrees = [.5, .7, 1]\n",
    "n_models = len(boosters) * len(tree_methods) * len(max_depths) * len(etas) * len(colsample_bytrees)"
   ]
  },
  {
   "cell_type": "markdown",
   "metadata": {},
   "source": [
    "### Run grid search"
   ]
  },
  {
   "cell_type": "code",
   "execution_count": null,
   "metadata": {
    "ExecuteTime": {
     "end_time": "2018-10-04T06:51:10.832259Z",
     "start_time": "2018-10-04T06:50:39.888944Z"
    }
   },
   "outputs": [],
   "source": [
    "start = time()\n",
    "n = 0\n",
    "for booster in boosters:\n",
    "    for tree_method in tree_methods:\n",
    "        for max_depth in max_depths:\n",
    "            for eta in etas:\n",
    "                for gamma in gammas:\n",
    "                    for colsample_bytree in colsample_bytrees:\n",
    "                        iteration = time()\n",
    "                        cv_params = xgb_params.copy()\n",
    "                        train_params = dict(max_depth=max_depth,\n",
    "                                            eta=eta,\n",
    "                                            gamma=gamma,\n",
    "                                            colsample_bytree=colsample_bytree,\n",
    "                                            tree_method=tree_method,\n",
    "                                            booster=booster)\n",
    "                        cv_params.update(train_params)\n",
    "\n",
    "                        cv_result = run_cv(test_params=cv_params,\n",
    "                                           data=xgb_datasets,\n",
    "                                           n_splits=n_splits)\n",
    "\n",
    "                        for result, data in cv_result.items():\n",
    "                            xgb_cv_results[result] = pd.concat([cv_results[result],\n",
    "                                                                data.assign(model=n)])\n",
    "\n",
    "                        out = f'\\n\\tModel: {n} of {n_models} | '\n",
    "                        out += f'Iteration: {format_time(time() - iteration)} | '\n",
    "                        print(out + f'Total: {format_time(time() - start)}\\n')\n",
    "\n",
    "                        cv_params['time'] = time() - iteration\n",
    "                        xgb_models[n] = pd.Series(cv_params)\n",
    "                        n += 1"
   ]
  },
  {
   "cell_type": "markdown",
   "metadata": {},
   "source": [
    "### Capture Results"
   ]
  },
  {
   "cell_type": "code",
   "execution_count": null,
   "metadata": {
    "ExecuteTime": {
     "end_time": "2018-10-04T16:05:03.783915Z",
     "start_time": "2018-10-04T16:05:03.772126Z"
    }
   },
   "outputs": [],
   "source": [
    "xgb_cv_results['learning_curve'].columns = pd.MultiIndex.from_tuples(xgb_cv_results['learning_curve'].columns)\n",
    "with pd.HDFStore('model_tuning.h5') as store:\n",
    "    for result, data in xgb_cv_results.items():\n",
    "        store.put(f'xgboost/{result}', data)\n",
    "    store.put('xgboost/models', xgb_models)"
   ]
  },
  {
   "cell_type": "markdown",
   "metadata": {},
   "source": [
    "## LightGBM"
   ]
  },
  {
   "cell_type": "markdown",
   "metadata": {},
   "source": [
    "### Configure Baseline Parameters"
   ]
  },
  {
   "cell_type": "code",
   "execution_count": 20,
   "metadata": {
    "ExecuteTime": {
     "end_time": "2018-10-04T20:32:49.236342Z",
     "start_time": "2018-10-04T20:32:49.230479Z"
    }
   },
   "outputs": [],
   "source": [
    "lgb_params = dict(boosting='gbdt',\n",
    "                  objective='binary',\n",
    "                  task='train',\n",
    "                  max_bin=63,                # default: 255; lower => speedup\n",
    "                  metric='auc',\n",
    "                  eta=0.1,                   # learning rate\n",
    "                  n_estimators=100,\n",
    "                  max_depth=5,\n",
    "                  num_leaves=31,             # max no of leaves per tree\n",
    "                  colsample_bytree=0.8,      # subsample features; default = 1.0\n",
    "                  bagging_fraction=1.0,      # subsample rows (no replacement)\n",
    "                  bagging_freq=5,\n",
    "                  subsample_for_bin=200000,\n",
    "                  min_split_gain=0.0,        # min gain for split (~gamma xgboost)\n",
    "                  min_child_weight=0.001,    # min sum hessian in leaf\n",
    "                  min_data_in_leaf=20,\n",
    "                  reg_alpha=0.0,\n",
    "                  reg_lambda=0.0,\n",
    "                  is_unbalance=False,\n",
    "                  device='gpu',\n",
    "                  n_jobs=-1,\n",
    "                  verbose=1,                 # level: info (vs debug(>1)/error(=0))\n",
    "                  random_state=42)"
   ]
  },
  {
   "cell_type": "markdown",
   "metadata": {},
   "source": [
    "### Create custom data format"
   ]
  },
  {
   "cell_type": "code",
   "execution_count": 23,
   "metadata": {
    "ExecuteTime": {
     "end_time": "2018-10-04T20:33:24.728976Z",
     "start_time": "2018-10-04T20:33:24.226352Z"
    }
   },
   "outputs": [],
   "source": [
    "lgb_datasets = {}\n",
    "for fold, (train_idx, test_idx) in enumerate(cv.split(X_factors)):\n",
    "    train = lgb.Dataset(label=y.iloc[train_idx],\n",
    "                        data=X_factors.iloc[train_idx],\n",
    "                        categorical_feature=cat_cols)\n",
    "\n",
    "    # align validation set histograms with training set\n",
    "    valid = train.create_valid(label=y.iloc[test_idx],\n",
    "                               data=X_factors.iloc[test_idx])\n",
    "\n",
    "    lgb_datasets[fold] = {'train': train,\n",
    "                          'eval': valid,\n",
    "                          'predict': X_factors.iloc[test_idx]}"
   ]
  },
  {
   "cell_type": "code",
   "execution_count": 36,
   "metadata": {
    "ExecuteTime": {
     "end_time": "2018-10-04T21:14:21.995649Z",
     "start_time": "2018-10-04T21:14:21.991968Z"
    }
   },
   "outputs": [],
   "source": [
    "lgb_results = ['feature_importance', 'cv_result']\n",
    "lgb_cv_results = {result: pd.DataFrame() for result in lgb_results}\n",
    "lgb_models = pd.DataFrame()"
   ]
  },
  {
   "cell_type": "markdown",
   "metadata": {},
   "source": [
    "### Cross-Validation"
   ]
  },
  {
   "cell_type": "code",
   "execution_count": 34,
   "metadata": {
    "ExecuteTime": {
     "end_time": "2018-10-04T21:00:48.503469Z",
     "start_time": "2018-10-04T21:00:48.498295Z"
    }
   },
   "outputs": [],
   "source": [
    "def run_cv(test_params, data, num_boost_rounds=num_boost_rounds, early_stopping=early_stopping, n_splits=10):\n",
    "    \"\"\"Train-Validate with early stopping\"\"\"\n",
    "    df = {r: pd.DataFrame() for r in lgb_results}\n",
    "\n",
    "    for fold in range(n_splits):\n",
    "        lgb_train = data[fold]['train']\n",
    "        lgb_test = data[fold]['eval']\n",
    "        X_test = data[fold]['predict']\n",
    "        scores = {}\n",
    "\n",
    "        model = lgb.train(params=test_params,\n",
    "                          train_set=lgb_train,\n",
    "                          num_boost_round=num_boost_rounds,\n",
    "                          valid_sets=[lgb_train, lgb_test],\n",
    "                          valid_names=['train', 'eval'],\n",
    "                          verbose_eval=50,\n",
    "                          early_stopping_rounds=early_stopping,\n",
    "                          evals_result=scores)\n",
    "\n",
    "        df['cv_result'] = pd.concat([df['cv_result'],\n",
    "                                     pd.DataFrame({\n",
    "                                         'predictions': model.predict(X_test),\n",
    "                                         'actuals'    : lgb_test.get_label(),\n",
    "                                     }).assign(fold=fold)])\n",
    "\n",
    "        df['feature_importance'] = (pd.concat([df['feature_importance'],\n",
    "                                               pd.Series(model.feature_importance(importance_type='gain'))\n",
    "                                              .to_frame('fi')\n",
    "                                              .assign(fold=fold)]))\n",
    "    return df\n"
   ]
  },
  {
   "cell_type": "markdown",
   "metadata": {},
   "source": [
    "### Parameter Grid"
   ]
  },
  {
   "cell_type": "code",
   "execution_count": 25,
   "metadata": {
    "ExecuteTime": {
     "end_time": "2018-10-04T20:46:09.796825Z",
     "start_time": "2018-10-04T20:46:09.793595Z"
    }
   },
   "outputs": [],
   "source": [
    "boostings = ['gbdt', 'dart', 'rf']\n",
    "max_depths = [-1, 7, 12]\n",
    "num_leavess = [2**i for i in [3, 4, 5, 6, 7]]\n",
    "etas = [.01, .1]\n",
    "min_data_in_leaves = [20, 100, 500]\n",
    "n_models = len(boosting) * len(max_depths) * len(num_leavess)* len(etas) * len(min_data_in_leaf)"
   ]
  },
  {
   "cell_type": "markdown",
   "metadata": {},
   "source": [
    "### Run grid search"
   ]
  },
  {
   "cell_type": "code",
   "execution_count": null,
   "metadata": {
    "ExecuteTime": {
     "end_time": "2018-10-04T06:52:08.188824Z",
     "start_time": "2018-10-04T06:51:13.822564Z"
    }
   },
   "outputs": [],
   "source": [
    "start = time()\n",
    "n = 0\n",
    "for boosting in boostings:\n",
    "    for max_depth in max_depths:\n",
    "        for num_leaves in num_leavess:\n",
    "            for eta in etas:\n",
    "                for min_data_in_leaf in min_data_in_leaves:\n",
    "                    iteration = time()\n",
    "                    cv_params = lgb_params.copy()\n",
    "                    train_params = dict(boosting=boosting,\n",
    "                                        max_depth=max_depth,\n",
    "                                        num_leaves=num_leaves,\n",
    "                                        eta=eta,\n",
    "                                        min_data_in_leaf=min_data_in_leaf)\n",
    "                    cv_params.update(train_params)\n",
    "\n",
    "                    cv_result = run_cv(test_params=cv_params,\n",
    "                                       data=lgb_datasets,\n",
    "                                       n_splits=n_splits)\n",
    "\n",
    "                    for result, data in cv_result.items():\n",
    "                        lgb_cv_results[result] = pd.concat([lgb_cv_results[result],\n",
    "                                                            data.assign(model=n)])\n",
    "\n",
    "                    out = f'\\n\\tModel: {n} of {n_models} | '\n",
    "                    out += f'Iteration: {format_time(time() - iteration)} | '\n",
    "                    print(out + f'Total: {format_time(time() - start)}\\n')\n",
    "\n",
    "                    cv_params['time'] = time() - iteration\n",
    "                    lgb_models[n] = pd.Series(cv_params)\n",
    "                    n += 1"
   ]
  },
  {
   "cell_type": "markdown",
   "metadata": {},
   "source": [
    "### Capture Results"
   ]
  },
  {
   "cell_type": "code",
   "execution_count": null,
   "metadata": {},
   "outputs": [],
   "source": [
    "with pd.HDFStore('model_tuning.h5') as store:\n",
    "    for result, data in lgb_cv_results.items():\n",
    "        store.put(f'lgboost/{result}', data)\n",
    "    store.put('lgboost/models', lgb_models)"
   ]
  },
  {
   "cell_type": "markdown",
   "metadata": {},
   "source": [
    "## Catboost"
   ]
  },
  {
   "cell_type": "markdown",
   "metadata": {},
   "source": [
    "### Configure"
   ]
  },
  {
   "cell_type": "code",
   "execution_count": null,
   "metadata": {
    "ExecuteTime": {
     "end_time": "2018-10-04T15:56:49.194871Z",
     "start_time": "2018-10-04T15:56:49.142517Z"
    }
   },
   "outputs": [],
   "source": [
    "cat_params = dict(iterations=500,\n",
    "                  learning_rate=0.03,\n",
    "                  depth=6,\n",
    "                  l2_leaf_reg=3,\n",
    "                  model_size_reg=None,\n",
    "                  rsm=None,                             # Subsample ratio of columns\n",
    "                  loss_function='Logloss',\n",
    "                  border_count=32,                      # number of partitions for Num feature\n",
    "                  # Type of binarization target (for regression)\n",
    "                  feature_border_type='MinEntropy',\n",
    "                  od_pval=None,                         # overfitting detector to stop training\n",
    "                  od_wait=None,                         # No iterations od will wait\n",
    "                  od_type=None,                         # Type of overfitting detector\n",
    "                  # treat missing values as min [max, forbidden]\n",
    "                  nan_mode='Min',\n",
    "                  counter_calc_method=None,             #\n",
    "                  leaf_estimation_iterations=1,\n",
    "                  leaf_estimation_method='Gradient',\n",
    "                  thread_count=None,                    # None: no of cores\n",
    "                  random_seed=None,\n",
    "                  use_best_model=None,\n",
    "                  best_model_min_trees=None,\n",
    "                  verbose=100,\n",
    "                  logging_level='Verbose',\n",
    "                  metric_period=1,\n",
    "                  simple_ctr=None,                      # Binarization settings for categorical features\n",
    "                  ctr_leaf_count_limit=None,\n",
    "                  store_all_simple_ctr=None,\n",
    "                  max_ctr_complexity=1,\n",
    "                  has_time=None,\n",
    "                  allow_const_label=None,\n",
    "                  classes_count=None,\n",
    "                  class_weights=None,\n",
    "                  one_hot_max_size=None,                # Convert the feature to float\n",
    "                  random_strength=None,\n",
    "                  name=None,\n",
    "                  ignored_features=None,\n",
    "                  train_dir=None,\n",
    "                  custom_loss=None,\n",
    "                  custom_metric=None,\n",
    "                  eval_metric='AUC',\n",
    "                  bagging_temperature=None,\n",
    "                  save_snapshot=None,\n",
    "                  snapshot_file=None,\n",
    "                  snapshot_interval=None,\n",
    "                  fold_len_multiplier=None,\n",
    "                  used_ram_limit=None,\n",
    "                  gpu_ram_part=.2,\n",
    "                  pinned_memory_size=None,\n",
    "                  allow_writing_files=None,\n",
    "                  final_ctr_computation_mode=None,\n",
    "                  approx_on_full_history=None,\n",
    "                  boosting_type=None,\n",
    "                  combinations_ctr=None,\n",
    "                  per_feature_ctr=None,\n",
    "                  ctr_description=None,\n",
    "                  task_type='GPU',\n",
    "                  bootstrap_type='Bayesian',\n",
    "                  subsample=None,\n",
    "                  dev_score_calc_obj_block_size=None,\n",
    "                  gpu_cat_features_storage=None,\n",
    "                  data_partition=None,\n",
    "                  metadata=None,\n",
    "                  early_stopping_rounds=None)"
   ]
  },
  {
   "cell_type": "markdown",
   "metadata": {},
   "source": [
    "### Custom data format"
   ]
  },
  {
   "cell_type": "code",
   "execution_count": 39,
   "metadata": {
    "ExecuteTime": {
     "end_time": "2018-10-04T21:35:08.937020Z",
     "start_time": "2018-10-04T21:35:08.933396Z"
    }
   },
   "outputs": [],
   "source": [
    "s = pd.Series(X_factors.columns.tolist())\n",
    "cat_cols_idx = s[s.isin(cat_cols)].index.tolist()"
   ]
  },
  {
   "cell_type": "code",
   "execution_count": 40,
   "metadata": {
    "ExecuteTime": {
     "end_time": "2018-10-04T21:35:28.633774Z",
     "start_time": "2018-10-04T21:35:09.436113Z"
    }
   },
   "outputs": [],
   "source": [
    "cat_datasets = {}\n",
    "for fold, (train_idx, test_idx) in enumerate(cv.split(X_factors)):\n",
    "    train = Pool(label=y.iloc[train_idx],\n",
    "                 data=X_factors.iloc[train_idx],\n",
    "                 cat_features=cat_cols_idx)\n",
    "\n",
    "    valid = Pool(label=y.iloc[test_idx],\n",
    "                 data=X_factors.iloc[test_idx],\n",
    "                 cat_features=cat_cols_idx)\n",
    "\n",
    "    cat_datasets[fold] = {'train': train,\n",
    "                          'eval': valid}"
   ]
  },
  {
   "cell_type": "code",
   "execution_count": 41,
   "metadata": {
    "ExecuteTime": {
     "end_time": "2018-10-04T21:39:36.636034Z",
     "start_time": "2018-10-04T21:39:36.632873Z"
    }
   },
   "outputs": [],
   "source": [
    "cat_results = ['feature_importance', 'cv_result']\n",
    "cat_cv_results = {result: pd.DataFrame() for result in cat_results}\n",
    "cat_models = pd.DataFrame()"
   ]
  },
  {
   "cell_type": "markdown",
   "metadata": {},
   "source": [
    "### Cross-Validate"
   ]
  },
  {
   "cell_type": "code",
   "execution_count": null,
   "metadata": {
    "ExecuteTime": {
     "end_time": "2018-10-04T16:00:59.449072Z",
     "start_time": "2018-10-04T15:59:26.921310Z"
    }
   },
   "outputs": [],
   "source": [
    "def run_cv(test_params, data, num_boost_rounds=num_boost_rounds, early_stopping=early_stopping, n_splits=10):\n",
    "    \"\"\"Train-Validate with early stopping\"\"\"\n",
    "    df = {r: pd.DataFrame() for r in cat_results}\n",
    "    model = CatBoostClassifier(**test_params)\n",
    "\n",
    "    for fold in range(n_splits):\n",
    "        cat_train = data[fold]['train']\n",
    "        cat_test = data[fold]['eval']\n",
    "\n",
    "        scores = {}\n",
    "\n",
    "        model = model.fit(X=cat_train,\n",
    "                          num_boost_round=num_boost_rounds,\n",
    "                          eval_set=[cat_train, cat_test],\n",
    "                          valid_names=['train', 'eval'],\n",
    "                          logging_level='Info',\n",
    "                          early_stopping_rounds=early_stopping)\n",
    "\n",
    "        df['cv_result'] = pd.concat([df['cv_result'],\n",
    "                                     pd.DataFrame({\n",
    "                                         'predictions': model.predict_proba(cat_test),\n",
    "                                         'actuals': cat_test.get_label(),\n",
    "                                     }).assign(fold=fold)])\n",
    "feature_importances = model.get_feature_importance(train_pool)\n",
    "        df['feature_importance'] = (pd.concat([df['feature_importance'],\n",
    "                                               pd.Series(model..get_feature_importance(cat_train, importance_type='gain'))\n",
    "                                               .to_frame('fi')\n",
    "                                               .assign(fold=fold)]))\n",
    "    return df"
   ]
  },
  {
   "cell_type": "markdown",
   "metadata": {},
   "source": [
    "### Plot Results"
   ]
  },
  {
   "cell_type": "code",
   "execution_count": null,
   "metadata": {
    "ExecuteTime": {
     "end_time": "2018-10-04T16:00:59.467222Z",
     "start_time": "2018-10-04T16:00:59.450822Z"
    }
   },
   "outputs": [],
   "source": [
    "cat_result = stack_results(cat_cv_result)\n",
    "cat_result.groupby(['Metric', 'Dataset']).Value.mean().unstack()"
   ]
  },
  {
   "cell_type": "code",
   "execution_count": null,
   "metadata": {
    "ExecuteTime": {
     "end_time": "2018-10-04T16:01:00.199914Z",
     "start_time": "2018-10-04T16:00:59.468713Z"
    }
   },
   "outputs": [],
   "source": [
    "plot_result(cat_result, model='CatBoost')"
   ]
  },
  {
   "cell_type": "code",
   "execution_count": null,
   "metadata": {
    "ExecuteTime": {
     "end_time": "2018-10-04T16:06:34.375878Z",
     "start_time": "2018-10-04T16:06:34.352012Z"
    }
   },
   "outputs": [],
   "source": [
    "results = {'Baseline': dummy_result,\n",
    "          'Random Forest': rf_result,\n",
    "          'AdaBoost': ada_result,\n",
    "          'Gradient Booster': gb_result,\n",
    "          'XG Boost': xbg_result,\n",
    "          'LightGBM': lgb_result,\n",
    "          'CatBoost': cat_result}\n",
    "df = pd.DataFrame()\n",
    "for model, result in results.items():\n",
    "    df = pd.concat([df, result.groupby(['Metric', 'Dataset']).Value.mean().unstack()['Test'].to_frame(model)], axis=1)\n",
    "\n",
    "df.T"
   ]
  },
  {
   "cell_type": "code",
   "execution_count": null,
   "metadata": {},
   "outputs": [],
   "source": []
  }
 ],
 "metadata": {
  "kernelspec": {
   "display_name": "Python 3",
   "language": "python",
   "name": "python3"
  },
  "language_info": {
   "codemirror_mode": {
    "name": "ipython",
    "version": 3
   },
   "file_extension": ".py",
   "mimetype": "text/x-python",
   "name": "python",
   "nbconvert_exporter": "python",
   "pygments_lexer": "ipython3",
   "version": "3.6.4"
  },
  "toc": {
   "base_numbering": 1,
   "nav_menu": {},
   "number_sections": true,
   "sideBar": true,
   "skip_h1_title": false,
   "title_cell": "Table of Contents",
   "title_sidebar": "Contents",
   "toc_cell": false,
   "toc_position": {
    "height": "calc(100% - 180px)",
    "left": "10px",
    "top": "150px",
    "width": "512px"
   },
   "toc_section_display": true,
   "toc_window_display": true
  }
 },
 "nbformat": 4,
 "nbformat_minor": 2
}
