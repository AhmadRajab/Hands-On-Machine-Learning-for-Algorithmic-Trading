{
 "cells": [
  {
   "cell_type": "code",
   "execution_count": 12,
   "metadata": {
    "ExecuteTime": {
     "end_time": "2018-07-09T23:20:03.202880Z",
     "start_time": "2018-07-09T23:20:03.200209Z"
    }
   },
   "outputs": [],
   "source": [
    "from sympy import symbols, solve, log, diff\n",
    "from scipy.optimize import minimize_scalar, newton, minimize\n",
    "from scipy.integrate import quad\n",
    "from scipy.stats import norm\n",
    "import numpy as np"
   ]
  },
  {
   "cell_type": "code",
   "execution_count": 10,
   "metadata": {
    "ExecuteTime": {
     "end_time": "2018-07-09T22:31:51.010436Z",
     "start_time": "2018-07-09T22:31:50.977978Z"
    }
   },
   "outputs": [
    {
     "data": {
      "text/plain": [
       "[(odds*probability + probability - 1)/odds]"
      ]
     },
     "execution_count": 10,
     "metadata": {},
     "output_type": "execute_result"
    }
   ],
   "source": [
    "share, odds, probability = symbols('share odds probability')\n",
    "Value = probability * log(1 + odds * share) + (1 - probability) * log(1 - share)\n",
    "solve(diff(Value, share), share)"
   ]
  },
  {
   "cell_type": "code",
   "execution_count": 7,
   "metadata": {
    "ExecuteTime": {
     "end_time": "2018-07-09T22:28:33.711398Z",
     "start_time": "2018-07-09T22:28:33.697575Z"
    }
   },
   "outputs": [
    {
     "data": {
      "text/plain": [
       "[2*p - 1]"
      ]
     },
     "execution_count": 7,
     "metadata": {},
     "output_type": "execute_result"
    }
   ],
   "source": [
    "f, p = symbols('f p')\n",
    "y = p * log(1 + f) + (1 - p) * log(1 - f)\n",
    "solve(diff(y, f), f)"
   ]
  },
  {
   "cell_type": "code",
   "execution_count": 13,
   "metadata": {
    "ExecuteTime": {
     "end_time": "2018-07-09T23:20:05.127575Z",
     "start_time": "2018-07-09T23:20:05.058499Z"
    }
   },
   "outputs": [
    {
     "name": "stdout",
     "output_type": "stream",
     "text": [
      "Optimal Kelly fraction: 1.1974\n",
      "Optimal Kelly fraction: 1.1974\n"
     ]
    }
   ],
   "source": [
    "def norm_integral(f, m, st):\n",
    "    val, er = quad(lambda s: np.log(1+f*s)*norm.pdf(s, m, st), m-3*st, m+3*st)\n",
    "    return -val\n",
    "\n",
    "\n",
    "def norm_dev_integral(f, m, st):\n",
    "    val, er = quad(lambda s: (s/(1+f*s))*norm.pdf(s, m, st), m-3*st, m+3*st)\n",
    "    return val\n",
    "\n",
    "\n",
    "m = .058\n",
    "s = .216\n",
    "# Option 1: minimize the expectation integral\n",
    "sol = minimize_scalar(norm_integral, args=(\n",
    "    m, s), bounds=[0., 2.], method='bounded')\n",
    "print('Optimal Kelly fraction: {:.4f}'.format(sol.x))\n",
    "\n",
    "# Option 2: take the derivative of the expectation and make it null\n",
    "x0 = newton(norm_dev_integral, .1, args=(m, s))\n",
    "print('Optimal Kelly fraction: {:.4f}'.format(x0))"
   ]
  },
  {
   "cell_type": "code",
   "execution_count": null,
   "metadata": {},
   "outputs": [],
   "source": []
  }
 ],
 "metadata": {
  "kernelspec": {
   "display_name": "Python 3",
   "language": "python",
   "name": "python3"
  },
  "language_info": {
   "codemirror_mode": {
    "name": "ipython",
    "version": 3
   },
   "file_extension": ".py",
   "mimetype": "text/x-python",
   "name": "python",
   "nbconvert_exporter": "python",
   "pygments_lexer": "ipython3",
   "version": "3.6.4"
  },
  "toc": {
   "base_numbering": 1,
   "nav_menu": {},
   "number_sections": true,
   "sideBar": true,
   "skip_h1_title": false,
   "title_cell": "Table of Contents",
   "title_sidebar": "Contents",
   "toc_cell": false,
   "toc_position": {},
   "toc_section_display": true,
   "toc_window_display": false
  }
 },
 "nbformat": 4,
 "nbformat_minor": 2
}
