{
 "cells": [
  {
   "cell_type": "code",
   "execution_count": 63,
   "metadata": {
    "ExecuteTime": {
     "end_time": "2018-10-10T01:28:13.089290Z",
     "start_time": "2018-10-10T01:28:13.086293Z"
    }
   },
   "outputs": [],
   "source": [
    "%matplotlib inline\n",
    "\n",
    "import warnings\n",
    "from pathlib import Path\n",
    "import os\n",
    "from datetime import datetime\n",
    "import numpy as np\n",
    "import pandas as pd\n",
    "\n",
    "import matplotlib.pyplot as plt\n",
    "import seaborn as sns\n",
    "import graphviz\n",
    "\n",
    "from statsmodels.api import OLS, add_constant\n",
    "from sklearn.tree import DecisionTreeRegressor, export_graphviz"
   ]
  },
  {
   "cell_type": "code",
   "execution_count": 2,
   "metadata": {
    "ExecuteTime": {
     "end_time": "2018-10-09T23:39:04.501833Z",
     "start_time": "2018-10-09T23:39:04.496496Z"
    }
   },
   "outputs": [],
   "source": [
    "warnings.filterwarnings('ignore')\n",
    "sns.set_style(\"whitegrid\")\n",
    "np.random.seed(42)"
   ]
  },
  {
   "cell_type": "code",
   "execution_count": 3,
   "metadata": {
    "ExecuteTime": {
     "end_time": "2018-10-09T23:40:44.529400Z",
     "start_time": "2018-10-09T23:40:44.402232Z"
    }
   },
   "outputs": [
    {
     "name": "stdout",
     "output_type": "stream",
     "text": [
      "<class 'pandas.io.pytables.HDFStore'>\n",
      "File path: model_tuning.h5\n",
      "/catboost/factors/results             frame        (shape->[96,64])   \n",
      "/lightgbm/dummies/results             frame        (shape->[216,25])  \n",
      "/lightgbm/factors/results             frame        (shape->[216,25])  \n",
      "/lightgbm/holdout/features            frame        (shape->[16695,84])\n",
      "/lightgbm/holdout/target              series       (shape->[16695])   \n",
      "/xgboost/dummies/results              frame        (shape->[216,20])  \n",
      "/xgboost/holdout/features             frame        (shape->[16695,84])\n",
      "/xgboost/holdout/target               series       (shape->[16695])   \n"
     ]
    }
   ],
   "source": [
    "with pd.HDFStore('model_tuning.h5') as store:\n",
    "    print(store.info())"
   ]
  },
  {
   "cell_type": "code",
   "execution_count": 51,
   "metadata": {
    "ExecuteTime": {
     "end_time": "2018-10-10T01:23:17.648690Z",
     "start_time": "2018-10-10T01:23:17.595752Z"
    }
   },
   "outputs": [
    {
     "name": "stdout",
     "output_type": "stream",
     "text": [
      "<class 'pandas.io.pytables.HDFStore'>\n",
      "File path: results.h5\n",
      "/catboost/factors            frame        (shape->[96,9])  \n",
      "/lightgbm/dummies            frame        (shape->[216,10])\n",
      "/lightgbm/factors            frame        (shape->[216,10])\n",
      "/xgb_lgb                     frame        (shape->[1,12])  \n",
      "/xgboost/dummies             frame        (shape->[1,9])   \n"
     ]
    }
   ],
   "source": [
    "with pd.HDFStore('results.h5') as store:\n",
    "    print(store.info())\n",
    "    df = store['xgb_lgb']"
   ]
  },
  {
   "cell_type": "code",
   "execution_count": 52,
   "metadata": {
    "ExecuteTime": {
     "end_time": "2018-10-10T01:23:46.128893Z",
     "start_time": "2018-10-10T01:23:46.101556Z"
    }
   },
   "outputs": [
    {
     "name": "stdout",
     "output_type": "stream",
     "text": [
      "<class 'pandas.core.frame.DataFrame'>\n",
      "Int64Index: 648 entries, 0 to 647\n",
      "Data columns (total 11 columns):\n",
      "train                648 non-null float64\n",
      "valid                648 non-null float64\n",
      "boosting             648 non-null object\n",
      "learning_rate        648 non-null float64\n",
      "max_depth            648 non-null int64\n",
      "num_leaves           432 non-null float64\n",
      "colsample_bytree     648 non-null float64\n",
      "min_gain_to_split    648 non-null int64\n",
      "rounds               648 non-null float64\n",
      "time                 648 non-null float64\n",
      "model_type           648 non-null object\n",
      "dtypes: float64(7), int64(2), object(2)\n",
      "memory usage: 60.8+ KB\n"
     ]
    }
   ],
   "source": [
    "df['model_type'] = df.model.str.capitalize().str.cat(df.data.str.capitalize(), sep=' ')\n",
    "df = df.drop(['model', 'data'], axis=1)\n",
    "df.info()"
   ]
  },
  {
   "cell_type": "markdown",
   "metadata": {},
   "source": [
    "## XGB Parameter Usage"
   ]
  },
  {
   "cell_type": "code",
   "execution_count": 53,
   "metadata": {
    "ExecuteTime": {
     "end_time": "2018-10-10T01:23:52.546858Z",
     "start_time": "2018-10-10T01:23:52.528996Z"
    }
   },
   "outputs": [],
   "source": [
    "reg_tree = DecisionTreeRegressor(criterion='mse',\n",
    "                                 splitter='best',\n",
    "                                 max_depth=4,\n",
    "                                 min_samples_split=5,\n",
    "                                 min_samples_leaf=10,\n",
    "                                 min_weight_fraction_leaf=0.0,\n",
    "                                 max_features=None,\n",
    "                                 random_state=42,\n",
    "                                 max_leaf_nodes=None,\n",
    "                                 min_impurity_decrease=0.0,\n",
    "                                 min_impurity_split=None,\n",
    "                                 presort=False)"
   ]
  },
  {
   "cell_type": "code",
   "execution_count": 61,
   "metadata": {
    "ExecuteTime": {
     "end_time": "2018-10-10T01:27:31.297341Z",
     "start_time": "2018-10-10T01:27:31.216809Z"
    }
   },
   "outputs": [
    {
     "data": {
      "text/plain": [
       "DecisionTreeRegressor(criterion='mse', max_depth=4, max_features=None,\n",
       "           max_leaf_nodes=None, min_impurity_decrease=0.0,\n",
       "           min_impurity_split=None, min_samples_leaf=10,\n",
       "           min_samples_split=5, min_weight_fraction_leaf=0.0,\n",
       "           presort=False, random_state=42, splitter='best')"
      ]
     },
     "execution_count": 61,
     "metadata": {},
     "output_type": "execute_result"
    }
   ],
   "source": [
    "xgb_data = df[(df.model_type=='Xgb Dummies')]\n",
    "xgb_data.boosting = pd.factorize(xgb_data.boosting)[0]\n",
    "xgb_features = ['boosting', 'learning_rate', 'max_depth', 'colsample_bytree', 'min_gain_to_split']\n",
    "reg_tree.fit(X=xgb_data[features], y=xgb_data.valid)"
   ]
  },
  {
   "cell_type": "code",
   "execution_count": 73,
   "metadata": {
    "ExecuteTime": {
     "end_time": "2018-10-10T01:37:05.408885Z",
     "start_time": "2018-10-10T01:37:05.258653Z"
    }
   },
   "outputs": [
    {
     "data": {
      "image/png": "[encoded data removed]",
      "text/plain": [
       "<Figure size 432x288 with 1 Axes>"
      ]
     },
     "metadata": {},
     "output_type": "display_data"
    }
   ],
   "source": [
    "pd.Series(reg_tree.feature_importances_, index=xgb_features).sort_values().plot.barh();"
   ]
  },
  {
   "cell_type": "code",
   "execution_count": 71,
   "metadata": {
    "ExecuteTime": {
     "end_time": "2018-10-10T01:33:41.437659Z",
     "start_time": "2018-10-10T01:33:41.382127Z"
    }
   },
   "outputs": [
    {
     "data": {
      "image/svg+xml": [
       "<?xml version=\"1.0\" encoding=\"UTF-8\" standalone=\"no\"?>\n",
       "<!DOCTYPE svg PUBLIC \"-//W3C//DTD SVG 1.1//EN\"\n",
       " \"http://www.w3.org/Graphics/SVG/1.1/DTD/svg11.dtd\">\n",
       "<!-- Generated by graphviz version 2.40.1 (20161225.0304)\n",
       " -->\n",
       "<!-- Title: Tree Pages: 1 -->\n",
       "<svg width=\"1091pt\" height=\"477pt\"\n",
       " viewBox=\"0.00 0.00 1091.00 477.00\" xmlns=\"http://www.w3.org/2000/svg\" xmlns:xlink=\"http://www.w3.org/1999/xlink\">\n",
       "<g id=\"graph0\" class=\"graph\" transform=\"scale(1 1) rotate(0) translate(4 473)\">\n",
       "<title>Tree</title>\n",
       "<polygon fill=\"#ffffff\" stroke=\"transparent\" points=\"-4,4 -4,-473 1087,-473 1087,4 -4,4\"/>\n",
       "<!-- 0 -->\n",
       "<g id=\"node1\" class=\"node\">\n",
       "<title>0</title>\n",
       "<path fill=\"#e58139\" fill-opacity=\"0.776471\" stroke=\"#000000\" d=\"M522.5,-469C522.5,-469 401.5,-469 401.5,-469 395.5,-469 389.5,-463 389.5,-457 389.5,-457 389.5,-413 389.5,-413 389.5,-407 395.5,-401 401.5,-401 401.5,-401 522.5,-401 522.5,-401 528.5,-401 534.5,-407 534.5,-413 534.5,-413 534.5,-457 534.5,-457 534.5,-463 528.5,-469 522.5,-469\"/>\n",
       "<text text-anchor=\"start\" x=\"397.5\" y=\"-453.8\" font-family=\"Helvetica,sans-Serif\" font-size=\"14.00\" fill=\"#000000\">learning_rate ≤ 0.055</text>\n",
       "<text text-anchor=\"start\" x=\"424\" y=\"-438.8\" font-family=\"Helvetica,sans-Serif\" font-size=\"14.00\" fill=\"#000000\">mse = 0.001</text>\n",
       "<text text-anchor=\"start\" x=\"417\" y=\"-423.8\" font-family=\"Helvetica,sans-Serif\" font-size=\"14.00\" fill=\"#000000\">samples = 216</text>\n",
       "<text text-anchor=\"start\" x=\"421\" y=\"-408.8\" font-family=\"Helvetica,sans-Serif\" font-size=\"14.00\" fill=\"#000000\">value = 0.653</text>\n",
       "</g>\n",
       "<!-- 1 -->\n",
       "<g id=\"node2\" class=\"node\">\n",
       "<title>1</title>\n",
       "<path fill=\"#e58139\" fill-opacity=\"0.423529\" stroke=\"#000000\" d=\"M417,-365C417,-365 283,-365 283,-365 277,-365 271,-359 271,-353 271,-353 271,-309 271,-309 271,-303 277,-297 283,-297 283,-297 417,-297 417,-297 423,-297 429,-303 429,-309 429,-309 429,-353 429,-353 429,-359 423,-365 417,-365\"/>\n",
       "<text text-anchor=\"start\" x=\"279\" y=\"-349.8\" font-family=\"Helvetica,sans-Serif\" font-size=\"14.00\" fill=\"#000000\">colsample_bytree ≤ 0.9</text>\n",
       "<text text-anchor=\"start\" x=\"312\" y=\"-334.8\" font-family=\"Helvetica,sans-Serif\" font-size=\"14.00\" fill=\"#000000\">mse = 0.001</text>\n",
       "<text text-anchor=\"start\" x=\"309\" y=\"-319.8\" font-family=\"Helvetica,sans-Serif\" font-size=\"14.00\" fill=\"#000000\">samples = 72</text>\n",
       "<text text-anchor=\"start\" x=\"309\" y=\"-304.8\" font-family=\"Helvetica,sans-Serif\" font-size=\"14.00\" fill=\"#000000\">value = 0.615</text>\n",
       "</g>\n",
       "<!-- 0&#45;&gt;1 -->\n",
       "<g id=\"edge1\" class=\"edge\">\n",
       "<title>0&#45;&gt;1</title>\n",
       "<path fill=\"none\" stroke=\"#000000\" d=\"M425.327,-400.9465C415.3677,-391.6986 404.4789,-381.5876 394.1532,-371.9994\"/>\n",
       "<polygon fill=\"#000000\" stroke=\"#000000\" points=\"396.4649,-369.3698 386.7554,-365.13 391.7018,-374.4993 396.4649,-369.3698\"/>\n",
       "<text text-anchor=\"middle\" x=\"387.6807\" y=\"-386.4129\" font-family=\"Helvetica,sans-Serif\" font-size=\"14.00\" fill=\"#000000\">True</text>\n",
       "</g>\n",
       "<!-- 10 -->\n",
       "<g id=\"node11\" class=\"node\">\n",
       "<title>10</title>\n",
       "<path fill=\"#e58139\" fill-opacity=\"0.952941\" stroke=\"#000000\" d=\"M635.5,-365C635.5,-365 540.5,-365 540.5,-365 534.5,-365 528.5,-359 528.5,-353 528.5,-353 528.5,-309 528.5,-309 528.5,-303 534.5,-297 540.5,-297 540.5,-297 635.5,-297 635.5,-297 641.5,-297 647.5,-303 647.5,-309 647.5,-309 647.5,-353 647.5,-353 647.5,-359 641.5,-365 635.5,-365\"/>\n",
       "<text text-anchor=\"start\" x=\"536.5\" y=\"-349.8\" font-family=\"Helvetica,sans-Serif\" font-size=\"14.00\" fill=\"#000000\">max_depth ≤ 4.0</text>\n",
       "<text text-anchor=\"start\" x=\"557.5\" y=\"-334.8\" font-family=\"Helvetica,sans-Serif\" font-size=\"14.00\" fill=\"#000000\">mse = 0.0</text>\n",
       "<text text-anchor=\"start\" x=\"543\" y=\"-319.8\" font-family=\"Helvetica,sans-Serif\" font-size=\"14.00\" fill=\"#000000\">samples = 144</text>\n",
       "<text text-anchor=\"start\" x=\"547\" y=\"-304.8\" font-family=\"Helvetica,sans-Serif\" font-size=\"14.00\" fill=\"#000000\">value = 0.672</text>\n",
       "</g>\n",
       "<!-- 0&#45;&gt;10 -->\n",
       "<g id=\"edge10\" class=\"edge\">\n",
       "<title>0&#45;&gt;10</title>\n",
       "<path fill=\"none\" stroke=\"#000000\" d=\"M503.2571,-400.9465C514.5701,-391.6088 526.9492,-381.3911 538.6658,-371.7203\"/>\n",
       "<polygon fill=\"#000000\" stroke=\"#000000\" points=\"541.1659,-374.195 546.6502,-365.13 536.71,-368.7964 541.1659,-374.195\"/>\n",
       "<text text-anchor=\"middle\" x=\"544.2698\" y=\"-386.3164\" font-family=\"Helvetica,sans-Serif\" font-size=\"14.00\" fill=\"#000000\">False</text>\n",
       "</g>\n",
       "<!-- 2 -->\n",
       "<g id=\"node3\" class=\"node\">\n",
       "<title>2</title>\n",
       "<path fill=\"#e58139\" fill-opacity=\"0.650980\" stroke=\"#000000\" d=\"M226.5,-261C226.5,-261 131.5,-261 131.5,-261 125.5,-261 119.5,-255 119.5,-249 119.5,-249 119.5,-205 119.5,-205 119.5,-199 125.5,-193 131.5,-193 131.5,-193 226.5,-193 226.5,-193 232.5,-193 238.5,-199 238.5,-205 238.5,-205 238.5,-249 238.5,-249 238.5,-255 232.5,-261 226.5,-261\"/>\n",
       "<text text-anchor=\"start\" x=\"127.5\" y=\"-245.8\" font-family=\"Helvetica,sans-Serif\" font-size=\"14.00\" fill=\"#000000\">max_depth ≤ 6.0</text>\n",
       "<text text-anchor=\"start\" x=\"141\" y=\"-230.8\" font-family=\"Helvetica,sans-Serif\" font-size=\"14.00\" fill=\"#000000\">mse = 0.001</text>\n",
       "<text text-anchor=\"start\" x=\"138\" y=\"-215.8\" font-family=\"Helvetica,sans-Serif\" font-size=\"14.00\" fill=\"#000000\">samples = 36</text>\n",
       "<text text-anchor=\"start\" x=\"141.5\" y=\"-200.8\" font-family=\"Helvetica,sans-Serif\" font-size=\"14.00\" fill=\"#000000\">value = 0.64</text>\n",
       "</g>\n",
       "<!-- 1&#45;&gt;2 -->\n",
       "<g id=\"edge2\" class=\"edge\">\n",
       "<title>1&#45;&gt;2</title>\n",
       "<path fill=\"none\" stroke=\"#000000\" d=\"M294.0082,-296.9465C277.9168,-287.1599 260.2359,-276.4066 243.6666,-266.3294\"/>\n",
       "<polygon fill=\"#000000\" stroke=\"#000000\" points=\"245.4802,-263.336 235.1176,-261.13 241.8428,-269.3167 245.4802,-263.336\"/>\n",
       "</g>\n",
       "<!-- 7 -->\n",
       "<g id=\"node8\" class=\"node\">\n",
       "<title>7</title>\n",
       "<path fill=\"#e58139\" fill-opacity=\"0.200000\" stroke=\"#000000\" d=\"M397.5,-261C397.5,-261 302.5,-261 302.5,-261 296.5,-261 290.5,-255 290.5,-249 290.5,-249 290.5,-205 290.5,-205 290.5,-199 296.5,-193 302.5,-193 302.5,-193 397.5,-193 397.5,-193 403.5,-193 409.5,-199 409.5,-205 409.5,-205 409.5,-249 409.5,-249 409.5,-255 403.5,-261 397.5,-261\"/>\n",
       "<text text-anchor=\"start\" x=\"298.5\" y=\"-245.8\" font-family=\"Helvetica,sans-Serif\" font-size=\"14.00\" fill=\"#000000\">max_depth ≤ 8.0</text>\n",
       "<text text-anchor=\"start\" x=\"312\" y=\"-230.8\" font-family=\"Helvetica,sans-Serif\" font-size=\"14.00\" fill=\"#000000\">mse = 0.001</text>\n",
       "<text text-anchor=\"start\" x=\"309\" y=\"-215.8\" font-family=\"Helvetica,sans-Serif\" font-size=\"14.00\" fill=\"#000000\">samples = 36</text>\n",
       "<text text-anchor=\"start\" x=\"309\" y=\"-200.8\" font-family=\"Helvetica,sans-Serif\" font-size=\"14.00\" fill=\"#000000\">value = 0.591</text>\n",
       "</g>\n",
       "<!-- 1&#45;&gt;7 -->\n",
       "<g id=\"edge7\" class=\"edge\">\n",
       "<title>1&#45;&gt;7</title>\n",
       "<path fill=\"none\" stroke=\"#000000\" d=\"M350,-296.9465C350,-288.776 350,-279.9318 350,-271.3697\"/>\n",
       "<polygon fill=\"#000000\" stroke=\"#000000\" points=\"353.5001,-271.13 350,-261.13 346.5001,-271.13 353.5001,-271.13\"/>\n",
       "</g>\n",
       "<!-- 3 -->\n",
       "<g id=\"node4\" class=\"node\">\n",
       "<title>3</title>\n",
       "<path fill=\"#e58139\" fill-opacity=\"0.298039\" stroke=\"#000000\" d=\"M86,-149.5C86,-149.5 12,-149.5 12,-149.5 6,-149.5 0,-143.5 0,-137.5 0,-137.5 0,-108.5 0,-108.5 0,-102.5 6,-96.5 12,-96.5 12,-96.5 86,-96.5 86,-96.5 92,-96.5 98,-102.5 98,-108.5 98,-108.5 98,-137.5 98,-137.5 98,-143.5 92,-149.5 86,-149.5\"/>\n",
       "<text text-anchor=\"start\" x=\"11\" y=\"-134.3\" font-family=\"Helvetica,sans-Serif\" font-size=\"14.00\" fill=\"#000000\">mse = 0.001</text>\n",
       "<text text-anchor=\"start\" x=\"8\" y=\"-119.3\" font-family=\"Helvetica,sans-Serif\" font-size=\"14.00\" fill=\"#000000\">samples = 12</text>\n",
       "<text text-anchor=\"start\" x=\"8\" y=\"-104.3\" font-family=\"Helvetica,sans-Serif\" font-size=\"14.00\" fill=\"#000000\">value = 0.602</text>\n",
       "</g>\n",
       "<!-- 2&#45;&gt;3 -->\n",
       "<g id=\"edge3\" class=\"edge\">\n",
       "<title>2&#45;&gt;3</title>\n",
       "<path fill=\"none\" stroke=\"#000000\" d=\"M136.4331,-192.9465C121.563,-181.0504 104.9075,-167.726 90.1546,-155.9237\"/>\n",
       "<polygon fill=\"#000000\" stroke=\"#000000\" points=\"92.1729,-153.0561 82.1777,-149.5422 87.8,-158.5222 92.1729,-153.0561\"/>\n",
       "</g>\n",
       "<!-- 4 -->\n",
       "<g id=\"node5\" class=\"node\">\n",
       "<title>4</title>\n",
       "<path fill=\"#e58139\" fill-opacity=\"0.827451\" stroke=\"#000000\" d=\"M230,-157C230,-157 128,-157 128,-157 122,-157 116,-151 116,-145 116,-145 116,-101 116,-101 116,-95 122,-89 128,-89 128,-89 230,-89 230,-89 236,-89 242,-95 242,-101 242,-101 242,-145 242,-145 242,-151 236,-157 230,-157\"/>\n",
       "<text text-anchor=\"start\" x=\"124\" y=\"-141.8\" font-family=\"Helvetica,sans-Serif\" font-size=\"14.00\" fill=\"#000000\">max_depth ≤ 10.0</text>\n",
       "<text text-anchor=\"start\" x=\"148.5\" y=\"-126.8\" font-family=\"Helvetica,sans-Serif\" font-size=\"14.00\" fill=\"#000000\">mse = 0.0</text>\n",
       "<text text-anchor=\"start\" x=\"138\" y=\"-111.8\" font-family=\"Helvetica,sans-Serif\" font-size=\"14.00\" fill=\"#000000\">samples = 24</text>\n",
       "<text text-anchor=\"start\" x=\"138\" y=\"-96.8\" font-family=\"Helvetica,sans-Serif\" font-size=\"14.00\" fill=\"#000000\">value = 0.659</text>\n",
       "</g>\n",
       "<!-- 2&#45;&gt;4 -->\n",
       "<g id=\"edge4\" class=\"edge\">\n",
       "<title>2&#45;&gt;4</title>\n",
       "<path fill=\"none\" stroke=\"#000000\" d=\"M179,-192.9465C179,-184.776 179,-175.9318 179,-167.3697\"/>\n",
       "<polygon fill=\"#000000\" stroke=\"#000000\" points=\"182.5001,-167.13 179,-157.13 175.5001,-167.13 182.5001,-167.13\"/>\n",
       "</g>\n",
       "<!-- 5 -->\n",
       "<g id=\"node6\" class=\"node\">\n",
       "<title>5</title>\n",
       "<path fill=\"#e58139\" fill-opacity=\"0.788235\" stroke=\"#000000\" d=\"M158,-53C158,-53 84,-53 84,-53 78,-53 72,-47 72,-41 72,-41 72,-12 72,-12 72,-6 78,0 84,0 84,0 158,0 158,0 164,0 170,-6 170,-12 170,-12 170,-41 170,-41 170,-47 164,-53 158,-53\"/>\n",
       "<text text-anchor=\"start\" x=\"90.5\" y=\"-37.8\" font-family=\"Helvetica,sans-Serif\" font-size=\"14.00\" fill=\"#000000\">mse = 0.0</text>\n",
       "<text text-anchor=\"start\" x=\"80\" y=\"-22.8\" font-family=\"Helvetica,sans-Serif\" font-size=\"14.00\" fill=\"#000000\">samples = 12</text>\n",
       "<text text-anchor=\"start\" x=\"80\" y=\"-7.8\" font-family=\"Helvetica,sans-Serif\" font-size=\"14.00\" fill=\"#000000\">value = 0.655</text>\n",
       "</g>\n",
       "<!-- 4&#45;&gt;5 -->\n",
       "<g id=\"edge5\" class=\"edge\">\n",
       "<title>4&#45;&gt;5</title>\n",
       "<path fill=\"none\" stroke=\"#000000\" d=\"M158.5514,-88.9777C153.2678,-80.187 147.5684,-70.7044 142.2452,-61.8477\"/>\n",
       "<polygon fill=\"#000000\" stroke=\"#000000\" points=\"145.2282,-60.0165 137.0768,-53.2485 139.2285,-63.6225 145.2282,-60.0165\"/>\n",
       "</g>\n",
       "<!-- 6 -->\n",
       "<g id=\"node7\" class=\"node\">\n",
       "<title>6</title>\n",
       "<path fill=\"#e58139\" fill-opacity=\"0.866667\" stroke=\"#000000\" d=\"M274,-53C274,-53 200,-53 200,-53 194,-53 188,-47 188,-41 188,-41 188,-12 188,-12 188,-6 194,0 200,0 200,0 274,0 274,0 280,0 286,-6 286,-12 286,-12 286,-41 286,-41 286,-47 280,-53 274,-53\"/>\n",
       "<text text-anchor=\"start\" x=\"206.5\" y=\"-37.8\" font-family=\"Helvetica,sans-Serif\" font-size=\"14.00\" fill=\"#000000\">mse = 0.0</text>\n",
       "<text text-anchor=\"start\" x=\"196\" y=\"-22.8\" font-family=\"Helvetica,sans-Serif\" font-size=\"14.00\" fill=\"#000000\">samples = 12</text>\n",
       "<text text-anchor=\"start\" x=\"196\" y=\"-7.8\" font-family=\"Helvetica,sans-Serif\" font-size=\"14.00\" fill=\"#000000\">value = 0.663</text>\n",
       "</g>\n",
       "<!-- 4&#45;&gt;6 -->\n",
       "<g id=\"edge6\" class=\"edge\">\n",
       "<title>4&#45;&gt;6</title>\n",
       "<path fill=\"none\" stroke=\"#000000\" d=\"M199.4486,-88.9777C204.7322,-80.187 210.4316,-70.7044 215.7548,-61.8477\"/>\n",
       "<polygon fill=\"#000000\" stroke=\"#000000\" points=\"218.7715,-63.6225 220.9232,-53.2485 212.7718,-60.0165 218.7715,-63.6225\"/>\n",
       "</g>\n",
       "<!-- 8 -->\n",
       "<g id=\"node9\" class=\"node\">\n",
       "<title>8</title>\n",
       "<path fill=\"transparent\" stroke=\"#000000\" d=\"M346,-149.5C346,-149.5 272,-149.5 272,-149.5 266,-149.5 260,-143.5 260,-137.5 260,-137.5 260,-108.5 260,-108.5 260,-102.5 266,-96.5 272,-96.5 272,-96.5 346,-96.5 346,-96.5 352,-96.5 358,-102.5 358,-108.5 358,-108.5 358,-137.5 358,-137.5 358,-143.5 352,-149.5 346,-149.5\"/>\n",
       "<text text-anchor=\"start\" x=\"278.5\" y=\"-134.3\" font-family=\"Helvetica,sans-Serif\" font-size=\"14.00\" fill=\"#000000\">mse = 0.0</text>\n",
       "<text text-anchor=\"start\" x=\"268\" y=\"-119.3\" font-family=\"Helvetica,sans-Serif\" font-size=\"14.00\" fill=\"#000000\">samples = 18</text>\n",
       "<text text-anchor=\"start\" x=\"271.5\" y=\"-104.3\" font-family=\"Helvetica,sans-Serif\" font-size=\"14.00\" fill=\"#000000\">value = 0.57</text>\n",
       "</g>\n",
       "<!-- 7&#45;&gt;8 -->\n",
       "<g id=\"edge8\" class=\"edge\">\n",
       "<title>7&#45;&gt;8</title>\n",
       "<path fill=\"none\" stroke=\"#000000\" d=\"M336.5751,-192.9465C332.2761,-182.0418 327.5039,-169.9368 323.1546,-158.9043\"/>\n",
       "<polygon fill=\"#000000\" stroke=\"#000000\" points=\"326.3875,-157.5617 319.4637,-149.5422 319.8753,-160.129 326.3875,-157.5617\"/>\n",
       "</g>\n",
       "<!-- 9 -->\n",
       "<g id=\"node10\" class=\"node\">\n",
       "<title>9</title>\n",
       "<path fill=\"#e58139\" fill-opacity=\"0.396078\" stroke=\"#000000\" d=\"M462,-149.5C462,-149.5 388,-149.5 388,-149.5 382,-149.5 376,-143.5 376,-137.5 376,-137.5 376,-108.5 376,-108.5 376,-102.5 382,-96.5 388,-96.5 388,-96.5 462,-96.5 462,-96.5 468,-96.5 474,-102.5 474,-108.5 474,-108.5 474,-137.5 474,-137.5 474,-143.5 468,-149.5 462,-149.5\"/>\n",
       "<text text-anchor=\"start\" x=\"394.5\" y=\"-134.3\" font-family=\"Helvetica,sans-Serif\" font-size=\"14.00\" fill=\"#000000\">mse = 0.0</text>\n",
       "<text text-anchor=\"start\" x=\"384\" y=\"-119.3\" font-family=\"Helvetica,sans-Serif\" font-size=\"14.00\" fill=\"#000000\">samples = 18</text>\n",
       "<text text-anchor=\"start\" x=\"384\" y=\"-104.3\" font-family=\"Helvetica,sans-Serif\" font-size=\"14.00\" fill=\"#000000\">value = 0.613</text>\n",
       "</g>\n",
       "<!-- 7&#45;&gt;9 -->\n",
       "<g id=\"edge9\" class=\"edge\">\n",
       "<title>7&#45;&gt;9</title>\n",
       "<path fill=\"none\" stroke=\"#000000\" d=\"M374.5578,-192.9465C382.6601,-181.7113 391.6812,-169.2021 399.8286,-157.9043\"/>\n",
       "<polygon fill=\"#000000\" stroke=\"#000000\" points=\"402.8486,-159.7003 405.859,-149.5422 397.1709,-155.6058 402.8486,-159.7003\"/>\n",
       "</g>\n",
       "<!-- 11 -->\n",
       "<g id=\"node12\" class=\"node\">\n",
       "<title>11</title>\n",
       "<path fill=\"#e58139\" fill-opacity=\"0.894118\" stroke=\"#000000\" d=\"M641,-261C641,-261 535,-261 535,-261 529,-261 523,-255 523,-249 523,-249 523,-205 523,-205 523,-199 529,-193 535,-193 535,-193 641,-193 641,-193 647,-193 653,-199 653,-205 653,-205 653,-249 653,-249 653,-255 647,-261 641,-261\"/>\n",
       "<text text-anchor=\"start\" x=\"531\" y=\"-245.8\" font-family=\"Helvetica,sans-Serif\" font-size=\"14.00\" fill=\"#000000\">learning_rate ≤ 0.2</text>\n",
       "<text text-anchor=\"start\" x=\"557.5\" y=\"-230.8\" font-family=\"Helvetica,sans-Serif\" font-size=\"14.00\" fill=\"#000000\">mse = 0.0</text>\n",
       "<text text-anchor=\"start\" x=\"547\" y=\"-215.8\" font-family=\"Helvetica,sans-Serif\" font-size=\"14.00\" fill=\"#000000\">samples = 24</text>\n",
       "<text text-anchor=\"start\" x=\"547\" y=\"-200.8\" font-family=\"Helvetica,sans-Serif\" font-size=\"14.00\" fill=\"#000000\">value = 0.666</text>\n",
       "</g>\n",
       "<!-- 10&#45;&gt;11 -->\n",
       "<g id=\"edge11\" class=\"edge\">\n",
       "<title>10&#45;&gt;11</title>\n",
       "<path fill=\"none\" stroke=\"#000000\" d=\"M588,-296.9465C588,-288.776 588,-279.9318 588,-271.3697\"/>\n",
       "<polygon fill=\"#000000\" stroke=\"#000000\" points=\"591.5001,-271.13 588,-261.13 584.5001,-271.13 591.5001,-271.13\"/>\n",
       "</g>\n",
       "<!-- 14 -->\n",
       "<g id=\"node15\" class=\"node\">\n",
       "<title>14</title>\n",
       "<path fill=\"#e58139\" fill-opacity=\"0.964706\" stroke=\"#000000\" d=\"M837,-261C837,-261 731,-261 731,-261 725,-261 719,-255 719,-249 719,-249 719,-205 719,-205 719,-199 725,-193 731,-193 731,-193 837,-193 837,-193 843,-193 849,-199 849,-205 849,-205 849,-249 849,-249 849,-255 843,-261 837,-261\"/>\n",
       "<text text-anchor=\"start\" x=\"727\" y=\"-245.8\" font-family=\"Helvetica,sans-Serif\" font-size=\"14.00\" fill=\"#000000\">learning_rate ≤ 0.2</text>\n",
       "<text text-anchor=\"start\" x=\"753.5\" y=\"-230.8\" font-family=\"Helvetica,sans-Serif\" font-size=\"14.00\" fill=\"#000000\">mse = 0.0</text>\n",
       "<text text-anchor=\"start\" x=\"739\" y=\"-215.8\" font-family=\"Helvetica,sans-Serif\" font-size=\"14.00\" fill=\"#000000\">samples = 120</text>\n",
       "<text text-anchor=\"start\" x=\"743\" y=\"-200.8\" font-family=\"Helvetica,sans-Serif\" font-size=\"14.00\" fill=\"#000000\">value = 0.673</text>\n",
       "</g>\n",
       "<!-- 10&#45;&gt;14 -->\n",
       "<g id=\"edge14\" class=\"edge\">\n",
       "<title>10&#45;&gt;14</title>\n",
       "<path fill=\"none\" stroke=\"#000000\" d=\"M647.6048,-299.373C667.6099,-288.758 690.1505,-276.7977 711.0596,-265.7031\"/>\n",
       "<polygon fill=\"#000000\" stroke=\"#000000\" points=\"712.7157,-268.7866 719.9086,-261.0077 709.4346,-262.6031 712.7157,-268.7866\"/>\n",
       "</g>\n",
       "<!-- 12 -->\n",
       "<g id=\"node13\" class=\"node\">\n",
       "<title>12</title>\n",
       "<path fill=\"#e58139\" fill-opacity=\"0.843137\" stroke=\"#000000\" d=\"M578,-149.5C578,-149.5 504,-149.5 504,-149.5 498,-149.5 492,-143.5 492,-137.5 492,-137.5 492,-108.5 492,-108.5 492,-102.5 498,-96.5 504,-96.5 504,-96.5 578,-96.5 578,-96.5 584,-96.5 590,-102.5 590,-108.5 590,-108.5 590,-137.5 590,-137.5 590,-143.5 584,-149.5 578,-149.5\"/>\n",
       "<text text-anchor=\"start\" x=\"510.5\" y=\"-134.3\" font-family=\"Helvetica,sans-Serif\" font-size=\"14.00\" fill=\"#000000\">mse = 0.0</text>\n",
       "<text text-anchor=\"start\" x=\"500\" y=\"-119.3\" font-family=\"Helvetica,sans-Serif\" font-size=\"14.00\" fill=\"#000000\">samples = 12</text>\n",
       "<text text-anchor=\"start\" x=\"503.5\" y=\"-104.3\" font-family=\"Helvetica,sans-Serif\" font-size=\"14.00\" fill=\"#000000\">value = 0.66</text>\n",
       "</g>\n",
       "<!-- 11&#45;&gt;12 -->\n",
       "<g id=\"edge12\" class=\"edge\">\n",
       "<title>11&#45;&gt;12</title>\n",
       "<path fill=\"none\" stroke=\"#000000\" d=\"M572.6104,-192.9465C567.6823,-182.0418 562.2118,-169.9368 557.226,-158.9043\"/>\n",
       "<polygon fill=\"#000000\" stroke=\"#000000\" points=\"560.3027,-157.2134 552.995,-149.5422 553.9239,-160.0962 560.3027,-157.2134\"/>\n",
       "</g>\n",
       "<!-- 13 -->\n",
       "<g id=\"node14\" class=\"node\">\n",
       "<title>13</title>\n",
       "<path fill=\"#e58139\" fill-opacity=\"0.945098\" stroke=\"#000000\" d=\"M694,-149.5C694,-149.5 620,-149.5 620,-149.5 614,-149.5 608,-143.5 608,-137.5 608,-137.5 608,-108.5 608,-108.5 608,-102.5 614,-96.5 620,-96.5 620,-96.5 694,-96.5 694,-96.5 700,-96.5 706,-102.5 706,-108.5 706,-108.5 706,-137.5 706,-137.5 706,-143.5 700,-149.5 694,-149.5\"/>\n",
       "<text text-anchor=\"start\" x=\"626.5\" y=\"-134.3\" font-family=\"Helvetica,sans-Serif\" font-size=\"14.00\" fill=\"#000000\">mse = 0.0</text>\n",
       "<text text-anchor=\"start\" x=\"616\" y=\"-119.3\" font-family=\"Helvetica,sans-Serif\" font-size=\"14.00\" fill=\"#000000\">samples = 12</text>\n",
       "<text text-anchor=\"start\" x=\"616\" y=\"-104.3\" font-family=\"Helvetica,sans-Serif\" font-size=\"14.00\" fill=\"#000000\">value = 0.671</text>\n",
       "</g>\n",
       "<!-- 11&#45;&gt;13 -->\n",
       "<g id=\"edge13\" class=\"edge\">\n",
       "<title>11&#45;&gt;13</title>\n",
       "<path fill=\"none\" stroke=\"#000000\" d=\"M610.5932,-192.9465C618.0473,-181.7113 626.3467,-169.2021 633.8423,-157.9043\"/>\n",
       "<polygon fill=\"#000000\" stroke=\"#000000\" points=\"636.7782,-159.81 639.3903,-149.5422 630.9453,-155.94 636.7782,-159.81\"/>\n",
       "</g>\n",
       "<!-- 15 -->\n",
       "<g id=\"node16\" class=\"node\">\n",
       "<title>15</title>\n",
       "<path fill=\"#e58139\" fill-opacity=\"0.992157\" stroke=\"#000000\" d=\"M831.5,-157C831.5,-157 736.5,-157 736.5,-157 730.5,-157 724.5,-151 724.5,-145 724.5,-145 724.5,-101 724.5,-101 724.5,-95 730.5,-89 736.5,-89 736.5,-89 831.5,-89 831.5,-89 837.5,-89 843.5,-95 843.5,-101 843.5,-101 843.5,-145 843.5,-145 843.5,-151 837.5,-157 831.5,-157\"/>\n",
       "<text text-anchor=\"start\" x=\"732.5\" y=\"-141.8\" font-family=\"Helvetica,sans-Serif\" font-size=\"14.00\" fill=\"#000000\">max_depth ≤ 6.0</text>\n",
       "<text text-anchor=\"start\" x=\"753.5\" y=\"-126.8\" font-family=\"Helvetica,sans-Serif\" font-size=\"14.00\" fill=\"#000000\">mse = 0.0</text>\n",
       "<text text-anchor=\"start\" x=\"743\" y=\"-111.8\" font-family=\"Helvetica,sans-Serif\" font-size=\"14.00\" fill=\"#000000\">samples = 60</text>\n",
       "<text text-anchor=\"start\" x=\"743\" y=\"-96.8\" font-family=\"Helvetica,sans-Serif\" font-size=\"14.00\" fill=\"#000000\">value = 0.676</text>\n",
       "</g>\n",
       "<!-- 14&#45;&gt;15 -->\n",
       "<g id=\"edge15\" class=\"edge\">\n",
       "<title>14&#45;&gt;15</title>\n",
       "<path fill=\"none\" stroke=\"#000000\" d=\"M784,-192.9465C784,-184.776 784,-175.9318 784,-167.3697\"/>\n",
       "<polygon fill=\"#000000\" stroke=\"#000000\" points=\"787.5001,-167.13 784,-157.13 780.5001,-167.13 787.5001,-167.13\"/>\n",
       "</g>\n",
       "<!-- 18 -->\n",
       "<g id=\"node19\" class=\"node\">\n",
       "<title>18</title>\n",
       "<path fill=\"#e58139\" fill-opacity=\"0.937255\" stroke=\"#000000\" d=\"M976,-157C976,-157 874,-157 874,-157 868,-157 862,-151 862,-145 862,-145 862,-101 862,-101 862,-95 868,-89 874,-89 874,-89 976,-89 976,-89 982,-89 988,-95 988,-101 988,-101 988,-145 988,-145 988,-151 982,-157 976,-157\"/>\n",
       "<text text-anchor=\"start\" x=\"870\" y=\"-141.8\" font-family=\"Helvetica,sans-Serif\" font-size=\"14.00\" fill=\"#000000\">max_depth ≤ 12.0</text>\n",
       "<text text-anchor=\"start\" x=\"894.5\" y=\"-126.8\" font-family=\"Helvetica,sans-Serif\" font-size=\"14.00\" fill=\"#000000\">mse = 0.0</text>\n",
       "<text text-anchor=\"start\" x=\"884\" y=\"-111.8\" font-family=\"Helvetica,sans-Serif\" font-size=\"14.00\" fill=\"#000000\">samples = 60</text>\n",
       "<text text-anchor=\"start\" x=\"887.5\" y=\"-96.8\" font-family=\"Helvetica,sans-Serif\" font-size=\"14.00\" fill=\"#000000\">value = 0.67</text>\n",
       "</g>\n",
       "<!-- 14&#45;&gt;18 -->\n",
       "<g id=\"edge18\" class=\"edge\">\n",
       "<title>14&#45;&gt;18</title>\n",
       "<path fill=\"none\" stroke=\"#000000\" d=\"M830.1687,-192.9465C843.0719,-183.4293 857.2145,-172.9978 870.5483,-163.163\"/>\n",
       "<polygon fill=\"#000000\" stroke=\"#000000\" points=\"872.7575,-165.8826 878.7276,-157.13 868.6023,-160.2492 872.7575,-165.8826\"/>\n",
       "</g>\n",
       "<!-- 16 -->\n",
       "<g id=\"node17\" class=\"node\">\n",
       "<title>16</title>\n",
       "<path fill=\"#e58139\" fill-opacity=\"0.952941\" stroke=\"#000000\" d=\"M711,-53C711,-53 637,-53 637,-53 631,-53 625,-47 625,-41 625,-41 625,-12 625,-12 625,-6 631,0 637,0 637,0 711,0 711,0 717,0 723,-6 723,-12 723,-12 723,-41 723,-41 723,-47 717,-53 711,-53\"/>\n",
       "<text text-anchor=\"start\" x=\"643.5\" y=\"-37.8\" font-family=\"Helvetica,sans-Serif\" font-size=\"14.00\" fill=\"#000000\">mse = 0.0</text>\n",
       "<text text-anchor=\"start\" x=\"633\" y=\"-22.8\" font-family=\"Helvetica,sans-Serif\" font-size=\"14.00\" fill=\"#000000\">samples = 12</text>\n",
       "<text text-anchor=\"start\" x=\"633\" y=\"-7.8\" font-family=\"Helvetica,sans-Serif\" font-size=\"14.00\" fill=\"#000000\">value = 0.672</text>\n",
       "</g>\n",
       "<!-- 15&#45;&gt;16 -->\n",
       "<g id=\"edge16\" class=\"edge\">\n",
       "<title>15&#45;&gt;16</title>\n",
       "<path fill=\"none\" stroke=\"#000000\" d=\"M745.2181,-88.9777C734.467,-79.546 722.8078,-69.3178 712.0962,-59.9208\"/>\n",
       "<polygon fill=\"#000000\" stroke=\"#000000\" points=\"714.316,-57.2122 704.4905,-53.2485 709.6996,-62.4743 714.316,-57.2122\"/>\n",
       "</g>\n",
       "<!-- 17 -->\n",
       "<g id=\"node18\" class=\"node\">\n",
       "<title>17</title>\n",
       "<path fill=\"#e58139\" stroke=\"#000000\" d=\"M827,-53C827,-53 753,-53 753,-53 747,-53 741,-47 741,-41 741,-41 741,-12 741,-12 741,-6 747,0 753,0 753,0 827,0 827,0 833,0 839,-6 839,-12 839,-12 839,-41 839,-41 839,-47 833,-53 827,-53\"/>\n",
       "<text text-anchor=\"start\" x=\"759.5\" y=\"-37.8\" font-family=\"Helvetica,sans-Serif\" font-size=\"14.00\" fill=\"#000000\">mse = 0.0</text>\n",
       "<text text-anchor=\"start\" x=\"749\" y=\"-22.8\" font-family=\"Helvetica,sans-Serif\" font-size=\"14.00\" fill=\"#000000\">samples = 48</text>\n",
       "<text text-anchor=\"start\" x=\"749\" y=\"-7.8\" font-family=\"Helvetica,sans-Serif\" font-size=\"14.00\" fill=\"#000000\">value = 0.677</text>\n",
       "</g>\n",
       "<!-- 15&#45;&gt;17 -->\n",
       "<g id=\"edge17\" class=\"edge\">\n",
       "<title>15&#45;&gt;17</title>\n",
       "<path fill=\"none\" stroke=\"#000000\" d=\"M786.1154,-88.9777C786.6335,-80.6449 787.1902,-71.6903 787.7159,-63.2364\"/>\n",
       "<polygon fill=\"#000000\" stroke=\"#000000\" points=\"791.2095,-63.4464 788.3369,-53.2485 784.223,-63.012 791.2095,-63.4464\"/>\n",
       "</g>\n",
       "<!-- 19 -->\n",
       "<g id=\"node20\" class=\"node\">\n",
       "<title>19</title>\n",
       "<path fill=\"#e58139\" fill-opacity=\"0.941176\" stroke=\"#000000\" d=\"M955,-53C955,-53 881,-53 881,-53 875,-53 869,-47 869,-41 869,-41 869,-12 869,-12 869,-6 875,0 881,0 881,0 955,0 955,0 961,0 967,-6 967,-12 967,-12 967,-41 967,-41 967,-47 961,-53 955,-53\"/>\n",
       "<text text-anchor=\"start\" x=\"887.5\" y=\"-37.8\" font-family=\"Helvetica,sans-Serif\" font-size=\"14.00\" fill=\"#000000\">mse = 0.0</text>\n",
       "<text text-anchor=\"start\" x=\"877\" y=\"-22.8\" font-family=\"Helvetica,sans-Serif\" font-size=\"14.00\" fill=\"#000000\">samples = 48</text>\n",
       "<text text-anchor=\"start\" x=\"877\" y=\"-7.8\" font-family=\"Helvetica,sans-Serif\" font-size=\"14.00\" fill=\"#000000\">value = 0.671</text>\n",
       "</g>\n",
       "<!-- 18&#45;&gt;19 -->\n",
       "<g id=\"edge19\" class=\"edge\">\n",
       "<title>18&#45;&gt;19</title>\n",
       "<path fill=\"none\" stroke=\"#000000\" d=\"M922.5321,-88.9777C921.9276,-80.6449 921.278,-71.6903 920.6648,-63.2364\"/>\n",
       "<polygon fill=\"#000000\" stroke=\"#000000\" points=\"924.1547,-62.969 919.9403,-53.2485 917.1731,-63.4755 924.1547,-62.969\"/>\n",
       "</g>\n",
       "<!-- 20 -->\n",
       "<g id=\"node21\" class=\"node\">\n",
       "<title>20</title>\n",
       "<path fill=\"#e58139\" fill-opacity=\"0.921569\" stroke=\"#000000\" d=\"M1071,-53C1071,-53 997,-53 997,-53 991,-53 985,-47 985,-41 985,-41 985,-12 985,-12 985,-6 991,0 997,0 997,0 1071,0 1071,0 1077,0 1083,-6 1083,-12 1083,-12 1083,-41 1083,-41 1083,-47 1077,-53 1071,-53\"/>\n",
       "<text text-anchor=\"start\" x=\"1003.5\" y=\"-37.8\" font-family=\"Helvetica,sans-Serif\" font-size=\"14.00\" fill=\"#000000\">mse = 0.0</text>\n",
       "<text text-anchor=\"start\" x=\"993\" y=\"-22.8\" font-family=\"Helvetica,sans-Serif\" font-size=\"14.00\" fill=\"#000000\">samples = 12</text>\n",
       "<text text-anchor=\"start\" x=\"993\" y=\"-7.8\" font-family=\"Helvetica,sans-Serif\" font-size=\"14.00\" fill=\"#000000\">value = 0.669</text>\n",
       "</g>\n",
       "<!-- 18&#45;&gt;20 -->\n",
       "<g id=\"edge20\" class=\"edge\">\n",
       "<title>18&#45;&gt;20</title>\n",
       "<path fill=\"none\" stroke=\"#000000\" d=\"M963.4293,-88.9777C974.0827,-79.546 985.6359,-69.3178 996.2501,-59.9208\"/>\n",
       "<polygon fill=\"#000000\" stroke=\"#000000\" points=\"998.6194,-62.4978 1003.7867,-53.2485 993.9793,-57.2566 998.6194,-62.4978\"/>\n",
       "</g>\n",
       "</g>\n",
       "</svg>\n"
      ],
      "text/plain": [
       "<graphviz.files.Source at 0x7f0e3563d710>"
      ]
     },
     "execution_count": 71,
     "metadata": {},
     "output_type": "execute_result"
    }
   ],
   "source": [
    "out_file = 'model_tuning/xgb_tree.dot'\n",
    "dot_data = export_graphviz(reg_tree,\n",
    "                          out_file=out_file,\n",
    "                          feature_names=xgb_features,\n",
    "                          max_depth=4,\n",
    "                          filled=True,\n",
    "                          rounded=True,\n",
    "                          special_characters=True)\n",
    "if out_file is not None:\n",
    "    dot_data = Path(out_file).read_text()\n",
    "\n",
    "graphviz.Source(dot_data)"
   ]
  },
  {
   "cell_type": "markdown",
   "metadata": {},
   "source": [
    "## Overall Validation Performance"
   ]
  },
  {
   "cell_type": "code",
   "execution_count": 46,
   "metadata": {
    "ExecuteTime": {
     "end_time": "2018-10-10T01:16:43.167996Z",
     "start_time": "2018-10-10T01:16:43.097658Z"
    }
   },
   "outputs": [
    {
     "name": "stdout",
     "output_type": "stream",
     "text": [
      "<class 'pandas.core.frame.DataFrame'>\n",
      "Int64Index: 744 entries, 0 to 144\n",
      "Data columns (total 4 columns):\n",
      "train         744 non-null float64\n",
      "valid         744 non-null float64\n",
      "time          744 non-null float64\n",
      "model_type    744 non-null object\n",
      "dtypes: float64(3), object(1)\n",
      "memory usage: 29.1+ KB\n"
     ]
    }
   ],
   "source": [
    "models = ['catboost/factors', 'lightgbm/dummies', 'lightgbm/factors', 'xgboost/dummies']\n",
    "df = pd.DataFrame()\n",
    "with pd.HDFStore('results.h5') as store:\n",
    "    for k in models:\n",
    "        model = k.split('/')[0]\n",
    "        data = k.split('/')[1]\n",
    "        df = pd.concat([df, store[k][['train', 'valid', 'time']].assign(model=model, data=data)])\n",
    "df['model_type'] = df.model.str.capitalize().str.cat(df.data.str.capitalize(), sep=' ')        \n",
    "df = df.drop(['model', 'data'], axis=1)\n",
    "df.info()    "
   ]
  },
  {
   "cell_type": "code",
   "execution_count": 47,
   "metadata": {
    "ExecuteTime": {
     "end_time": "2018-10-10T01:17:21.330626Z",
     "start_time": "2018-10-10T01:17:21.135543Z"
    }
   },
   "outputs": [
    {
     "data": {
      "image/png": "[encoded data removed]",
      "text/plain": [
       "<Figure size 864x504 with 1 Axes>"
      ]
     },
     "metadata": {},
     "output_type": "display_data"
    }
   ],
   "source": [
    "sns.stripplot(x='valid', y='model_type', data=df);"
   ]
  },
  {
   "cell_type": "markdown",
   "metadata": {},
   "source": [
    "### LightGBM vs XGBoost"
   ]
  },
  {
   "cell_type": "code",
   "execution_count": 40,
   "metadata": {
    "ExecuteTime": {
     "end_time": "2018-10-10T00:58:15.530189Z",
     "start_time": "2018-10-10T00:58:15.046278Z"
    }
   },
   "outputs": [
    {
     "data": {
      "image/png": "[encoded data removed]",
      "text/plain": [
       "<Figure size 1080x360 with 3 Axes>"
      ]
     },
     "metadata": {},
     "output_type": "display_data"
    }
   ],
   "source": [
    "sns.catplot(x='max_depth', y='valid', col='model_type', data=df, kind='boxen');"
   ]
  },
  {
   "cell_type": "code",
   "execution_count": 37,
   "metadata": {
    "ExecuteTime": {
     "end_time": "2018-10-10T00:50:23.695564Z",
     "start_time": "2018-10-10T00:50:19.715712Z"
    },
    "scrolled": false
   },
   "outputs": [
    {
     "name": "stdout",
     "output_type": "stream",
     "text": [
      "\n",
      " lightgbm_dummies\n",
      "                            OLS Regression Results                            \n",
      "==============================================================================\n",
      "Dep. Variable:                  valid   R-squared:                       0.728\n",
      "Model:                            OLS   Adj. R-squared:                  0.714\n",
      "Method:                 Least Squares   F-statistic:                     30.77\n",
      "Date:                Tue, 09 Oct 2018   Prob (F-statistic):           1.37e-37\n",
      "Time:                        20:50:19   Log-Likelihood:                 541.61\n",
      "No. Observations:                 216   AIC:                            -1059.\n",
      "Df Residuals:                     204   BIC:                            -1019.\n",
      "Df Model:                          11                                         \n",
      "Covariance Type:                  HC3                                         \n",
      "========================================================================================\n",
      "                           coef    std err          z      P>|z|      [0.025      0.975]\n",
      "----------------------------------------------------------------------------------------\n",
      "const                    0.6060      0.006    106.642      0.000       0.595       0.617\n",
      "boosting_gbtree          0.0066      0.003      2.323      0.020       0.001       0.012\n",
      "learning_rate_0.1        0.0592      0.004     15.195      0.000       0.052       0.067\n",
      "learning_rate_0.3        0.0639      0.004     16.334      0.000       0.056       0.072\n",
      "max_depth_4              0.0060      0.005      1.218      0.223      -0.004       0.016\n",
      "max_depth_5              0.0096      0.005      2.013      0.044       0.000       0.019\n",
      "max_depth_6              0.0153      0.005      3.220      0.001       0.006       0.025\n",
      "max_depth_7              0.0194      0.005      3.865      0.000       0.010       0.029\n",
      "max_depth_8              0.0196      0.005      3.788      0.000       0.009       0.030\n",
      "colsample_bytree_0.8    -0.0109      0.003     -3.432      0.001      -0.017      -0.005\n",
      "colsample_bytree_1.0    -0.0281      0.004     -7.230      0.000      -0.036      -0.020\n",
      "min_gain_to_split_5      0.0002      0.003      0.057      0.954      -0.005       0.006\n",
      "==============================================================================\n",
      "Omnibus:                       19.196   Durbin-Watson:                   1.060\n",
      "Prob(Omnibus):                  0.000   Jarque-Bera (JB):                6.674\n",
      "Skew:                          -0.065   Prob(JB):                       0.0355\n",
      "Kurtosis:                       2.149   Cond. No.                         9.58\n",
      "==============================================================================\n",
      "\n",
      "Warnings:\n",
      "[1] Standard Errors are heteroscedasticity robust (HC3)\n",
      "\n",
      " lightgbm_factors\n",
      "                            OLS Regression Results                            \n",
      "==============================================================================\n",
      "Dep. Variable:                  valid   R-squared:                       0.424\n",
      "Model:                            OLS   Adj. R-squared:                  0.393\n",
      "Method:                 Least Squares   F-statistic:                     10.37\n",
      "Date:                Tue, 09 Oct 2018   Prob (F-statistic):           5.31e-15\n",
      "Time:                        20:50:21   Log-Likelihood:                 548.17\n",
      "No. Observations:                 216   AIC:                            -1072.\n",
      "Df Residuals:                     204   BIC:                            -1032.\n",
      "Df Model:                          11                                         \n",
      "Covariance Type:                  HC3                                         \n",
      "========================================================================================\n",
      "                           coef    std err          z      P>|z|      [0.025      0.975]\n",
      "----------------------------------------------------------------------------------------\n",
      "const                    0.6467      0.008     80.940      0.000       0.631       0.662\n",
      "boosting_gbdt            0.0041      0.003      1.473      0.141      -0.001       0.009\n",
      "learning_rate_0.1        0.0242      0.004      6.327      0.000       0.017       0.032\n",
      "learning_rate_0.3        0.0240      0.004      6.141      0.000       0.016       0.032\n",
      "max_depth_4              0.0074      0.007      1.078      0.281      -0.006       0.021\n",
      "max_depth_5              0.0074      0.007      1.027      0.304      -0.007       0.021\n",
      "max_depth_6              0.0110      0.007      1.609      0.108      -0.002       0.024\n",
      "max_depth_7              0.0114      0.007      1.677      0.094      -0.002       0.025\n",
      "max_depth_8              0.0100      0.007      1.461      0.144      -0.003       0.023\n",
      "colsample_bytree_0.8    -0.0041      0.002     -1.972      0.049      -0.008   -2.58e-05\n",
      "colsample_bytree_1.0    -0.0251      0.004     -6.418      0.000      -0.033      -0.017\n",
      "min_gain_to_split_5      0.0002      0.003      0.068      0.946      -0.005       0.006\n",
      "==============================================================================\n",
      "Omnibus:                      141.477   Durbin-Watson:                   0.587\n",
      "Prob(Omnibus):                  0.000   Jarque-Bera (JB):             1270.278\n",
      "Skew:                          -2.459   Prob(JB):                    1.45e-276\n",
      "Kurtosis:                      13.815   Cond. No.                         9.58\n",
      "==============================================================================\n",
      "\n",
      "Warnings:\n",
      "[1] Standard Errors are heteroscedasticity robust (HC3)\n",
      "\n",
      " xgb_dummies\n",
      "                            OLS Regression Results                            \n",
      "==============================================================================\n",
      "Dep. Variable:                  valid   R-squared:                       0.744\n",
      "Model:                            OLS   Adj. R-squared:                  0.731\n",
      "Method:                 Least Squares   F-statistic:                     39.13\n",
      "Date:                Tue, 09 Oct 2018   Prob (F-statistic):           2.30e-44\n",
      "Time:                        20:50:22   Log-Likelihood:                 568.94\n",
      "No. Observations:                 216   AIC:                            -1114.\n",
      "Df Residuals:                     204   BIC:                            -1073.\n",
      "Df Model:                          11                                         \n",
      "Covariance Type:                  HC3                                         \n",
      "========================================================================================\n",
      "                           coef    std err          z      P>|z|      [0.025      0.975]\n",
      "----------------------------------------------------------------------------------------\n",
      "const                    0.6025      0.005    120.800      0.000       0.593       0.612\n",
      "boosting_gbtree          0.0017      0.003      0.687      0.492      -0.003       0.007\n",
      "learning_rate_0.1        0.0580      0.003     17.413      0.000       0.051       0.065\n",
      "learning_rate_0.3        0.0552      0.004     15.635      0.000       0.048       0.062\n",
      "max_depth_5              0.0097      0.005      1.929      0.054      -0.000       0.020\n",
      "max_depth_7              0.0209      0.005      4.520      0.000       0.012       0.030\n",
      "max_depth_9              0.0266      0.004      6.036      0.000       0.018       0.035\n",
      "max_depth_11             0.0260      0.004      5.819      0.000       0.017       0.035\n",
      "max_depth_13             0.0277      0.005      5.812      0.000       0.018       0.037\n",
      "colsample_bytree_1.0    -0.0154      0.003     -6.135      0.000      -0.020      -0.010\n",
      "min_gain_to_split_1      0.0017      0.003      0.562      0.574      -0.004       0.008\n",
      "min_gain_to_split_5      0.0020      0.003      0.650      0.516      -0.004       0.008\n",
      "==============================================================================\n",
      "Omnibus:                        1.798   Durbin-Watson:                   1.681\n",
      "Prob(Omnibus):                  0.407   Jarque-Bera (JB):                1.615\n",
      "Skew:                           0.095   Prob(JB):                        0.446\n",
      "Kurtosis:                       2.621   Cond. No.                         9.58\n",
      "==============================================================================\n",
      "\n",
      "Warnings:\n",
      "[1] Standard Errors are heteroscedasticity robust (HC3)\n"
     ]
    }
   ],
   "source": [
    "features = ['boosting','learning_rate', 'max_depth', 'colsample_bytree', 'min_gain_to_split']\n",
    "path = Path('model_tuning')\n",
    "for model, data in df.groupby('model_type'):\n",
    "    y = data.valid \n",
    "    X = pd.get_dummies(data[features].dropna(how='all', axis=1), columns=features, drop_first=True)\n",
    "    ols = OLS(endog=y, exog=add_constant(X)).fit(cov_type='HC3')\n",
    "    print('\\n', model)\n",
    "    print(ols.summary())\n",
    "    plt.rc('figure', figsize=(12, 7))\n",
    "    plt.text(0.01, 0.05, str(ols.summary()), {'fontsize': 14}, fontproperties = 'monospace')\n",
    "    plt.axis('off')\n",
    "    plt.tight_layout()\n",
    "    plt.subplots_adjust(left=0.2, right=0.8, top=0.8, bottom=0.1)\n",
    "    plt.savefig(path / f'{model}.png', bbox_inches='tight', dpi=300)\n",
    "    plt.close();    "
   ]
  },
  {
   "cell_type": "markdown",
   "metadata": {},
   "source": [
    "### CatBoost"
   ]
  },
  {
   "cell_type": "code",
   "execution_count": null,
   "metadata": {},
   "outputs": [],
   "source": []
  }
 ],
 "metadata": {
  "kernelspec": {
   "display_name": "Python 3",
   "language": "python",
   "name": "python3"
  },
  "language_info": {
   "codemirror_mode": {
    "name": "ipython",
    "version": 3
   },
   "file_extension": ".py",
   "mimetype": "text/x-python",
   "name": "python",
   "nbconvert_exporter": "python",
   "pygments_lexer": "ipython3",
   "version": "3.6.4"
  },
  "toc": {
   "base_numbering": 1,
   "nav_menu": {},
   "number_sections": true,
   "sideBar": true,
   "skip_h1_title": false,
   "title_cell": "Table of Contents",
   "title_sidebar": "Contents",
   "toc_cell": false,
   "toc_position": {},
   "toc_section_display": true,
   "toc_window_display": false
  }
 },
 "nbformat": 4,
 "nbformat_minor": 2
}
