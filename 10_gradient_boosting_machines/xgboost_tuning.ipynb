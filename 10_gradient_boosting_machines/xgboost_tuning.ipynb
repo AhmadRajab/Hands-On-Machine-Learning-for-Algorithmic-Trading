{
 "cells": [
  {
   "cell_type": "code",
   "execution_count": 94,
   "metadata": {
    "ExecuteTime": {
     "end_time": "2018-10-09T12:02:07.141997Z",
     "start_time": "2018-10-09T12:02:07.136654Z"
    }
   },
   "outputs": [],
   "source": [
    "%matplotlib inline\n",
    "import warnings\n",
    "from random import shuffle\n",
    "from time import time\n",
    "import numpy as np\n",
    "import pandas as pd\n",
    "import xgboost as xgb\n",
    "from xgboost.callback import reset_learning_rate\n",
    "from itertools import product\n",
    "from sklearn.metrics import roc_auc_score\n",
    "\n",
    "import matplotlib.pyplot as plt\n",
    "import seaborn as sns"
   ]
  },
  {
   "cell_type": "code",
   "execution_count": 95,
   "metadata": {
    "ExecuteTime": {
     "end_time": "2018-10-09T12:02:07.454348Z",
     "start_time": "2018-10-09T12:02:07.447602Z"
    }
   },
   "outputs": [],
   "source": [
    "warnings.filterwarnings('ignore')\n",
    "plt.style.use('fivethirtyeight')\n",
    "idx = pd.IndexSlice\n",
    "np.random.seed(42)"
   ]
  },
  {
   "cell_type": "markdown",
   "metadata": {},
   "source": [
    "## Helper Functions"
   ]
  },
  {
   "cell_type": "code",
   "execution_count": 96,
   "metadata": {
    "ExecuteTime": {
     "end_time": "2018-10-09T12:02:08.280668Z",
     "start_time": "2018-10-09T12:02:08.270245Z"
    }
   },
   "outputs": [],
   "source": [
    "def format_time(t):\n",
    "    m, s = divmod(t, 60)\n",
    "    h, m = divmod(m, 60)\n",
    "    return f'{h:0>2.0f}:{m:0>2.0f}:{s:0>2.0f}'"
   ]
  },
  {
   "cell_type": "code",
   "execution_count": 97,
   "metadata": {
    "ExecuteTime": {
     "end_time": "2018-10-09T12:02:08.556845Z",
     "start_time": "2018-10-09T12:02:08.546301Z"
    }
   },
   "outputs": [],
   "source": [
    "def get_data(start='2000', end='2018', holding_period=1, dropna=False):\n",
    "    idx = pd.IndexSlice\n",
    "    target = f'target_{holding_period}m'\n",
    "    with pd.HDFStore('data.h5') as store:\n",
    "        df = store['data']\n",
    "\n",
    "    if start is not None and end is not None:\n",
    "        df = df.loc[idx[:, start: end], :]\n",
    "    if dropna:\n",
    "        df = df.dropna()\n",
    "\n",
    "    y = (df[target] > 0).astype(int)\n",
    "    X = df.drop([c for c in df.columns if c.startswith('target')], axis=1)\n",
    "    return y, X"
   ]
  },
  {
   "cell_type": "code",
   "execution_count": 98,
   "metadata": {
    "ExecuteTime": {
     "end_time": "2018-10-09T12:02:08.914351Z",
     "start_time": "2018-10-09T12:02:08.911747Z"
    }
   },
   "outputs": [],
   "source": [
    "def get_one_hot_data(df, cols=('year', 'month', 'age', 'msize')):\n",
    "    cols = list(cols)\n",
    "    df = pd.get_dummies(df,\n",
    "                        columns=cols + ['sector'],\n",
    "                        prefix=cols + [''],\n",
    "                        prefix_sep=['_'] * len(cols) + [''])\n",
    "    return df.rename(columns={c: c.replace('.0', '').replace(' ', '_').lower() for c in df.columns})"
   ]
  },
  {
   "cell_type": "code",
   "execution_count": 99,
   "metadata": {
    "ExecuteTime": {
     "end_time": "2018-10-09T12:02:15.361562Z",
     "start_time": "2018-10-09T12:02:15.344403Z"
    }
   },
   "outputs": [],
   "source": [
    "def get_holdout_set(target, features, period=6):\n",
    "    idx = pd.IndexSlice\n",
    "    label = target.name\n",
    "    dates = np.sort(target.index.get_level_values('date').unique())\n",
    "    cv_start, cv_end = dates[0], dates[-period - 2]\n",
    "    holdout_start, holdout_end = dates[-period - 1], dates[-1]\n",
    "\n",
    "    df = features.join(target.to_frame())\n",
    "    train = df.loc[idx[:, cv_start: cv_end], :]\n",
    "    y_train, X_train = train[label], train.drop(label, axis=1)\n",
    "\n",
    "    test = df.loc[idx[:, holdout_start: holdout_end], :]\n",
    "    y_test, X_test = test[label], test.drop(label, axis=1)\n",
    "    return y_train, X_train, y_test, X_test"
   ]
  },
  {
   "cell_type": "code",
   "execution_count": 100,
   "metadata": {
    "ExecuteTime": {
     "end_time": "2018-10-09T12:02:15.987471Z",
     "start_time": "2018-10-09T12:02:15.967359Z"
    }
   },
   "outputs": [],
   "source": [
    "class OneStepTimeSeriesSplit:\n",
    "    \"\"\"Generates tuples of train_idx, test_idx pairs\n",
    "    Assumes the index contains a level labeled 'date'\"\"\"\n",
    "\n",
    "    def __init__(self, n_splits=3, test_period_length=1, shuffle=False):\n",
    "        self.n_splits = n_splits\n",
    "        self.test_period_length = test_period_length\n",
    "        self.shuffle = shuffle\n",
    "        self.test_end = n_splits * test_period_length\n",
    "\n",
    "    @staticmethod\n",
    "    def chunks(l, n):\n",
    "        for i in range(0, len(l), n):\n",
    "            yield l[i:i + n]\n",
    "\n",
    "    def split(self, X, y=None, groups=None):\n",
    "        unique_dates = (X.index\n",
    "                        .get_level_values('date')\n",
    "                        .unique()\n",
    "                        .sort_values(ascending=False)\n",
    "                        [:self.test_end])\n",
    "\n",
    "        dates = X.reset_index()[['date']]\n",
    "        for test_date in self.chunks(unique_dates, self.test_period_length):\n",
    "            train_idx = dates[dates.date < min(test_date)].index\n",
    "            test_idx = dates[dates.date.isin(test_date)].index\n",
    "            if self.shuffle:\n",
    "                np.random.shuffle(list(train_idx))\n",
    "            yield train_idx, test_idx\n",
    "\n",
    "    def get_n_splits(self, X, y, groups=None):\n",
    "        return self.n_splits"
   ]
  },
  {
   "cell_type": "markdown",
   "metadata": {},
   "source": [
    "## Adaptive Learning"
   ]
  },
  {
   "cell_type": "code",
   "execution_count": 8,
   "metadata": {
    "ExecuteTime": {
     "end_time": "2018-10-07T14:06:40.912182Z",
     "start_time": "2018-10-07T14:06:40.909733Z"
    }
   },
   "outputs": [],
   "source": [
    "def learning_rate(n, ntot):\n",
    "    start_eta = 0.1\n",
    "    k = 8 / ntot\n",
    "    x0 = ntot / 1.8\n",
    "    return start_eta * (1 - 1 / (1 + np.exp(-k * (n - x0))))"
   ]
  },
  {
   "cell_type": "markdown",
   "metadata": {},
   "source": [
    "## Get Data"
   ]
  },
  {
   "cell_type": "code",
   "execution_count": 101,
   "metadata": {
    "ExecuteTime": {
     "end_time": "2018-10-09T12:02:19.577758Z",
     "start_time": "2018-10-09T12:02:19.557029Z"
    }
   },
   "outputs": [],
   "source": [
    "def get_datasets(features, target, kfold):\n",
    "    cat_cols = ['year', 'month', 'age', 'msize', 'sector']\n",
    "    data = {}\n",
    "    for fold, (train_idx, test_idx) in enumerate(kfold.split(features)):\n",
    "        print(fold, end=' ', flush=True)\n",
    "\n",
    "        data[fold] = {'train': xgb.DMatrix(label=target.iloc[train_idx],\n",
    "                                           data=features.iloc[train_idx],\n",
    "                                           nthread=-1),\n",
    "                      'valid': xgb.DMatrix(label=target.iloc[test_idx],\n",
    "                                           data=features.iloc[test_idx],\n",
    "                                           nthread=-1)}\n",
    "    return data     "
   ]
  },
  {
   "cell_type": "markdown",
   "metadata": {},
   "source": [
    "## Train-Test Loop"
   ]
  },
  {
   "cell_type": "code",
   "execution_count": 102,
   "metadata": {
    "ExecuteTime": {
     "end_time": "2018-10-09T12:02:22.850755Z",
     "start_time": "2018-10-09T12:02:22.846438Z"
    }
   },
   "outputs": [],
   "source": [
    "def run_cv(test_params, data, n_splits=12):\n",
    "    \"\"\"Train-Validate with early stopping\"\"\"\n",
    "    result = []\n",
    "    cols = ['rounds', 'train', 'valid']\n",
    "    for fold in range(n_splits):\n",
    "        train = data[fold]['train']\n",
    "        valid = data[fold]['valid']\n",
    "\n",
    "        scores = {}\n",
    "\n",
    "        model = xgb.train(params=test_params,\n",
    "                          dtrain=train,\n",
    "                          evals=list(zip([train, valid], ['train', 'valid'])),\n",
    "                          verbose_eval=False,\n",
    "                          num_boost_round=250,\n",
    "                          early_stopping_rounds=25,\n",
    "                          evals_result=scores)\n",
    "\n",
    "        result.append([model.best_iteration,\n",
    "                       scores['train']['auc'][-1],\n",
    "                       scores['valid']['auc'][-1]])\n",
    "\n",
    "    df = pd.DataFrame(result, columns=cols)\n",
    "    return (df\n",
    "            .mean()\n",
    "            .append(df.std().rename({c: c + '_std' for c in cols}))\n",
    "            .append(pd.Series(test_params)))"
   ]
  },
  {
   "cell_type": "markdown",
   "metadata": {},
   "source": [
    "## Baseline Parameters"
   ]
  },
  {
   "cell_type": "code",
   "execution_count": 105,
   "metadata": {
    "ExecuteTime": {
     "end_time": "2018-10-09T12:05:15.146022Z",
     "start_time": "2018-10-09T12:05:15.142293Z"
    }
   },
   "outputs": [],
   "source": [
    "params = dict(\n",
    "    booster='gbtree',\n",
    "    objective='binary:logistic',\n",
    "    eval_metric=['logloss', 'auc'],\n",
    "    tree_method='hist',\n",
    "    max_depth=6,\n",
    "    learning_rate=0.3,\n",
    "    gamma=0,\n",
    "    min_child_weight=1,\n",
    "    max_delta_step=0,\n",
    "    subsample=1,\n",
    "    colsample_bytree=1,\n",
    "    colsample_bylevel=1,\n",
    "    reg_alpha=0,\n",
    "    reg_lambda=1,\n",
    "    silent=1,\n",
    "    seed=42,\n",
    ")"
   ]
  },
  {
   "cell_type": "markdown",
   "metadata": {},
   "source": [
    "## Setup"
   ]
  },
  {
   "cell_type": "code",
   "execution_count": 106,
   "metadata": {
    "ExecuteTime": {
     "end_time": "2018-10-09T12:05:15.572778Z",
     "start_time": "2018-10-09T12:05:15.569153Z"
    }
   },
   "outputs": [],
   "source": [
    "HOLDOUT = True\n",
    "n_splits = 12\n",
    "result_key = f'/xgboost/results'"
   ]
  },
  {
   "cell_type": "code",
   "execution_count": 107,
   "metadata": {
    "ExecuteTime": {
     "end_time": "2018-10-09T12:05:25.309629Z",
     "start_time": "2018-10-09T12:05:24.856255Z"
    }
   },
   "outputs": [],
   "source": [
    "y, X = get_data()\n",
    "X = get_one_hot_data(X)"
   ]
  },
  {
   "cell_type": "code",
   "execution_count": 108,
   "metadata": {
    "ExecuteTime": {
     "end_time": "2018-10-09T12:05:25.836624Z",
     "start_time": "2018-10-09T12:05:25.310785Z"
    }
   },
   "outputs": [],
   "source": [
    "y, X, y_test, X_test = get_holdout_set(target=y, features=X)"
   ]
  },
  {
   "cell_type": "code",
   "execution_count": 109,
   "metadata": {
    "ExecuteTime": {
     "end_time": "2018-10-09T12:05:25.839350Z",
     "start_time": "2018-10-09T12:05:25.837743Z"
    }
   },
   "outputs": [],
   "source": [
    "cv = OneStepTimeSeriesSplit(n_splits=n_splits)"
   ]
  },
  {
   "cell_type": "code",
   "execution_count": 110,
   "metadata": {
    "ExecuteTime": {
     "end_time": "2018-10-09T12:05:32.725668Z",
     "start_time": "2018-10-09T12:05:25.840344Z"
    }
   },
   "outputs": [
    {
     "name": "stdout",
     "output_type": "stream",
     "text": [
      "0 1 2 3 4 5 6 7 8 9 10 11 "
     ]
    }
   ],
   "source": [
    "datasets = get_datasets(features=X, target=y, kfold=cv)"
   ]
  },
  {
   "cell_type": "code",
   "execution_count": 112,
   "metadata": {
    "ExecuteTime": {
     "end_time": "2018-10-09T12:06:38.562992Z",
     "start_time": "2018-10-09T12:06:38.555050Z"
    }
   },
   "outputs": [],
   "source": [
    "results = pd.DataFrame()"
   ]
  },
  {
   "cell_type": "markdown",
   "metadata": {},
   "source": [
    "## Parameter Grid"
   ]
  },
  {
   "cell_type": "code",
   "execution_count": 116,
   "metadata": {
    "ExecuteTime": {
     "end_time": "2018-10-09T12:08:02.112840Z",
     "start_time": "2018-10-09T12:08:02.096813Z"
    }
   },
   "outputs": [],
   "source": [
    "param_grid = dict(\n",
    "        learning_rate=[0.01, 0.1, 0.3],\n",
    "        max_depth=[ 9 11  3 13  5  7],\n",
    "        booster=['dart', 'gbtree'],\n",
    "        gamma=[0, 1, 5],\n",
    "        colsample_bytree=[0.8, 1])"
   ]
  },
  {
   "cell_type": "code",
   "execution_count": 117,
   "metadata": {
    "ExecuteTime": {
     "end_time": "2018-10-09T12:08:02.879281Z",
     "start_time": "2018-10-09T12:08:02.876873Z"
    }
   },
   "outputs": [
    {
     "name": "stdout",
     "output_type": "stream",
     "text": [
      "# Models: 144\n"
     ]
    }
   ],
   "source": [
    "all_params = list(product(*param_grid.values()))\n",
    "shuffle(all_params)\n",
    "n_models = len(all_params)\n",
    "print(f'# Models: {n_models:,d}')"
   ]
  },
  {
   "cell_type": "code",
   "execution_count": 118,
   "metadata": {
    "ExecuteTime": {
     "end_time": "2018-10-09T12:08:18.288600Z",
     "start_time": "2018-10-09T12:08:18.277748Z"
    }
   },
   "outputs": [],
   "source": [
    "display_cols = ['rounds', 'time', 'valid', 'valid_std', 'train'] + list(param_grid.keys())"
   ]
  },
  {
   "cell_type": "code",
   "execution_count": null,
   "metadata": {
    "ExecuteTime": {
     "end_time": "2018-10-09T20:07:22.948086Z",
     "start_time": "2018-10-09T12:08:19.953900Z"
    }
   },
   "outputs": [],
   "source": [
    "start = time()\n",
    "results = pd.DataFrame()\n",
    "for n, test_param in enumerate(all_params, 1):\n",
    "    iteration = time()\n",
    "    cv_params = params.copy()\n",
    "    cv_params.update(dict(zip(param_grid.keys(), test_param)))\n",
    "\n",
    "    results[n] = run_cv(test_params=cv_params,\n",
    "                        data=datasets,\n",
    "                        n_splits=n_splits)\n",
    "    results.loc['time', n] = time() - iteration\n",
    "\n",
    "    print('\\n')\n",
    "    print(results.loc[display_cols, :].T.sort_values('valid', ascending=False).head(5).reset_index(drop=True))\n",
    "    out = f'\\n\\tModel: {n} of {n_models} | '\n",
    "    out += f'{format_time(time() - iteration)} | '\n",
    "    out += f'Total: {format_time(time() - start)} | '\n",
    "    print(out + f'Remaining: {format_time((time() - start)/n*(n_models-n))}\\n')"
   ]
  },
  {
   "cell_type": "code",
   "execution_count": 136,
   "metadata": {
    "ExecuteTime": {
     "end_time": "2018-10-09T22:52:15.493748Z",
     "start_time": "2018-10-09T22:52:15.486017Z"
    }
   },
   "outputs": [],
   "source": [
    "results = results.T.apply(pd.to_numeric, errors='ignore')"
   ]
  },
  {
   "cell_type": "code",
   "execution_count": null,
   "metadata": {},
   "outputs": [],
   "source": []
  }
 ],
 "metadata": {
  "kernelspec": {
   "display_name": "Python 3",
   "language": "python",
   "name": "python3"
  },
  "language_info": {
   "codemirror_mode": {
    "name": "ipython",
    "version": 3
   },
   "file_extension": ".py",
   "mimetype": "text/x-python",
   "name": "python",
   "nbconvert_exporter": "python",
   "pygments_lexer": "ipython3",
   "version": "3.6.4"
  },
  "toc": {
   "base_numbering": 1,
   "nav_menu": {},
   "number_sections": true,
   "sideBar": true,
   "skip_h1_title": false,
   "title_cell": "Table of Contents",
   "title_sidebar": "Contents",
   "toc_cell": false,
   "toc_position": {},
   "toc_section_display": true,
   "toc_window_display": true
  }
 },
 "nbformat": 4,
 "nbformat_minor": 2
}
