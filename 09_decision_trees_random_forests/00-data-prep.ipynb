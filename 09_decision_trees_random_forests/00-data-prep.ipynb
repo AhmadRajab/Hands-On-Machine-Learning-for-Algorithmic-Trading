{
 "cells": [
  {
   "cell_type": "code",
   "execution_count": 149,
   "metadata": {
    "ExecuteTime": {
     "end_time": "2018-09-27T22:19:53.283213Z",
     "start_time": "2018-09-27T22:19:53.272548Z"
    }
   },
   "outputs": [
    {
     "data": {
      "text/plain": [
       "(0.06668889629876626, 0.0)"
      ]
     },
     "execution_count": 149,
     "metadata": {},
     "output_type": "execute_result"
    }
   ],
   "source": [
    "from scipy.stats import fisher_exact\n",
    "fisher_exact([[1000, 2999],[12000, 2400]])"
   ]
  },
  {
   "cell_type": "code",
   "execution_count": 113,
   "metadata": {
    "ExecuteTime": {
     "end_time": "2018-09-27T12:56:48.873153Z",
     "start_time": "2018-09-27T12:56:48.858496Z"
    }
   },
   "outputs": [],
   "source": [
    "%matplotlib inline\n",
    "\n",
    "import warnings\n",
    "import os\n",
    "from pathlib import Path\n",
    "import quandl\n",
    "import numpy as np\n",
    "import pandas as pd\n",
    "\n",
    "import matplotlib.pyplot as plt\n",
    "import seaborn as sns\n",
    "import graphviz\n",
    "from sklearn.tree import DecisionTreeClassifier, DecisionTreeRegressor, export_graphviz, _tree\n",
    "from sklearn.linear_model import LinearRegression, Ridge, LogisticRegression\n",
    "from sklearn.model_selection import train_test_split, cross_val_score, GridSearchCV\n",
    "from sklearn.metrics import roc_auc_score, roc_curve, mean_squared_error, precision_recall_curve\n",
    "from sklearn.preprocessing import Imputer\n",
    "import statsmodels.api as sm\n",
    "from scipy.interpolate import interp1d, interp2d"
   ]
  },
  {
   "cell_type": "code",
   "execution_count": 114,
   "metadata": {
    "ExecuteTime": {
     "end_time": "2018-09-27T12:56:48.887068Z",
     "start_time": "2018-09-27T12:56:48.876249Z"
    }
   },
   "outputs": [],
   "source": [
    "warnings.filterwarnings('ignore')\n",
    "plt.style.use('ggplot')"
   ]
  },
  {
   "cell_type": "markdown",
   "metadata": {},
   "source": [
    "## Get Data"
   ]
  },
  {
   "cell_type": "code",
   "execution_count": 115,
   "metadata": {
    "ExecuteTime": {
     "end_time": "2018-09-27T12:56:54.145935Z",
     "start_time": "2018-09-27T12:56:48.888735Z"
    }
   },
   "outputs": [
    {
     "name": "stdout",
     "output_type": "stream",
     "text": [
      "<class 'pandas.io.pytables.HDFStore'>\n",
      "File path: ../data/assets.h5\n",
      "/fred/assets                   frame        (shape->[4826,5])     \n",
      "/quandl/wiki/prices            frame        (shape->[15389314,12])\n",
      "/quandl/wiki/stocks            frame        (shape->[1,2])        \n",
      "/sp500/prices                  frame        (shape->[37721,5])    \n",
      "/sp500/stocks                  frame        (shape->[1,7])        \n",
      "/us_equities/stocks            frame        (shape->[1,6])        \n"
     ]
    }
   ],
   "source": [
    "with pd.HDFStore('../data/assets.h5') as store:\n",
    "    print(store.info())\n",
    "    prices = store['quandl/wiki/prices'].adj_close.unstack('ticker')\n",
    "    stocks = store['us_equities/stocks']"
   ]
  },
  {
   "cell_type": "code",
   "execution_count": 116,
   "metadata": {
    "ExecuteTime": {
     "end_time": "2018-09-27T12:56:54.184720Z",
     "start_time": "2018-09-27T12:56:54.147991Z"
    }
   },
   "outputs": [],
   "source": [
    "shared = prices.columns.intersection(stocks.index)\n",
    "prices = prices.loc['2010': '2018', shared]\n",
    "stocks = stocks.loc[shared, ['marketcap', 'ipoyear', 'sector']]"
   ]
  },
  {
   "cell_type": "code",
   "execution_count": 117,
   "metadata": {
    "ExecuteTime": {
     "end_time": "2018-09-27T12:56:54.190634Z",
     "start_time": "2018-09-27T12:56:54.185917Z"
    }
   },
   "outputs": [
    {
     "name": "stdout",
     "output_type": "stream",
     "text": [
      "<class 'pandas.core.frame.DataFrame'>\n",
      "Index: 2436 entries, A to ZUMZ\n",
      "Data columns (total 3 columns):\n",
      "marketcap    2432 non-null object\n",
      "ipoyear      1074 non-null float64\n",
      "sector       2396 non-null object\n",
      "dtypes: float64(1), object(2)\n",
      "memory usage: 76.1+ KB\n"
     ]
    }
   ],
   "source": [
    "stocks.info()"
   ]
  },
  {
   "cell_type": "code",
   "execution_count": 118,
   "metadata": {
    "ExecuteTime": {
     "end_time": "2018-09-27T12:56:54.242265Z",
     "start_time": "2018-09-27T12:56:54.191668Z"
    }
   },
   "outputs": [
    {
     "name": "stdout",
     "output_type": "stream",
     "text": [
      "<class 'pandas.core.frame.DataFrame'>\n",
      "DatetimeIndex: 2113 entries, 2010-01-04 to 2018-03-27\n",
      "Columns: 2420 entries, A to ZUMZ\n",
      "dtypes: float64(2420)\n",
      "memory usage: 39.0 MB\n"
     ]
    }
   ],
   "source": [
    "prices.info()"
   ]
  },
  {
   "cell_type": "markdown",
   "metadata": {},
   "source": [
    "### Create monthly return series"
   ]
  },
  {
   "cell_type": "markdown",
   "metadata": {},
   "source": [
    "Remove outliers"
   ]
  },
  {
   "cell_type": "code",
   "execution_count": 119,
   "metadata": {
    "ExecuteTime": {
     "end_time": "2018-09-27T12:56:54.274962Z",
     "start_time": "2018-09-27T12:56:54.243354Z"
    }
   },
   "outputs": [],
   "source": [
    "returns = prices.resample('M').pct_change().stack().swaplevel()\n",
    "returns = returns[returns.between(left=returns.quantile(.05), right=returns.quantile(.95))].to_frame('returns')"
   ]
  },
  {
   "cell_type": "code",
   "execution_count": 120,
   "metadata": {
    "ExecuteTime": {
     "end_time": "2018-09-27T12:56:54.450697Z",
     "start_time": "2018-09-27T12:56:54.276185Z"
    }
   },
   "outputs": [],
   "source": [
    "for t in range(1, 13):\n",
    "    returns[f't-{t}'] = returns.groupby(level='ticker').returns.shift(t)\n",
    "returns = returns.dropna()"
   ]
  },
  {
   "cell_type": "code",
   "execution_count": 121,
   "metadata": {
    "ExecuteTime": {
     "end_time": "2018-09-27T12:56:54.506378Z",
     "start_time": "2018-09-27T12:56:54.451790Z"
    }
   },
   "outputs": [],
   "source": [
    "# returns = returns.reset_index('date')\n",
    "dates = returns.index.get_level_values('date')\n",
    "returns['year'] = dates.year\n",
    "returns['month'] = dates.month\n",
    "returns = pd.get_dummies(returns, columns=['year', 'month'])"
   ]
  },
  {
   "cell_type": "code",
   "execution_count": 122,
   "metadata": {
    "ExecuteTime": {
     "end_time": "2018-09-27T12:56:54.577182Z",
     "start_time": "2018-09-27T12:56:54.507509Z"
    }
   },
   "outputs": [
    {
     "name": "stdout",
     "output_type": "stream",
     "text": [
      "<class 'pandas.core.frame.DataFrame'>\n",
      "MultiIndex: 171169 entries, (FCFS, 2010-08-31 00:00:00) to (ZUMZ, 2018-03-31 00:00:00)\n",
      "Data columns (total 34 columns):\n",
      "returns      171169 non-null float64\n",
      "t-1          171169 non-null float64\n",
      "t-2          171169 non-null float64\n",
      "t-3          171169 non-null float64\n",
      "t-4          171169 non-null float64\n",
      "t-5          171169 non-null float64\n",
      "t-6          171169 non-null float64\n",
      "t-7          171169 non-null float64\n",
      "t-8          171169 non-null float64\n",
      "t-9          171169 non-null float64\n",
      "t-10         171169 non-null float64\n",
      "t-11         171169 non-null float64\n",
      "t-12         171169 non-null float64\n",
      "year_2010    171169 non-null uint8\n",
      "year_2011    171169 non-null uint8\n",
      "year_2012    171169 non-null uint8\n",
      "year_2013    171169 non-null uint8\n",
      "year_2014    171169 non-null uint8\n",
      "year_2015    171169 non-null uint8\n",
      "year_2016    171169 non-null uint8\n",
      "year_2017    171169 non-null uint8\n",
      "year_2018    171169 non-null uint8\n",
      "month_1      171169 non-null uint8\n",
      "month_2      171169 non-null uint8\n",
      "month_3      171169 non-null uint8\n",
      "month_4      171169 non-null uint8\n",
      "month_5      171169 non-null uint8\n",
      "month_6      171169 non-null uint8\n",
      "month_7      171169 non-null uint8\n",
      "month_8      171169 non-null uint8\n",
      "month_9      171169 non-null uint8\n",
      "month_10     171169 non-null uint8\n",
      "month_11     171169 non-null uint8\n",
      "month_12     171169 non-null uint8\n",
      "dtypes: float64(13), uint8(21)\n",
      "memory usage: 20.9+ MB\n"
     ]
    }
   ],
   "source": [
    "returns.info()"
   ]
  },
  {
   "cell_type": "markdown",
   "metadata": {},
   "source": [
    "### Get stock characteristics"
   ]
  },
  {
   "cell_type": "markdown",
   "metadata": {},
   "source": [
    "#### Create age proxy"
   ]
  },
  {
   "cell_type": "code",
   "execution_count": 123,
   "metadata": {
    "ExecuteTime": {
     "end_time": "2018-09-27T12:56:54.582024Z",
     "start_time": "2018-09-27T12:56:54.578292Z"
    }
   },
   "outputs": [],
   "source": [
    "stocks['age'] = pd.qcut(stocks.ipoyear, q=5, labels=list(range(1, 6))).astype(float).fillna(0).astype(int)\n",
    "stocks = stocks.drop('ipoyear', axis=1)"
   ]
  },
  {
   "cell_type": "markdown",
   "metadata": {},
   "source": [
    "#### Create size proxy"
   ]
  },
  {
   "cell_type": "code",
   "execution_count": 124,
   "metadata": {
    "ExecuteTime": {
     "end_time": "2018-09-27T12:56:54.594618Z",
     "start_time": "2018-09-27T12:56:54.583088Z"
    }
   },
   "outputs": [
    {
     "name": "stdout",
     "output_type": "stream",
     "text": [
      "<class 'pandas.core.frame.DataFrame'>\n",
      "Index: 2431 entries, A to ZUMZ\n",
      "Data columns (total 4 columns):\n",
      "marketcap    2431 non-null float64\n",
      "sector       2393 non-null object\n",
      "age          2431 non-null int64\n",
      "mcap         2431 non-null object\n",
      "dtypes: float64(1), int64(1), object(2)\n",
      "memory usage: 95.0+ KB\n"
     ]
    }
   ],
   "source": [
    "stocks.marketcap = stocks.marketcap.str.replace('$', '')\n",
    "stocks['mcap'] = stocks.marketcap.str[-1]\n",
    "stocks.marketcap =  pd.to_numeric(stocks.marketcap.str[:-1])\n",
    "stocks = stocks[stocks.mcap.isin(['B', 'M'])]\n",
    "stocks.info()"
   ]
  },
  {
   "cell_type": "code",
   "execution_count": 125,
   "metadata": {
    "ExecuteTime": {
     "end_time": "2018-09-27T12:56:54.682642Z",
     "start_time": "2018-09-27T12:56:54.595773Z"
    }
   },
   "outputs": [],
   "source": [
    "stocks.marketcap = stocks.apply(lambda x: x.marketcap * 1000 if x.mcap == 'B' else x.marketcap, axis=1)\n",
    "stocks['size'] = pd.qcut(stocks.marketcap, q=10, labels=list(range(1, 11)))\n",
    "stocks = stocks.drop(['mcap', 'marketcap'], axis=1)"
   ]
  },
  {
   "cell_type": "markdown",
   "metadata": {},
   "source": [
    "#### Create Dummy variables"
   ]
  },
  {
   "cell_type": "code",
   "execution_count": 126,
   "metadata": {
    "ExecuteTime": {
     "end_time": "2018-09-27T12:56:54.689100Z",
     "start_time": "2018-09-27T12:56:54.683875Z"
    }
   },
   "outputs": [
    {
     "name": "stdout",
     "output_type": "stream",
     "text": [
      "<class 'pandas.core.frame.DataFrame'>\n",
      "Index: 2431 entries, A to ZUMZ\n",
      "Data columns (total 3 columns):\n",
      "sector    2393 non-null object\n",
      "age       2431 non-null int64\n",
      "size      2431 non-null category\n",
      "dtypes: category(1), int64(1), object(1)\n",
      "memory usage: 59.7+ KB\n"
     ]
    }
   ],
   "source": [
    "stocks.info()"
   ]
  },
  {
   "cell_type": "code",
   "execution_count": 127,
   "metadata": {
    "ExecuteTime": {
     "end_time": "2018-09-27T12:58:01.002265Z",
     "start_time": "2018-09-27T12:58:00.973419Z"
    }
   },
   "outputs": [
    {
     "name": "stdout",
     "output_type": "stream",
     "text": [
      "<class 'pandas.core.frame.DataFrame'>\n",
      "Index: 2431 entries, A to ZUMZ\n",
      "Data columns (total 28 columns):\n",
      "size_1                   2431 non-null uint8\n",
      "size_2                   2431 non-null uint8\n",
      "size_3                   2431 non-null uint8\n",
      "size_4                   2431 non-null uint8\n",
      "size_5                   2431 non-null uint8\n",
      "size_6                   2431 non-null uint8\n",
      "size_7                   2431 non-null uint8\n",
      "size_8                   2431 non-null uint8\n",
      "size_9                   2431 non-null uint8\n",
      "size_10                  2431 non-null uint8\n",
      "age_0                    2431 non-null uint8\n",
      "age_1                    2431 non-null uint8\n",
      "age_2                    2431 non-null uint8\n",
      "age_3                    2431 non-null uint8\n",
      "age_4                    2431 non-null uint8\n",
      "age_5                    2431 non-null uint8\n",
      "Basic Industries         2431 non-null uint8\n",
      "Capital Goods            2431 non-null uint8\n",
      "Consumer Durables        2431 non-null uint8\n",
      "Consumer Non-Durables    2431 non-null uint8\n",
      "Consumer Services        2431 non-null uint8\n",
      "Energy                   2431 non-null uint8\n",
      "Finance                  2431 non-null uint8\n",
      "Health Care              2431 non-null uint8\n",
      "Miscellaneous            2431 non-null uint8\n",
      "Public Utilities         2431 non-null uint8\n",
      "Technology               2431 non-null uint8\n",
      "Transportation           2431 non-null uint8\n",
      "dtypes: uint8(28)\n",
      "memory usage: 85.5+ KB\n"
     ]
    }
   ],
   "source": [
    "stocks = pd.get_dummies(stocks, \n",
    "                        columns=['size', 'age',  'sector'], \n",
    "                        prefix=['size', 'age', ''], \n",
    "                        prefix_sep=['_', '_', ''])\n",
    "stocks.info()"
   ]
  },
  {
   "cell_type": "markdown",
   "metadata": {},
   "source": [
    "### Combine data"
   ]
  },
  {
   "cell_type": "code",
   "execution_count": 134,
   "metadata": {
    "ExecuteTime": {
     "end_time": "2018-09-27T12:59:53.768416Z",
     "start_time": "2018-09-27T12:59:50.917674Z"
    },
    "scrolled": true
   },
   "outputs": [
    {
     "name": "stdout",
     "output_type": "stream",
     "text": [
      "<class 'pandas.core.frame.DataFrame'>\n",
      "MultiIndex: 174551 entries, (A, 2011-02-28 00:00:00) to (ZUMZ, 2018-03-31 00:00:00)\n",
      "Data columns (total 62 columns):\n",
      "returns                  174551 non-null float64\n",
      "t-1                      174551 non-null float64\n",
      "t-2                      174551 non-null float64\n",
      "t-3                      174551 non-null float64\n",
      "t-4                      174551 non-null float64\n",
      "t-5                      174551 non-null float64\n",
      "t-6                      174551 non-null float64\n",
      "t-7                      174551 non-null float64\n",
      "t-8                      174551 non-null float64\n",
      "t-9                      174551 non-null float64\n",
      "t-10                     174551 non-null float64\n",
      "t-11                     174551 non-null float64\n",
      "t-12                     174551 non-null float64\n",
      "year_2010                174551 non-null uint8\n",
      "year_2011                174551 non-null uint8\n",
      "year_2012                174551 non-null uint8\n",
      "year_2013                174551 non-null uint8\n",
      "year_2014                174551 non-null uint8\n",
      "year_2015                174551 non-null uint8\n",
      "year_2016                174551 non-null uint8\n",
      "year_2017                174551 non-null uint8\n",
      "year_2018                174551 non-null uint8\n",
      "month_1                  174551 non-null uint8\n",
      "month_2                  174551 non-null uint8\n",
      "month_3                  174551 non-null uint8\n",
      "month_4                  174551 non-null uint8\n",
      "month_5                  174551 non-null uint8\n",
      "month_6                  174551 non-null uint8\n",
      "month_7                  174551 non-null uint8\n",
      "month_8                  174551 non-null uint8\n",
      "month_9                  174551 non-null uint8\n",
      "month_10                 174551 non-null uint8\n",
      "month_11                 174551 non-null uint8\n",
      "month_12                 174551 non-null uint8\n",
      "size_1                   174551 non-null int8\n",
      "size_2                   174551 non-null int8\n",
      "size_3                   174551 non-null int8\n",
      "size_4                   174551 non-null int8\n",
      "size_5                   174551 non-null int8\n",
      "size_6                   174551 non-null int8\n",
      "size_7                   174551 non-null int8\n",
      "size_8                   174551 non-null int8\n",
      "size_9                   174551 non-null int8\n",
      "size_10                  174551 non-null int8\n",
      "age_0                    174551 non-null int8\n",
      "age_1                    174551 non-null int8\n",
      "age_2                    174551 non-null int8\n",
      "age_3                    174551 non-null int8\n",
      "age_4                    174551 non-null int8\n",
      "age_5                    174551 non-null int8\n",
      "Basic Industries         174551 non-null int8\n",
      "Capital Goods            174551 non-null int8\n",
      "Consumer Durables        174551 non-null int8\n",
      "Consumer Non-Durables    174551 non-null int8\n",
      "Consumer Services        174551 non-null int8\n",
      "Energy                   174551 non-null int8\n",
      "Finance                  174551 non-null int8\n",
      "Health Care              174551 non-null int8\n",
      "Miscellaneous            174551 non-null int8\n",
      "Public Utilities         174551 non-null int8\n",
      "Technology               174551 non-null int8\n",
      "Transportation           174551 non-null int8\n",
      "dtypes: float64(13), int8(28), uint8(21)\n",
      "memory usage: 26.0+ MB\n"
     ]
    }
   ],
   "source": [
    "data = (returns\n",
    "        .reset_index('date')\n",
    "        .merge(stocks, left_index=True, right_index=True)\n",
    "        .dropna()\n",
    "        .set_index('date', append=True))\n",
    "\n",
    "s = len(returns.columns)\n",
    "data.iloc[:, s:] = data.iloc[:, s:].astype(int).apply(pd.to_numeric, downcast='integer')\n",
    "data.info()"
   ]
  },
  {
   "cell_type": "markdown",
   "metadata": {},
   "source": [
    "### Create train-test indexes"
   ]
  },
  {
   "cell_type": "markdown",
   "metadata": {},
   "source": [
    "### Store data"
   ]
  },
  {
   "cell_type": "code",
   "execution_count": 136,
   "metadata": {
    "ExecuteTime": {
     "end_time": "2018-09-27T13:00:54.081891Z",
     "start_time": "2018-09-27T13:00:54.036345Z"
    }
   },
   "outputs": [],
   "source": [
    "with pd.HDFStore('data.h5') as store:\n",
    "    store.put('data', data)"
   ]
  },
  {
   "cell_type": "code",
   "execution_count": 138,
   "metadata": {
    "ExecuteTime": {
     "end_time": "2018-09-27T13:01:55.470575Z",
     "start_time": "2018-09-27T13:01:55.338713Z"
    }
   },
   "outputs": [
    {
     "name": "stdout",
     "output_type": "stream",
     "text": [
      "<class 'pandas.core.frame.DataFrame'>\n",
      "MultiIndex: 174551 entries, (A, 2011-02-28 00:00:00) to (ZUMZ, 2018-03-31 00:00:00)\n",
      "Data columns (total 44 columns):\n",
      "returns                  174551 non-null float64\n",
      "t-1                      174551 non-null float64\n",
      "t-2                      174551 non-null float64\n",
      "t-3                      174551 non-null float64\n",
      "t-4                      174551 non-null float64\n",
      "t-5                      174551 non-null float64\n",
      "t-6                      174551 non-null float64\n",
      "year_2010                174551 non-null uint8\n",
      "year_2011                174551 non-null uint8\n",
      "year_2012                174551 non-null uint8\n",
      "year_2013                174551 non-null uint8\n",
      "year_2014                174551 non-null uint8\n",
      "year_2015                174551 non-null uint8\n",
      "year_2016                174551 non-null uint8\n",
      "year_2017                174551 non-null uint8\n",
      "year_2018                174551 non-null uint8\n",
      "size_1                   174551 non-null int8\n",
      "size_2                   174551 non-null int8\n",
      "size_3                   174551 non-null int8\n",
      "size_4                   174551 non-null int8\n",
      "size_5                   174551 non-null int8\n",
      "size_6                   174551 non-null int8\n",
      "size_7                   174551 non-null int8\n",
      "size_8                   174551 non-null int8\n",
      "size_9                   174551 non-null int8\n",
      "size_10                  174551 non-null int8\n",
      "age_0                    174551 non-null int8\n",
      "age_1                    174551 non-null int8\n",
      "age_2                    174551 non-null int8\n",
      "age_3                    174551 non-null int8\n",
      "age_4                    174551 non-null int8\n",
      "age_5                    174551 non-null int8\n",
      "Basic Industries         174551 non-null int8\n",
      "Capital Goods            174551 non-null int8\n",
      "Consumer Durables        174551 non-null int8\n",
      "Consumer Non-Durables    174551 non-null int8\n",
      "Consumer Services        174551 non-null int8\n",
      "Energy                   174551 non-null int8\n",
      "Finance                  174551 non-null int8\n",
      "Health Care              174551 non-null int8\n",
      "Miscellaneous            174551 non-null int8\n",
      "Public Utilities         174551 non-null int8\n",
      "Technology               174551 non-null int8\n",
      "Transportation           174551 non-null int8\n",
      "dtypes: float64(7), int8(28), uint8(9)\n",
      "memory usage: 16.0+ MB\n"
     ]
    }
   ],
   "source": [
    "with pd.HDFStore('data.h5') as store:\n",
    "    data = store['data']\n",
    "    data = data.drop([f't-{t}' for t in range(7, 13)] + [c for c in data.columns if c.startswith('month')], axis=1)\n",
    "data.info()"
   ]
  },
  {
   "cell_type": "markdown",
   "metadata": {},
   "source": [
    "### Stock Prices"
   ]
  },
  {
   "cell_type": "code",
   "execution_count": 139,
   "metadata": {
    "ExecuteTime": {
     "end_time": "2018-09-27T13:01:56.141468Z",
     "start_time": "2018-09-27T13:01:56.132071Z"
    }
   },
   "outputs": [],
   "source": [
    "y = data.returns\n",
    "X = data.drop('returns', axis=1)"
   ]
  },
  {
   "cell_type": "markdown",
   "metadata": {},
   "source": [
    "## Explore Data"
   ]
  },
  {
   "cell_type": "code",
   "execution_count": 140,
   "metadata": {
    "ExecuteTime": {
     "end_time": "2018-09-27T13:01:57.658577Z",
     "start_time": "2018-09-27T13:01:57.615916Z"
    }
   },
   "outputs": [
    {
     "data": {
      "text/plain": [
       "count    174551.000000\n",
       "mean          0.009913\n",
       "std           0.055606\n",
       "min          -0.128560\n",
       "10%          -0.064080\n",
       "20%          -0.036451\n",
       "30.0%        -0.017798\n",
       "40%          -0.002855\n",
       "50%           0.010522\n",
       "60%           0.023904\n",
       "70%           0.038457\n",
       "80%           0.056050\n",
       "90%           0.082772\n",
       "max           0.146335\n",
       "Name: returns, dtype: float64"
      ]
     },
     "execution_count": 140,
     "metadata": {},
     "output_type": "execute_result"
    }
   ],
   "source": [
    "y.describe(percentiles=np.arange(.1, .91, .1))"
   ]
  },
  {
   "cell_type": "code",
   "execution_count": 141,
   "metadata": {
    "ExecuteTime": {
     "end_time": "2018-09-27T13:01:57.790981Z",
     "start_time": "2018-09-27T13:01:57.785313Z"
    }
   },
   "outputs": [],
   "source": [
    "y_binary = (y>0).astype(int)"
   ]
  },
  {
   "cell_type": "markdown",
   "metadata": {},
   "source": [
    "## Test KFold"
   ]
  },
  {
   "cell_type": "code",
   "execution_count": 142,
   "metadata": {
    "ExecuteTime": {
     "end_time": "2018-09-27T13:02:05.581800Z",
     "start_time": "2018-09-27T13:02:05.568084Z"
    }
   },
   "outputs": [],
   "source": [
    "class OneStepTimeSeriesSplit:\n",
    "    \"\"\"Generates tuples of train_idx, test_idx pairs\n",
    "    Assumes the index contains a level labeled 'date'\"\"\"\n",
    "    def __init__(self, n_splits=3):\n",
    "        self.n_splits = n_splits\n",
    "\n",
    "    def split(self, X, y=None, groups=None):\n",
    "        dates = np.sort(X.index.get_level_values('date').unique())[::-1]\n",
    "        X['idx'] = range(len(X))\n",
    "        for date in dates[:self.n_splits]:\n",
    "            train_idx = X.loc[X.index.get_level_values('date') < date, 'idx'].values\n",
    "            test_idx = X.loc[X.index.get_level_values( 'date') == date, 'idx'].values\n",
    "            yield train_idx, test_idx\n",
    "\n",
    "    def get_n_splits(self, X, y, groups=None):\n",
    "        return self.n_splits"
   ]
  },
  {
   "cell_type": "markdown",
   "metadata": {},
   "source": [
    "### Manual split"
   ]
  },
  {
   "cell_type": "code",
   "execution_count": 143,
   "metadata": {
    "ExecuteTime": {
     "end_time": "2018-09-27T13:02:19.279671Z",
     "start_time": "2018-09-27T13:02:19.277851Z"
    }
   },
   "outputs": [],
   "source": [
    "kf = OneStepTimeSeriesSplit(n_splits=10)"
   ]
  },
  {
   "cell_type": "code",
   "execution_count": 144,
   "metadata": {
    "ExecuteTime": {
     "end_time": "2018-09-27T13:03:01.704034Z",
     "start_time": "2018-09-27T13:03:01.651413Z"
    }
   },
   "outputs": [
    {
     "name": "stdout",
     "output_type": "stream",
     "text": [
      "DatetimeIndex(['2018-03-31'], dtype='datetime64[ns]', name='date', freq=None)\n",
      "DatetimeIndex(['2018-02-28'], dtype='datetime64[ns]', name='date', freq=None)\n",
      "DatetimeIndex(['2018-01-31'], dtype='datetime64[ns]', name='date', freq=None)\n",
      "DatetimeIndex(['2017-12-31'], dtype='datetime64[ns]', name='date', freq=None)\n",
      "DatetimeIndex(['2017-11-30'], dtype='datetime64[ns]', name='date', freq=None)\n",
      "DatetimeIndex(['2017-10-31'], dtype='datetime64[ns]', name='date', freq=None)\n",
      "DatetimeIndex(['2017-09-30'], dtype='datetime64[ns]', name='date', freq=None)\n",
      "DatetimeIndex(['2017-08-31'], dtype='datetime64[ns]', name='date', freq=None)\n",
      "DatetimeIndex(['2017-07-31'], dtype='datetime64[ns]', name='date', freq=None)\n",
      "DatetimeIndex(['2017-06-30'], dtype='datetime64[ns]', name='date', freq=None)\n"
     ]
    }
   ],
   "source": [
    "for train, test in kf.split(X):\n",
    "    print(X.iloc[test].index.get_level_values('date').unique())"
   ]
  },
  {
   "cell_type": "markdown",
   "metadata": {},
   "source": [
    "### GridSearchCV"
   ]
  },
  {
   "cell_type": "code",
   "execution_count": 145,
   "metadata": {
    "ExecuteTime": {
     "end_time": "2018-09-27T18:42:24.469185Z",
     "start_time": "2018-09-27T18:42:24.465867Z"
    }
   },
   "outputs": [],
   "source": [
    "reg_tree = DecisionTreeRegressor(random_state=42)\n",
    "\n",
    "param_grid = {'max_depth': range(1, 20, 2),\n",
    "              'min_samples_leaf': [250, 500],\n",
    "              'max_features': [None, .8, 'auto', 'sqrt']\n",
    "              }"
   ]
  },
  {
   "cell_type": "code",
   "execution_count": 146,
   "metadata": {
    "ExecuteTime": {
     "end_time": "2018-09-27T18:42:24.780811Z",
     "start_time": "2018-09-27T18:42:24.760094Z"
    }
   },
   "outputs": [
    {
     "ename": "NameError",
     "evalue": "name 'GroupedTimeSeriesSplit' is not defined",
     "output_type": "error",
     "traceback": [
      "\u001b[0;31m---------------------------------------------------------------------------\u001b[0m",
      "\u001b[0;31mNameError\u001b[0m                                 Traceback (most recent call last)",
      "\u001b[0;32m<ipython-input-146-7476bb3ac97c>\u001b[0m in \u001b[0;36m<module>\u001b[0;34m()\u001b[0m\n\u001b[0;32m----> 1\u001b[0;31m \u001b[0mkf\u001b[0m \u001b[0;34m=\u001b[0m \u001b[0mGroupedTimeSeriesSplit\u001b[0m\u001b[0;34m(\u001b[0m\u001b[0;36m5\u001b[0m\u001b[0;34m)\u001b[0m\u001b[0;34m\u001b[0m\u001b[0m\n\u001b[0m",
      "\u001b[0;31mNameError\u001b[0m: name 'GroupedTimeSeriesSplit' is not defined"
     ]
    }
   ],
   "source": [
    "kf = GroupedTimeSeriesSplit(5)"
   ]
  },
  {
   "cell_type": "code",
   "execution_count": 147,
   "metadata": {
    "ExecuteTime": {
     "end_time": "2018-09-27T18:42:25.208162Z",
     "start_time": "2018-09-27T18:42:25.201567Z"
    }
   },
   "outputs": [],
   "source": [
    "gridsearch_reg = GridSearchCV(estimator=reg_tree,\n",
    "                              param_grid=param_grid,\n",
    "                              scoring='neg_mean_squared_error',\n",
    "                              n_jobs=-1,\n",
    "                              cv=kf,\n",
    "                              refit=True,\n",
    "                              return_train_score=True)"
   ]
  },
  {
   "cell_type": "code",
   "execution_count": 148,
   "metadata": {
    "ExecuteTime": {
     "end_time": "2018-09-27T18:54:14.283036Z",
     "start_time": "2018-09-27T18:42:26.860445Z"
    }
   },
   "outputs": [
    {
     "ename": "KeyboardInterrupt",
     "evalue": "",
     "output_type": "error",
     "traceback": [
      "\u001b[0;31m---------------------------------------------------------------------------\u001b[0m",
      "\u001b[0;31mKeyboardInterrupt\u001b[0m                         Traceback (most recent call last)",
      "\u001b[0;32m<ipython-input-148-97f2e0b0789f>\u001b[0m in \u001b[0;36m<module>\u001b[0;34m()\u001b[0m\n\u001b[0;32m----> 1\u001b[0;31m \u001b[0mgridsearch_reg\u001b[0m\u001b[0;34m.\u001b[0m\u001b[0mfit\u001b[0m\u001b[0;34m(\u001b[0m\u001b[0mX\u001b[0m\u001b[0;34m=\u001b[0m\u001b[0mX\u001b[0m\u001b[0;34m,\u001b[0m \u001b[0my\u001b[0m\u001b[0;34m=\u001b[0m\u001b[0my\u001b[0m\u001b[0;34m)\u001b[0m\u001b[0;34m\u001b[0m\u001b[0m\n\u001b[0m",
      "\u001b[0;32m~/.pyenv/versions/3.6.4/envs/at-3.6/lib/python3.6/site-packages/sklearn/model_selection/_search.py\u001b[0m in \u001b[0;36mfit\u001b[0;34m(self, X, y, groups, **fit_params)\u001b[0m\n\u001b[1;32m    638\u001b[0m                                   error_score=self.error_score)\n\u001b[1;32m    639\u001b[0m           for parameters, (train, test) in product(candidate_params,\n\u001b[0;32m--> 640\u001b[0;31m                                                    cv.split(X, y, groups)))\n\u001b[0m\u001b[1;32m    641\u001b[0m \u001b[0;34m\u001b[0m\u001b[0m\n\u001b[1;32m    642\u001b[0m         \u001b[0;31m# if one choose to see train score, \"out\" will contain train score info\u001b[0m\u001b[0;34m\u001b[0m\u001b[0;34m\u001b[0m\u001b[0m\n",
      "\u001b[0;32m~/.pyenv/versions/3.6.4/envs/at-3.6/lib/python3.6/site-packages/sklearn/externals/joblib/parallel.py\u001b[0m in \u001b[0;36m__call__\u001b[0;34m(self, iterable)\u001b[0m\n\u001b[1;32m    787\u001b[0m                 \u001b[0;31m# consumption.\u001b[0m\u001b[0;34m\u001b[0m\u001b[0;34m\u001b[0m\u001b[0m\n\u001b[1;32m    788\u001b[0m                 \u001b[0mself\u001b[0m\u001b[0;34m.\u001b[0m\u001b[0m_iterating\u001b[0m \u001b[0;34m=\u001b[0m \u001b[0;32mFalse\u001b[0m\u001b[0;34m\u001b[0m\u001b[0m\n\u001b[0;32m--> 789\u001b[0;31m             \u001b[0mself\u001b[0m\u001b[0;34m.\u001b[0m\u001b[0mretrieve\u001b[0m\u001b[0;34m(\u001b[0m\u001b[0;34m)\u001b[0m\u001b[0;34m\u001b[0m\u001b[0m\n\u001b[0m\u001b[1;32m    790\u001b[0m             \u001b[0;31m# Make sure that we get a last message telling us we are done\u001b[0m\u001b[0;34m\u001b[0m\u001b[0;34m\u001b[0m\u001b[0m\n\u001b[1;32m    791\u001b[0m             \u001b[0melapsed_time\u001b[0m \u001b[0;34m=\u001b[0m \u001b[0mtime\u001b[0m\u001b[0;34m.\u001b[0m\u001b[0mtime\u001b[0m\u001b[0;34m(\u001b[0m\u001b[0;34m)\u001b[0m \u001b[0;34m-\u001b[0m \u001b[0mself\u001b[0m\u001b[0;34m.\u001b[0m\u001b[0m_start_time\u001b[0m\u001b[0;34m\u001b[0m\u001b[0m\n",
      "\u001b[0;32m~/.pyenv/versions/3.6.4/envs/at-3.6/lib/python3.6/site-packages/sklearn/externals/joblib/parallel.py\u001b[0m in \u001b[0;36mretrieve\u001b[0;34m(self)\u001b[0m\n\u001b[1;32m    697\u001b[0m             \u001b[0;32mtry\u001b[0m\u001b[0;34m:\u001b[0m\u001b[0;34m\u001b[0m\u001b[0m\n\u001b[1;32m    698\u001b[0m                 \u001b[0;32mif\u001b[0m \u001b[0mgetattr\u001b[0m\u001b[0;34m(\u001b[0m\u001b[0mself\u001b[0m\u001b[0;34m.\u001b[0m\u001b[0m_backend\u001b[0m\u001b[0;34m,\u001b[0m \u001b[0;34m'supports_timeout'\u001b[0m\u001b[0;34m,\u001b[0m \u001b[0;32mFalse\u001b[0m\u001b[0;34m)\u001b[0m\u001b[0;34m:\u001b[0m\u001b[0;34m\u001b[0m\u001b[0m\n\u001b[0;32m--> 699\u001b[0;31m                     \u001b[0mself\u001b[0m\u001b[0;34m.\u001b[0m\u001b[0m_output\u001b[0m\u001b[0;34m.\u001b[0m\u001b[0mextend\u001b[0m\u001b[0;34m(\u001b[0m\u001b[0mjob\u001b[0m\u001b[0;34m.\u001b[0m\u001b[0mget\u001b[0m\u001b[0;34m(\u001b[0m\u001b[0mtimeout\u001b[0m\u001b[0;34m=\u001b[0m\u001b[0mself\u001b[0m\u001b[0;34m.\u001b[0m\u001b[0mtimeout\u001b[0m\u001b[0;34m)\u001b[0m\u001b[0;34m)\u001b[0m\u001b[0;34m\u001b[0m\u001b[0m\n\u001b[0m\u001b[1;32m    700\u001b[0m                 \u001b[0;32melse\u001b[0m\u001b[0;34m:\u001b[0m\u001b[0;34m\u001b[0m\u001b[0m\n\u001b[1;32m    701\u001b[0m                     \u001b[0mself\u001b[0m\u001b[0;34m.\u001b[0m\u001b[0m_output\u001b[0m\u001b[0;34m.\u001b[0m\u001b[0mextend\u001b[0m\u001b[0;34m(\u001b[0m\u001b[0mjob\u001b[0m\u001b[0;34m.\u001b[0m\u001b[0mget\u001b[0m\u001b[0;34m(\u001b[0m\u001b[0;34m)\u001b[0m\u001b[0;34m)\u001b[0m\u001b[0;34m\u001b[0m\u001b[0m\n",
      "\u001b[0;32m~/.pyenv/versions/3.6.4/lib/python3.6/multiprocessing/pool.py\u001b[0m in \u001b[0;36mget\u001b[0;34m(self, timeout)\u001b[0m\n\u001b[1;32m    636\u001b[0m \u001b[0;34m\u001b[0m\u001b[0m\n\u001b[1;32m    637\u001b[0m     \u001b[0;32mdef\u001b[0m \u001b[0mget\u001b[0m\u001b[0;34m(\u001b[0m\u001b[0mself\u001b[0m\u001b[0;34m,\u001b[0m \u001b[0mtimeout\u001b[0m\u001b[0;34m=\u001b[0m\u001b[0;32mNone\u001b[0m\u001b[0;34m)\u001b[0m\u001b[0;34m:\u001b[0m\u001b[0;34m\u001b[0m\u001b[0m\n\u001b[0;32m--> 638\u001b[0;31m         \u001b[0mself\u001b[0m\u001b[0;34m.\u001b[0m\u001b[0mwait\u001b[0m\u001b[0;34m(\u001b[0m\u001b[0mtimeout\u001b[0m\u001b[0;34m)\u001b[0m\u001b[0;34m\u001b[0m\u001b[0m\n\u001b[0m\u001b[1;32m    639\u001b[0m         \u001b[0;32mif\u001b[0m \u001b[0;32mnot\u001b[0m \u001b[0mself\u001b[0m\u001b[0;34m.\u001b[0m\u001b[0mready\u001b[0m\u001b[0;34m(\u001b[0m\u001b[0;34m)\u001b[0m\u001b[0;34m:\u001b[0m\u001b[0;34m\u001b[0m\u001b[0m\n\u001b[1;32m    640\u001b[0m             \u001b[0;32mraise\u001b[0m \u001b[0mTimeoutError\u001b[0m\u001b[0;34m\u001b[0m\u001b[0m\n",
      "\u001b[0;32m~/.pyenv/versions/3.6.4/lib/python3.6/multiprocessing/pool.py\u001b[0m in \u001b[0;36mwait\u001b[0;34m(self, timeout)\u001b[0m\n\u001b[1;32m    633\u001b[0m \u001b[0;34m\u001b[0m\u001b[0m\n\u001b[1;32m    634\u001b[0m     \u001b[0;32mdef\u001b[0m \u001b[0mwait\u001b[0m\u001b[0;34m(\u001b[0m\u001b[0mself\u001b[0m\u001b[0;34m,\u001b[0m \u001b[0mtimeout\u001b[0m\u001b[0;34m=\u001b[0m\u001b[0;32mNone\u001b[0m\u001b[0;34m)\u001b[0m\u001b[0;34m:\u001b[0m\u001b[0;34m\u001b[0m\u001b[0m\n\u001b[0;32m--> 635\u001b[0;31m         \u001b[0mself\u001b[0m\u001b[0;34m.\u001b[0m\u001b[0m_event\u001b[0m\u001b[0;34m.\u001b[0m\u001b[0mwait\u001b[0m\u001b[0;34m(\u001b[0m\u001b[0mtimeout\u001b[0m\u001b[0;34m)\u001b[0m\u001b[0;34m\u001b[0m\u001b[0m\n\u001b[0m\u001b[1;32m    636\u001b[0m \u001b[0;34m\u001b[0m\u001b[0m\n\u001b[1;32m    637\u001b[0m     \u001b[0;32mdef\u001b[0m \u001b[0mget\u001b[0m\u001b[0;34m(\u001b[0m\u001b[0mself\u001b[0m\u001b[0;34m,\u001b[0m \u001b[0mtimeout\u001b[0m\u001b[0;34m=\u001b[0m\u001b[0;32mNone\u001b[0m\u001b[0;34m)\u001b[0m\u001b[0;34m:\u001b[0m\u001b[0;34m\u001b[0m\u001b[0m\n",
      "\u001b[0;32m~/.pyenv/versions/3.6.4/lib/python3.6/threading.py\u001b[0m in \u001b[0;36mwait\u001b[0;34m(self, timeout)\u001b[0m\n\u001b[1;32m    549\u001b[0m             \u001b[0msignaled\u001b[0m \u001b[0;34m=\u001b[0m \u001b[0mself\u001b[0m\u001b[0;34m.\u001b[0m\u001b[0m_flag\u001b[0m\u001b[0;34m\u001b[0m\u001b[0m\n\u001b[1;32m    550\u001b[0m             \u001b[0;32mif\u001b[0m \u001b[0;32mnot\u001b[0m \u001b[0msignaled\u001b[0m\u001b[0;34m:\u001b[0m\u001b[0;34m\u001b[0m\u001b[0m\n\u001b[0;32m--> 551\u001b[0;31m                 \u001b[0msignaled\u001b[0m \u001b[0;34m=\u001b[0m \u001b[0mself\u001b[0m\u001b[0;34m.\u001b[0m\u001b[0m_cond\u001b[0m\u001b[0;34m.\u001b[0m\u001b[0mwait\u001b[0m\u001b[0;34m(\u001b[0m\u001b[0mtimeout\u001b[0m\u001b[0;34m)\u001b[0m\u001b[0;34m\u001b[0m\u001b[0m\n\u001b[0m\u001b[1;32m    552\u001b[0m             \u001b[0;32mreturn\u001b[0m \u001b[0msignaled\u001b[0m\u001b[0;34m\u001b[0m\u001b[0m\n\u001b[1;32m    553\u001b[0m \u001b[0;34m\u001b[0m\u001b[0m\n",
      "\u001b[0;32m~/.pyenv/versions/3.6.4/lib/python3.6/threading.py\u001b[0m in \u001b[0;36mwait\u001b[0;34m(self, timeout)\u001b[0m\n\u001b[1;32m    293\u001b[0m         \u001b[0;32mtry\u001b[0m\u001b[0;34m:\u001b[0m    \u001b[0;31m# restore state no matter what (e.g., KeyboardInterrupt)\u001b[0m\u001b[0;34m\u001b[0m\u001b[0m\n\u001b[1;32m    294\u001b[0m             \u001b[0;32mif\u001b[0m \u001b[0mtimeout\u001b[0m \u001b[0;32mis\u001b[0m \u001b[0;32mNone\u001b[0m\u001b[0;34m:\u001b[0m\u001b[0;34m\u001b[0m\u001b[0m\n\u001b[0;32m--> 295\u001b[0;31m                 \u001b[0mwaiter\u001b[0m\u001b[0;34m.\u001b[0m\u001b[0macquire\u001b[0m\u001b[0;34m(\u001b[0m\u001b[0;34m)\u001b[0m\u001b[0;34m\u001b[0m\u001b[0m\n\u001b[0m\u001b[1;32m    296\u001b[0m                 \u001b[0mgotit\u001b[0m \u001b[0;34m=\u001b[0m \u001b[0;32mTrue\u001b[0m\u001b[0;34m\u001b[0m\u001b[0m\n\u001b[1;32m    297\u001b[0m             \u001b[0;32melse\u001b[0m\u001b[0;34m:\u001b[0m\u001b[0;34m\u001b[0m\u001b[0m\n",
      "\u001b[0;31mKeyboardInterrupt\u001b[0m: "
     ]
    }
   ],
   "source": [
    "gridsearch_reg.fit(X=X, y=y)"
   ]
  },
  {
   "cell_type": "code",
   "execution_count": null,
   "metadata": {
    "ExecuteTime": {
     "end_time": "2018-09-27T18:54:14.285904Z",
     "start_time": "2018-09-27T18:42:28.234Z"
    }
   },
   "outputs": [],
   "source": [
    "gridsearch_reg.best_params_"
   ]
  },
  {
   "cell_type": "code",
   "execution_count": null,
   "metadata": {},
   "outputs": [],
   "source": []
  }
 ],
 "metadata": {
  "kernelspec": {
   "display_name": "Python 3",
   "language": "python",
   "name": "python3"
  },
  "language_info": {
   "codemirror_mode": {
    "name": "ipython",
    "version": 3
   },
   "file_extension": ".py",
   "mimetype": "text/x-python",
   "name": "python",
   "nbconvert_exporter": "python",
   "pygments_lexer": "ipython3",
   "version": "3.6.4"
  },
  "toc": {
   "base_numbering": 1,
   "nav_menu": {},
   "number_sections": true,
   "sideBar": true,
   "skip_h1_title": false,
   "title_cell": "Table of Contents",
   "title_sidebar": "Contents",
   "toc_cell": false,
   "toc_position": {},
   "toc_section_display": true,
   "toc_window_display": true
  }
 },
 "nbformat": 4,
 "nbformat_minor": 2
}
