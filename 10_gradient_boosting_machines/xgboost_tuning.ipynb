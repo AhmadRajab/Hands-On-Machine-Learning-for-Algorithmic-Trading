{
 "cells": [
  {
   "cell_type": "code",
   "execution_count": 39,
   "metadata": {
    "ExecuteTime": {
     "end_time": "2018-10-07T14:33:13.211393Z",
     "start_time": "2018-10-07T14:33:13.195886Z"
    }
   },
   "outputs": [],
   "source": [
    "%matplotlib inline\n",
    "import warnings\n",
    "from random import shuffle\n",
    "from time import time\n",
    "import numpy as np\n",
    "import pandas as pd\n",
    "import xgboost as xgb\n",
    "from xgboost.callback import reset_learning_rate\n",
    "from itertools import product\n",
    "from sklearn.metrics import roc_auc_score\n",
    "\n",
    "import matplotlib.pyplot as plt\n",
    "import seaborn as sns"
   ]
  },
  {
   "cell_type": "code",
   "execution_count": 3,
   "metadata": {
    "ExecuteTime": {
     "end_time": "2018-10-07T14:05:37.478900Z",
     "start_time": "2018-10-07T14:05:37.473003Z"
    }
   },
   "outputs": [],
   "source": [
    "warnings.filterwarnings('ignore')\n",
    "plt.style.use('fivethirtyeight')\n",
    "idx = pd.IndexSlice\n",
    "np.random.seed(42)"
   ]
  },
  {
   "cell_type": "markdown",
   "metadata": {},
   "source": [
    "## Helper Functions"
   ]
  },
  {
   "cell_type": "code",
   "execution_count": 91,
   "metadata": {
    "ExecuteTime": {
     "end_time": "2018-10-08T00:54:57.728035Z",
     "start_time": "2018-10-08T00:54:57.540495Z"
    }
   },
   "outputs": [
    {
     "data": {
      "image/png": "[encoded data removed]",
      "text/plain": [
       "<Figure size 432x288 with 1 Axes>"
      ]
     },
     "metadata": {},
     "output_type": "display_data"
    }
   ],
   "source": [
    "err = np.linspace(0, 1, 250)\n",
    "r = np.log((1-err)/err)\n",
    "pd.Series(r, index=err).plot();"
   ]
  },
  {
   "cell_type": "code",
   "execution_count": 47,
   "metadata": {
    "ExecuteTime": {
     "end_time": "2018-10-07T14:42:01.893463Z",
     "start_time": "2018-10-07T14:42:01.884843Z"
    }
   },
   "outputs": [],
   "source": [
    "def format_time(t):\n",
    "    m, s = divmod(t, 60)\n",
    "    h, m = divmod(m, 60)\n",
    "    return f'{h:0>2.0f}:{m:0>2.0f}:{s:0>2.0f}'"
   ]
  },
  {
   "cell_type": "code",
   "execution_count": 4,
   "metadata": {
    "ExecuteTime": {
     "end_time": "2018-10-07T14:06:01.198595Z",
     "start_time": "2018-10-07T14:06:01.182465Z"
    }
   },
   "outputs": [],
   "source": [
    "def get_data(start='2000', end='2018', holding_period=1, dropna=False):\n",
    "    idx = pd.IndexSlice\n",
    "    target = f'target_{holding_period}m'\n",
    "    with pd.HDFStore('data.h5') as store:\n",
    "        df = store['data']\n",
    "\n",
    "    if start is not None and end is not None:\n",
    "        df = df.loc[idx[:, start: end], :]\n",
    "    if dropna:\n",
    "        df = df.dropna()\n",
    "\n",
    "    y = (df[target] > 0).astype(int)\n",
    "    X = df.drop([c for c in df.columns if c.startswith('target')], axis=1)\n",
    "    return y, X"
   ]
  },
  {
   "cell_type": "code",
   "execution_count": 5,
   "metadata": {
    "ExecuteTime": {
     "end_time": "2018-10-07T14:06:05.003942Z",
     "start_time": "2018-10-07T14:06:04.989945Z"
    }
   },
   "outputs": [],
   "source": [
    "def get_one_hot_data(df, cols=('year', 'month', 'age', 'msize')):\n",
    "    cols = list(cols)\n",
    "    df = pd.get_dummies(df,\n",
    "                        columns=cols + ['sector'],\n",
    "                        prefix=cols + [''],\n",
    "                        prefix_sep=['_'] * len(cols) + [''])\n",
    "    return df.rename(columns={c: c.replace('.0', '').replace(' ', '_').lower() for c in df.columns})"
   ]
  },
  {
   "cell_type": "code",
   "execution_count": 6,
   "metadata": {
    "ExecuteTime": {
     "end_time": "2018-10-07T14:06:14.163499Z",
     "start_time": "2018-10-07T14:06:14.149045Z"
    }
   },
   "outputs": [],
   "source": [
    "def get_holdout_set(target, features, period=6):\n",
    "    idx = pd.IndexSlice\n",
    "    label = target.name\n",
    "    dates = np.sort(target.index.get_level_values('date').unique())\n",
    "    cv_start, cv_end = dates[0], dates[-period - 2]\n",
    "    holdout_start, holdout_end = dates[-period - 1], dates[-1]\n",
    "\n",
    "    df = features.join(target.to_frame())\n",
    "    train = df.loc[idx[:, cv_start: cv_end], :]\n",
    "    y_train, X_train = train[label], train.drop(label, axis=1)\n",
    "\n",
    "    test = df.loc[idx[:, holdout_start: holdout_end], :]\n",
    "    y_test, X_test = test[label], test.drop(label, axis=1)\n",
    "    return y_train, X_train, y_test, X_test"
   ]
  },
  {
   "cell_type": "code",
   "execution_count": 7,
   "metadata": {
    "ExecuteTime": {
     "end_time": "2018-10-07T14:06:27.578672Z",
     "start_time": "2018-10-07T14:06:27.574622Z"
    }
   },
   "outputs": [],
   "source": [
    "class OneStepTimeSeriesSplit:\n",
    "    \"\"\"Generates tuples of train_idx, test_idx pairs\n",
    "    Assumes the index contains a level labeled 'date'\"\"\"\n",
    "\n",
    "    def __init__(self, n_splits=3, test_period_length=1, shuffle=False):\n",
    "        self.n_splits = n_splits\n",
    "        self.test_period_length = test_period_length\n",
    "        self.shuffle = shuffle\n",
    "        self.test_end = n_splits * test_period_length\n",
    "\n",
    "    @staticmethod\n",
    "    def chunks(l, n):\n",
    "        for i in range(0, len(l), n):\n",
    "            yield l[i:i + n]\n",
    "\n",
    "    def split(self, X, y=None, groups=None):\n",
    "        unique_dates = (X.index\n",
    "                        .get_level_values('date')\n",
    "                        .unique()\n",
    "                        .sort_values(ascending=False)\n",
    "                        [:self.test_end])\n",
    "\n",
    "        dates = X.reset_index()[['date']]\n",
    "        for test_date in self.chunks(unique_dates, self.test_period_length):\n",
    "            train_idx = dates[dates.date < min(test_date)].index\n",
    "            test_idx = dates[dates.date.isin(test_date)].index\n",
    "            if self.shuffle:\n",
    "                np.random.shuffle(list(train_idx))\n",
    "            yield train_idx, test_idx\n",
    "\n",
    "    def get_n_splits(self, X, y, groups=None):\n",
    "        return self.n_splits"
   ]
  },
  {
   "cell_type": "markdown",
   "metadata": {},
   "source": [
    "## Adaptive Learning"
   ]
  },
  {
   "cell_type": "code",
   "execution_count": 8,
   "metadata": {
    "ExecuteTime": {
     "end_time": "2018-10-07T14:06:40.912182Z",
     "start_time": "2018-10-07T14:06:40.909733Z"
    }
   },
   "outputs": [],
   "source": [
    "def learning_rate(n, ntot):\n",
    "    start_eta = 0.1\n",
    "    k = 8 / ntot\n",
    "    x0 = ntot / 1.8\n",
    "    return start_eta * (1 - 1 / (1 + np.exp(-k * (n - x0))))"
   ]
  },
  {
   "cell_type": "markdown",
   "metadata": {},
   "source": [
    "## Get Data"
   ]
  },
  {
   "cell_type": "code",
   "execution_count": 20,
   "metadata": {
    "ExecuteTime": {
     "end_time": "2018-10-07T14:12:40.978261Z",
     "start_time": "2018-10-07T14:12:40.961034Z"
    }
   },
   "outputs": [],
   "source": [
    "def get_datasets(features, target, kfold):\n",
    "    cat_cols = ['year', 'month', 'age', 'msize', 'sector']\n",
    "    data = {}\n",
    "    for fold, (train_idx, test_idx) in enumerate(kfold.split(features)):\n",
    "        print(fold, end=' ', flush=True)\n",
    "\n",
    "        data[fold] = {'train': xgb.DMatrix(label=target.iloc[train_idx],\n",
    "                                           data=features.iloc[train_idx],\n",
    "                                           nthread=-1),\n",
    "                      'valid': xgb.DMatrix(label=target.iloc[test_idx],\n",
    "                                           data=features.iloc[test_idx],\n",
    "                                           nthread=-1)}\n",
    "    return data     "
   ]
  },
  {
   "cell_type": "markdown",
   "metadata": {},
   "source": [
    "## Train-Test Loop"
   ]
  },
  {
   "cell_type": "code",
   "execution_count": 45,
   "metadata": {
    "ExecuteTime": {
     "end_time": "2018-10-07T14:39:56.192502Z",
     "start_time": "2018-10-07T14:39:56.173702Z"
    }
   },
   "outputs": [],
   "source": [
    "def run_cv(test_params, data, n_splits=12):\n",
    "    \"\"\"Train-Validate with early stopping\"\"\"\n",
    "    result = []\n",
    "    cols = ['rounds', 'train', 'valid']\n",
    "    for fold in range(n_splits):\n",
    "        train = data[fold]['train']\n",
    "        valid = data[fold]['valid']\n",
    "\n",
    "        scores = {}\n",
    "\n",
    "        model = xgb.train(params=test_params,\n",
    "                          dtrain=train,\n",
    "                          evals=list(zip([train, valid], ['train', 'valid'])),\n",
    "                          verbose_eval=False,\n",
    "                          num_boost_round=250,\n",
    "                          early_stopping_rounds=25,\n",
    "                          evals_result=scores)\n",
    "\n",
    "        result.append([model.best_iteration,\n",
    "                       scores['train']['auc'][-1],\n",
    "                       scores['valid']['auc'][-1]])\n",
    "\n",
    "    df = pd.DataFrame(result, columns=cols)\n",
    "    return (df\n",
    "            .mean()\n",
    "            .append(df.std().rename({c: c + '_std' for c in cols}))\n",
    "            .append(pd.Series(test_params)))"
   ]
  },
  {
   "cell_type": "markdown",
   "metadata": {},
   "source": [
    "## Baseline Parameters"
   ]
  },
  {
   "cell_type": "code",
   "execution_count": 75,
   "metadata": {
    "ExecuteTime": {
     "end_time": "2018-10-07T16:25:31.845681Z",
     "start_time": "2018-10-07T16:25:31.824768Z"
    }
   },
   "outputs": [],
   "source": [
    "params = dict(\n",
    "    booster='gbtree',\n",
    "    objective='binary:logistic',\n",
    "    eval_metric=['logloss', 'auc'],\n",
    "    tree_method='hist',\n",
    "    max_depth=6,\n",
    "    learning_rate=0.3,\n",
    "    gamma=0,\n",
    "    min_child_weight=1,\n",
    "    max_delta_step=0,\n",
    "    subsample=1,\n",
    "    colsample_bytree=1,\n",
    "    colsample_bylevel=1,\n",
    "    reg_alpha=0,\n",
    "    reg_lambda=1,\n",
    "    silent=1,\n",
    "    seed=42,\n",
    ")"
   ]
  },
  {
   "cell_type": "markdown",
   "metadata": {},
   "source": [
    "## Setup"
   ]
  },
  {
   "cell_type": "code",
   "execution_count": 76,
   "metadata": {
    "ExecuteTime": {
     "end_time": "2018-10-07T16:25:36.582345Z",
     "start_time": "2018-10-07T16:25:36.580633Z"
    }
   },
   "outputs": [],
   "source": [
    "HOLDOUT = True\n",
    "n_splits = 12\n",
    "result_key = f'/xgboost/results'"
   ]
  },
  {
   "cell_type": "code",
   "execution_count": 77,
   "metadata": {
    "ExecuteTime": {
     "end_time": "2018-10-07T16:25:37.127569Z",
     "start_time": "2018-10-07T16:25:36.692859Z"
    }
   },
   "outputs": [],
   "source": [
    "y, X = get_data()\n",
    "X = get_one_hot_data(X)"
   ]
  },
  {
   "cell_type": "code",
   "execution_count": 78,
   "metadata": {
    "ExecuteTime": {
     "end_time": "2018-10-07T16:25:37.643160Z",
     "start_time": "2018-10-07T16:25:37.128717Z"
    }
   },
   "outputs": [],
   "source": [
    "y, X, y_test, X_test = get_holdout_set(target=y, features=X)"
   ]
  },
  {
   "cell_type": "code",
   "execution_count": 79,
   "metadata": {
    "ExecuteTime": {
     "end_time": "2018-10-07T16:25:37.645820Z",
     "start_time": "2018-10-07T16:25:37.644194Z"
    }
   },
   "outputs": [],
   "source": [
    "cv = OneStepTimeSeriesSplit(n_splits=n_splits)"
   ]
  },
  {
   "cell_type": "code",
   "execution_count": 21,
   "metadata": {
    "ExecuteTime": {
     "end_time": "2018-10-07T14:12:50.637243Z",
     "start_time": "2018-10-07T14:12:43.941247Z"
    }
   },
   "outputs": [
    {
     "name": "stdout",
     "output_type": "stream",
     "text": [
      "0 1 2 3 4 5 6 7 8 9 10 11 "
     ]
    }
   ],
   "source": [
    "datasets = get_datasets(features=X, target=y, kfold=cv)"
   ]
  },
  {
   "cell_type": "code",
   "execution_count": 80,
   "metadata": {
    "ExecuteTime": {
     "end_time": "2018-10-07T16:25:48.731505Z",
     "start_time": "2018-10-07T16:25:48.729266Z"
    }
   },
   "outputs": [],
   "source": [
    "results = pd.DataFrame()"
   ]
  },
  {
   "cell_type": "code",
   "execution_count": 81,
   "metadata": {
    "ExecuteTime": {
     "end_time": "2018-10-07T16:25:49.583300Z",
     "start_time": "2018-10-07T16:25:49.572230Z"
    }
   },
   "outputs": [
    {
     "name": "stdout",
     "output_type": "stream",
     "text": [
      "      rounds     train     valid booster  learning_rate  gamma  max_depth  \\\n",
      "0  59.166667  0.798142  0.683618  gbtree            0.1      1          9   \n",
      "1  59.166667  0.798142  0.683618  gbtree            0.1      5          9   \n",
      "2  59.166667  0.798142  0.683618  gbtree            0.1      0          9   \n",
      "3  47.666667  0.790726  0.681356    dart            0.1      1          9   \n",
      "4  47.666667  0.790726  0.681356    dart            0.1      5          9   \n",
      "5  47.666667  0.790726  0.681356    dart            0.1      0          9   \n",
      "6  53.833333  0.847023  0.679781  gbtree            0.1      0         11   \n",
      "7  53.833333  0.847023  0.679781  gbtree            0.1      1         11   \n",
      "8  53.833333  0.847023  0.679781  gbtree            0.1      5         11   \n",
      "9  44.583333  0.790091  0.679346    dart            0.1      0          9   \n",
      "\n",
      "   colsample_bytree        time  \n",
      "0               1.0   85.372013  \n",
      "1               1.0   94.299514  \n",
      "2               1.0   75.323257  \n",
      "3               0.8  564.300030  \n",
      "4               0.8  541.779476  \n",
      "5               0.8  490.855656  \n",
      "6               0.8  133.131528  \n",
      "7               0.8  136.267916  \n",
      "8               0.8  128.874094  \n",
      "9               1.0  435.602095  \n"
     ]
    }
   ],
   "source": [
    "with pd.HDFStore('results.h5') as store:\n",
    "    cv_result = store['xgboost/dummies']\n",
    "print(cv_result.head(10))"
   ]
  },
  {
   "cell_type": "code",
   "execution_count": null,
   "metadata": {},
   "outputs": [],
   "source": [
    "test_params = ['booster', 'learning_rate', 'gamma', 'max_depth', 'colsample_bytree']"
   ]
  },
  {
   "cell_type": "markdown",
   "metadata": {},
   "source": [
    "## Parameter Grid"
   ]
  },
  {
   "cell_type": "code",
   "execution_count": 86,
   "metadata": {
    "ExecuteTime": {
     "end_time": "2018-10-07T16:35:33.635268Z",
     "start_time": "2018-10-07T16:35:33.632551Z"
    }
   },
   "outputs": [],
   "source": [
    "param_grid = dict(\n",
    "        learning_rate=[.1],\n",
    "        max_depth=[9],\n",
    "        booster=['gbtree'],\n",
    "        gamma=[10, 20, 50],\n",
    "        colsample_bytree=[1])"
   ]
  },
  {
   "cell_type": "code",
   "execution_count": 87,
   "metadata": {
    "ExecuteTime": {
     "end_time": "2018-10-07T16:35:33.933753Z",
     "start_time": "2018-10-07T16:35:33.926355Z"
    }
   },
   "outputs": [
    {
     "name": "stdout",
     "output_type": "stream",
     "text": [
      "# Models: 3\n"
     ]
    }
   ],
   "source": [
    "all_params = list(product(*param_grid.values()))\n",
    "shuffle(all_params)\n",
    "n_models = len(all_params)\n",
    "print(f'# Models: {n_models:,d}')"
   ]
  },
  {
   "cell_type": "code",
   "execution_count": 88,
   "metadata": {
    "ExecuteTime": {
     "end_time": "2018-10-07T16:35:34.344218Z",
     "start_time": "2018-10-07T16:35:34.339604Z"
    }
   },
   "outputs": [],
   "source": [
    "display_cols = ['rounds', 'time', 'valid', 'valid_std', 'train'] + list(param_grid.keys())"
   ]
  },
  {
   "cell_type": "code",
   "execution_count": 89,
   "metadata": {
    "ExecuteTime": {
     "end_time": "2018-10-07T16:40:27.777266Z",
     "start_time": "2018-10-07T16:35:34.524674Z"
    }
   },
   "outputs": [
    {
     "name": "stdout",
     "output_type": "stream",
     "text": [
      "[12:35:34] Tree method is selected to be 'hist', which uses a single updater grow_fast_histmaker.\n",
      "[12:35:46] Tree method is selected to be 'hist', which uses a single updater grow_fast_histmaker.\n",
      "[12:35:57] Tree method is selected to be 'hist', which uses a single updater grow_fast_histmaker.\n",
      "[12:36:02] Tree method is selected to be 'hist', which uses a single updater grow_fast_histmaker.\n",
      "[12:36:22] Tree method is selected to be 'hist', which uses a single updater grow_fast_histmaker.\n",
      "[12:36:31] Tree method is selected to be 'hist', which uses a single updater grow_fast_histmaker.\n",
      "[12:36:42] Tree method is selected to be 'hist', which uses a single updater grow_fast_histmaker.\n",
      "[12:36:55] Tree method is selected to be 'hist', which uses a single updater grow_fast_histmaker.\n",
      "[12:37:00] Tree method is selected to be 'hist', which uses a single updater grow_fast_histmaker.\n",
      "[12:37:04] Tree method is selected to be 'hist', which uses a single updater grow_fast_histmaker.\n",
      "[12:37:09] Tree method is selected to be 'hist', which uses a single updater grow_fast_histmaker.\n",
      "[12:37:16] Tree method is selected to be 'hist', which uses a single updater grow_fast_histmaker.\n",
      "\n",
      "\n",
      "    rounds     time     valid  valid_std     train learning_rate max_depth  \\\n",
      "0  49.0833  106.237  0.679134  0.0397554  0.767844           0.1         9   \n",
      "\n",
      "  booster gamma colsample_bytree  \n",
      "0  gbtree    10                1  \n",
      "\n",
      "\tModel: 1 of 3 | 00:01:46 | Total: 00:01:46 | Remaining: 00:03:32\n",
      "\n",
      "[12:37:20] Tree method is selected to be 'hist', which uses a single updater grow_fast_histmaker.\n",
      "[12:37:36] Tree method is selected to be 'hist', which uses a single updater grow_fast_histmaker.\n",
      "[12:37:45] Tree method is selected to be 'hist', which uses a single updater grow_fast_histmaker.\n",
      "[12:37:51] Tree method is selected to be 'hist', which uses a single updater grow_fast_histmaker.\n",
      "[12:37:58] Tree method is selected to be 'hist', which uses a single updater grow_fast_histmaker.\n",
      "[12:38:03] Tree method is selected to be 'hist', which uses a single updater grow_fast_histmaker.\n",
      "[12:38:17] Tree method is selected to be 'hist', which uses a single updater grow_fast_histmaker.\n",
      "[12:38:30] Tree method is selected to be 'hist', which uses a single updater grow_fast_histmaker.\n",
      "[12:38:36] Tree method is selected to be 'hist', which uses a single updater grow_fast_histmaker.\n",
      "[12:38:40] Tree method is selected to be 'hist', which uses a single updater grow_fast_histmaker.\n",
      "[12:38:46] Tree method is selected to be 'hist', which uses a single updater grow_fast_histmaker.\n",
      "[12:38:55] Tree method is selected to be 'hist', which uses a single updater grow_fast_histmaker.\n",
      "\n",
      "\n",
      "    rounds     time     valid  valid_std     train learning_rate max_depth  \\\n",
      "0  49.0833  106.237  0.679134  0.0397554  0.767844           0.1         9   \n",
      "1    39.25  99.1879  0.674739  0.0408886  0.750241           0.1         9   \n",
      "\n",
      "  booster gamma colsample_bytree  \n",
      "0  gbtree    10                1  \n",
      "1  gbtree    20                1  \n",
      "\n",
      "\tModel: 2 of 3 | 00:01:39 | Total: 00:03:25 | Remaining: 00:01:43\n",
      "\n",
      "[12:38:59] Tree method is selected to be 'hist', which uses a single updater grow_fast_histmaker.\n",
      "[12:39:04] Tree method is selected to be 'hist', which uses a single updater grow_fast_histmaker.\n",
      "[12:39:08] Tree method is selected to be 'hist', which uses a single updater grow_fast_histmaker.\n",
      "[12:39:13] Tree method is selected to be 'hist', which uses a single updater grow_fast_histmaker.\n",
      "[12:39:26] Tree method is selected to be 'hist', which uses a single updater grow_fast_histmaker.\n",
      "[12:39:36] Tree method is selected to be 'hist', which uses a single updater grow_fast_histmaker.\n",
      "[12:39:43] Tree method is selected to be 'hist', which uses a single updater grow_fast_histmaker.\n",
      "[12:39:56] Tree method is selected to be 'hist', which uses a single updater grow_fast_histmaker.\n",
      "[12:40:02] Tree method is selected to be 'hist', which uses a single updater grow_fast_histmaker.\n",
      "[12:40:07] Tree method is selected to be 'hist', which uses a single updater grow_fast_histmaker.\n",
      "[12:40:13] Tree method is selected to be 'hist', which uses a single updater grow_fast_histmaker.\n",
      "[12:40:23] Tree method is selected to be 'hist', which uses a single updater grow_fast_histmaker.\n",
      "\n",
      "\n",
      "    rounds     time     valid  valid_std     train learning_rate max_depth  \\\n",
      "0  49.0833  106.237  0.679134  0.0397554  0.767844           0.1         9   \n",
      "1    39.25  99.1879  0.674739  0.0408886  0.750241           0.1         9   \n",
      "2    30.25  87.7971  0.668974  0.0381174  0.739282           0.1         9   \n",
      "\n",
      "  booster gamma colsample_bytree  \n",
      "0  gbtree    10                1  \n",
      "1  gbtree    20                1  \n",
      "2  gbtree    50                1  \n",
      "\n",
      "\tModel: 3 of 3 | 00:01:28 | Total: 00:04:53 | Remaining: 00:00:00\n",
      "\n"
     ]
    }
   ],
   "source": [
    "start = time()\n",
    "results = pd.DataFrame()\n",
    "for n, test_param in enumerate(all_params, 1):\n",
    "    iteration = time()\n",
    "    cv_params = params.copy()\n",
    "    cv_params.update(dict(zip(param_grid.keys(), test_param)))\n",
    "\n",
    "    results[n] = run_cv(test_params=cv_params,\n",
    "                        data=datasets,\n",
    "                        n_splits=n_splits)\n",
    "    results.loc['time', n] = time() - iteration\n",
    "\n",
    "    print('\\n')\n",
    "    print(results.loc[display_cols, :].T.sort_values('valid', ascending=False).head(5).reset_index(drop=True))\n",
    "    out = f'\\n\\tModel: {n} of {n_models} | '\n",
    "    out += f'{format_time(time() - iteration)} | '\n",
    "    out += f'Total: {format_time(time() - start)} | '\n",
    "    print(out + f'Remaining: {format_time((time() - start)/n*(n_models-n))}\\n')"
   ]
  },
  {
   "cell_type": "code",
   "execution_count": 73,
   "metadata": {
    "ExecuteTime": {
     "end_time": "2018-10-07T16:17:05.986028Z",
     "start_time": "2018-10-07T16:17:05.793128Z"
    }
   },
   "outputs": [
    {
     "data": {
      "text/plain": [
       "<matplotlib.axes._subplots.AxesSubplot at 0x7f167b391940>"
      ]
     },
     "execution_count": 73,
     "metadata": {},
     "output_type": "execute_result"
    },
    {
     "data": {
      "image/png": "[encoded data removed]",
      "text/plain": [
       "<Figure size 432x288 with 1 Axes>"
      ]
     },
     "metadata": {},
     "output_type": "display_data"
    }
   ],
   "source": [
    "results.T.apply(pd.to_numeric, errors='ignore').plot.scatter(x='gamma', y='valid');"
   ]
  },
  {
   "cell_type": "code",
   "execution_count": 74,
   "metadata": {
    "ExecuteTime": {
     "end_time": "2018-10-07T16:18:22.969478Z",
     "start_time": "2018-10-07T16:18:22.943125Z"
    }
   },
   "outputs": [],
   "source": [
    "with pd.HDFStore('xgboost_tests.h5') as store:\n",
    "    store.put('params/gamma', results)"
   ]
  },
  {
   "cell_type": "code",
   "execution_count": null,
   "metadata": {},
   "outputs": [],
   "source": []
  }
 ],
 "metadata": {
  "kernelspec": {
   "display_name": "Python 3",
   "language": "python",
   "name": "python3"
  },
  "language_info": {
   "codemirror_mode": {
    "name": "ipython",
    "version": 3
   },
   "file_extension": ".py",
   "mimetype": "text/x-python",
   "name": "python",
   "nbconvert_exporter": "python",
   "pygments_lexer": "ipython3",
   "version": "3.6.4"
  },
  "toc": {
   "base_numbering": 1,
   "nav_menu": {},
   "number_sections": true,
   "sideBar": true,
   "skip_h1_title": false,
   "title_cell": "Table of Contents",
   "title_sidebar": "Contents",
   "toc_cell": false,
   "toc_position": {},
   "toc_section_display": true,
   "toc_window_display": true
  }
 },
 "nbformat": 4,
 "nbformat_minor": 2
}
