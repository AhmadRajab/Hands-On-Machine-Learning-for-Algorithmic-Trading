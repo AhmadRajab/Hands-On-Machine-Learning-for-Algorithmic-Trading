{
 "cells": [
  {
   "cell_type": "code",
   "execution_count": null,
   "metadata": {
    "ExecuteTime": {
     "end_time": "2018-04-04T05:34:59.410904Z",
     "start_time": "2018-04-04T05:34:57.455831Z"
    },
    "slideshow": {
     "slide_type": "skip"
    }
   },
   "outputs": [],
   "source": [
    "import numpy as np\n",
    "from numpy.random import seed\n",
    "import pandas as pd\n",
    "import matplotlib.pyplot as plt\n",
    "from mpl_toolkits.mplot3d import Axes3D\n",
    "from sklearn.cluster import KMeans\n",
    "from sklearn.datasets import make_blobs\n",
    "from sklearn.metrics import silhouette_samples, silhouette_score\n",
    "import warnings\n",
    "from time import sleep\n",
    "\n",
    "%matplotlib notebook\n",
    "warnings.filterwarnings('ignore')\n",
    "seed(42)"
   ]
  },
  {
   "cell_type": "code",
   "execution_count": null,
   "metadata": {
    "ExecuteTime": {
     "end_time": "2018-04-04T05:34:59.438041Z",
     "start_time": "2018-04-04T05:34:59.414297Z"
    }
   },
   "outputs": [],
   "source": [
    "from jupyterthemes import jtplot \n",
    "jtplot.style(theme='onedork', context='talk', fscale=1.4, spines=False, \n",
    "             gridlines='--', ticks=True, grid=False, figsize=(7, 5))"
   ]
  },
  {
   "cell_type": "code",
   "execution_count": null,
   "metadata": {
    "ExecuteTime": {
     "end_time": "2018-04-04T05:34:59.460747Z",
     "start_time": "2018-04-04T05:34:59.443122Z"
    },
    "slideshow": {
     "slide_type": "skip"
    }
   },
   "outputs": [],
   "source": [
    "SMALL_SIZE = 8\n",
    "MEDIUM_SIZE = 10\n",
    "BIGGER_SIZE = 12\n",
    "\n",
    "plt.rc('font', size=MEDIUM_SIZE)\n",
    "plt.rc('axes', titlesize=MEDIUM_SIZE)  \n",
    "plt.rc('axes', labelsize=SMALL_SIZE)\n",
    "plt.rc('xtick', labelsize=SMALL_SIZE)  \n",
    "plt.rc('ytick', labelsize=SMALL_SIZE)"
   ]
  },
  {
   "cell_type": "markdown",
   "metadata": {
    "slideshow": {
     "slide_type": "slide"
    }
   },
   "source": [
    "### 2D Cluster Demo"
   ]
  },
  {
   "cell_type": "code",
   "execution_count": null,
   "metadata": {
    "ExecuteTime": {
     "end_time": "2018-04-04T05:35:11.605962Z",
     "start_time": "2018-04-04T05:35:11.598961Z"
    },
    "slideshow": {
     "slide_type": "fragment"
    }
   },
   "outputs": [],
   "source": [
    "def sample_clusters(n_points=500, n_dimensions=2, \n",
    "                    n_clusters=5, cluster_std=1):\n",
    "    data, labels = make_blobs(n_samples=n_points, \n",
    "                               n_features=n_dimensions, \n",
    "                               centers=n_clusters, \n",
    "                               cluster_std=cluster_std, \n",
    "                               random_state=42)\n",
    "    return data, labels"
   ]
  },
  {
   "cell_type": "markdown",
   "metadata": {
    "slideshow": {
     "slide_type": "slide"
    }
   },
   "source": [
    "### Evaluate Number of Clusters"
   ]
  },
  {
   "cell_type": "code",
   "execution_count": null,
   "metadata": {
    "ExecuteTime": {
     "end_time": "2018-04-04T05:35:12.069075Z",
     "start_time": "2018-04-04T05:35:12.060126Z"
    },
    "slideshow": {
     "slide_type": "skip"
    }
   },
   "outputs": [],
   "source": [
    "def inertia_plot_update(inertias, ax, delay=1):\n",
    "    inertias.plot(color='white', lw=1, title='Inertia', ax=ax, xlim=(inertias.index[0], inertias.index[-1]), ylim=(0, inertias.max()))\n",
    "    fig.canvas.draw()\n",
    "    sleep(delay)"
   ]
  },
  {
   "cell_type": "code",
   "execution_count": null,
   "metadata": {
    "ExecuteTime": {
     "end_time": "2018-04-04T05:35:12.256249Z",
     "start_time": "2018-04-04T05:35:12.218153Z"
    },
    "slideshow": {
     "slide_type": "fragment"
    }
   },
   "outputs": [],
   "source": [
    "def plot_kmeans_result(data, labels, centroids, \n",
    "                       assignments, ncluster, Z, ax):\n",
    "    ax.scatter(*data.T, c=labels, s=15) # plot data\n",
    "\n",
    "    # plot cluster centers\n",
    "    ax.scatter(*centroids.T, marker='o', c='w', \n",
    "               s=200, edgecolor='k', zorder=9)\n",
    "    for i, c in enumerate(centroids):\n",
    "        ax.scatter(*c, marker='${}$'.format(i), \n",
    "                   s=50, edgecolor='k', zorder=10)\n",
    "        xy = pd.DataFrame(data[assignments == i], \n",
    "                columns=['x', 'y']).assign(cx=c[0], cy=c[1])\n",
    "        ax.plot(xy[['x', 'cx']].T, xy[['y', 'cy']].T, \n",
    "                ls='--', color='white', lw=0.5)\n",
    "\n",
    "    # plot voronoi\n",
    "    ax.imshow(Z, interpolation='nearest', \n",
    "            extent=(xx.min(), xx.max(), yy.min(), yy.max()),\n",
    "            cmap=plt.cm.viridis, aspect='auto', origin='lower', alpha=.2)\n",
    "    ax.set_title('Number of Clusters: {}'.format(ncluster))\n",
    "    plt.tight_layout()"
   ]
  },
  {
   "cell_type": "markdown",
   "metadata": {
    "slideshow": {
     "slide_type": "slide"
    }
   },
   "source": [
    "### Run Elbow Experiment"
   ]
  },
  {
   "cell_type": "code",
   "execution_count": null,
   "metadata": {
    "ExecuteTime": {
     "end_time": "2018-04-04T05:36:10.747041Z",
     "start_time": "2018-04-04T05:35:12.503028Z"
    },
    "slideshow": {
     "slide_type": "fragment"
    }
   },
   "outputs": [],
   "source": [
    "n_clusters, max_clusters = 4, 7\n",
    "cluster_list = list(range(1, max_clusters + 1))\n",
    "inertias = pd.Series(index=cluster_list)\n",
    "\n",
    "data, labels = sample_clusters(n_clusters=n_clusters)\n",
    "x, y = data.T\n",
    "\n",
    "xx, yy = np.meshgrid(np.arange(x.min() - 1, x.max() + 1, .01), \n",
    "                     np.arange(y.min() - 1, y.max() + 1, .01))\n",
    "             \n",
    "fig, axes = plt.subplots(ncols=3, nrows=3, figsize=(12, 8))\n",
    "axes = np.array(axes).flatten()\n",
    "plt.tight_layout();\n",
    "\n",
    "# Plot Sample Data\n",
    "axes[0].scatter(x, y, c=labels, s=10)\n",
    "axes[0].set_title('{} Sample Clusters'.format(n_clusters));\n",
    "\n",
    "for c, n_clusters in enumerate(range(1, max_clusters + 1), 2):\n",
    "    kmeans = KMeans(n_clusters=n_clusters, random_state=42).fit(data)\n",
    "    centroids, assignments, inertia = kmeans.cluster_centers_, kmeans.labels_, kmeans.inertia_\n",
    "    inertias[n_clusters] = inertia\n",
    "    inertia_plot_update(inertias, axes[1])\n",
    "    Z = kmeans.predict(np.c_[xx.ravel(), yy.ravel()]).reshape(xx.shape)\n",
    "    plot_kmeans_result(data, labels, centroids, assignments,  n_clusters, Z, axes[c])"
   ]
  },
  {
   "cell_type": "markdown",
   "metadata": {
    "slideshow": {
     "slide_type": "slide"
    }
   },
   "source": [
    "### Evaluating the Silhouette Score"
   ]
  },
  {
   "cell_type": "code",
   "execution_count": null,
   "metadata": {
    "ExecuteTime": {
     "end_time": "2018-04-04T05:36:10.789794Z",
     "start_time": "2018-04-04T05:36:10.755649Z"
    },
    "slideshow": {
     "slide_type": "fragment"
    }
   },
   "outputs": [],
   "source": [
    "def plot_silhouette(values, y_lower, i, n_cluster, ax):\n",
    "    cluster_size = values.shape[0]\n",
    "    y_upper = y_lower + cluster_size\n",
    "\n",
    "    color = plt.cm.viridis(i / n_cluster)\n",
    "    ax.fill_betweenx(np.arange(y_lower, y_upper), 0, values,\n",
    "                facecolor=color, edgecolor=color, alpha=0.7)\n",
    "    ax.text(-0.05, y_lower + 0.5 * cluster_size, str(i))\n",
    "    y_lower = y_upper + 10\n",
    "    return y_lower"
   ]
  },
  {
   "cell_type": "code",
   "execution_count": null,
   "metadata": {
    "ExecuteTime": {
     "end_time": "2018-04-04T05:36:10.815978Z",
     "start_time": "2018-04-04T05:36:10.795626Z"
    },
    "slideshow": {
     "slide_type": "fragment"
    }
   },
   "outputs": [],
   "source": [
    "def format_silhouette_plot(ax):\n",
    "    ax.set_title(\"Silhouette Plot\")\n",
    "    ax.set_xlabel(\"Silhouette Coefficient\")\n",
    "    ax.set_ylabel(\"Cluster Label\")\n",
    "    ax.axvline(\n",
    "        x=silhouette_avg, color=\"red\", linestyle=\"--\", lw=1)\n",
    "    ax.set_xticks([-0.1, 0, 0.2, 0.4, 0.6, 0.8, 1])"
   ]
  },
  {
   "cell_type": "code",
   "execution_count": null,
   "metadata": {
    "ExecuteTime": {
     "end_time": "2018-04-04T05:36:10.873811Z",
     "start_time": "2018-04-04T05:36:10.821292Z"
    },
    "slideshow": {
     "slide_type": "slide"
    }
   },
   "outputs": [],
   "source": [
    "def plot_final_assignments(x, y, centroids, \n",
    "                           assignments, n_cluster, ax):\n",
    "    c = plt.cm.viridis(assignments / n_cluster)\n",
    "    ax.scatter(x, y, marker='.', s=30, \n",
    "               lw=0, alpha=0.7, c=c, edgecolor='k')\n",
    "    ax.scatter(*centroids.T, marker='o',  \n",
    "               c='w', s=200, edgecolor='k')\n",
    "    for i, c in enumerate(centroids):\n",
    "        ax.scatter(*c, marker='${}$'.format(i), \n",
    "                   s=50, edgecolor='k')\n",
    "\n",
    "    ax.set_title('{} Clusters'.format(n_cluster))"
   ]
  },
  {
   "cell_type": "code",
   "execution_count": null,
   "metadata": {
    "ExecuteTime": {
     "end_time": "2018-04-04T05:36:31.282272Z",
     "start_time": "2018-04-04T05:36:10.879248Z"
    },
    "scrolled": false,
    "slideshow": {
     "slide_type": "slide"
    }
   },
   "outputs": [],
   "source": [
    "n_clusters = 4\n",
    "max_clusters = 7\n",
    "cluster_list = list(range(1, max_clusters + 1))\n",
    "inertias = pd.Series(index=cluster_list)\n",
    "\n",
    "data, labels = sample_clusters(n_clusters=n_clusters)\n",
    "x, y = data.T\n",
    "\n",
    "fig, axes = plt.subplots(ncols=2, \n",
    "                    nrows=max_clusters, figsize=(12, 20))\n",
    "fig.tight_layout()\n",
    "axes[0][0].scatter(x, y, c=labels, s=10)\n",
    "axes[0][0].set_title('Sample Clusters')\n",
    "\n",
    "for row, n_cluster in enumerate(range(2, max_clusters + 1), 1):\n",
    "    kmeans = KMeans(n_clusters=n_cluster, random_state=42).fit(data)\n",
    "    centroids, assignments, inertia = \\\n",
    "        kmeans.cluster_centers_, kmeans.labels_, kmeans.inertia_\n",
    "    inertias[n_cluster] = inertia\n",
    "    inertia_plot_update(inertias, axes[0][1])\n",
    "\n",
    "    silhouette_avg = silhouette_score(data, assignments)\n",
    "    silhouette_values = silhouette_samples(data, assignments)\n",
    "    silhouette_plot, cluster_plot = axes[row]\n",
    "\n",
    "    y_lower = 10\n",
    "    for i in range(n_cluster):\n",
    "        y_lower = plot_silhouette(np.sort(silhouette_values[assignments == i]), y_lower, i, n_cluster, silhouette_plot)\n",
    "    format_silhouette_plot(silhouette_plot)\n",
    "    plot_final_assignments(x, y, centroids, assignments, n_cluster, cluster_plot)\n",
    "    fig.tight_layout()\n",
    "\n",
    "fig.suptitle('KMeans Silhouette Plot with {} Clusters'.format(n_clusters), fontsize=14)\n",
    "fig.tight_layout()\n",
    "fig.subplots_adjust(top=.95)"
   ]
  }
 ],
 "metadata": {
  "celltoolbar": "Slideshow",
  "hide_input": false,
  "kernelspec": {
   "display_name": "Python 3",
   "language": "python",
   "name": "python3"
  },
  "language_info": {
   "codemirror_mode": {
    "name": "ipython",
    "version": 3
   },
   "file_extension": ".py",
   "mimetype": "text/x-python",
   "name": "python",
   "nbconvert_exporter": "python",
   "pygments_lexer": "ipython3",
   "version": "3.5.2"
  }
 },
 "nbformat": 4,
 "nbformat_minor": 2
}
