{
 "cells": [
  {
   "cell_type": "code",
   "execution_count": 1,
   "metadata": {
    "ExecuteTime": {
     "end_time": "2018-10-31T16:11:25.264792Z",
     "start_time": "2018-10-31T16:11:25.184645Z"
    }
   },
   "outputs": [],
   "source": [
    "%matplotlib inline\n",
    "\n",
    "import warnings\n",
    "from datetime import datetime\n",
    "import os\n",
    "from pathlib import Path\n",
    "import quandl\n",
    "import numpy as np\n",
    "import matplotlib.pyplot as plt\n",
    "import pandas as pd\n",
    "import pandas_datareader.data as web\n",
    "from pandas_datareader.famafrench import get_available_datasets\n",
    "from pyfinance.ols import PandasRollingOLS\n",
    "from sklearn.feature_selection import mutual_info_classif"
   ]
  },
  {
   "cell_type": "code",
   "execution_count": 2,
   "metadata": {
    "ExecuteTime": {
     "end_time": "2018-10-31T16:11:25.268447Z",
     "start_time": "2018-10-31T16:11:25.266072Z"
    }
   },
   "outputs": [],
   "source": [
    "warnings.filterwarnings('ignore')\n",
    "plt.style.use('fivethirtyeight')\n",
    "idx = pd.IndexSlice"
   ]
  },
  {
   "cell_type": "markdown",
   "metadata": {},
   "source": [
    "## Get Data"
   ]
  },
  {
   "cell_type": "markdown",
   "metadata": {},
   "source": [
    "The `assets.h5` store can be generated using the `get_data.py` script in the `data` folder in the root directory of this repo."
   ]
  },
  {
   "cell_type": "code",
   "execution_count": 3,
   "metadata": {
    "ExecuteTime": {
     "end_time": "2018-10-31T16:11:29.231291Z",
     "start_time": "2018-10-31T16:11:25.269785Z"
    }
   },
   "outputs": [],
   "source": [
    "with pd.HDFStore('../../data/assets.h5') as store:\n",
    "    prices = store['quandl/wiki/prices'].loc[idx['2000':'2018', :], 'adj_close'].unstack('ticker')\n",
    "    stocks = store['us_equities/stocks'].loc[:, ['marketcap', 'ipoyear', 'sector']]\n",
    "    stocks = stocks[~stocks.index.duplicated()]"
   ]
  },
  {
   "cell_type": "markdown",
   "metadata": {},
   "source": [
    "### Keep data with stock info"
   ]
  },
  {
   "cell_type": "code",
   "execution_count": 4,
   "metadata": {
    "ExecuteTime": {
     "end_time": "2018-10-31T16:11:29.238675Z",
     "start_time": "2018-10-31T16:11:29.232907Z"
    }
   },
   "outputs": [
    {
     "name": "stdout",
     "output_type": "stream",
     "text": [
      "<class 'pandas.core.frame.DataFrame'>\n",
      "Index: 6834 entries, PIH to ZYME\n",
      "Data columns (total 3 columns):\n",
      "marketcap    5769 non-null object\n",
      "ipoyear      3038 non-null float64\n",
      "sector       5288 non-null object\n",
      "dtypes: float64(1), object(2)\n",
      "memory usage: 213.6+ KB\n"
     ]
    }
   ],
   "source": [
    "stocks.info()"
   ]
  },
  {
   "cell_type": "code",
   "execution_count": 5,
   "metadata": {
    "ExecuteTime": {
     "end_time": "2018-10-31T16:11:29.353264Z",
     "start_time": "2018-10-31T16:11:29.240367Z"
    },
    "scrolled": true
   },
   "outputs": [
    {
     "name": "stdout",
     "output_type": "stream",
     "text": [
      "<class 'pandas.core.frame.DataFrame'>\n",
      "DatetimeIndex: 4706 entries, 2000-01-03 to 2018-03-27\n",
      "Columns: 3199 entries, A to ZUMZ\n",
      "dtypes: float64(3199)\n",
      "memory usage: 114.9 MB\n"
     ]
    }
   ],
   "source": [
    "prices.info()"
   ]
  },
  {
   "cell_type": "markdown",
   "metadata": {},
   "source": [
    "## Create monthly return series"
   ]
  },
  {
   "cell_type": "markdown",
   "metadata": {},
   "source": [
    "Winsorize outliers"
   ]
  },
  {
   "cell_type": "code",
   "execution_count": 6,
   "metadata": {
    "ExecuteTime": {
     "end_time": "2018-10-31T16:11:29.392206Z",
     "start_time": "2018-10-31T16:11:29.354435Z"
    }
   },
   "outputs": [],
   "source": [
    "monthly_prices = prices.resample('M').last()"
   ]
  },
  {
   "cell_type": "code",
   "execution_count": 7,
   "metadata": {
    "ExecuteTime": {
     "end_time": "2018-10-31T16:11:30.252995Z",
     "start_time": "2018-10-31T16:11:29.393434Z"
    }
   },
   "outputs": [
    {
     "name": "stdout",
     "output_type": "stream",
     "text": [
      "<class 'pandas.core.frame.DataFrame'>\n",
      "MultiIndex: 504433 entries, (A, 2001-01-31 00:00:00) to (ZUMZ, 2018-03-31 00:00:00)\n",
      "Data columns (total 6 columns):\n",
      "return_1m     504433 non-null float64\n",
      "return_2m     504433 non-null float64\n",
      "return_3m     504433 non-null float64\n",
      "return_6m     504433 non-null float64\n",
      "return_9m     504433 non-null float64\n",
      "return_12m    504433 non-null float64\n",
      "dtypes: float64(6)\n",
      "memory usage: 25.0+ MB\n"
     ]
    }
   ],
   "source": [
    "outlier_cutoff = 0.01\n",
    "data = pd.DataFrame()\n",
    "lags = [1, 2, 3, 6, 9, 12]\n",
    "for lag in lags:\n",
    "    data[f'return_{lag}m'] = (monthly_prices\n",
    "                           .pct_change(lag)\n",
    "                           .stack()\n",
    "                           .pipe(lambda x: x.clip(lower=x.quantile(outlier_cutoff),\n",
    "                                                  upper=x.quantile(1-outlier_cutoff)))\n",
    "                           .add(1)\n",
    "                           .pow(1/lag)\n",
    "                           .sub(1)\n",
    "                           )\n",
    "data = data.swaplevel().dropna()\n",
    "data.info()"
   ]
  },
  {
   "cell_type": "markdown",
   "metadata": {},
   "source": [
    "## Drop stocks with less than 10 yrs of returns"
   ]
  },
  {
   "cell_type": "code",
   "execution_count": 8,
   "metadata": {
    "ExecuteTime": {
     "end_time": "2018-10-31T16:11:32.372587Z",
     "start_time": "2018-10-31T16:11:30.254122Z"
    }
   },
   "outputs": [
    {
     "name": "stdout",
     "output_type": "stream",
     "text": [
      "<class 'pandas.core.frame.DataFrame'>\n",
      "MultiIndex: 447517 entries, (A, 2001-01-31 00:00:00) to (ZUMZ, 2018-03-31 00:00:00)\n",
      "Data columns (total 6 columns):\n",
      "return_1m     447517 non-null float64\n",
      "return_2m     447517 non-null float64\n",
      "return_3m     447517 non-null float64\n",
      "return_6m     447517 non-null float64\n",
      "return_9m     447517 non-null float64\n",
      "return_12m    447517 non-null float64\n",
      "dtypes: float64(6)\n",
      "memory usage: 22.2+ MB\n"
     ]
    }
   ],
   "source": [
    "min_obs = 120\n",
    "nobs = data.groupby(level='ticker').size()\n",
    "keep = nobs[nobs>min_obs].index\n",
    "\n",
    "data = data.loc[idx[keep,:], :]\n",
    "data.info()"
   ]
  },
  {
   "cell_type": "code",
   "execution_count": 9,
   "metadata": {
    "ExecuteTime": {
     "end_time": "2018-10-31T16:11:32.485129Z",
     "start_time": "2018-10-31T16:11:32.373799Z"
    }
   },
   "outputs": [
    {
     "data": {
      "text/html": [
       "<div>\n",
       "<style scoped>\n",
       "    .dataframe tbody tr th:only-of-type {\n",
       "        vertical-align: middle;\n",
       "    }\n",
       "\n",
       "    .dataframe tbody tr th {\n",
       "        vertical-align: top;\n",
       "    }\n",
       "\n",
       "    .dataframe thead th {\n",
       "        text-align: right;\n",
       "    }\n",
       "</style>\n",
       "<table border=\"1\" class=\"dataframe\">\n",
       "  <thead>\n",
       "    <tr style=\"text-align: right;\">\n",
       "      <th></th>\n",
       "      <th>return_1m</th>\n",
       "      <th>return_2m</th>\n",
       "      <th>return_3m</th>\n",
       "      <th>return_6m</th>\n",
       "      <th>return_9m</th>\n",
       "      <th>return_12m</th>\n",
       "    </tr>\n",
       "  </thead>\n",
       "  <tbody>\n",
       "    <tr>\n",
       "      <th>count</th>\n",
       "      <td>447517.000000</td>\n",
       "      <td>447517.000000</td>\n",
       "      <td>447517.000000</td>\n",
       "      <td>447517.000000</td>\n",
       "      <td>447517.000000</td>\n",
       "      <td>447517.000000</td>\n",
       "    </tr>\n",
       "    <tr>\n",
       "      <th>mean</th>\n",
       "      <td>0.012100</td>\n",
       "      <td>0.008793</td>\n",
       "      <td>0.007626</td>\n",
       "      <td>0.006323</td>\n",
       "      <td>0.005814</td>\n",
       "      <td>0.005545</td>\n",
       "    </tr>\n",
       "    <tr>\n",
       "      <th>std</th>\n",
       "      <td>0.119405</td>\n",
       "      <td>0.085059</td>\n",
       "      <td>0.069936</td>\n",
       "      <td>0.051028</td>\n",
       "      <td>0.042067</td>\n",
       "      <td>0.036656</td>\n",
       "    </tr>\n",
       "    <tr>\n",
       "      <th>min</th>\n",
       "      <td>-0.346734</td>\n",
       "      <td>-0.271933</td>\n",
       "      <td>-0.231614</td>\n",
       "      <td>-0.175131</td>\n",
       "      <td>-0.143667</td>\n",
       "      <td>-0.123686</td>\n",
       "    </tr>\n",
       "    <tr>\n",
       "      <th>25%</th>\n",
       "      <td>-0.048571</td>\n",
       "      <td>-0.032384</td>\n",
       "      <td>-0.025492</td>\n",
       "      <td>-0.016282</td>\n",
       "      <td>-0.012525</td>\n",
       "      <td>-0.010319</td>\n",
       "    </tr>\n",
       "    <tr>\n",
       "      <th>50%</th>\n",
       "      <td>0.009108</td>\n",
       "      <td>0.009477</td>\n",
       "      <td>0.009435</td>\n",
       "      <td>0.009072</td>\n",
       "      <td>0.008689</td>\n",
       "      <td>0.008408</td>\n",
       "    </tr>\n",
       "    <tr>\n",
       "      <th>75%</th>\n",
       "      <td>0.067262</td>\n",
       "      <td>0.050251</td>\n",
       "      <td>0.042840</td>\n",
       "      <td>0.032432</td>\n",
       "      <td>0.027516</td>\n",
       "      <td>0.024776</td>\n",
       "    </tr>\n",
       "    <tr>\n",
       "      <th>max</th>\n",
       "      <td>0.455373</td>\n",
       "      <td>0.297376</td>\n",
       "      <td>0.232602</td>\n",
       "      <td>0.160952</td>\n",
       "      <td>0.129324</td>\n",
       "      <td>0.109668</td>\n",
       "    </tr>\n",
       "  </tbody>\n",
       "</table>\n",
       "</div>"
      ],
      "text/plain": [
       "           return_1m      return_2m      return_3m      return_6m  \\\n",
       "count  447517.000000  447517.000000  447517.000000  447517.000000   \n",
       "mean        0.012100       0.008793       0.007626       0.006323   \n",
       "std         0.119405       0.085059       0.069936       0.051028   \n",
       "min        -0.346734      -0.271933      -0.231614      -0.175131   \n",
       "25%        -0.048571      -0.032384      -0.025492      -0.016282   \n",
       "50%         0.009108       0.009477       0.009435       0.009072   \n",
       "75%         0.067262       0.050251       0.042840       0.032432   \n",
       "max         0.455373       0.297376       0.232602       0.160952   \n",
       "\n",
       "           return_9m     return_12m  \n",
       "count  447517.000000  447517.000000  \n",
       "mean        0.005814       0.005545  \n",
       "std         0.042067       0.036656  \n",
       "min        -0.143667      -0.123686  \n",
       "25%        -0.012525      -0.010319  \n",
       "50%         0.008689       0.008408  \n",
       "75%         0.027516       0.024776  \n",
       "max         0.129324       0.109668  "
      ]
     },
     "execution_count": 9,
     "metadata": {},
     "output_type": "execute_result"
    }
   ],
   "source": [
    "data.describe()"
   ]
  },
  {
   "cell_type": "code",
   "execution_count": 10,
   "metadata": {
    "ExecuteTime": {
     "end_time": "2018-10-31T16:11:34.653048Z",
     "start_time": "2018-10-31T16:11:32.486256Z"
    }
   },
   "outputs": [
    {
     "data": {
      "image/png": "[encoded data removed]",
      "text/plain": [
       "<Figure size 720x720 with 4 Axes>"
      ]
     },
     "metadata": {},
     "output_type": "display_data"
    }
   ],
   "source": [
    "# cmap = sns.diverging_palette(10, 220, as_cmap=True)\n",
    "sns.clustermap(data.corr('spearman'), annot=True, center=0, cmap='Blues');"
   ]
  },
  {
   "cell_type": "code",
   "execution_count": 11,
   "metadata": {
    "ExecuteTime": {
     "end_time": "2018-10-31T16:11:34.666536Z",
     "start_time": "2018-10-31T16:11:34.654239Z"
    }
   },
   "outputs": [
    {
     "data": {
      "text/plain": [
       "2328"
      ]
     },
     "execution_count": 11,
     "metadata": {},
     "output_type": "execute_result"
    }
   ],
   "source": [
    "data.index.get_level_values('ticker').nunique()"
   ]
  },
  {
   "cell_type": "markdown",
   "metadata": {},
   "source": [
    "## Rolling Factor Betas"
   ]
  },
  {
   "cell_type": "markdown",
   "metadata": {},
   "source": [
    "Use Fama-French research factors to estimate the factor exposures of the stock in the dataset to the 5 factors market risk, size, value, operating profitability and investment."
   ]
  },
  {
   "cell_type": "code",
   "execution_count": 12,
   "metadata": {
    "ExecuteTime": {
     "end_time": "2018-10-31T16:11:34.834523Z",
     "start_time": "2018-10-31T16:11:34.667669Z"
    },
    "scrolled": true
   },
   "outputs": [
    {
     "name": "stdout",
     "output_type": "stream",
     "text": [
      "<class 'pandas.core.frame.DataFrame'>\n",
      "DatetimeIndex: 225 entries, 2000-01-31 to 2018-09-30\n",
      "Freq: M\n",
      "Data columns (total 5 columns):\n",
      "Mkt-RF    225 non-null float64\n",
      "SMB       225 non-null float64\n",
      "HML       225 non-null float64\n",
      "RMW       225 non-null float64\n",
      "CMA       225 non-null float64\n",
      "dtypes: float64(5)\n",
      "memory usage: 10.5 KB\n"
     ]
    }
   ],
   "source": [
    "factors = ['Mkt-RF', 'SMB', 'HML', 'RMW', 'CMA']\n",
    "factor_data = web.DataReader('F-F_Research_Data_5_Factors_2x3', 'famafrench', start='2000')[0].drop('RF', axis=1)\n",
    "factor_data.index = factor_data.index.to_timestamp()\n",
    "factor_data = factor_data.resample('M').last().div(100)\n",
    "factor_data.index.name = 'date'\n",
    "factor_data.info()"
   ]
  },
  {
   "cell_type": "code",
   "execution_count": 13,
   "metadata": {
    "ExecuteTime": {
     "end_time": "2018-10-31T16:11:35.081892Z",
     "start_time": "2018-10-31T16:11:34.835789Z"
    },
    "scrolled": true
   },
   "outputs": [
    {
     "name": "stdout",
     "output_type": "stream",
     "text": [
      "<class 'pandas.core.frame.DataFrame'>\n",
      "MultiIndex: 447517 entries, (A, 2001-01-31 00:00:00) to (ZUMZ, 2018-03-31 00:00:00)\n",
      "Data columns (total 6 columns):\n",
      "Mkt-RF       447517 non-null float64\n",
      "SMB          447517 non-null float64\n",
      "HML          447517 non-null float64\n",
      "RMW          447517 non-null float64\n",
      "CMA          447517 non-null float64\n",
      "return_1m    447517 non-null float64\n",
      "dtypes: float64(6)\n",
      "memory usage: 22.2+ MB\n"
     ]
    }
   ],
   "source": [
    "factor_data = factor_data.join(data['return_1m']).sort_index()\n",
    "factor_data.info()"
   ]
  },
  {
   "cell_type": "code",
   "execution_count": 14,
   "metadata": {
    "ExecuteTime": {
     "end_time": "2018-10-31T16:11:39.337314Z",
     "start_time": "2018-10-31T16:11:35.083038Z"
    }
   },
   "outputs": [],
   "source": [
    "T = 24\n",
    "betas = (factor_data\n",
    "         .groupby(level='ticker', group_keys=False)\n",
    "         .apply(lambda x: PandasRollingOLS(window=min(T, x.shape[0]-1), y=x.return_1m, x=x.drop('return_1m', axis=1)).beta))"
   ]
  },
  {
   "cell_type": "code",
   "execution_count": 15,
   "metadata": {
    "ExecuteTime": {
     "end_time": "2018-10-31T16:11:39.477045Z",
     "start_time": "2018-10-31T16:11:39.338279Z"
    }
   },
   "outputs": [
    {
     "data": {
      "text/html": [
       "<div>\n",
       "<style scoped>\n",
       "    .dataframe tbody tr th:only-of-type {\n",
       "        vertical-align: middle;\n",
       "    }\n",
       "\n",
       "    .dataframe tbody tr th {\n",
       "        vertical-align: top;\n",
       "    }\n",
       "\n",
       "    .dataframe thead th {\n",
       "        text-align: right;\n",
       "    }\n",
       "</style>\n",
       "<table border=\"1\" class=\"dataframe\">\n",
       "  <thead>\n",
       "    <tr style=\"text-align: right;\">\n",
       "      <th></th>\n",
       "      <th>Mkt-RF</th>\n",
       "      <th>SMB</th>\n",
       "      <th>HML</th>\n",
       "      <th>RMW</th>\n",
       "      <th>CMA</th>\n",
       "      <th>total</th>\n",
       "    </tr>\n",
       "  </thead>\n",
       "  <tbody>\n",
       "    <tr>\n",
       "      <th>count</th>\n",
       "      <td>393973.000000</td>\n",
       "      <td>393973.000000</td>\n",
       "      <td>393973.000000</td>\n",
       "      <td>393973.000000</td>\n",
       "      <td>393973.000000</td>\n",
       "      <td>393973.000000</td>\n",
       "    </tr>\n",
       "    <tr>\n",
       "      <th>mean</th>\n",
       "      <td>0.990191</td>\n",
       "      <td>0.652521</td>\n",
       "      <td>0.121116</td>\n",
       "      <td>-0.099652</td>\n",
       "      <td>0.012801</td>\n",
       "      <td>1.676976</td>\n",
       "    </tr>\n",
       "    <tr>\n",
       "      <th>std</th>\n",
       "      <td>0.950286</td>\n",
       "      <td>1.305079</td>\n",
       "      <td>1.649909</td>\n",
       "      <td>2.073384</td>\n",
       "      <td>2.276595</td>\n",
       "      <td>3.718300</td>\n",
       "    </tr>\n",
       "    <tr>\n",
       "      <th>min</th>\n",
       "      <td>-9.486382</td>\n",
       "      <td>-10.353423</td>\n",
       "      <td>-16.104035</td>\n",
       "      <td>-26.812109</td>\n",
       "      <td>-20.629048</td>\n",
       "      <td>-38.236669</td>\n",
       "    </tr>\n",
       "    <tr>\n",
       "      <th>25%</th>\n",
       "      <td>0.454541</td>\n",
       "      <td>-0.115142</td>\n",
       "      <td>-0.729210</td>\n",
       "      <td>-1.083547</td>\n",
       "      <td>-1.134267</td>\n",
       "      <td>-0.214351</td>\n",
       "    </tr>\n",
       "    <tr>\n",
       "      <th>50%</th>\n",
       "      <td>0.935029</td>\n",
       "      <td>0.564371</td>\n",
       "      <td>0.095212</td>\n",
       "      <td>0.015131</td>\n",
       "      <td>0.038227</td>\n",
       "      <td>1.619522</td>\n",
       "    </tr>\n",
       "    <tr>\n",
       "      <th>75%</th>\n",
       "      <td>1.473749</td>\n",
       "      <td>1.352295</td>\n",
       "      <td>0.950864</td>\n",
       "      <td>0.989222</td>\n",
       "      <td>1.172319</td>\n",
       "      <td>3.564994</td>\n",
       "    </tr>\n",
       "    <tr>\n",
       "      <th>max</th>\n",
       "      <td>10.277086</td>\n",
       "      <td>10.609692</td>\n",
       "      <td>14.108013</td>\n",
       "      <td>18.232822</td>\n",
       "      <td>18.857485</td>\n",
       "      <td>35.582264</td>\n",
       "    </tr>\n",
       "  </tbody>\n",
       "</table>\n",
       "</div>"
      ],
      "text/plain": [
       "              Mkt-RF            SMB            HML            RMW  \\\n",
       "count  393973.000000  393973.000000  393973.000000  393973.000000   \n",
       "mean        0.990191       0.652521       0.121116      -0.099652   \n",
       "std         0.950286       1.305079       1.649909       2.073384   \n",
       "min        -9.486382     -10.353423     -16.104035     -26.812109   \n",
       "25%         0.454541      -0.115142      -0.729210      -1.083547   \n",
       "50%         0.935029       0.564371       0.095212       0.015131   \n",
       "75%         1.473749       1.352295       0.950864       0.989222   \n",
       "max        10.277086      10.609692      14.108013      18.232822   \n",
       "\n",
       "                 CMA          total  \n",
       "count  393973.000000  393973.000000  \n",
       "mean        0.012801       1.676976  \n",
       "std         2.276595       3.718300  \n",
       "min       -20.629048     -38.236669  \n",
       "25%        -1.134267      -0.214351  \n",
       "50%         0.038227       1.619522  \n",
       "75%         1.172319       3.564994  \n",
       "max        18.857485      35.582264  "
      ]
     },
     "execution_count": 15,
     "metadata": {},
     "output_type": "execute_result"
    }
   ],
   "source": [
    "betas.describe().join(betas.sum(1).describe().to_frame('total'))"
   ]
  },
  {
   "cell_type": "code",
   "execution_count": 16,
   "metadata": {
    "ExecuteTime": {
     "end_time": "2018-10-31T16:11:39.794139Z",
     "start_time": "2018-10-31T16:11:39.478532Z"
    }
   },
   "outputs": [
    {
     "data": {
      "image/png": "[encoded data removed]",
      "text/plain": [
       "<Figure size 720x720 with 4 Axes>"
      ]
     },
     "metadata": {},
     "output_type": "display_data"
    }
   ],
   "source": [
    "cmap = sns.diverging_palette(10, 220, as_cmap=True)\n",
    "sns.clustermap(betas.corr(), annot=True, cmap=cmap, center=0);"
   ]
  },
  {
   "cell_type": "code",
   "execution_count": 17,
   "metadata": {
    "ExecuteTime": {
     "end_time": "2018-10-31T16:11:40.029335Z",
     "start_time": "2018-10-31T16:11:39.795387Z"
    },
    "scrolled": true
   },
   "outputs": [
    {
     "name": "stdout",
     "output_type": "stream",
     "text": [
      "<class 'pandas.core.frame.DataFrame'>\n",
      "MultiIndex: 447517 entries, (A, 2001-01-31 00:00:00) to (ZUMZ, 2018-03-31 00:00:00)\n",
      "Data columns (total 11 columns):\n",
      "return_1m     447517 non-null float64\n",
      "return_2m     447517 non-null float64\n",
      "return_3m     447517 non-null float64\n",
      "return_6m     447517 non-null float64\n",
      "return_9m     447517 non-null float64\n",
      "return_12m    447517 non-null float64\n",
      "CMA           391645 non-null float64\n",
      "HML           391645 non-null float64\n",
      "Mkt-RF        391645 non-null float64\n",
      "RMW           391645 non-null float64\n",
      "SMB           391645 non-null float64\n",
      "dtypes: float64(11)\n",
      "memory usage: 39.5+ MB\n"
     ]
    }
   ],
   "source": [
    "data = (data\n",
    "        .join(betas\n",
    "              .groupby(level='ticker')\n",
    "              .shift()))\n",
    "data.info()"
   ]
  },
  {
   "cell_type": "markdown",
   "metadata": {},
   "source": [
    "### Impute mean for missing factor betas"
   ]
  },
  {
   "cell_type": "code",
   "execution_count": 18,
   "metadata": {
    "ExecuteTime": {
     "end_time": "2018-10-31T16:11:42.894304Z",
     "start_time": "2018-10-31T16:11:40.032019Z"
    }
   },
   "outputs": [
    {
     "name": "stdout",
     "output_type": "stream",
     "text": [
      "<class 'pandas.core.frame.DataFrame'>\n",
      "MultiIndex: 447517 entries, (A, 2001-01-31 00:00:00) to (ZUMZ, 2018-03-31 00:00:00)\n",
      "Data columns (total 11 columns):\n",
      "return_1m     447517 non-null float64\n",
      "return_2m     447517 non-null float64\n",
      "return_3m     447517 non-null float64\n",
      "return_6m     447517 non-null float64\n",
      "return_9m     447517 non-null float64\n",
      "return_12m    447517 non-null float64\n",
      "CMA           447517 non-null float64\n",
      "HML           447517 non-null float64\n",
      "Mkt-RF        447517 non-null float64\n",
      "RMW           447517 non-null float64\n",
      "SMB           447517 non-null float64\n",
      "dtypes: float64(11)\n",
      "memory usage: 39.5+ MB\n"
     ]
    }
   ],
   "source": [
    "data.loc[:, factors] = data.groupby('ticker')[factors].apply(lambda x: x.fillna(x.mean()))\n",
    "data.info()"
   ]
  },
  {
   "cell_type": "markdown",
   "metadata": {},
   "source": [
    "## Momentum factors"
   ]
  },
  {
   "cell_type": "code",
   "execution_count": 19,
   "metadata": {
    "ExecuteTime": {
     "end_time": "2018-10-31T16:11:42.905670Z",
     "start_time": "2018-10-31T16:11:42.895660Z"
    }
   },
   "outputs": [],
   "source": [
    "for lag in [2,3,6,9,12]:\n",
    "    data[f'momentum_{lag}'] = data[f'return_{lag}m'].sub(data.return_1m)\n",
    "data[f'momentum_3_12'] = data[f'return_12m'].sub(data.return_3m)"
   ]
  },
  {
   "cell_type": "markdown",
   "metadata": {},
   "source": [
    "## Date Indicators"
   ]
  },
  {
   "cell_type": "code",
   "execution_count": 20,
   "metadata": {
    "ExecuteTime": {
     "end_time": "2018-10-31T16:11:42.942205Z",
     "start_time": "2018-10-31T16:11:42.907687Z"
    }
   },
   "outputs": [],
   "source": [
    "dates = data.index.get_level_values('date')\n",
    "data['year'] = dates.year\n",
    "data['month'] = dates.month"
   ]
  },
  {
   "cell_type": "markdown",
   "metadata": {},
   "source": [
    "## Lagged returns"
   ]
  },
  {
   "cell_type": "code",
   "execution_count": 21,
   "metadata": {
    "ExecuteTime": {
     "end_time": "2018-10-31T16:11:43.348342Z",
     "start_time": "2018-10-31T16:11:42.943427Z"
    }
   },
   "outputs": [
    {
     "name": "stdout",
     "output_type": "stream",
     "text": [
      "<class 'pandas.core.frame.DataFrame'>\n",
      "MultiIndex: 447517 entries, (A, 2001-01-31 00:00:00) to (ZUMZ, 2018-03-31 00:00:00)\n",
      "Data columns (total 25 columns):\n",
      "return_1m        447517 non-null float64\n",
      "return_2m        447517 non-null float64\n",
      "return_3m        447517 non-null float64\n",
      "return_6m        447517 non-null float64\n",
      "return_9m        447517 non-null float64\n",
      "return_12m       447517 non-null float64\n",
      "CMA              447517 non-null float64\n",
      "HML              447517 non-null float64\n",
      "Mkt-RF           447517 non-null float64\n",
      "RMW              447517 non-null float64\n",
      "SMB              447517 non-null float64\n",
      "momentum_2       447517 non-null float64\n",
      "momentum_3       447517 non-null float64\n",
      "momentum_6       447517 non-null float64\n",
      "momentum_9       447517 non-null float64\n",
      "momentum_12      447517 non-null float64\n",
      "momentum_3_12    447517 non-null float64\n",
      "year             447517 non-null int64\n",
      "month            447517 non-null int64\n",
      "return_1m_t-1    445189 non-null float64\n",
      "return_1m_t-2    442861 non-null float64\n",
      "return_1m_t-3    440533 non-null float64\n",
      "return_1m_t-4    438205 non-null float64\n",
      "return_1m_t-5    435877 non-null float64\n",
      "return_1m_t-6    433549 non-null float64\n",
      "dtypes: float64(23), int64(2)\n",
      "memory usage: 87.3+ MB\n"
     ]
    }
   ],
   "source": [
    "for t in range(1, 7):\n",
    "    data[f'return_1m_t-{t}'] = data.groupby(level='ticker').return_1m.shift(t)\n",
    "# data = data.dropna(thresh=int(len(data.columns) * outlier_threshold))\n",
    "# data = data.dropna()\n",
    "data.info()"
   ]
  },
  {
   "cell_type": "markdown",
   "metadata": {},
   "source": [
    "## Target: Holding Period Returns"
   ]
  },
  {
   "cell_type": "code",
   "execution_count": 22,
   "metadata": {
    "ExecuteTime": {
     "end_time": "2018-10-31T16:11:43.583478Z",
     "start_time": "2018-10-31T16:11:43.349583Z"
    }
   },
   "outputs": [],
   "source": [
    "for t in [1,2,3,6,12]:\n",
    "    data[f'target_{t}m'] = data.groupby(level='ticker')[f'return_{t}m'].shift(-t)"
   ]
  },
  {
   "cell_type": "code",
   "execution_count": 23,
   "metadata": {
    "ExecuteTime": {
     "end_time": "2018-10-31T16:11:43.885663Z",
     "start_time": "2018-10-31T16:11:43.584534Z"
    }
   },
   "outputs": [
    {
     "data": {
      "text/html": [
       "<div>\n",
       "<style scoped>\n",
       "    .dataframe tbody tr th:only-of-type {\n",
       "        vertical-align: middle;\n",
       "    }\n",
       "\n",
       "    .dataframe tbody tr th {\n",
       "        vertical-align: top;\n",
       "    }\n",
       "\n",
       "    .dataframe thead th {\n",
       "        text-align: right;\n",
       "    }\n",
       "</style>\n",
       "<table border=\"1\" class=\"dataframe\">\n",
       "  <thead>\n",
       "    <tr style=\"text-align: right;\">\n",
       "      <th></th>\n",
       "      <th></th>\n",
       "      <th>target_1m</th>\n",
       "      <th>target_2m</th>\n",
       "      <th>target_3m</th>\n",
       "      <th>return_1m</th>\n",
       "      <th>return_2m</th>\n",
       "      <th>return_3m</th>\n",
       "      <th>return_1m_t-1</th>\n",
       "      <th>return_1m_t-2</th>\n",
       "      <th>return_1m_t-3</th>\n",
       "    </tr>\n",
       "    <tr>\n",
       "      <th>ticker</th>\n",
       "      <th>date</th>\n",
       "      <th></th>\n",
       "      <th></th>\n",
       "      <th></th>\n",
       "      <th></th>\n",
       "      <th></th>\n",
       "      <th></th>\n",
       "      <th></th>\n",
       "      <th></th>\n",
       "      <th></th>\n",
       "    </tr>\n",
       "  </thead>\n",
       "  <tbody>\n",
       "    <tr>\n",
       "      <th rowspan=\"10\" valign=\"top\">A</th>\n",
       "      <th>2001-04-30</th>\n",
       "      <td>-0.140220</td>\n",
       "      <td>-0.087246</td>\n",
       "      <td>-0.098192</td>\n",
       "      <td>0.269444</td>\n",
       "      <td>0.040966</td>\n",
       "      <td>-0.105747</td>\n",
       "      <td>-0.146389</td>\n",
       "      <td>-0.340055</td>\n",
       "      <td>-0.003653</td>\n",
       "    </tr>\n",
       "    <tr>\n",
       "      <th>2001-05-31</th>\n",
       "      <td>-0.031008</td>\n",
       "      <td>-0.076414</td>\n",
       "      <td>-0.075527</td>\n",
       "      <td>-0.140220</td>\n",
       "      <td>0.044721</td>\n",
       "      <td>-0.023317</td>\n",
       "      <td>0.269444</td>\n",
       "      <td>-0.146389</td>\n",
       "      <td>-0.340055</td>\n",
       "    </tr>\n",
       "    <tr>\n",
       "      <th>2001-06-30</th>\n",
       "      <td>-0.119692</td>\n",
       "      <td>-0.097014</td>\n",
       "      <td>-0.155847</td>\n",
       "      <td>-0.031008</td>\n",
       "      <td>-0.087246</td>\n",
       "      <td>0.018842</td>\n",
       "      <td>-0.140220</td>\n",
       "      <td>0.269444</td>\n",
       "      <td>-0.146389</td>\n",
       "    </tr>\n",
       "    <tr>\n",
       "      <th>2001-07-31</th>\n",
       "      <td>-0.073750</td>\n",
       "      <td>-0.173364</td>\n",
       "      <td>-0.080114</td>\n",
       "      <td>-0.119692</td>\n",
       "      <td>-0.076414</td>\n",
       "      <td>-0.098192</td>\n",
       "      <td>-0.031008</td>\n",
       "      <td>-0.140220</td>\n",
       "      <td>0.269444</td>\n",
       "    </tr>\n",
       "    <tr>\n",
       "      <th>2001-08-31</th>\n",
       "      <td>-0.262264</td>\n",
       "      <td>-0.083279</td>\n",
       "      <td>0.009593</td>\n",
       "      <td>-0.073750</td>\n",
       "      <td>-0.097014</td>\n",
       "      <td>-0.075527</td>\n",
       "      <td>-0.119692</td>\n",
       "      <td>-0.031008</td>\n",
       "      <td>-0.140220</td>\n",
       "    </tr>\n",
       "    <tr>\n",
       "      <th>2001-09-30</th>\n",
       "      <td>0.139130</td>\n",
       "      <td>0.181052</td>\n",
       "      <td>0.134010</td>\n",
       "      <td>-0.262264</td>\n",
       "      <td>-0.173364</td>\n",
       "      <td>-0.155847</td>\n",
       "      <td>-0.073750</td>\n",
       "      <td>-0.119692</td>\n",
       "      <td>-0.031008</td>\n",
       "    </tr>\n",
       "    <tr>\n",
       "      <th>2001-10-31</th>\n",
       "      <td>0.224517</td>\n",
       "      <td>0.131458</td>\n",
       "      <td>0.108697</td>\n",
       "      <td>0.139130</td>\n",
       "      <td>-0.083279</td>\n",
       "      <td>-0.080114</td>\n",
       "      <td>-0.262264</td>\n",
       "      <td>-0.073750</td>\n",
       "      <td>-0.119692</td>\n",
       "    </tr>\n",
       "    <tr>\n",
       "      <th>2001-11-30</th>\n",
       "      <td>0.045471</td>\n",
       "      <td>0.054962</td>\n",
       "      <td>0.045340</td>\n",
       "      <td>0.224517</td>\n",
       "      <td>0.181052</td>\n",
       "      <td>0.009593</td>\n",
       "      <td>0.139130</td>\n",
       "      <td>-0.262264</td>\n",
       "      <td>-0.073750</td>\n",
       "    </tr>\n",
       "    <tr>\n",
       "      <th>2001-12-31</th>\n",
       "      <td>0.064539</td>\n",
       "      <td>0.045275</td>\n",
       "      <td>0.070347</td>\n",
       "      <td>0.045471</td>\n",
       "      <td>0.131458</td>\n",
       "      <td>0.134010</td>\n",
       "      <td>0.224517</td>\n",
       "      <td>0.139130</td>\n",
       "      <td>-0.262264</td>\n",
       "    </tr>\n",
       "    <tr>\n",
       "      <th>2002-01-31</th>\n",
       "      <td>0.026359</td>\n",
       "      <td>0.073264</td>\n",
       "      <td>-0.003306</td>\n",
       "      <td>0.064539</td>\n",
       "      <td>0.054962</td>\n",
       "      <td>0.108697</td>\n",
       "      <td>0.045471</td>\n",
       "      <td>0.224517</td>\n",
       "      <td>0.139130</td>\n",
       "    </tr>\n",
       "  </tbody>\n",
       "</table>\n",
       "</div>"
      ],
      "text/plain": [
       "                   target_1m  target_2m  target_3m  return_1m  return_2m  \\\n",
       "ticker date                                                                \n",
       "A      2001-04-30  -0.140220  -0.087246  -0.098192   0.269444   0.040966   \n",
       "       2001-05-31  -0.031008  -0.076414  -0.075527  -0.140220   0.044721   \n",
       "       2001-06-30  -0.119692  -0.097014  -0.155847  -0.031008  -0.087246   \n",
       "       2001-07-31  -0.073750  -0.173364  -0.080114  -0.119692  -0.076414   \n",
       "       2001-08-31  -0.262264  -0.083279   0.009593  -0.073750  -0.097014   \n",
       "       2001-09-30   0.139130   0.181052   0.134010  -0.262264  -0.173364   \n",
       "       2001-10-31   0.224517   0.131458   0.108697   0.139130  -0.083279   \n",
       "       2001-11-30   0.045471   0.054962   0.045340   0.224517   0.181052   \n",
       "       2001-12-31   0.064539   0.045275   0.070347   0.045471   0.131458   \n",
       "       2002-01-31   0.026359   0.073264  -0.003306   0.064539   0.054962   \n",
       "\n",
       "                   return_3m  return_1m_t-1  return_1m_t-2  return_1m_t-3  \n",
       "ticker date                                                                \n",
       "A      2001-04-30  -0.105747      -0.146389      -0.340055      -0.003653  \n",
       "       2001-05-31  -0.023317       0.269444      -0.146389      -0.340055  \n",
       "       2001-06-30   0.018842      -0.140220       0.269444      -0.146389  \n",
       "       2001-07-31  -0.098192      -0.031008      -0.140220       0.269444  \n",
       "       2001-08-31  -0.075527      -0.119692      -0.031008      -0.140220  \n",
       "       2001-09-30  -0.155847      -0.073750      -0.119692      -0.031008  \n",
       "       2001-10-31  -0.080114      -0.262264      -0.073750      -0.119692  \n",
       "       2001-11-30   0.009593       0.139130      -0.262264      -0.073750  \n",
       "       2001-12-31   0.134010       0.224517       0.139130      -0.262264  \n",
       "       2002-01-31   0.108697       0.045471       0.224517       0.139130  "
      ]
     },
     "execution_count": 23,
     "metadata": {},
     "output_type": "execute_result"
    }
   ],
   "source": [
    "cols = ['target_1m',\n",
    "        'target_2m',\n",
    "        'target_3m', 'return_1m',\n",
    "        'return_2m',\n",
    "        'return_3m',\n",
    "        'return_1m_t-1',\n",
    "        'return_1m_t-2',\n",
    "        'return_1m_t-3']\n",
    "\n",
    "data[cols].dropna().sort_index().head(10)"
   ]
  },
  {
   "cell_type": "code",
   "execution_count": 24,
   "metadata": {
    "ExecuteTime": {
     "end_time": "2018-10-31T16:11:44.003223Z",
     "start_time": "2018-10-31T16:11:43.886636Z"
    }
   },
   "outputs": [
    {
     "name": "stdout",
     "output_type": "stream",
     "text": [
      "<class 'pandas.core.frame.DataFrame'>\n",
      "MultiIndex: 447517 entries, (A, 2001-01-31 00:00:00) to (ZUMZ, 2018-03-31 00:00:00)\n",
      "Data columns (total 30 columns):\n",
      "return_1m        447517 non-null float64\n",
      "return_2m        447517 non-null float64\n",
      "return_3m        447517 non-null float64\n",
      "return_6m        447517 non-null float64\n",
      "return_9m        447517 non-null float64\n",
      "return_12m       447517 non-null float64\n",
      "CMA              447517 non-null float64\n",
      "HML              447517 non-null float64\n",
      "Mkt-RF           447517 non-null float64\n",
      "RMW              447517 non-null float64\n",
      "SMB              447517 non-null float64\n",
      "momentum_2       447517 non-null float64\n",
      "momentum_3       447517 non-null float64\n",
      "momentum_6       447517 non-null float64\n",
      "momentum_9       447517 non-null float64\n",
      "momentum_12      447517 non-null float64\n",
      "momentum_3_12    447517 non-null float64\n",
      "year             447517 non-null int64\n",
      "month            447517 non-null int64\n",
      "return_1m_t-1    445189 non-null float64\n",
      "return_1m_t-2    442861 non-null float64\n",
      "return_1m_t-3    440533 non-null float64\n",
      "return_1m_t-4    438205 non-null float64\n",
      "return_1m_t-5    435877 non-null float64\n",
      "return_1m_t-6    433549 non-null float64\n",
      "target_1m        445189 non-null float64\n",
      "target_2m        442861 non-null float64\n",
      "target_3m        440533 non-null float64\n",
      "target_6m        433549 non-null float64\n",
      "target_12m       419581 non-null float64\n",
      "dtypes: float64(28), int64(2)\n",
      "memory usage: 104.3+ MB\n"
     ]
    }
   ],
   "source": [
    "data.info()"
   ]
  },
  {
   "cell_type": "markdown",
   "metadata": {},
   "source": [
    "## Create age proxy"
   ]
  },
  {
   "cell_type": "code",
   "execution_count": 25,
   "metadata": {
    "ExecuteTime": {
     "end_time": "2018-10-31T16:11:44.035722Z",
     "start_time": "2018-10-31T16:11:44.004221Z"
    }
   },
   "outputs": [],
   "source": [
    "data = (data\n",
    "        .join(pd.qcut(stocks.ipoyear, q=5, labels=list(range(1, 6)))\n",
    "              .astype(float)\n",
    "              .fillna(0)\n",
    "              .astype(int)\n",
    "              .to_frame('age')))\n",
    "data.age = data.age.fillna(-1)"
   ]
  },
  {
   "cell_type": "markdown",
   "metadata": {},
   "source": [
    "## Create dynamic size proxy"
   ]
  },
  {
   "cell_type": "code",
   "execution_count": 26,
   "metadata": {
    "ExecuteTime": {
     "end_time": "2018-10-31T16:11:44.050160Z",
     "start_time": "2018-10-31T16:11:44.036775Z"
    }
   },
   "outputs": [
    {
     "name": "stdout",
     "output_type": "stream",
     "text": [
      "<class 'pandas.core.frame.DataFrame'>\n",
      "Index: 5766 entries, PIH to ZYME\n",
      "Data columns (total 4 columns):\n",
      "marketcap    5766 non-null float64\n",
      "ipoyear      2792 non-null float64\n",
      "sector       4849 non-null object\n",
      "mcap         5766 non-null object\n",
      "dtypes: float64(2), object(2)\n",
      "memory usage: 225.2+ KB\n"
     ]
    }
   ],
   "source": [
    "stocks.marketcap = stocks.marketcap.str.replace('$', '')\n",
    "stocks['mcap'] = stocks.marketcap.str[-1]\n",
    "stocks.marketcap =  pd.to_numeric(stocks.marketcap.str[:-1])\n",
    "stocks = stocks[stocks.mcap.isin(['B', 'M'])]\n",
    "stocks.info()"
   ]
  },
  {
   "cell_type": "code",
   "execution_count": 27,
   "metadata": {
    "ExecuteTime": {
     "end_time": "2018-10-31T16:11:44.199490Z",
     "start_time": "2018-10-31T16:11:44.051305Z"
    }
   },
   "outputs": [
    {
     "data": {
      "text/plain": [
       "count      5766.000000\n",
       "mean       7283.441186\n",
       "std       33439.520061\n",
       "min           1.060000\n",
       "25%         160.987500\n",
       "50%         718.495000\n",
       "75%        3277.500000\n",
       "max      903990.000000\n",
       "Name: marketcap, dtype: float64"
      ]
     },
     "execution_count": 27,
     "metadata": {},
     "output_type": "execute_result"
    }
   ],
   "source": [
    "stocks.marketcap = stocks.apply(lambda x: x.marketcap * 1000 if x.mcap == 'B' else x.marketcap, axis=1)\n",
    "stocks.marketcap.describe()"
   ]
  },
  {
   "cell_type": "code",
   "execution_count": 28,
   "metadata": {
    "ExecuteTime": {
     "end_time": "2018-10-31T16:11:44.278990Z",
     "start_time": "2018-10-31T16:11:44.200562Z"
    }
   },
   "outputs": [
    {
     "name": "stdout",
     "output_type": "stream",
     "text": [
      "<class 'pandas.core.frame.DataFrame'>\n",
      "DatetimeIndex: 207 entries, 2018-03-31 to 2001-01-31\n",
      "Freq: -1M\n",
      "Columns: 2328 entries, A to UFS\n",
      "dtypes: float64(2328)\n",
      "memory usage: 3.7 MB\n"
     ]
    }
   ],
   "source": [
    "size_factor = (monthly_prices\n",
    "               .loc[data.index.get_level_values('date').unique(),\n",
    "                    data.index.get_level_values('ticker').unique()]\n",
    "               .sort_index(ascending=False)\n",
    "               .pct_change()\n",
    "               .fillna(0)\n",
    "               .add(1)\n",
    "               .cumprod())\n",
    "size_factor.info()"
   ]
  },
  {
   "cell_type": "code",
   "execution_count": 29,
   "metadata": {
    "ExecuteTime": {
     "end_time": "2018-10-31T16:11:44.285475Z",
     "start_time": "2018-10-31T16:11:44.279950Z"
    }
   },
   "outputs": [],
   "source": [
    "msize = (size_factor\n",
    "         .mul(stocks\n",
    "              .loc[size_factor.columns, 'marketcap'])).dropna(axis=1, how='all')"
   ]
  },
  {
   "cell_type": "code",
   "execution_count": 30,
   "metadata": {
    "ExecuteTime": {
     "end_time": "2018-10-31T16:11:44.474572Z",
     "start_time": "2018-10-31T16:11:44.286355Z"
    }
   },
   "outputs": [],
   "source": [
    "data['msize'] = (msize\n",
    "                 .apply(lambda x: pd.qcut(x, q=10, labels=list(range(1, 11)))\n",
    "                        .astype(int), axis=1)\n",
    "                 .stack()\n",
    "                 .swaplevel())\n",
    "data.msize = data.msize.fillna(-1)"
   ]
  },
  {
   "cell_type": "markdown",
   "metadata": {},
   "source": [
    "## Combine data"
   ]
  },
  {
   "cell_type": "code",
   "execution_count": 31,
   "metadata": {
    "ExecuteTime": {
     "end_time": "2018-10-31T16:11:44.515737Z",
     "start_time": "2018-10-31T16:11:44.475540Z"
    }
   },
   "outputs": [],
   "source": [
    "data = data.join(stocks[['sector']])\n",
    "data.sector = data.sector.fillna('Unknown')"
   ]
  },
  {
   "cell_type": "code",
   "execution_count": 32,
   "metadata": {
    "ExecuteTime": {
     "end_time": "2018-10-31T16:11:44.717213Z",
     "start_time": "2018-10-31T16:11:44.516609Z"
    },
    "scrolled": false
   },
   "outputs": [
    {
     "name": "stdout",
     "output_type": "stream",
     "text": [
      "<class 'pandas.core.frame.DataFrame'>\n",
      "MultiIndex: 447517 entries, (A, 2001-01-31 00:00:00) to (ZUMZ, 2018-03-31 00:00:00)\n",
      "Data columns (total 33 columns):\n",
      "return_1m        447517 non-null float64\n",
      "return_2m        447517 non-null float64\n",
      "return_3m        447517 non-null float64\n",
      "return_6m        447517 non-null float64\n",
      "return_9m        447517 non-null float64\n",
      "return_12m       447517 non-null float64\n",
      "CMA              447517 non-null float64\n",
      "HML              447517 non-null float64\n",
      "Mkt-RF           447517 non-null float64\n",
      "RMW              447517 non-null float64\n",
      "SMB              447517 non-null float64\n",
      "momentum_2       447517 non-null float64\n",
      "momentum_3       447517 non-null float64\n",
      "momentum_6       447517 non-null float64\n",
      "momentum_9       447517 non-null float64\n",
      "momentum_12      447517 non-null float64\n",
      "momentum_3_12    447517 non-null float64\n",
      "year             447517 non-null int64\n",
      "month            447517 non-null int64\n",
      "return_1m_t-1    445189 non-null float64\n",
      "return_1m_t-2    442861 non-null float64\n",
      "return_1m_t-3    440533 non-null float64\n",
      "return_1m_t-4    438205 non-null float64\n",
      "return_1m_t-5    435877 non-null float64\n",
      "return_1m_t-6    433549 non-null float64\n",
      "target_1m        445189 non-null float64\n",
      "target_2m        442861 non-null float64\n",
      "target_3m        440533 non-null float64\n",
      "target_6m        433549 non-null float64\n",
      "target_12m       419581 non-null float64\n",
      "age              447517 non-null float64\n",
      "msize            447517 non-null float64\n",
      "sector           447517 non-null object\n",
      "dtypes: float64(30), int64(2), object(1)\n",
      "memory usage: 114.6+ MB\n"
     ]
    }
   ],
   "source": [
    "data.info()"
   ]
  },
  {
   "cell_type": "markdown",
   "metadata": {},
   "source": [
    "## Store data"
   ]
  },
  {
   "cell_type": "code",
   "execution_count": 33,
   "metadata": {
    "ExecuteTime": {
     "end_time": "2018-10-31T16:11:45.195042Z",
     "start_time": "2018-10-31T16:11:44.718331Z"
    }
   },
   "outputs": [],
   "source": [
    "with pd.HDFStore('../../data/data.h5') as store:\n",
    "    store.put('engineered_features', data.sort_index().loc[idx[:, :datetime(2018, 3, 1)], :])"
   ]
  },
  {
   "cell_type": "markdown",
   "metadata": {},
   "source": [
    "## Create Dummy variables"
   ]
  },
  {
   "cell_type": "code",
   "execution_count": 107,
   "metadata": {
    "ExecuteTime": {
     "end_time": "2018-10-07T22:52:05.826023Z",
     "start_time": "2018-10-07T22:52:05.044003Z"
    },
    "scrolled": false
   },
   "outputs": [
    {
     "name": "stdout",
     "output_type": "stream",
     "text": [
      "<class 'pandas.core.frame.DataFrame'>\n",
      "MultiIndex: 465935 entries, (A, 2001-01-31 00:00:00) to (ZUMZ, 2018-03-31 00:00:00)\n",
      "Data columns (total 89 columns):\n",
      "return_1m                465935 non-null float64\n",
      "return_2m                465935 non-null float64\n",
      "return_3m                465935 non-null float64\n",
      "return_6m                465935 non-null float64\n",
      "return_9m                465935 non-null float64\n",
      "return_12m               465935 non-null float64\n",
      "Mkt-RF                   465935 non-null float64\n",
      "SMB                      465935 non-null float64\n",
      "HML                      465935 non-null float64\n",
      "RMW                      465935 non-null float64\n",
      "CMA                      465935 non-null float64\n",
      "momentum_2               465935 non-null float64\n",
      "momentum_3               465935 non-null float64\n",
      "momentum_6               465935 non-null float64\n",
      "momentum_9               465935 non-null float64\n",
      "momentum_12              465935 non-null float64\n",
      "momentum_3_12            465935 non-null float64\n",
      "return_1m_t-1            463550 non-null float64\n",
      "return_1m_t-2            461165 non-null float64\n",
      "return_1m_t-3            458780 non-null float64\n",
      "return_1m_t-4            456395 non-null float64\n",
      "return_1m_t-5            454010 non-null float64\n",
      "return_1m_t-6            451625 non-null float64\n",
      "target_1m                463550 non-null float64\n",
      "target_2m                461165 non-null float64\n",
      "target_3m                458780 non-null float64\n",
      "target_6m                451625 non-null float64\n",
      "target_12m               437315 non-null float64\n",
      "year_2001                465935 non-null uint8\n",
      "year_2002                465935 non-null uint8\n",
      "year_2003                465935 non-null uint8\n",
      "year_2004                465935 non-null uint8\n",
      "year_2005                465935 non-null uint8\n",
      "year_2006                465935 non-null uint8\n",
      "year_2007                465935 non-null uint8\n",
      "year_2008                465935 non-null uint8\n",
      "year_2009                465935 non-null uint8\n",
      "year_2010                465935 non-null uint8\n",
      "year_2011                465935 non-null uint8\n",
      "year_2012                465935 non-null uint8\n",
      "year_2013                465935 non-null uint8\n",
      "year_2014                465935 non-null uint8\n",
      "year_2015                465935 non-null uint8\n",
      "year_2016                465935 non-null uint8\n",
      "year_2017                465935 non-null uint8\n",
      "year_2018                465935 non-null uint8\n",
      "month_1                  465935 non-null uint8\n",
      "month_2                  465935 non-null uint8\n",
      "month_3                  465935 non-null uint8\n",
      "month_4                  465935 non-null uint8\n",
      "month_5                  465935 non-null uint8\n",
      "month_6                  465935 non-null uint8\n",
      "month_7                  465935 non-null uint8\n",
      "month_8                  465935 non-null uint8\n",
      "month_9                  465935 non-null uint8\n",
      "month_10                 465935 non-null uint8\n",
      "month_11                 465935 non-null uint8\n",
      "month_12                 465935 non-null uint8\n",
      "msize_-1                 465935 non-null uint8\n",
      "msize_1                  465935 non-null uint8\n",
      "msize_2                  465935 non-null uint8\n",
      "msize_3                  465935 non-null uint8\n",
      "msize_4                  465935 non-null uint8\n",
      "msize_5                  465935 non-null uint8\n",
      "msize_6                  465935 non-null uint8\n",
      "msize_7                  465935 non-null uint8\n",
      "msize_8                  465935 non-null uint8\n",
      "msize_9                  465935 non-null uint8\n",
      "msize_10                 465935 non-null uint8\n",
      "age_-1                   465935 non-null uint8\n",
      "age_0                    465935 non-null uint8\n",
      "age_1                    465935 non-null uint8\n",
      "age_2                    465935 non-null uint8\n",
      "age_3                    465935 non-null uint8\n",
      "age_4                    465935 non-null uint8\n",
      "age_5                    465935 non-null uint8\n",
      "Basic Industries         465935 non-null uint8\n",
      "Capital Goods            465935 non-null uint8\n",
      "Consumer Durables        465935 non-null uint8\n",
      "Consumer Non-Durables    465935 non-null uint8\n",
      "Consumer Services        465935 non-null uint8\n",
      "Energy                   465935 non-null uint8\n",
      "Finance                  465935 non-null uint8\n",
      "Health Care              465935 non-null uint8\n",
      "Miscellaneous            465935 non-null uint8\n",
      "Public Utilities         465935 non-null uint8\n",
      "Technology               465935 non-null uint8\n",
      "Transportation           465935 non-null uint8\n",
      "Unknown                  465935 non-null uint8\n",
      "dtypes: float64(28), uint8(61)\n",
      "memory usage: 128.4+ MB\n"
     ]
    }
   ],
   "source": [
    "dummy_data = pd.get_dummies(data,\n",
    "                            columns=['year','month', 'msize', 'age',  'sector'],\n",
    "                            prefix=['year','month', 'msize', 'age', ''],\n",
    "                            prefix_sep=['_', '_', '_', '_', ''])\n",
    "dummy_data = dummy_data.rename(columns={c:c.replace('.0', '') for c in dummy_data.columns})\n",
    "dummy_data.info()"
   ]
  },
  {
   "cell_type": "markdown",
   "metadata": {},
   "source": [
    "### Mutual Information"
   ]
  },
  {
   "cell_type": "markdown",
   "metadata": {},
   "source": [
    "#### Original Data"
   ]
  },
  {
   "cell_type": "code",
   "execution_count": 169,
   "metadata": {
    "ExecuteTime": {
     "end_time": "2018-10-08T13:23:07.456092Z",
     "start_time": "2018-10-08T13:23:07.047775Z"
    }
   },
   "outputs": [],
   "source": [
    "target_labels = [f'target_{i}m' for i in [1,2,3,6,12]]\n",
    "targets = data.dropna().loc[:, target_labels]\n",
    "\n",
    "features = data.dropna().drop(target_labels, axis=1)\n",
    "features.sector = pd.factorize(features.sector)[0]\n",
    "\n",
    "cat_cols = ['year', 'month', 'msize', 'age', 'sector']\n",
    "discrete_features = [features.columns.get_loc(c) for c in cat_cols]"
   ]
  },
  {
   "cell_type": "code",
   "execution_count": 170,
   "metadata": {
    "ExecuteTime": {
     "end_time": "2018-10-08T13:30:40.531025Z",
     "start_time": "2018-10-08T13:23:19.940930Z"
    }
   },
   "outputs": [],
   "source": [
    "mutual_info = pd.DataFrame()\n",
    "for label in target_labels:\n",
    "    mi = mutual_info_classif(X=features, \n",
    "                             y=(targets[label]> 0).astype(int),\n",
    "                             discrete_features=discrete_features,\n",
    "                             random_state=42\n",
    "                            )\n",
    "    mutual_info[label] = pd.Series(mi, index=features.columns)"
   ]
  },
  {
   "cell_type": "code",
   "execution_count": 171,
   "metadata": {
    "ExecuteTime": {
     "end_time": "2018-10-08T13:30:40.535840Z",
     "start_time": "2018-10-08T13:30:40.532218Z"
    }
   },
   "outputs": [
    {
     "data": {
      "text/plain": [
       "target_1m     0.195866\n",
       "target_2m     0.227797\n",
       "target_3m     0.252658\n",
       "target_6m     0.316750\n",
       "target_12m    0.385409\n",
       "dtype: float64"
      ]
     },
     "execution_count": 171,
     "metadata": {},
     "output_type": "execute_result"
    }
   ],
   "source": [
    "mutual_info.sum()"
   ]
  },
  {
   "cell_type": "markdown",
   "metadata": {},
   "source": [
    "#### Normalized MI Heatmap"
   ]
  },
  {
   "cell_type": "code",
   "execution_count": 172,
   "metadata": {
    "ExecuteTime": {
     "end_time": "2018-10-08T13:30:40.794319Z",
     "start_time": "2018-10-08T13:30:40.536987Z"
    }
   },
   "outputs": [
    {
     "data": {
      "image/png": "[encoded data removed]",
      "text/plain": [
       "<Figure size 1080x288 with 2 Axes>"
      ]
     },
     "metadata": {},
     "output_type": "display_data"
    }
   ],
   "source": [
    "fig, ax= plt.subplots(figsize=(15, 4))\n",
    "sns.heatmap(mutual_info.div(mutual_info.sum()).T, ax=ax, cmap='Blues');"
   ]
  },
  {
   "cell_type": "markdown",
   "metadata": {},
   "source": [
    "#### Dummy Data"
   ]
  },
  {
   "cell_type": "code",
   "execution_count": 176,
   "metadata": {
    "ExecuteTime": {
     "end_time": "2018-10-08T13:33:46.593665Z",
     "start_time": "2018-10-08T13:33:45.319321Z"
    }
   },
   "outputs": [],
   "source": [
    "target_labels = [f'target_{i}m' for i in [1, 2, 3, 6, 12]]\n",
    "dummy_targets = dummy_data.dropna().loc[:, target_labels]\n",
    "\n",
    "dummy_features = dummy_data.dropna().drop(target_labels, axis=1)\n",
    "cat_cols = [c for c in dummy_features.columns if c not in features.columns]\n",
    "discrete_features = [dummy_features.columns.get_loc(c) for c in cat_cols]"
   ]
  },
  {
   "cell_type": "code",
   "execution_count": 178,
   "metadata": {
    "ExecuteTime": {
     "end_time": "2018-10-08T13:41:27.482996Z",
     "start_time": "2018-10-08T13:34:17.330357Z"
    }
   },
   "outputs": [],
   "source": [
    "mutual_info_dummies = pd.DataFrame()\n",
    "for label in target_labels:\n",
    "    mi = mutual_info_classif(X=dummy_features, \n",
    "                             y=(dummy_targets[label]> 0).astype(int),\n",
    "                             discrete_features=discrete_features,\n",
    "                             random_state=42\n",
    "                            )    \n",
    "    mutual_info_dummies[label] = pd.Series(mi, index=dummy_features.columns)"
   ]
  },
  {
   "cell_type": "code",
   "execution_count": 179,
   "metadata": {
    "ExecuteTime": {
     "end_time": "2018-10-08T13:41:27.487470Z",
     "start_time": "2018-10-08T13:41:27.484081Z"
    }
   },
   "outputs": [
    {
     "data": {
      "text/plain": [
       "target_1m     0.197985\n",
       "target_2m     0.230910\n",
       "target_3m     0.256673\n",
       "target_6m     0.322516\n",
       "target_12m    0.392777\n",
       "dtype: float64"
      ]
     },
     "execution_count": 179,
     "metadata": {},
     "output_type": "execute_result"
    }
   ],
   "source": [
    "mutual_info_dummies.sum()"
   ]
  },
  {
   "cell_type": "code",
   "execution_count": 188,
   "metadata": {
    "ExecuteTime": {
     "end_time": "2018-10-08T13:46:46.358797Z",
     "start_time": "2018-10-08T13:46:45.417852Z"
    }
   },
   "outputs": [
    {
     "data": {
      "image/png": "[encoded data removed]",
      "text/plain": [
       "<Figure size 288x1440 with 2 Axes>"
      ]
     },
     "metadata": {},
     "output_type": "display_data"
    }
   ],
   "source": [
    "fig, ax= plt.subplots(figsize=(4, 20))\n",
    "sns.heatmap(mutual_info_dummies.div(mutual_info_dummies.sum()), ax=ax, cmap='Blues');"
   ]
  },
  {
   "cell_type": "code",
   "execution_count": null,
   "metadata": {},
   "outputs": [],
   "source": []
  }
 ],
 "metadata": {
  "kernelspec": {
   "display_name": "Python 3",
   "language": "python",
   "name": "python3"
  },
  "language_info": {
   "codemirror_mode": {
    "name": "ipython",
    "version": 3
   },
   "file_extension": ".py",
   "mimetype": "text/x-python",
   "name": "python",
   "nbconvert_exporter": "python",
   "pygments_lexer": "ipython3",
   "version": "3.6.4"
  },
  "toc": {
   "base_numbering": 1,
   "nav_menu": {},
   "number_sections": true,
   "sideBar": true,
   "skip_h1_title": false,
   "title_cell": "Table of Contents",
   "title_sidebar": "Contents",
   "toc_cell": false,
   "toc_position": {},
   "toc_section_display": true,
   "toc_window_display": true
  }
 },
 "nbformat": 4,
 "nbformat_minor": 2
}
