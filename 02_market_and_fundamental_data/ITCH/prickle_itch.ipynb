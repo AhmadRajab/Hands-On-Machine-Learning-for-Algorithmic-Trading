{
 "cells": [
  {
   "cell_type": "code",
   "execution_count": 3,
   "metadata": {},
   "outputs": [],
   "source": [
    "import prickle as pk\n",
    "from prickle import load_hdf5, find_trades, interpolate, imshow, reorder, plot_trades, nodups\n",
    "from urllib.request import urlretrieve\n",
    "from pathlib import Path\n",
    "import gzip\n",
    "import shutil\n",
    "import h5py"
   ]
  },
  {
   "cell_type": "code",
   "execution_count": 4,
   "metadata": {},
   "outputs": [],
   "source": [
    "types = {0: 'add',\n",
    "         1: 'add_mpid',\n",
    "         2: 'cancel',\n",
    "         3: 'delete',\n",
    "         4: 'exec',\n",
    "         5: 'exec_p',\n",
    "         6: 'replace'}"
   ]
  },
  {
   "cell_type": "code",
   "execution_count": 5,
   "metadata": {},
   "outputs": [],
   "source": [
    "data_path = Path('/drive/data/algo_trading/data/itch')"
   ]
  },
  {
   "cell_type": "code",
   "execution_count": 44,
   "metadata": {},
   "outputs": [],
   "source": [
    "name = 'AAPL'\n",
    "hdf = data_path / 'itch3.hdf5'"
   ]
  },
  {
   "cell_type": "code",
   "execution_count": 49,
   "metadata": {},
   "outputs": [
    {
     "name": "stdout",
     "output_type": "stream",
     "text": [
      "<class 'pandas.core.frame.DataFrame'>\n",
      "Int64Index: 1685113 entries, 0 to 1685112\n",
      "Data columns (total 8 columns):\n",
      "sec         1685113 non-null int32\n",
      "nano        1685113 non-null int32\n",
      "type        1685113 non-null int32\n",
      "side        1685113 non-null int32\n",
      "price       1685113 non-null int32\n",
      "shares      1685113 non-null int32\n",
      "refno       1685113 non-null int32\n",
      "newrefno    1685113 non-null int32\n",
      "dtypes: int32(8)\n",
      "memory usage: 64.3 MB\n"
     ]
    }
   ],
   "source": [
    "messages = load_hdf5(hdf, grp='messages', name=name)\n",
    "messages.info()"
   ]
  },
  {
   "cell_type": "code",
   "execution_count": 50,
   "metadata": {},
   "outputs": [
    {
     "data": {
      "text/plain": [
       "add         755991\n",
       "delete      724493\n",
       "replace     126266\n",
       "exec         51129\n",
       "cancel       15196\n",
       "add_mpid     10397\n",
       "exec_p        1641\n",
       "Name: type, dtype: int64"
      ]
     },
     "execution_count": 50,
     "metadata": {},
     "output_type": "execute_result"
    }
   ],
   "source": [
    "messages.type = messages.type.map(types)\n",
    "messages.type.value_counts()"
   ]
  },
  {
   "cell_type": "code",
   "execution_count": 53,
   "metadata": {},
   "outputs": [
    {
     "data": {
      "text/html": [
       "<div>\n",
       "<table border=\"1\" class=\"dataframe\">\n",
       "  <thead>\n",
       "    <tr style=\"text-align: right;\">\n",
       "      <th></th>\n",
       "      <th>count</th>\n",
       "      <th>mean</th>\n",
       "      <th>std</th>\n",
       "      <th>min</th>\n",
       "      <th>25%</th>\n",
       "      <th>50%</th>\n",
       "      <th>75%</th>\n",
       "      <th>max</th>\n",
       "    </tr>\n",
       "    <tr>\n",
       "      <th>type</th>\n",
       "      <th></th>\n",
       "      <th></th>\n",
       "      <th></th>\n",
       "      <th></th>\n",
       "      <th></th>\n",
       "      <th></th>\n",
       "      <th></th>\n",
       "      <th></th>\n",
       "    </tr>\n",
       "  </thead>\n",
       "  <tbody>\n",
       "    <tr>\n",
       "      <th>add</th>\n",
       "      <td>755991.0</td>\n",
       "      <td>37.954859</td>\n",
       "      <td>22.449182</td>\n",
       "      <td>0.0</td>\n",
       "      <td>19.0</td>\n",
       "      <td>37.0</td>\n",
       "      <td>57.0</td>\n",
       "      <td>78.0</td>\n",
       "    </tr>\n",
       "    <tr>\n",
       "      <th>add_mpid</th>\n",
       "      <td>10397.0</td>\n",
       "      <td>39.051938</td>\n",
       "      <td>24.825575</td>\n",
       "      <td>0.0</td>\n",
       "      <td>15.0</td>\n",
       "      <td>35.0</td>\n",
       "      <td>60.0</td>\n",
       "      <td>78.0</td>\n",
       "    </tr>\n",
       "    <tr>\n",
       "      <th>cancel</th>\n",
       "      <td>15196.0</td>\n",
       "      <td>38.610687</td>\n",
       "      <td>22.662682</td>\n",
       "      <td>0.0</td>\n",
       "      <td>19.0</td>\n",
       "      <td>39.0</td>\n",
       "      <td>58.0</td>\n",
       "      <td>78.0</td>\n",
       "    </tr>\n",
       "    <tr>\n",
       "      <th>delete</th>\n",
       "      <td>724493.0</td>\n",
       "      <td>38.643062</td>\n",
       "      <td>21.964278</td>\n",
       "      <td>0.0</td>\n",
       "      <td>20.0</td>\n",
       "      <td>40.0</td>\n",
       "      <td>57.0</td>\n",
       "      <td>78.0</td>\n",
       "    </tr>\n",
       "    <tr>\n",
       "      <th>exec</th>\n",
       "      <td>51129.0</td>\n",
       "      <td>37.869154</td>\n",
       "      <td>22.578142</td>\n",
       "      <td>0.0</td>\n",
       "      <td>18.0</td>\n",
       "      <td>37.0</td>\n",
       "      <td>58.0</td>\n",
       "      <td>78.0</td>\n",
       "    </tr>\n",
       "    <tr>\n",
       "      <th>exec_p</th>\n",
       "      <td>1641.0</td>\n",
       "      <td>35.591712</td>\n",
       "      <td>22.737184</td>\n",
       "      <td>0.0</td>\n",
       "      <td>15.0</td>\n",
       "      <td>34.0</td>\n",
       "      <td>55.0</td>\n",
       "      <td>78.0</td>\n",
       "    </tr>\n",
       "    <tr>\n",
       "      <th>replace</th>\n",
       "      <td>126266.0</td>\n",
       "      <td>37.980446</td>\n",
       "      <td>22.593738</td>\n",
       "      <td>0.0</td>\n",
       "      <td>18.0</td>\n",
       "      <td>38.0</td>\n",
       "      <td>58.0</td>\n",
       "      <td>78.0</td>\n",
       "    </tr>\n",
       "  </tbody>\n",
       "</table>\n",
       "</div>"
      ],
      "text/plain": [
       "             count       mean        std  min   25%   50%   75%   max\n",
       "type                                                                 \n",
       "add       755991.0  37.954859  22.449182  0.0  19.0  37.0  57.0  78.0\n",
       "add_mpid   10397.0  39.051938  24.825575  0.0  15.0  35.0  60.0  78.0\n",
       "cancel     15196.0  38.610687  22.662682  0.0  19.0  39.0  58.0  78.0\n",
       "delete    724493.0  38.643062  21.964278  0.0  20.0  40.0  57.0  78.0\n",
       "exec       51129.0  37.869154  22.578142  0.0  18.0  37.0  58.0  78.0\n",
       "exec_p      1641.0  35.591712  22.737184  0.0  15.0  34.0  55.0  78.0\n",
       "replace   126266.0  37.980446  22.593738  0.0  18.0  38.0  58.0  78.0"
      ]
     },
     "execution_count": 53,
     "metadata": {},
     "output_type": "execute_result"
    }
   ],
   "source": [
    "messages['hr'] = messages.sec.div(60**2).astype(int)\n",
    "messages.groupby('type').hr.describe().unstack()"
   ]
  },
  {
   "cell_type": "code",
   "execution_count": 56,
   "metadata": {},
   "outputs": [
    {
     "name": "stderr",
     "output_type": "stream",
     "text": [
      "/home/stefan/.pyenv/versions/3.5.5/envs/algo_trading/lib/python3.5/site-packages/matplotlib/axes/_axes.py:6462: UserWarning: The 'normed' kwarg is deprecated, and has been replaced by the 'density' kwarg.\n",
      "  warnings.warn(\"The 'normed' kwarg is deprecated, and has been \"\n"
     ]
    },
    {
     "data": {
      "image/png": "[encoded data removed]",
      "text/plain": [
       "<Figure size 432x288 with 1 Axes>"
      ]
     },
     "metadata": {},
     "output_type": "display_data"
    }
   ],
   "source": [
    "import seaborn as sns\n",
    "sns.distplot(messages.hr, bins=79);"
   ]
  },
  {
   "cell_type": "code",
   "execution_count": 47,
   "metadata": {},
   "outputs": [
    {
     "name": "stdout",
     "output_type": "stream",
     "text": [
      "<class 'pandas.core.frame.DataFrame'>\n",
      "Int64Index: 1703594 entries, 0 to 1811378\n",
      "Data columns (total 22 columns):\n",
      "sec         int32\n",
      "nano        int32\n",
      "bidprc.1    int32\n",
      "bidprc.2    int32\n",
      "bidprc.3    int32\n",
      "bidprc.4    int32\n",
      "bidprc.5    int32\n",
      "askprc.1    int32\n",
      "askprc.2    int32\n",
      "askprc.3    int32\n",
      "askprc.4    int32\n",
      "askprc.5    int32\n",
      "bidvol.1    int32\n",
      "bidvol.2    int32\n",
      "bidvol.3    int32\n",
      "bidvol.4    int32\n",
      "bidvol.5    int32\n",
      "askvol.1    int32\n",
      "askvol.2    int32\n",
      "askvol.3    int32\n",
      "askvol.4    int32\n",
      "askvol.5    int32\n",
      "dtypes: int32(22)\n",
      "memory usage: 156.0 MB\n"
     ]
    }
   ],
   "source": [
    "price, volume = load_hdf5(hdf, grp='books', name=name)\n",
    "orders = pd.concat([price, volume.iloc[:, 2:]], axis=1).drop_duplicates()\n",
    "orders.info()"
   ]
  },
  {
   "cell_type": "code",
   "execution_count": 26,
   "metadata": {},
   "outputs": [],
   "source": [
    "messages['time'] = messages.sec + messages.nano / 10 ** 9\n",
    "orders['time'] = orders.sec + orders.nano / 10 ** 9"
   ]
  },
  {
   "cell_type": "code",
   "execution_count": 33,
   "metadata": {},
   "outputs": [
    {
     "name": "stdout",
     "output_type": "stream",
     "text": [
      "<class 'pandas.core.frame.DataFrame'>\n",
      "Int64Index: 1330777 entries, 1260263 to 297275\n",
      "Data columns (total 27 columns):\n",
      "bidprc.1    1330777 non-null int32\n",
      "bidprc.2    1330777 non-null int32\n",
      "bidprc.3    1330777 non-null int32\n",
      "bidprc.4    1330777 non-null int32\n",
      "bidprc.5    1330777 non-null int32\n",
      "askprc.1    1330777 non-null int32\n",
      "askprc.2    1330777 non-null int32\n",
      "askprc.3    1330777 non-null int32\n",
      "askprc.4    1330777 non-null int32\n",
      "askprc.5    1330777 non-null int32\n",
      "bidvol.1    1330777 non-null int32\n",
      "bidvol.2    1330777 non-null int32\n",
      "bidvol.3    1330777 non-null int32\n",
      "bidvol.4    1330777 non-null int32\n",
      "bidvol.5    1330777 non-null int32\n",
      "askvol.1    1330777 non-null int32\n",
      "askvol.2    1330777 non-null int32\n",
      "askvol.3    1330777 non-null int32\n",
      "askvol.4    1330777 non-null int32\n",
      "askvol.5    1330777 non-null int32\n",
      "time        1330777 non-null float64\n",
      "type        1330777 non-null object\n",
      "side        1330777 non-null int32\n",
      "price       1330777 non-null int32\n",
      "shares      1330777 non-null int32\n",
      "refno       1330777 non-null int32\n",
      "newrefno    1330777 non-null int32\n",
      "dtypes: float64(1), int32(25), object(1)\n",
      "memory usage: 157.4+ MB\n"
     ]
    }
   ],
   "source": [
    "data = orders.drop(['sec', 'nano'], axis=1).merge(messages.drop(['sec', 'nano'], axis=1), how='left')\n",
    "data = data.drop_duplicates().sort_values('time')\n",
    "data.info()"
   ]
  },
  {
   "cell_type": "code",
   "execution_count": 34,
   "metadata": {},
   "outputs": [
    {
     "data": {
      "text/html": [
       "<div>\n",
       "<table border=\"1\" class=\"dataframe\">\n",
       "  <thead>\n",
       "    <tr style=\"text-align: right;\">\n",
       "      <th></th>\n",
       "      <th>bidprc.1</th>\n",
       "      <th>bidprc.2</th>\n",
       "      <th>bidprc.3</th>\n",
       "      <th>bidprc.4</th>\n",
       "      <th>bidprc.5</th>\n",
       "      <th>askprc.1</th>\n",
       "      <th>askprc.2</th>\n",
       "      <th>askprc.3</th>\n",
       "      <th>askprc.4</th>\n",
       "      <th>askprc.5</th>\n",
       "      <th>...</th>\n",
       "      <th>askvol.3</th>\n",
       "      <th>askvol.4</th>\n",
       "      <th>askvol.5</th>\n",
       "      <th>time</th>\n",
       "      <th>type</th>\n",
       "      <th>side</th>\n",
       "      <th>price</th>\n",
       "      <th>shares</th>\n",
       "      <th>refno</th>\n",
       "      <th>newrefno</th>\n",
       "    </tr>\n",
       "  </thead>\n",
       "  <tbody>\n",
       "    <tr>\n",
       "      <th>1260263</th>\n",
       "      <td>1660200</td>\n",
       "      <td>1660000</td>\n",
       "      <td>1659900</td>\n",
       "      <td>1659500</td>\n",
       "      <td>1658800</td>\n",
       "      <td>1661500</td>\n",
       "      <td>1662000</td>\n",
       "      <td>1662300</td>\n",
       "      <td>1663000</td>\n",
       "      <td>1663500</td>\n",
       "      <td>...</td>\n",
       "      <td>100</td>\n",
       "      <td>64</td>\n",
       "      <td>50</td>\n",
       "      <td>0.066074</td>\n",
       "      <td>delete</td>\n",
       "      <td>1</td>\n",
       "      <td>1659800</td>\n",
       "      <td>100</td>\n",
       "      <td>262537097</td>\n",
       "      <td>-1</td>\n",
       "    </tr>\n",
       "    <tr>\n",
       "      <th>137507</th>\n",
       "      <td>1674400</td>\n",
       "      <td>1674300</td>\n",
       "      <td>1674200</td>\n",
       "      <td>1674100</td>\n",
       "      <td>1674000</td>\n",
       "      <td>1674700</td>\n",
       "      <td>1674800</td>\n",
       "      <td>1674900</td>\n",
       "      <td>1675000</td>\n",
       "      <td>1675100</td>\n",
       "      <td>...</td>\n",
       "      <td>601</td>\n",
       "      <td>3629</td>\n",
       "      <td>700</td>\n",
       "      <td>0.335094</td>\n",
       "      <td>delete</td>\n",
       "      <td>-1</td>\n",
       "      <td>1674600</td>\n",
       "      <td>100</td>\n",
       "      <td>28048321</td>\n",
       "      <td>-1</td>\n",
       "    </tr>\n",
       "    <tr>\n",
       "      <th>189654</th>\n",
       "      <td>1679200</td>\n",
       "      <td>1679000</td>\n",
       "      <td>1678900</td>\n",
       "      <td>1678800</td>\n",
       "      <td>1678700</td>\n",
       "      <td>1679400</td>\n",
       "      <td>1679500</td>\n",
       "      <td>1679600</td>\n",
       "      <td>1679700</td>\n",
       "      <td>1679800</td>\n",
       "      <td>...</td>\n",
       "      <td>300</td>\n",
       "      <td>400</td>\n",
       "      <td>701</td>\n",
       "      <td>0.563421</td>\n",
       "      <td>delete</td>\n",
       "      <td>1</td>\n",
       "      <td>1679100</td>\n",
       "      <td>500</td>\n",
       "      <td>44011601</td>\n",
       "      <td>-1</td>\n",
       "    </tr>\n",
       "    <tr>\n",
       "      <th>362612</th>\n",
       "      <td>1669900</td>\n",
       "      <td>1669800</td>\n",
       "      <td>1669700</td>\n",
       "      <td>1669600</td>\n",
       "      <td>1669500</td>\n",
       "      <td>1670000</td>\n",
       "      <td>1670100</td>\n",
       "      <td>1670200</td>\n",
       "      <td>1670300</td>\n",
       "      <td>1670400</td>\n",
       "      <td>...</td>\n",
       "      <td>1100</td>\n",
       "      <td>200</td>\n",
       "      <td>500</td>\n",
       "      <td>0.749020</td>\n",
       "      <td>replace</td>\n",
       "      <td>-1</td>\n",
       "      <td>1671300</td>\n",
       "      <td>10</td>\n",
       "      <td>95548029</td>\n",
       "      <td>95557709</td>\n",
       "    </tr>\n",
       "    <tr>\n",
       "      <th>1117916</th>\n",
       "      <td>1677800</td>\n",
       "      <td>1677700</td>\n",
       "      <td>1677600</td>\n",
       "      <td>1677500</td>\n",
       "      <td>1677400</td>\n",
       "      <td>1678000</td>\n",
       "      <td>1678100</td>\n",
       "      <td>1678200</td>\n",
       "      <td>1678300</td>\n",
       "      <td>1678400</td>\n",
       "      <td>...</td>\n",
       "      <td>500</td>\n",
       "      <td>601</td>\n",
       "      <td>501</td>\n",
       "      <td>0.753677</td>\n",
       "      <td>delete</td>\n",
       "      <td>-1</td>\n",
       "      <td>1678000</td>\n",
       "      <td>400</td>\n",
       "      <td>250206985</td>\n",
       "      <td>-1</td>\n",
       "    </tr>\n",
       "  </tbody>\n",
       "</table>\n",
       "<p>5 rows × 27 columns</p>\n",
       "</div>"
      ],
      "text/plain": [
       "         bidprc.1  bidprc.2  bidprc.3  bidprc.4  bidprc.5  askprc.1  askprc.2  \\\n",
       "1260263   1660200   1660000   1659900   1659500   1658800   1661500   1662000   \n",
       "137507    1674400   1674300   1674200   1674100   1674000   1674700   1674800   \n",
       "189654    1679200   1679000   1678900   1678800   1678700   1679400   1679500   \n",
       "362612    1669900   1669800   1669700   1669600   1669500   1670000   1670100   \n",
       "1117916   1677800   1677700   1677600   1677500   1677400   1678000   1678100   \n",
       "\n",
       "         askprc.3  askprc.4  askprc.5    ...     askvol.3  askvol.4  askvol.5  \\\n",
       "1260263   1662300   1663000   1663500    ...          100        64        50   \n",
       "137507    1674900   1675000   1675100    ...          601      3629       700   \n",
       "189654    1679600   1679700   1679800    ...          300       400       701   \n",
       "362612    1670200   1670300   1670400    ...         1100       200       500   \n",
       "1117916   1678200   1678300   1678400    ...          500       601       501   \n",
       "\n",
       "             time     type  side    price  shares      refno  newrefno  \n",
       "1260263  0.066074   delete     1  1659800     100  262537097        -1  \n",
       "137507   0.335094   delete    -1  1674600     100   28048321        -1  \n",
       "189654   0.563421   delete     1  1679100     500   44011601        -1  \n",
       "362612   0.749020  replace    -1  1671300      10   95548029  95557709  \n",
       "1117916  0.753677   delete    -1  1678000     400  250206985        -1  \n",
       "\n",
       "[5 rows x 27 columns]"
      ]
     },
     "execution_count": 34,
     "metadata": {},
     "output_type": "execute_result"
    }
   ],
   "source": [
    "data.head()"
   ]
  },
  {
   "cell_type": "code",
   "execution_count": 41,
   "metadata": {
    "scrolled": true
   },
   "outputs": [
    {
     "data": {
      "text/html": [
       "<div>\n",
       "<table border=\"1\" class=\"dataframe\">\n",
       "  <thead>\n",
       "    <tr style=\"text-align: right;\">\n",
       "      <th></th>\n",
       "      <th>sec</th>\n",
       "      <th>nano</th>\n",
       "      <th>bidprc.1</th>\n",
       "      <th>bidprc.2</th>\n",
       "      <th>bidprc.3</th>\n",
       "      <th>bidprc.4</th>\n",
       "      <th>bidprc.5</th>\n",
       "      <th>askprc.1</th>\n",
       "      <th>askprc.2</th>\n",
       "      <th>askprc.3</th>\n",
       "      <th>askprc.4</th>\n",
       "      <th>askprc.5</th>\n",
       "      <th>time</th>\n",
       "    </tr>\n",
       "  </thead>\n",
       "  <tbody>\n",
       "    <tr>\n",
       "      <th>1036392</th>\n",
       "      <td>0</td>\n",
       "      <td>66074404</td>\n",
       "      <td>1660200</td>\n",
       "      <td>1660000</td>\n",
       "      <td>1659900</td>\n",
       "      <td>1659500</td>\n",
       "      <td>1658800</td>\n",
       "      <td>1661500</td>\n",
       "      <td>1662000</td>\n",
       "      <td>1662300</td>\n",
       "      <td>1663000</td>\n",
       "      <td>1663500</td>\n",
       "      <td>0.066074</td>\n",
       "    </tr>\n",
       "    <tr>\n",
       "      <th>107988</th>\n",
       "      <td>0</td>\n",
       "      <td>335093715</td>\n",
       "      <td>1674400</td>\n",
       "      <td>1674300</td>\n",
       "      <td>1674200</td>\n",
       "      <td>1674100</td>\n",
       "      <td>1674000</td>\n",
       "      <td>1674700</td>\n",
       "      <td>1674800</td>\n",
       "      <td>1674900</td>\n",
       "      <td>1675000</td>\n",
       "      <td>1675100</td>\n",
       "      <td>0.335094</td>\n",
       "    </tr>\n",
       "    <tr>\n",
       "      <th>154950</th>\n",
       "      <td>0</td>\n",
       "      <td>563421357</td>\n",
       "      <td>1679200</td>\n",
       "      <td>1679000</td>\n",
       "      <td>1678900</td>\n",
       "      <td>1678800</td>\n",
       "      <td>1678700</td>\n",
       "      <td>1679400</td>\n",
       "      <td>1679500</td>\n",
       "      <td>1679600</td>\n",
       "      <td>1679700</td>\n",
       "      <td>1679800</td>\n",
       "      <td>0.563421</td>\n",
       "    </tr>\n",
       "    <tr>\n",
       "      <th>302184</th>\n",
       "      <td>0</td>\n",
       "      <td>749020283</td>\n",
       "      <td>1669900</td>\n",
       "      <td>1669800</td>\n",
       "      <td>1669700</td>\n",
       "      <td>1669600</td>\n",
       "      <td>1669500</td>\n",
       "      <td>1670000</td>\n",
       "      <td>1670100</td>\n",
       "      <td>1670200</td>\n",
       "      <td>1670300</td>\n",
       "      <td>1670400</td>\n",
       "      <td>0.749020</td>\n",
       "    </tr>\n",
       "    <tr>\n",
       "      <th>302185</th>\n",
       "      <td>0</td>\n",
       "      <td>749020283</td>\n",
       "      <td>1669900</td>\n",
       "      <td>1669800</td>\n",
       "      <td>1669700</td>\n",
       "      <td>1669600</td>\n",
       "      <td>1669500</td>\n",
       "      <td>1670000</td>\n",
       "      <td>1670100</td>\n",
       "      <td>1670200</td>\n",
       "      <td>1670300</td>\n",
       "      <td>1670400</td>\n",
       "      <td>0.749020</td>\n",
       "    </tr>\n",
       "  </tbody>\n",
       "</table>\n",
       "</div>"
      ],
      "text/plain": [
       "         sec       nano  bidprc.1  bidprc.2  bidprc.3  bidprc.4  bidprc.5  \\\n",
       "1036392    0   66074404   1660200   1660000   1659900   1659500   1658800   \n",
       "107988     0  335093715   1674400   1674300   1674200   1674100   1674000   \n",
       "154950     0  563421357   1679200   1679000   1678900   1678800   1678700   \n",
       "302184     0  749020283   1669900   1669800   1669700   1669600   1669500   \n",
       "302185     0  749020283   1669900   1669800   1669700   1669600   1669500   \n",
       "\n",
       "         askprc.1  askprc.2  askprc.3  askprc.4  askprc.5      time  \n",
       "1036392   1661500   1662000   1662300   1663000   1663500  0.066074  \n",
       "107988    1674700   1674800   1674900   1675000   1675100  0.335094  \n",
       "154950    1679400   1679500   1679600   1679700   1679800  0.563421  \n",
       "302184    1670000   1670100   1670200   1670300   1670400  0.749020  \n",
       "302185    1670000   1670100   1670200   1670300   1670400  0.749020  "
      ]
     },
     "execution_count": 41,
     "metadata": {},
     "output_type": "execute_result"
    }
   ],
   "source": [
    "book['price'].head()"
   ]
  },
  {
   "cell_type": "code",
   "execution_count": 44,
   "metadata": {},
   "outputs": [
    {
     "data": {
      "text/plain": [
       "count                   1091233\n",
       "mean     1 days 14:57:48.401368\n",
       "std      0 days 22:14:18.613984\n",
       "min      0 days 00:00:00.066073\n",
       "25%      0 days 20:18:14.064972\n",
       "50%      1 days 14:26:44.642895\n",
       "75%      2 days 10:02:39.914978\n",
       "max      3 days 06:11:14.873173\n",
       "Name: time, dtype: object"
      ]
     },
     "execution_count": 44,
     "metadata": {},
     "output_type": "execute_result"
    }
   ],
   "source": [
    " pd.to_timedelta(book['price'].time, unit='s').describe()"
   ]
  },
  {
   "cell_type": "code",
   "execution_count": 31,
   "metadata": {},
   "outputs": [
    {
     "data": {
      "text/html": [
       "<div>\n",
       "<table border=\"1\" class=\"dataframe\">\n",
       "  <thead>\n",
       "    <tr style=\"text-align: right;\">\n",
       "      <th></th>\n",
       "      <th>sec</th>\n",
       "      <th>nano</th>\n",
       "      <th>bidvol.1</th>\n",
       "      <th>bidvol.2</th>\n",
       "      <th>bidvol.3</th>\n",
       "      <th>bidvol.4</th>\n",
       "      <th>bidvol.5</th>\n",
       "      <th>askvol.1</th>\n",
       "      <th>askvol.2</th>\n",
       "      <th>askvol.3</th>\n",
       "      <th>askvol.4</th>\n",
       "      <th>askvol.5</th>\n",
       "    </tr>\n",
       "  </thead>\n",
       "  <tbody>\n",
       "    <tr>\n",
       "      <th>0</th>\n",
       "      <td>215869</td>\n",
       "      <td>870968088</td>\n",
       "      <td>50</td>\n",
       "      <td>0</td>\n",
       "      <td>0</td>\n",
       "      <td>0</td>\n",
       "      <td>0</td>\n",
       "      <td>0</td>\n",
       "      <td>0</td>\n",
       "      <td>0</td>\n",
       "      <td>0</td>\n",
       "      <td>0</td>\n",
       "    </tr>\n",
       "    <tr>\n",
       "      <th>1</th>\n",
       "      <td>51984</td>\n",
       "      <td>869100827</td>\n",
       "      <td>50</td>\n",
       "      <td>0</td>\n",
       "      <td>0</td>\n",
       "      <td>0</td>\n",
       "      <td>0</td>\n",
       "      <td>145</td>\n",
       "      <td>0</td>\n",
       "      <td>0</td>\n",
       "      <td>0</td>\n",
       "      <td>0</td>\n",
       "    </tr>\n",
       "    <tr>\n",
       "      <th>2</th>\n",
       "      <td>51985</td>\n",
       "      <td>16229147</td>\n",
       "      <td>203</td>\n",
       "      <td>50</td>\n",
       "      <td>0</td>\n",
       "      <td>0</td>\n",
       "      <td>0</td>\n",
       "      <td>145</td>\n",
       "      <td>0</td>\n",
       "      <td>0</td>\n",
       "      <td>0</td>\n",
       "      <td>0</td>\n",
       "    </tr>\n",
       "    <tr>\n",
       "      <th>3</th>\n",
       "      <td>52384</td>\n",
       "      <td>391892251</td>\n",
       "      <td>203</td>\n",
       "      <td>29</td>\n",
       "      <td>50</td>\n",
       "      <td>0</td>\n",
       "      <td>0</td>\n",
       "      <td>145</td>\n",
       "      <td>0</td>\n",
       "      <td>0</td>\n",
       "      <td>0</td>\n",
       "      <td>0</td>\n",
       "    </tr>\n",
       "    <tr>\n",
       "      <th>4</th>\n",
       "      <td>52384</td>\n",
       "      <td>473746715</td>\n",
       "      <td>203</td>\n",
       "      <td>29</td>\n",
       "      <td>50</td>\n",
       "      <td>0</td>\n",
       "      <td>0</td>\n",
       "      <td>145</td>\n",
       "      <td>290</td>\n",
       "      <td>0</td>\n",
       "      <td>0</td>\n",
       "      <td>0</td>\n",
       "    </tr>\n",
       "  </tbody>\n",
       "</table>\n",
       "</div>"
      ],
      "text/plain": [
       "      sec       nano  bidvol.1  bidvol.2  bidvol.3  bidvol.4  bidvol.5  \\\n",
       "0  215869  870968088        50         0         0         0         0   \n",
       "1   51984  869100827        50         0         0         0         0   \n",
       "2   51985   16229147       203        50         0         0         0   \n",
       "3   52384  391892251       203        29        50         0         0   \n",
       "4   52384  473746715       203        29        50         0         0   \n",
       "\n",
       "   askvol.1  askvol.2  askvol.3  askvol.4  askvol.5  \n",
       "0         0         0         0         0         0  \n",
       "1       145         0         0         0         0  \n",
       "2       145         0         0         0         0  \n",
       "3       145         0         0         0         0  \n",
       "4       145       290         0         0         0  "
      ]
     },
     "execution_count": 31,
     "metadata": {},
     "output_type": "execute_result"
    }
   ],
   "source": [
    "volume.head()"
   ]
  },
  {
   "cell_type": "code",
   "execution_count": 12,
   "metadata": {},
   "outputs": [],
   "source": [
    "orders = pd.concat([price, volume.iloc[:, 2:]], axis=1).sort_index(1)"
   ]
  },
  {
   "cell_type": "code",
   "execution_count": 13,
   "metadata": {},
   "outputs": [
    {
     "name": "stdout",
     "output_type": "stream",
     "text": [
      "<class 'pandas.core.frame.DataFrame'>\n",
      "RangeIndex: 1091233 entries, 0 to 1091232\n",
      "Data columns (total 22 columns):\n",
      "askprc.1    1091233 non-null int32\n",
      "askprc.2    1091233 non-null int32\n",
      "askprc.3    1091233 non-null int32\n",
      "askprc.4    1091233 non-null int32\n",
      "askprc.5    1091233 non-null int32\n",
      "askvol.1    1091233 non-null int32\n",
      "askvol.2    1091233 non-null int32\n",
      "askvol.3    1091233 non-null int32\n",
      "askvol.4    1091233 non-null int32\n",
      "askvol.5    1091233 non-null int32\n",
      "bidprc.1    1091233 non-null int32\n",
      "bidprc.2    1091233 non-null int32\n",
      "bidprc.3    1091233 non-null int32\n",
      "bidprc.4    1091233 non-null int32\n",
      "bidprc.5    1091233 non-null int32\n",
      "bidvol.1    1091233 non-null int32\n",
      "bidvol.2    1091233 non-null int32\n",
      "bidvol.3    1091233 non-null int32\n",
      "bidvol.4    1091233 non-null int32\n",
      "bidvol.5    1091233 non-null int32\n",
      "nano        1091233 non-null int32\n",
      "sec         1091233 non-null int32\n",
      "dtypes: int32(22)\n",
      "memory usage: 91.6 MB\n"
     ]
    }
   ],
   "source": [
    "orders.info()"
   ]
  },
  {
   "cell_type": "code",
   "execution_count": 21,
   "metadata": {},
   "outputs": [
    {
     "name": "stdout",
     "output_type": "stream",
     "text": [
      "<class 'pandas.core.frame.DataFrame'>\n",
      "Int64Index: 352027 entries, 37 to 1363949\n",
      "Data columns (total 28 columns):\n",
      "askprc.1    352027 non-null int32\n",
      "askprc.2    352027 non-null int32\n",
      "askprc.3    352027 non-null int32\n",
      "askprc.4    352027 non-null int32\n",
      "askprc.5    352027 non-null int32\n",
      "askvol.1    352027 non-null int32\n",
      "askvol.2    352027 non-null int32\n",
      "askvol.3    352027 non-null int32\n",
      "askvol.4    352027 non-null int32\n",
      "askvol.5    352027 non-null int32\n",
      "bidprc.1    352027 non-null int32\n",
      "bidprc.2    352027 non-null int32\n",
      "bidprc.3    352027 non-null int32\n",
      "bidprc.4    352027 non-null int32\n",
      "bidprc.5    352027 non-null int32\n",
      "bidvol.1    352027 non-null int32\n",
      "bidvol.2    352027 non-null int32\n",
      "bidvol.3    352027 non-null int32\n",
      "bidvol.4    352027 non-null int32\n",
      "bidvol.5    352027 non-null int32\n",
      "nano        352027 non-null int32\n",
      "sec         352027 non-null int32\n",
      "type        352027 non-null object\n",
      "side        352027 non-null float64\n",
      "price       352027 non-null float64\n",
      "shares      352027 non-null float64\n",
      "refno       352027 non-null float64\n",
      "newrefno    352027 non-null float64\n",
      "dtypes: float64(5), int32(22), object(1)\n",
      "memory usage: 48.3+ MB\n"
     ]
    }
   ],
   "source": [
    "executions = orders.merge(messages[messages.type.isin(['exec', 'exec_p'])], how='left').dropna()\n",
    "executions.info()"
   ]
  },
  {
   "cell_type": "code",
   "execution_count": 24,
   "metadata": {},
   "outputs": [
    {
     "data": {
      "text/plain": [
       "919678    0\n",
       "302185    0\n",
       "107988    0\n",
       "154950    0\n",
       "302184    0\n",
       "Name: sec, dtype: int32"
      ]
     },
     "execution_count": 24,
     "metadata": {},
     "output_type": "execute_result"
    }
   ],
   "source": [
    "orders.sec.sort_values().head()"
   ]
  },
  {
   "cell_type": "code",
   "execution_count": 22,
   "metadata": {},
   "outputs": [
    {
     "data": {
      "text/plain": [
       "0    870968088\n",
       "1    869100827\n",
       "2     16229147\n",
       "3    391892251\n",
       "4    473746715\n",
       "Name: nano, dtype: int32"
      ]
     },
     "execution_count": 22,
     "metadata": {},
     "output_type": "execute_result"
    }
   ],
   "source": [
    "orders.nano.head()"
   ]
  },
  {
   "cell_type": "code",
   "execution_count": 26,
   "metadata": {},
   "outputs": [
    {
     "data": {
      "text/plain": [
       "count                   1091233\n",
       "mean     1 days 14:57:47.900297\n",
       "std      0 days 22:14:18.613532\n",
       "min             0 days 00:00:00\n",
       "25%             0 days 20:18:14\n",
       "50%             1 days 14:26:44\n",
       "75%             2 days 10:02:39\n",
       "max             3 days 06:11:14\n",
       "Name: sec, dtype: object"
      ]
     },
     "execution_count": 26,
     "metadata": {},
     "output_type": "execute_result"
    }
   ],
   "source": [
    "orders.time = pd.to_timedelta(orders.sec, unit='s')\n",
    "orders.time.sort_values().describe()"
   ]
  },
  {
   "cell_type": "code",
   "execution_count": null,
   "metadata": {},
   "outputs": [],
   "source": [
    "messages['trading_date'] = pd.to_datetime(trading_date)\n",
    "messages.time = messages.trading_date.add(messages.time)\n",
    "messages.drop('trading_date', axis=1, inplace=True)\n",
    "messages.head()"
   ]
  }
 ],
 "metadata": {
  "kernelspec": {
   "display_name": "Python 3",
   "language": "python",
   "name": "python3"
  },
  "language_info": {
   "codemirror_mode": {
    "name": "ipython",
    "version": 3
   },
   "file_extension": ".py",
   "mimetype": "text/x-python",
   "name": "python",
   "nbconvert_exporter": "python",
   "pygments_lexer": "ipython3",
   "version": "3.5.5"
  },
  "toc": {
   "base_numbering": 1.0,
   "nav_menu": {},
   "number_sections": true,
   "sideBar": true,
   "skip_h1_title": false,
   "title_cell": "Table of Contents",
   "title_sidebar": "Contents",
   "toc_cell": false,
   "toc_position": {},
   "toc_section_display": true,
   "toc_window_display": false
  }
 },
 "nbformat": 4,
 "nbformat_minor": 2
}
