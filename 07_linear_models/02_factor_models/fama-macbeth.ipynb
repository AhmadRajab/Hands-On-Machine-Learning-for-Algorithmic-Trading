{
 "cells": [
  {
   "cell_type": "code",
   "execution_count": 22,
   "metadata": {
    "ExecuteTime": {
     "end_time": "2018-09-03T02:16:24.217089Z",
     "start_time": "2018-09-03T02:16:24.214405Z"
    }
   },
   "outputs": [],
   "source": [
    "from pprint import pprint\n",
    "from pandas_datareader.famafrench import get_available_datasets\n",
    "import pandas as pd\n",
    "import numpy as np\n",
    "from statsmodels.api import OLS, add_constant\n",
    "import pandas_datareader.data as web\n",
    "from pathlib import Path\n",
    "from linearmodels.asset_pricing import TradedFactorModel, LinearFactorModel, LinearFactorModelGMM"
   ]
  },
  {
   "cell_type": "code",
   "execution_count": 52,
   "metadata": {
    "ExecuteTime": {
     "end_time": "2018-09-03T02:27:07.077182Z",
     "start_time": "2018-09-03T02:27:06.923894Z"
    }
   },
   "outputs": [
    {
     "name": "stdout",
     "output_type": "stream",
     "text": [
      "<class 'pandas.core.frame.DataFrame'>\n",
      "PeriodIndex: 96 entries, 2010-01 to 2017-12\n",
      "Freq: M\n",
      "Data columns (total 6 columns):\n",
      "Mkt-RF    96 non-null float64\n",
      "SMB       96 non-null float64\n",
      "HML       96 non-null float64\n",
      "RMW       96 non-null float64\n",
      "CMA       96 non-null float64\n",
      "RF        96 non-null float64\n",
      "dtypes: float64(6)\n",
      "memory usage: 5.2 KB\n"
     ]
    }
   ],
   "source": [
    "ff_factor = 'F-F_Research_Data_5_Factors_2x3'\n",
    "ff_data = web.DataReader(ff_factor, 'famafrench')[0].loc['2010': '2017']\n",
    "ff_data.info()"
   ]
  },
  {
   "cell_type": "code",
   "execution_count": 53,
   "metadata": {
    "ExecuteTime": {
     "end_time": "2018-09-03T02:27:12.450156Z",
     "start_time": "2018-09-03T02:27:07.166358Z"
    }
   },
   "outputs": [],
   "source": [
    "with pd.HDFStore('../00_data/assets.h5') as store:\n",
    "    prices = store['/quandl/wiki/prices'].adj_close.unstack().loc['2010':'2017']\n",
    "    equities = store['/us_equities/stocks'].drop_duplicates()"
   ]
  },
  {
   "cell_type": "code",
   "execution_count": 54,
   "metadata": {
    "ExecuteTime": {
     "end_time": "2018-09-03T02:27:12.509222Z",
     "start_time": "2018-09-03T02:27:12.451221Z"
    }
   },
   "outputs": [],
   "source": [
    "sectors = equities.filter(prices.columns, axis=0).sector.to_dict()\n",
    "prices = prices.filter(sectors.keys()).dropna(how='all', axis=1)"
   ]
  },
  {
   "cell_type": "code",
   "execution_count": 56,
   "metadata": {
    "ExecuteTime": {
     "end_time": "2018-09-03T02:28:19.719203Z",
     "start_time": "2018-09-03T02:28:19.646961Z"
    }
   },
   "outputs": [
    {
     "name": "stdout",
     "output_type": "stream",
     "text": [
      "<class 'pandas.core.frame.DataFrame'>\n",
      "PeriodIndex: 95 entries, 2010-02 to 2017-12\n",
      "Freq: M\n",
      "Columns: 2409 entries, A to ZUMZ\n",
      "dtypes: float64(2409)\n",
      "memory usage: 1.7 MB\n"
     ]
    }
   ],
   "source": [
    "returns = prices.resample('M').last().pct_change().to_period('M').dropna(how='all')\n",
    "returns.info()"
   ]
  },
  {
   "cell_type": "code",
   "execution_count": 100,
   "metadata": {
    "ExecuteTime": {
     "end_time": "2018-09-03T02:49:42.977867Z",
     "start_time": "2018-09-03T02:49:39.210796Z"
    }
   },
   "outputs": [],
   "source": [
    "ff_data = ff_data.loc[returns.index]\n",
    "rf = ff_data.RF\n",
    "factors = ff_data.drop('RF', axis=1)\n",
    "betas = pd.DataFrame()\n",
    "for asset in returns.dropna(axis=1):\n",
    "    r = returns[asset].sub(rf)\n",
    "    step1 = OLS(endog=r, exog=add_constant(factors)).fit()\n",
    "    betas[asset] = step1.params.drop('const')"
   ]
  },
  {
   "cell_type": "code",
   "execution_count": 101,
   "metadata": {
    "ExecuteTime": {
     "end_time": "2018-09-03T02:49:43.499555Z",
     "start_time": "2018-09-03T02:49:43.496605Z"
    }
   },
   "outputs": [],
   "source": [
    "betas = betas.T\n",
    "# betas['sector'] = betas.index.map(sectors.get)\n",
    "# betas = betas.dropna()"
   ]
  },
  {
   "cell_type": "code",
   "execution_count": 102,
   "metadata": {
    "ExecuteTime": {
     "end_time": "2018-09-03T02:49:44.292148Z",
     "start_time": "2018-09-03T02:49:44.288182Z"
    }
   },
   "outputs": [
    {
     "name": "stdout",
     "output_type": "stream",
     "text": [
      "<class 'pandas.core.frame.DataFrame'>\n",
      "Index: 1936 entries, A to ZUMZ\n",
      "Data columns (total 5 columns):\n",
      "Mkt-RF    1936 non-null float64\n",
      "SMB       1936 non-null float64\n",
      "HML       1936 non-null float64\n",
      "RMW       1936 non-null float64\n",
      "CMA       1936 non-null float64\n",
      "dtypes: float64(5)\n",
      "memory usage: 90.8+ KB\n"
     ]
    }
   ],
   "source": [
    "betas.info()"
   ]
  },
  {
   "cell_type": "code",
   "execution_count": 103,
   "metadata": {
    "ExecuteTime": {
     "end_time": "2018-09-03T02:49:48.555054Z",
     "start_time": "2018-09-03T02:49:48.247890Z"
    }
   },
   "outputs": [],
   "source": [
    "lambdas = pd.DataFrame()\n",
    "for period in returns.index:\n",
    "    r = returns.loc[period, betas.index].sub(rf[period])\n",
    "    step2 = OLS(endog=r, exog=add_constant(betas)).fit()\n",
    "    lambdas[period] = step2.params.drop('const')"
   ]
  },
  {
   "cell_type": "code",
   "execution_count": 104,
   "metadata": {
    "ExecuteTime": {
     "end_time": "2018-09-03T02:49:52.943274Z",
     "start_time": "2018-09-03T02:49:52.938244Z"
    }
   },
   "outputs": [
    {
     "data": {
      "text/plain": [
       "Mkt-RF    1.058334\n",
       "SMB      -0.077842\n",
       "HML       0.350370\n",
       "RMW      -0.750405\n",
       "CMA      -0.025789\n",
       "dtype: float64"
      ]
     },
     "execution_count": 104,
     "metadata": {},
     "output_type": "execute_result"
    }
   ],
   "source": [
    "lambdas.T.mean()"
   ]
  },
  {
   "cell_type": "code",
   "execution_count": 98,
   "metadata": {
    "ExecuteTime": {
     "end_time": "2018-09-03T02:49:11.437785Z",
     "start_time": "2018-09-03T02:49:11.432813Z"
    }
   },
   "outputs": [
    {
     "data": {
      "text/plain": [
       "Mkt-RF                          1.064148\n",
       "SMB                            -0.018849\n",
       "HML                             0.495143\n",
       "RMW                            -0.755549\n",
       "CMA                            -0.018360\n",
       "sector_Basic Industries        -0.001968\n",
       "sector_Capital Goods           -0.000517\n",
       "sector_Consumer Durables        0.001175\n",
       "sector_Consumer Non-Durables    0.003677\n",
       "sector_Consumer Services        0.002540\n",
       "sector_Energy                  -0.013439\n",
       "sector_Finance                 -0.003216\n",
       "sector_Health Care              0.000502\n",
       "sector_Miscellaneous           -0.000675\n",
       "sector_Public Utilities         0.004551\n",
       "sector_Technology              -0.001246\n",
       "sector_Transportation          -0.000573\n",
       "dtype: float64"
      ]
     },
     "execution_count": 98,
     "metadata": {},
     "output_type": "execute_result"
    }
   ],
   "source": [
    "lambdas.T.mean()"
   ]
  },
  {
   "cell_type": "code",
   "execution_count": 105,
   "metadata": {
    "ExecuteTime": {
     "end_time": "2018-09-03T11:19:23.486448Z",
     "start_time": "2018-09-03T11:19:23.484497Z"
    }
   },
   "outputs": [],
   "source": [
    "from linearmodels import TradedFactorModel, FamaMacBeth"
   ]
  },
  {
   "cell_type": "code",
   "execution_count": null,
   "metadata": {},
   "outputs": [],
   "source": [
    "FamaMacBeth()"
   ]
  }
 ],
 "metadata": {
  "kernelspec": {
   "display_name": "Python 3",
   "language": "python",
   "name": "python3"
  },
  "language_info": {
   "codemirror_mode": {
    "name": "ipython",
    "version": 3
   },
   "file_extension": ".py",
   "mimetype": "text/x-python",
   "name": "python",
   "nbconvert_exporter": "python",
   "pygments_lexer": "ipython3",
   "version": "3.6.4"
  },
  "toc": {
   "base_numbering": 1,
   "nav_menu": {},
   "number_sections": true,
   "sideBar": true,
   "skip_h1_title": false,
   "title_cell": "Table of Contents",
   "title_sidebar": "Contents",
   "toc_cell": false,
   "toc_position": {},
   "toc_section_display": true,
   "toc_window_display": false
  }
 },
 "nbformat": 4,
 "nbformat_minor": 2
}
