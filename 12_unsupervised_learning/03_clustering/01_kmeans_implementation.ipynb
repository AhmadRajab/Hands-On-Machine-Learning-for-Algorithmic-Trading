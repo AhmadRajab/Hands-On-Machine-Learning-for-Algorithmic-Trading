{
 "cells": [
  {
   "cell_type": "code",
   "execution_count": null,
   "metadata": {
    "ExecuteTime": {
     "end_time": "2018-04-04T05:34:42.318197Z",
     "start_time": "2018-04-04T05:34:40.290784Z"
    },
    "slideshow": {
     "slide_type": "skip"
    }
   },
   "outputs": [],
   "source": [
    "import numpy as np\n",
    "from numpy.random import uniform, seed\n",
    "import pandas as pd\n",
    "import matplotlib.pyplot as plt\n",
    "from sklearn.datasets import make_blobs\n",
    "import warnings\n",
    "from time import sleep\n",
    "from scipy.spatial.distance import cdist\n",
    "\n",
    "%matplotlib notebook\n",
    "warnings.filterwarnings('ignore')"
   ]
  },
  {
   "cell_type": "code",
   "execution_count": null,
   "metadata": {
    "ExecuteTime": {
     "end_time": "2018-04-04T05:34:42.354099Z",
     "start_time": "2018-04-04T05:34:42.321490Z"
    },
    "slideshow": {
     "slide_type": "skip"
    }
   },
   "outputs": [],
   "source": [
    "from jupyterthemes import jtplot \n",
    "jtplot.style(theme='onedork', context='talk', fscale=1.4, spines=False, \n",
    "             gridlines='--', ticks=True, grid=False, figsize=(7, 5))\n",
    "seed(42)"
   ]
  },
  {
   "cell_type": "code",
   "execution_count": null,
   "metadata": {
    "ExecuteTime": {
     "end_time": "2018-04-04T05:34:42.376762Z",
     "start_time": "2018-04-04T05:34:42.357623Z"
    },
    "slideshow": {
     "slide_type": "skip"
    }
   },
   "outputs": [],
   "source": [
    "SMALL_SIZE = 8\n",
    "MEDIUM_SIZE = 10\n",
    "BIGGER_SIZE = 12\n",
    "\n",
    "plt.rc('font', size=MEDIUM_SIZE)\n",
    "plt.rc('axes', titlesize=MEDIUM_SIZE)  \n",
    "plt.rc('axes', labelsize=SMALL_SIZE)\n",
    "plt.rc('xtick', labelsize=SMALL_SIZE)  \n",
    "plt.rc('ytick', labelsize=SMALL_SIZE)"
   ]
  },
  {
   "cell_type": "markdown",
   "metadata": {
    "slideshow": {
     "slide_type": "slide"
    }
   },
   "source": [
    "### 2D Cluster Demo"
   ]
  },
  {
   "cell_type": "code",
   "execution_count": null,
   "metadata": {
    "ExecuteTime": {
     "end_time": "2018-04-04T05:34:43.684444Z",
     "start_time": "2018-04-04T05:34:43.677456Z"
    },
    "slideshow": {
     "slide_type": "fragment"
    }
   },
   "outputs": [],
   "source": [
    "def sample_clusters(n_points=500, n_dimensions=2, n_clusters=5, \n",
    "                    cluster_std=1):\n",
    "    data, labels = make_blobs(n_samples=n_points, \n",
    "                               n_features=n_dimensions, \n",
    "                               centers=n_clusters, \n",
    "                               cluster_std=cluster_std, \n",
    "                               random_state=42)\n",
    "    return data, labels"
   ]
  },
  {
   "cell_type": "code",
   "execution_count": null,
   "metadata": {
    "ExecuteTime": {
     "end_time": "2018-04-04T05:34:44.502760Z",
     "start_time": "2018-04-04T05:34:44.225886Z"
    },
    "scrolled": false,
    "slideshow": {
     "slide_type": "skip"
    }
   },
   "outputs": [],
   "source": [
    "data, labels = sample_clusters(n_points=250, n_dimensions=2, n_clusters=3, cluster_std=3)\n",
    "x, y = data.T\n",
    "\n",
    "plt.figure()\n",
    "plt.scatter(x, y, s=10)\n",
    "plt.title('Sample Data', fontsize=14);"
   ]
  },
  {
   "cell_type": "markdown",
   "metadata": {
    "slideshow": {
     "slide_type": "slide"
    }
   },
   "source": [
    "## K-Means Implementation"
   ]
  },
  {
   "cell_type": "markdown",
   "metadata": {
    "slideshow": {
     "slide_type": "fragment"
    }
   },
   "source": [
    "### Assign Points to closest Centroid"
   ]
  },
  {
   "cell_type": "code",
   "execution_count": null,
   "metadata": {
    "ExecuteTime": {
     "end_time": "2018-04-04T05:34:45.479568Z",
     "start_time": "2018-04-04T05:34:45.472049Z"
    },
    "slideshow": {
     "slide_type": "fragment"
    }
   },
   "outputs": [],
   "source": [
    "def assign_points(centroids, data):\n",
    "    dist = cdist(data, centroids)        # all pairwise distances\n",
    "    assignments = np.argmin(dist, axis=1)   # centroid with min distance\n",
    "    return assignments"
   ]
  },
  {
   "cell_type": "markdown",
   "metadata": {
    "slideshow": {
     "slide_type": "slide"
    }
   },
   "source": [
    "### Move Centroids to best represent Clusters"
   ]
  },
  {
   "cell_type": "code",
   "execution_count": null,
   "metadata": {
    "ExecuteTime": {
     "end_time": "2018-04-04T05:34:45.868213Z",
     "start_time": "2018-04-04T05:34:45.862041Z"
    },
    "slideshow": {
     "slide_type": "fragment"
    }
   },
   "outputs": [],
   "source": [
    "def optimize_centroids(data, assignments):\n",
    "    data_combined = np.column_stack((assignments.reshape(-1, 1), data))\n",
    "    centroids = pd.DataFrame(data=data_combined).groupby(0).mean()\n",
    "    return centroids.values"
   ]
  },
  {
   "cell_type": "markdown",
   "metadata": {
    "slideshow": {
     "slide_type": "slide"
    }
   },
   "source": [
    "### Measure Distance from Points to Centroids"
   ]
  },
  {
   "cell_type": "code",
   "execution_count": null,
   "metadata": {
    "ExecuteTime": {
     "end_time": "2018-04-04T05:34:46.862679Z",
     "start_time": "2018-04-04T05:34:46.853222Z"
    },
    "slideshow": {
     "slide_type": "fragment"
    }
   },
   "outputs": [],
   "source": [
    "def distance_to_center(centroids, data, assignments):\n",
    "    distance = 0\n",
    "    for c, centroid in enumerate(centroids):\n",
    "        assigned_points = data[assignments == c, :]\n",
    "        distance += np.sum(cdist(assigned_points, centroid.reshape(-1, 2)))\n",
    "    return distance"
   ]
  },
  {
   "cell_type": "markdown",
   "metadata": {
    "slideshow": {
     "slide_type": "slide"
    }
   },
   "source": [
    "### Plot Clusters Dynamically"
   ]
  },
  {
   "cell_type": "code",
   "execution_count": null,
   "metadata": {
    "ExecuteTime": {
     "end_time": "2018-04-04T05:34:47.448756Z",
     "start_time": "2018-04-04T05:34:47.357488Z"
    },
    "slideshow": {
     "slide_type": "fragment"
    }
   },
   "outputs": [],
   "source": [
    "def plot_clusters(x, y, labels, centroids, assignments, distance, \n",
    "                  iteration, step, ax, delay=2):\n",
    "    ax.clear()\n",
    "    ax.scatter(x, y, c=labels, s=15)\n",
    "    # plot cluster centers\n",
    "    centroid_x, centroid_y = centroids.T\n",
    "    ax.scatter(*centroids.T, marker='o',  c='w', s=200, \n",
    "               edgecolor='k', zorder=9)\n",
    "    for label, c in enumerate(centroids):\n",
    "        ax.scatter(c[0], c[1], marker='${}$'.format(label), s=50, \n",
    "                   edgecolor='k', zorder=10)\n",
    "    # plot links to cluster centers\n",
    "    for i, label in enumerate(assignments):\n",
    "        ax.plot([x[i], centroid_x[label]], [y[i], centroid_y[label]], \n",
    "                ls='--', color='white', lw=0.5)\n",
    "    \n",
    "    ax.set_title('Iteration: {} | {} | Inertia: {:,.2f}'.format(iteration, \n",
    "                                        step,  distance), fontsize=14)\n",
    "    fig.canvas.draw()\n",
    "    sleep(delay)"
   ]
  },
  {
   "cell_type": "markdown",
   "metadata": {
    "slideshow": {
     "slide_type": "slide"
    }
   },
   "source": [
    "### Run K-Means Experiment"
   ]
  },
  {
   "cell_type": "code",
   "execution_count": null,
   "metadata": {
    "ExecuteTime": {
     "end_time": "2018-04-04T05:35:27.665417Z",
     "start_time": "2018-04-04T05:34:48.279473Z"
    },
    "slideshow": {
     "slide_type": "fragment"
    }
   },
   "outputs": [],
   "source": [
    "n_clusters = 3\n",
    "data, labels = sample_clusters(n_points=250, n_dimensions=2, n_clusters=n_clusters, cluster_std=3)\n",
    "x, y = data.T\n",
    "\n",
    "x_init = uniform(x.min(), x.max(), size=n_clusters)\n",
    "y_init = uniform(y.min(), y.max(), size=n_clusters)\n",
    "centroids = np.column_stack((x_init, y_init))\n",
    "distance = np.sum(np.min(cdist(data, centroids), axis=1))\n",
    "\n",
    "fig, ax = plt.subplots(figsize=(10,10))\n",
    "iteration, tolerance, delta = 0, 1e-4, np.inf\n",
    "while delta > tolerance:\n",
    "    assignments = assign_points(centroids, data)\n",
    "    plot_clusters(x, y, labels, centroids, assignments, distance, \n",
    "                  iteration, step='Assign Points', ax=ax)\n",
    "    centroids = optimize_centroids(data, assignments)\n",
    "    delta = distance - distance_to_center(centroids, data, assignments)\n",
    "    distance -= delta\n",
    "    plot_clusters(x, y, labels, centroids, assignments, distance, \n",
    "                  iteration, step='Optimize Centers', ax=ax)\n",
    "    iteration += 1"
   ]
  },
  {
   "cell_type": "markdown",
   "metadata": {
    "slideshow": {
     "slide_type": "slide"
    }
   },
   "source": [
    "### Plot Voronoi Tesselation"
   ]
  },
  {
   "cell_type": "code",
   "execution_count": null,
   "metadata": {
    "ExecuteTime": {
     "end_time": "2018-04-04T05:35:27.839876Z",
     "start_time": "2018-04-04T05:35:27.676191Z"
    },
    "slideshow": {
     "slide_type": "fragment"
    }
   },
   "outputs": [],
   "source": [
    "def plot_voronoi(x, y, labels, centroids, assignments, distance, iteration, step, ax, delay=1):\n",
    "    ax.clear()\n",
    "    ax.scatter(x, y, c=labels, s=15)\n",
    "    # plot cluster centers\n",
    "    ax.scatter(*centroids.T, marker='o',  c='w', s=200, edgecolor='k', zorder=9)\n",
    "    for i, c in enumerate(centroids):\n",
    "        ax.scatter(c[0], c[1], marker='${}$'.format(i), s=50, \n",
    "                   edgecolor='k', zorder=10)   \n",
    "\n",
    "    # plot links to centroid\n",
    "    cx, cy = centroids.T\n",
    "    for i, label in enumerate(assignments):\n",
    "        ax.plot([x[i], cx[label]], [y[i], cy[label]], ls='--', \n",
    "                color='white', lw=0.5)\n",
    "    \n",
    "    # plot voronoi\n",
    "    xx, yy = np.meshgrid(np.arange(x.min() - 1, x.max() + 1, .01), \n",
    "                         np.arange(y.min() - 1, y.max() + 1, .01))\n",
    "    Z = assign_points(centroids, np.c_[xx.ravel(),  yy.ravel()]).reshape(xx.shape)\n",
    "    plt.imshow(Z, interpolation='nearest', extent=(xx.min(), xx.max(), yy.min(), yy.max()),\n",
    "       cmap=plt.cm.viridis, aspect='auto', origin='lower', alpha=.2)\n",
    "    \n",
    "    ax.set_title('Iteration: {} | {} | Distance: {:,.1f}'.format(iteration, step, distance))\n",
    "    fig.canvas.draw()\n",
    "    sleep(delay)"
   ]
  },
  {
   "cell_type": "markdown",
   "metadata": {
    "slideshow": {
     "slide_type": "slide"
    }
   },
   "source": [
    "### Run Voronoi Experiment"
   ]
  },
  {
   "cell_type": "code",
   "execution_count": null,
   "metadata": {
    "ExecuteTime": {
     "end_time": "2018-04-04T05:36:47.289588Z",
     "start_time": "2018-04-04T05:35:27.846248Z"
    },
    "slideshow": {
     "slide_type": "fragment"
    }
   },
   "outputs": [],
   "source": [
    "n_clusters = 3\n",
    "data, labels = sample_clusters(n_points=250, n_dimensions=2, \n",
    "                               n_clusters=n_clusters, cluster_std=3)\n",
    "x, y = data.T\n",
    "\n",
    "x_init = uniform(x.min(), x.max(), size=n_clusters)\n",
    "y_init = uniform(y.min(), y.max(), size=n_clusters)\n",
    "centroids = np.column_stack((x_init, y_init))\n",
    "distance = np.sum(np.min(cdist(data, centroids), axis=1))\n",
    "\n",
    "fig, ax = plt.subplots(figsize=(12,12))\n",
    "iteration, tolerance, delta = 0, 1e-4, np.inf\n",
    "while delta > tolerance:\n",
    "    assignments = assign_points(centroids, data)\n",
    "    plot_voronoi(x, y, labels, centroids, assignments, distance, \n",
    "                 iteration, step='Assign Data', ax=ax)\n",
    "    centroids = optimize_centroids(data, assignments)\n",
    "    delta = distance - distance_to_center(centroids, data, assignments)\n",
    "    distance -= delta\n",
    "    plot_voronoi(x, y, labels, centroids, assignments, distance, \n",
    "                 iteration, step='Optimize Centroids', ax=ax)\n",
    "    iteration += 1"
   ]
  }
 ],
 "metadata": {
  "celltoolbar": "Slideshow",
  "hide_input": false,
  "kernelspec": {
   "display_name": "Python 3",
   "language": "python",
   "name": "python3"
  },
  "language_info": {
   "codemirror_mode": {
    "name": "ipython",
    "version": 3
   },
   "file_extension": ".py",
   "mimetype": "text/x-python",
   "name": "python",
   "nbconvert_exporter": "python",
   "pygments_lexer": "ipython3",
   "version": "3.5.2"
  }
 },
 "nbformat": 4,
 "nbformat_minor": 2
}
