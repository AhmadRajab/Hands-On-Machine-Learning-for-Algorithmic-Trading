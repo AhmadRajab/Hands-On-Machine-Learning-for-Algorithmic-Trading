{
 "cells": [
  {
   "cell_type": "code",
   "execution_count": 149,
   "metadata": {
    "ExecuteTime": {
     "end_time": "2018-06-15T02:02:13.931856Z",
     "start_time": "2018-06-15T02:02:13.919016Z"
    },
    "scrolled": true
   },
   "outputs": [],
   "source": [
    "from datetime import date, datetime\n",
    "from pathlib import Path\n",
    "import pandas as pd\n",
    "import json\n",
    "import re\n",
    "from pprint import pprint\n",
    "from bs4 import BeautifulSoup\n",
    "from collections import Counter\n",
    "import matplotlib.pyplot as plt\n",
    "plt.style.use('fivethirtyeight')"
   ]
  },
  {
   "cell_type": "code",
   "execution_count": 3,
   "metadata": {
    "ExecuteTime": {
     "end_time": "2018-06-15T00:36:40.780088Z",
     "start_time": "2018-06-15T00:36:40.775848Z"
    },
    "scrolled": true
   },
   "outputs": [],
   "source": [
    "data_path = Path('/drive/data/algo_trading/data/edgar')\n",
    "notes_dir = data_path / 'notes'"
   ]
  },
  {
   "cell_type": "markdown",
   "metadata": {},
   "source": [
    "### Dowload FS & Notes"
   ]
  },
  {
   "cell_type": "code",
   "execution_count": null,
   "metadata": {
    "ExecuteTime": {
     "end_time": "2018-06-12T21:38:16.761469Z",
     "start_time": "2018-06-12T21:31:46.161529Z"
    },
    "scrolled": false
   },
   "outputs": [],
   "source": [
    "from io import BytesIO\n",
    "from zipfile import ZipFile\n",
    "import requests\n",
    "\n",
    "SEC_URL = 'https://www.sec.gov/files/dera/data/financial-statement-and-notes-data-sets/'\n",
    "\n",
    "today = pd.Timestamp(date.today())\n",
    "this_year = today.year\n",
    "this_quarter = today.quarter\n",
    "\n",
    "past_years = range(2014, this_year)\n",
    "filing_periods = [(y, q) for y in past_years for q in range(1, 5)]\n",
    "filing_periods.extend([(this_year, q) for q in range(1, this_quarter + 1)])\n",
    "for yr, qtr in filing_periods:\n",
    "    print(yr, qtr)\n",
    "    filing = f'{yr}q{qtr}_notes.zip'\n",
    "    path = Path('edgar', f'{yr}_{qtr}')\n",
    "    if not path.exists():\n",
    "        path.mkdir(exist_ok=True, parents=True)\n",
    "\n",
    "    resp = requests.get(SEC_URL + filing).content    \n",
    "    with ZipFile(BytesIO(resp)) as zip_file:\n",
    "        for file in zip_file.namelist():\n",
    "            local_file = path / file\n",
    "            with local_file.open('wb') as output:\n",
    "                for line in zip_file.open(file).readlines():\n",
    "                    output.write(line)"
   ]
  },
  {
   "cell_type": "markdown",
   "metadata": {},
   "source": [
    "### Save to parquet"
   ]
  },
  {
   "cell_type": "code",
   "execution_count": 302,
   "metadata": {
    "ExecuteTime": {
     "end_time": "2018-06-13T00:26:16.725887Z",
     "start_time": "2018-06-12T23:54:36.676822Z"
    },
    "scrolled": true
   },
   "outputs": [
    {
     "name": "stdout",
     "output_type": "stream",
     "text": [
      "/drive/data/algo_trading/data/edgar/notes/2014q2_notes/txt.tsv\n",
      "/drive/data/algo_trading/data/edgar/notes/2017q2_notes/tag.tsv\n",
      "/drive/data/algo_trading/data/edgar/notes/2015q2_notes/txt.tsv\n",
      "/drive/data/algo_trading/data/edgar/notes/2010q4_notes/txt.tsv\n",
      "/drive/data/algo_trading/data/edgar/notes/2017q4_notes/tag.tsv\n",
      "/drive/data/algo_trading/data/edgar/notes/2011q3_notes/tag.tsv\n",
      "/drive/data/algo_trading/data/edgar/notes/2011q3_notes/txt.tsv\n",
      "/drive/data/algo_trading/data/edgar/notes/2013q1_notes/tag.tsv\n",
      "/drive/data/algo_trading/data/edgar/notes/2013q1_notes/txt.tsv\n",
      "/drive/data/algo_trading/data/edgar/notes/2014q1_notes/txt.tsv\n",
      "/drive/data/algo_trading/data/edgar/notes/2010q3_notes/txt.tsv\n",
      "/drive/data/algo_trading/data/edgar/notes/2013q3_notes/txt.tsv\n",
      "/drive/data/algo_trading/data/edgar/notes/2012q1_notes/txt.tsv\n",
      "/drive/data/algo_trading/data/edgar/notes/2014q3_notes/txt.tsv\n",
      "/drive/data/algo_trading/data/edgar/notes/2009q4_notes/txt.tsv\n",
      "/drive/data/algo_trading/data/edgar/notes/2015q4_notes/txt.tsv\n",
      "/drive/data/algo_trading/data/edgar/notes/2012q2_notes/tag.tsv\n",
      "/drive/data/algo_trading/data/edgar/notes/2012q2_notes/txt.tsv\n",
      "/drive/data/algo_trading/data/edgar/notes/2009q3_notes/txt.tsv\n",
      "/drive/data/algo_trading/data/edgar/notes/2011q1_notes/tag.tsv\n",
      "/drive/data/algo_trading/data/edgar/notes/2010q1_notes/txt.tsv\n",
      "/drive/data/algo_trading/data/edgar/notes/2012q4_notes/txt.tsv\n",
      "/drive/data/algo_trading/data/edgar/notes/2017q3_notes/txt.tsv\n",
      "/drive/data/algo_trading/data/edgar/notes/2016q3_notes/tag.tsv\n",
      "/drive/data/algo_trading/data/edgar/notes/2015q1_notes/txt.tsv\n",
      "/drive/data/algo_trading/data/edgar/notes/2010q2_notes/txt.tsv\n",
      "/drive/data/algo_trading/data/edgar/notes/2015q3_notes/txt.tsv\n",
      "/drive/data/algo_trading/data/edgar/notes/2013q4_notes/txt.tsv\n",
      "/drive/data/algo_trading/data/edgar/notes/2012q3_notes/tag.tsv\n",
      "/drive/data/algo_trading/data/edgar/notes/2012q3_notes/txt.tsv\n",
      "/drive/data/algo_trading/data/edgar/notes/2014q4_notes/txt.tsv\n",
      "/drive/data/algo_trading/data/edgar/notes/2013q2_notes/txt.tsv\n",
      "/drive/data/algo_trading/data/edgar/notes/2016q1_notes/txt.tsv\n"
     ]
    }
   ],
   "source": [
    "for f in notes_dir.glob('**/*.tsv'):\n",
    "    file_name = f.stem  + '.parquet'\n",
    "    path = Path(f.parent) / 'parquet'\n",
    "    if (path / file_name).exists():\n",
    "        continue\n",
    "    if not path.exists():\n",
    "        path.mkdir(exist_ok=True)\n",
    "    try:\n",
    "        df = pd.read_csv(f, sep='\\t', encoding='latin1', low_memory=False)\n",
    "    except:\n",
    "        print(f)\n",
    "    df.to_parquet(path / file_name)"
   ]
  },
  {
   "cell_type": "markdown",
   "metadata": {},
   "source": [
    "### Metadata json"
   ]
  },
  {
   "cell_type": "code",
   "execution_count": null,
   "metadata": {
    "ExecuteTime": {
     "end_time": "2018-06-12T19:15:39.980341Z",
     "start_time": "2018-06-12T19:15:38.324388Z"
    },
    "scrolled": true
   },
   "outputs": [],
   "source": [
    "file = notes_dir / '2018q1_notes-metadata.json'\n",
    "with file.open() as f:\n",
    "    data = json.load(f)\n",
    "\n",
    "pprint(data)"
   ]
  },
  {
   "cell_type": "markdown",
   "metadata": {},
   "source": [
    "### Submission Data\n",
    "Get latest submission file"
   ]
  },
  {
   "cell_type": "code",
   "execution_count": 4,
   "metadata": {
    "ExecuteTime": {
     "end_time": "2018-06-15T00:37:08.604948Z",
     "start_time": "2018-06-15T00:37:08.377518Z"
    },
    "scrolled": true
   },
   "outputs": [],
   "source": [
    "sub = pd.read_parquet(notes_dir / '2018q1_notes' / 'parquet' / 'sub.parquet')"
   ]
  },
  {
   "cell_type": "markdown",
   "metadata": {},
   "source": [
    "#### Get AAPL submission"
   ]
  },
  {
   "cell_type": "code",
   "execution_count": 7,
   "metadata": {
    "ExecuteTime": {
     "end_time": "2018-06-15T00:38:08.099633Z",
     "start_time": "2018-06-15T00:38:08.075108Z"
    },
    "scrolled": true
   },
   "outputs": [
    {
     "data": {
      "text/plain": [
       "name                    APPLE INC\n",
       "adsh         0000320193-18-000007\n",
       "cik                        320193\n",
       "name                    APPLE INC\n",
       "sic                          3571\n",
       "countryba                      US\n",
       "stprba                         CA\n",
       "cityba                  CUPERTINO\n",
       "zipba                       95014\n",
       "bas1            ONE INFINITE LOOP\n",
       "form                         10-Q\n",
       "period                   20171231\n",
       "fy                           2018\n",
       "fp                             Q1\n",
       "filed                    20180202\n",
       "Name: 389, dtype: object"
      ]
     },
     "execution_count": 7,
     "metadata": {},
     "output_type": "execute_result"
    }
   ],
   "source": [
    "name = 'APPLE INC'\n",
    "apple = sub[sub.name == name].T.dropna().squeeze()\n",
    "key_cols = ['name', 'adsh', 'cik', 'name', 'sic', 'countryba', 'stprba',\n",
    "            'cityba', 'zipba', 'bas1', 'form', 'period', 'fy', 'fp', 'filed']\n",
    "apple.loc[key_cols]"
   ]
  },
  {
   "cell_type": "markdown",
   "metadata": {},
   "source": [
    "### Build AAPL fundamentals dataset"
   ]
  },
  {
   "cell_type": "markdown",
   "metadata": {},
   "source": [
    "#### Get filings"
   ]
  },
  {
   "cell_type": "code",
   "execution_count": 10,
   "metadata": {
    "ExecuteTime": {
     "end_time": "2018-06-15T00:38:36.950178Z",
     "start_time": "2018-06-15T00:38:35.758026Z"
    },
    "scrolled": true
   },
   "outputs": [],
   "source": [
    "aapl_subs = pd.DataFrame()\n",
    "for sub in notes_dir.glob('**/sub.parquet'):\n",
    "    sub = pd.read_parquet(sub)\n",
    "    aapl_sub = sub[(sub.cik.astype(int) == apple.cik) & (sub.form.isin(['10-Q', '10-K']))]\n",
    "    aapl_subs = pd.concat([aapl_subs, aapl_sub])"
   ]
  },
  {
   "cell_type": "code",
   "execution_count": 11,
   "metadata": {
    "ExecuteTime": {
     "end_time": "2018-06-15T00:38:37.093365Z",
     "start_time": "2018-06-15T00:38:37.087396Z"
    },
    "scrolled": true
   },
   "outputs": [
    {
     "data": {
      "text/plain": [
       "10-Q    26\n",
       "10-K     9\n",
       "Name: form, dtype: int64"
      ]
     },
     "execution_count": 11,
     "metadata": {},
     "output_type": "execute_result"
    }
   ],
   "source": [
    "aapl_subs.form.value_counts()"
   ]
  },
  {
   "cell_type": "markdown",
   "metadata": {},
   "source": [
    "#### Get numerical filing data"
   ]
  },
  {
   "cell_type": "code",
   "execution_count": null,
   "metadata": {
    "ExecuteTime": {
     "end_time": "2018-06-15T00:50:41.560372Z",
     "start_time": "2018-06-15T00:50:27.861936Z"
    },
    "scrolled": true
   },
   "outputs": [],
   "source": [
    "aapl_nums = pd.DataFrame()\n",
    "for num in notes_dir.glob('**/num.parquet'):\n",
    "    num = pd.read_parquet(num)\n",
    "    aapl_num = num[num.adsh.isin(aapl_subs.adsh)]\n",
    "    print(len(aapl_num))\n",
    "    aapl_nums = pd.concat([aapl_nums, aapl_num])\n",
    "\n",
    "aapl_nums.ddate = pd.to_datetime(aapl_nums.ddate, format='%Y%m%d')    \n",
    "aapl_nums.to_parquet('aapl_nums.parquet')\n",
    "aapl_nums.info()"
   ]
  },
  {
   "cell_type": "code",
   "execution_count": 161,
   "metadata": {
    "ExecuteTime": {
     "end_time": "2018-06-15T02:07:42.319722Z",
     "start_time": "2018-06-15T02:07:42.244690Z"
    },
    "scrolled": true
   },
   "outputs": [
    {
     "name": "stdout",
     "output_type": "stream",
     "text": [
      "<class 'pandas.core.frame.DataFrame'>\n",
      "Int64Index: 28281 entries, 8449 to 7504163\n",
      "Data columns (total 16 columns):\n",
      "adsh        28281 non-null object\n",
      "tag         28281 non-null object\n",
      "version     28281 non-null object\n",
      "ddate       28281 non-null datetime64[ns]\n",
      "qtrs        28281 non-null int64\n",
      "uom         28281 non-null object\n",
      "dimh        28281 non-null object\n",
      "iprx        28281 non-null float64\n",
      "value       28197 non-null float64\n",
      "footnote    197 non-null object\n",
      "footlen     28281 non-null int64\n",
      "dimn        28281 non-null int64\n",
      "coreg       0 non-null object\n",
      "durp        28281 non-null float64\n",
      "datp        28281 non-null float64\n",
      "dcml        28281 non-null float64\n",
      "dtypes: datetime64[ns](1), float64(5), int64(3), object(7)\n",
      "memory usage: 3.7+ MB\n"
     ]
    }
   ],
   "source": [
    "aapl_nums = pd.read_parquet('aapl_nums.parquet')\n",
    "aapl_nums.ddate = pd.to_datetime(aapl_nums.ddate, format='%Y%m%d')\n",
    "aapl_nums.info()"
   ]
  },
  {
   "cell_type": "markdown",
   "metadata": {},
   "source": [
    "#### Build time series for selected metrics"
   ]
  },
  {
   "cell_type": "code",
   "execution_count": 162,
   "metadata": {
    "ExecuteTime": {
     "end_time": "2018-06-15T02:09:44.816088Z",
     "start_time": "2018-06-15T02:09:44.801232Z"
    }
   },
   "outputs": [
    {
     "ename": "NameError",
     "evalue": "name 'tag' is not defined",
     "output_type": "error",
     "traceback": [
      "\u001b[0;31m---------------------------------------------------------------------------\u001b[0m",
      "\u001b[0;31mNameError\u001b[0m                                 Traceback (most recent call last)",
      "\u001b[0;32m<ipython-input-162-52f1bea55bd0>\u001b[0m in \u001b[0;36m<module>\u001b[0;34m()\u001b[0m\n\u001b[0;32m----> 1\u001b[0;31m \u001b[0mtag\u001b[0m\u001b[0;34m.\u001b[0m\u001b[0minfo\u001b[0m\u001b[0;34m(\u001b[0m\u001b[0;34m)\u001b[0m\u001b[0;34m\u001b[0m\u001b[0m\n\u001b[0m",
      "\u001b[0;31mNameError\u001b[0m: name 'tag' is not defined"
     ]
    }
   ],
   "source": [
    "tag.info()"
   ]
  },
  {
   "cell_type": "code",
   "execution_count": 157,
   "metadata": {
    "ExecuteTime": {
     "end_time": "2018-06-15T02:06:52.176787Z",
     "start_time": "2018-06-15T02:06:52.164393Z"
    }
   },
   "outputs": [
    {
     "data": {
      "text/plain": [
       "Timestamp('2014-06-04 00:00:00')"
      ]
     },
     "execution_count": 157,
     "metadata": {},
     "output_type": "execute_result"
    }
   ],
   "source": [
    "stock_split = 7\n",
    "split_date = pd.to_datetime('20140604')\n",
    "split_date"
   ]
  },
  {
   "cell_type": "code",
   "execution_count": 171,
   "metadata": {
    "ExecuteTime": {
     "end_time": "2018-06-15T02:15:01.178377Z",
     "start_time": "2018-06-15T02:15:00.932377Z"
    }
   },
   "outputs": [
    {
     "data": {
      "image/png": "[encoded data removed]",
      "text/plain": [
       "<Figure size 1008x432 with 1 Axes>"
      ]
     },
     "metadata": {},
     "output_type": "display_data"
    }
   ],
   "source": [
    "eps = aapl_nums[(aapl_nums.tag == 'EarningsPerShareDiluted')\n",
    "                & (aapl_nums.qtrs == 1)].drop('tag', axis=1)\n",
    "eps = eps.groupby('adsh').apply(lambda x: x.nlargest(n=1, columns=['ddate']))\n",
    "eps.loc[eps.ddate < split_date,'value'] = eps.loc[eps.ddate < split_date, 'value'].div(7)\n",
    "eps = eps[['ddate', 'value']].set_index('ddate').squeeze()\n",
    "eps = eps.rolling(4).sum().dropna()\n",
    "eps.plot(lw=2, figsize=(14, 6), title='Diluted Earnings per Share')\n",
    "plt.xlabel('');"
   ]
  },
  {
   "cell_type": "code",
   "execution_count": 146,
   "metadata": {
    "ExecuteTime": {
     "end_time": "2018-06-15T02:00:51.150158Z",
     "start_time": "2018-06-15T02:00:44.449315Z"
    }
   },
   "outputs": [
    {
     "name": "stdout",
     "output_type": "stream",
     "text": [
      "<class 'pandas.core.frame.DataFrame'>\n",
      "DatetimeIndex: 3222 entries, 2009-06-01 to 2018-03-27\n",
      "Freq: D\n",
      "Data columns (total 12 columns):\n",
      "Open          2220 non-null float64\n",
      "High          2220 non-null float64\n",
      "Low           2220 non-null float64\n",
      "Close         2220 non-null float64\n",
      "Volume        2220 non-null float64\n",
      "ExDividend    2220 non-null float64\n",
      "SplitRatio    2220 non-null float64\n",
      "AdjOpen       2220 non-null float64\n",
      "AdjHigh       2220 non-null float64\n",
      "AdjLow        2220 non-null float64\n",
      "AdjClose      2220 non-null float64\n",
      "AdjVolume     2220 non-null float64\n",
      "dtypes: float64(12)\n",
      "memory usage: 327.2 KB\n"
     ]
    }
   ],
   "source": [
    "import pandas_datareader.data as web\n",
    "import datetime\n",
    "symbol = 'AAPL.US'\n",
    "\n",
    "aapl_stock = web.DataReader(symbol, 'quandl', '2009-06-01').resample('D').last()\n",
    "aapl_stock.info()"
   ]
  },
  {
   "cell_type": "code",
   "execution_count": 155,
   "metadata": {
    "ExecuteTime": {
     "end_time": "2018-06-15T02:04:42.883367Z",
     "start_time": "2018-06-15T02:04:42.599408Z"
    },
    "scrolled": true
   },
   "outputs": [
    {
     "data": {
      "image/png": "[encoded data removed]",
      "text/plain": [
       "<Figure size 1008x432 with 1 Axes>"
      ]
     },
     "metadata": {},
     "output_type": "display_data"
    }
   ],
   "source": [
    "pe = aapl_stock.AdjClose.to_frame('price').join(eps.to_frame('eps'))\n",
    "pe = pe.fillna(method='ffill').dropna()\n",
    "pe['P/E Ratio'] = pe.price.div(pe.eps)\n",
    "pe['P/E Ratio'].plot(lw=2, figsize=(14, 6), title='TTM P/E Ratio');"
   ]
  },
  {
   "cell_type": "code",
   "execution_count": 23,
   "metadata": {
    "ExecuteTime": {
     "end_time": "2018-06-15T00:56:41.948946Z",
     "start_time": "2018-06-15T00:56:41.945458Z"
    },
    "scrolled": true
   },
   "outputs": [],
   "source": [
    "fields = ['EarningsPerShareDiluted',\n",
    "          'PaymentsOfDividendsCommonStock',\n",
    "          'WeightedAverageNumberOfDilutedSharesOutstanding',\n",
    "          'OperatingIncomeLoss',\n",
    "          'NetIncomeLoss',\n",
    "          'GrossProfit']"
   ]
  },
  {
   "cell_type": "code",
   "execution_count": 24,
   "metadata": {
    "ExecuteTime": {
     "end_time": "2018-06-15T00:56:43.367930Z",
     "start_time": "2018-06-15T00:56:43.321488Z"
    },
    "scrolled": true
   },
   "outputs": [
    {
     "data": {
      "text/html": [
       "<div>\n",
       "<style scoped>\n",
       "    .dataframe tbody tr th:only-of-type {\n",
       "        vertical-align: middle;\n",
       "    }\n",
       "\n",
       "    .dataframe tbody tr th {\n",
       "        vertical-align: top;\n",
       "    }\n",
       "\n",
       "    .dataframe thead th {\n",
       "        text-align: right;\n",
       "    }\n",
       "</style>\n",
       "<table border=\"1\" class=\"dataframe\">\n",
       "  <thead>\n",
       "    <tr style=\"text-align: right;\">\n",
       "      <th>ddate</th>\n",
       "      <th>2007-09-30 00:00:00</th>\n",
       "      <th>2008-06-30 00:00:00</th>\n",
       "      <th>2008-09-30 00:00:00</th>\n",
       "      <th>2008-12-31 00:00:00</th>\n",
       "      <th>2009-03-31 00:00:00</th>\n",
       "      <th>2009-06-30 00:00:00</th>\n",
       "      <th>2009-09-30 00:00:00</th>\n",
       "      <th>2009-12-31 00:00:00</th>\n",
       "      <th>2010-03-31 00:00:00</th>\n",
       "      <th>2010-06-30 00:00:00</th>\n",
       "      <th>...</th>\n",
       "      <th>2015-09-30 00:00:00</th>\n",
       "      <th>2015-12-31 00:00:00</th>\n",
       "      <th>2016-03-31 00:00:00</th>\n",
       "      <th>2016-06-30 00:00:00</th>\n",
       "      <th>2016-09-30 00:00:00</th>\n",
       "      <th>2016-12-31 00:00:00</th>\n",
       "      <th>2017-03-31 00:00:00</th>\n",
       "      <th>2017-06-30 00:00:00</th>\n",
       "      <th>2017-09-30 00:00:00</th>\n",
       "      <th>2017-12-31 00:00:00</th>\n",
       "    </tr>\n",
       "    <tr>\n",
       "      <th>tag</th>\n",
       "      <th></th>\n",
       "      <th></th>\n",
       "      <th></th>\n",
       "      <th></th>\n",
       "      <th></th>\n",
       "      <th></th>\n",
       "      <th></th>\n",
       "      <th></th>\n",
       "      <th></th>\n",
       "      <th></th>\n",
       "      <th></th>\n",
       "      <th></th>\n",
       "      <th></th>\n",
       "      <th></th>\n",
       "      <th></th>\n",
       "      <th></th>\n",
       "      <th></th>\n",
       "      <th></th>\n",
       "      <th></th>\n",
       "      <th></th>\n",
       "      <th></th>\n",
       "    </tr>\n",
       "  </thead>\n",
       "  <tbody>\n",
       "    <tr>\n",
       "      <th>EarningsPerShareDiluted</th>\n",
       "      <td>3.930000e+00</td>\n",
       "      <td>1.190000e+00</td>\n",
       "      <td>6.780000e+00</td>\n",
       "      <td>2.500000e+00</td>\n",
       "      <td>1.790000e+00</td>\n",
       "      <td>2.010000e+00</td>\n",
       "      <td>9.080000e+00</td>\n",
       "      <td>3.670000e+00</td>\n",
       "      <td>3.330000e+00</td>\n",
       "      <td>3.510000e+00</td>\n",
       "      <td>...</td>\n",
       "      <td>9.220000e+00</td>\n",
       "      <td>3.280000e+00</td>\n",
       "      <td>1.900000e+00</td>\n",
       "      <td>1.420000e+00</td>\n",
       "      <td>1.670000e+00</td>\n",
       "      <td>3.360000e+00</td>\n",
       "      <td>2.100000e+00</td>\n",
       "      <td>1.670000e+00</td>\n",
       "      <td>2.070000e+00</td>\n",
       "      <td>3.890000e+00</td>\n",
       "    </tr>\n",
       "    <tr>\n",
       "      <th>PaymentsOfDividendsCommonStock</th>\n",
       "      <td>NaN</td>\n",
       "      <td>NaN</td>\n",
       "      <td>NaN</td>\n",
       "      <td>NaN</td>\n",
       "      <td>NaN</td>\n",
       "      <td>NaN</td>\n",
       "      <td>NaN</td>\n",
       "      <td>NaN</td>\n",
       "      <td>NaN</td>\n",
       "      <td>NaN</td>\n",
       "      <td>...</td>\n",
       "      <td>NaN</td>\n",
       "      <td>2.898000e+09</td>\n",
       "      <td>2.879000e+09</td>\n",
       "      <td>3.117000e+09</td>\n",
       "      <td>3.071000e+09</td>\n",
       "      <td>3.042000e+09</td>\n",
       "      <td>2.988000e+09</td>\n",
       "      <td>3.281000e+09</td>\n",
       "      <td>3.252000e+09</td>\n",
       "      <td>3.232000e+09</td>\n",
       "    </tr>\n",
       "    <tr>\n",
       "      <th>WeightedAverageNumberOfDilutedSharesOutstanding</th>\n",
       "      <td>8.892920e+08</td>\n",
       "      <td>9.031670e+08</td>\n",
       "      <td>9.021390e+08</td>\n",
       "      <td>9.014940e+08</td>\n",
       "      <td>9.022430e+08</td>\n",
       "      <td>9.045490e+08</td>\n",
       "      <td>9.070050e+08</td>\n",
       "      <td>9.197830e+08</td>\n",
       "      <td>9.213310e+08</td>\n",
       "      <td>9.233410e+08</td>\n",
       "      <td>...</td>\n",
       "      <td>5.793069e+09</td>\n",
       "      <td>5.594127e+09</td>\n",
       "      <td>5.540886e+09</td>\n",
       "      <td>5.472781e+09</td>\n",
       "      <td>5.500281e+09</td>\n",
       "      <td>5.327995e+09</td>\n",
       "      <td>5.261688e+09</td>\n",
       "      <td>5.233499e+09</td>\n",
       "      <td>5.251692e+09</td>\n",
       "      <td>5.157787e+09</td>\n",
       "    </tr>\n",
       "    <tr>\n",
       "      <th>OperatingIncomeLoss</th>\n",
       "      <td>4.409000e+09</td>\n",
       "      <td>1.392000e+09</td>\n",
       "      <td>8.327000e+09</td>\n",
       "      <td>3.101000e+09</td>\n",
       "      <td>5.424000e+09</td>\n",
       "      <td>8.056000e+09</td>\n",
       "      <td>1.174000e+10</td>\n",
       "      <td>4.725000e+09</td>\n",
       "      <td>8.704000e+09</td>\n",
       "      <td>1.293800e+10</td>\n",
       "      <td>...</td>\n",
       "      <td>7.123000e+10</td>\n",
       "      <td>2.417100e+10</td>\n",
       "      <td>1.398700e+10</td>\n",
       "      <td>1.010500e+10</td>\n",
       "      <td>6.002400e+10</td>\n",
       "      <td>2.335900e+10</td>\n",
       "      <td>1.409700e+10</td>\n",
       "      <td>1.076800e+10</td>\n",
       "      <td>6.134400e+10</td>\n",
       "      <td>2.627400e+10</td>\n",
       "    </tr>\n",
       "    <tr>\n",
       "      <th>NetIncomeLoss</th>\n",
       "      <td>3.496000e+09</td>\n",
       "      <td>1.072000e+09</td>\n",
       "      <td>6.119000e+09</td>\n",
       "      <td>2.255000e+09</td>\n",
       "      <td>1.620000e+09</td>\n",
       "      <td>1.828000e+09</td>\n",
       "      <td>8.235000e+09</td>\n",
       "      <td>3.378000e+09</td>\n",
       "      <td>3.074000e+09</td>\n",
       "      <td>3.253000e+09</td>\n",
       "      <td>...</td>\n",
       "      <td>5.339400e+10</td>\n",
       "      <td>1.836100e+10</td>\n",
       "      <td>1.051600e+10</td>\n",
       "      <td>7.796000e+09</td>\n",
       "      <td>9.014000e+09</td>\n",
       "      <td>1.789100e+10</td>\n",
       "      <td>1.102900e+10</td>\n",
       "      <td>8.717000e+09</td>\n",
       "      <td>1.071400e+10</td>\n",
       "      <td>2.006500e+10</td>\n",
       "    </tr>\n",
       "    <tr>\n",
       "      <th>GrossProfit</th>\n",
       "      <td>8.154000e+09</td>\n",
       "      <td>2.600000e+09</td>\n",
       "      <td>1.319700e+10</td>\n",
       "      <td>4.507000e+09</td>\n",
       "      <td>3.627000e+09</td>\n",
       "      <td>3.983000e+09</td>\n",
       "      <td>1.722200e+10</td>\n",
       "      <td>6.411000e+09</td>\n",
       "      <td>5.625000e+09</td>\n",
       "      <td>6.136000e+09</td>\n",
       "      <td>...</td>\n",
       "      <td>9.362600e+10</td>\n",
       "      <td>3.042300e+10</td>\n",
       "      <td>1.992100e+10</td>\n",
       "      <td>1.610600e+10</td>\n",
       "      <td>1.781300e+10</td>\n",
       "      <td>3.017600e+10</td>\n",
       "      <td>2.059100e+10</td>\n",
       "      <td>1.748800e+10</td>\n",
       "      <td>1.993100e+10</td>\n",
       "      <td>3.391200e+10</td>\n",
       "    </tr>\n",
       "  </tbody>\n",
       "</table>\n",
       "<p>6 rows × 40 columns</p>\n",
       "</div>"
      ],
      "text/plain": [
       "ddate                                              2007-09-30    2008-06-30  \\\n",
       "tag                                                                           \n",
       "EarningsPerShareDiluted                          3.930000e+00  1.190000e+00   \n",
       "PaymentsOfDividendsCommonStock                            NaN           NaN   \n",
       "WeightedAverageNumberOfDilutedSharesOutstanding  8.892920e+08  9.031670e+08   \n",
       "OperatingIncomeLoss                              4.409000e+09  1.392000e+09   \n",
       "NetIncomeLoss                                    3.496000e+09  1.072000e+09   \n",
       "GrossProfit                                      8.154000e+09  2.600000e+09   \n",
       "\n",
       "ddate                                              2008-09-30    2008-12-31  \\\n",
       "tag                                                                           \n",
       "EarningsPerShareDiluted                          6.780000e+00  2.500000e+00   \n",
       "PaymentsOfDividendsCommonStock                            NaN           NaN   \n",
       "WeightedAverageNumberOfDilutedSharesOutstanding  9.021390e+08  9.014940e+08   \n",
       "OperatingIncomeLoss                              8.327000e+09  3.101000e+09   \n",
       "NetIncomeLoss                                    6.119000e+09  2.255000e+09   \n",
       "GrossProfit                                      1.319700e+10  4.507000e+09   \n",
       "\n",
       "ddate                                              2009-03-31    2009-06-30  \\\n",
       "tag                                                                           \n",
       "EarningsPerShareDiluted                          1.790000e+00  2.010000e+00   \n",
       "PaymentsOfDividendsCommonStock                            NaN           NaN   \n",
       "WeightedAverageNumberOfDilutedSharesOutstanding  9.022430e+08  9.045490e+08   \n",
       "OperatingIncomeLoss                              5.424000e+09  8.056000e+09   \n",
       "NetIncomeLoss                                    1.620000e+09  1.828000e+09   \n",
       "GrossProfit                                      3.627000e+09  3.983000e+09   \n",
       "\n",
       "ddate                                              2009-09-30    2009-12-31  \\\n",
       "tag                                                                           \n",
       "EarningsPerShareDiluted                          9.080000e+00  3.670000e+00   \n",
       "PaymentsOfDividendsCommonStock                            NaN           NaN   \n",
       "WeightedAverageNumberOfDilutedSharesOutstanding  9.070050e+08  9.197830e+08   \n",
       "OperatingIncomeLoss                              1.174000e+10  4.725000e+09   \n",
       "NetIncomeLoss                                    8.235000e+09  3.378000e+09   \n",
       "GrossProfit                                      1.722200e+10  6.411000e+09   \n",
       "\n",
       "ddate                                              2010-03-31    2010-06-30  \\\n",
       "tag                                                                           \n",
       "EarningsPerShareDiluted                          3.330000e+00  3.510000e+00   \n",
       "PaymentsOfDividendsCommonStock                            NaN           NaN   \n",
       "WeightedAverageNumberOfDilutedSharesOutstanding  9.213310e+08  9.233410e+08   \n",
       "OperatingIncomeLoss                              8.704000e+09  1.293800e+10   \n",
       "NetIncomeLoss                                    3.074000e+09  3.253000e+09   \n",
       "GrossProfit                                      5.625000e+09  6.136000e+09   \n",
       "\n",
       "ddate                                                ...         2015-09-30  \\\n",
       "tag                                                  ...                      \n",
       "EarningsPerShareDiluted                              ...       9.220000e+00   \n",
       "PaymentsOfDividendsCommonStock                       ...                NaN   \n",
       "WeightedAverageNumberOfDilutedSharesOutstanding      ...       5.793069e+09   \n",
       "OperatingIncomeLoss                                  ...       7.123000e+10   \n",
       "NetIncomeLoss                                        ...       5.339400e+10   \n",
       "GrossProfit                                          ...       9.362600e+10   \n",
       "\n",
       "ddate                                              2015-12-31    2016-03-31  \\\n",
       "tag                                                                           \n",
       "EarningsPerShareDiluted                          3.280000e+00  1.900000e+00   \n",
       "PaymentsOfDividendsCommonStock                   2.898000e+09  2.879000e+09   \n",
       "WeightedAverageNumberOfDilutedSharesOutstanding  5.594127e+09  5.540886e+09   \n",
       "OperatingIncomeLoss                              2.417100e+10  1.398700e+10   \n",
       "NetIncomeLoss                                    1.836100e+10  1.051600e+10   \n",
       "GrossProfit                                      3.042300e+10  1.992100e+10   \n",
       "\n",
       "ddate                                              2016-06-30    2016-09-30  \\\n",
       "tag                                                                           \n",
       "EarningsPerShareDiluted                          1.420000e+00  1.670000e+00   \n",
       "PaymentsOfDividendsCommonStock                   3.117000e+09  3.071000e+09   \n",
       "WeightedAverageNumberOfDilutedSharesOutstanding  5.472781e+09  5.500281e+09   \n",
       "OperatingIncomeLoss                              1.010500e+10  6.002400e+10   \n",
       "NetIncomeLoss                                    7.796000e+09  9.014000e+09   \n",
       "GrossProfit                                      1.610600e+10  1.781300e+10   \n",
       "\n",
       "ddate                                              2016-12-31    2017-03-31  \\\n",
       "tag                                                                           \n",
       "EarningsPerShareDiluted                          3.360000e+00  2.100000e+00   \n",
       "PaymentsOfDividendsCommonStock                   3.042000e+09  2.988000e+09   \n",
       "WeightedAverageNumberOfDilutedSharesOutstanding  5.327995e+09  5.261688e+09   \n",
       "OperatingIncomeLoss                              2.335900e+10  1.409700e+10   \n",
       "NetIncomeLoss                                    1.789100e+10  1.102900e+10   \n",
       "GrossProfit                                      3.017600e+10  2.059100e+10   \n",
       "\n",
       "ddate                                              2017-06-30    2017-09-30  \\\n",
       "tag                                                                           \n",
       "EarningsPerShareDiluted                          1.670000e+00  2.070000e+00   \n",
       "PaymentsOfDividendsCommonStock                   3.281000e+09  3.252000e+09   \n",
       "WeightedAverageNumberOfDilutedSharesOutstanding  5.233499e+09  5.251692e+09   \n",
       "OperatingIncomeLoss                              1.076800e+10  6.134400e+10   \n",
       "NetIncomeLoss                                    8.717000e+09  1.071400e+10   \n",
       "GrossProfit                                      1.748800e+10  1.993100e+10   \n",
       "\n",
       "ddate                                              2017-12-31  \n",
       "tag                                                            \n",
       "EarningsPerShareDiluted                          3.890000e+00  \n",
       "PaymentsOfDividendsCommonStock                   3.232000e+09  \n",
       "WeightedAverageNumberOfDilutedSharesOutstanding  5.157787e+09  \n",
       "OperatingIncomeLoss                              2.627400e+10  \n",
       "NetIncomeLoss                                    2.006500e+10  \n",
       "GrossProfit                                      3.391200e+10  \n",
       "\n",
       "[6 rows x 40 columns]"
      ]
     },
     "execution_count": 24,
     "metadata": {},
     "output_type": "execute_result"
    }
   ],
   "source": [
    "aapl_nums.loc[fields].dropna(how='all', axis=1)"
   ]
  },
  {
   "cell_type": "code",
   "execution_count": 30,
   "metadata": {
    "ExecuteTime": {
     "end_time": "2018-06-15T01:00:07.027506Z",
     "start_time": "2018-06-15T01:00:07.022005Z"
    }
   },
   "outputs": [],
   "source": [
    "metrics = aapl_nums.loc[fields].dropna(how='all', axis=1).T"
   ]
  },
  {
   "cell_type": "code",
   "execution_count": 26,
   "metadata": {
    "ExecuteTime": {
     "end_time": "2018-06-15T00:56:57.609591Z",
     "start_time": "2018-06-15T00:56:57.436453Z"
    }
   },
   "outputs": [
    {
     "data": {
      "image/png": "[encoded data removed]",
      "text/plain": [
       "<Figure size 432x288 with 1 Axes>"
      ]
     },
     "metadata": {},
     "output_type": "display_data"
    }
   ],
   "source": [
    "%matplotlib inline\n",
    "aapl_nums.loc[fields].dropna(how='all', axis=1).T.EarningsPerShareDiluted.plot();"
   ]
  },
  {
   "cell_type": "code",
   "execution_count": 72,
   "metadata": {
    "ExecuteTime": {
     "end_time": "2018-06-15T01:20:52.273142Z",
     "start_time": "2018-06-15T01:20:52.146139Z"
    }
   },
   "outputs": [
    {
     "data": {
      "image/png": "[encoded data removed]",
      "text/plain": [
       "<Figure size 432x288 with 1 Axes>"
      ]
     },
     "metadata": {},
     "output_type": "display_data"
    }
   ],
   "source": [
    "metrics.EarningsPerShareDiluted.plot();"
   ]
  },
  {
   "cell_type": "markdown",
   "metadata": {},
   "source": [
    "### Bonus: Textual Information"
   ]
  },
  {
   "cell_type": "code",
   "execution_count": 154,
   "metadata": {
    "ExecuteTime": {
     "end_time": "2018-06-12T22:19:35.471871Z",
     "start_time": "2018-06-12T22:19:34.258816Z"
    },
    "scrolled": true
   },
   "outputs": [],
   "source": [
    "txt = pd.read_parquet(notes_dir / 'parquet' / 'txt.parquet')\n",
    "apple_txt = txt[txt.adsh == apple_10Q.adsh]"
   ]
  },
  {
   "cell_type": "code",
   "execution_count": 155,
   "metadata": {
    "ExecuteTime": {
     "end_time": "2018-06-12T22:19:35.477836Z",
     "start_time": "2018-06-12T22:19:35.472987Z"
    },
    "scrolled": true
   },
   "outputs": [
    {
     "name": "stdout",
     "output_type": "stream",
     "text": [
      "<class 'pandas.core.frame.DataFrame'>\n",
      "Int64Index: 91 entries, 385906 to 472369\n",
      "Data columns (total 20 columns):\n",
      "adsh        91 non-null object\n",
      "tag         91 non-null object\n",
      "version     91 non-null object\n",
      "ddate       91 non-null int64\n",
      "qtrs        91 non-null int64\n",
      "iprx        91 non-null int64\n",
      "lang        91 non-null object\n",
      "dcml        91 non-null int64\n",
      "durp        91 non-null float64\n",
      "datp        91 non-null float64\n",
      "dimh        91 non-null object\n",
      "dimn        91 non-null int64\n",
      "coreg       0 non-null object\n",
      "escaped     91 non-null int64\n",
      "srclen      91 non-null int64\n",
      "txtlen      91 non-null int64\n",
      "footnote    0 non-null object\n",
      "footlen     91 non-null int64\n",
      "context     91 non-null object\n",
      "value       91 non-null object\n",
      "dtypes: float64(2), int64(9), object(9)\n",
      "memory usage: 14.9+ KB\n"
     ]
    }
   ],
   "source": [
    "apple_txt.info()"
   ]
  },
  {
   "cell_type": "code",
   "execution_count": 158,
   "metadata": {
    "ExecuteTime": {
     "end_time": "2018-06-12T22:20:34.625058Z",
     "start_time": "2018-06-12T22:20:34.604105Z"
    },
    "scrolled": true
   },
   "outputs": [
    {
     "data": {
      "text/html": [
       "<div>\n",
       "<style scoped>\n",
       "    .dataframe tbody tr th:only-of-type {\n",
       "        vertical-align: middle;\n",
       "    }\n",
       "\n",
       "    .dataframe tbody tr th {\n",
       "        vertical-align: top;\n",
       "    }\n",
       "\n",
       "    .dataframe thead th {\n",
       "        text-align: right;\n",
       "    }\n",
       "</style>\n",
       "<table border=\"1\" class=\"dataframe\">\n",
       "  <thead>\n",
       "    <tr style=\"text-align: right;\">\n",
       "      <th></th>\n",
       "      <th>adsh</th>\n",
       "      <th>tag</th>\n",
       "      <th>version</th>\n",
       "      <th>ddate</th>\n",
       "      <th>qtrs</th>\n",
       "      <th>iprx</th>\n",
       "      <th>lang</th>\n",
       "      <th>dcml</th>\n",
       "      <th>durp</th>\n",
       "      <th>datp</th>\n",
       "      <th>dimh</th>\n",
       "      <th>dimn</th>\n",
       "      <th>coreg</th>\n",
       "      <th>escaped</th>\n",
       "      <th>srclen</th>\n",
       "      <th>txtlen</th>\n",
       "      <th>footnote</th>\n",
       "      <th>footlen</th>\n",
       "      <th>context</th>\n",
       "      <th>value</th>\n",
       "    </tr>\n",
       "  </thead>\n",
       "  <tbody>\n",
       "    <tr>\n",
       "      <th>385906</th>\n",
       "      <td>0000320193-18-000007</td>\n",
       "      <td>IntangibleAssetsDisclosureTextBlock</td>\n",
       "      <td>us-gaap/2017</td>\n",
       "      <td>20171231</td>\n",
       "      <td>1</td>\n",
       "      <td>0</td>\n",
       "      <td>en-US</td>\n",
       "      <td>32767</td>\n",
       "      <td>0.013699</td>\n",
       "      <td>1.0</td>\n",
       "      <td>0x00000000</td>\n",
       "      <td>0</td>\n",
       "      <td>None</td>\n",
       "      <td>1</td>\n",
       "      <td>25110</td>\n",
       "      <td>737</td>\n",
       "      <td>None</td>\n",
       "      <td>0</td>\n",
       "      <td>FD2018Q1YTD</td>\n",
       "      <td>Acquired Intangible Assets The Companys acquir...</td>\n",
       "    </tr>\n",
       "    <tr>\n",
       "      <th>385907</th>\n",
       "      <td>0000320193-18-000007</td>\n",
       "      <td>SegmentReportingPolicyPolicyTextBlock</td>\n",
       "      <td>us-gaap/2017</td>\n",
       "      <td>20171231</td>\n",
       "      <td>1</td>\n",
       "      <td>0</td>\n",
       "      <td>en-US</td>\n",
       "      <td>32767</td>\n",
       "      <td>0.013699</td>\n",
       "      <td>1.0</td>\n",
       "      <td>0x00000000</td>\n",
       "      <td>0</td>\n",
       "      <td>None</td>\n",
       "      <td>1</td>\n",
       "      <td>2987</td>\n",
       "      <td>2307</td>\n",
       "      <td>None</td>\n",
       "      <td>0</td>\n",
       "      <td>FD2018Q1YTD</td>\n",
       "      <td>The Company reports segment information based ...</td>\n",
       "    </tr>\n",
       "    <tr>\n",
       "      <th>390115</th>\n",
       "      <td>0000320193-18-000007</td>\n",
       "      <td>LongTermMarketableSecuritiesMaturitiesTermMaximum</td>\n",
       "      <td>0000320193-18-000007</td>\n",
       "      <td>20171231</td>\n",
       "      <td>1</td>\n",
       "      <td>0</td>\n",
       "      <td>en-US</td>\n",
       "      <td>32767</td>\n",
       "      <td>0.013699</td>\n",
       "      <td>1.0</td>\n",
       "      <td>0x00000000</td>\n",
       "      <td>0</td>\n",
       "      <td>None</td>\n",
       "      <td>0</td>\n",
       "      <td>3</td>\n",
       "      <td>3</td>\n",
       "      <td>None</td>\n",
       "      <td>0</td>\n",
       "      <td>FD2018Q1YTD</td>\n",
       "      <td>P5Y</td>\n",
       "    </tr>\n",
       "    <tr>\n",
       "      <th>390116</th>\n",
       "      <td>0000320193-18-000007</td>\n",
       "      <td>ShareBasedCompensationArrangementByShareBasedP...</td>\n",
       "      <td>us-gaap/2017</td>\n",
       "      <td>20171231</td>\n",
       "      <td>1</td>\n",
       "      <td>0</td>\n",
       "      <td>en-US</td>\n",
       "      <td>32767</td>\n",
       "      <td>0.013699</td>\n",
       "      <td>1.0</td>\n",
       "      <td>0x0ab20a3d6dd2f89ce1deb1da25a80ac0</td>\n",
       "      <td>1</td>\n",
       "      <td>None</td>\n",
       "      <td>0</td>\n",
       "      <td>3</td>\n",
       "      <td>3</td>\n",
       "      <td>None</td>\n",
       "      <td>0</td>\n",
       "      <td>FD2018Q1QTD_us-gaap_AwardTypeAxis_us-gaap_Rest...</td>\n",
       "      <td>P4Y</td>\n",
       "    </tr>\n",
       "    <tr>\n",
       "      <th>393030</th>\n",
       "      <td>0000320193-18-000007</td>\n",
       "      <td>TradingSymbol</td>\n",
       "      <td>dei/2014</td>\n",
       "      <td>20171231</td>\n",
       "      <td>1</td>\n",
       "      <td>0</td>\n",
       "      <td>en-US</td>\n",
       "      <td>32767</td>\n",
       "      <td>0.013699</td>\n",
       "      <td>1.0</td>\n",
       "      <td>0x00000000</td>\n",
       "      <td>0</td>\n",
       "      <td>None</td>\n",
       "      <td>0</td>\n",
       "      <td>4</td>\n",
       "      <td>4</td>\n",
       "      <td>None</td>\n",
       "      <td>0</td>\n",
       "      <td>FD2018Q1YTD</td>\n",
       "      <td>AAPL</td>\n",
       "    </tr>\n",
       "  </tbody>\n",
       "</table>\n",
       "</div>"
      ],
      "text/plain": [
       "                        adsh  \\\n",
       "385906  0000320193-18-000007   \n",
       "385907  0000320193-18-000007   \n",
       "390115  0000320193-18-000007   \n",
       "390116  0000320193-18-000007   \n",
       "393030  0000320193-18-000007   \n",
       "\n",
       "                                                      tag  \\\n",
       "385906                IntangibleAssetsDisclosureTextBlock   \n",
       "385907              SegmentReportingPolicyPolicyTextBlock   \n",
       "390115  LongTermMarketableSecuritiesMaturitiesTermMaximum   \n",
       "390116  ShareBasedCompensationArrangementByShareBasedP...   \n",
       "393030                                      TradingSymbol   \n",
       "\n",
       "                     version     ddate  qtrs  iprx   lang   dcml      durp  \\\n",
       "385906          us-gaap/2017  20171231     1     0  en-US  32767  0.013699   \n",
       "385907          us-gaap/2017  20171231     1     0  en-US  32767  0.013699   \n",
       "390115  0000320193-18-000007  20171231     1     0  en-US  32767  0.013699   \n",
       "390116          us-gaap/2017  20171231     1     0  en-US  32767  0.013699   \n",
       "393030              dei/2014  20171231     1     0  en-US  32767  0.013699   \n",
       "\n",
       "        datp                                dimh  dimn coreg  escaped  srclen  \\\n",
       "385906   1.0                          0x00000000     0  None        1   25110   \n",
       "385907   1.0                          0x00000000     0  None        1    2987   \n",
       "390115   1.0                          0x00000000     0  None        0       3   \n",
       "390116   1.0  0x0ab20a3d6dd2f89ce1deb1da25a80ac0     1  None        0       3   \n",
       "393030   1.0                          0x00000000     0  None        0       4   \n",
       "\n",
       "        txtlen footnote  footlen  \\\n",
       "385906     737     None        0   \n",
       "385907    2307     None        0   \n",
       "390115       3     None        0   \n",
       "390116       3     None        0   \n",
       "393030       4     None        0   \n",
       "\n",
       "                                                  context  \\\n",
       "385906                                        FD2018Q1YTD   \n",
       "385907                                        FD2018Q1YTD   \n",
       "390115                                        FD2018Q1YTD   \n",
       "390116  FD2018Q1QTD_us-gaap_AwardTypeAxis_us-gaap_Rest...   \n",
       "393030                                        FD2018Q1YTD   \n",
       "\n",
       "                                                    value  \n",
       "385906  Acquired Intangible Assets The Companys acquir...  \n",
       "385907  The Company reports segment information based ...  \n",
       "390115                                                P5Y  \n",
       "390116                                                P4Y  \n",
       "393030                                               AAPL  "
      ]
     },
     "execution_count": 158,
     "metadata": {},
     "output_type": "execute_result"
    }
   ],
   "source": [
    "apple_txt.head()"
   ]
  },
  {
   "cell_type": "code",
   "execution_count": 159,
   "metadata": {
    "ExecuteTime": {
     "end_time": "2018-06-12T22:21:40.126768Z",
     "start_time": "2018-06-12T22:21:39.264167Z"
    },
    "scrolled": true
   },
   "outputs": [
    {
     "name": "stdout",
     "output_type": "stream",
     "text": [
      "<class 'pandas.core.frame.DataFrame'>\n",
      "Int64Index: 876087 entries, 0 to 876086\n",
      "Data columns (total 9 columns):\n",
      "tag         876085 non-null object\n",
      "version     876087 non-null object\n",
      "custom      876087 non-null int64\n",
      "abstract    876087 non-null int64\n",
      "datatype    821031 non-null object\n",
      "iord        509567 non-null object\n",
      "crdr        250009 non-null object\n",
      "tlabel      875600 non-null object\n",
      "doc         810912 non-null object\n",
      "dtypes: int64(2), object(7)\n",
      "memory usage: 66.8+ MB\n"
     ]
    }
   ],
   "source": [
    "tags = pd.read_parquet(notes_dir / 'parquet' / 'tag.parquet')\n",
    "tags.info()"
   ]
  },
  {
   "cell_type": "code",
   "execution_count": 160,
   "metadata": {
    "ExecuteTime": {
     "end_time": "2018-06-12T22:21:46.920651Z",
     "start_time": "2018-06-12T22:21:46.907944Z"
    },
    "scrolled": true
   },
   "outputs": [
    {
     "data": {
      "text/html": [
       "<div>\n",
       "<style scoped>\n",
       "    .dataframe tbody tr th:only-of-type {\n",
       "        vertical-align: middle;\n",
       "    }\n",
       "\n",
       "    .dataframe tbody tr th {\n",
       "        vertical-align: top;\n",
       "    }\n",
       "\n",
       "    .dataframe thead th {\n",
       "        text-align: right;\n",
       "    }\n",
       "</style>\n",
       "<table border=\"1\" class=\"dataframe\">\n",
       "  <thead>\n",
       "    <tr style=\"text-align: right;\">\n",
       "      <th></th>\n",
       "      <th>tag</th>\n",
       "      <th>version</th>\n",
       "      <th>custom</th>\n",
       "      <th>abstract</th>\n",
       "      <th>datatype</th>\n",
       "      <th>iord</th>\n",
       "      <th>crdr</th>\n",
       "      <th>tlabel</th>\n",
       "      <th>doc</th>\n",
       "    </tr>\n",
       "  </thead>\n",
       "  <tbody>\n",
       "    <tr>\n",
       "      <th>0</th>\n",
       "      <td>EntityDomain</td>\n",
       "      <td>dei/2014</td>\n",
       "      <td>0</td>\n",
       "      <td>1</td>\n",
       "      <td>member</td>\n",
       "      <td>None</td>\n",
       "      <td>None</td>\n",
       "      <td>Entity [Domain]</td>\n",
       "      <td>All the names of the entities being reported u...</td>\n",
       "    </tr>\n",
       "    <tr>\n",
       "      <th>1</th>\n",
       "      <td>LegalEntityAxis</td>\n",
       "      <td>dei/2014</td>\n",
       "      <td>0</td>\n",
       "      <td>1</td>\n",
       "      <td>axis</td>\n",
       "      <td>None</td>\n",
       "      <td>None</td>\n",
       "      <td>Legal Entity [Axis]</td>\n",
       "      <td>The set of legal entities associated with a re...</td>\n",
       "    </tr>\n",
       "    <tr>\n",
       "      <th>2</th>\n",
       "      <td>EntityPublicFloat</td>\n",
       "      <td>dei/2014</td>\n",
       "      <td>0</td>\n",
       "      <td>0</td>\n",
       "      <td>monetary</td>\n",
       "      <td>I</td>\n",
       "      <td>C</td>\n",
       "      <td>Entity Public Float</td>\n",
       "      <td>State aggregate market value of voting and non...</td>\n",
       "    </tr>\n",
       "    <tr>\n",
       "      <th>3</th>\n",
       "      <td>DocumentFiscalYearFocus</td>\n",
       "      <td>dei/2014</td>\n",
       "      <td>0</td>\n",
       "      <td>0</td>\n",
       "      <td>gYear</td>\n",
       "      <td>D</td>\n",
       "      <td>None</td>\n",
       "      <td>Document Fiscal Year Focus</td>\n",
       "      <td>This is focus fiscal year of the document repo...</td>\n",
       "    </tr>\n",
       "    <tr>\n",
       "      <th>4</th>\n",
       "      <td>DocumentPeriodEndDate</td>\n",
       "      <td>dei/2014</td>\n",
       "      <td>0</td>\n",
       "      <td>0</td>\n",
       "      <td>date</td>\n",
       "      <td>D</td>\n",
       "      <td>None</td>\n",
       "      <td>Document Period End Date</td>\n",
       "      <td>The end date of the period reflected on the co...</td>\n",
       "    </tr>\n",
       "  </tbody>\n",
       "</table>\n",
       "</div>"
      ],
      "text/plain": [
       "                       tag   version  custom  abstract  datatype  iord  crdr  \\\n",
       "0             EntityDomain  dei/2014       0         1    member  None  None   \n",
       "1          LegalEntityAxis  dei/2014       0         1      axis  None  None   \n",
       "2        EntityPublicFloat  dei/2014       0         0  monetary     I     C   \n",
       "3  DocumentFiscalYearFocus  dei/2014       0         0     gYear     D  None   \n",
       "4    DocumentPeriodEndDate  dei/2014       0         0      date     D  None   \n",
       "\n",
       "                       tlabel  \\\n",
       "0             Entity [Domain]   \n",
       "1         Legal Entity [Axis]   \n",
       "2         Entity Public Float   \n",
       "3  Document Fiscal Year Focus   \n",
       "4    Document Period End Date   \n",
       "\n",
       "                                                 doc  \n",
       "0  All the names of the entities being reported u...  \n",
       "1  The set of legal entities associated with a re...  \n",
       "2  State aggregate market value of voting and non...  \n",
       "3  This is focus fiscal year of the document repo...  \n",
       "4  The end date of the period reflected on the co...  "
      ]
     },
     "execution_count": 160,
     "metadata": {},
     "output_type": "execute_result"
    }
   ],
   "source": [
    "tags.head()"
   ]
  },
  {
   "cell_type": "code",
   "execution_count": 161,
   "metadata": {
    "ExecuteTime": {
     "end_time": "2018-06-12T22:23:05.444069Z",
     "start_time": "2018-06-12T22:23:05.012683Z"
    },
    "scrolled": true
   },
   "outputs": [
    {
     "name": "stdout",
     "output_type": "stream",
     "text": [
      "<class 'pandas.core.frame.DataFrame'>\n",
      "Int64Index: 91 entries, 0 to 90\n",
      "Data columns (total 27 columns):\n",
      "adsh        91 non-null object\n",
      "tag         91 non-null object\n",
      "version     91 non-null object\n",
      "ddate       91 non-null int64\n",
      "qtrs        91 non-null int64\n",
      "iprx        91 non-null int64\n",
      "lang        91 non-null object\n",
      "dcml        91 non-null int64\n",
      "durp        91 non-null float64\n",
      "datp        91 non-null float64\n",
      "dimh        91 non-null object\n",
      "dimn        91 non-null int64\n",
      "coreg       0 non-null object\n",
      "escaped     91 non-null int64\n",
      "srclen      91 non-null int64\n",
      "txtlen      91 non-null int64\n",
      "footnote    0 non-null object\n",
      "footlen     91 non-null int64\n",
      "context     91 non-null object\n",
      "value       91 non-null object\n",
      "custom      91 non-null int64\n",
      "abstract    91 non-null int64\n",
      "datatype    91 non-null object\n",
      "iord        91 non-null object\n",
      "crdr        0 non-null object\n",
      "tlabel      91 non-null object\n",
      "doc         91 non-null object\n",
      "dtypes: float64(2), int64(11), object(14)\n",
      "memory usage: 19.9+ KB\n"
     ]
    }
   ],
   "source": [
    "apple_txt.merge(tags, how='left').info()"
   ]
  },
  {
   "cell_type": "markdown",
   "metadata": {},
   "source": [
    "Unfortunately this gets truncated. Back to XBRL source.."
   ]
  },
  {
   "cell_type": "code",
   "execution_count": 156,
   "metadata": {
    "ExecuteTime": {
     "end_time": "2018-06-12T22:19:38.993001Z",
     "start_time": "2018-06-12T22:19:38.983787Z"
    },
    "scrolled": true
   },
   "outputs": [
    {
     "data": {
      "text/html": [
       "<div>\n",
       "<style scoped>\n",
       "    .dataframe tbody tr th:only-of-type {\n",
       "        vertical-align: middle;\n",
       "    }\n",
       "\n",
       "    .dataframe tbody tr th {\n",
       "        vertical-align: top;\n",
       "    }\n",
       "\n",
       "    .dataframe thead th {\n",
       "        text-align: right;\n",
       "    }\n",
       "</style>\n",
       "<table border=\"1\" class=\"dataframe\">\n",
       "  <thead>\n",
       "    <tr style=\"text-align: right;\">\n",
       "      <th></th>\n",
       "      <th>srclen</th>\n",
       "      <th>txtlen</th>\n",
       "      <th>tag</th>\n",
       "      <th>value</th>\n",
       "    </tr>\n",
       "  </thead>\n",
       "  <tbody>\n",
       "    <tr>\n",
       "      <th>415690</th>\n",
       "      <td>334107</td>\n",
       "      <td>17551</td>\n",
       "      <td>FinancialInstrumentsDisclosureTextBlock</td>\n",
       "      <td>Financial Instruments Cash, Cash Equivalents a...</td>\n",
       "    </tr>\n",
       "    <tr>\n",
       "      <th>426357</th>\n",
       "      <td>23610</td>\n",
       "      <td>8928</td>\n",
       "      <td>CommitmentsAndContingenciesDisclosureTextBlock</td>\n",
       "      <td>Commitments and Contingencies Accrued Warranty...</td>\n",
       "    </tr>\n",
       "    <tr>\n",
       "      <th>443171</th>\n",
       "      <td>28291</td>\n",
       "      <td>6271</td>\n",
       "      <td>BasisOfPresentationAndSignificantAccountingPol...</td>\n",
       "      <td>Summary of Significant Accounting Policies App...</td>\n",
       "    </tr>\n",
       "    <tr>\n",
       "      <th>393031</th>\n",
       "      <td>9142</td>\n",
       "      <td>5596</td>\n",
       "      <td>DerivativesPolicyTextBlock</td>\n",
       "      <td>The Company records all derivatives in the Con...</td>\n",
       "    </tr>\n",
       "    <tr>\n",
       "      <th>472369</th>\n",
       "      <td>203569</td>\n",
       "      <td>5191</td>\n",
       "      <td>DebtDisclosureTextBlock</td>\n",
       "      <td>Debt Commercial Paper The Company issues unsec...</td>\n",
       "    </tr>\n",
       "    <tr>\n",
       "      <th>411033</th>\n",
       "      <td>9637</td>\n",
       "      <td>4891</td>\n",
       "      <td>IncomeTaxDisclosureTextBlock</td>\n",
       "      <td>Income Taxes On December 22, 2017, the U.S. en...</td>\n",
       "    </tr>\n",
       "    <tr>\n",
       "      <th>411035</th>\n",
       "      <td>68777</td>\n",
       "      <td>4020</td>\n",
       "      <td>StockholdersEquityNoteDisclosureTextBlock</td>\n",
       "      <td>Shareholders Equity Dividends The Company decl...</td>\n",
       "    </tr>\n",
       "    <tr>\n",
       "      <th>393032</th>\n",
       "      <td>45318</td>\n",
       "      <td>3357</td>\n",
       "      <td>SegmentReportingDisclosureTextBlock</td>\n",
       "      <td>Segment Information and Geographic Data The Co...</td>\n",
       "    </tr>\n",
       "    <tr>\n",
       "      <th>402283</th>\n",
       "      <td>31926</td>\n",
       "      <td>2771</td>\n",
       "      <td>CompensationAndEmployeeBenefitPlansTextBlock</td>\n",
       "      <td>Benefit Plans Stock Plans The Company had 273....</td>\n",
       "    </tr>\n",
       "    <tr>\n",
       "      <th>430946</th>\n",
       "      <td>209183</td>\n",
       "      <td>2661</td>\n",
       "      <td>CashCashEquivalentsandAvailableforSaleSecuriti...</td>\n",
       "      <td>The following tables show the Companys cash an...</td>\n",
       "    </tr>\n",
       "    <tr>\n",
       "      <th>385907</th>\n",
       "      <td>2987</td>\n",
       "      <td>2307</td>\n",
       "      <td>SegmentReportingPolicyPolicyTextBlock</td>\n",
       "      <td>The Company reports segment information based ...</td>\n",
       "    </tr>\n",
       "    <tr>\n",
       "      <th>398366</th>\n",
       "      <td>50478</td>\n",
       "      <td>1940</td>\n",
       "      <td>ComprehensiveIncomeNoteTextBlock</td>\n",
       "      <td>Comprehensive Income Comprehensive income cons...</td>\n",
       "    </tr>\n",
       "    <tr>\n",
       "      <th>423267</th>\n",
       "      <td>180041</td>\n",
       "      <td>1833</td>\n",
       "      <td>ScheduleOfDebtInstrumentsTextBlock</td>\n",
       "      <td>The following table provides a summary of the ...</td>\n",
       "    </tr>\n",
       "    <tr>\n",
       "      <th>447389</th>\n",
       "      <td>1913</td>\n",
       "      <td>1371</td>\n",
       "      <td>NewAccountingPronouncementsPolicyPolicyTextBlock</td>\n",
       "      <td>Share-Based Compensation During the first quar...</td>\n",
       "    </tr>\n",
       "    <tr>\n",
       "      <th>398365</th>\n",
       "      <td>26342</td>\n",
       "      <td>1366</td>\n",
       "      <td>AcceleratedShareRepurchasesTextBlock</td>\n",
       "      <td>The following table shows the Companys ASR act...</td>\n",
       "    </tr>\n",
       "    <tr>\n",
       "      <th>402284</th>\n",
       "      <td>43528</td>\n",
       "      <td>1313</td>\n",
       "      <td>ScheduleOfDerivativeInstrumentsInStatementOfFi...</td>\n",
       "      <td>The following tables show the Companys derivat...</td>\n",
       "    </tr>\n",
       "    <tr>\n",
       "      <th>450893</th>\n",
       "      <td>1927</td>\n",
       "      <td>1249</td>\n",
       "      <td>BasisOfAccountingPolicyPolicyTextBlock</td>\n",
       "      <td>Basis of Presentation and Preparation The acco...</td>\n",
       "    </tr>\n",
       "    <tr>\n",
       "      <th>419016</th>\n",
       "      <td>1837</td>\n",
       "      <td>1216</td>\n",
       "      <td>EarningsPerSharePolicyTextBlock</td>\n",
       "      <td>Earnings Per Share Basic earnings per share is...</td>\n",
       "    </tr>\n",
       "    <tr>\n",
       "      <th>402282</th>\n",
       "      <td>34066</td>\n",
       "      <td>1197</td>\n",
       "      <td>AdditionalFinancialInformationDisclosureTextBlock</td>\n",
       "      <td>Condensed Consolidated Financial Statement Det...</td>\n",
       "    </tr>\n",
       "    <tr>\n",
       "      <th>423268</th>\n",
       "      <td>35212</td>\n",
       "      <td>974</td>\n",
       "      <td>ScheduleOfDerivativeInstrumentsGainLossInState...</td>\n",
       "      <td>The following table shows the pre-tax gains an...</td>\n",
       "    </tr>\n",
       "  </tbody>\n",
       "</table>\n",
       "</div>"
      ],
      "text/plain": [
       "        srclen  txtlen                                                tag  \\\n",
       "415690  334107   17551            FinancialInstrumentsDisclosureTextBlock   \n",
       "426357   23610    8928     CommitmentsAndContingenciesDisclosureTextBlock   \n",
       "443171   28291    6271  BasisOfPresentationAndSignificantAccountingPol...   \n",
       "393031    9142    5596                         DerivativesPolicyTextBlock   \n",
       "472369  203569    5191                            DebtDisclosureTextBlock   \n",
       "411033    9637    4891                       IncomeTaxDisclosureTextBlock   \n",
       "411035   68777    4020          StockholdersEquityNoteDisclosureTextBlock   \n",
       "393032   45318    3357                SegmentReportingDisclosureTextBlock   \n",
       "402283   31926    2771       CompensationAndEmployeeBenefitPlansTextBlock   \n",
       "430946  209183    2661  CashCashEquivalentsandAvailableforSaleSecuriti...   \n",
       "385907    2987    2307              SegmentReportingPolicyPolicyTextBlock   \n",
       "398366   50478    1940                   ComprehensiveIncomeNoteTextBlock   \n",
       "423267  180041    1833                 ScheduleOfDebtInstrumentsTextBlock   \n",
       "447389    1913    1371   NewAccountingPronouncementsPolicyPolicyTextBlock   \n",
       "398365   26342    1366               AcceleratedShareRepurchasesTextBlock   \n",
       "402284   43528    1313  ScheduleOfDerivativeInstrumentsInStatementOfFi...   \n",
       "450893    1927    1249             BasisOfAccountingPolicyPolicyTextBlock   \n",
       "419016    1837    1216                    EarningsPerSharePolicyTextBlock   \n",
       "402282   34066    1197  AdditionalFinancialInformationDisclosureTextBlock   \n",
       "423268   35212     974  ScheduleOfDerivativeInstrumentsGainLossInState...   \n",
       "\n",
       "                                                    value  \n",
       "415690  Financial Instruments Cash, Cash Equivalents a...  \n",
       "426357  Commitments and Contingencies Accrued Warranty...  \n",
       "443171  Summary of Significant Accounting Policies App...  \n",
       "393031  The Company records all derivatives in the Con...  \n",
       "472369  Debt Commercial Paper The Company issues unsec...  \n",
       "411033  Income Taxes On December 22, 2017, the U.S. en...  \n",
       "411035  Shareholders Equity Dividends The Company decl...  \n",
       "393032  Segment Information and Geographic Data The Co...  \n",
       "402283  Benefit Plans Stock Plans The Company had 273....  \n",
       "430946  The following tables show the Companys cash an...  \n",
       "385907  The Company reports segment information based ...  \n",
       "398366  Comprehensive Income Comprehensive income cons...  \n",
       "423267  The following table provides a summary of the ...  \n",
       "447389  Share-Based Compensation During the first quar...  \n",
       "398365  The following table shows the Companys ASR act...  \n",
       "402284  The following tables show the Companys derivat...  \n",
       "450893  Basis of Presentation and Preparation The acco...  \n",
       "419016  Earnings Per Share Basic earnings per share is...  \n",
       "402282  Condensed Consolidated Financial Statement Det...  \n",
       "423268  The following table shows the pre-tax gains an...  "
      ]
     },
     "execution_count": 156,
     "metadata": {},
     "output_type": "execute_result"
    }
   ],
   "source": [
    "apple_txt.sort_values('txtlen', ascending=False).loc[:, ['srclen', 'txtlen', 'tag', 'value']].head(20)"
   ]
  },
  {
   "cell_type": "code",
   "execution_count": 65,
   "metadata": {
    "ExecuteTime": {
     "end_time": "2018-06-12T21:06:17.964399Z",
     "start_time": "2018-06-12T21:06:17.950323Z"
    },
    "scrolled": true
   },
   "outputs": [],
   "source": [
    "apple_txt.to_csv('apple_file.csv', index=False)"
   ]
  },
  {
   "cell_type": "markdown",
   "metadata": {},
   "source": [
    "#### Get index"
   ]
  },
  {
   "cell_type": "code",
   "execution_count": 57,
   "metadata": {
    "ExecuteTime": {
     "end_time": "2018-06-12T21:53:52.211326Z",
     "start_time": "2018-06-12T21:53:52.209360Z"
    },
    "scrolled": true
   },
   "outputs": [],
   "source": [
    "index_path = data_path / 'filings'"
   ]
  },
  {
   "cell_type": "code",
   "execution_count": 58,
   "metadata": {
    "ExecuteTime": {
     "end_time": "2018-06-12T21:53:59.966005Z",
     "start_time": "2018-06-12T21:53:52.919035Z"
    },
    "scrolled": true
   },
   "outputs": [
    {
     "name": "stdout",
     "output_type": "stream",
     "text": [
      "<class 'pandas.core.frame.DataFrame'>\n",
      "Int64Index: 17679083 entries, 0 to 952928\n",
      "Data columns (total 5 columns):\n",
      "cik        object\n",
      "company    object\n",
      "form       object\n",
      "date       datetime64[ns]\n",
      "url        object\n",
      "dtypes: datetime64[ns](1), object(4)\n",
      "memory usage: 809.3+ MB\n"
     ]
    }
   ],
   "source": [
    "index = pd.read_parquet(index_path / 'index.parquet')\n",
    "index.info()"
   ]
  },
  {
   "cell_type": "code",
   "execution_count": 59,
   "metadata": {
    "ExecuteTime": {
     "end_time": "2018-06-12T21:54:27.800985Z",
     "start_time": "2018-06-12T21:54:24.999156Z"
    },
    "scrolled": true
   },
   "outputs": [
    {
     "data": {
      "text/plain": [
       "236420    edgar/data/320193/0000320193-18-000007.txt\n",
       "Name: url, dtype: object"
      ]
     },
     "execution_count": 59,
     "metadata": {},
     "output_type": "execute_result"
    }
   ],
   "source": [
    "filing = index[(index.cik.astype(int) == apple_10Q.cik) & \n",
    "            (index.form == apple_sub.form) & \n",
    "            (index.date.dt.year == 2018) &\n",
    "            (index.date.dt.quarter == 1)\n",
    "           ]\n",
    "filing.url"
   ]
  },
  {
   "cell_type": "code",
   "execution_count": 113,
   "metadata": {
    "ExecuteTime": {
     "end_time": "2018-06-12T22:05:05.470361Z",
     "start_time": "2018-06-12T22:05:05.467515Z"
    },
    "scrolled": true
   },
   "outputs": [
    {
     "data": {
      "text/plain": [
       "'0000320193-18-000007'"
      ]
     },
     "execution_count": 113,
     "metadata": {},
     "output_type": "execute_result"
    }
   ],
   "source": [
    "apple_sub.adsh"
   ]
  },
  {
   "cell_type": "code",
   "execution_count": 150,
   "metadata": {
    "ExecuteTime": {
     "end_time": "2018-06-12T22:17:18.504202Z",
     "start_time": "2018-06-12T22:17:18.500220Z"
    },
    "scrolled": true
   },
   "outputs": [],
   "source": [
    "xbrl_tag = 'us-gaap:FinancialInstrumentsDisclosureTextBlock'"
   ]
  },
  {
   "cell_type": "code",
   "execution_count": 153,
   "metadata": {
    "ExecuteTime": {
     "end_time": "2018-06-12T22:19:14.210165Z",
     "start_time": "2018-06-12T22:19:14.064975Z"
    },
    "scrolled": true
   },
   "outputs": [],
   "source": [
    "url = f'https://www.sec.gov/Archives/edgar/data/{apple_sub.cik}/{apple_sub.adsh}.txt'\n",
    "f = requests.get(url=url).text"
   ]
  },
  {
   "cell_type": "code",
   "execution_count": 163,
   "metadata": {
    "ExecuteTime": {
     "end_time": "2018-06-12T22:32:36.743397Z",
     "start_time": "2018-06-12T22:32:36.718820Z"
    },
    "scrolled": false
   },
   "outputs": [
    {
     "name": "stdout",
     "output_type": "stream",
     "text": [
      "388906\n"
     ]
    }
   ],
   "source": [
    "s = re.search(r'{0}(.*?){0}'.format(xbrl_tag), f)\n",
    "print(len(s.group(1)))"
   ]
  },
  {
   "cell_type": "code",
   "execution_count": 157,
   "metadata": {
    "ExecuteTime": {
     "end_time": "2018-06-12T22:20:18.530471Z",
     "start_time": "2018-06-12T22:20:16.040696Z"
    },
    "scrolled": true
   },
   "outputs": [],
   "source": [
    "soup = BeautifulSoup(f, 'lxml')\n",
    "for tag in soup.find_all():\n",
    "    if tag.name in apple_txt.tag.tolist():\n",
    "        print(tag, ': ' + tag.text)"
   ]
  },
  {
   "cell_type": "code",
   "execution_count": 165,
   "metadata": {
    "ExecuteTime": {
     "end_time": "2018-06-12T22:33:25.171071Z",
     "start_time": "2018-06-12T22:33:25.166690Z"
    },
    "scrolled": true
   },
   "outputs": [],
   "source": [
    "res = re.search(xbrl_tag, f)"
   ]
  },
  {
   "cell_type": "code",
   "execution_count": 167,
   "metadata": {
    "ExecuteTime": {
     "end_time": "2018-06-12T22:33:29.292402Z",
     "start_time": "2018-06-12T22:33:29.289598Z"
    },
    "scrolled": true
   },
   "outputs": [
    {
     "data": {
      "text/plain": [
       "'rValueMeasurementPolicyPolicyTextBlock>\\n\\t<us-gaap:FinancialInstrumentsDisclosureTextBlock contextRef=\"FD2018Q1YTD\" id=\"Fact-D561C3C1DC2A5F31BF6C478E622A44CF\">&lt;div style=\"font-family:Times New Roman;font-size:10pt;\"&gt;&lt;div style=\"lin'"
      ]
     },
     "execution_count": 167,
     "metadata": {},
     "output_type": "execute_result"
    }
   ],
   "source": [
    "f[start-50: stop+150]"
   ]
  }
 ],
 "metadata": {
  "kernelspec": {
   "display_name": "Python 3",
   "language": "python",
   "name": "python3"
  },
  "language_info": {
   "codemirror_mode": {
    "name": "ipython",
    "version": 3
   },
   "file_extension": ".py",
   "mimetype": "text/x-python",
   "name": "python",
   "nbconvert_exporter": "python",
   "pygments_lexer": "ipython3",
   "version": "3.6.4"
  },
  "toc": {
   "base_numbering": 1,
   "nav_menu": {},
   "number_sections": true,
   "sideBar": true,
   "skip_h1_title": false,
   "title_cell": "Table of Contents",
   "title_sidebar": "Contents",
   "toc_cell": false,
   "toc_position": {},
   "toc_section_display": true,
   "toc_window_display": true
  }
 },
 "nbformat": 4,
 "nbformat_minor": 2
}
