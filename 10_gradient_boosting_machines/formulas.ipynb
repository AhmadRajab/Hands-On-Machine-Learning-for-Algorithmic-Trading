{
 "cells": [
  {
   "cell_type": "markdown",
   "metadata": {},
   "source": [
    "## Boosting"
   ]
  },
  {
   "cell_type": "markdown",
   "metadata": {},
   "source": [
    "### General form"
   ]
  },
  {
   "cell_type": "markdown",
   "metadata": {
    "ExecuteTime": {
     "end_time": "2018-10-08T18:01:36.758404Z",
     "start_time": "2018-10-08T18:01:36.745543Z"
    }
   },
   "source": [
    "$$\n",
    "H_M(x) = \\sum_{m=1}^M\\underbrace{h_m(x)}_{\\text{weak learner}}\n",
    "$$"
   ]
  },
  {
   "cell_type": "markdown",
   "metadata": {},
   "source": [
    "### AdaBoost"
   ]
  },
  {
   "cell_type": "markdown",
   "metadata": {},
   "source": [
    "$$\n",
    "H(x) = \\text{sign}\\left(\\sum_{m=1}^M\\underbrace{\\alpha_mh_m(x)}_{\\text{weighted weak learner}}\\right)\n",
    "$$"
   ]
  },
  {
   "cell_type": "markdown",
   "metadata": {},
   "source": [
    "###  Stagewise forward minimization of exponential loss"
   ]
  },
  {
   "cell_type": "markdown",
   "metadata": {},
   "source": [
    "$$\n",
    "\\underset{\\alpha_m, h_m}{\\text{argmin}}\\sum_{i=1}^N\\exp\\left(\\underbrace{-y_i(f_{t-1}(x_i)}_{\\text{current ensemble}}+\\underbrace{\\alpha_m h_m(x_i)}_{\\text{new member}}\\right)\n",
    "$$"
   ]
  },
  {
   "cell_type": "markdown",
   "metadata": {},
   "source": [
    "### Gradient Boosting"
   ]
  },
  {
   "cell_type": "markdown",
   "metadata": {},
   "source": [
    "$$\n",
    "H_m(x) = \\underbrace{H_{m-1}(x)}_{\\text{current ensemble}} +  \\underbrace{\\gamma_m h_m(x)}_{\\text{new member}} = H_{m-1}(x) + \\underset{\\gamma_m, h_m}{\\text{argmin}} \\sum_{i=1}^{n} \\underbrace{L(y_i, H_{m-1}(x_i) + h_m(x))}_{\\text{loss function}}\n",
    "$$"
   ]
  },
  {
   "cell_type": "code",
   "execution_count": null,
   "metadata": {},
   "outputs": [],
   "source": []
  }
 ],
 "metadata": {
  "kernelspec": {
   "display_name": "Python 3",
   "language": "python",
   "name": "python3"
  },
  "language_info": {
   "codemirror_mode": {
    "name": "ipython",
    "version": 3
   },
   "file_extension": ".py",
   "mimetype": "text/x-python",
   "name": "python",
   "nbconvert_exporter": "python",
   "pygments_lexer": "ipython3",
   "version": "3.6.4"
  },
  "toc": {
   "base_numbering": 1,
   "nav_menu": {},
   "number_sections": true,
   "sideBar": true,
   "skip_h1_title": false,
   "title_cell": "Table of Contents",
   "title_sidebar": "Contents",
   "toc_cell": false,
   "toc_position": {},
   "toc_section_display": true,
   "toc_window_display": false
  }
 },
 "nbformat": 4,
 "nbformat_minor": 2
}
