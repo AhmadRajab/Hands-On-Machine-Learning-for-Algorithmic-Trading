{
 "cells": [
  {
   "cell_type": "markdown",
   "metadata": {},
   "source": [
    "## Alpha Factor Evaluation"
   ]
  },
  {
   "cell_type": "code",
   "execution_count": 1,
   "metadata": {
    "ExecuteTime": {
     "end_time": "2018-07-07T21:12:58.444987Z",
     "start_time": "2018-07-07T21:12:58.443136Z"
    }
   },
   "outputs": [],
   "source": [
    "import warnings\n",
    "warnings.filterwarnings('ignore')"
   ]
  },
  {
   "cell_type": "code",
   "execution_count": 84,
   "metadata": {
    "ExecuteTime": {
     "end_time": "2018-07-08T22:10:01.069277Z",
     "start_time": "2018-07-08T22:10:01.066159Z"
    }
   },
   "outputs": [],
   "source": [
    "from pathlib import Path\n",
    "import matplotlib.pyplot as plt\n",
    "import pandas as pd\n",
    "import numpy as np\n",
    "import seaborn as sns\n",
    "import pandas_market_calendars as mcal\n",
    "from alphalens.utils import get_clean_factor_and_forward_returns\n",
    "from alphalens.performance import *\n",
    "from alphalens.plotting import *\n",
    "from alphalens.tears import *"
   ]
  },
  {
   "cell_type": "code",
   "execution_count": 2,
   "metadata": {
    "ExecuteTime": {
     "end_time": "2018-07-08T17:20:03.383267Z",
     "start_time": "2018-07-08T17:20:03.377530Z"
    }
   },
   "outputs": [],
   "source": [
    "%matplotlib inline\n",
    "plt.style.use('fivethirtyeight')\n",
    "idx = pd.IndexSlice"
   ]
  },
  {
   "cell_type": "code",
   "execution_count": 11,
   "metadata": {
    "ExecuteTime": {
     "end_time": "2018-07-22T18:49:49.980256Z",
     "start_time": "2018-07-22T18:49:49.294810Z"
    }
   },
   "outputs": [],
   "source": [
    "perf = pd.read_pickle('zip02.pickle')"
   ]
  },
  {
   "cell_type": "code",
   "execution_count": 12,
   "metadata": {
    "ExecuteTime": {
     "end_time": "2018-07-22T18:49:50.002110Z",
     "start_time": "2018-07-22T18:49:49.995424Z"
    }
   },
   "outputs": [
    {
     "name": "stdout",
     "output_type": "stream",
     "text": [
      "<class 'pandas.core.frame.DataFrame'>\n",
      "DatetimeIndex: 504 entries, 2014-01-02 21:00:00+00:00 to 2015-12-31 21:00:00+00:00\n",
      "Data columns (total 38 columns):\n",
      "algo_volatility            503 non-null float64\n",
      "algorithm_period_return    504 non-null float64\n",
      "alpha                      503 non-null float64\n",
      "benchmark_period_return    504 non-null float64\n",
      "benchmark_volatility       503 non-null float64\n",
      "beta                       503 non-null float64\n",
      "capital_used               504 non-null float64\n",
      "ending_cash                504 non-null float64\n",
      "ending_exposure            504 non-null float64\n",
      "ending_value               504 non-null float64\n",
      "excess_return              504 non-null float64\n",
      "gross_leverage             504 non-null float64\n",
      "long_exposure              504 non-null float64\n",
      "long_value                 504 non-null float64\n",
      "longs_count                504 non-null int64\n",
      "max_drawdown               504 non-null float64\n",
      "max_leverage               504 non-null float64\n",
      "net_leverage               504 non-null float64\n",
      "orders                     504 non-null object\n",
      "period_close               504 non-null datetime64[ns, UTC]\n",
      "period_label               504 non-null object\n",
      "period_open                504 non-null datetime64[ns, UTC]\n",
      "pnl                        504 non-null float64\n",
      "portfolio_value            504 non-null float64\n",
      "positions                  504 non-null object\n",
      "returns                    504 non-null float64\n",
      "sharpe                     497 non-null float64\n",
      "short_exposure             504 non-null float64\n",
      "short_value                504 non-null float64\n",
      "shorts_count               504 non-null int64\n",
      "sortino                    497 non-null float64\n",
      "starting_cash              504 non-null float64\n",
      "starting_exposure          504 non-null float64\n",
      "starting_value             504 non-null float64\n",
      "trading_days               504 non-null int64\n",
      "transactions               504 non-null object\n",
      "treasury_period_return     504 non-null float64\n",
      "universe_size              498 non-null float64\n",
      "dtypes: datetime64[ns, UTC](2), float64(29), int64(3), object(4)\n",
      "memory usage: 153.6+ KB\n"
     ]
    }
   ],
   "source": [
    "perf.info()"
   ]
  },
  {
   "cell_type": "code",
   "execution_count": 17,
   "metadata": {
    "ExecuteTime": {
     "end_time": "2018-07-22T18:56:55.164660Z",
     "start_time": "2018-07-22T18:56:55.035787Z"
    }
   },
   "outputs": [
    {
     "data": {
      "text/plain": [
       "<matplotlib.axes._subplots.AxesSubplot at 0x7f1f3261d588>"
      ]
     },
     "execution_count": 17,
     "metadata": {},
     "output_type": "execute_result"
    },
    {
     "data": {
      "image/png": "[encoded data removed]",
      "text/plain": [
       "<Figure size 432x288 with 1 Axes>"
      ]
     },
     "metadata": {},
     "output_type": "display_data"
    }
   ],
   "source": [
    "perf.gross_leverage.plot()"
   ]
  },
  {
   "cell_type": "code",
   "execution_count": 7,
   "metadata": {
    "ExecuteTime": {
     "end_time": "2018-07-22T18:30:54.916482Z",
     "start_time": "2018-07-22T18:30:54.408831Z"
    }
   },
   "outputs": [
    {
     "name": "stdout",
     "output_type": "stream",
     "text": [
      "2015-01-02 21:00:00+00:00                                                   []\n",
      "2015-01-05 21:00:00+00:00    [{'amount': 512, 'dt': 2015-01-05 21:00:00+00:...\n",
      "2015-01-06 21:00:00+00:00    [{'amount': 557, 'dt': 2015-01-06 21:00:00+00:...\n",
      "2015-01-07 21:00:00+00:00    [{'amount': 627, 'dt': 2015-01-07 21:00:00+00:...\n",
      "2015-01-08 21:00:00+00:00    [{'amount': 433, 'dt': 2015-01-08 21:00:00+00:...\n",
      "2015-01-09 21:00:00+00:00    [{'amount': 477, 'dt': 2015-01-09 21:00:00+00:...\n",
      "2015-01-12 21:00:00+00:00    [{'amount': 1089, 'dt': 2015-01-12 21:00:00+00...\n",
      "2015-01-13 21:00:00+00:00    [{'amount': 905, 'dt': 2015-01-13 21:00:00+00:...\n",
      "2015-01-14 21:00:00+00:00    [{'amount': 1087, 'dt': 2015-01-14 21:00:00+00...\n",
      "2015-01-15 21:00:00+00:00    [{'amount': 946, 'dt': 2015-01-15 21:00:00+00:...\n",
      "2015-01-16 21:00:00+00:00    [{'amount': 458, 'dt': 2015-01-16 21:00:00+00:...\n",
      "2015-01-20 21:00:00+00:00    [{'amount': 334, 'dt': 2015-01-20 21:00:00+00:...\n",
      "2015-01-21 21:00:00+00:00    [{'amount': 324, 'dt': 2015-01-21 21:00:00+00:...\n",
      "2015-01-22 21:00:00+00:00    [{'amount': 379, 'dt': 2015-01-22 21:00:00+00:...\n",
      "2015-01-23 21:00:00+00:00    [{'amount': 158, 'dt': 2015-01-23 21:00:00+00:...\n",
      "2015-01-26 21:00:00+00:00    [{'amount': 260, 'dt': 2015-01-26 21:00:00+00:...\n",
      "2015-01-27 21:00:00+00:00    [{'amount': 210, 'dt': 2015-01-27 21:00:00+00:...\n",
      "2015-01-28 21:00:00+00:00    [{'amount': 108, 'dt': 2015-01-28 21:00:00+00:...\n",
      "2015-01-29 21:00:00+00:00    [{'amount': 183, 'dt': 2015-01-29 21:00:00+00:...\n",
      "2015-01-30 21:00:00+00:00    [{'amount': 406, 'dt': 2015-01-30 21:00:00+00:...\n",
      "2015-02-02 21:00:00+00:00    [{'amount': 224, 'dt': 2015-02-02 21:00:00+00:...\n",
      "2015-02-03 21:00:00+00:00    [{'amount': 530, 'dt': 2015-02-03 21:00:00+00:...\n",
      "2015-02-04 21:00:00+00:00    [{'amount': 858, 'dt': 2015-02-04 21:00:00+00:...\n",
      "2015-02-05 21:00:00+00:00    [{'amount': 592, 'dt': 2015-02-05 21:00:00+00:...\n",
      "2015-02-06 21:00:00+00:00    [{'amount': 498, 'dt': 2015-02-06 21:00:00+00:...\n",
      "2015-02-09 21:00:00+00:00    [{'amount': 528, 'dt': 2015-02-09 21:00:00+00:...\n",
      "2015-02-10 21:00:00+00:00    [{'amount': 948, 'dt': 2015-02-10 21:00:00+00:...\n",
      "2015-02-11 21:00:00+00:00    [{'amount': 374, 'dt': 2015-02-11 21:00:00+00:...\n",
      "2015-02-12 21:00:00+00:00    [{'amount': 449, 'dt': 2015-02-12 21:00:00+00:...\n",
      "2015-02-13 21:00:00+00:00    [{'amount': 463, 'dt': 2015-02-13 21:00:00+00:...\n",
      "                                                   ...                        \n",
      "2015-11-18 21:00:00+00:00    [{'amount': 1369, 'dt': 2015-11-18 21:00:00+00...\n",
      "2015-11-19 21:00:00+00:00    [{'amount': 340, 'dt': 2015-11-19 21:00:00+00:...\n",
      "2015-11-20 21:00:00+00:00    [{'amount': 150, 'dt': 2015-11-20 21:00:00+00:...\n",
      "2015-11-23 21:00:00+00:00    [{'amount': 177, 'dt': 2015-11-23 21:00:00+00:...\n",
      "2015-11-24 21:00:00+00:00    [{'amount': 212, 'dt': 2015-11-24 21:00:00+00:...\n",
      "2015-11-25 21:00:00+00:00    [{'amount': 207, 'dt': 2015-11-25 21:00:00+00:...\n",
      "2015-11-27 18:00:00+00:00    [{'amount': 25, 'dt': 2015-11-27 18:00:00+00:0...\n",
      "2015-11-30 21:00:00+00:00    [{'amount': 226, 'dt': 2015-11-30 21:00:00+00:...\n",
      "2015-12-01 21:00:00+00:00    [{'amount': 113, 'dt': 2015-12-01 21:00:00+00:...\n",
      "2015-12-02 21:00:00+00:00    [{'amount': 443, 'dt': 2015-12-02 21:00:00+00:...\n",
      "2015-12-03 21:00:00+00:00    [{'amount': 456, 'dt': 2015-12-03 21:00:00+00:...\n",
      "2015-12-04 21:00:00+00:00    [{'amount': 299, 'dt': 2015-12-04 21:00:00+00:...\n",
      "2015-12-07 21:00:00+00:00    [{'amount': 357, 'dt': 2015-12-07 21:00:00+00:...\n",
      "2015-12-08 21:00:00+00:00    [{'amount': 233, 'dt': 2015-12-08 21:00:00+00:...\n",
      "2015-12-09 21:00:00+00:00    [{'amount': 606, 'dt': 2015-12-09 21:00:00+00:...\n",
      "2015-12-10 21:00:00+00:00    [{'amount': 256, 'dt': 2015-12-10 21:00:00+00:...\n",
      "2015-12-11 21:00:00+00:00    [{'amount': 469, 'dt': 2015-12-11 21:00:00+00:...\n",
      "2015-12-14 21:00:00+00:00    [{'amount': 527, 'dt': 2015-12-14 21:00:00+00:...\n",
      "2015-12-15 21:00:00+00:00    [{'amount': 340, 'dt': 2015-12-15 21:00:00+00:...\n",
      "2015-12-16 21:00:00+00:00    [{'amount': 275, 'dt': 2015-12-16 21:00:00+00:...\n",
      "2015-12-17 21:00:00+00:00    [{'amount': 224, 'dt': 2015-12-17 21:00:00+00:...\n",
      "2015-12-18 21:00:00+00:00    [{'amount': 802, 'dt': 2015-12-18 21:00:00+00:...\n",
      "2015-12-21 21:00:00+00:00    [{'amount': 416, 'dt': 2015-12-21 21:00:00+00:...\n",
      "2015-12-22 21:00:00+00:00    [{'amount': 310, 'dt': 2015-12-22 21:00:00+00:...\n",
      "2015-12-23 21:00:00+00:00    [{'amount': 313, 'dt': 2015-12-23 21:00:00+00:...\n",
      "2015-12-24 18:00:00+00:00    [{'amount': 278, 'dt': 2015-12-24 18:00:00+00:...\n",
      "2015-12-28 21:00:00+00:00    [{'amount': 467, 'dt': 2015-12-28 21:00:00+00:...\n",
      "2015-12-29 21:00:00+00:00    [{'amount': 330, 'dt': 2015-12-29 21:00:00+00:...\n",
      "2015-12-30 21:00:00+00:00    [{'amount': 218, 'dt': 2015-12-30 21:00:00+00:...\n",
      "2015-12-31 21:00:00+00:00    [{'amount': 333, 'dt': 2015-12-31 21:00:00+00:...\n",
      "Name: transactions, Length: 252, dtype: object\n"
     ]
    }
   ],
   "source": [
    "print(perf.transactions)"
   ]
  },
  {
   "cell_type": "code",
   "execution_count": 13,
   "metadata": {
    "ExecuteTime": {
     "end_time": "2018-07-22T18:52:06.971238Z",
     "start_time": "2018-07-22T18:52:06.816240Z"
    }
   },
   "outputs": [
    {
     "data": {
      "text/plain": [
       "<matplotlib.axes._subplots.AxesSubplot at 0x7f1f2ab29048>"
      ]
     },
     "execution_count": 13,
     "metadata": {},
     "output_type": "execute_result"
    },
    {
     "data": {
      "image/png": "[encoded data removed]",
      "text/plain": [
       "<Figure size 432x288 with 1 Axes>"
      ]
     },
     "metadata": {},
     "output_type": "display_data"
    }
   ],
   "source": [
    "perf[['long_exposure', 'short_exposure']].plot()"
   ]
  },
  {
   "cell_type": "code",
   "execution_count": null,
   "metadata": {},
   "outputs": [],
   "source": []
  }
 ],
 "metadata": {
  "kernelspec": {
   "display_name": "Python 3",
   "language": "python",
   "name": "python3"
  },
  "language_info": {
   "codemirror_mode": {
    "name": "ipython",
    "version": 3
   },
   "file_extension": ".py",
   "mimetype": "text/x-python",
   "name": "python",
   "nbconvert_exporter": "python",
   "pygments_lexer": "ipython3",
   "version": "3.6.4"
  },
  "toc": {
   "base_numbering": 1,
   "nav_menu": {},
   "number_sections": true,
   "sideBar": true,
   "skip_h1_title": true,
   "title_cell": "Table of Contents",
   "title_sidebar": "Contents",
   "toc_cell": false,
   "toc_position": {},
   "toc_section_display": true,
   "toc_window_display": true
  }
 },
 "nbformat": 4,
 "nbformat_minor": 1
}
