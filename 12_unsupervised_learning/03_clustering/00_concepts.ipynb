{
 "cells": [
  {
   "cell_type": "code",
   "execution_count": null,
   "metadata": {
    "ExecuteTime": {
     "end_time": "2018-04-04T05:34:09.866170Z",
     "start_time": "2018-04-04T05:34:07.834276Z"
    },
    "slideshow": {
     "slide_type": "skip"
    }
   },
   "outputs": [],
   "source": [
    "import numpy as np\n",
    "from numpy.linalg import inv\n",
    "from numpy.random import multivariate_normal\n",
    "import pandas as pd\n",
    "import matplotlib.pyplot as plt\n",
    "from matplotlib.patches import Ellipse\n",
    "from mpl_toolkits.mplot3d import Axes3D\n",
    "from sklearn.decomposition import PCA\n",
    "from sklearn.mixture import GaussianMixture\n",
    "from sklearn.datasets import make_blobs\n",
    "\n",
    "%matplotlib notebook"
   ]
  },
  {
   "cell_type": "code",
   "execution_count": null,
   "metadata": {
    "ExecuteTime": {
     "end_time": "2018-04-04T05:34:09.891449Z",
     "start_time": "2018-04-04T05:34:09.869505Z"
    },
    "slideshow": {
     "slide_type": "skip"
    }
   },
   "outputs": [],
   "source": [
    "from jupyterthemes import jtplot \n",
    "jtplot.style(theme='onedork', context='talk', fscale=1.4, spines=False, \n",
    "             gridlines='--', ticks=True, grid=False, figsize=(7, 5))"
   ]
  },
  {
   "cell_type": "code",
   "execution_count": null,
   "metadata": {
    "ExecuteTime": {
     "end_time": "2018-04-04T05:34:09.924067Z",
     "start_time": "2018-04-04T05:34:09.895629Z"
    },
    "slideshow": {
     "slide_type": "skip"
    }
   },
   "outputs": [],
   "source": [
    "def format3D(axis, labels=('x', 'y', 'z'), limits=None):\n",
    "    \"\"\"3D plot helper function to set labels, pane color, and axis limits\"\"\"\n",
    "    axis.set_xlabel('\\n${}$'.format(labels[0]), linespacing=3)\n",
    "    axis.set_ylabel('\\n${}$'.format(labels[1]), linespacing=3)\n",
    "    axis.set_zlabel('\\n${}$'.format(labels[2]), linespacing=3)\n",
    "    transparent = (1.0, 1.0, 1.0, 0.0)\n",
    "    axis.w_xaxis.set_pane_color(transparent)\n",
    "    axis.w_yaxis.set_pane_color(transparent)\n",
    "    axis.w_zaxis.set_pane_color(transparent)\n",
    "    if limits:\n",
    "        axis.set_xlim(limits[0])\n",
    "        axis.set_ylim(limits[1])\n",
    "        axis.set_zlim(limits[2])"
   ]
  },
  {
   "cell_type": "markdown",
   "metadata": {
    "slideshow": {
     "slide_type": "slide"
    }
   },
   "source": [
    "### 2D Cluster Demo"
   ]
  },
  {
   "cell_type": "code",
   "execution_count": null,
   "metadata": {
    "ExecuteTime": {
     "end_time": "2018-04-04T05:34:12.436427Z",
     "start_time": "2018-04-04T05:34:12.428129Z"
    },
    "slideshow": {
     "slide_type": "fragment"
    }
   },
   "outputs": [],
   "source": [
    "n_points = 250\n",
    "n_dimensions = 2\n",
    "cluster_centers = 3\n",
    "cluster_std = 2\n",
    "data, cluster = make_blobs(n_samples=n_points, \n",
    "                           n_features=n_dimensions, \n",
    "                           centers=cluster_centers, \n",
    "                           cluster_std=cluster_std, \n",
    "                           random_state=42)\n",
    "x, y = data.T"
   ]
  },
  {
   "cell_type": "code",
   "execution_count": null,
   "metadata": {
    "ExecuteTime": {
     "end_time": "2018-04-04T05:34:12.955982Z",
     "start_time": "2018-04-04T05:34:12.593271Z"
    },
    "scrolled": false,
    "slideshow": {
     "slide_type": "slide"
    }
   },
   "outputs": [],
   "source": [
    "plt.figure()\n",
    "plt.scatter(x, y, s=10);"
   ]
  },
  {
   "cell_type": "code",
   "execution_count": null,
   "metadata": {
    "ExecuteTime": {
     "end_time": "2018-04-04T05:34:13.288684Z",
     "start_time": "2018-04-04T05:34:12.958848Z"
    },
    "slideshow": {
     "slide_type": "slide"
    }
   },
   "outputs": [],
   "source": [
    "plt.figure()\n",
    "plt.scatter(x, y, c=cluster, s=10);"
   ]
  },
  {
   "cell_type": "markdown",
   "metadata": {
    "slideshow": {
     "slide_type": "slide"
    }
   },
   "source": [
    "### 3D Cluster Demo"
   ]
  },
  {
   "cell_type": "code",
   "execution_count": null,
   "metadata": {
    "ExecuteTime": {
     "end_time": "2018-04-04T05:34:14.609713Z",
     "start_time": "2018-04-04T05:34:14.603010Z"
    },
    "slideshow": {
     "slide_type": "fragment"
    }
   },
   "outputs": [],
   "source": [
    "n_dimensions = 3\n",
    "data, cluster = make_blobs(n_samples=n_points, \n",
    "                           n_features=n_dimensions, \n",
    "                           centers=cluster_centers, \n",
    "                           cluster_std=cluster_std, \n",
    "                           random_state=42)\n",
    "x, y, z = data.T"
   ]
  },
  {
   "cell_type": "code",
   "execution_count": null,
   "metadata": {
    "ExecuteTime": {
     "end_time": "2018-04-04T05:34:15.005739Z",
     "start_time": "2018-04-04T05:34:14.979978Z"
    },
    "slideshow": {
     "slide_type": "skip"
    }
   },
   "outputs": [],
   "source": [
    "df = pd.DataFrame({'x':x, 'y': y, 'z': z, 'cluster': cluster})\n",
    "df.groupby('cluster').apply(lambda x: x.iloc[:2]).drop('cluster', axis=1).reset_index(-1, drop=True).to_csv('cluster_demo.csv')"
   ]
  },
  {
   "cell_type": "code",
   "execution_count": null,
   "metadata": {
    "ExecuteTime": {
     "end_time": "2018-04-04T05:34:16.011186Z",
     "start_time": "2018-04-04T05:34:15.141273Z"
    },
    "slideshow": {
     "slide_type": "slide"
    }
   },
   "outputs": [],
   "source": [
    "fig = plt.figure()\n",
    "ax = fig.add_subplot(111, projection='3d')\n",
    "ax.scatter(x, y, z, c='white')\n",
    "format3D(ax)\n",
    "plt.tight_layout();"
   ]
  },
  {
   "cell_type": "code",
   "execution_count": null,
   "metadata": {
    "ExecuteTime": {
     "end_time": "2018-04-04T05:34:16.600520Z",
     "start_time": "2018-04-04T05:34:16.021366Z"
    },
    "slideshow": {
     "slide_type": "slide"
    }
   },
   "outputs": [],
   "source": [
    "fig = plt.figure()\n",
    "ax = fig.add_subplot(111, projection='3d')\n",
    "ax.scatter(x, y, z, c=cluster)\n",
    "format3D(ax)\n",
    "plt.tight_layout();"
   ]
  },
  {
   "cell_type": "markdown",
   "metadata": {
    "slideshow": {
     "slide_type": "slide"
    }
   },
   "source": [
    "### Clustering vs PCA"
   ]
  },
  {
   "cell_type": "code",
   "execution_count": null,
   "metadata": {
    "ExecuteTime": {
     "end_time": "2018-04-04T05:34:16.764369Z",
     "start_time": "2018-04-04T05:34:16.754772Z"
    },
    "slideshow": {
     "slide_type": "fragment"
    }
   },
   "outputs": [],
   "source": [
    "pca = PCA(n_components=2)\n",
    "pca.fit(data)"
   ]
  },
  {
   "cell_type": "code",
   "execution_count": null,
   "metadata": {
    "ExecuteTime": {
     "end_time": "2018-04-04T05:34:16.975147Z",
     "start_time": "2018-04-04T05:34:16.944145Z"
    },
    "slideshow": {
     "slide_type": "skip"
    }
   },
   "outputs": [],
   "source": [
    "C = pca.components_.T# columns = principal components\n",
    "proj_matrix = C.dot(inv(C.T.dot(C))).dot(C.T)\n",
    "data_2D = data.dot(C)\n",
    "\n",
    "min_, max_ = data[:, :2].min(), data[:, :2].max()\n",
    "xs, ys = np.meshgrid(np.linspace(min_,max_, n_points), \n",
    "                     np.linspace(min_,max_, n_points))\n",
    "\n",
    "normal_vector = np.cross(pca.components_[0], \n",
    "                         pca.components_[1])\n",
    "d = -pca.mean_.dot(normal_vector)\n",
    "zs = (-normal_vector[0] * xs - normal_vector[1] * ys - d) * 1 / normal_vector[2]"
   ]
  },
  {
   "cell_type": "code",
   "execution_count": null,
   "metadata": {
    "ExecuteTime": {
     "end_time": "2018-04-04T05:34:21.020849Z",
     "start_time": "2018-04-04T05:34:17.074134Z"
    },
    "hide_input": true,
    "slideshow": {
     "slide_type": "slide"
    }
   },
   "outputs": [],
   "source": [
    "ax = plt.figure().gca(projection='3d')\n",
    "ax.set_aspect('equal')\n",
    "\n",
    "ax.plot_surface(xs, ys, zs, alpha=0.2, color='white')\n",
    "ax.scatter(x, y, z, c='darkblue', s=15)\n",
    "\n",
    "for i in range(n_points):\n",
    "    ax.plot(*zip(proj_matrix.dot(data[i]), data[i]), color='white', lw=0.5)\n",
    "\n",
    "C[:, 0] *= 2\n",
    "X, Y, Z, U, V, W = zip(*np.hstack((np.zeros((2, 3)), C.T)))\n",
    "ax.quiver(X, Y, Z, U, V, W, color='red')\n",
    "format3D(ax)\n",
    "plt.tight_layout();"
   ]
  },
  {
   "cell_type": "markdown",
   "metadata": {
    "slideshow": {
     "slide_type": "slide"
    }
   },
   "source": [
    "### 2D PCA Projection"
   ]
  },
  {
   "cell_type": "code",
   "execution_count": null,
   "metadata": {
    "ExecuteTime": {
     "end_time": "2018-04-04T05:34:21.404991Z",
     "start_time": "2018-04-04T05:34:21.023133Z"
    },
    "hide_input": true,
    "slideshow": {
     "slide_type": "fragment"
    }
   },
   "outputs": [],
   "source": [
    "data_3D_inv = pca.inverse_transform(data_2D)\n",
    "fig = plt.figure()\n",
    "ax = fig.add_subplot(111, aspect='equal', \n",
    "                     xlabel='Principal Component 1', \n",
    "                     ylabel='Principal Component 2', \n",
    "                     title='Data in 2D')\n",
    "\n",
    "ax.scatter(data_2D[:, 0], data_2D[:, 1], color='white', s=15)\n",
    "ax.arrow(0, 0, 0, .5, head_width=0.1, length_includes_head=True, \n",
    "         head_length=0.1, fc='w', ec='w')\n",
    "ax.arrow(0, 0, 1, 0, head_width=0.1, length_includes_head=True,\n",
    "         head_length=0.1, fc='w', ec='w')\n",
    "fig.tight_layout()"
   ]
  },
  {
   "cell_type": "markdown",
   "metadata": {
    "slideshow": {
     "slide_type": "slide"
    }
   },
   "source": [
    "### Soft Assignments"
   ]
  },
  {
   "cell_type": "code",
   "execution_count": null,
   "metadata": {
    "ExecuteTime": {
     "end_time": "2018-04-04T05:34:21.857831Z",
     "start_time": "2018-04-04T05:34:21.408396Z"
    },
    "hide_input": false,
    "scrolled": false,
    "slideshow": {
     "slide_type": "fragment"
    }
   },
   "outputs": [],
   "source": [
    "cluster_distributions = [([2, 2], [[1, .5], [.5, 1]]),\n",
    "                         ([4, 3], [[1, .5], [.5, 1]]),\n",
    "                         ([5, 1], [[1, .5], [.5, 1]])]\n",
    "            \n",
    "clusters = pd.DataFrame()\n",
    "for c, (mean, cov) in enumerate(cluster_distributions):\n",
    "    df = pd.DataFrame(multivariate_normal(mean, cov, size=100), columns=['x', 'y']).assign(cluster=c)\n",
    "    clusters = clusters.append(df)\n",
    "x, y, c = clusters.values.T\n",
    "fig, ax = plt.subplots()\n",
    "ax.scatter(x=x, y=y, c=c, s=10);\n",
    "components = 3\n",
    "gmm = GaussianMixture(n_components=components)\n",
    "gmm.fit(clusters)\n",
    "for n in range(components):\n",
    "    c = n + 1\n",
    "    covariances = gmm.covariances_[n][:2, :2]\n",
    "    eigen_vec, eigen_val = np.linalg.eigh(covariances)\n",
    "    u = eigen_val[0] / np.linalg.norm(eigen_val[0])\n",
    "    angle = np.arctan2(u[1], u[0])\n",
    "    angle = 180 * angle / np.pi  # convert to degrees\n",
    "    v = 2. * np.sqrt(2.) * np.sqrt(eigen_vec)\n",
    "    ell = Ellipse(gmm.means_[n, :2], v[0], v[1], 180 + angle, color=plt.cm.viridis(n/(components-1)), alpha=.8)\n",
    "    ell.set_clip_box(ax.bbox)\n",
    "    ell.set_alpha(0.5)\n",
    "    ax.add_artist(ell)"
   ]
  }
 ],
 "metadata": {
  "celltoolbar": "Slideshow",
  "hide_input": false,
  "kernelspec": {
   "display_name": "Python 3",
   "language": "python",
   "name": "python3"
  },
  "language_info": {
   "codemirror_mode": {
    "name": "ipython",
    "version": 3
   },
   "file_extension": ".py",
   "mimetype": "text/x-python",
   "name": "python",
   "nbconvert_exporter": "python",
   "pygments_lexer": "ipython3",
   "version": "3.5.2"
  }
 },
 "nbformat": 4,
 "nbformat_minor": 2
}
