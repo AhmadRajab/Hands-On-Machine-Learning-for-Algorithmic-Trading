{
 "cells": [
  {
   "cell_type": "code",
   "execution_count": 1,
   "metadata": {
    "ExecuteTime": {
     "end_time": "2018-10-29T17:09:31.412299Z",
     "start_time": "2018-10-29T17:09:31.409705Z"
    }
   },
   "outputs": [],
   "source": [
    "import gzip\n",
    "import shutil\n",
    "from pathlib import Path\n",
    "from urllib.request import urlretrieve\n",
    "\n",
    "import pandas as pd\n",
    "import numpy as np\n",
    "import matplotlib.pyplot as plt\n",
    "from matplotlib.ticker import FuncFormatter\n",
    "from struct import unpack\n",
    "from collections import namedtuple, Counter\n",
    "from datetime import timedelta\n",
    "from time import time"
   ]
  },
  {
   "cell_type": "markdown",
   "metadata": {},
   "source": [
    "## Get NASDAQ ITCH Data from FTP Server"
   ]
  },
  {
   "cell_type": "markdown",
   "metadata": {},
   "source": [
    "### Set Data paths"
   ]
  },
  {
   "cell_type": "code",
   "execution_count": 34,
   "metadata": {
    "ExecuteTime": {
     "end_time": "2018-10-29T18:35:55.517952Z",
     "start_time": "2018-10-29T18:35:55.515563Z"
    }
   },
   "outputs": [],
   "source": [
    "data_path = Path('data') # set to e.g. external harddrive\n",
    "itch_store = str(data_path / 'itch.h5')\n",
    "order_book_store = data_path / 'order_book.h5'"
   ]
  },
  {
   "cell_type": "code",
   "execution_count": 3,
   "metadata": {
    "ExecuteTime": {
     "end_time": "2018-10-29T17:09:31.437937Z",
     "start_time": "2018-10-29T17:09:31.432260Z"
    }
   },
   "outputs": [],
   "source": [
    "FTP_URL = 'ftp://emi.nasdaq.com/ITCH/'\n",
    "SOURCE_FILE = '03292018.NASDAQ_ITCH50.gz'"
   ]
  },
  {
   "cell_type": "markdown",
   "metadata": {},
   "source": [
    "### Download & unzip"
   ]
  },
  {
   "cell_type": "code",
   "execution_count": 4,
   "metadata": {
    "ExecuteTime": {
     "end_time": "2018-10-29T17:09:31.449302Z",
     "start_time": "2018-10-29T17:09:31.439709Z"
    }
   },
   "outputs": [],
   "source": [
    "def may_be_download(url):\n",
    "    \"\"\"Download & unzip ITCH data if not yet available\"\"\"\n",
    "    filename = data_path/ url.split('/')[-1]\n",
    "    unzipped = filename.stem + '.bin'\n",
    "    if not filename.exists():\n",
    "        urlretrieve(url, filename)\n",
    "    if not (data_path / unzipped).exists():\n",
    "        with gzip.open(str(filename), 'rb') as f_in:\n",
    "            with open(unzipped, 'wb') as f_out:\n",
    "                shutil.copyfileobj(f_in, f_out)\n",
    "    return unzipped"
   ]
  },
  {
   "cell_type": "code",
   "execution_count": 5,
   "metadata": {
    "ExecuteTime": {
     "end_time": "2018-10-29T17:09:31.459588Z",
     "start_time": "2018-10-29T17:09:31.450361Z"
    },
    "scrolled": true
   },
   "outputs": [],
   "source": [
    "file_name = may_be_download(FTP_URL + SOURCE_FILE)\n",
    "date = file_name.split('.')[0]"
   ]
  },
  {
   "cell_type": "markdown",
   "metadata": {},
   "source": [
    "## ITCH Format Settings"
   ]
  },
  {
   "cell_type": "code",
   "execution_count": 6,
   "metadata": {
    "ExecuteTime": {
     "end_time": "2018-10-29T17:09:31.470388Z",
     "start_time": "2018-10-29T17:09:31.460705Z"
    }
   },
   "outputs": [],
   "source": [
    "event_codes = {'O': 'Start of Messages',\n",
    "               'S': 'Start of System Hours',\n",
    "               'Q': 'Start of Market Hours',\n",
    "               'M': 'End of Market Hours',\n",
    "               'E': 'End of System Hours',\n",
    "               'C': 'End of Messages'}"
   ]
  },
  {
   "cell_type": "code",
   "execution_count": 7,
   "metadata": {
    "ExecuteTime": {
     "end_time": "2018-10-29T17:09:31.486208Z",
     "start_time": "2018-10-29T17:09:31.471651Z"
    }
   },
   "outputs": [],
   "source": [
    "encoding = {'primary_market_maker': {'Y': 1, 'N': 0},\n",
    "            'printable'           : {'Y': 1, 'N': 0},\n",
    "            'buy_sell_indicator'  : {'B': 1, 'S': -1},\n",
    "            'cross_type'          : {'O': 0, 'C': 1, 'H': 2},\n",
    "            'imbalance_direction' : {'B': 0, 'S': 1, 'N': 0, 'O': -1}}"
   ]
  },
  {
   "cell_type": "code",
   "execution_count": 8,
   "metadata": {
    "ExecuteTime": {
     "end_time": "2018-10-29T17:09:31.496783Z",
     "start_time": "2018-10-29T17:09:31.487240Z"
    }
   },
   "outputs": [],
   "source": [
    "formats = {\n",
    "    ('integer', 2): 'H',\n",
    "    ('integer', 4): 'I',\n",
    "    ('integer', 6): '6s',\n",
    "    ('integer', 8): 'Q',\n",
    "    ('alpha', 1)  : 's',\n",
    "    ('alpha', 2)  : '2s',\n",
    "    ('alpha', 4)  : '4s',\n",
    "    ('alpha', 8)  : '8s',\n",
    "    ('price_4', 4): 'I',\n",
    "    ('price_8', 8): 'Q',\n",
    "}"
   ]
  },
  {
   "cell_type": "markdown",
   "metadata": {},
   "source": [
    "### Get message specification"
   ]
  },
  {
   "cell_type": "code",
   "execution_count": 9,
   "metadata": {
    "ExecuteTime": {
     "end_time": "2018-10-29T17:09:31.515505Z",
     "start_time": "2018-10-29T17:09:31.497662Z"
    }
   },
   "outputs": [],
   "source": [
    "# Get ITCH specs and create formatting (type, length) tuples\n",
    "specs = pd.read_csv('message_specs/message_types.csv')\n",
    "specs['formats'] = specs[['value', 'length']].apply(tuple, axis=1).map(formats)"
   ]
  },
  {
   "cell_type": "code",
   "execution_count": 10,
   "metadata": {
    "ExecuteTime": {
     "end_time": "2018-10-29T17:09:31.527531Z",
     "start_time": "2018-10-29T17:09:31.516465Z"
    }
   },
   "outputs": [],
   "source": [
    "# Extract formatting for alphanumerical fields\n",
    "alpha_fields = specs[specs.value == 'alpha'].set_index('name')\n",
    "alpha_msgs = alpha_fields.groupby('message_type')\n",
    "alpha_formats = {k: v.to_dict() for k, v in alpha_msgs.formats}\n",
    "alpha_length = {k: v.add(5).to_dict() for k, v in alpha_msgs.length}"
   ]
  },
  {
   "cell_type": "code",
   "execution_count": 11,
   "metadata": {
    "ExecuteTime": {
     "end_time": "2018-10-29T17:09:31.544394Z",
     "start_time": "2018-10-29T17:09:31.528534Z"
    }
   },
   "outputs": [],
   "source": [
    "# Generate message classes as named tuples and format strings\n",
    "message_fields, fstring = {}, {}\n",
    "for t, message in specs.groupby('message_type'):\n",
    "    message_fields[t] = namedtuple(typename=t, field_names=message.name.tolist())\n",
    "    fstring[t] = '>' + ''.join(message.formats.tolist())"
   ]
  },
  {
   "cell_type": "code",
   "execution_count": 12,
   "metadata": {
    "ExecuteTime": {
     "end_time": "2018-10-29T17:09:31.555018Z",
     "start_time": "2018-10-29T17:09:31.545419Z"
    }
   },
   "outputs": [],
   "source": [
    "def format_alpha(mtype, data):\n",
    "    \"\"\"Process byte strings of type alpha\"\"\"\n",
    "\n",
    "    for col in alpha_formats.get(mtype).keys():\n",
    "        if mtype != 'R' and col == 'stock':\n",
    "            data = data.drop(col, axis=1)\n",
    "            continue\n",
    "        data.loc[:, col] = data.loc[:, col].str.decode(\"utf-8\").str.strip()\n",
    "        if encoding.get(col):\n",
    "            data.loc[:, col] = data.loc[:, col].map(encoding.get(col))\n",
    "    return data"
   ]
  },
  {
   "cell_type": "markdown",
   "metadata": {},
   "source": [
    "## Process Messages"
   ]
  },
  {
   "cell_type": "code",
   "execution_count": 13,
   "metadata": {
    "ExecuteTime": {
     "end_time": "2018-10-29T17:09:31.565408Z",
     "start_time": "2018-10-29T17:09:31.556043Z"
    }
   },
   "outputs": [],
   "source": [
    "def store_messages(m):\n",
    "    \"\"\"Handle occasional storing of all messages\"\"\"\n",
    "    with pd.HDFStore(itch_store) as store:\n",
    "        for mtype, data in m.items():\n",
    "            # convert to DataFrame\n",
    "            data = pd.DataFrame(data)\n",
    "\n",
    "            # parse timestamp info\n",
    "            data.timestamp = data.timestamp.apply(int.from_bytes, byteorder='big')\n",
    "            data.timestamp = pd.to_timedelta(data.timestamp)\n",
    "\n",
    "            # apply alpha formatting\n",
    "            if mtype in alpha_formats.keys():\n",
    "                data = format_alpha(mtype, data)\n",
    "\n",
    "            s = alpha_length.get(mtype)\n",
    "            if s:\n",
    "                s = {c: s.get(c) for c in data.columns}\n",
    "            dc = ['stock_locate']\n",
    "            if m == 'R':\n",
    "                dc.append('stock')\n",
    "            store.append(mtype,\n",
    "                         data,\n",
    "                         format='t',\n",
    "                         min_itemsize=s,\n",
    "                         data_columns=dc)"
   ]
  },
  {
   "cell_type": "code",
   "execution_count": 14,
   "metadata": {
    "ExecuteTime": {
     "end_time": "2018-10-29T17:09:31.576161Z",
     "start_time": "2018-10-29T17:09:31.566511Z"
    }
   },
   "outputs": [],
   "source": [
    "messages = {}\n",
    "message_count = 0\n",
    "message_type_counter = Counter()"
   ]
  },
  {
   "cell_type": "code",
   "execution_count": 15,
   "metadata": {
    "ExecuteTime": {
     "end_time": "2018-10-29T17:49:53.016908Z",
     "start_time": "2018-10-29T17:09:31.577168Z"
    },
    "scrolled": false
   },
   "outputs": [
    {
     "name": "stdout",
     "output_type": "stream",
     "text": [
      "\n",
      " Start of Messages\n",
      "\t3:02:35.269387\t0\n",
      "\n",
      " Start of System Hours\n",
      "\t4:00:00.000184\t227,610\n",
      "\n",
      " Start of Market Hours\n",
      "\t9:30:00.000032\t11,529,493\n",
      "\t9:42:03.570818\t25,000,000\t0:01:49.134681\n",
      "\t10:08:32.211701\t50,000,000\t0:05:09.018245\n",
      "\t10:37:28.259358\t75,000,000\t0:08:21.454919\n",
      "\t11:07:46.775165\t100,000,000\t0:11:33.356573\n",
      "\t11:38:49.824403\t125,000,000\t0:14:49.758422\n",
      "\t12:16:49.624628\t150,000,000\t0:18:04.423731\n",
      "\t13:06:45.578658\t175,000,000\t0:21:20.837394\n",
      "\t13:54:46.034294\t200,000,000\t0:24:34.282908\n",
      "\t14:34:24.393325\t225,000,000\t0:27:50.744248\n",
      "\t15:11:56.187078\t250,000,000\t0:31:06.852861\n",
      "\t15:39:44.531785\t275,000,000\t0:34:24.335833\n",
      "\t15:57:26.138215\t300,000,000\t0:37:44.113658\n",
      "\n",
      " End of Market Hours\n",
      "\t16:00:00.000112\t306,911,501\n",
      "\n",
      " End of System Hours\n",
      "\t20:00:00.000019\t309,491,361\n",
      "\n",
      " End of Messages\n",
      "\t20:05:00.000035\t309,535,654\n",
      "0:40:21.432441\n"
     ]
    }
   ],
   "source": [
    "start = time()\n",
    "with (data_path / file_name).open('rb') as data:\n",
    "    while True:\n",
    "        \n",
    "        # determine message size in bytes\n",
    "        message_size = int.from_bytes(data.read(2), byteorder='big', signed=False)\n",
    "        \n",
    "        # get message type by reading first byte\n",
    "        message_type = data.read(1).decode('ascii')\n",
    "        \n",
    "        # create data structure to capture result\n",
    "        if not messages.get(message_type):\n",
    "            messages[message_type] = []\n",
    "\n",
    "        message_type_counter.update([message_type])\n",
    "\n",
    "        # read & store message\n",
    "        record = data.read(message_size - 1)\n",
    "        message = message_fields[message_type]._make(unpack(fstring[message_type], record))\n",
    "        messages[message_type].append(message)\n",
    "        \n",
    "        # deal with system events\n",
    "        if message_type == 'S':\n",
    "            timestamp = int.from_bytes(message.timestamp, byteorder='big')\n",
    "            print('\\n', event_codes.get(message.event_code.decode('ascii'), 'Error'))\n",
    "            print('\\t{0}\\t{1:,.0f}'.format(timedelta(seconds=timestamp * 1e-9),\n",
    "                                         message_count))\n",
    "            if message.event_code.decode('ascii') == 'C':\n",
    "                store_messages(messages)\n",
    "                break\n",
    "\n",
    "        message_count += 1\n",
    "        if message_count % 2.5e7 == 0:\n",
    "            timestamp = int.from_bytes(message.timestamp, byteorder='big')\n",
    "            print('\\t{0}\\t{1:,.0f}\\t{2}'.format(timedelta(seconds=timestamp * 1e-9),\n",
    "                                                message_count,\n",
    "                                                timedelta(seconds=time() - start)))\n",
    "            store_messages(messages)\n",
    "            messages = {}\n",
    "            \n",
    "        \n",
    "print(timedelta(seconds=time() - start))"
   ]
  },
  {
   "cell_type": "markdown",
   "metadata": {},
   "source": [
    "## Summarize Trading Day"
   ]
  },
  {
   "cell_type": "markdown",
   "metadata": {},
   "source": [
    "### Trading Message Frequency"
   ]
  },
  {
   "cell_type": "code",
   "execution_count": 18,
   "metadata": {
    "ExecuteTime": {
     "end_time": "2018-10-29T17:54:09.803580Z",
     "start_time": "2018-10-29T17:54:09.781688Z"
    }
   },
   "outputs": [
    {
     "data": {
      "text/html": [
       "<div>\n",
       "<style scoped>\n",
       "    .dataframe tbody tr th:only-of-type {\n",
       "        vertical-align: middle;\n",
       "    }\n",
       "\n",
       "    .dataframe tbody tr th {\n",
       "        vertical-align: top;\n",
       "    }\n",
       "\n",
       "    .dataframe thead th {\n",
       "        text-align: right;\n",
       "    }\n",
       "</style>\n",
       "<table border=\"1\" class=\"dataframe\">\n",
       "  <thead>\n",
       "    <tr style=\"text-align: right;\">\n",
       "      <th></th>\n",
       "      <th>message_type</th>\n",
       "      <th>name</th>\n",
       "    </tr>\n",
       "  </thead>\n",
       "  <tbody>\n",
       "    <tr>\n",
       "      <th>0</th>\n",
       "      <td>S</td>\n",
       "      <td>system_event</td>\n",
       "    </tr>\n",
       "    <tr>\n",
       "      <th>1</th>\n",
       "      <td>R</td>\n",
       "      <td>stock_directory</td>\n",
       "    </tr>\n",
       "    <tr>\n",
       "      <th>2</th>\n",
       "      <td>H</td>\n",
       "      <td>stock_trading_action</td>\n",
       "    </tr>\n",
       "    <tr>\n",
       "      <th>3</th>\n",
       "      <td>Y</td>\n",
       "      <td>reg_sho_short_sale_price_test_restricted_indic...</td>\n",
       "    </tr>\n",
       "    <tr>\n",
       "      <th>4</th>\n",
       "      <td>L</td>\n",
       "      <td>market_participant_position</td>\n",
       "    </tr>\n",
       "  </tbody>\n",
       "</table>\n",
       "</div>"
      ],
      "text/plain": [
       "  message_type                                               name\n",
       "0            S                                       system_event\n",
       "1            R                                    stock_directory\n",
       "2            H                               stock_trading_action\n",
       "3            Y  reg_sho_short_sale_price_test_restricted_indic...\n",
       "4            L                        market_participant_position"
      ]
     },
     "execution_count": 18,
     "metadata": {},
     "output_type": "execute_result"
    }
   ],
   "source": [
    "message_labels = pd.read_csv('message_specs/message_labels.csv')\n",
    "message_labels.head()"
   ]
  },
  {
   "cell_type": "code",
   "execution_count": 19,
   "metadata": {
    "ExecuteTime": {
     "end_time": "2018-10-29T17:54:09.822303Z",
     "start_time": "2018-10-29T17:54:09.806099Z"
    }
   },
   "outputs": [
    {
     "name": "stdout",
     "output_type": "stream",
     "text": [
      "                                        Message Type   # Trades\n",
      "A                                  add_order_no_mpid  136522761\n",
      "D                                       order_delete  133811007\n",
      "U                                      order_replace   21941015\n",
      "E                                     order_executed    6687379\n",
      "X                                       order_cancel    5088959\n",
      "F                                     add_order_mpid    2718602\n",
      "I                                               noii    1242461\n",
      "P                                              trade    1120861\n",
      "L                        market_participant_position     201931\n",
      "C                          order_executed_with_price     157442\n",
      "Q                                        cross_trade      17233\n",
      "Y  reg_sho_short_sale_price_test_restricted_indic...       8716\n",
      "H                               stock_trading_action       8649\n",
      "R                                    stock_directory       8613\n",
      "J                                luld_auction_collar         15\n",
      "S                                       system_event          6\n",
      "K                          ipo_quoting_period_update          3\n",
      "V          market_wide_circuit_breaker_decline_level          1\n",
      "B                                       broken_trade          1\n"
     ]
    }
   ],
   "source": [
    "counter = pd.Series(message_type_counter).to_frame('# Trades')\n",
    "counter['Message Type'] = counter.index.map(message_labels.set_index('message_type').name.to_dict())\n",
    "counter = counter[['Message Type', '# Trades']].sort_values('# Trades', ascending=False)\n",
    "print(counter)"
   ]
  },
  {
   "cell_type": "code",
   "execution_count": 20,
   "metadata": {
    "ExecuteTime": {
     "end_time": "2018-10-29T17:54:09.836636Z",
     "start_time": "2018-10-29T17:54:09.823446Z"
    }
   },
   "outputs": [],
   "source": [
    "with pd.HDFStore(itch_store) as store:\n",
    "    store.put('summary', counter)"
   ]
  },
  {
   "cell_type": "markdown",
   "metadata": {},
   "source": [
    "### Top Equities by Traded Value"
   ]
  },
  {
   "cell_type": "code",
   "execution_count": 21,
   "metadata": {
    "ExecuteTime": {
     "end_time": "2018-10-29T17:54:10.846579Z",
     "start_time": "2018-10-29T17:54:09.838103Z"
    }
   },
   "outputs": [
    {
     "data": {
      "image/png": "[encoded data removed]",
      "text/plain": [
       "<Figure size 1008x432 with 1 Axes>"
      ]
     },
     "metadata": {
      "needs_background": "light"
     },
     "output_type": "display_data"
    }
   ],
   "source": [
    "with pd.HDFStore(itch_store) as store:\n",
    "    stocks = store['R'].loc[:, ['stock_locate', 'stock']]\n",
    "    trades = store['P'].append(store['Q'].rename(columns={'cross_price': 'price'}), sort=False).merge(stocks)\n",
    "trades['value'] = trades.shares.mul(trades.price)\n",
    "trades['value_share'] = trades.value.div(trades.value.sum())\n",
    "trade_summary = trades.groupby('stock').value_share.sum().sort_values(ascending=False)\n",
    "trade_summary.iloc[:50].plot.bar(figsize=(14, 6), color='darkblue', title='Share of Traded Value')\n",
    "plt.gca().yaxis.set_major_formatter(FuncFormatter(lambda y, _: '{:.0%}'.format(y)))"
   ]
  },
  {
   "cell_type": "markdown",
   "metadata": {},
   "source": [
    "## Build Order Book"
   ]
  },
  {
   "cell_type": "code",
   "execution_count": 22,
   "metadata": {
    "ExecuteTime": {
     "end_time": "2018-10-29T17:54:10.850213Z",
     "start_time": "2018-10-29T17:54:10.848253Z"
    }
   },
   "outputs": [],
   "source": [
    "stock = 'AAPL'\n",
    "order_dict = {-1: 'sell', 1: 'buy'}"
   ]
  },
  {
   "cell_type": "markdown",
   "metadata": {},
   "source": [
    "### Get all messages for given stock"
   ]
  },
  {
   "cell_type": "code",
   "execution_count": 23,
   "metadata": {
    "ExecuteTime": {
     "end_time": "2018-10-29T17:54:10.862353Z",
     "start_time": "2018-10-29T17:54:10.851679Z"
    }
   },
   "outputs": [],
   "source": [
    "def get_messages(date, stock=stock):\n",
    "    \"\"\"Collect trading messages for given stock\"\"\"\n",
    "    with pd.HDFStore(itch_store) as store:\n",
    "        stock_locate = store.select('R', where='stock = stock').stock_locate.iloc[0]\n",
    "        target = 'stock_locate = stock_locate'\n",
    "\n",
    "        data = {}\n",
    "        # trading message types\n",
    "        messages = ['A', 'F', 'E', 'C', 'X', 'D', 'U', 'P', 'Q']\n",
    "        for m in messages:\n",
    "            data[m] = store.select(m, where=target).drop('stock_locate', axis=1).assign(type=m)\n",
    "\n",
    "    order_cols = ['order_reference_number', 'buy_sell_indicator', 'shares', 'price']\n",
    "    orders = pd.concat([data['A'], data['F']], sort=False, ignore_index=True).loc[:, order_cols]\n",
    "\n",
    "    for m in messages[2: -3]:\n",
    "        data[m] = data[m].merge(orders, how='left')\n",
    "\n",
    "    data['U'] = data['U'].merge(orders, how='left',\n",
    "                                right_on='order_reference_number',\n",
    "                                left_on='original_order_reference_number',\n",
    "                                suffixes=['', '_replaced'])\n",
    "\n",
    "    data['Q'].rename(columns={'cross_price': 'price'}, inplace=True)\n",
    "    data['X']['shares'] = data['X']['cancelled_shares']\n",
    "    data['X'] = data['X'].dropna(subset=['price'])\n",
    "\n",
    "    data = pd.concat([data[m] for m in messages], ignore_index=True, sort=False)\n",
    "    data['date'] = pd.to_datetime(date, format='%m%d%Y')\n",
    "    data.timestamp = data['date'].add(data.timestamp)\n",
    "    data = data[data.printable != 0]\n",
    "\n",
    "    drop_cols = ['tracking_number', 'order_reference_number', 'original_order_reference_number',\n",
    "                 'cross_type', 'new_order_reference_number', 'attribution', 'match_number',\n",
    "                 'printable', 'date', 'cancelled_shares']\n",
    "    return data.drop(drop_cols, axis=1).sort_values('timestamp').reset_index(drop=True)\n"
   ]
  },
  {
   "cell_type": "code",
   "execution_count": 24,
   "metadata": {
    "ExecuteTime": {
     "end_time": "2018-10-29T17:54:29.847248Z",
     "start_time": "2018-10-29T17:54:10.863379Z"
    }
   },
   "outputs": [
    {
     "name": "stdout",
     "output_type": "stream",
     "text": [
      "<class 'pandas.core.frame.DataFrame'>\n",
      "RangeIndex: 1357395 entries, 0 to 1357394\n",
      "Data columns (total 9 columns):\n",
      "timestamp             1357395 non-null datetime64[ns]\n",
      "buy_sell_indicator    1252142 non-null float64\n",
      "shares                1341758 non-null float64\n",
      "price                 1341758 non-null float64\n",
      "type                  1357395 non-null object\n",
      "executed_shares       57831 non-null float64\n",
      "execution_price       1133 non-null float64\n",
      "shares_replaced       15091 non-null float64\n",
      "price_replaced        15091 non-null float64\n",
      "dtypes: datetime64[ns](1), float64(7), object(1)\n",
      "memory usage: 93.2+ MB\n"
     ]
    }
   ],
   "source": [
    "messages = get_messages(date=date)\n",
    "messages.info(null_counts=True)"
   ]
  },
  {
   "cell_type": "code",
   "execution_count": 25,
   "metadata": {
    "ExecuteTime": {
     "end_time": "2018-10-29T17:54:29.943693Z",
     "start_time": "2018-10-29T17:54:29.848179Z"
    }
   },
   "outputs": [
    {
     "name": "stdout",
     "output_type": "stream",
     "text": [
      "<class 'pandas.io.pytables.HDFStore'>\n",
      "File path: order_book.h5\n",
      "/AAPL/messages            frame        (shape->[1357395,9])\n"
     ]
    }
   ],
   "source": [
    "with pd.HDFStore(order_book_store) as store:\n",
    "    key = '{}/messages'.format(stock)\n",
    "    store.put(key, messages)\n",
    "    print(store.info())"
   ]
  },
  {
   "cell_type": "markdown",
   "metadata": {},
   "source": [
    "### Combine Trading Records"
   ]
  },
  {
   "cell_type": "code",
   "execution_count": 26,
   "metadata": {
    "ExecuteTime": {
     "end_time": "2018-10-29T17:54:29.948050Z",
     "start_time": "2018-10-29T17:54:29.944822Z"
    }
   },
   "outputs": [],
   "source": [
    "def get_trades(m):\n",
    "    \"\"\"Combine C, E, P and Q messages into trading records\"\"\"\n",
    "    trade_dict = {'executed_shares': 'shares', 'execution_price': 'price'}\n",
    "    cols = ['timestamp', 'executed_shares']\n",
    "    trades = pd.concat([m.loc[m.type == 'E', cols + ['price']].rename(columns=trade_dict),\n",
    "                        m.loc[m.type == 'C', cols + ['execution_price']].rename(columns=trade_dict),\n",
    "                        m.loc[m.type == 'P', ['timestamp', 'price', 'shares']],\n",
    "                        m.loc[m.type == 'Q', ['timestamp', 'price', 'shares']].assign(cross=1),\n",
    "                        ], sort=False).dropna(subset=['price']).fillna(0)\n",
    "    return trades.set_index('timestamp').sort_index().astype(int)\n"
   ]
  },
  {
   "cell_type": "code",
   "execution_count": 27,
   "metadata": {
    "ExecuteTime": {
     "end_time": "2018-10-29T17:54:30.209077Z",
     "start_time": "2018-10-29T17:54:29.949195Z"
    }
   },
   "outputs": [
    {
     "name": "stdout",
     "output_type": "stream",
     "text": [
      "<class 'pandas.core.frame.DataFrame'>\n",
      "DatetimeIndex: 67699 entries, 2018-03-29 04:03:47.047627992 to 2018-03-29 19:59:09.856377406\n",
      "Data columns (total 3 columns):\n",
      "shares    67699 non-null int64\n",
      "price     67699 non-null int64\n",
      "cross     67699 non-null int64\n",
      "dtypes: int64(3)\n",
      "memory usage: 2.1 MB\n",
      "None\n"
     ]
    }
   ],
   "source": [
    "trades = get_trades(messages)\n",
    "print(trades.info())"
   ]
  },
  {
   "cell_type": "code",
   "execution_count": 28,
   "metadata": {
    "ExecuteTime": {
     "end_time": "2018-10-29T17:54:30.217750Z",
     "start_time": "2018-10-29T17:54:30.210223Z"
    }
   },
   "outputs": [],
   "source": [
    "with pd.HDFStore(order_book_store) as store:\n",
    "    store.put('{}/trades'.format(stock), trades)"
   ]
  },
  {
   "cell_type": "markdown",
   "metadata": {},
   "source": [
    "### Create Orders"
   ]
  },
  {
   "cell_type": "code",
   "execution_count": 29,
   "metadata": {
    "ExecuteTime": {
     "end_time": "2018-10-29T17:54:30.229211Z",
     "start_time": "2018-10-29T17:54:30.218744Z"
    }
   },
   "outputs": [],
   "source": [
    "def add_orders(orders, buysell, nlevels):\n",
    "    \"\"\"Add orders up to desired depth given by nlevels;\n",
    "        sell in ascending, buy in descending order\n",
    "    \"\"\"\n",
    "    new_order = []\n",
    "    items = sorted(orders.copy().items())\n",
    "    if buysell == 1:\n",
    "        items = reversed(items)  \n",
    "    for i, (p, s) in enumerate(items, 1):\n",
    "        new_order.append((p, s))\n",
    "        if i == nlevels:\n",
    "            break\n",
    "    return orders, new_order"
   ]
  },
  {
   "cell_type": "code",
   "execution_count": 30,
   "metadata": {
    "ExecuteTime": {
     "end_time": "2018-10-29T17:54:30.245412Z",
     "start_time": "2018-10-29T17:54:30.230177Z"
    }
   },
   "outputs": [],
   "source": [
    "def save_orders(orders, append=False):\n",
    "    cols = ['price', 'shares']\n",
    "    for buysell, book in orders.items():\n",
    "        df = (pd.concat([pd.DataFrame(data=data,\n",
    "                                     columns=cols)\n",
    "                         .assign(timestamp=t) \n",
    "                         for t, data in book.items()]))\n",
    "        key = '{}/{}'.format(stock, order_dict[buysell])\n",
    "        df.loc[:, ['price', 'shares']] = df.loc[:, ['price', 'shares']].astype(int)\n",
    "        with pd.HDFStore(order_book_store) as store:\n",
    "            if append:\n",
    "                store.append(key, df.set_index('timestamp'), format='t')\n",
    "            else:\n",
    "                store.put(key, df.set_index('timestamp'))"
   ]
  },
  {
   "cell_type": "code",
   "execution_count": 31,
   "metadata": {
    "ExecuteTime": {
     "end_time": "2018-10-29T18:19:54.928753Z",
     "start_time": "2018-10-29T17:54:30.250227Z"
    }
   },
   "outputs": [
    {
     "name": "stdout",
     "output_type": "stream",
     "text": [
      "100,000\t\t0:00:27.887683\n",
      "200,000\t\t0:00:36.111832\n",
      "300,000\t\t0:00:36.785264\n",
      "400,000\t\t0:00:39.715301\n",
      "500,000\t\t0:00:37.832533\n",
      "600,000\t\t0:00:39.072831\n",
      "700,000\t\t0:00:39.357666\n",
      "800,000\t\t0:00:39.408049\n",
      "900,000\t\t0:00:39.724151\n",
      "1,000,000\t\t0:00:39.658365\n",
      "1,100,000\t\t0:00:40.561551\n",
      "1,200,000\t\t0:00:41.503466\n",
      "1,300,000\t\t0:00:51.733224\n"
     ]
    }
   ],
   "source": [
    "order_book = {-1: {}, 1: {}}\n",
    "current_orders = {-1: Counter(), 1: Counter()}\n",
    "message_counter = Counter()\n",
    "nlevels = 100\n",
    "\n",
    "start = time()\n",
    "for message in messages.itertuples():\n",
    "    i = message[0]\n",
    "    if i % 1e5 == 0 and i > 0:\n",
    "        print('{:,.0f}\\t\\t{}'.format(i, timedelta(seconds=time() - start)))\n",
    "        save_orders(order_book, append=True)\n",
    "        order_book = {-1: {}, 1: {}}\n",
    "        start = time()\n",
    "    if np.isnan(message.buy_sell_indicator):\n",
    "        continue\n",
    "    message_counter.update(message.type)\n",
    "\n",
    "    buysell = message.buy_sell_indicator\n",
    "    price, shares = None, None\n",
    "\n",
    "    if message.type in ['A', 'F', 'U']:\n",
    "        price = int(message.price)\n",
    "        shares = int(message.shares)\n",
    "\n",
    "        current_orders[buysell].update({price: shares})\n",
    "        current_orders[buysell], new_order = add_orders(current_orders[buysell], buysell, nlevels)\n",
    "        order_book[buysell][message.timestamp] = new_order\n",
    "\n",
    "    if message.type in ['E', 'C', 'X', 'D', 'U']:\n",
    "        if message.type == 'U':\n",
    "            if not np.isnan(message.shares_replaced):\n",
    "                price = int(message.price_replaced)\n",
    "                shares = -int(message.shares_replaced)\n",
    "        else:\n",
    "            if not np.isnan(message.price):\n",
    "                price = int(message.price)\n",
    "                shares = -int(message.shares)\n",
    "\n",
    "        if price is not None:\n",
    "            current_orders[buysell].update({price: shares})\n",
    "            if current_orders[buysell][price] <= 0:\n",
    "                current_orders[buysell].pop(price)\n",
    "            current_orders[buysell], new_order = add_orders(current_orders[buysell], buysell, nlevels)\n",
    "            order_book[buysell][message.timestamp] = new_order"
   ]
  },
  {
   "cell_type": "code",
   "execution_count": 32,
   "metadata": {
    "ExecuteTime": {
     "end_time": "2018-10-29T18:19:54.932229Z",
     "start_time": "2018-10-29T18:19:54.929716Z"
    }
   },
   "outputs": [
    {
     "name": "stdout",
     "output_type": "stream",
     "text": [
      "A    606940\n",
      "D    551188\n",
      "X      7781\n",
      "P     12612\n",
      "E     53952\n",
      "F      3486\n",
      "U     15091\n",
      "C      1092\n",
      "dtype: int64\n"
     ]
    }
   ],
   "source": [
    "message_counter = pd.Series(message_counter)\n",
    "print(message_counter)"
   ]
  },
  {
   "cell_type": "code",
   "execution_count": 33,
   "metadata": {
    "ExecuteTime": {
     "end_time": "2018-10-29T18:19:54.974192Z",
     "start_time": "2018-10-29T18:19:54.933521Z"
    }
   },
   "outputs": [
    {
     "name": "stdout",
     "output_type": "stream",
     "text": [
      "<class 'pandas.io.pytables.HDFStore'>\n",
      "File path: order_book.h5\n",
      "/AAPL/buy                 frame_table  (typ->appendable,nrows->55188208,ncols->2,indexers->[index])\n",
      "/AAPL/messages            frame        (shape->[1357395,9])                                        \n",
      "/AAPL/sell                frame_table  (typ->appendable,nrows->56808426,ncols->2,indexers->[index])\n",
      "/AAPL/trades              frame        (shape->[67699,3])                                          \n"
     ]
    }
   ],
   "source": [
    "with pd.HDFStore('order_book.h5') as store:\n",
    "    print(store.info())"
   ]
  }
 ],
 "metadata": {
  "kernelspec": {
   "display_name": "Python 3",
   "language": "python",
   "name": "python3"
  },
  "language_info": {
   "codemirror_mode": {
    "name": "ipython",
    "version": 3
   },
   "file_extension": ".py",
   "mimetype": "text/x-python",
   "name": "python",
   "nbconvert_exporter": "python",
   "pygments_lexer": "ipython3",
   "version": "3.6.4"
  },
  "toc": {
   "base_numbering": 1,
   "nav_menu": {},
   "number_sections": true,
   "sideBar": true,
   "skip_h1_title": false,
   "title_cell": "Table of Contents",
   "title_sidebar": "Contents",
   "toc_cell": false,
   "toc_position": {
    "height": "calc(100% - 180px)",
    "left": "10px",
    "top": "150px",
    "width": "512px"
   },
   "toc_section_display": true,
   "toc_window_display": true
  }
 },
 "nbformat": 4,
 "nbformat_minor": 2
}
