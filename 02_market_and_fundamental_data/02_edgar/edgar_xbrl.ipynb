{
 "cells": [
  {
   "cell_type": "code",
   "execution_count": 36,
   "metadata": {
    "ExecuteTime": {
     "end_time": "2018-10-29T19:00:18.882629Z",
     "start_time": "2018-10-29T19:00:18.871151Z"
    },
    "scrolled": true
   },
   "outputs": [],
   "source": [
    "from io import BytesIO\n",
    "from zipfile import ZipFile, BadZipFile\n",
    "import requests\n",
    "from datetime import date, datetime\n",
    "from pathlib import Path\n",
    "import pandas as pd\n",
    "import json\n",
    "import re\n",
    "from pprint import pprint\n",
    "from bs4 import BeautifulSoup\n",
    "from collections import Counter\n",
    "import matplotlib.pyplot as plt"
   ]
  },
  {
   "cell_type": "code",
   "execution_count": 37,
   "metadata": {
    "ExecuteTime": {
     "end_time": "2018-10-29T19:00:19.293319Z",
     "start_time": "2018-10-29T19:00:19.289358Z"
    },
    "scrolled": true
   },
   "outputs": [],
   "source": [
    "plt.style.use('fivethirtyeight')\n",
    "data_path = Path('data')"
   ]
  },
  {
   "cell_type": "code",
   "execution_count": 38,
   "metadata": {
    "ExecuteTime": {
     "end_time": "2018-10-29T19:00:22.490675Z",
     "start_time": "2018-10-29T19:00:22.487288Z"
    }
   },
   "outputs": [
    {
     "data": {
      "text/plain": [
       "PosixPath('data')"
      ]
     },
     "execution_count": 38,
     "metadata": {},
     "output_type": "execute_result"
    }
   ],
   "source": [
    "data_path"
   ]
  },
  {
   "cell_type": "code",
   "execution_count": 43,
   "metadata": {
    "ExecuteTime": {
     "end_time": "2018-10-29T19:01:17.203241Z",
     "start_time": "2018-10-29T19:01:17.200149Z"
    }
   },
   "outputs": [
    {
     "data": {
      "text/plain": [
       "PosixPath('data/2018')"
      ]
     },
     "execution_count": 43,
     "metadata": {},
     "output_type": "execute_result"
    }
   ],
   "source": [
    "(data_path / '2018' / 'source' / 'file.parquet').parents[1]"
   ]
  },
  {
   "cell_type": "markdown",
   "metadata": {},
   "source": [
    "### Dowload FS & Notes"
   ]
  },
  {
   "cell_type": "code",
   "execution_count": 3,
   "metadata": {
    "ExecuteTime": {
     "end_time": "2018-10-29T17:49:35.266948Z",
     "start_time": "2018-10-29T17:36:22.138151Z"
    },
    "scrolled": false
   },
   "outputs": [
    {
     "name": "stdout",
     "output_type": "stream",
     "text": [
      "2014 1\n",
      "2014 2\n",
      "2014 3\n",
      "2014 4\n",
      "2015 1\n",
      "2015 2\n",
      "2015 3\n",
      "2015 4\n",
      "2016 1\n",
      "2016 2\n",
      "2016 3\n",
      "2016 4\n",
      "2017 1\n",
      "2017 2\n",
      "2017 3\n",
      "2017 4\n",
      "2018 1\n",
      "2018 2\n",
      "2018 3\n",
      "2018 4\n"
     ]
    },
    {
     "ename": "BadZipFile",
     "evalue": "File is not a zip file",
     "output_type": "error",
     "traceback": [
      "\u001b[0;31m---------------------------------------------------------------------------\u001b[0m",
      "\u001b[0;31mBadZipFile\u001b[0m                                Traceback (most recent call last)",
      "\u001b[0;32m<ipython-input-3-a160627f10c6>\u001b[0m in \u001b[0;36m<module>\u001b[0;34m()\u001b[0m\n\u001b[1;32m     16\u001b[0m \u001b[0;34m\u001b[0m\u001b[0m\n\u001b[1;32m     17\u001b[0m     \u001b[0mresp\u001b[0m \u001b[0;34m=\u001b[0m \u001b[0mrequests\u001b[0m\u001b[0;34m.\u001b[0m\u001b[0mget\u001b[0m\u001b[0;34m(\u001b[0m\u001b[0mSEC_URL\u001b[0m \u001b[0;34m+\u001b[0m \u001b[0mfiling\u001b[0m\u001b[0;34m)\u001b[0m\u001b[0;34m.\u001b[0m\u001b[0mcontent\u001b[0m\u001b[0;34m\u001b[0m\u001b[0m\n\u001b[0;32m---> 18\u001b[0;31m     \u001b[0;32mwith\u001b[0m \u001b[0mZipFile\u001b[0m\u001b[0;34m(\u001b[0m\u001b[0mBytesIO\u001b[0m\u001b[0;34m(\u001b[0m\u001b[0mresp\u001b[0m\u001b[0;34m)\u001b[0m\u001b[0;34m)\u001b[0m \u001b[0;32mas\u001b[0m \u001b[0mzip_file\u001b[0m\u001b[0;34m:\u001b[0m\u001b[0;34m\u001b[0m\u001b[0m\n\u001b[0m\u001b[1;32m     19\u001b[0m         \u001b[0;32mfor\u001b[0m \u001b[0mfile\u001b[0m \u001b[0;32min\u001b[0m \u001b[0mzip_file\u001b[0m\u001b[0;34m.\u001b[0m\u001b[0mnamelist\u001b[0m\u001b[0;34m(\u001b[0m\u001b[0;34m)\u001b[0m\u001b[0;34m:\u001b[0m\u001b[0;34m\u001b[0m\u001b[0m\n\u001b[1;32m     20\u001b[0m             \u001b[0mlocal_file\u001b[0m \u001b[0;34m=\u001b[0m \u001b[0mpath\u001b[0m \u001b[0;34m/\u001b[0m \u001b[0mfile\u001b[0m\u001b[0;34m\u001b[0m\u001b[0m\n",
      "\u001b[0;32m~/.pyenv/versions/3.6.4/lib/python3.6/zipfile.py\u001b[0m in \u001b[0;36m__init__\u001b[0;34m(self, file, mode, compression, allowZip64)\u001b[0m\n\u001b[1;32m   1106\u001b[0m         \u001b[0;32mtry\u001b[0m\u001b[0;34m:\u001b[0m\u001b[0;34m\u001b[0m\u001b[0m\n\u001b[1;32m   1107\u001b[0m             \u001b[0;32mif\u001b[0m \u001b[0mmode\u001b[0m \u001b[0;34m==\u001b[0m \u001b[0;34m'r'\u001b[0m\u001b[0;34m:\u001b[0m\u001b[0;34m\u001b[0m\u001b[0m\n\u001b[0;32m-> 1108\u001b[0;31m                 \u001b[0mself\u001b[0m\u001b[0;34m.\u001b[0m\u001b[0m_RealGetContents\u001b[0m\u001b[0;34m(\u001b[0m\u001b[0;34m)\u001b[0m\u001b[0;34m\u001b[0m\u001b[0m\n\u001b[0m\u001b[1;32m   1109\u001b[0m             \u001b[0;32melif\u001b[0m \u001b[0mmode\u001b[0m \u001b[0;32min\u001b[0m \u001b[0;34m(\u001b[0m\u001b[0;34m'w'\u001b[0m\u001b[0;34m,\u001b[0m \u001b[0;34m'x'\u001b[0m\u001b[0;34m)\u001b[0m\u001b[0;34m:\u001b[0m\u001b[0;34m\u001b[0m\u001b[0m\n\u001b[1;32m   1110\u001b[0m                 \u001b[0;31m# set the modified flag so central directory gets written\u001b[0m\u001b[0;34m\u001b[0m\u001b[0;34m\u001b[0m\u001b[0m\n",
      "\u001b[0;32m~/.pyenv/versions/3.6.4/lib/python3.6/zipfile.py\u001b[0m in \u001b[0;36m_RealGetContents\u001b[0;34m(self)\u001b[0m\n\u001b[1;32m   1173\u001b[0m             \u001b[0;32mraise\u001b[0m \u001b[0mBadZipFile\u001b[0m\u001b[0;34m(\u001b[0m\u001b[0;34m\"File is not a zip file\"\u001b[0m\u001b[0;34m)\u001b[0m\u001b[0;34m\u001b[0m\u001b[0m\n\u001b[1;32m   1174\u001b[0m         \u001b[0;32mif\u001b[0m \u001b[0;32mnot\u001b[0m \u001b[0mendrec\u001b[0m\u001b[0;34m:\u001b[0m\u001b[0;34m\u001b[0m\u001b[0m\n\u001b[0;32m-> 1175\u001b[0;31m             \u001b[0;32mraise\u001b[0m \u001b[0mBadZipFile\u001b[0m\u001b[0;34m(\u001b[0m\u001b[0;34m\"File is not a zip file\"\u001b[0m\u001b[0;34m)\u001b[0m\u001b[0;34m\u001b[0m\u001b[0m\n\u001b[0m\u001b[1;32m   1176\u001b[0m         \u001b[0;32mif\u001b[0m \u001b[0mself\u001b[0m\u001b[0;34m.\u001b[0m\u001b[0mdebug\u001b[0m \u001b[0;34m>\u001b[0m \u001b[0;36m1\u001b[0m\u001b[0;34m:\u001b[0m\u001b[0;34m\u001b[0m\u001b[0m\n\u001b[1;32m   1177\u001b[0m             \u001b[0mprint\u001b[0m\u001b[0;34m(\u001b[0m\u001b[0mendrec\u001b[0m\u001b[0;34m)\u001b[0m\u001b[0;34m\u001b[0m\u001b[0m\n",
      "\u001b[0;31mBadZipFile\u001b[0m: File is not a zip file"
     ]
    }
   ],
   "source": [
    "SEC_URL = 'https://www.sec.gov/files/dera/data/financial-statement-and-notes-data-sets/'\n",
    "\n",
    "today = pd.Timestamp(date.today())\n",
    "this_year = today.year\n",
    "this_quarter = today.quarter\n",
    "\n",
    "past_years = range(2014, this_year)\n",
    "filing_periods = [(y, q) for y in past_years for q in range(1, 5)]\n",
    "filing_periods.extend([(this_year, q) for q in range(1, this_quarter + 1)])\n",
    "for i, (yr, qtr) in enumerate(filing_periods, 1):\n",
    "    print(yr, qtr, end=' ', )\n",
    "    filing = f'{yr}q{qtr}_notes.zip'\n",
    "    path = data_path / f'{yr}_{qtr}' / 'source'\n",
    "    if not path.exists():\n",
    "        path.mkdir(exist_ok=True, parents=True)\n",
    "\n",
    "    resp = requests.get(SEC_URL + filing).content\n",
    "    \n",
    "    try:\n",
    "        with ZipFile(BytesIO(resp)) as zip_file:\n",
    "            for file in zip_file.namelist():\n",
    "                local_file = path / file\n",
    "                with local_file.open('wb') as output:\n",
    "                    for line in zip_file.open(file).readlines():\n",
    "                        output.write(line)\n",
    "    except BadZipFile:\n",
    "        continue"
   ]
  },
  {
   "cell_type": "markdown",
   "metadata": {},
   "source": [
    "### Save to parquet"
   ]
  },
  {
   "cell_type": "code",
   "execution_count": 8,
   "metadata": {
    "ExecuteTime": {
     "end_time": "2018-10-29T18:11:06.566547Z",
     "start_time": "2018-10-29T18:01:57.249096Z"
    },
    "scrolled": true
   },
   "outputs": [
    {
     "name": "stdout",
     "output_type": "stream",
     "text": [
      "edgar/2017_1/tag.tsv\n",
      "edgar/2015_4/txt.tsv\n",
      "edgar/2016_1/txt.tsv\n",
      "edgar/2015_3/txt.tsv\n",
      "edgar/2017_2/tag.tsv\n",
      "edgar/2015_1/txt.tsv\n",
      "edgar/2016_3/tag.tsv\n",
      "edgar/2017_4/tag.tsv\n",
      "edgar/2014_4/txt.tsv\n",
      "edgar/2014_1/txt.tsv\n",
      "edgar/2014_2/txt.tsv\n",
      "edgar/2015_2/txt.tsv\n",
      "edgar/2014_3/txt.tsv\n"
     ]
    }
   ],
   "source": [
    "for f in data_path.glob('**/*.tsv'):\n",
    "    file_name = f.stem  + '.parquet'\n",
    "    path = Path(f.parent) / 'parquet'\n",
    "    if (path / file_name).exists():\n",
    "        continue\n",
    "    if not path.exists():\n",
    "        path.mkdir(exist_ok=True)\n",
    "    try:\n",
    "        df = pd.read_csv(f, sep='\\t', encoding='latin1', low_memory=False)\n",
    "    except:\n",
    "        print(f)\n",
    "    df.to_parquet(path / file_name)"
   ]
  },
  {
   "cell_type": "markdown",
   "metadata": {},
   "source": [
    "### Metadata json"
   ]
  },
  {
   "cell_type": "code",
   "execution_count": 13,
   "metadata": {
    "ExecuteTime": {
     "end_time": "2018-10-29T18:13:11.329582Z",
     "start_time": "2018-10-29T18:13:11.319387Z"
    },
    "scrolled": true
   },
   "outputs": [
    {
     "ename": "FileNotFoundError",
     "evalue": "[Errno 2] No such file or directory: 'edgar/2018_3/2018q1_notes-metadata.json'",
     "output_type": "error",
     "traceback": [
      "\u001b[0;31m---------------------------------------------------------------------------\u001b[0m",
      "\u001b[0;31mFileNotFoundError\u001b[0m                         Traceback (most recent call last)",
      "\u001b[0;32m<ipython-input-13-32673df69e83>\u001b[0m in \u001b[0;36m<module>\u001b[0;34m()\u001b[0m\n\u001b[1;32m      1\u001b[0m \u001b[0mfile\u001b[0m \u001b[0;34m=\u001b[0m \u001b[0medgar_path\u001b[0m \u001b[0;34m/\u001b[0m \u001b[0;34m'2018_3'\u001b[0m \u001b[0;34m/\u001b[0m \u001b[0;34m'2018q1_notes-metadata.json'\u001b[0m\u001b[0;34m\u001b[0m\u001b[0m\n\u001b[0;32m----> 2\u001b[0;31m \u001b[0;32mwith\u001b[0m \u001b[0mfile\u001b[0m\u001b[0;34m.\u001b[0m\u001b[0mopen\u001b[0m\u001b[0;34m(\u001b[0m\u001b[0;34m)\u001b[0m \u001b[0;32mas\u001b[0m \u001b[0mf\u001b[0m\u001b[0;34m:\u001b[0m\u001b[0;34m\u001b[0m\u001b[0m\n\u001b[0m\u001b[1;32m      3\u001b[0m     \u001b[0mdata\u001b[0m \u001b[0;34m=\u001b[0m \u001b[0mjson\u001b[0m\u001b[0;34m.\u001b[0m\u001b[0mload\u001b[0m\u001b[0;34m(\u001b[0m\u001b[0mf\u001b[0m\u001b[0;34m)\u001b[0m\u001b[0;34m\u001b[0m\u001b[0m\n\u001b[1;32m      4\u001b[0m \u001b[0;34m\u001b[0m\u001b[0m\n\u001b[1;32m      5\u001b[0m \u001b[0mpprint\u001b[0m\u001b[0;34m(\u001b[0m\u001b[0mdata\u001b[0m\u001b[0;34m)\u001b[0m\u001b[0;34m\u001b[0m\u001b[0m\n",
      "\u001b[0;32m~/.pyenv/versions/3.6.4/lib/python3.6/pathlib.py\u001b[0m in \u001b[0;36mopen\u001b[0;34m(self, mode, buffering, encoding, errors, newline)\u001b[0m\n\u001b[1;32m   1159\u001b[0m             \u001b[0mself\u001b[0m\u001b[0;34m.\u001b[0m\u001b[0m_raise_closed\u001b[0m\u001b[0;34m(\u001b[0m\u001b[0;34m)\u001b[0m\u001b[0;34m\u001b[0m\u001b[0m\n\u001b[1;32m   1160\u001b[0m         return io.open(str(self), mode, buffering, encoding, errors, newline,\n\u001b[0;32m-> 1161\u001b[0;31m                        opener=self._opener)\n\u001b[0m\u001b[1;32m   1162\u001b[0m \u001b[0;34m\u001b[0m\u001b[0m\n\u001b[1;32m   1163\u001b[0m     \u001b[0;32mdef\u001b[0m \u001b[0mread_bytes\u001b[0m\u001b[0;34m(\u001b[0m\u001b[0mself\u001b[0m\u001b[0;34m)\u001b[0m\u001b[0;34m:\u001b[0m\u001b[0;34m\u001b[0m\u001b[0m\n",
      "\u001b[0;32m~/.pyenv/versions/3.6.4/lib/python3.6/pathlib.py\u001b[0m in \u001b[0;36m_opener\u001b[0;34m(self, name, flags, mode)\u001b[0m\n\u001b[1;32m   1013\u001b[0m     \u001b[0;32mdef\u001b[0m \u001b[0m_opener\u001b[0m\u001b[0;34m(\u001b[0m\u001b[0mself\u001b[0m\u001b[0;34m,\u001b[0m \u001b[0mname\u001b[0m\u001b[0;34m,\u001b[0m \u001b[0mflags\u001b[0m\u001b[0;34m,\u001b[0m \u001b[0mmode\u001b[0m\u001b[0;34m=\u001b[0m\u001b[0;36m0o666\u001b[0m\u001b[0;34m)\u001b[0m\u001b[0;34m:\u001b[0m\u001b[0;34m\u001b[0m\u001b[0m\n\u001b[1;32m   1014\u001b[0m         \u001b[0;31m# A stub for the opener argument to built-in open()\u001b[0m\u001b[0;34m\u001b[0m\u001b[0;34m\u001b[0m\u001b[0m\n\u001b[0;32m-> 1015\u001b[0;31m         \u001b[0;32mreturn\u001b[0m \u001b[0mself\u001b[0m\u001b[0;34m.\u001b[0m\u001b[0m_accessor\u001b[0m\u001b[0;34m.\u001b[0m\u001b[0mopen\u001b[0m\u001b[0;34m(\u001b[0m\u001b[0mself\u001b[0m\u001b[0;34m,\u001b[0m \u001b[0mflags\u001b[0m\u001b[0;34m,\u001b[0m \u001b[0mmode\u001b[0m\u001b[0;34m)\u001b[0m\u001b[0;34m\u001b[0m\u001b[0m\n\u001b[0m\u001b[1;32m   1016\u001b[0m \u001b[0;34m\u001b[0m\u001b[0m\n\u001b[1;32m   1017\u001b[0m     \u001b[0;32mdef\u001b[0m \u001b[0m_raw_open\u001b[0m\u001b[0;34m(\u001b[0m\u001b[0mself\u001b[0m\u001b[0;34m,\u001b[0m \u001b[0mflags\u001b[0m\u001b[0;34m,\u001b[0m \u001b[0mmode\u001b[0m\u001b[0;34m=\u001b[0m\u001b[0;36m0o777\u001b[0m\u001b[0;34m)\u001b[0m\u001b[0;34m:\u001b[0m\u001b[0;34m\u001b[0m\u001b[0m\n",
      "\u001b[0;32m~/.pyenv/versions/3.6.4/lib/python3.6/pathlib.py\u001b[0m in \u001b[0;36mwrapped\u001b[0;34m(pathobj, *args)\u001b[0m\n\u001b[1;32m    385\u001b[0m         \u001b[0;34m@\u001b[0m\u001b[0mfunctools\u001b[0m\u001b[0;34m.\u001b[0m\u001b[0mwraps\u001b[0m\u001b[0;34m(\u001b[0m\u001b[0mstrfunc\u001b[0m\u001b[0;34m)\u001b[0m\u001b[0;34m\u001b[0m\u001b[0m\n\u001b[1;32m    386\u001b[0m         \u001b[0;32mdef\u001b[0m \u001b[0mwrapped\u001b[0m\u001b[0;34m(\u001b[0m\u001b[0mpathobj\u001b[0m\u001b[0;34m,\u001b[0m \u001b[0;34m*\u001b[0m\u001b[0margs\u001b[0m\u001b[0;34m)\u001b[0m\u001b[0;34m:\u001b[0m\u001b[0;34m\u001b[0m\u001b[0m\n\u001b[0;32m--> 387\u001b[0;31m             \u001b[0;32mreturn\u001b[0m \u001b[0mstrfunc\u001b[0m\u001b[0;34m(\u001b[0m\u001b[0mstr\u001b[0m\u001b[0;34m(\u001b[0m\u001b[0mpathobj\u001b[0m\u001b[0;34m)\u001b[0m\u001b[0;34m,\u001b[0m \u001b[0;34m*\u001b[0m\u001b[0margs\u001b[0m\u001b[0;34m)\u001b[0m\u001b[0;34m\u001b[0m\u001b[0m\n\u001b[0m\u001b[1;32m    388\u001b[0m         \u001b[0;32mreturn\u001b[0m \u001b[0mstaticmethod\u001b[0m\u001b[0;34m(\u001b[0m\u001b[0mwrapped\u001b[0m\u001b[0;34m)\u001b[0m\u001b[0;34m\u001b[0m\u001b[0m\n\u001b[1;32m    389\u001b[0m \u001b[0;34m\u001b[0m\u001b[0m\n",
      "\u001b[0;31mFileNotFoundError\u001b[0m: [Errno 2] No such file or directory: 'edgar/2018_3/2018q1_notes-metadata.json'"
     ]
    }
   ],
   "source": [
    "file = edgar_path / '2018_3' / '2018q1_notes-metadata.json'\n",
    "with file.open() as f:\n",
    "    data = json.load(f)\n",
    "\n",
    "pprint(data)"
   ]
  },
  {
   "cell_type": "markdown",
   "metadata": {},
   "source": [
    "### Submission Data\n",
    "Get latest submission file"
   ]
  },
  {
   "cell_type": "code",
   "execution_count": 15,
   "metadata": {
    "ExecuteTime": {
     "end_time": "2018-10-29T18:14:00.257384Z",
     "start_time": "2018-10-29T18:14:00.225344Z"
    },
    "scrolled": true
   },
   "outputs": [],
   "source": [
    "sub = pd.read_parquet(edgar_path / '2018_3' / 'parquet' / 'sub.parquet')"
   ]
  },
  {
   "cell_type": "markdown",
   "metadata": {},
   "source": [
    "#### Get AAPL submission"
   ]
  },
  {
   "cell_type": "code",
   "execution_count": 16,
   "metadata": {
    "ExecuteTime": {
     "end_time": "2018-10-29T18:14:04.201647Z",
     "start_time": "2018-10-29T18:14:04.191032Z"
    },
    "scrolled": true
   },
   "outputs": [
    {
     "data": {
      "text/plain": [
       "name                    APPLE INC\n",
       "adsh         0000320193-18-000100\n",
       "cik                        320193\n",
       "name                    APPLE INC\n",
       "sic                          3571\n",
       "countryba                      US\n",
       "stprba                         CA\n",
       "cityba                  CUPERTINO\n",
       "zipba                       95014\n",
       "bas1           ONE APPLE PARK WAY\n",
       "form                         10-Q\n",
       "period                   20180630\n",
       "fy                           2018\n",
       "fp                             Q3\n",
       "filed                    20180801\n",
       "Name: 386, dtype: object"
      ]
     },
     "execution_count": 16,
     "metadata": {},
     "output_type": "execute_result"
    }
   ],
   "source": [
    "name = 'APPLE INC'\n",
    "apple = sub[sub.name == name].T.dropna().squeeze()\n",
    "key_cols = ['name', 'adsh', 'cik', 'name', 'sic', 'countryba', 'stprba',\n",
    "            'cityba', 'zipba', 'bas1', 'form', 'period', 'fy', 'fp', 'filed']\n",
    "apple.loc[key_cols]"
   ]
  },
  {
   "cell_type": "markdown",
   "metadata": {},
   "source": [
    "### Build AAPL fundamentals dataset"
   ]
  },
  {
   "cell_type": "markdown",
   "metadata": {},
   "source": [
    "#### Get filings"
   ]
  },
  {
   "cell_type": "code",
   "execution_count": 20,
   "metadata": {
    "ExecuteTime": {
     "end_time": "2018-10-29T18:14:28.857602Z",
     "start_time": "2018-10-29T18:14:28.433218Z"
    },
    "scrolled": true
   },
   "outputs": [],
   "source": [
    "aapl_subs = pd.DataFrame()\n",
    "for sub in edgar_path.glob('**/sub.parquet'):\n",
    "    sub = pd.read_parquet(sub)\n",
    "    aapl_sub = sub[(sub.cik.astype(int) == apple.cik) & (sub.form.isin(['10-Q', '10-K']))]\n",
    "    aapl_subs = pd.concat([aapl_subs, aapl_sub])"
   ]
  },
  {
   "cell_type": "code",
   "execution_count": 22,
   "metadata": {
    "ExecuteTime": {
     "end_time": "2018-10-29T18:14:32.265782Z",
     "start_time": "2018-10-29T18:14:32.261905Z"
    },
    "scrolled": true
   },
   "outputs": [
    {
     "data": {
      "text/plain": [
       "10-Q    15\n",
       "10-K     4\n",
       "Name: form, dtype: int64"
      ]
     },
     "execution_count": 22,
     "metadata": {},
     "output_type": "execute_result"
    }
   ],
   "source": [
    "aapl_subs.form.value_counts()"
   ]
  },
  {
   "cell_type": "markdown",
   "metadata": {},
   "source": [
    "#### Get numerical filing data"
   ]
  },
  {
   "cell_type": "code",
   "execution_count": 23,
   "metadata": {
    "ExecuteTime": {
     "end_time": "2018-10-29T18:15:53.299239Z",
     "start_time": "2018-10-29T18:14:42.268706Z"
    },
    "scrolled": true
   },
   "outputs": [
    {
     "name": "stdout",
     "output_type": "stream",
     "text": [
      "738\n",
      "1345\n",
      "707\n",
      "961\n",
      "1001\n",
      "905\n",
      "951\n",
      "1277\n",
      "937\n",
      "751\n",
      "923\n",
      "793\n",
      "1364\n",
      "1271\n",
      "682\n",
      "805\n",
      "942\n",
      "919\n",
      "952\n",
      "<class 'pandas.core.frame.DataFrame'>\n",
      "Int64Index: 18224 entries, 84837 to 5467444\n",
      "Data columns (total 16 columns):\n",
      "adsh        18224 non-null object\n",
      "tag         18224 non-null object\n",
      "version     18224 non-null object\n",
      "ddate       18224 non-null datetime64[ns]\n",
      "qtrs        18224 non-null int64\n",
      "uom         18224 non-null object\n",
      "dimh        18224 non-null object\n",
      "iprx        18224 non-null float64\n",
      "value       18176 non-null float64\n",
      "footnote    68 non-null object\n",
      "footlen     18224 non-null int64\n",
      "dimn        18224 non-null int64\n",
      "coreg       0 non-null object\n",
      "durp        18224 non-null float64\n",
      "datp        18224 non-null float64\n",
      "dcml        18224 non-null float64\n",
      "dtypes: datetime64[ns](1), float64(5), int64(3), object(7)\n",
      "memory usage: 2.4+ MB\n"
     ]
    }
   ],
   "source": [
    "aapl_nums = pd.DataFrame()\n",
    "for num in edgar_path.glob('**/num.parquet'):\n",
    "    num = pd.read_parquet(num)\n",
    "    aapl_num = num[num.adsh.isin(aapl_subs.adsh)]\n",
    "    print(len(aapl_num))\n",
    "    aapl_nums = pd.concat([aapl_nums, aapl_num])\n",
    "\n",
    "aapl_nums.ddate = pd.to_datetime(aapl_nums.ddate, format='%Y%m%d')    \n",
    "aapl_nums.to_parquet('aapl_nums.parquet')\n",
    "aapl_nums.info()"
   ]
  },
  {
   "cell_type": "code",
   "execution_count": 24,
   "metadata": {
    "ExecuteTime": {
     "end_time": "2018-10-29T18:15:53.326580Z",
     "start_time": "2018-10-29T18:15:53.300835Z"
    },
    "scrolled": true
   },
   "outputs": [
    {
     "name": "stdout",
     "output_type": "stream",
     "text": [
      "<class 'pandas.core.frame.DataFrame'>\n",
      "Int64Index: 18224 entries, 84837 to 5467444\n",
      "Data columns (total 16 columns):\n",
      "adsh        18224 non-null object\n",
      "tag         18224 non-null object\n",
      "version     18224 non-null object\n",
      "ddate       18224 non-null datetime64[ns]\n",
      "qtrs        18224 non-null int64\n",
      "uom         18224 non-null object\n",
      "dimh        18224 non-null object\n",
      "iprx        18224 non-null float64\n",
      "value       18176 non-null float64\n",
      "footnote    68 non-null object\n",
      "footlen     18224 non-null int64\n",
      "dimn        18224 non-null int64\n",
      "coreg       0 non-null object\n",
      "durp        18224 non-null float64\n",
      "datp        18224 non-null float64\n",
      "dcml        18224 non-null float64\n",
      "dtypes: datetime64[ns](1), float64(5), int64(3), object(7)\n",
      "memory usage: 2.4+ MB\n"
     ]
    }
   ],
   "source": [
    "aapl_nums = pd.read_parquet('aapl_nums.parquet')\n",
    "aapl_nums.ddate = pd.to_datetime(aapl_nums.ddate, format='%Y%m%d')\n",
    "aapl_nums.info()"
   ]
  },
  {
   "cell_type": "markdown",
   "metadata": {},
   "source": [
    "#### Build time series for selected metrics"
   ]
  },
  {
   "cell_type": "code",
   "execution_count": 26,
   "metadata": {
    "ExecuteTime": {
     "end_time": "2018-10-29T18:17:04.206982Z",
     "start_time": "2018-10-29T18:17:04.197962Z"
    }
   },
   "outputs": [
    {
     "data": {
      "text/plain": [
       "Timestamp('2014-06-04 00:00:00')"
      ]
     },
     "execution_count": 26,
     "metadata": {},
     "output_type": "execute_result"
    }
   ],
   "source": [
    "stock_split = 7\n",
    "split_date = pd.to_datetime('20140604')\n",
    "split_date"
   ]
  },
  {
   "cell_type": "code",
   "execution_count": 27,
   "metadata": {
    "ExecuteTime": {
     "end_time": "2018-10-29T18:17:05.599731Z",
     "start_time": "2018-10-29T18:17:05.279629Z"
    }
   },
   "outputs": [
    {
     "data": {
      "image/png": "[encoded data removed]",
      "text/plain": [
       "<Figure size 1008x432 with 1 Axes>"
      ]
     },
     "metadata": {},
     "output_type": "display_data"
    }
   ],
   "source": [
    "eps = aapl_nums[(aapl_nums.tag == 'EarningsPerShareDiluted')\n",
    "                & (aapl_nums.qtrs == 1)].drop('tag', axis=1)\n",
    "eps = eps.groupby('adsh').apply(lambda x: x.nlargest(n=1, columns=['ddate']))\n",
    "eps.loc[eps.ddate < split_date,'value'] = eps.loc[eps.ddate < split_date, 'value'].div(7)\n",
    "eps = eps[['ddate', 'value']].set_index('ddate').squeeze()\n",
    "eps = eps.rolling(4).sum().dropna()\n",
    "eps.plot(lw=2, figsize=(14, 6), title='Diluted Earnings per Share')\n",
    "plt.xlabel('');"
   ]
  },
  {
   "cell_type": "code",
   "execution_count": 28,
   "metadata": {
    "ExecuteTime": {
     "end_time": "2018-10-29T18:17:13.681140Z",
     "start_time": "2018-10-29T18:17:12.880394Z"
    }
   },
   "outputs": [
    {
     "name": "stdout",
     "output_type": "stream",
     "text": [
      "<class 'pandas.core.frame.DataFrame'>\n",
      "DatetimeIndex: 3222 entries, 2009-06-01 to 2018-03-27\n",
      "Freq: D\n",
      "Data columns (total 12 columns):\n",
      "Open          2220 non-null float64\n",
      "High          2220 non-null float64\n",
      "Low           2220 non-null float64\n",
      "Close         2220 non-null float64\n",
      "Volume        2220 non-null float64\n",
      "ExDividend    2220 non-null float64\n",
      "SplitRatio    2220 non-null float64\n",
      "AdjOpen       2220 non-null float64\n",
      "AdjHigh       2220 non-null float64\n",
      "AdjLow        2220 non-null float64\n",
      "AdjClose      2220 non-null float64\n",
      "AdjVolume     2220 non-null float64\n",
      "dtypes: float64(12)\n",
      "memory usage: 327.2 KB\n"
     ]
    }
   ],
   "source": [
    "import pandas_datareader.data as web\n",
    "import datetime\n",
    "symbol = 'AAPL.US'\n",
    "\n",
    "aapl_stock = web.DataReader(symbol, 'quandl', '2009-06-01').resample('D').last()\n",
    "aapl_stock.info()"
   ]
  },
  {
   "cell_type": "code",
   "execution_count": 29,
   "metadata": {
    "ExecuteTime": {
     "end_time": "2018-10-29T18:17:14.496441Z",
     "start_time": "2018-10-29T18:17:14.233681Z"
    },
    "scrolled": true
   },
   "outputs": [
    {
     "data": {
      "image/png": "[encoded data removed]",
      "text/plain": [
       "<Figure size 1008x432 with 1 Axes>"
      ]
     },
     "metadata": {},
     "output_type": "display_data"
    }
   ],
   "source": [
    "pe = aapl_stock.AdjClose.to_frame('price').join(eps.to_frame('eps'))\n",
    "pe = pe.fillna(method='ffill').dropna()\n",
    "pe['P/E Ratio'] = pe.price.div(pe.eps)\n",
    "pe['P/E Ratio'].plot(lw=2, figsize=(14, 6), title='TTM P/E Ratio');"
   ]
  },
  {
   "cell_type": "code",
   "execution_count": 30,
   "metadata": {
    "ExecuteTime": {
     "end_time": "2018-10-29T18:17:38.555804Z",
     "start_time": "2018-10-29T18:17:38.553768Z"
    },
    "scrolled": true
   },
   "outputs": [],
   "source": [
    "fields = ['EarningsPerShareDiluted',\n",
    "          'PaymentsOfDividendsCommonStock',\n",
    "          'WeightedAverageNumberOfDilutedSharesOutstanding',\n",
    "          'OperatingIncomeLoss',\n",
    "          'NetIncomeLoss',\n",
    "          'GrossProfit']"
   ]
  },
  {
   "cell_type": "code",
   "execution_count": 32,
   "metadata": {
    "ExecuteTime": {
     "end_time": "2018-10-29T18:18:30.451497Z",
     "start_time": "2018-10-29T18:18:30.441421Z"
    }
   },
   "outputs": [
    {
     "name": "stdout",
     "output_type": "stream",
     "text": [
      "<class 'pandas.core.frame.DataFrame'>\n",
      "Int64Index: 18224 entries, 84837 to 5467444\n",
      "Data columns (total 16 columns):\n",
      "adsh        18224 non-null object\n",
      "tag         18224 non-null object\n",
      "version     18224 non-null object\n",
      "ddate       18224 non-null datetime64[ns]\n",
      "qtrs        18224 non-null int64\n",
      "uom         18224 non-null object\n",
      "dimh        18224 non-null object\n",
      "iprx        18224 non-null float64\n",
      "value       18176 non-null float64\n",
      "footnote    68 non-null object\n",
      "footlen     18224 non-null int64\n",
      "dimn        18224 non-null int64\n",
      "coreg       0 non-null object\n",
      "durp        18224 non-null float64\n",
      "datp        18224 non-null float64\n",
      "dcml        18224 non-null float64\n",
      "dtypes: datetime64[ns](1), float64(5), int64(3), object(7)\n",
      "memory usage: 3.0+ MB\n"
     ]
    }
   ],
   "source": [
    "aapl_nums.info()"
   ]
  },
  {
   "cell_type": "code",
   "execution_count": 31,
   "metadata": {
    "ExecuteTime": {
     "end_time": "2018-10-29T18:17:38.884347Z",
     "start_time": "2018-10-29T18:17:38.864804Z"
    },
    "scrolled": true
   },
   "outputs": [
    {
     "ename": "KeyError",
     "evalue": "\"None of [['EarningsPerShareDiluted', 'PaymentsOfDividendsCommonStock', 'WeightedAverageNumberOfDilutedSharesOutstanding', 'OperatingIncomeLoss', 'NetIncomeLoss', 'GrossProfit']] are in the [index]\"",
     "output_type": "error",
     "traceback": [
      "\u001b[0;31m---------------------------------------------------------------------------\u001b[0m",
      "\u001b[0;31mKeyError\u001b[0m                                  Traceback (most recent call last)",
      "\u001b[0;32m<ipython-input-31-ac8c6128c086>\u001b[0m in \u001b[0;36m<module>\u001b[0;34m()\u001b[0m\n\u001b[0;32m----> 1\u001b[0;31m \u001b[0maapl_nums\u001b[0m\u001b[0;34m.\u001b[0m\u001b[0mloc\u001b[0m\u001b[0;34m[\u001b[0m\u001b[0mfields\u001b[0m\u001b[0;34m]\u001b[0m\u001b[0;34m.\u001b[0m\u001b[0mdropna\u001b[0m\u001b[0;34m(\u001b[0m\u001b[0mhow\u001b[0m\u001b[0;34m=\u001b[0m\u001b[0;34m'all'\u001b[0m\u001b[0;34m,\u001b[0m \u001b[0maxis\u001b[0m\u001b[0;34m=\u001b[0m\u001b[0;36m1\u001b[0m\u001b[0;34m)\u001b[0m\u001b[0;34m\u001b[0m\u001b[0m\n\u001b[0m",
      "\u001b[0;32m~/.pyenv/versions/at-3.6/lib/python3.6/site-packages/pandas/core/indexing.py\u001b[0m in \u001b[0;36m__getitem__\u001b[0;34m(self, key)\u001b[0m\n\u001b[1;32m   1476\u001b[0m \u001b[0;34m\u001b[0m\u001b[0m\n\u001b[1;32m   1477\u001b[0m             \u001b[0mmaybe_callable\u001b[0m \u001b[0;34m=\u001b[0m \u001b[0mcom\u001b[0m\u001b[0;34m.\u001b[0m\u001b[0m_apply_if_callable\u001b[0m\u001b[0;34m(\u001b[0m\u001b[0mkey\u001b[0m\u001b[0;34m,\u001b[0m \u001b[0mself\u001b[0m\u001b[0;34m.\u001b[0m\u001b[0mobj\u001b[0m\u001b[0;34m)\u001b[0m\u001b[0;34m\u001b[0m\u001b[0m\n\u001b[0;32m-> 1478\u001b[0;31m             \u001b[0;32mreturn\u001b[0m \u001b[0mself\u001b[0m\u001b[0;34m.\u001b[0m\u001b[0m_getitem_axis\u001b[0m\u001b[0;34m(\u001b[0m\u001b[0mmaybe_callable\u001b[0m\u001b[0;34m,\u001b[0m \u001b[0maxis\u001b[0m\u001b[0;34m=\u001b[0m\u001b[0maxis\u001b[0m\u001b[0;34m)\u001b[0m\u001b[0;34m\u001b[0m\u001b[0m\n\u001b[0m\u001b[1;32m   1479\u001b[0m \u001b[0;34m\u001b[0m\u001b[0m\n\u001b[1;32m   1480\u001b[0m     \u001b[0;32mdef\u001b[0m \u001b[0m_is_scalar_access\u001b[0m\u001b[0;34m(\u001b[0m\u001b[0mself\u001b[0m\u001b[0;34m,\u001b[0m \u001b[0mkey\u001b[0m\u001b[0;34m)\u001b[0m\u001b[0;34m:\u001b[0m\u001b[0;34m\u001b[0m\u001b[0m\n",
      "\u001b[0;32m~/.pyenv/versions/at-3.6/lib/python3.6/site-packages/pandas/core/indexing.py\u001b[0m in \u001b[0;36m_getitem_axis\u001b[0;34m(self, key, axis)\u001b[0m\n\u001b[1;32m   1899\u001b[0m                     \u001b[0;32mraise\u001b[0m \u001b[0mValueError\u001b[0m\u001b[0;34m(\u001b[0m\u001b[0;34m'Cannot index with multidimensional key'\u001b[0m\u001b[0;34m)\u001b[0m\u001b[0;34m\u001b[0m\u001b[0m\n\u001b[1;32m   1900\u001b[0m \u001b[0;34m\u001b[0m\u001b[0m\n\u001b[0;32m-> 1901\u001b[0;31m                 \u001b[0;32mreturn\u001b[0m \u001b[0mself\u001b[0m\u001b[0;34m.\u001b[0m\u001b[0m_getitem_iterable\u001b[0m\u001b[0;34m(\u001b[0m\u001b[0mkey\u001b[0m\u001b[0;34m,\u001b[0m \u001b[0maxis\u001b[0m\u001b[0;34m=\u001b[0m\u001b[0maxis\u001b[0m\u001b[0;34m)\u001b[0m\u001b[0;34m\u001b[0m\u001b[0m\n\u001b[0m\u001b[1;32m   1902\u001b[0m \u001b[0;34m\u001b[0m\u001b[0m\n\u001b[1;32m   1903\u001b[0m             \u001b[0;31m# nested tuple slicing\u001b[0m\u001b[0;34m\u001b[0m\u001b[0;34m\u001b[0m\u001b[0m\n",
      "\u001b[0;32m~/.pyenv/versions/at-3.6/lib/python3.6/site-packages/pandas/core/indexing.py\u001b[0m in \u001b[0;36m_getitem_iterable\u001b[0;34m(self, key, axis)\u001b[0m\n\u001b[1;32m   1161\u001b[0m                     \u001b[0mresult\u001b[0m \u001b[0;34m=\u001b[0m \u001b[0mself\u001b[0m\u001b[0;34m.\u001b[0m\u001b[0mobj\u001b[0m\u001b[0;34m.\u001b[0m\u001b[0m_take\u001b[0m\u001b[0;34m(\u001b[0m\u001b[0mindexer\u001b[0m\u001b[0;34m[\u001b[0m\u001b[0mindexer\u001b[0m \u001b[0;34m!=\u001b[0m \u001b[0;34m-\u001b[0m\u001b[0;36m1\u001b[0m\u001b[0;34m]\u001b[0m\u001b[0;34m,\u001b[0m \u001b[0maxis\u001b[0m\u001b[0;34m=\u001b[0m\u001b[0maxis\u001b[0m\u001b[0;34m)\u001b[0m\u001b[0;34m\u001b[0m\u001b[0m\n\u001b[1;32m   1162\u001b[0m \u001b[0;34m\u001b[0m\u001b[0m\n\u001b[0;32m-> 1163\u001b[0;31m                     \u001b[0mself\u001b[0m\u001b[0;34m.\u001b[0m\u001b[0m_validate_read_indexer\u001b[0m\u001b[0;34m(\u001b[0m\u001b[0mkey\u001b[0m\u001b[0;34m,\u001b[0m \u001b[0mnew_indexer\u001b[0m\u001b[0;34m,\u001b[0m \u001b[0maxis\u001b[0m\u001b[0;34m)\u001b[0m\u001b[0;34m\u001b[0m\u001b[0m\n\u001b[0m\u001b[1;32m   1164\u001b[0m                     result = result._reindex_with_indexers(\n\u001b[1;32m   1165\u001b[0m                         \u001b[0;34m{\u001b[0m\u001b[0maxis\u001b[0m\u001b[0;34m:\u001b[0m \u001b[0;34m[\u001b[0m\u001b[0mnew_target\u001b[0m\u001b[0;34m,\u001b[0m \u001b[0mnew_indexer\u001b[0m\u001b[0;34m]\u001b[0m\u001b[0;34m}\u001b[0m\u001b[0;34m,\u001b[0m\u001b[0;34m\u001b[0m\u001b[0m\n",
      "\u001b[0;32m~/.pyenv/versions/at-3.6/lib/python3.6/site-packages/pandas/core/indexing.py\u001b[0m in \u001b[0;36m_validate_read_indexer\u001b[0;34m(self, key, indexer, axis)\u001b[0m\n\u001b[1;32m   1204\u001b[0m                 raise KeyError(\n\u001b[1;32m   1205\u001b[0m                     u\"None of [{key}] are in the [{axis}]\".format(\n\u001b[0;32m-> 1206\u001b[0;31m                         key=key, axis=self.obj._get_axis_name(axis)))\n\u001b[0m\u001b[1;32m   1207\u001b[0m \u001b[0;34m\u001b[0m\u001b[0m\n\u001b[1;32m   1208\u001b[0m             \u001b[0;31m# we skip the warning on Categorical/Interval\u001b[0m\u001b[0;34m\u001b[0m\u001b[0;34m\u001b[0m\u001b[0m\n",
      "\u001b[0;31mKeyError\u001b[0m: \"None of [['EarningsPerShareDiluted', 'PaymentsOfDividendsCommonStock', 'WeightedAverageNumberOfDilutedSharesOutstanding', 'OperatingIncomeLoss', 'NetIncomeLoss', 'GrossProfit']] are in the [index]\""
     ]
    }
   ],
   "source": [
    "aapl_nums.loc[fields].dropna(how='all', axis=1)"
   ]
  },
  {
   "cell_type": "code",
   "execution_count": 30,
   "metadata": {
    "ExecuteTime": {
     "end_time": "2018-06-15T01:00:07.027506Z",
     "start_time": "2018-06-15T01:00:07.022005Z"
    }
   },
   "outputs": [],
   "source": [
    "metrics = aapl_nums.loc[fields].dropna(how='all', axis=1).T"
   ]
  },
  {
   "cell_type": "code",
   "execution_count": 26,
   "metadata": {
    "ExecuteTime": {
     "end_time": "2018-06-15T00:56:57.609591Z",
     "start_time": "2018-06-15T00:56:57.436453Z"
    }
   },
   "outputs": [
    {
     "data": {
      "image/png": "[encoded data removed]",
      "text/plain": [
       "<Figure size 432x288 with 1 Axes>"
      ]
     },
     "metadata": {},
     "output_type": "display_data"
    }
   ],
   "source": [
    "%matplotlib inline\n",
    "aapl_nums.loc[fields].dropna(how='all', axis=1).T.EarningsPerShareDiluted.plot();"
   ]
  },
  {
   "cell_type": "code",
   "execution_count": 72,
   "metadata": {
    "ExecuteTime": {
     "end_time": "2018-06-15T01:20:52.273142Z",
     "start_time": "2018-06-15T01:20:52.146139Z"
    }
   },
   "outputs": [
    {
     "data": {
      "image/png": "[encoded data removed]",
      "text/plain": [
       "<Figure size 432x288 with 1 Axes>"
      ]
     },
     "metadata": {},
     "output_type": "display_data"
    }
   ],
   "source": [
    "metrics.EarningsPerShareDiluted.plot();"
   ]
  },
  {
   "cell_type": "markdown",
   "metadata": {},
   "source": [
    "### Bonus: Textual Information"
   ]
  },
  {
   "cell_type": "code",
   "execution_count": 35,
   "metadata": {
    "ExecuteTime": {
     "end_time": "2018-10-29T18:19:42.702642Z",
     "start_time": "2018-10-29T18:19:41.751076Z"
    },
    "scrolled": true
   },
   "outputs": [
    {
     "ename": "NameError",
     "evalue": "name 'apple_10Q' is not defined",
     "output_type": "error",
     "traceback": [
      "\u001b[0;31m---------------------------------------------------------------------------\u001b[0m",
      "\u001b[0;31mNameError\u001b[0m                                 Traceback (most recent call last)",
      "\u001b[0;32m<ipython-input-35-43ae7264495e>\u001b[0m in \u001b[0;36m<module>\u001b[0;34m()\u001b[0m\n\u001b[1;32m      1\u001b[0m \u001b[0mtxt\u001b[0m \u001b[0;34m=\u001b[0m \u001b[0mpd\u001b[0m\u001b[0;34m.\u001b[0m\u001b[0mread_parquet\u001b[0m\u001b[0;34m(\u001b[0m\u001b[0medgar_path\u001b[0m \u001b[0;34m/\u001b[0m \u001b[0;34m'2018_3'\u001b[0m \u001b[0;34m/\u001b[0m \u001b[0;34m'parquet'\u001b[0m \u001b[0;34m/\u001b[0m  \u001b[0;34m'txt.parquet'\u001b[0m\u001b[0;34m)\u001b[0m\u001b[0;34m\u001b[0m\u001b[0m\n\u001b[0;32m----> 2\u001b[0;31m \u001b[0mapple_txt\u001b[0m \u001b[0;34m=\u001b[0m \u001b[0mtxt\u001b[0m\u001b[0;34m[\u001b[0m\u001b[0mtxt\u001b[0m\u001b[0;34m.\u001b[0m\u001b[0madsh\u001b[0m \u001b[0;34m==\u001b[0m \u001b[0mapple_10Q\u001b[0m\u001b[0;34m.\u001b[0m\u001b[0madsh\u001b[0m\u001b[0;34m]\u001b[0m\u001b[0;34m\u001b[0m\u001b[0m\n\u001b[0m",
      "\u001b[0;31mNameError\u001b[0m: name 'apple_10Q' is not defined"
     ]
    }
   ],
   "source": [
    "txt = pd.read_parquet(edgar_path / '2018_3' / 'parquet' /  'txt.parquet')\n",
    "apple_txt = txt[txt.adsh == apple_10Q.adsh]"
   ]
  },
  {
   "cell_type": "code",
   "execution_count": 155,
   "metadata": {
    "ExecuteTime": {
     "end_time": "2018-06-12T22:19:35.477836Z",
     "start_time": "2018-06-12T22:19:35.472987Z"
    },
    "scrolled": true
   },
   "outputs": [
    {
     "name": "stdout",
     "output_type": "stream",
     "text": [
      "<class 'pandas.core.frame.DataFrame'>\n",
      "Int64Index: 91 entries, 385906 to 472369\n",
      "Data columns (total 20 columns):\n",
      "adsh        91 non-null object\n",
      "tag         91 non-null object\n",
      "version     91 non-null object\n",
      "ddate       91 non-null int64\n",
      "qtrs        91 non-null int64\n",
      "iprx        91 non-null int64\n",
      "lang        91 non-null object\n",
      "dcml        91 non-null int64\n",
      "durp        91 non-null float64\n",
      "datp        91 non-null float64\n",
      "dimh        91 non-null object\n",
      "dimn        91 non-null int64\n",
      "coreg       0 non-null object\n",
      "escaped     91 non-null int64\n",
      "srclen      91 non-null int64\n",
      "txtlen      91 non-null int64\n",
      "footnote    0 non-null object\n",
      "footlen     91 non-null int64\n",
      "context     91 non-null object\n",
      "value       91 non-null object\n",
      "dtypes: float64(2), int64(9), object(9)\n",
      "memory usage: 14.9+ KB\n"
     ]
    }
   ],
   "source": [
    "apple_txt.info()"
   ]
  },
  {
   "cell_type": "code",
   "execution_count": 158,
   "metadata": {
    "ExecuteTime": {
     "end_time": "2018-06-12T22:20:34.625058Z",
     "start_time": "2018-06-12T22:20:34.604105Z"
    },
    "scrolled": true
   },
   "outputs": [
    {
     "data": {
      "text/html": [
       "<div>\n",
       "<style scoped>\n",
       "    .dataframe tbody tr th:only-of-type {\n",
       "        vertical-align: middle;\n",
       "    }\n",
       "\n",
       "    .dataframe tbody tr th {\n",
       "        vertical-align: top;\n",
       "    }\n",
       "\n",
       "    .dataframe thead th {\n",
       "        text-align: right;\n",
       "    }\n",
       "</style>\n",
       "<table border=\"1\" class=\"dataframe\">\n",
       "  <thead>\n",
       "    <tr style=\"text-align: right;\">\n",
       "      <th></th>\n",
       "      <th>adsh</th>\n",
       "      <th>tag</th>\n",
       "      <th>version</th>\n",
       "      <th>ddate</th>\n",
       "      <th>qtrs</th>\n",
       "      <th>iprx</th>\n",
       "      <th>lang</th>\n",
       "      <th>dcml</th>\n",
       "      <th>durp</th>\n",
       "      <th>datp</th>\n",
       "      <th>dimh</th>\n",
       "      <th>dimn</th>\n",
       "      <th>coreg</th>\n",
       "      <th>escaped</th>\n",
       "      <th>srclen</th>\n",
       "      <th>txtlen</th>\n",
       "      <th>footnote</th>\n",
       "      <th>footlen</th>\n",
       "      <th>context</th>\n",
       "      <th>value</th>\n",
       "    </tr>\n",
       "  </thead>\n",
       "  <tbody>\n",
       "    <tr>\n",
       "      <th>385906</th>\n",
       "      <td>0000320193-18-000007</td>\n",
       "      <td>IntangibleAssetsDisclosureTextBlock</td>\n",
       "      <td>us-gaap/2017</td>\n",
       "      <td>20171231</td>\n",
       "      <td>1</td>\n",
       "      <td>0</td>\n",
       "      <td>en-US</td>\n",
       "      <td>32767</td>\n",
       "      <td>0.013699</td>\n",
       "      <td>1.0</td>\n",
       "      <td>0x00000000</td>\n",
       "      <td>0</td>\n",
       "      <td>None</td>\n",
       "      <td>1</td>\n",
       "      <td>25110</td>\n",
       "      <td>737</td>\n",
       "      <td>None</td>\n",
       "      <td>0</td>\n",
       "      <td>FD2018Q1YTD</td>\n",
       "      <td>Acquired Intangible Assets The Companys acquir...</td>\n",
       "    </tr>\n",
       "    <tr>\n",
       "      <th>385907</th>\n",
       "      <td>0000320193-18-000007</td>\n",
       "      <td>SegmentReportingPolicyPolicyTextBlock</td>\n",
       "      <td>us-gaap/2017</td>\n",
       "      <td>20171231</td>\n",
       "      <td>1</td>\n",
       "      <td>0</td>\n",
       "      <td>en-US</td>\n",
       "      <td>32767</td>\n",
       "      <td>0.013699</td>\n",
       "      <td>1.0</td>\n",
       "      <td>0x00000000</td>\n",
       "      <td>0</td>\n",
       "      <td>None</td>\n",
       "      <td>1</td>\n",
       "      <td>2987</td>\n",
       "      <td>2307</td>\n",
       "      <td>None</td>\n",
       "      <td>0</td>\n",
       "      <td>FD2018Q1YTD</td>\n",
       "      <td>The Company reports segment information based ...</td>\n",
       "    </tr>\n",
       "    <tr>\n",
       "      <th>390115</th>\n",
       "      <td>0000320193-18-000007</td>\n",
       "      <td>LongTermMarketableSecuritiesMaturitiesTermMaximum</td>\n",
       "      <td>0000320193-18-000007</td>\n",
       "      <td>20171231</td>\n",
       "      <td>1</td>\n",
       "      <td>0</td>\n",
       "      <td>en-US</td>\n",
       "      <td>32767</td>\n",
       "      <td>0.013699</td>\n",
       "      <td>1.0</td>\n",
       "      <td>0x00000000</td>\n",
       "      <td>0</td>\n",
       "      <td>None</td>\n",
       "      <td>0</td>\n",
       "      <td>3</td>\n",
       "      <td>3</td>\n",
       "      <td>None</td>\n",
       "      <td>0</td>\n",
       "      <td>FD2018Q1YTD</td>\n",
       "      <td>P5Y</td>\n",
       "    </tr>\n",
       "    <tr>\n",
       "      <th>390116</th>\n",
       "      <td>0000320193-18-000007</td>\n",
       "      <td>ShareBasedCompensationArrangementByShareBasedP...</td>\n",
       "      <td>us-gaap/2017</td>\n",
       "      <td>20171231</td>\n",
       "      <td>1</td>\n",
       "      <td>0</td>\n",
       "      <td>en-US</td>\n",
       "      <td>32767</td>\n",
       "      <td>0.013699</td>\n",
       "      <td>1.0</td>\n",
       "      <td>0x0ab20a3d6dd2f89ce1deb1da25a80ac0</td>\n",
       "      <td>1</td>\n",
       "      <td>None</td>\n",
       "      <td>0</td>\n",
       "      <td>3</td>\n",
       "      <td>3</td>\n",
       "      <td>None</td>\n",
       "      <td>0</td>\n",
       "      <td>FD2018Q1QTD_us-gaap_AwardTypeAxis_us-gaap_Rest...</td>\n",
       "      <td>P4Y</td>\n",
       "    </tr>\n",
       "    <tr>\n",
       "      <th>393030</th>\n",
       "      <td>0000320193-18-000007</td>\n",
       "      <td>TradingSymbol</td>\n",
       "      <td>dei/2014</td>\n",
       "      <td>20171231</td>\n",
       "      <td>1</td>\n",
       "      <td>0</td>\n",
       "      <td>en-US</td>\n",
       "      <td>32767</td>\n",
       "      <td>0.013699</td>\n",
       "      <td>1.0</td>\n",
       "      <td>0x00000000</td>\n",
       "      <td>0</td>\n",
       "      <td>None</td>\n",
       "      <td>0</td>\n",
       "      <td>4</td>\n",
       "      <td>4</td>\n",
       "      <td>None</td>\n",
       "      <td>0</td>\n",
       "      <td>FD2018Q1YTD</td>\n",
       "      <td>AAPL</td>\n",
       "    </tr>\n",
       "  </tbody>\n",
       "</table>\n",
       "</div>"
      ],
      "text/plain": [
       "                        adsh  \\\n",
       "385906  0000320193-18-000007   \n",
       "385907  0000320193-18-000007   \n",
       "390115  0000320193-18-000007   \n",
       "390116  0000320193-18-000007   \n",
       "393030  0000320193-18-000007   \n",
       "\n",
       "                                                      tag  \\\n",
       "385906                IntangibleAssetsDisclosureTextBlock   \n",
       "385907              SegmentReportingPolicyPolicyTextBlock   \n",
       "390115  LongTermMarketableSecuritiesMaturitiesTermMaximum   \n",
       "390116  ShareBasedCompensationArrangementByShareBasedP...   \n",
       "393030                                      TradingSymbol   \n",
       "\n",
       "                     version     ddate  qtrs  iprx   lang   dcml      durp  \\\n",
       "385906          us-gaap/2017  20171231     1     0  en-US  32767  0.013699   \n",
       "385907          us-gaap/2017  20171231     1     0  en-US  32767  0.013699   \n",
       "390115  0000320193-18-000007  20171231     1     0  en-US  32767  0.013699   \n",
       "390116          us-gaap/2017  20171231     1     0  en-US  32767  0.013699   \n",
       "393030              dei/2014  20171231     1     0  en-US  32767  0.013699   \n",
       "\n",
       "        datp                                dimh  dimn coreg  escaped  srclen  \\\n",
       "385906   1.0                          0x00000000     0  None        1   25110   \n",
       "385907   1.0                          0x00000000     0  None        1    2987   \n",
       "390115   1.0                          0x00000000     0  None        0       3   \n",
       "390116   1.0  0x0ab20a3d6dd2f89ce1deb1da25a80ac0     1  None        0       3   \n",
       "393030   1.0                          0x00000000     0  None        0       4   \n",
       "\n",
       "        txtlen footnote  footlen  \\\n",
       "385906     737     None        0   \n",
       "385907    2307     None        0   \n",
       "390115       3     None        0   \n",
       "390116       3     None        0   \n",
       "393030       4     None        0   \n",
       "\n",
       "                                                  context  \\\n",
       "385906                                        FD2018Q1YTD   \n",
       "385907                                        FD2018Q1YTD   \n",
       "390115                                        FD2018Q1YTD   \n",
       "390116  FD2018Q1QTD_us-gaap_AwardTypeAxis_us-gaap_Rest...   \n",
       "393030                                        FD2018Q1YTD   \n",
       "\n",
       "                                                    value  \n",
       "385906  Acquired Intangible Assets The Companys acquir...  \n",
       "385907  The Company reports segment information based ...  \n",
       "390115                                                P5Y  \n",
       "390116                                                P4Y  \n",
       "393030                                               AAPL  "
      ]
     },
     "execution_count": 158,
     "metadata": {},
     "output_type": "execute_result"
    }
   ],
   "source": [
    "apple_txt.head()"
   ]
  },
  {
   "cell_type": "code",
   "execution_count": 159,
   "metadata": {
    "ExecuteTime": {
     "end_time": "2018-06-12T22:21:40.126768Z",
     "start_time": "2018-06-12T22:21:39.264167Z"
    },
    "scrolled": true
   },
   "outputs": [
    {
     "name": "stdout",
     "output_type": "stream",
     "text": [
      "<class 'pandas.core.frame.DataFrame'>\n",
      "Int64Index: 876087 entries, 0 to 876086\n",
      "Data columns (total 9 columns):\n",
      "tag         876085 non-null object\n",
      "version     876087 non-null object\n",
      "custom      876087 non-null int64\n",
      "abstract    876087 non-null int64\n",
      "datatype    821031 non-null object\n",
      "iord        509567 non-null object\n",
      "crdr        250009 non-null object\n",
      "tlabel      875600 non-null object\n",
      "doc         810912 non-null object\n",
      "dtypes: int64(2), object(7)\n",
      "memory usage: 66.8+ MB\n"
     ]
    }
   ],
   "source": [
    "tags = pd.read_parquet(notes_dir / 'parquet' / 'tag.parquet')\n",
    "tags.info()"
   ]
  },
  {
   "cell_type": "code",
   "execution_count": 160,
   "metadata": {
    "ExecuteTime": {
     "end_time": "2018-06-12T22:21:46.920651Z",
     "start_time": "2018-06-12T22:21:46.907944Z"
    },
    "scrolled": true
   },
   "outputs": [
    {
     "data": {
      "text/html": [
       "<div>\n",
       "<style scoped>\n",
       "    .dataframe tbody tr th:only-of-type {\n",
       "        vertical-align: middle;\n",
       "    }\n",
       "\n",
       "    .dataframe tbody tr th {\n",
       "        vertical-align: top;\n",
       "    }\n",
       "\n",
       "    .dataframe thead th {\n",
       "        text-align: right;\n",
       "    }\n",
       "</style>\n",
       "<table border=\"1\" class=\"dataframe\">\n",
       "  <thead>\n",
       "    <tr style=\"text-align: right;\">\n",
       "      <th></th>\n",
       "      <th>tag</th>\n",
       "      <th>version</th>\n",
       "      <th>custom</th>\n",
       "      <th>abstract</th>\n",
       "      <th>datatype</th>\n",
       "      <th>iord</th>\n",
       "      <th>crdr</th>\n",
       "      <th>tlabel</th>\n",
       "      <th>doc</th>\n",
       "    </tr>\n",
       "  </thead>\n",
       "  <tbody>\n",
       "    <tr>\n",
       "      <th>0</th>\n",
       "      <td>EntityDomain</td>\n",
       "      <td>dei/2014</td>\n",
       "      <td>0</td>\n",
       "      <td>1</td>\n",
       "      <td>member</td>\n",
       "      <td>None</td>\n",
       "      <td>None</td>\n",
       "      <td>Entity [Domain]</td>\n",
       "      <td>All the names of the entities being reported u...</td>\n",
       "    </tr>\n",
       "    <tr>\n",
       "      <th>1</th>\n",
       "      <td>LegalEntityAxis</td>\n",
       "      <td>dei/2014</td>\n",
       "      <td>0</td>\n",
       "      <td>1</td>\n",
       "      <td>axis</td>\n",
       "      <td>None</td>\n",
       "      <td>None</td>\n",
       "      <td>Legal Entity [Axis]</td>\n",
       "      <td>The set of legal entities associated with a re...</td>\n",
       "    </tr>\n",
       "    <tr>\n",
       "      <th>2</th>\n",
       "      <td>EntityPublicFloat</td>\n",
       "      <td>dei/2014</td>\n",
       "      <td>0</td>\n",
       "      <td>0</td>\n",
       "      <td>monetary</td>\n",
       "      <td>I</td>\n",
       "      <td>C</td>\n",
       "      <td>Entity Public Float</td>\n",
       "      <td>State aggregate market value of voting and non...</td>\n",
       "    </tr>\n",
       "    <tr>\n",
       "      <th>3</th>\n",
       "      <td>DocumentFiscalYearFocus</td>\n",
       "      <td>dei/2014</td>\n",
       "      <td>0</td>\n",
       "      <td>0</td>\n",
       "      <td>gYear</td>\n",
       "      <td>D</td>\n",
       "      <td>None</td>\n",
       "      <td>Document Fiscal Year Focus</td>\n",
       "      <td>This is focus fiscal year of the document repo...</td>\n",
       "    </tr>\n",
       "    <tr>\n",
       "      <th>4</th>\n",
       "      <td>DocumentPeriodEndDate</td>\n",
       "      <td>dei/2014</td>\n",
       "      <td>0</td>\n",
       "      <td>0</td>\n",
       "      <td>date</td>\n",
       "      <td>D</td>\n",
       "      <td>None</td>\n",
       "      <td>Document Period End Date</td>\n",
       "      <td>The end date of the period reflected on the co...</td>\n",
       "    </tr>\n",
       "  </tbody>\n",
       "</table>\n",
       "</div>"
      ],
      "text/plain": [
       "                       tag   version  custom  abstract  datatype  iord  crdr  \\\n",
       "0             EntityDomain  dei/2014       0         1    member  None  None   \n",
       "1          LegalEntityAxis  dei/2014       0         1      axis  None  None   \n",
       "2        EntityPublicFloat  dei/2014       0         0  monetary     I     C   \n",
       "3  DocumentFiscalYearFocus  dei/2014       0         0     gYear     D  None   \n",
       "4    DocumentPeriodEndDate  dei/2014       0         0      date     D  None   \n",
       "\n",
       "                       tlabel  \\\n",
       "0             Entity [Domain]   \n",
       "1         Legal Entity [Axis]   \n",
       "2         Entity Public Float   \n",
       "3  Document Fiscal Year Focus   \n",
       "4    Document Period End Date   \n",
       "\n",
       "                                                 doc  \n",
       "0  All the names of the entities being reported u...  \n",
       "1  The set of legal entities associated with a re...  \n",
       "2  State aggregate market value of voting and non...  \n",
       "3  This is focus fiscal year of the document repo...  \n",
       "4  The end date of the period reflected on the co...  "
      ]
     },
     "execution_count": 160,
     "metadata": {},
     "output_type": "execute_result"
    }
   ],
   "source": [
    "tags.head()"
   ]
  },
  {
   "cell_type": "code",
   "execution_count": 161,
   "metadata": {
    "ExecuteTime": {
     "end_time": "2018-06-12T22:23:05.444069Z",
     "start_time": "2018-06-12T22:23:05.012683Z"
    },
    "scrolled": true
   },
   "outputs": [
    {
     "name": "stdout",
     "output_type": "stream",
     "text": [
      "<class 'pandas.core.frame.DataFrame'>\n",
      "Int64Index: 91 entries, 0 to 90\n",
      "Data columns (total 27 columns):\n",
      "adsh        91 non-null object\n",
      "tag         91 non-null object\n",
      "version     91 non-null object\n",
      "ddate       91 non-null int64\n",
      "qtrs        91 non-null int64\n",
      "iprx        91 non-null int64\n",
      "lang        91 non-null object\n",
      "dcml        91 non-null int64\n",
      "durp        91 non-null float64\n",
      "datp        91 non-null float64\n",
      "dimh        91 non-null object\n",
      "dimn        91 non-null int64\n",
      "coreg       0 non-null object\n",
      "escaped     91 non-null int64\n",
      "srclen      91 non-null int64\n",
      "txtlen      91 non-null int64\n",
      "footnote    0 non-null object\n",
      "footlen     91 non-null int64\n",
      "context     91 non-null object\n",
      "value       91 non-null object\n",
      "custom      91 non-null int64\n",
      "abstract    91 non-null int64\n",
      "datatype    91 non-null object\n",
      "iord        91 non-null object\n",
      "crdr        0 non-null object\n",
      "tlabel      91 non-null object\n",
      "doc         91 non-null object\n",
      "dtypes: float64(2), int64(11), object(14)\n",
      "memory usage: 19.9+ KB\n"
     ]
    }
   ],
   "source": [
    "apple_txt.merge(tags, how='left').info()"
   ]
  },
  {
   "cell_type": "markdown",
   "metadata": {},
   "source": [
    "Unfortunately this gets truncated. Back to XBRL source.."
   ]
  },
  {
   "cell_type": "code",
   "execution_count": 156,
   "metadata": {
    "ExecuteTime": {
     "end_time": "2018-06-12T22:19:38.993001Z",
     "start_time": "2018-06-12T22:19:38.983787Z"
    },
    "scrolled": true
   },
   "outputs": [
    {
     "data": {
      "text/html": [
       "<div>\n",
       "<style scoped>\n",
       "    .dataframe tbody tr th:only-of-type {\n",
       "        vertical-align: middle;\n",
       "    }\n",
       "\n",
       "    .dataframe tbody tr th {\n",
       "        vertical-align: top;\n",
       "    }\n",
       "\n",
       "    .dataframe thead th {\n",
       "        text-align: right;\n",
       "    }\n",
       "</style>\n",
       "<table border=\"1\" class=\"dataframe\">\n",
       "  <thead>\n",
       "    <tr style=\"text-align: right;\">\n",
       "      <th></th>\n",
       "      <th>srclen</th>\n",
       "      <th>txtlen</th>\n",
       "      <th>tag</th>\n",
       "      <th>value</th>\n",
       "    </tr>\n",
       "  </thead>\n",
       "  <tbody>\n",
       "    <tr>\n",
       "      <th>415690</th>\n",
       "      <td>334107</td>\n",
       "      <td>17551</td>\n",
       "      <td>FinancialInstrumentsDisclosureTextBlock</td>\n",
       "      <td>Financial Instruments Cash, Cash Equivalents a...</td>\n",
       "    </tr>\n",
       "    <tr>\n",
       "      <th>426357</th>\n",
       "      <td>23610</td>\n",
       "      <td>8928</td>\n",
       "      <td>CommitmentsAndContingenciesDisclosureTextBlock</td>\n",
       "      <td>Commitments and Contingencies Accrued Warranty...</td>\n",
       "    </tr>\n",
       "    <tr>\n",
       "      <th>443171</th>\n",
       "      <td>28291</td>\n",
       "      <td>6271</td>\n",
       "      <td>BasisOfPresentationAndSignificantAccountingPol...</td>\n",
       "      <td>Summary of Significant Accounting Policies App...</td>\n",
       "    </tr>\n",
       "    <tr>\n",
       "      <th>393031</th>\n",
       "      <td>9142</td>\n",
       "      <td>5596</td>\n",
       "      <td>DerivativesPolicyTextBlock</td>\n",
       "      <td>The Company records all derivatives in the Con...</td>\n",
       "    </tr>\n",
       "    <tr>\n",
       "      <th>472369</th>\n",
       "      <td>203569</td>\n",
       "      <td>5191</td>\n",
       "      <td>DebtDisclosureTextBlock</td>\n",
       "      <td>Debt Commercial Paper The Company issues unsec...</td>\n",
       "    </tr>\n",
       "    <tr>\n",
       "      <th>411033</th>\n",
       "      <td>9637</td>\n",
       "      <td>4891</td>\n",
       "      <td>IncomeTaxDisclosureTextBlock</td>\n",
       "      <td>Income Taxes On December 22, 2017, the U.S. en...</td>\n",
       "    </tr>\n",
       "    <tr>\n",
       "      <th>411035</th>\n",
       "      <td>68777</td>\n",
       "      <td>4020</td>\n",
       "      <td>StockholdersEquityNoteDisclosureTextBlock</td>\n",
       "      <td>Shareholders Equity Dividends The Company decl...</td>\n",
       "    </tr>\n",
       "    <tr>\n",
       "      <th>393032</th>\n",
       "      <td>45318</td>\n",
       "      <td>3357</td>\n",
       "      <td>SegmentReportingDisclosureTextBlock</td>\n",
       "      <td>Segment Information and Geographic Data The Co...</td>\n",
       "    </tr>\n",
       "    <tr>\n",
       "      <th>402283</th>\n",
       "      <td>31926</td>\n",
       "      <td>2771</td>\n",
       "      <td>CompensationAndEmployeeBenefitPlansTextBlock</td>\n",
       "      <td>Benefit Plans Stock Plans The Company had 273....</td>\n",
       "    </tr>\n",
       "    <tr>\n",
       "      <th>430946</th>\n",
       "      <td>209183</td>\n",
       "      <td>2661</td>\n",
       "      <td>CashCashEquivalentsandAvailableforSaleSecuriti...</td>\n",
       "      <td>The following tables show the Companys cash an...</td>\n",
       "    </tr>\n",
       "    <tr>\n",
       "      <th>385907</th>\n",
       "      <td>2987</td>\n",
       "      <td>2307</td>\n",
       "      <td>SegmentReportingPolicyPolicyTextBlock</td>\n",
       "      <td>The Company reports segment information based ...</td>\n",
       "    </tr>\n",
       "    <tr>\n",
       "      <th>398366</th>\n",
       "      <td>50478</td>\n",
       "      <td>1940</td>\n",
       "      <td>ComprehensiveIncomeNoteTextBlock</td>\n",
       "      <td>Comprehensive Income Comprehensive income cons...</td>\n",
       "    </tr>\n",
       "    <tr>\n",
       "      <th>423267</th>\n",
       "      <td>180041</td>\n",
       "      <td>1833</td>\n",
       "      <td>ScheduleOfDebtInstrumentsTextBlock</td>\n",
       "      <td>The following table provides a summary of the ...</td>\n",
       "    </tr>\n",
       "    <tr>\n",
       "      <th>447389</th>\n",
       "      <td>1913</td>\n",
       "      <td>1371</td>\n",
       "      <td>NewAccountingPronouncementsPolicyPolicyTextBlock</td>\n",
       "      <td>Share-Based Compensation During the first quar...</td>\n",
       "    </tr>\n",
       "    <tr>\n",
       "      <th>398365</th>\n",
       "      <td>26342</td>\n",
       "      <td>1366</td>\n",
       "      <td>AcceleratedShareRepurchasesTextBlock</td>\n",
       "      <td>The following table shows the Companys ASR act...</td>\n",
       "    </tr>\n",
       "    <tr>\n",
       "      <th>402284</th>\n",
       "      <td>43528</td>\n",
       "      <td>1313</td>\n",
       "      <td>ScheduleOfDerivativeInstrumentsInStatementOfFi...</td>\n",
       "      <td>The following tables show the Companys derivat...</td>\n",
       "    </tr>\n",
       "    <tr>\n",
       "      <th>450893</th>\n",
       "      <td>1927</td>\n",
       "      <td>1249</td>\n",
       "      <td>BasisOfAccountingPolicyPolicyTextBlock</td>\n",
       "      <td>Basis of Presentation and Preparation The acco...</td>\n",
       "    </tr>\n",
       "    <tr>\n",
       "      <th>419016</th>\n",
       "      <td>1837</td>\n",
       "      <td>1216</td>\n",
       "      <td>EarningsPerSharePolicyTextBlock</td>\n",
       "      <td>Earnings Per Share Basic earnings per share is...</td>\n",
       "    </tr>\n",
       "    <tr>\n",
       "      <th>402282</th>\n",
       "      <td>34066</td>\n",
       "      <td>1197</td>\n",
       "      <td>AdditionalFinancialInformationDisclosureTextBlock</td>\n",
       "      <td>Condensed Consolidated Financial Statement Det...</td>\n",
       "    </tr>\n",
       "    <tr>\n",
       "      <th>423268</th>\n",
       "      <td>35212</td>\n",
       "      <td>974</td>\n",
       "      <td>ScheduleOfDerivativeInstrumentsGainLossInState...</td>\n",
       "      <td>The following table shows the pre-tax gains an...</td>\n",
       "    </tr>\n",
       "  </tbody>\n",
       "</table>\n",
       "</div>"
      ],
      "text/plain": [
       "        srclen  txtlen                                                tag  \\\n",
       "415690  334107   17551            FinancialInstrumentsDisclosureTextBlock   \n",
       "426357   23610    8928     CommitmentsAndContingenciesDisclosureTextBlock   \n",
       "443171   28291    6271  BasisOfPresentationAndSignificantAccountingPol...   \n",
       "393031    9142    5596                         DerivativesPolicyTextBlock   \n",
       "472369  203569    5191                            DebtDisclosureTextBlock   \n",
       "411033    9637    4891                       IncomeTaxDisclosureTextBlock   \n",
       "411035   68777    4020          StockholdersEquityNoteDisclosureTextBlock   \n",
       "393032   45318    3357                SegmentReportingDisclosureTextBlock   \n",
       "402283   31926    2771       CompensationAndEmployeeBenefitPlansTextBlock   \n",
       "430946  209183    2661  CashCashEquivalentsandAvailableforSaleSecuriti...   \n",
       "385907    2987    2307              SegmentReportingPolicyPolicyTextBlock   \n",
       "398366   50478    1940                   ComprehensiveIncomeNoteTextBlock   \n",
       "423267  180041    1833                 ScheduleOfDebtInstrumentsTextBlock   \n",
       "447389    1913    1371   NewAccountingPronouncementsPolicyPolicyTextBlock   \n",
       "398365   26342    1366               AcceleratedShareRepurchasesTextBlock   \n",
       "402284   43528    1313  ScheduleOfDerivativeInstrumentsInStatementOfFi...   \n",
       "450893    1927    1249             BasisOfAccountingPolicyPolicyTextBlock   \n",
       "419016    1837    1216                    EarningsPerSharePolicyTextBlock   \n",
       "402282   34066    1197  AdditionalFinancialInformationDisclosureTextBlock   \n",
       "423268   35212     974  ScheduleOfDerivativeInstrumentsGainLossInState...   \n",
       "\n",
       "                                                    value  \n",
       "415690  Financial Instruments Cash, Cash Equivalents a...  \n",
       "426357  Commitments and Contingencies Accrued Warranty...  \n",
       "443171  Summary of Significant Accounting Policies App...  \n",
       "393031  The Company records all derivatives in the Con...  \n",
       "472369  Debt Commercial Paper The Company issues unsec...  \n",
       "411033  Income Taxes On December 22, 2017, the U.S. en...  \n",
       "411035  Shareholders Equity Dividends The Company decl...  \n",
       "393032  Segment Information and Geographic Data The Co...  \n",
       "402283  Benefit Plans Stock Plans The Company had 273....  \n",
       "430946  The following tables show the Companys cash an...  \n",
       "385907  The Company reports segment information based ...  \n",
       "398366  Comprehensive Income Comprehensive income cons...  \n",
       "423267  The following table provides a summary of the ...  \n",
       "447389  Share-Based Compensation During the first quar...  \n",
       "398365  The following table shows the Companys ASR act...  \n",
       "402284  The following tables show the Companys derivat...  \n",
       "450893  Basis of Presentation and Preparation The acco...  \n",
       "419016  Earnings Per Share Basic earnings per share is...  \n",
       "402282  Condensed Consolidated Financial Statement Det...  \n",
       "423268  The following table shows the pre-tax gains an...  "
      ]
     },
     "execution_count": 156,
     "metadata": {},
     "output_type": "execute_result"
    }
   ],
   "source": [
    "apple_txt.sort_values('txtlen', ascending=False).loc[:, ['srclen', 'txtlen', 'tag', 'value']].head(20)"
   ]
  },
  {
   "cell_type": "code",
   "execution_count": 65,
   "metadata": {
    "ExecuteTime": {
     "end_time": "2018-06-12T21:06:17.964399Z",
     "start_time": "2018-06-12T21:06:17.950323Z"
    },
    "scrolled": true
   },
   "outputs": [],
   "source": [
    "apple_txt.to_csv('apple_file.csv', index=False)"
   ]
  },
  {
   "cell_type": "markdown",
   "metadata": {},
   "source": [
    "#### Get index"
   ]
  },
  {
   "cell_type": "code",
   "execution_count": 57,
   "metadata": {
    "ExecuteTime": {
     "end_time": "2018-06-12T21:53:52.211326Z",
     "start_time": "2018-06-12T21:53:52.209360Z"
    },
    "scrolled": true
   },
   "outputs": [],
   "source": [
    "index_path = data_path / 'filings'"
   ]
  },
  {
   "cell_type": "code",
   "execution_count": 58,
   "metadata": {
    "ExecuteTime": {
     "end_time": "2018-06-12T21:53:59.966005Z",
     "start_time": "2018-06-12T21:53:52.919035Z"
    },
    "scrolled": true
   },
   "outputs": [
    {
     "name": "stdout",
     "output_type": "stream",
     "text": [
      "<class 'pandas.core.frame.DataFrame'>\n",
      "Int64Index: 17679083 entries, 0 to 952928\n",
      "Data columns (total 5 columns):\n",
      "cik        object\n",
      "company    object\n",
      "form       object\n",
      "date       datetime64[ns]\n",
      "url        object\n",
      "dtypes: datetime64[ns](1), object(4)\n",
      "memory usage: 809.3+ MB\n"
     ]
    }
   ],
   "source": [
    "index = pd.read_parquet(index_path / 'index.parquet')\n",
    "index.info()"
   ]
  },
  {
   "cell_type": "code",
   "execution_count": 59,
   "metadata": {
    "ExecuteTime": {
     "end_time": "2018-06-12T21:54:27.800985Z",
     "start_time": "2018-06-12T21:54:24.999156Z"
    },
    "scrolled": true
   },
   "outputs": [
    {
     "data": {
      "text/plain": [
       "236420    edgar/data/320193/0000320193-18-000007.txt\n",
       "Name: url, dtype: object"
      ]
     },
     "execution_count": 59,
     "metadata": {},
     "output_type": "execute_result"
    }
   ],
   "source": [
    "filing = index[(index.cik.astype(int) == apple_10Q.cik) & \n",
    "            (index.form == apple_sub.form) & \n",
    "            (index.date.dt.year == 2018) &\n",
    "            (index.date.dt.quarter == 1)\n",
    "           ]\n",
    "filing.url"
   ]
  },
  {
   "cell_type": "code",
   "execution_count": 113,
   "metadata": {
    "ExecuteTime": {
     "end_time": "2018-06-12T22:05:05.470361Z",
     "start_time": "2018-06-12T22:05:05.467515Z"
    },
    "scrolled": true
   },
   "outputs": [
    {
     "data": {
      "text/plain": [
       "'0000320193-18-000007'"
      ]
     },
     "execution_count": 113,
     "metadata": {},
     "output_type": "execute_result"
    }
   ],
   "source": [
    "apple_sub.adsh"
   ]
  },
  {
   "cell_type": "code",
   "execution_count": 150,
   "metadata": {
    "ExecuteTime": {
     "end_time": "2018-06-12T22:17:18.504202Z",
     "start_time": "2018-06-12T22:17:18.500220Z"
    },
    "scrolled": true
   },
   "outputs": [],
   "source": [
    "xbrl_tag = 'us-gaap:FinancialInstrumentsDisclosureTextBlock'"
   ]
  },
  {
   "cell_type": "code",
   "execution_count": 153,
   "metadata": {
    "ExecuteTime": {
     "end_time": "2018-06-12T22:19:14.210165Z",
     "start_time": "2018-06-12T22:19:14.064975Z"
    },
    "scrolled": true
   },
   "outputs": [],
   "source": [
    "url = f'https://www.sec.gov/Archives/edgar/data/{apple_sub.cik}/{apple_sub.adsh}.txt'\n",
    "f = requests.get(url=url).text"
   ]
  },
  {
   "cell_type": "code",
   "execution_count": 163,
   "metadata": {
    "ExecuteTime": {
     "end_time": "2018-06-12T22:32:36.743397Z",
     "start_time": "2018-06-12T22:32:36.718820Z"
    },
    "scrolled": false
   },
   "outputs": [
    {
     "name": "stdout",
     "output_type": "stream",
     "text": [
      "388906\n"
     ]
    }
   ],
   "source": [
    "s = re.search(r'{0}(.*?){0}'.format(xbrl_tag), f)\n",
    "print(len(s.group(1)))"
   ]
  },
  {
   "cell_type": "code",
   "execution_count": 157,
   "metadata": {
    "ExecuteTime": {
     "end_time": "2018-06-12T22:20:18.530471Z",
     "start_time": "2018-06-12T22:20:16.040696Z"
    },
    "scrolled": true
   },
   "outputs": [],
   "source": [
    "soup = BeautifulSoup(f, 'lxml')\n",
    "for tag in soup.find_all():\n",
    "    if tag.name in apple_txt.tag.tolist():\n",
    "        print(tag, ': ' + tag.text)"
   ]
  },
  {
   "cell_type": "code",
   "execution_count": 165,
   "metadata": {
    "ExecuteTime": {
     "end_time": "2018-06-12T22:33:25.171071Z",
     "start_time": "2018-06-12T22:33:25.166690Z"
    },
    "scrolled": true
   },
   "outputs": [],
   "source": [
    "res = re.search(xbrl_tag, f)"
   ]
  },
  {
   "cell_type": "code",
   "execution_count": 167,
   "metadata": {
    "ExecuteTime": {
     "end_time": "2018-06-12T22:33:29.292402Z",
     "start_time": "2018-06-12T22:33:29.289598Z"
    },
    "scrolled": true
   },
   "outputs": [
    {
     "data": {
      "text/plain": [
       "'rValueMeasurementPolicyPolicyTextBlock>\\n\\t<us-gaap:FinancialInstrumentsDisclosureTextBlock contextRef=\"FD2018Q1YTD\" id=\"Fact-D561C3C1DC2A5F31BF6C478E622A44CF\">&lt;div style=\"font-family:Times New Roman;font-size:10pt;\"&gt;&lt;div style=\"lin'"
      ]
     },
     "execution_count": 167,
     "metadata": {},
     "output_type": "execute_result"
    }
   ],
   "source": [
    "f[start-50: stop+150]"
   ]
  }
 ],
 "metadata": {
  "kernelspec": {
   "display_name": "Python 3",
   "language": "python",
   "name": "python3"
  },
  "language_info": {
   "codemirror_mode": {
    "name": "ipython",
    "version": 3
   },
   "file_extension": ".py",
   "mimetype": "text/x-python",
   "name": "python",
   "nbconvert_exporter": "python",
   "pygments_lexer": "ipython3",
   "version": "3.6.4"
  },
  "toc": {
   "base_numbering": 1,
   "nav_menu": {},
   "number_sections": true,
   "sideBar": true,
   "skip_h1_title": false,
   "title_cell": "Table of Contents",
   "title_sidebar": "Contents",
   "toc_cell": false,
   "toc_position": {},
   "toc_section_display": true,
   "toc_window_display": true
  }
 },
 "nbformat": 4,
 "nbformat_minor": 2
}
