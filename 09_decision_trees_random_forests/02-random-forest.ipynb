{
 "cells": [
  {
   "cell_type": "code",
   "execution_count": 4,
   "metadata": {
    "ExecuteTime": {
     "end_time": "2018-09-26T00:38:44.759032Z",
     "start_time": "2018-09-26T00:38:44.754571Z"
    }
   },
   "outputs": [],
   "source": [
    "%matplotlib inline\n",
    "\n",
    "import warnings\n",
    "import os\n",
    "from pathlib import Path\n",
    "import quandl\n",
    "import numpy as np\n",
    "import pandas as pd\n",
    "\n",
    "import matplotlib.pyplot as plt\n",
    "import seaborn as sns\n",
    "\n",
    "from sklearn.ensemble import RandomForestRegressor, RandomForestClassifier, BaggingClassifier, BaggingRegressor\n",
    "from sklearn.model_selection import train_test_split, cross_val_score, GridSearchCV\n",
    "from sklearn.metrics import roc_auc_score, roc_curve, mean_squared_error, precision_recall_curve"
   ]
  },
  {
   "cell_type": "code",
   "execution_count": 2,
   "metadata": {
    "ExecuteTime": {
     "end_time": "2018-09-25T13:47:53.586160Z",
     "start_time": "2018-09-25T13:47:53.583868Z"
    }
   },
   "outputs": [],
   "source": [
    "warnings.filterwarnings('ignore')\n",
    "plt.style.use('ggplot')"
   ]
  },
  {
   "cell_type": "markdown",
   "metadata": {},
   "source": [
    "## Get Data"
   ]
  },
  {
   "cell_type": "code",
   "execution_count": 1,
   "metadata": {
    "ExecuteTime": {
     "end_time": "2018-09-26T00:36:34.462642Z",
     "start_time": "2018-09-26T00:36:34.094356Z"
    }
   },
   "outputs": [
    {
     "name": "stdout",
     "output_type": "stream",
     "text": [
      "<class 'pandas.core.frame.DataFrame'>\n",
      "Index: 174551 entries, A to ZUMZ\n",
      "Data columns (total 61 columns):\n",
      "returns                  174551 non-null float64\n",
      "t-1                      174551 non-null float64\n",
      "t-2                      174551 non-null float64\n",
      "t-3                      174551 non-null float64\n",
      "t-4                      174551 non-null float64\n",
      "t-5                      174551 non-null float64\n",
      "t-6                      174551 non-null float64\n",
      "t-7                      174551 non-null float64\n",
      "t-8                      174551 non-null float64\n",
      "t-9                      174551 non-null float64\n",
      "t-10                     174551 non-null float64\n",
      "t-11                     174551 non-null float64\n",
      "t-12                     174551 non-null float64\n",
      "year_2010                174551 non-null uint8\n",
      "year_2011                174551 non-null uint8\n",
      "year_2012                174551 non-null uint8\n",
      "year_2013                174551 non-null uint8\n",
      "year_2014                174551 non-null uint8\n",
      "year_2015                174551 non-null uint8\n",
      "year_2016                174551 non-null uint8\n",
      "year_2017                174551 non-null uint8\n",
      "year_2018                174551 non-null uint8\n",
      "month_1                  174551 non-null uint8\n",
      "month_2                  174551 non-null uint8\n",
      "month_3                  174551 non-null uint8\n",
      "month_4                  174551 non-null uint8\n",
      "month_5                  174551 non-null uint8\n",
      "month_6                  174551 non-null uint8\n",
      "month_7                  174551 non-null uint8\n",
      "month_8                  174551 non-null uint8\n",
      "month_9                  174551 non-null uint8\n",
      "month_10                 174551 non-null uint8\n",
      "month_11                 174551 non-null uint8\n",
      "month_12                 174551 non-null uint8\n",
      "size_1                   174551 non-null int8\n",
      "size_2                   174551 non-null int8\n",
      "size_3                   174551 non-null int8\n",
      "size_4                   174551 non-null int8\n",
      "size_5                   174551 non-null int8\n",
      "size_6                   174551 non-null int8\n",
      "size_7                   174551 non-null int8\n",
      "size_8                   174551 non-null int8\n",
      "size_9                   174551 non-null int8\n",
      "size_10                  174551 non-null int8\n",
      "age_1                    174551 non-null int8\n",
      "age_2                    174551 non-null int8\n",
      "age_3                    174551 non-null int8\n",
      "age_4                    174551 non-null int8\n",
      "age_5                    174551 non-null int8\n",
      "Basic Industries         174551 non-null int8\n",
      "Capital Goods            174551 non-null int8\n",
      "Consumer Durables        174551 non-null int8\n",
      "Consumer Non-Durables    174551 non-null int8\n",
      "Consumer Services        174551 non-null int8\n",
      "Energy                   174551 non-null int8\n",
      "Finance                  174551 non-null int8\n",
      "Health Care              174551 non-null int8\n",
      "Miscellaneous            174551 non-null int8\n",
      "Public Utilities         174551 non-null int8\n",
      "Technology               174551 non-null int8\n",
      "Transportation           174551 non-null int8\n",
      "dtypes: float64(13), int8(27), uint8(21)\n",
      "memory usage: 26.6+ MB\n"
     ]
    }
   ],
   "source": [
    "with pd.HDFStore('data.h5') as store:\n",
    "    data = store['data']\n",
    "data.info()"
   ]
  },
  {
   "cell_type": "markdown",
   "metadata": {},
   "source": [
    "### Stock Prices"
   ]
  },
  {
   "cell_type": "code",
   "execution_count": 2,
   "metadata": {
    "ExecuteTime": {
     "end_time": "2018-09-26T00:36:45.697049Z",
     "start_time": "2018-09-26T00:36:45.680068Z"
    }
   },
   "outputs": [],
   "source": [
    "y = data.returns\n",
    "X = data.drop('returns', axis=1)"
   ]
  },
  {
   "cell_type": "markdown",
   "metadata": {},
   "source": [
    "## Explore Data"
   ]
  },
  {
   "cell_type": "code",
   "execution_count": 5,
   "metadata": {
    "ExecuteTime": {
     "end_time": "2018-09-25T13:48:01.861016Z",
     "start_time": "2018-09-25T13:48:01.823176Z"
    }
   },
   "outputs": [
    {
     "data": {
      "text/plain": [
       "count    174551.000000\n",
       "mean          0.009913\n",
       "std           0.055606\n",
       "min          -0.128560\n",
       "10%          -0.064080\n",
       "20%          -0.036451\n",
       "30.0%        -0.017798\n",
       "40%          -0.002855\n",
       "50%           0.010522\n",
       "60%           0.023904\n",
       "70%           0.038457\n",
       "80%           0.056050\n",
       "90%           0.082772\n",
       "max           0.146335\n",
       "Name: returns, dtype: float64"
      ]
     },
     "execution_count": 5,
     "metadata": {},
     "output_type": "execute_result"
    }
   ],
   "source": [
    "y.describe(percentiles=np.arange(.1, .91, .1))"
   ]
  },
  {
   "cell_type": "code",
   "execution_count": 6,
   "metadata": {
    "ExecuteTime": {
     "end_time": "2018-09-25T13:48:02.067046Z",
     "start_time": "2018-09-25T13:48:02.061158Z"
    }
   },
   "outputs": [],
   "source": [
    "y_binary = (y>0).astype(int)"
   ]
  },
  {
   "cell_type": "code",
   "execution_count": null,
   "metadata": {},
   "outputs": [],
   "source": []
  },
  {
   "cell_type": "code",
   "execution_count": null,
   "metadata": {},
   "outputs": [],
   "source": []
  },
  {
   "cell_type": "markdown",
   "metadata": {},
   "source": [
    "### Feature Importance"
   ]
  },
  {
   "cell_type": "code",
   "execution_count": null,
   "metadata": {},
   "outputs": [],
   "source": []
  },
  {
   "cell_type": "code",
   "execution_count": null,
   "metadata": {},
   "outputs": [],
   "source": []
  }
 ],
 "metadata": {
  "kernelspec": {
   "display_name": "Python 3",
   "language": "python",
   "name": "python3"
  },
  "language_info": {
   "codemirror_mode": {
    "name": "ipython",
    "version": 3
   },
   "file_extension": ".py",
   "mimetype": "text/x-python",
   "name": "python",
   "nbconvert_exporter": "python",
   "pygments_lexer": "ipython3",
   "version": "3.6.4"
  },
  "toc": {
   "base_numbering": 1,
   "nav_menu": {},
   "number_sections": true,
   "sideBar": true,
   "skip_h1_title": false,
   "title_cell": "Table of Contents",
   "title_sidebar": "Contents",
   "toc_cell": false,
   "toc_position": {},
   "toc_section_display": true,
   "toc_window_display": true
  }
 },
 "nbformat": 4,
 "nbformat_minor": 2
}
