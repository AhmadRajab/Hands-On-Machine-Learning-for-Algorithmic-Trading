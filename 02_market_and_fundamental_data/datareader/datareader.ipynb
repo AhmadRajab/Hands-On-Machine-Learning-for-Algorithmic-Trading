{
 "cells": [
  {
   "cell_type": "code",
   "execution_count": 2,
   "metadata": {
    "ExecuteTime": {
     "end_time": "2018-06-14T17:31:04.255559Z",
     "start_time": "2018-06-14T17:31:04.246266Z"
    }
   },
   "outputs": [],
   "source": [
    "import pandas_datareader.data as web\n",
    "import datetime\n",
    "from pprint import pprint"
   ]
  },
  {
   "cell_type": "code",
   "execution_count": 3,
   "metadata": {
    "ExecuteTime": {
     "end_time": "2018-06-14T17:31:06.112249Z",
     "start_time": "2018-06-14T17:31:05.735014Z"
    }
   },
   "outputs": [
    {
     "data": {
      "text/plain": [
       "2"
      ]
     },
     "execution_count": 3,
     "metadata": {},
     "output_type": "execute_result"
    }
   ],
   "source": [
    "sp_url = 'https://en.wikipedia.org/wiki/List_of_S%26P_500_companies'\n",
    "sp = pd.read_html(sp_url, header=0)\n",
    "len(sp)"
   ]
  },
  {
   "cell_type": "code",
   "execution_count": 4,
   "metadata": {
    "ExecuteTime": {
     "end_time": "2018-06-14T17:31:06.994756Z",
     "start_time": "2018-06-14T17:31:06.973120Z"
    }
   },
   "outputs": [
    {
     "name": "stdout",
     "output_type": "stream",
     "text": [
      "<class 'pandas.core.frame.DataFrame'>\n",
      "RangeIndex: 505 entries, 0 to 504\n",
      "Data columns (total 9 columns):\n",
      "Ticker symbol             505 non-null object\n",
      "Security                  505 non-null object\n",
      "SEC filings               505 non-null object\n",
      "GICS Sector               505 non-null object\n",
      "GICS Sub Industry         505 non-null object\n",
      "Location                  505 non-null object\n",
      "Date first added[3][4]    398 non-null object\n",
      "CIK                       505 non-null int64\n",
      "Founded                   139 non-null object\n",
      "dtypes: int64(1), object(8)\n",
      "memory usage: 35.6+ KB\n"
     ]
    }
   ],
   "source": [
    "sp[0].info()"
   ]
  },
  {
   "cell_type": "code",
   "execution_count": 10,
   "metadata": {},
   "outputs": [
    {
     "name": "stdout",
     "output_type": "stream",
     "text": [
      "<class 'pandas.core.frame.DataFrame'>\n",
      "RangeIndex: 188 entries, 0 to 187\n",
      "Data columns (total 6 columns):\n",
      "Unnamed: 0    188 non-null object\n",
      "Added         186 non-null object\n",
      "Removed       184 non-null object\n",
      "Unnamed: 3    181 non-null object\n",
      "Unnamed: 4    159 non-null object\n",
      "Unnamed: 5    161 non-null object\n",
      "dtypes: object(6)\n",
      "memory usage: 8.9+ KB\n"
     ]
    }
   ],
   "source": [
    "sp[1].info()"
   ]
  },
  {
   "cell_type": "markdown",
   "metadata": {},
   "source": [
    "### Google Finance"
   ]
  },
  {
   "cell_type": "code",
   "execution_count": null,
   "metadata": {
    "ExecuteTime": {
     "end_time": "2018-06-14T17:30:47.652544Z",
     "start_time": "2018-06-14T17:30:47.307057Z"
    }
   },
   "outputs": [],
   "source": [
    "start = datetime.datetime(2010, 1, 1)\n",
    "end = datetime.datetime(2013, 1, 27)\n",
    "f = web.DataReader('F', 'google', start, end)"
   ]
  },
  {
   "cell_type": "markdown",
   "metadata": {},
   "source": [
    "### Morningstar"
   ]
  },
  {
   "cell_type": "code",
   "execution_count": 8,
   "metadata": {
    "ExecuteTime": {
     "end_time": "2018-06-14T17:43:05.069469Z",
     "start_time": "2018-06-14T17:43:04.751555Z"
    }
   },
   "outputs": [
    {
     "name": "stdout",
     "output_type": "stream",
     "text": [
      "<class 'pandas.core.frame.DataFrame'>\n",
      "MultiIndex: 1161 entries, (FB, 2014-01-01 00:00:00) to (FB, 2018-06-13 00:00:00)\n",
      "Data columns (total 5 columns):\n",
      "Close     1161 non-null float64\n",
      "High      1161 non-null float64\n",
      "Low       1161 non-null float64\n",
      "Open      1161 non-null float64\n",
      "Volume    1161 non-null int64\n",
      "dtypes: float64(4), int64(1)\n",
      "memory usage: 57.9+ KB\n"
     ]
    }
   ],
   "source": [
    "import pandas_datareader.data as web\n",
    "\n",
    "from datetime import datetime\n",
    "\n",
    "start = '2014'\n",
    "end = datetime.today() # default\n",
    "\n",
    "ms = web.DataReader('FB', 'morningstar', start=start, end=end)\n",
    "ms.info()"
   ]
  },
  {
   "cell_type": "code",
   "execution_count": 9,
   "metadata": {
    "ExecuteTime": {
     "end_time": "2018-06-14T17:44:02.102416Z",
     "start_time": "2018-06-14T17:44:01.634570Z"
    },
    "scrolled": true
   },
   "outputs": [
    {
     "name": "stdout",
     "output_type": "stream",
     "text": [
      "<class 'pandas.core.frame.DataFrame'>\n",
      "MultiIndex: 2322 entries, (FB, 2014-01-01 00:00:00) to (AAPL, 2018-06-13 00:00:00)\n",
      "Data columns (total 5 columns):\n",
      "Close     2322 non-null float64\n",
      "High      2322 non-null float64\n",
      "Low       2322 non-null float64\n",
      "Open      2322 non-null float64\n",
      "Volume    2322 non-null int64\n",
      "dtypes: float64(4), int64(1)\n",
      "memory usage: 106.7+ KB\n"
     ]
    }
   ],
   "source": [
    "web.DataReader(['FB', 'AAPL'], 'morningstar', start).info()"
   ]
  },
  {
   "cell_type": "markdown",
   "metadata": {},
   "source": [
    "### IEX"
   ]
  },
  {
   "cell_type": "code",
   "execution_count": 11,
   "metadata": {
    "ExecuteTime": {
     "end_time": "2018-06-14T17:53:32.275406Z",
     "start_time": "2018-06-14T17:53:31.991883Z"
    }
   },
   "outputs": [
    {
     "name": "stdout",
     "output_type": "stream",
     "text": [
      "<class 'pandas.core.frame.DataFrame'>\n",
      "Index: 843 entries, 2015-02-09 to 2018-06-13\n",
      "Data columns (total 5 columns):\n",
      "open      843 non-null float64\n",
      "high      843 non-null float64\n",
      "low       843 non-null float64\n",
      "close     843 non-null float64\n",
      "volume    843 non-null int64\n",
      "dtypes: float64(4), int64(1)\n",
      "memory usage: 39.5+ KB\n"
     ]
    }
   ],
   "source": [
    "import pandas_datareader.data as web\n",
    "\n",
    "from datetime import datetime\n",
    "\n",
    "# start = datetime(2015, 2, 9)\n",
    "# end = datetime(2017, 5, 24)\n",
    "\n",
    "iex = web.DataReader('FB', 'iex', start)\n",
    "iex.info()"
   ]
  },
  {
   "cell_type": "code",
   "execution_count": 19,
   "metadata": {},
   "outputs": [
    {
     "data": {
      "text/html": [
       "<div>\n",
       "<table border=\"1\" class=\"dataframe\">\n",
       "  <thead>\n",
       "    <tr style=\"text-align: right;\">\n",
       "      <th></th>\n",
       "      <th>open</th>\n",
       "      <th>high</th>\n",
       "      <th>low</th>\n",
       "      <th>close</th>\n",
       "      <th>volume</th>\n",
       "    </tr>\n",
       "    <tr>\n",
       "      <th>date</th>\n",
       "      <th></th>\n",
       "      <th></th>\n",
       "      <th></th>\n",
       "      <th></th>\n",
       "      <th></th>\n",
       "    </tr>\n",
       "  </thead>\n",
       "  <tbody>\n",
       "    <tr>\n",
       "      <th>2017-05-18</th>\n",
       "      <td>10.0788</td>\n",
       "      <td>10.1633</td>\n",
       "      <td>10.0506</td>\n",
       "      <td>10.1351</td>\n",
       "      <td>37890811</td>\n",
       "    </tr>\n",
       "    <tr>\n",
       "      <th>2017-05-19</th>\n",
       "      <td>10.1539</td>\n",
       "      <td>10.2760</td>\n",
       "      <td>10.1351</td>\n",
       "      <td>10.2103</td>\n",
       "      <td>32431694</td>\n",
       "    </tr>\n",
       "    <tr>\n",
       "      <th>2017-05-22</th>\n",
       "      <td>10.4357</td>\n",
       "      <td>10.4545</td>\n",
       "      <td>10.3136</td>\n",
       "      <td>10.4263</td>\n",
       "      <td>73334997</td>\n",
       "    </tr>\n",
       "    <tr>\n",
       "      <th>2017-05-23</th>\n",
       "      <td>10.4827</td>\n",
       "      <td>10.4874</td>\n",
       "      <td>10.3042</td>\n",
       "      <td>10.3794</td>\n",
       "      <td>40816647</td>\n",
       "    </tr>\n",
       "    <tr>\n",
       "      <th>2017-05-24</th>\n",
       "      <td>10.3888</td>\n",
       "      <td>10.3888</td>\n",
       "      <td>10.2103</td>\n",
       "      <td>10.2948</td>\n",
       "      <td>46732734</td>\n",
       "    </tr>\n",
       "  </tbody>\n",
       "</table>\n",
       "</div>"
      ],
      "text/plain": [
       "               open     high      low    close    volume\n",
       "date                                                    \n",
       "2017-05-18  10.0788  10.1633  10.0506  10.1351  37890811\n",
       "2017-05-19  10.1539  10.2760  10.1351  10.2103  32431694\n",
       "2017-05-22  10.4357  10.4545  10.3136  10.4263  73334997\n",
       "2017-05-23  10.4827  10.4874  10.3042  10.3794  40816647\n",
       "2017-05-24  10.3888  10.3888  10.2103  10.2948  46732734"
      ]
     },
     "execution_count": 19,
     "metadata": {},
     "output_type": "execute_result"
    }
   ],
   "source": [
    "f.tail()"
   ]
  },
  {
   "cell_type": "markdown",
   "metadata": {},
   "source": [
    "#### Book Data\n",
    "\n",
    "DEEP is used to receive real-time depth of book quotations direct from IEX. The depth of book quotations received via DEEP provide an aggregated size of resting displayed orders at a price and side, and do not indicate the size or number of individual orders at any price level. Non-displayed orders and non-displayed portions of reserve orders are not represented in DEEP.\n",
    "\n",
    "DEEP also provides last trade price and size information. Trades resulting from either displayed or non-displayed orders matching on IEX will be reported. Routed executions will not be reported."
   ]
  },
  {
   "cell_type": "code",
   "execution_count": 12,
   "metadata": {
    "ExecuteTime": {
     "end_time": "2018-06-14T17:54:38.604084Z",
     "start_time": "2018-06-14T17:54:38.420888Z"
    }
   },
   "outputs": [],
   "source": [
    "book = web.get_iex_book('AAPL')"
   ]
  },
  {
   "cell_type": "code",
   "execution_count": 17,
   "metadata": {
    "ExecuteTime": {
     "end_time": "2018-06-14T17:55:36.839950Z",
     "start_time": "2018-06-14T17:55:36.828473Z"
    }
   },
   "outputs": [
    {
     "data": {
      "text/plain": [
       "['symbol',\n",
       " 'marketPercent',\n",
       " 'volume',\n",
       " 'lastSalePrice',\n",
       " 'lastSaleSize',\n",
       " 'lastSaleTime',\n",
       " 'lastUpdated',\n",
       " 'bids',\n",
       " 'asks',\n",
       " 'systemEvent',\n",
       " 'tradingStatus',\n",
       " 'opHaltStatus',\n",
       " 'ssrStatus',\n",
       " 'securityEvent',\n",
       " 'trades',\n",
       " 'tradeBreaks']"
      ]
     },
     "execution_count": 17,
     "metadata": {},
     "output_type": "execute_result"
    }
   ],
   "source": [
    "list(book.keys())"
   ]
  },
  {
   "cell_type": "code",
   "execution_count": 30,
   "metadata": {
    "ExecuteTime": {
     "end_time": "2018-06-14T18:06:54.478668Z",
     "start_time": "2018-06-14T18:06:54.136363Z"
    }
   },
   "outputs": [
    {
     "data": {
      "text/html": [
       "<div>\n",
       "<style scoped>\n",
       "    .dataframe tbody tr th:only-of-type {\n",
       "        vertical-align: middle;\n",
       "    }\n",
       "\n",
       "    .dataframe tbody tr th {\n",
       "        vertical-align: top;\n",
       "    }\n",
       "\n",
       "    .dataframe thead th {\n",
       "        text-align: right;\n",
       "    }\n",
       "</style>\n",
       "<table border=\"1\" class=\"dataframe\">\n",
       "  <thead>\n",
       "    <tr style=\"text-align: right;\">\n",
       "      <th></th>\n",
       "      <th>price</th>\n",
       "      <th>size</th>\n",
       "      <th>timestamp</th>\n",
       "      <th>side</th>\n",
       "    </tr>\n",
       "  </thead>\n",
       "  <tbody>\n",
       "    <tr>\n",
       "      <th>5</th>\n",
       "      <td>140.00</td>\n",
       "      <td>100</td>\n",
       "      <td>1528983003604</td>\n",
       "      <td>bids</td>\n",
       "    </tr>\n",
       "    <tr>\n",
       "      <th>4</th>\n",
       "      <td>175.30</td>\n",
       "      <td>100</td>\n",
       "      <td>1528983900163</td>\n",
       "      <td>bids</td>\n",
       "    </tr>\n",
       "    <tr>\n",
       "      <th>1</th>\n",
       "      <td>205.80</td>\n",
       "      <td>100</td>\n",
       "      <td>1528983900163</td>\n",
       "      <td>asks</td>\n",
       "    </tr>\n",
       "    <tr>\n",
       "      <th>2</th>\n",
       "      <td>187.00</td>\n",
       "      <td>200</td>\n",
       "      <td>1528996876005</td>\n",
       "      <td>bids</td>\n",
       "    </tr>\n",
       "    <tr>\n",
       "      <th>3</th>\n",
       "      <td>186.29</td>\n",
       "      <td>100</td>\n",
       "      <td>1528997296755</td>\n",
       "      <td>bids</td>\n",
       "    </tr>\n",
       "  </tbody>\n",
       "</table>\n",
       "</div>"
      ],
      "text/plain": [
       "    price  size      timestamp  side\n",
       "5  140.00   100  1528983003604  bids\n",
       "4  175.30   100  1528983900163  bids\n",
       "1  205.80   100  1528983900163  asks\n",
       "2  187.00   200  1528996876005  bids\n",
       "3  186.29   100  1528997296755  bids"
      ]
     },
     "execution_count": 30,
     "metadata": {},
     "output_type": "execute_result"
    }
   ],
   "source": [
    "book = web.get_iex_book('AAPL')\n",
    "orders = pd.concat([pd.DataFrame(book[side]).assign(side=side) for side in ['bids', 'asks']])\n",
    "orders.sort_values('timestamp').head()"
   ]
  },
  {
   "cell_type": "code",
   "execution_count": 24,
   "metadata": {
    "ExecuteTime": {
     "end_time": "2018-06-14T18:00:55.768078Z",
     "start_time": "2018-06-14T18:00:55.723698Z"
    }
   },
   "outputs": [
    {
     "name": "stdout",
     "output_type": "stream",
     "text": [
      "\n",
      "symbol\n",
      "AAPL\n",
      "\n",
      "marketPercent\n",
      "0.02038\n",
      "\n",
      "volume\n",
      "254696\n",
      "\n",
      "lastSalePrice\n",
      "191.125\n",
      "\n",
      "lastSaleSize\n",
      "100\n",
      "\n",
      "lastSaleTime\n",
      "1528998875672\n",
      "\n",
      "lastUpdated\n",
      "1528998877130\n",
      "\n",
      "bids\n",
      "    price  size      timestamp\n",
      "0  191.09   200  1528998876719\n",
      "1  187.00   200  1528996876005\n",
      "2  186.29   100  1528997296755\n",
      "3  175.30   100  1528983900163\n",
      "4  140.00   100  1528983003604\n",
      "\n",
      "asks\n",
      "    price  size      timestamp\n",
      "0  191.12   100  1528998877130\n",
      "1  191.15   100  1528998864859\n",
      "2  195.84   100  1528997296756\n",
      "3  205.80   100  1528983900163\n",
      "\n",
      "systemEvent\n",
      "{'systemEvent': 'R', 'timestamp': 1528983000000}\n",
      "\n",
      "tradingStatus\n",
      "{'status': 'T', 'reason': '    ', 'timestamp': 1528975180015}\n",
      "\n",
      "opHaltStatus\n",
      "{'isHalted': False, 'timestamp': 1528975180015}\n",
      "\n",
      "ssrStatus\n",
      "{'isSSR': False, 'detail': ' ', 'timestamp': 1528975180015}\n",
      "\n",
      "securityEvent\n",
      "{'securityEvent': 'MarketOpen', 'timestamp': 1528983000000}\n",
      "\n",
      "trades\n",
      "    isISO  isOddLot  isOutsideRegularHours  isSinglePriceCross  \\\n",
      "0   False     False                  False               False   \n",
      "1   False     False                  False               False   \n",
      "2    True     False                  False               False   \n",
      "3   False     False                  False               False   \n",
      "4    True      True                  False               False   \n",
      "5    True     False                  False               False   \n",
      "6    True      True                  False               False   \n",
      "7    True     False                  False               False   \n",
      "8   False      True                  False               False   \n",
      "9    True     False                  False               False   \n",
      "10  False     False                  False               False   \n",
      "11  False     False                  False               False   \n",
      "12  False      True                  False               False   \n",
      "13   True     False                  False               False   \n",
      "14  False     False                  False               False   \n",
      "15   True     False                  False               False   \n",
      "16   True     False                  False               False   \n",
      "17   True     False                  False               False   \n",
      "18  False     False                  False               False   \n",
      "19  False     False                  False               False   \n",
      "\n",
      "    isTradeThroughExempt    price  size      timestamp    tradeId  \n",
      "0                  False  191.125   100  1528998875672  487056388  \n",
      "1                  False  191.125   100  1528998872720  486990285  \n",
      "2                  False  191.095   100  1528998846456  486467954  \n",
      "3                  False  191.095   100  1528998841313  486378991  \n",
      "4                  False  191.100    74  1528998828388  486130163  \n",
      "5                  False  191.100   100  1528998828388  486130156  \n",
      "6                  False  191.100    26  1528998827882  486123049  \n",
      "7                  False  191.095   100  1528998825182  486075638  \n",
      "8                  False  191.120     1  1528998818542  485960018  \n",
      "9                  False  191.115   100  1528998816360  485925974  \n",
      "10                 False  191.115   100  1528998811671  485851979  \n",
      "11                 False  191.115   100  1528998801013  485648415  \n",
      "12                 False  191.100     5  1528998786596  485382228  \n",
      "13                 False  191.100   100  1528998786552  485381231  \n",
      "14                 False  191.100   100  1528998783366  485302451  \n",
      "15                 False  191.125   100  1528998782313  485214336  \n",
      "16                 False  191.090   100  1528998781425  485177862  \n",
      "17                 False  191.055   100  1528998780450  485147754  \n",
      "18                 False  191.055   100  1528998777634  485096585  \n",
      "19                 False  191.045   100  1528998776563  485070591  \n",
      "\n",
      "tradeBreaks\n",
      "Empty DataFrame\n",
      "Columns: []\n",
      "Index: []\n"
     ]
    }
   ],
   "source": [
    "for key in book.keys():\n",
    "    try:\n",
    "        print(f'\\n{key}')\n",
    "        print(pd.DataFrame(book[key]))\n",
    "    except:\n",
    "        print(book[key])"
   ]
  },
  {
   "cell_type": "code",
   "execution_count": 18,
   "metadata": {
    "ExecuteTime": {
     "end_time": "2018-06-14T17:59:11.693134Z",
     "start_time": "2018-06-14T17:59:11.671552Z"
    }
   },
   "outputs": [
    {
     "data": {
      "text/html": [
       "<div>\n",
       "<style scoped>\n",
       "    .dataframe tbody tr th:only-of-type {\n",
       "        vertical-align: middle;\n",
       "    }\n",
       "\n",
       "    .dataframe tbody tr th {\n",
       "        vertical-align: top;\n",
       "    }\n",
       "\n",
       "    .dataframe thead th {\n",
       "        text-align: right;\n",
       "    }\n",
       "</style>\n",
       "<table border=\"1\" class=\"dataframe\">\n",
       "  <thead>\n",
       "    <tr style=\"text-align: right;\">\n",
       "      <th></th>\n",
       "      <th>isISO</th>\n",
       "      <th>isOddLot</th>\n",
       "      <th>isOutsideRegularHours</th>\n",
       "      <th>isSinglePriceCross</th>\n",
       "      <th>isTradeThroughExempt</th>\n",
       "      <th>price</th>\n",
       "      <th>size</th>\n",
       "      <th>timestamp</th>\n",
       "      <th>tradeId</th>\n",
       "    </tr>\n",
       "  </thead>\n",
       "  <tbody>\n",
       "    <tr>\n",
       "      <th>0</th>\n",
       "      <td>False</td>\n",
       "      <td>False</td>\n",
       "      <td>False</td>\n",
       "      <td>False</td>\n",
       "      <td>False</td>\n",
       "      <td>191.125</td>\n",
       "      <td>100</td>\n",
       "      <td>1528998875672</td>\n",
       "      <td>487056388</td>\n",
       "    </tr>\n",
       "    <tr>\n",
       "      <th>1</th>\n",
       "      <td>False</td>\n",
       "      <td>False</td>\n",
       "      <td>False</td>\n",
       "      <td>False</td>\n",
       "      <td>False</td>\n",
       "      <td>191.125</td>\n",
       "      <td>100</td>\n",
       "      <td>1528998872720</td>\n",
       "      <td>486990285</td>\n",
       "    </tr>\n",
       "    <tr>\n",
       "      <th>2</th>\n",
       "      <td>True</td>\n",
       "      <td>False</td>\n",
       "      <td>False</td>\n",
       "      <td>False</td>\n",
       "      <td>False</td>\n",
       "      <td>191.095</td>\n",
       "      <td>100</td>\n",
       "      <td>1528998846456</td>\n",
       "      <td>486467954</td>\n",
       "    </tr>\n",
       "    <tr>\n",
       "      <th>3</th>\n",
       "      <td>False</td>\n",
       "      <td>False</td>\n",
       "      <td>False</td>\n",
       "      <td>False</td>\n",
       "      <td>False</td>\n",
       "      <td>191.095</td>\n",
       "      <td>100</td>\n",
       "      <td>1528998841313</td>\n",
       "      <td>486378991</td>\n",
       "    </tr>\n",
       "    <tr>\n",
       "      <th>4</th>\n",
       "      <td>True</td>\n",
       "      <td>True</td>\n",
       "      <td>False</td>\n",
       "      <td>False</td>\n",
       "      <td>False</td>\n",
       "      <td>191.100</td>\n",
       "      <td>74</td>\n",
       "      <td>1528998828388</td>\n",
       "      <td>486130163</td>\n",
       "    </tr>\n",
       "  </tbody>\n",
       "</table>\n",
       "</div>"
      ],
      "text/plain": [
       "   isISO  isOddLot  isOutsideRegularHours  isSinglePriceCross  \\\n",
       "0  False     False                  False               False   \n",
       "1  False     False                  False               False   \n",
       "2   True     False                  False               False   \n",
       "3  False     False                  False               False   \n",
       "4   True      True                  False               False   \n",
       "\n",
       "   isTradeThroughExempt    price  size      timestamp    tradeId  \n",
       "0                 False  191.125   100  1528998875672  487056388  \n",
       "1                 False  191.125   100  1528998872720  486990285  \n",
       "2                 False  191.095   100  1528998846456  486467954  \n",
       "3                 False  191.095   100  1528998841313  486378991  \n",
       "4                 False  191.100    74  1528998828388  486130163  "
      ]
     },
     "execution_count": 18,
     "metadata": {},
     "output_type": "execute_result"
    }
   ],
   "source": [
    "pd.DataFrame(book['trades']).head()"
   ]
  },
  {
   "cell_type": "markdown",
   "metadata": {},
   "source": [
    "### Quandl"
   ]
  },
  {
   "cell_type": "code",
   "execution_count": 37,
   "metadata": {},
   "outputs": [
    {
     "name": "stdout",
     "output_type": "stream",
     "text": [
      "<class 'pandas.core.frame.DataFrame'>\n",
      "DatetimeIndex: 813 entries, 2018-03-27 to 2015-01-02\n",
      "Data columns (total 12 columns):\n",
      "Open          813 non-null float64\n",
      "High          813 non-null float64\n",
      "Low           813 non-null float64\n",
      "Close         813 non-null float64\n",
      "Volume        813 non-null float64\n",
      "ExDividend    813 non-null float64\n",
      "SplitRatio    813 non-null float64\n",
      "AdjOpen       813 non-null float64\n",
      "AdjHigh       813 non-null float64\n",
      "AdjLow        813 non-null float64\n",
      "AdjClose      813 non-null float64\n",
      "AdjVolume     813 non-null float64\n",
      "dtypes: float64(12)\n",
      "memory usage: 82.6 KB\n"
     ]
    }
   ],
   "source": [
    "symbol = 'FB.US'\n",
    "\n",
    "quandl = web.DataReader(symbol, 'quandl', '2015-01-01')\n",
    "quandl.info()"
   ]
  },
  {
   "cell_type": "code",
   "execution_count": null,
   "metadata": {},
   "outputs": [],
   "source": []
  },
  {
   "cell_type": "markdown",
   "metadata": {},
   "source": [
    "### FRED"
   ]
  },
  {
   "cell_type": "code",
   "execution_count": 39,
   "metadata": {},
   "outputs": [
    {
     "name": "stdout",
     "output_type": "stream",
     "text": [
      "<class 'pandas.core.frame.DataFrame'>\n",
      "DatetimeIndex: 13 entries, 2010-01-01 to 2013-01-01\n",
      "Data columns (total 1 columns):\n",
      "GDP    13 non-null float64\n",
      "dtypes: float64(1)\n",
      "memory usage: 208.0 bytes\n"
     ]
    }
   ],
   "source": [
    "start = datetime(2010, 1, 1)\n",
    "\n",
    "end = datetime(2013, 1, 27)\n",
    "\n",
    "gdp = web.DataReader('GDP', 'fred', start, end)\n",
    "\n",
    "gdp.info()"
   ]
  },
  {
   "cell_type": "code",
   "execution_count": 41,
   "metadata": {},
   "outputs": [
    {
     "name": "stdout",
     "output_type": "stream",
     "text": [
      "<class 'pandas.core.frame.DataFrame'>\n",
      "DatetimeIndex: 37 entries, 2010-01-01 to 2013-01-01\n",
      "Freq: MS\n",
      "Data columns (total 2 columns):\n",
      "CPIAUCSL    37 non-null float64\n",
      "CPILFESL    37 non-null float64\n",
      "dtypes: float64(2)\n",
      "memory usage: 888.0 bytes\n"
     ]
    }
   ],
   "source": [
    "inflation = web.DataReader(['CPIAUCSL', 'CPILFESL'], 'fred', start, end)\n",
    "inflation.info()"
   ]
  },
  {
   "cell_type": "markdown",
   "metadata": {},
   "source": [
    "### Fama/French"
   ]
  },
  {
   "cell_type": "code",
   "execution_count": 45,
   "metadata": {},
   "outputs": [
    {
     "data": {
      "text/plain": [
       "['F-F_Research_Data_Factors',\n",
       " 'F-F_Research_Data_Factors_weekly',\n",
       " 'F-F_Research_Data_Factors_daily',\n",
       " 'F-F_Research_Data_5_Factors_2x3',\n",
       " 'F-F_Research_Data_5_Factors_2x3_daily',\n",
       " 'Portfolios_Formed_on_ME',\n",
       " 'Portfolios_Formed_on_ME_Wout_Div',\n",
       " 'Portfolios_Formed_on_ME_Daily',\n",
       " 'Portfolios_Formed_on_BE-ME',\n",
       " 'Portfolios_Formed_on_BE-ME_Wout_Div',\n",
       " 'Portfolios_Formed_on_BE-ME_Daily',\n",
       " 'Portfolios_Formed_on_OP',\n",
       " 'Portfolios_Formed_on_OP_Wout_Div',\n",
       " 'Portfolios_Formed_on_INV',\n",
       " 'Portfolios_Formed_on_INV_Wout_Div',\n",
       " '6_Portfolios_2x3',\n",
       " '6_Portfolios_2x3_Wout_Div',\n",
       " '6_Portfolios_2x3_weekly',\n",
       " '6_Portfolios_2x3_daily',\n",
       " '25_Portfolios_5x5',\n",
       " '25_Portfolios_5x5_Wout_Div',\n",
       " '25_Portfolios_5x5_Daily',\n",
       " '100_Portfolios_10x10',\n",
       " '100_Portfolios_10x10_Wout_Div',\n",
       " '100_Portfolios_10x10_Daily',\n",
       " '6_Portfolios_ME_OP_2x3',\n",
       " '6_Portfolios_ME_OP_2x3_Wout_Div',\n",
       " '6_Portfolios_ME_OP_2x3_daily',\n",
       " '25_Portfolios_ME_OP_5x5',\n",
       " '25_Portfolios_ME_OP_5x5_Wout_Div',\n",
       " '25_Portfolios_ME_OP_5x5_daily',\n",
       " '100_Portfolios_ME_OP_10x10',\n",
       " '100_Portfolios_10x10_ME_OP_Wout_Div',\n",
       " '100_Portfolios_ME_OP_10x10_daily',\n",
       " '6_Portfolios_ME_INV_2x3',\n",
       " '6_Portfolios_ME_INV_2x3_Wout_Div',\n",
       " '6_Portfolios_ME_INV_2x3_daily',\n",
       " '25_Portfolios_ME_INV_5x5',\n",
       " '25_Portfolios_ME_INV_5x5_Wout_Div',\n",
       " '25_Portfolios_ME_INV_5x5_daily',\n",
       " '100_Portfolios_ME_INV_10x10',\n",
       " '100_Portfolios_10x10_ME_INV_Wout_Div',\n",
       " '100_Portfolios_ME_INV_10x10_daily',\n",
       " '25_Portfolios_BEME_OP_5x5',\n",
       " '25_Portfolios_BEME_OP_5x5_Wout_Div',\n",
       " '25_Portfolios_BEME_OP_5x5_daily',\n",
       " '25_Portfolios_BEME_INV_5x5',\n",
       " '25_Portfolios_BEME_INV_5x5_Wout_Div',\n",
       " '25_Portfolios_BEME_INV_5x5_daily',\n",
       " '25_Portfolios_OP_INV_5x5',\n",
       " '25_Portfolios_OP_INV_5x5_Wout_Div',\n",
       " '25_Portfolios_OP_INV_5x5_daily',\n",
       " '32_Portfolios_ME_BEME_OP_2x4x4',\n",
       " '32_Portfolios_ME_BEME_OP_2x4x4_Wout_Div',\n",
       " '32_Portfolios_ME_BEME_INV_2x4x4',\n",
       " '32_Portfolios_ME_BEME_INV_2x4x4_Wout_Div',\n",
       " '32_Portfolios_ME_OP_INV_2x4x4',\n",
       " '32_Portfolios_ME_OP_INV_2x4x4_Wout_Div',\n",
       " 'Portfolios_Formed_on_E-P',\n",
       " 'Portfolios_Formed_on_E-P_Wout_Div',\n",
       " 'Portfolios_Formed_on_CF-P',\n",
       " 'Portfolios_Formed_on_CF-P_Wout_Div',\n",
       " 'Portfolios_Formed_on_D-P',\n",
       " 'Portfolios_Formed_on_D-P_Wout_Div',\n",
       " '6_Portfolios_ME_EP_2x3',\n",
       " '6_Portfolios_ME_EP_2x3_Wout_Div',\n",
       " '6_Portfolios_ME_CFP_2x3',\n",
       " '6_Portfolios_ME_CFP_2x3_Wout_Div',\n",
       " '6_Portfolios_ME_DP_2x3',\n",
       " '6_Portfolios_ME_DP_2x3_Wout_Div',\n",
       " 'F-F_Momentum_Factor',\n",
       " 'F-F_Momentum_Factor_daily',\n",
       " '6_Portfolios_ME_Prior_12_2',\n",
       " '6_Portfolios_ME_Prior_12_2_Daily',\n",
       " '25_Portfolios_ME_Prior_12_2',\n",
       " '25_Portfolios_ME_Prior_12_2_Daily',\n",
       " '10_Portfolios_Prior_12_2',\n",
       " '10_Portfolios_Prior_12_2_Daily',\n",
       " 'F-F_ST_Reversal_Factor',\n",
       " 'F-F_ST_Reversal_Factor_daily',\n",
       " '6_Portfolios_ME_Prior_1_0',\n",
       " '6_Portfolios_ME_Prior_1_0_Daily',\n",
       " '25_Portfolios_ME_Prior_1_0',\n",
       " '25_Portfolios_ME_Prior_1_0_Daily',\n",
       " '10_Portfolios_Prior_1_0',\n",
       " '10_Portfolios_Prior_1_0_Daily',\n",
       " 'F-F_LT_Reversal_Factor',\n",
       " 'F-F_LT_Reversal_Factor_daily',\n",
       " '6_Portfolios_ME_Prior_60_13',\n",
       " '6_Portfolios_ME_Prior_60_13_Daily',\n",
       " '25_Portfolios_ME_Prior_60_13',\n",
       " '25_Portfolios_ME_Prior_60_13_Daily',\n",
       " '10_Portfolios_Prior_60_13',\n",
       " '10_Portfolios_Prior_60_13_Daily',\n",
       " 'Portfolios_Formed_on_AC',\n",
       " '25_Portfolios_ME_AC_5x5',\n",
       " 'Portfolios_Formed_on_BETA',\n",
       " '25_Portfolios_ME_BETA_5x5',\n",
       " 'Portfolios_Formed_on_NI',\n",
       " '25_Portfolios_ME_NI_5x5',\n",
       " 'Portfolios_Formed_on_VAR',\n",
       " '25_Portfolios_ME_VAR_5x5',\n",
       " 'Portfolios_Formed_on_RESVAR',\n",
       " '25_Portfolios_ME_RESVAR_5x5',\n",
       " '5_Industry_Portfolios',\n",
       " '5_Industry_Portfolios_Wout_Div',\n",
       " '5_Industry_Portfolios_daily',\n",
       " '10_Industry_Portfolios',\n",
       " '10_Industry_Portfolios_Wout_Div',\n",
       " '10_Industry_Portfolios_daily',\n",
       " '12_Industry_Portfolios',\n",
       " '12_Industry_Portfolios_Wout_Div',\n",
       " '12_Industry_Portfolios_daily',\n",
       " '17_Industry_Portfolios',\n",
       " '17_Industry_Portfolios_Wout_Div',\n",
       " '17_Industry_Portfolios_daily',\n",
       " '30_Industry_Portfolios',\n",
       " '30_Industry_Portfolios_Wout_Div',\n",
       " '30_Industry_Portfolios_daily',\n",
       " '38_Industry_Portfolios',\n",
       " '38_Industry_Portfolios_Wout_Div',\n",
       " '38_Industry_Portfolios_daily',\n",
       " '48_Industry_Portfolios',\n",
       " '48_Industry_Portfolios_Wout_Div',\n",
       " '48_Industry_Portfolios_daily',\n",
       " '49_Industry_Portfolios',\n",
       " '49_Industry_Portfolios_Wout_Div',\n",
       " '49_Industry_Portfolios_daily',\n",
       " 'ME_Breakpoints',\n",
       " 'BE-ME_Breakpoints',\n",
       " 'OP_Breakpoints',\n",
       " 'INV_Breakpoints',\n",
       " 'E-P_Breakpoints',\n",
       " 'CF-P_Breakpoints',\n",
       " 'D-P_Breakpoints',\n",
       " 'Prior_2-12_Breakpoints',\n",
       " 'Global_3_Factors',\n",
       " 'Global_3_Factors_Daily',\n",
       " 'Global_ex_US_3_Factors',\n",
       " 'Global_ex_US_3_Factors_Daily',\n",
       " 'Europe_3_Factors',\n",
       " 'Europe_3_Factors_Daily',\n",
       " 'Japan_3_Factors',\n",
       " 'Japan_3_Factors_Daily',\n",
       " 'Asia_Pacific_ex_Japan_3_Factors',\n",
       " 'Asia_Pacific_ex_Japan_3_Factors_Daily',\n",
       " 'North_America_3_Factors',\n",
       " 'North_America_3_Factors_Daily',\n",
       " 'Global_5_Factors',\n",
       " 'Global_5_Factors_Daily',\n",
       " 'Global_ex_US_5_Factors',\n",
       " 'Global_ex_US_5_Factors_Daily',\n",
       " 'Europe_5_Factors',\n",
       " 'Europe_5_Factors_Daily',\n",
       " 'Japan_5_Factors',\n",
       " 'Japan_5_Factors_Daily',\n",
       " 'Asia_Pacific_ex_Japan_5_Factors',\n",
       " 'Asia_Pacific_ex_Japan_5_Factors_Daily',\n",
       " 'North_America_5_Factors',\n",
       " 'North_America_5_Factors_Daily',\n",
       " 'Global_Mom_Factor',\n",
       " 'Global_Mom_Factor_Daily',\n",
       " 'Global_ex_US_Mom_Factor',\n",
       " 'Global_ex_US_Mom_Factor_Daily',\n",
       " 'Europe_Mom_Factor',\n",
       " 'Europe_Mom_Factor_Daily',\n",
       " 'Japan_Mom_Factor',\n",
       " 'Japan_Mom_Factor_Daily',\n",
       " 'Asia_Pacific_ex_Japan_MOM_Factor',\n",
       " 'Asia_Pacific_ex_Japan_MOM_Factor_Daily',\n",
       " 'North_America_Mom_Factor',\n",
       " 'North_America_Mom_Factor_Daily',\n",
       " 'Global_6_Portfolios_ME_BE-ME',\n",
       " 'Global_6_Portfolios_ME_BE-ME_daily',\n",
       " 'Global_ex_US_6_Portfolios_ME_BE-ME',\n",
       " 'Global_ex_US_6_Portfolios_ME_BE-ME_daily',\n",
       " 'Europe_6_Portfolios_ME_BE-ME',\n",
       " 'Europe_6_Portfolios_ME_BE-ME_daily',\n",
       " 'Japan_6_Portfolios_ME_BE-ME',\n",
       " 'Japan_6_Portfolios_ME_BE-ME_daily',\n",
       " 'Asia_Pacific_ex_Japan_6_Portfolios_ME_BE-ME',\n",
       " 'Asia_Pacific_ex_Japan_6_Portfolios_ME_BE-ME_daily',\n",
       " 'North_America_6_Portfolios_ME_BE-ME',\n",
       " 'North_America_6_Portfolios_ME_BE-ME_daily',\n",
       " 'Global_25_Portfolios_ME_BE-ME',\n",
       " 'Global_25_Portfolios_ME_BE-ME_daily',\n",
       " 'Global_ex_US_25_Portfolios_ME_BE-ME',\n",
       " 'Global_ex_US_25_Portfolios_ME_BE-ME_daily',\n",
       " 'Europe_25_Portfolios_ME_BE-ME',\n",
       " 'Europe_25_Portfolios_ME_BE-ME_daily',\n",
       " 'Japan_25_Portfolios_ME_BE-ME',\n",
       " 'Japan_25_Portfolios_ME_BE-ME_daily',\n",
       " 'Asia_Pacific_ex_Japan_25_Portfolios_ME_BE-ME',\n",
       " 'Asia_Pacific_ex_Japan_25_Portfolios_ME_BE-ME_daily',\n",
       " 'North_America_25_Portfolios_ME_BE-ME',\n",
       " 'North_America_25_Portfolios_ME_BE-ME_daily',\n",
       " 'Global_6_Portfolios_ME_OP',\n",
       " 'Global_6_Portfolios_ME_OP_Daily',\n",
       " 'Global_ex_US_6_Portfolios_ME_OP',\n",
       " 'Global_ex_US_6_Portfolios_ME_OP_Daily',\n",
       " 'Europe_6_Portfolios_ME_OP',\n",
       " 'Europe_6_Portfolios_ME_OP_Daily',\n",
       " 'Japan_6_Portfolios_ME_OP',\n",
       " 'Japan_6_Portfolios_ME_OP_Daily',\n",
       " 'Asia_Pacific_ex_Japan_6_Portfolios_ME_OP',\n",
       " 'Asia_Pacific_ex_Japan_6_Portfolios_ME_OP_Daily',\n",
       " 'North_America_6_Portfolios_ME_OP',\n",
       " 'North_America_6_Portfolios_ME_OP_Daily',\n",
       " 'Global_25_Portfolios_ME_OP',\n",
       " 'Global_25_Portfolios_ME_OP_Daily',\n",
       " 'Global_ex_US_25_Portfolios_ME_OP',\n",
       " 'Global_ex_US_25_Portfolios_ME_OP_Daily',\n",
       " 'Europe_25_Portfolios_ME_OP',\n",
       " 'Europe_25_Portfolios_ME_OP_Daily',\n",
       " 'Japan_25_Portfolios_ME_OP',\n",
       " 'Japan_25_Portfolios_ME_OP_Daily',\n",
       " 'Asia_Pacific_ex_Japan_25_Portfolios_ME_OP',\n",
       " 'Asia_Pacific_ex_Japan_25_Portfolios_ME_OP_Daily',\n",
       " 'North_America_25_Portfolios_ME_OP',\n",
       " 'North_America_25_Portfolios_ME_OP_Daily',\n",
       " 'Global_6_Portfolios_ME_INV',\n",
       " 'Global_6_Portfolios_ME_INV_Daily',\n",
       " 'Global_ex_US_6_Portfolios_ME_INV',\n",
       " 'Global_ex_US_6_Portfolios_ME_INV_Daily',\n",
       " 'Europe_6_Portfolios_ME_INV',\n",
       " 'Europe_6_Portfolios_ME_INV_Daily',\n",
       " 'Japan_6_Portfolios_ME_INV',\n",
       " 'Japan_6_Portfolios_ME_INV_Daily',\n",
       " 'Asia_Pacific_ex_Japan_6_Portfolios_ME_INV',\n",
       " 'Asia_Pacific_ex_Japan_6_Portfolios_ME_INV_Daily',\n",
       " 'North_America_6_Portfolios_ME_INV',\n",
       " 'North_America_6_Portfolios_ME_INV_Daily',\n",
       " 'Global_25_Portfolios_ME_INV',\n",
       " 'Global_25_Portfolios_ME_INV_Daily',\n",
       " 'Global_ex_US_25_Portfolios_ME_INV',\n",
       " 'Global_ex_US_25_Portfolios_ME_INV_Daily',\n",
       " 'Europe_25_Portfolios_ME_INV',\n",
       " 'Europe_25_Portfolios_ME_INV_Daily',\n",
       " 'Japan_25_Portfolios_ME_INV',\n",
       " 'Japan_25_Portfolios_ME_INV_Daily',\n",
       " 'Asia_Pacific_ex_Japan_25_Portfolios_ME_INV',\n",
       " 'Asia_Pacific_ex_Japan_25_Portfolios_ME_INV_Daily',\n",
       " 'North_America_25_Portfolios_ME_INV',\n",
       " 'North_America_25_Portfolios_ME_INV_Daily',\n",
       " 'Global_6_Portfolios_ME_Prior_12_2',\n",
       " 'Global_6_Portfolios_ME_Prior_250_20_daily',\n",
       " 'Global_ex_US_6_Portfolios_ME_Prior_12_2',\n",
       " 'Global_ex_US_6_Portfolios_ME_Prior_250_20_daily',\n",
       " 'Europe_6_Portfolios_ME_Prior_12_2',\n",
       " 'Europe_6_Portfolios_ME_Prior_250_20_daily',\n",
       " 'Japan_6_Portfolios_ME_Prior_12_2',\n",
       " 'Japan_6_Portfolios_ME_Prior_250_20_daily',\n",
       " 'Asia_Pacific_ex_Japan_6_Portfolios_ME_Prior_12_2',\n",
       " 'Asia_Pacific_ex_Japan_6_Portfolios_ME_Prior_250_20_daily',\n",
       " 'North_America_6_Portfolios_ME_Prior_12_2',\n",
       " 'North_America_6_Portfolios_ME_Prior_250_20_daily',\n",
       " 'Global_25_Portfolios_ME_Prior_12_2',\n",
       " 'Global_25_Portfolios_ME_Prior_250_20_daily',\n",
       " 'Global_ex_US_25_Portfolios_ME_Prior_12_2',\n",
       " 'Global_ex_US_25_Portfolios_ME_Prior_250_20_daily',\n",
       " 'Europe_25_Portfolios_ME_Prior_12_2',\n",
       " 'Europe_25_Portfolios_ME_Prior_250_20_daily',\n",
       " 'Japan_25_Portfolios_ME_Prior_12_2',\n",
       " 'Japan_25_Portfolios_ME_Prior_250_20_daily',\n",
       " 'Asia_Pacific_ex_Japan_25_Portfolios_ME_Prior_12_2',\n",
       " 'Asia_Pacific_ex_Japan_25_Portfolios_ME_Prior_250_20_daily',\n",
       " 'North_America_25_Portfolios_ME_Prior_12_2',\n",
       " 'North_America_25_Portfolios_ME_Prior_250_20_daily',\n",
       " 'Global_32_Portfolios_ME_BE-ME_OP_2x4x4',\n",
       " 'Global_ex_US_32_Portfolios_ME_BE-ME_OP_2x4x4',\n",
       " 'Europe_32_Portfolios_ME_BE-ME_OP_2x4x4',\n",
       " 'Japan_32_Portfolios_ME_BE-ME_OP_2x4x4',\n",
       " 'Asia_Pacific_ex_Japan_32_Portfolios_ME_BE-ME_OP_2x4x4',\n",
       " 'North_America_32_Portfolios_ME_BE-ME_OP_2x4x4',\n",
       " 'Global_32_Portfolios_ME_BE-ME_INV(TA)_2x4x4',\n",
       " 'Global_ex_US_32_Portfolios_ME_BE-ME_INV(TA)_2x4x4',\n",
       " 'Europe_32_Portfolios_ME_BE-ME_INV(TA)_2x4x4',\n",
       " 'Japan_32_Portfolios_ME_BE-ME_INV(TA)_2x4x4',\n",
       " 'Asia_Pacific_ex_Japan_32_Portfolios_ME_BE-ME_INV(TA)_2x4x4',\n",
       " 'North_America_32_Portfolios_ME_BE-ME_INV(TA)_2x4x4',\n",
       " 'Global_32_Portfolios_ME_INV(TA)_OP_2x4x4',\n",
       " 'Global_ex_US_32_Portfolios_ME_INV(TA)_OP_2x4x4',\n",
       " 'Europe_32_Portfolios_ME_INV(TA)_OP_2x4x4',\n",
       " 'Japan_32_Portfolios_ME_INV(TA)_OP_2x4x4',\n",
       " 'Asia_Pacific_ex_Japan_32_Portfolios_ME_INV(TA)_OP_2x4x4',\n",
       " 'North_America_32_Portfolios_ME_INV(TA)_OP_2x4x4']"
      ]
     },
     "execution_count": 45,
     "metadata": {},
     "output_type": "execute_result"
    }
   ],
   "source": [
    "from pandas_datareader.famafrench import get_available_datasets\n",
    "get_available_datasets()"
   ]
  },
  {
   "cell_type": "code",
   "execution_count": null,
   "metadata": {},
   "outputs": [],
   "source": []
  },
  {
   "cell_type": "code",
   "execution_count": 44,
   "metadata": {},
   "outputs": [
    {
     "name": "stdout",
     "output_type": "stream",
     "text": [
      "5 Industry Portfolios\n",
      "---------------------\n",
      "\n",
      "This file was created by CMPT_IND_RETS using the 201804 CRSP database. It contains value- and equal-weighted returns for 5 industry portfolios. The portfolios are constructed at the end of June. The annual returns are from January to December. Missing data are indicated by -99.99 or -999. Copyright 2018 Kenneth R. French\n",
      "\n",
      "  0 : Average Value Weighted Returns -- Monthly (100 rows x 5 cols)\n",
      "  1 : Average Equal Weighted Returns -- Monthly (100 rows x 5 cols)\n",
      "  2 : Average Value Weighted Returns -- Annual (8 rows x 5 cols)\n",
      "  3 : Average Equal Weighted Returns -- Annual (8 rows x 5 cols)\n",
      "  4 : Number of Firms in Portfolios (100 rows x 5 cols)\n",
      "  5 : Average Firm Size (100 rows x 5 cols)\n",
      "  6 : Sum of BE / Sum of ME (8 rows x 5 cols)\n",
      "  7 : Value-Weighted Average of BE/ME (8 rows x 5 cols)\n"
     ]
    }
   ],
   "source": [
    "ds = web.DataReader('5_Industry_Portfolios', 'famafrench')\n",
    "print(ds['DESCR'])"
   ]
  },
  {
   "cell_type": "markdown",
   "metadata": {},
   "source": [
    "### World Bank"
   ]
  },
  {
   "cell_type": "code",
   "execution_count": null,
   "metadata": {},
   "outputs": [],
   "source": []
  },
  {
   "cell_type": "code",
   "execution_count": null,
   "metadata": {},
   "outputs": [],
   "source": []
  },
  {
   "cell_type": "markdown",
   "metadata": {},
   "source": [
    "### OECD"
   ]
  },
  {
   "cell_type": "code",
   "execution_count": null,
   "metadata": {},
   "outputs": [],
   "source": []
  },
  {
   "cell_type": "markdown",
   "metadata": {},
   "source": [
    "### EuroStat"
   ]
  },
  {
   "cell_type": "code",
   "execution_count": null,
   "metadata": {},
   "outputs": [],
   "source": []
  },
  {
   "cell_type": "code",
   "execution_count": null,
   "metadata": {},
   "outputs": [],
   "source": []
  },
  {
   "cell_type": "code",
   "execution_count": null,
   "metadata": {},
   "outputs": [],
   "source": []
  },
  {
   "cell_type": "markdown",
   "metadata": {},
   "source": [
    "\n",
    "\n",
    "### Stooq"
   ]
  },
  {
   "cell_type": "markdown",
   "metadata": {},
   "source": [
    "SP500 - Sourced from Shiller?\n",
    "lots of stuff, hard to navigate, eastern europe"
   ]
  },
  {
   "cell_type": "code",
   "execution_count": 5,
   "metadata": {},
   "outputs": [
    {
     "data": {
      "text/plain": [
       "48"
      ]
     },
     "execution_count": 5,
     "metadata": {},
     "output_type": "execute_result"
    }
   ],
   "source": [
    "index_url = 'https://stooq.com/t/'\n",
    "ix = pd.read_html(index_url)\n",
    "len(ix)"
   ]
  },
  {
   "cell_type": "code",
   "execution_count": 4,
   "metadata": {},
   "outputs": [
    {
     "name": "stdout",
     "output_type": "stream",
     "text": [
      "<class 'pandas.core.frame.DataFrame'>\n",
      "DatetimeIndex: 37699 entries, 2018-06-01 to 1789-05-01\n",
      "Data columns (total 5 columns):\n",
      "Open      37699 non-null float64\n",
      "High      37699 non-null float64\n",
      "Low       37699 non-null float64\n",
      "Close     37699 non-null float64\n",
      "Volume    17302 non-null float64\n",
      "dtypes: float64(5)\n",
      "memory usage: 1.7 MB\n"
     ]
    }
   ],
   "source": [
    "import pandas_datareader.data as web\n",
    "f = web.DataReader('^SPX', 'stooq', start='20000101')\n",
    "f.info()"
   ]
  },
  {
   "cell_type": "code",
   "execution_count": 5,
   "metadata": {},
   "outputs": [
    {
     "data": {
      "text/html": [
       "<div>\n",
       "<style scoped>\n",
       "    .dataframe tbody tr th:only-of-type {\n",
       "        vertical-align: middle;\n",
       "    }\n",
       "\n",
       "    .dataframe tbody tr th {\n",
       "        vertical-align: top;\n",
       "    }\n",
       "\n",
       "    .dataframe thead th {\n",
       "        text-align: right;\n",
       "    }\n",
       "</style>\n",
       "<table border=\"1\" class=\"dataframe\">\n",
       "  <thead>\n",
       "    <tr style=\"text-align: right;\">\n",
       "      <th></th>\n",
       "      <th>Open</th>\n",
       "      <th>High</th>\n",
       "      <th>Low</th>\n",
       "      <th>Close</th>\n",
       "      <th>Volume</th>\n",
       "    </tr>\n",
       "    <tr>\n",
       "      <th>Date</th>\n",
       "      <th></th>\n",
       "      <th></th>\n",
       "      <th></th>\n",
       "      <th></th>\n",
       "      <th></th>\n",
       "    </tr>\n",
       "  </thead>\n",
       "  <tbody>\n",
       "    <tr>\n",
       "      <th>2018-05-14</th>\n",
       "      <td>2733.37</td>\n",
       "      <td>2742.10</td>\n",
       "      <td>2725.47</td>\n",
       "      <td>2730.13</td>\n",
       "      <td>NaN</td>\n",
       "    </tr>\n",
       "    <tr>\n",
       "      <th>2018-05-11</th>\n",
       "      <td>2722.70</td>\n",
       "      <td>2732.86</td>\n",
       "      <td>2717.45</td>\n",
       "      <td>2727.72</td>\n",
       "      <td>501534720.0</td>\n",
       "    </tr>\n",
       "    <tr>\n",
       "      <th>2018-05-10</th>\n",
       "      <td>2705.02</td>\n",
       "      <td>2726.11</td>\n",
       "      <td>2704.54</td>\n",
       "      <td>2723.07</td>\n",
       "      <td>480040800.0</td>\n",
       "    </tr>\n",
       "    <tr>\n",
       "      <th>2018-05-09</th>\n",
       "      <td>2678.12</td>\n",
       "      <td>2701.27</td>\n",
       "      <td>2674.14</td>\n",
       "      <td>2697.79</td>\n",
       "      <td>538958336.0</td>\n",
       "    </tr>\n",
       "    <tr>\n",
       "      <th>2018-05-08</th>\n",
       "      <td>2670.26</td>\n",
       "      <td>2676.34</td>\n",
       "      <td>2655.20</td>\n",
       "      <td>2671.92</td>\n",
       "      <td>572165056.0</td>\n",
       "    </tr>\n",
       "  </tbody>\n",
       "</table>\n",
       "</div>"
      ],
      "text/plain": [
       "               Open     High      Low    Close       Volume\n",
       "Date                                                       \n",
       "2018-05-14  2733.37  2742.10  2725.47  2730.13          NaN\n",
       "2018-05-11  2722.70  2732.86  2717.45  2727.72  501534720.0\n",
       "2018-05-10  2705.02  2726.11  2704.54  2723.07  480040800.0\n",
       "2018-05-09  2678.12  2701.27  2674.14  2697.79  538958336.0\n",
       "2018-05-08  2670.26  2676.34  2655.20  2671.92  572165056.0"
      ]
     },
     "execution_count": 5,
     "metadata": {},
     "output_type": "execute_result"
    }
   ],
   "source": [
    "f.head()"
   ]
  },
  {
   "cell_type": "code",
   "execution_count": 8,
   "metadata": {},
   "outputs": [],
   "source": [
    "f.to_csv('sp_test.csv')"
   ]
  },
  {
   "cell_type": "code",
   "execution_count": 6,
   "metadata": {},
   "outputs": [
    {
     "data": {
      "text/plain": [
       "<matplotlib.axes._subplots.AxesSubplot at 0x7fabf11cc7b8>"
      ]
     },
     "execution_count": 6,
     "metadata": {},
     "output_type": "execute_result"
    },
    {
     "data": {
      "image/png": "[encoded data removed]",
      "text/plain": [
       "<Figure size 432x288 with 1 Axes>"
      ]
     },
     "metadata": {},
     "output_type": "display_data"
    }
   ],
   "source": [
    "%matplotlib inline\n",
    "f.resample('M').Close.mean().plot()"
   ]
  },
  {
   "cell_type": "markdown",
   "metadata": {},
   "source": [
    "### NASDAQ Symbols"
   ]
  },
  {
   "cell_type": "code",
   "execution_count": 9,
   "metadata": {},
   "outputs": [
    {
     "name": "stdout",
     "output_type": "stream",
     "text": [
      "<class 'pandas.core.frame.DataFrame'>\n",
      "Index: 8583 entries, A to ZYNE\n",
      "Data columns (total 11 columns):\n",
      "Nasdaq Traded       8583 non-null bool\n",
      "Security Name       8583 non-null object\n",
      "Listing Exchange    8583 non-null category\n",
      "Market Category     8583 non-null object\n",
      "ETF                 8583 non-null bool\n",
      "Round Lot Size      8583 non-null float64\n",
      "Test Issue          8583 non-null bool\n",
      "Financial Status    3312 non-null category\n",
      "CQS Symbol          5271 non-null object\n",
      "NASDAQ Symbol       8583 non-null object\n",
      "NextShares          8583 non-null bool\n",
      "dtypes: bool(4), category(2), float64(1), object(4)\n",
      "memory usage: 452.7+ KB\n"
     ]
    }
   ],
   "source": [
    "from pandas_datareader.nasdaq_trader import get_nasdaq_symbols\n",
    "symbols = get_nasdaq_symbols()\n",
    "symbols.info()"
   ]
  },
  {
   "cell_type": "code",
   "execution_count": 11,
   "metadata": {},
   "outputs": [
    {
     "data": {
      "text/plain": [
       "4"
      ]
     },
     "execution_count": 11,
     "metadata": {},
     "output_type": "execute_result"
    }
   ],
   "source": [
    "url = 'https://www.nasdaq.com/screening/companies-by-industry.aspx?exchange=NASDAQ'\n",
    "res = pd.read_html(url)\n",
    "len(res)"
   ]
  },
  {
   "cell_type": "code",
   "execution_count": 13,
   "metadata": {},
   "outputs": [
    {
     "name": "stdout",
     "output_type": "stream",
     "text": [
      "<class 'pandas.core.frame.DataFrame'>\n",
      "RangeIndex: 1 entries, 0 to 0\n",
      "Data columns (total 2 columns):\n",
      "0    1 non-null object\n",
      "1    1 non-null object\n",
      "dtypes: object(2)\n",
      "memory usage: 96.0+ bytes\n",
      "None\n",
      "<class 'pandas.core.frame.DataFrame'>\n",
      "RangeIndex: 100 entries, 0 to 99\n",
      "Data columns (total 7 columns):\n",
      "Name          100 non-null object\n",
      "Symbol        50 non-null object\n",
      "Market Cap    50 non-null object\n",
      "ADR TSO       4 non-null float64\n",
      "Country       50 non-null object\n",
      "IPO Year      50 non-null object\n",
      "Subsector     50 non-null object\n",
      "dtypes: float64(1), object(6)\n",
      "memory usage: 5.5+ KB\n",
      "None\n",
      "<class 'pandas.core.frame.DataFrame'>\n",
      "RangeIndex: 1 entries, 0 to 0\n",
      "Data columns (total 1 columns):\n",
      "0    1 non-null object\n",
      "dtypes: object(1)\n",
      "memory usage: 88.0+ bytes\n",
      "None\n",
      "<class 'pandas.core.frame.DataFrame'>\n",
      "RangeIndex: 1 entries, 0 to 0\n",
      "Data columns (total 1 columns):\n",
      "0    1 non-null object\n",
      "dtypes: object(1)\n",
      "memory usage: 88.0+ bytes\n",
      "None\n"
     ]
    }
   ],
   "source": [
    "for r in res:\n",
    "    print(r.info())"
   ]
  },
  {
   "cell_type": "markdown",
   "metadata": {},
   "source": [
    "### Tiingo"
   ]
  },
  {
   "cell_type": "code",
   "execution_count": 1,
   "metadata": {},
   "outputs": [],
   "source": [
    "import pandas_datareader.data as pdr\n",
    "import os\n",
    "df = pdr.get_data_tiingo('GOOG', api_key=os.getenv('TIINGO_API_KEY'))"
   ]
  },
  {
   "cell_type": "code",
   "execution_count": 2,
   "metadata": {},
   "outputs": [
    {
     "name": "stdout",
     "output_type": "stream",
     "text": [
      "<class 'pandas.core.frame.DataFrame'>\n",
      "MultiIndex: 1055 entries, (GOOG, 2014-03-27 00:00:00) to (GOOG, 2018-06-04 00:00:00)\n",
      "Data columns (total 12 columns):\n",
      "adjClose       1055 non-null float64\n",
      "adjHigh        1055 non-null float64\n",
      "adjLow         1055 non-null float64\n",
      "adjOpen        1055 non-null float64\n",
      "adjVolume      1055 non-null int64\n",
      "close          1055 non-null float64\n",
      "divCash        1055 non-null float64\n",
      "high           1055 non-null float64\n",
      "low            1055 non-null float64\n",
      "open           1055 non-null float64\n",
      "splitFactor    1055 non-null float64\n",
      "volume         1055 non-null int64\n",
      "dtypes: float64(10), int64(2)\n",
      "memory usage: 107.1+ KB\n"
     ]
    }
   ],
   "source": [
    "df.info()"
   ]
  },
  {
   "cell_type": "code",
   "execution_count": null,
   "metadata": {},
   "outputs": [],
   "source": []
  }
 ],
 "metadata": {
  "kernelspec": {
   "display_name": "Python 3",
   "language": "python",
   "name": "python3"
  },
  "language_info": {
   "codemirror_mode": {
    "name": "ipython",
    "version": 3
   },
   "file_extension": ".py",
   "mimetype": "text/x-python",
   "name": "python",
   "nbconvert_exporter": "python",
   "pygments_lexer": "ipython3",
   "version": "3.6.4"
  },
  "toc": {
   "base_numbering": 1,
   "nav_menu": {},
   "number_sections": true,
   "sideBar": true,
   "skip_h1_title": false,
   "title_cell": "Table of Contents",
   "title_sidebar": "Contents",
   "toc_cell": false,
   "toc_position": {},
   "toc_section_display": true,
   "toc_window_display": true
  }
 },
 "nbformat": 4,
 "nbformat_minor": 2
}
